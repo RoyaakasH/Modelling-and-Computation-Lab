{
  "nbformat": 4,
  "nbformat_minor": 0,
  "metadata": {
    "colab": {
      "name": "21i190007_IE507_Lab3_Ex2.ipynb",
      "provenance": []
    },
    "kernelspec": {
      "name": "python3",
      "display_name": "Python 3"
    },
    "language_info": {
      "name": "python"
    }
  },
  "cells": [
    {
      "cell_type": "markdown",
      "metadata": {
        "id": "7cEn_9_wcXzg"
      },
      "source": [
        "$$Exercise: 2$$"
      ]
    },
    {
      "cell_type": "markdown",
      "metadata": {
        "id": "HoCOWPt79Jsh"
      },
      "source": [
        "$1.\\;We\\;define\\;the\\;decesion\\;variables\\;as\\;follows:$\n",
        "$x_i=\n",
        "\\begin{array}{cc}\n",
        "  \\{ & \n",
        "    \\begin{array}{cc}\n",
        "      1 & when\\;C_i\\;course\\;is\\;selected \\\\\n",
        "      0 & else\n",
        "    \\end{array}\n",
        "\\end{array}\n",
        "$ \\\\\n",
        "$We\\; are\\; taking\\; the \\;decesion \\;variables \\;as \\;binary \\;i.e\\;x_i\\; \\in \\mathbb{Z}\\; with\\;0\\leq x_i\\leq1\\;because,\\; there \\;are \\;only \\;two \\;cases, \\;either\\; the\\; respective\\; course\\;is\\; selected or not selected.$\n",
        "$c_i\\;denotes\\;the\\;credit\\;of\\;C_i\\;course.$ \\\\\n",
        "$Mathematical\\;Model:$\n",
        "$ \\ max. \\ \\sum_{i=0}^{10}c_ix_i$ \\\\\n",
        " $Such\\;that,$ \\\\\n",
        " $5 \\leq \\sum_{i=0}^{10}x_i \\leq 9; \\\\\n",
        " \\sum_{i=0}^{10}c_i.x_i \\geq 30;\\\\\n",
        "  x_2+x_7 \\leq 1;\\\\x_4+x_9 \\leq 1 ;\\\\x_2+x_8 \\leq 1;\\\\1 \\leq x_0+x_1+x_2 \\leq 2;\\\\x_5+x_6 \\leq 1;\\\\x_3+x_6+x_9 \\leq 2;\\\\ x_{10}-x_0 \\leq 0;$"
      ]
    },
    {
      "cell_type": "markdown",
      "metadata": {
        "id": "6GCGDDMKcyqP"
      },
      "source": [
        "$2.\\;Using\\; pyomo \\;to \\;construct\\; model.$"
      ]
    },
    {
      "cell_type": "code",
      "metadata": {
        "colab": {
          "base_uri": "https://localhost:8080/"
        },
        "id": "DYAhS4ikRcPm",
        "outputId": "dba33d4a-c802-4d7f-d73d-bc3ab07517e2"
      },
      "source": [
        "!pip install -q pyomo"
      ],
      "execution_count": null,
      "outputs": [
        {
          "output_type": "stream",
          "text": [
            "\u001b[K     |████████████████████████████████| 9.1 MB 5.3 MB/s \n",
            "\u001b[K     |████████████████████████████████| 49 kB 5.2 MB/s \n",
            "\u001b[?25h"
          ],
          "name": "stdout"
        }
      ]
    },
    {
      "cell_type": "code",
      "metadata": {
        "id": "irYUXyqyfExP"
      },
      "source": [
        "from pyomo.environ import *"
      ],
      "execution_count": null,
      "outputs": []
    },
    {
      "cell_type": "code",
      "metadata": {
        "id": "k9vhlA1DfGYQ"
      },
      "source": [
        "import numpy as np"
      ],
      "execution_count": null,
      "outputs": []
    },
    {
      "cell_type": "code",
      "metadata": {
        "id": "M1y4vzUofJCr"
      },
      "source": [
        "model_ex2 = ConcreteModel()\n",
        "model_ex2.constraints = ConstraintList()"
      ],
      "execution_count": null,
      "outputs": []
    },
    {
      "cell_type": "code",
      "metadata": {
        "id": "3V8wIXMGjevB"
      },
      "source": [
        "N = 11\n",
        "M = 11\n",
        "row_indices=np.arange(M)\n",
        "lb = np.array([0,0,0,0,0,0,0,0,0,0,0])\n",
        "ub = np.array([1,1,1,1,1,1,1,1,1,1,1]) "
      ],
      "execution_count": null,
      "outputs": []
    },
    {
      "cell_type": "code",
      "metadata": {
        "colab": {
          "base_uri": "https://localhost:8080/"
        },
        "id": "Sv62ZaEPrmbc",
        "outputId": "6e6f28fa-7858-4deb-8929-bf448a747b30"
      },
      "source": [
        "print(row_indices)"
      ],
      "execution_count": null,
      "outputs": [
        {
          "output_type": "stream",
          "text": [
            "[ 0  1  2  3  4  5  6  7  8  9 10]\n"
          ],
          "name": "stdout"
        }
      ]
    },
    {
      "cell_type": "code",
      "metadata": {
        "id": "7hB9UrSkfPtp"
      },
      "source": [
        "obj_coef_c = np.array([3,2,6,5,5,4,6,8,8,5,4]) "
      ],
      "execution_count": null,
      "outputs": []
    },
    {
      "cell_type": "code",
      "metadata": {
        "id": "K6r-DSVofnhe"
      },
      "source": [
        "constr_coef=np.array([[1,1,1,1,1,1,1,1,1,1,1],[-1,-1,-1,-1,-1,-1,-1,-1,-1,-1,-1],[-3,-2,-6,-5,-5,-4,-6,-8,-8,-5,-4],[0,0,1,0,0,0,0,1,0,0,0],[0,0,0,0,1,0,0,0,0,1,0],[0,0,1,0,0,0,0,0,1,0,0],[0,0,0,0,0,1,1,0,0,0,0],[0,0,0,1,0,0,1,0,0,1,0],[-1,0,0,0,0,0,0,0,0,0,1],[1,1,1,0,0,0,0,0,0,0,0],[-1,-1,-1,0,0,0,0,0,0,0,0]])\n",
        "constr_rhs_b=np.array([9,-5,-30,1,1,1,1,2,0,2,-1])"
      ],
      "execution_count": null,
      "outputs": []
    },
    {
      "cell_type": "code",
      "metadata": {
        "colab": {
          "base_uri": "https://localhost:8080/"
        },
        "id": "jWCRekBUkRHK",
        "outputId": "c5257d78-d568-4ea2-915a-d4b0d4034963"
      },
      "source": [
        "col_indices = np.arange(N)\n",
        "print(col_indices)"
      ],
      "execution_count": null,
      "outputs": [
        {
          "output_type": "stream",
          "text": [
            "[ 0  1  2  3  4  5  6  7  8  9 10]\n"
          ],
          "name": "stdout"
        }
      ]
    },
    {
      "cell_type": "code",
      "metadata": {
        "id": "AQbFSY1AiiUH"
      },
      "source": [
        "model_ex2.x = Var(col_indices, domain=Binary)"
      ],
      "execution_count": null,
      "outputs": []
    },
    {
      "cell_type": "code",
      "metadata": {
        "id": "ejlZ4pbynex0"
      },
      "source": [
        "for i in row_indices:\n",
        "  model_ex2.constraints.add(sum(constr_coef[i][j]*model_ex2.x[j] for j in col_indices) <= constr_rhs_b[i])"
      ],
      "execution_count": null,
      "outputs": []
    },
    {
      "cell_type": "code",
      "metadata": {
        "colab": {
          "base_uri": "https://localhost:8080/"
        },
        "id": "cToHMNtymTF8",
        "outputId": "e3294243-4859-44a3-8272-82610f760bfe"
      },
      "source": [
        "model_ex2.objective = Objective(expr =summation(obj_coef_c[0:11],model_ex2.x) , sense=maximize)\n",
        "\n",
        "model_ex2.pprint() "
      ],
      "execution_count": null,
      "outputs": [
        {
          "output_type": "stream",
          "text": [
            "2 Set Declarations\n",
            "    constraints_index : Size=1, Index=None, Ordered=Insertion\n",
            "        Key  : Dimen : Domain : Size : Members\n",
            "        None :     1 :    Any :   11 : {1, 2, 3, 4, 5, 6, 7, 8, 9, 10, 11}\n",
            "    x_index : Size=1, Index=None, Ordered=False\n",
            "        Key  : Dimen : Domain : Size : Members\n",
            "        None :     1 :    Any :   11 : {0, 1, 2, 3, 4, 5, 6, 7, 8, 9, 10}\n",
            "\n",
            "1 Var Declarations\n",
            "    x : Size=11, Index=x_index\n",
            "        Key : Lower : Value : Upper : Fixed : Stale : Domain\n",
            "          0 :     0 :  None :     1 : False :  True : Binary\n",
            "          1 :     0 :  None :     1 : False :  True : Binary\n",
            "          2 :     0 :  None :     1 : False :  True : Binary\n",
            "          3 :     0 :  None :     1 : False :  True : Binary\n",
            "          4 :     0 :  None :     1 : False :  True : Binary\n",
            "          5 :     0 :  None :     1 : False :  True : Binary\n",
            "          6 :     0 :  None :     1 : False :  True : Binary\n",
            "          7 :     0 :  None :     1 : False :  True : Binary\n",
            "          8 :     0 :  None :     1 : False :  True : Binary\n",
            "          9 :     0 :  None :     1 : False :  True : Binary\n",
            "         10 :     0 :  None :     1 : False :  True : Binary\n",
            "\n",
            "1 Objective Declarations\n",
            "    objective : Size=1, Index=None, Active=True\n",
            "        Key  : Active : Sense    : Expression\n",
            "        None :   True : maximize : 3*x[0] + 2*x[1] + 6*x[2] + 5*x[3] + 5*x[4] + 4*x[5] + 6*x[6] + 8*x[7] + 8*x[8] + 5*x[9] + 4*x[10]\n",
            "\n",
            "1 Constraint Declarations\n",
            "    constraints : Size=11, Index=constraints_index, Active=True\n",
            "        Key : Lower : Body                                                                                               : Upper : Active\n",
            "          1 :  -Inf :                        x[0] + x[1] + x[2] + x[3] + x[4] + x[5] + x[6] + x[7] + x[8] + x[9] + x[10] :   9.0 :   True\n",
            "          2 :  -Inf :                      - x[0] - x[1] - x[2] - x[3] - x[4] - x[5] - x[6] - x[7] - x[8] - x[9] - x[10] :  -5.0 :   True\n",
            "          3 :  -Inf : -3*x[0] - 2*x[1] - 6*x[2] - 5*x[3] - 5*x[4] - 4*x[5] - 6*x[6] - 8*x[7] - 8*x[8] - 5*x[9] - 4*x[10] : -30.0 :   True\n",
            "          4 :  -Inf :                                                                                        x[2] + x[7] :   1.0 :   True\n",
            "          5 :  -Inf :                                                                                        x[4] + x[9] :   1.0 :   True\n",
            "          6 :  -Inf :                                                                                        x[2] + x[8] :   1.0 :   True\n",
            "          7 :  -Inf :                                                                                        x[5] + x[6] :   1.0 :   True\n",
            "          8 :  -Inf :                                                                                 x[3] + x[6] + x[9] :   2.0 :   True\n",
            "          9 :  -Inf :                                                                                     - x[0] + x[10] :   0.0 :   True\n",
            "         10 :  -Inf :                                                                                 x[0] + x[1] + x[2] :   2.0 :   True\n",
            "         11 :  -Inf :                                                                               - x[0] - x[1] - x[2] :  -1.0 :   True\n",
            "\n",
            "5 Declarations: constraints_index constraints x_index x objective\n"
          ],
          "name": "stdout"
        }
      ]
    },
    {
      "cell_type": "markdown",
      "metadata": {
        "id": "ObS9y5PUg9K4"
      },
      "source": [
        "$3.\\;Solving\\;the\\;MILP\\;using\\;cbc\\;solver:$"
      ]
    },
    {
      "cell_type": "code",
      "metadata": {
        "colab": {
          "base_uri": "https://localhost:8080/"
        },
        "id": "uA5KJvGHtdYX",
        "outputId": "da6d1df8-ef47-4675-ae1d-4a28c9162731"
      },
      "source": [
        "!apt-get install -y -qq coinor-cbc"
      ],
      "execution_count": null,
      "outputs": [
        {
          "output_type": "stream",
          "text": [
            "Selecting previously unselected package coinor-libcoinutils3v5.\n",
            "(Reading database ... 148486 files and directories currently installed.)\n",
            "Preparing to unpack .../0-coinor-libcoinutils3v5_2.10.14+repack1-1_amd64.deb ...\n",
            "Unpacking coinor-libcoinutils3v5 (2.10.14+repack1-1) ...\n",
            "Selecting previously unselected package coinor-libosi1v5.\n",
            "Preparing to unpack .../1-coinor-libosi1v5_0.107.9+repack1-1_amd64.deb ...\n",
            "Unpacking coinor-libosi1v5 (0.107.9+repack1-1) ...\n",
            "Selecting previously unselected package coinor-libclp1.\n",
            "Preparing to unpack .../2-coinor-libclp1_1.16.11+repack1-1_amd64.deb ...\n",
            "Unpacking coinor-libclp1 (1.16.11+repack1-1) ...\n",
            "Selecting previously unselected package coinor-libcgl1.\n",
            "Preparing to unpack .../3-coinor-libcgl1_0.59.10+repack1-1_amd64.deb ...\n",
            "Unpacking coinor-libcgl1 (0.59.10+repack1-1) ...\n",
            "Selecting previously unselected package coinor-libcbc3.\n",
            "Preparing to unpack .../4-coinor-libcbc3_2.9.9+repack1-1_amd64.deb ...\n",
            "Unpacking coinor-libcbc3 (2.9.9+repack1-1) ...\n",
            "Selecting previously unselected package coinor-cbc.\n",
            "Preparing to unpack .../5-coinor-cbc_2.9.9+repack1-1_amd64.deb ...\n",
            "Unpacking coinor-cbc (2.9.9+repack1-1) ...\n",
            "Setting up coinor-libcoinutils3v5 (2.10.14+repack1-1) ...\n",
            "Setting up coinor-libosi1v5 (0.107.9+repack1-1) ...\n",
            "Setting up coinor-libclp1 (1.16.11+repack1-1) ...\n",
            "Setting up coinor-libcgl1 (0.59.10+repack1-1) ...\n",
            "Setting up coinor-libcbc3 (2.9.9+repack1-1) ...\n",
            "Setting up coinor-cbc (2.9.9+repack1-1) ...\n",
            "Processing triggers for man-db (2.8.3-2ubuntu0.1) ...\n",
            "Processing triggers for libc-bin (2.27-3ubuntu1.2) ...\n",
            "/sbin/ldconfig.real: /usr/local/lib/python3.7/dist-packages/ideep4py/lib/libmkldnn.so.0 is not a symbolic link\n",
            "\n"
          ],
          "name": "stdout"
        }
      ]
    },
    {
      "cell_type": "code",
      "metadata": {
        "id": "f-b-gnOYteCN"
      },
      "source": [
        "opt_cbc = SolverFactory('cbc')"
      ],
      "execution_count": null,
      "outputs": []
    },
    {
      "cell_type": "code",
      "metadata": {
        "colab": {
          "base_uri": "https://localhost:8080/"
        },
        "id": "LzLvTLKltgdP",
        "outputId": "9ed7f2ad-4a8e-49e7-b452-2c711addbc17"
      },
      "source": [
        "result = opt_cbc.solve(model_ex2)\n",
        "print(result)\n",
        "\n",
        "print('Solver status:', result.solver.status)\n",
        "print('Solver termination condition:',result.solver.termination_condition)"
      ],
      "execution_count": null,
      "outputs": [
        {
          "output_type": "stream",
          "text": [
            "\n",
            "Problem: \n",
            "- Name: unknown\n",
            "  Lower bound: 41.0\n",
            "  Upper bound: 41.0\n",
            "  Number of objectives: 1\n",
            "  Number of constraints: 11\n",
            "  Number of variables: 11\n",
            "  Number of binary variables: 11\n",
            "  Number of integer variables: 11\n",
            "  Number of nonzeros: 11\n",
            "  Sense: maximize\n",
            "Solver: \n",
            "- Status: ok\n",
            "  User time: -1.0\n",
            "  System time: 0.0\n",
            "  Wallclock time: 0.0\n",
            "  Termination condition: optimal\n",
            "  Termination message: Model was solved to optimality (subject to tolerances), and an optimal solution is available.\n",
            "  Statistics: \n",
            "    Branch and bound: \n",
            "      Number of bounded subproblems: 0\n",
            "      Number of created subproblems: 0\n",
            "    Black box: \n",
            "      Number of iterations: 0\n",
            "  Error rc: 0\n",
            "  Time: 0.01838827133178711\n",
            "Solution: \n",
            "- number of solutions: 0\n",
            "  number of solutions displayed: 0\n",
            "\n",
            "Solver status: ok\n",
            "Solver termination condition: optimal\n"
          ],
          "name": "stdout"
        }
      ]
    },
    {
      "cell_type": "markdown",
      "metadata": {
        "id": "TKCUVB6Gnk1-"
      },
      "source": [
        "$3.\\;Reporting\\; the\\;  optimal\\;  values\\;  of \\; the \\; variables\\;  and\\;  the\\; objective \\; function\\;  value.$"
      ]
    },
    {
      "cell_type": "code",
      "metadata": {
        "colab": {
          "base_uri": "https://localhost:8080/"
        },
        "id": "WEgt2Li5vmdG",
        "outputId": "c719b0af-a02b-4378-9d24-b39d1f218326"
      },
      "source": [
        "# display solution\n",
        "print('\\nObjective = ', model_ex2.objective())\n",
        "\n",
        "print('\\nDecision Variables')\n",
        "for i in col_indices:\n",
        "  print('x'+str(i)+'= ', model_ex2.x[i].value) \n",
        "print('\\nConstraints')\n",
        "model_ex2.constraints.display()"
      ],
      "execution_count": null,
      "outputs": [
        {
          "output_type": "stream",
          "text": [
            "\n",
            "Objective =  41.0\n",
            "\n",
            "Decision Variables\n",
            "x0=  1.0\n",
            "x1=  1.0\n",
            "x2=  0.0\n",
            "x3=  1.0\n",
            "x4=  1.0\n",
            "x5=  0.0\n",
            "x6=  1.0\n",
            "x7=  1.0\n",
            "x8=  1.0\n",
            "x9=  0.0\n",
            "x10=  1.0\n",
            "\n",
            "Constraints\n",
            "constraints : Size=11\n",
            "    Key : Lower : Body  : Upper\n",
            "      1 :  None :   8.0 :   9.0\n",
            "      2 :  None :  -8.0 :  -5.0\n",
            "      3 :  None : -41.0 : -30.0\n",
            "      4 :  None :   1.0 :   1.0\n",
            "      5 :  None :   1.0 :   1.0\n",
            "      6 :  None :   1.0 :   1.0\n",
            "      7 :  None :   1.0 :   1.0\n",
            "      8 :  None :   2.0 :   2.0\n",
            "      9 :  None :   0.0 :   0.0\n",
            "     10 :  None :   2.0 :   2.0\n",
            "     11 :  None :  -2.0 :  -1.0\n"
          ],
          "name": "stdout"
        }
      ]
    },
    {
      "cell_type": "markdown",
      "metadata": {
        "id": "xUKbZr3S9hXc"
      },
      "source": [
        "$4.\\;Removing \\;the\\; restrictions\\; that\\;the \\;variables\\; in \\;the \\;above \\;problem \\;are\\; integers\\;and\\; Solving\\; this\\; modified\\; problem \\;and reporting\\; the\\;\n",
        "optimal \\;values\\;of \\;the\\; variables\\; and \\;the \\;objective\\; function \\;value.$"
      ]
    },
    {
      "cell_type": "code",
      "metadata": {
        "id": "WOCx0KxU9qVN"
      },
      "source": [
        "model_ex2.constraints_new = ConstraintList()"
      ],
      "execution_count": null,
      "outputs": []
    },
    {
      "cell_type": "code",
      "metadata": {
        "id": "WGoHsoPR9kjQ"
      },
      "source": [
        "model_ex2.y = Var(col_indices)"
      ],
      "execution_count": null,
      "outputs": []
    },
    {
      "cell_type": "code",
      "metadata": {
        "id": "FH4lHRBUAlG-"
      },
      "source": [
        "for i in col_indices:\n",
        "  model_ex2.y[i].setlb(lb[i])\n",
        "  model_ex2.y[i].setub(ub[i])"
      ],
      "execution_count": null,
      "outputs": []
    },
    {
      "cell_type": "code",
      "metadata": {
        "id": "KSVlkxhs_ez_"
      },
      "source": [
        "model_ex2.objective.deactivate()"
      ],
      "execution_count": null,
      "outputs": []
    },
    {
      "cell_type": "code",
      "metadata": {
        "id": "skrvyVIO9_t4"
      },
      "source": [
        "for k in row_indices:  \n",
        "  model_ex2.constraints[k+1].deactivate()\n",
        "for l in row_indices:\n",
        "  model_ex2.constraints_new.add(sum(constr_coef[l][j]*model_ex2.y[j] for j in col_indices) <= constr_rhs_b[l])"
      ],
      "execution_count": null,
      "outputs": []
    },
    {
      "cell_type": "code",
      "metadata": {
        "colab": {
          "base_uri": "https://localhost:8080/"
        },
        "id": "CJqgb8m--Hvb",
        "outputId": "6afdf08e-499e-460b-fc5d-69ecb328b459"
      },
      "source": [
        "model_ex2.objective_new = Objective(expr =summation(obj_coef_c[0:11],model_ex2.y) , sense=maximize)\n",
        "model_ex2.pprint() "
      ],
      "execution_count": null,
      "outputs": [
        {
          "output_type": "stream",
          "text": [
            "4 Set Declarations\n",
            "    constraints_index : Size=1, Index=None, Ordered=Insertion\n",
            "        Key  : Dimen : Domain : Size : Members\n",
            "        None :     1 :    Any :   11 : {1, 2, 3, 4, 5, 6, 7, 8, 9, 10, 11}\n",
            "    constraints_new_index : Size=1, Index=None, Ordered=Insertion\n",
            "        Key  : Dimen : Domain : Size : Members\n",
            "        None :     1 :    Any :   11 : {1, 2, 3, 4, 5, 6, 7, 8, 9, 10, 11}\n",
            "    x_index : Size=1, Index=None, Ordered=False\n",
            "        Key  : Dimen : Domain : Size : Members\n",
            "        None :     1 :    Any :   11 : {0, 1, 2, 3, 4, 5, 6, 7, 8, 9, 10}\n",
            "    y_index : Size=1, Index=None, Ordered=False\n",
            "        Key  : Dimen : Domain : Size : Members\n",
            "        None :     1 :    Any :   11 : {0, 1, 2, 3, 4, 5, 6, 7, 8, 9, 10}\n",
            "\n",
            "2 Var Declarations\n",
            "    x : Size=11, Index=x_index\n",
            "        Key : Lower : Value : Upper : Fixed : Stale : Domain\n",
            "          0 :     0 :   1.0 :     1 : False : False : Binary\n",
            "          1 :     0 :   1.0 :     1 : False : False : Binary\n",
            "          2 :     0 :   0.0 :     1 : False : False : Binary\n",
            "          3 :     0 :   1.0 :     1 : False : False : Binary\n",
            "          4 :     0 :   1.0 :     1 : False : False : Binary\n",
            "          5 :     0 :   0.0 :     1 : False : False : Binary\n",
            "          6 :     0 :   1.0 :     1 : False : False : Binary\n",
            "          7 :     0 :   1.0 :     1 : False : False : Binary\n",
            "          8 :     0 :   1.0 :     1 : False : False : Binary\n",
            "          9 :     0 :   0.0 :     1 : False : False : Binary\n",
            "         10 :     0 :   1.0 :     1 : False : False : Binary\n",
            "    y : Size=11, Index=y_index\n",
            "        Key : Lower : Value : Upper : Fixed : Stale : Domain\n",
            "          0 :     0 :  None :     1 : False :  True :  Reals\n",
            "          1 :     0 :  None :     1 : False :  True :  Reals\n",
            "          2 :     0 :  None :     1 : False :  True :  Reals\n",
            "          3 :     0 :  None :     1 : False :  True :  Reals\n",
            "          4 :     0 :  None :     1 : False :  True :  Reals\n",
            "          5 :     0 :  None :     1 : False :  True :  Reals\n",
            "          6 :     0 :  None :     1 : False :  True :  Reals\n",
            "          7 :     0 :  None :     1 : False :  True :  Reals\n",
            "          8 :     0 :  None :     1 : False :  True :  Reals\n",
            "          9 :     0 :  None :     1 : False :  True :  Reals\n",
            "         10 :     0 :  None :     1 : False :  True :  Reals\n",
            "\n",
            "2 Objective Declarations\n",
            "    objective : Size=1, Index=None, Active=False\n",
            "        Key  : Active : Sense    : Expression\n",
            "        None :  False : maximize : 3*x[0] + 2*x[1] + 6*x[2] + 5*x[3] + 5*x[4] + 4*x[5] + 6*x[6] + 8*x[7] + 8*x[8] + 5*x[9] + 4*x[10]\n",
            "    objective_new : Size=1, Index=None, Active=True\n",
            "        Key  : Active : Sense    : Expression\n",
            "        None :   True : maximize : 3*y[0] + 2*y[1] + 6*y[2] + 5*y[3] + 5*y[4] + 4*y[5] + 6*y[6] + 8*y[7] + 8*y[8] + 5*y[9] + 4*y[10]\n",
            "\n",
            "2 Constraint Declarations\n",
            "    constraints : Size=11, Index=constraints_index, Active=True\n",
            "        Key : Lower : Body                                                                                               : Upper : Active\n",
            "          1 :  -Inf :                        x[0] + x[1] + x[2] + x[3] + x[4] + x[5] + x[6] + x[7] + x[8] + x[9] + x[10] :   9.0 :  False\n",
            "          2 :  -Inf :                      - x[0] - x[1] - x[2] - x[3] - x[4] - x[5] - x[6] - x[7] - x[8] - x[9] - x[10] :  -5.0 :  False\n",
            "          3 :  -Inf : -3*x[0] - 2*x[1] - 6*x[2] - 5*x[3] - 5*x[4] - 4*x[5] - 6*x[6] - 8*x[7] - 8*x[8] - 5*x[9] - 4*x[10] : -30.0 :  False\n",
            "          4 :  -Inf :                                                                                        x[2] + x[7] :   1.0 :  False\n",
            "          5 :  -Inf :                                                                                        x[4] + x[9] :   1.0 :  False\n",
            "          6 :  -Inf :                                                                                        x[2] + x[8] :   1.0 :  False\n",
            "          7 :  -Inf :                                                                                        x[5] + x[6] :   1.0 :  False\n",
            "          8 :  -Inf :                                                                                 x[3] + x[6] + x[9] :   2.0 :  False\n",
            "          9 :  -Inf :                                                                                     - x[0] + x[10] :   0.0 :  False\n",
            "         10 :  -Inf :                                                                                 x[0] + x[1] + x[2] :   2.0 :  False\n",
            "         11 :  -Inf :                                                                               - x[0] - x[1] - x[2] :  -1.0 :  False\n",
            "    constraints_new : Size=11, Index=constraints_new_index, Active=True\n",
            "        Key : Lower : Body                                                                                               : Upper : Active\n",
            "          1 :  -Inf :                        y[0] + y[1] + y[2] + y[3] + y[4] + y[5] + y[6] + y[7] + y[8] + y[9] + y[10] :   9.0 :   True\n",
            "          2 :  -Inf :                      - y[0] - y[1] - y[2] - y[3] - y[4] - y[5] - y[6] - y[7] - y[8] - y[9] - y[10] :  -5.0 :   True\n",
            "          3 :  -Inf : -3*y[0] - 2*y[1] - 6*y[2] - 5*y[3] - 5*y[4] - 4*y[5] - 6*y[6] - 8*y[7] - 8*y[8] - 5*y[9] - 4*y[10] : -30.0 :   True\n",
            "          4 :  -Inf :                                                                                        y[2] + y[7] :   1.0 :   True\n",
            "          5 :  -Inf :                                                                                        y[4] + y[9] :   1.0 :   True\n",
            "          6 :  -Inf :                                                                                        y[2] + y[8] :   1.0 :   True\n",
            "          7 :  -Inf :                                                                                        y[5] + y[6] :   1.0 :   True\n",
            "          8 :  -Inf :                                                                                 y[3] + y[6] + y[9] :   2.0 :   True\n",
            "          9 :  -Inf :                                                                                     - y[0] + y[10] :   0.0 :   True\n",
            "         10 :  -Inf :                                                                                 y[0] + y[1] + y[2] :   2.0 :   True\n",
            "         11 :  -Inf :                                                                               - y[0] - y[1] - y[2] :  -1.0 :   True\n",
            "\n",
            "10 Declarations: constraints_index constraints x_index x objective constraints_new_index constraints_new y_index y objective_new\n"
          ],
          "name": "stdout"
        }
      ]
    },
    {
      "cell_type": "code",
      "metadata": {
        "colab": {
          "base_uri": "https://localhost:8080/"
        },
        "id": "WOkAENpZ_zHf",
        "outputId": "4cb853c4-ab6e-4dda-da9a-3d912d44f7fa"
      },
      "source": [
        "result = opt_cbc.solve(model_ex2)\n",
        "print(result)\n",
        "\n",
        "print('Solver status:', result.solver.status)\n",
        "print('Solver termination condition:',result.solver.termination_condition)"
      ],
      "execution_count": null,
      "outputs": [
        {
          "output_type": "stream",
          "text": [
            "\n",
            "Problem: \n",
            "- Name: unknown\n",
            "  Lower bound: 41.0\n",
            "  Upper bound: 41.0\n",
            "  Number of objectives: 1\n",
            "  Number of constraints: 12\n",
            "  Number of variables: 12\n",
            "  Number of nonzeros: 11\n",
            "  Sense: maximize\n",
            "Solver: \n",
            "- Status: ok\n",
            "  User time: -1.0\n",
            "  System time: 0.0\n",
            "  Wallclock time: 0.0\n",
            "  Termination condition: optimal\n",
            "  Termination message: Model was solved to optimality (subject to tolerances), and an optimal solution is available.\n",
            "  Statistics: \n",
            "    Branch and bound: \n",
            "      Number of bounded subproblems: None\n",
            "      Number of created subproblems: None\n",
            "    Black box: \n",
            "      Number of iterations: 6\n",
            "  Error rc: 0\n",
            "  Time: 0.02592301368713379\n",
            "Solution: \n",
            "- number of solutions: 0\n",
            "  number of solutions displayed: 0\n",
            "\n",
            "Solver status: ok\n",
            "Solver termination condition: optimal\n"
          ],
          "name": "stdout"
        }
      ]
    },
    {
      "cell_type": "markdown",
      "metadata": {
        "id": "87Cai7jM9-Et"
      },
      "source": [
        "$4.\\;Reporting\\; the\\;  optimal\\;  values\\;  of \\; the \\; variables\\;  and\\;  the\\; objective \\; function\\;  value.$"
      ]
    },
    {
      "cell_type": "code",
      "metadata": {
        "colab": {
          "base_uri": "https://localhost:8080/"
        },
        "id": "jOLXTLXW_5Dq",
        "outputId": "8e0ad447-f1ba-4652-f23b-a2f76c4433ec"
      },
      "source": [
        "# display solution\n",
        "print('\\nObjective = ', model_ex2.objective_new())\n",
        "\n",
        "print('\\nDecision Variables')\n",
        "for i in col_indices:\n",
        "  print('y'+str(i)+'= ', model_ex2.y[i].value) \n",
        "print('\\nConstraints')\n",
        "model_ex2.constraints_new.display()"
      ],
      "execution_count": null,
      "outputs": [
        {
          "output_type": "stream",
          "text": [
            "\n",
            "Objective =  41.0\n",
            "\n",
            "Decision Variables\n",
            "y0=  1.0\n",
            "y1=  1.0\n",
            "y2=  0.0\n",
            "y3=  1.0\n",
            "y4=  1.0\n",
            "y5=  0.0\n",
            "y6=  1.0\n",
            "y7=  1.0\n",
            "y8=  1.0\n",
            "y9=  0.0\n",
            "y10=  1.0\n",
            "\n",
            "Constraints\n",
            "constraints_new : Size=11\n",
            "    Key : Lower : Body  : Upper\n",
            "      1 :  None :   8.0 :   9.0\n",
            "      2 :  None :  -8.0 :  -5.0\n",
            "      3 :  None : -41.0 : -30.0\n",
            "      4 :  None :   1.0 :   1.0\n",
            "      5 :  None :   1.0 :   1.0\n",
            "      6 :  None :   1.0 :   1.0\n",
            "      7 :  None :   1.0 :   1.0\n",
            "      8 :  None :   2.0 :   2.0\n",
            "      9 :  None :   0.0 :   0.0\n",
            "     10 :  None :   2.0 :   2.0\n",
            "     11 :  None :  -2.0 :  -1.0\n"
          ],
          "name": "stdout"
        }
      ]
    },
    {
      "cell_type": "markdown",
      "metadata": {
        "id": "uV2vJZ-5oW7P"
      },
      "source": [
        "$5.\\;Solution\\; of \\;the\\;MILP \\;can't\\; merely \\;be \\;obtained\\; from \\;rounding\\; the\\; solution\\; of \\;the \\;LP.\\;First\\; we \\;need \\;to \\;check \\;the\\; feasibility\\; of \\;the\\; solution\\; of \\;the\\; LP\\; to \\;the \\;MILP \\;problem \\;and \\;if\\; the \\;optimal \\;solution\\; for\\; the \\;relaxed\\; LP\\; is\\; feasible \\;for \\;the \\;given \\;MILP,\\; then\\; it'll\\; be \\;optimal\\; solution \\;of\\; the\\; MILP \\;also.\\; Here,\\; we're\\; getting \\;an \\;optimal \\;solution\\; to\\; the\\; LP \\;which\\; is \\;also\\; feasible.\\; Hence,\\; in \\;this \\;case\\; we\\; can\\; get \\;the\\; optimal \\;solution\\; to\\; the\\; MILP\\; by \\;merely \\;rounding\\; off\\; the \\;solution\\; of\\; LP. $"
      ]
    },
    {
      "cell_type": "markdown",
      "metadata": {
        "id": "SZs50m_frHhZ"
      },
      "source": [
        "$6.\\;Let\\; a \\;new \\;course\\; C_{11} \\;with \\;9\\; credits\\; is \\;introduced, \\;but \\;the\\; course\\; timing \\;for \\;C_{11}\\;\n",
        "overlaps \\;with\\; the \\;course \\;timings \\;of \\;C_7,\\; C_8,\\; C_9.$ \\\\\n",
        "$The\\;new\\;constraints\\;will\\;be:$\n",
        "$x_{11}+x_7<=1 \\\\ x_{11}+x_8<=1 \\\\x_{11}+x_9<=1 $ \\\\\n",
        "$Then,\\;the \\;new\\;model\\;will\\;be:$ \\\\\n",
        "$ \\ max. \\ \\sum_{i=0}^{11}c_ix_i$ \\\\\n",
        " $Such\\;that,$ \\\\\n",
        " $5 \\leq \\sum_{i=0}^{11}x_i \\leq 9; \\\\\n",
        " \\sum_{i=0}^{10}c_i.x_i \\geq 30;\\\\\n",
        "  x_2+x_7 \\leq 1;\\\\x_4+x_9 \\leq 1 ;\\\\x_2+x_8 \\leq 1;\\\\1 \\leq x_0+x_1+x_2 \\leq 2;\\\\x_5+x_6 \\leq 1;\\\\x_3+x_6+x_9 \\leq 2;\\\\ x_{10}-x_0 \\leq 0; \\\\ x_{11}+x_7<=1 \\\\ x_{11}+x_8<=1 \\\\x_{11}+x_9<=1$\n"
      ]
    },
    {
      "cell_type": "code",
      "metadata": {
        "colab": {
          "base_uri": "https://localhost:8080/"
        },
        "id": "LeoCNyBU01Ps",
        "outputId": "e8b56dfe-5532-40b7-8dbb-ceb4cc900387"
      },
      "source": [
        "#Creating New Model\n",
        "model_ex2_new = ConcreteModel()\n",
        "model_ex2_new.constraints = ConstraintList()\n",
        "\n",
        "N_new = 12\n",
        "M_new = 14\n",
        "row_indices_new=np.arange(M_new)\n",
        "lb_new = np.array([0,0,0,0,0,0,0,0,0,0,0,0])\n",
        "ub_new = np.array([1,1,1,1,1,1,1,1,1,1,1,1]) \n",
        "\n",
        "obj_coef_new = np.array([3,2,6,5,5,4,6,8,8,5,4,9]) \n",
        "\n",
        "constr_coef_new=np.array([[1,1,1,1,1,1,1,1,1,1,1,1],[-1,-1,-1,-1,-1,-1,-1,-1,-1,-1,-1,-1],[-3,-2,-6,-5,-5,-4,-6,-8,-8,-5,-4,-9],[0,0,1,0,0,0,0,1,0,0,0,0],[0,0,0,0,1,0,0,0,0,1,0,0],[0,0,1,0,0,0,0,0,1,0,0,0],[0,0,0,0,0,1,1,0,0,0,0,0],[0,0,0,1,0,0,1,0,0,1,0,0],[-1,0,0,0,0,0,0,0,0,0,1,0],[1,1,1,0,0,0,0,0,0,0,0,0],[-1,-1,-1,0,0,0,0,0,0,0,0,0],[0,0,0,0,0,0,0,1,0,0,0,1],[0,0,0,0,0,0,0,0,1,0,0,1],[0,0,0,0,0,0,0,0,0,1,0,1]])\n",
        "constr_rhs_b_new=np.array([9,-5,-30,1,1,1,1,2,0,2,-1,1,1,1])\n",
        "\n",
        "col_indices_new = np.arange(N_new)\n",
        "print(col_indices_new)\n",
        "\n",
        "model_ex2_new.x = Var(col_indices_new, domain=Binary)\n",
        "\n",
        "for i in row_indices_new:\n",
        "  model_ex2_new.constraints.add(sum(constr_coef_new[i][j]*model_ex2_new.x[j] for j in col_indices_new) <= constr_rhs_b_new[i])\n",
        "\n",
        "model_ex2_new.objective = Objective(expr =summation(obj_coef_new[0:12],model_ex2_new.x) , sense=maximize)\n",
        "\n",
        "model_ex2_new.pprint() "
      ],
      "execution_count": null,
      "outputs": [
        {
          "output_type": "stream",
          "text": [
            "[ 0  1  2  3  4  5  6  7  8  9 10 11]\n",
            "2 Set Declarations\n",
            "    constraints_index : Size=1, Index=None, Ordered=Insertion\n",
            "        Key  : Dimen : Domain : Size : Members\n",
            "        None :     1 :    Any :   14 : {1, 2, 3, 4, 5, 6, 7, 8, 9, 10, 11, 12, 13, 14}\n",
            "    x_index : Size=1, Index=None, Ordered=False\n",
            "        Key  : Dimen : Domain : Size : Members\n",
            "        None :     1 :    Any :   12 : {0, 1, 2, 3, 4, 5, 6, 7, 8, 9, 10, 11}\n",
            "\n",
            "1 Var Declarations\n",
            "    x : Size=12, Index=x_index\n",
            "        Key : Lower : Value : Upper : Fixed : Stale : Domain\n",
            "          0 :     0 :  None :     1 : False :  True : Binary\n",
            "          1 :     0 :  None :     1 : False :  True : Binary\n",
            "          2 :     0 :  None :     1 : False :  True : Binary\n",
            "          3 :     0 :  None :     1 : False :  True : Binary\n",
            "          4 :     0 :  None :     1 : False :  True : Binary\n",
            "          5 :     0 :  None :     1 : False :  True : Binary\n",
            "          6 :     0 :  None :     1 : False :  True : Binary\n",
            "          7 :     0 :  None :     1 : False :  True : Binary\n",
            "          8 :     0 :  None :     1 : False :  True : Binary\n",
            "          9 :     0 :  None :     1 : False :  True : Binary\n",
            "         10 :     0 :  None :     1 : False :  True : Binary\n",
            "         11 :     0 :  None :     1 : False :  True : Binary\n",
            "\n",
            "1 Objective Declarations\n",
            "    objective : Size=1, Index=None, Active=True\n",
            "        Key  : Active : Sense    : Expression\n",
            "        None :   True : maximize : 3*x[0] + 2*x[1] + 6*x[2] + 5*x[3] + 5*x[4] + 4*x[5] + 6*x[6] + 8*x[7] + 8*x[8] + 5*x[9] + 4*x[10] + 9*x[11]\n",
            "\n",
            "1 Constraint Declarations\n",
            "    constraints : Size=14, Index=constraints_index, Active=True\n",
            "        Key : Lower : Body                                                                                                         : Upper : Active\n",
            "          1 :  -Inf :                          x[0] + x[1] + x[2] + x[3] + x[4] + x[5] + x[6] + x[7] + x[8] + x[9] + x[10] + x[11] :   9.0 :   True\n",
            "          2 :  -Inf :                        - x[0] - x[1] - x[2] - x[3] - x[4] - x[5] - x[6] - x[7] - x[8] - x[9] - x[10] - x[11] :  -5.0 :   True\n",
            "          3 :  -Inf : -3*x[0] - 2*x[1] - 6*x[2] - 5*x[3] - 5*x[4] - 4*x[5] - 6*x[6] - 8*x[7] - 8*x[8] - 5*x[9] - 4*x[10] - 9*x[11] : -30.0 :   True\n",
            "          4 :  -Inf :                                                                                                  x[2] + x[7] :   1.0 :   True\n",
            "          5 :  -Inf :                                                                                                  x[4] + x[9] :   1.0 :   True\n",
            "          6 :  -Inf :                                                                                                  x[2] + x[8] :   1.0 :   True\n",
            "          7 :  -Inf :                                                                                                  x[5] + x[6] :   1.0 :   True\n",
            "          8 :  -Inf :                                                                                           x[3] + x[6] + x[9] :   2.0 :   True\n",
            "          9 :  -Inf :                                                                                               - x[0] + x[10] :   0.0 :   True\n",
            "         10 :  -Inf :                                                                                           x[0] + x[1] + x[2] :   2.0 :   True\n",
            "         11 :  -Inf :                                                                                         - x[0] - x[1] - x[2] :  -1.0 :   True\n",
            "         12 :  -Inf :                                                                                                 x[7] + x[11] :   1.0 :   True\n",
            "         13 :  -Inf :                                                                                                 x[8] + x[11] :   1.0 :   True\n",
            "         14 :  -Inf :                                                                                                 x[9] + x[11] :   1.0 :   True\n",
            "\n",
            "5 Declarations: constraints_index constraints x_index x objective\n"
          ],
          "name": "stdout"
        }
      ]
    },
    {
      "cell_type": "markdown",
      "metadata": {
        "id": "_e05lRT7z1zp"
      },
      "source": [
        "$7.\\;Solving\\;the\\;modified \\;MILP$"
      ]
    },
    {
      "cell_type": "code",
      "metadata": {
        "colab": {
          "base_uri": "https://localhost:8080/"
        },
        "id": "2uwfN7oJoZ0d",
        "outputId": "6c2a17dd-90b1-422d-a8ce-0cb88e5adae9"
      },
      "source": [
        "result = opt_cbc.solve(model_ex2_new)\n",
        "print(result)\n",
        "\n",
        "print('Solver status:', result.solver.status)\n",
        "print('Solver termination condition:',result.solver.termination_condition)"
      ],
      "execution_count": null,
      "outputs": [
        {
          "output_type": "stream",
          "text": [
            "\n",
            "Problem: \n",
            "- Name: unknown\n",
            "  Lower bound: 41.0\n",
            "  Upper bound: 41.0\n",
            "  Number of objectives: 1\n",
            "  Number of constraints: 14\n",
            "  Number of variables: 12\n",
            "  Number of binary variables: 12\n",
            "  Number of integer variables: 12\n",
            "  Number of nonzeros: 12\n",
            "  Sense: maximize\n",
            "Solver: \n",
            "- Status: ok\n",
            "  User time: -1.0\n",
            "  System time: 0.0\n",
            "  Wallclock time: 0.0\n",
            "  Termination condition: optimal\n",
            "  Termination message: Model was solved to optimality (subject to tolerances), and an optimal solution is available.\n",
            "  Statistics: \n",
            "    Branch and bound: \n",
            "      Number of bounded subproblems: 0\n",
            "      Number of created subproblems: 0\n",
            "    Black box: \n",
            "      Number of iterations: 0\n",
            "  Error rc: 0\n",
            "  Time: 0.029066801071166992\n",
            "Solution: \n",
            "- number of solutions: 0\n",
            "  number of solutions displayed: 0\n",
            "\n",
            "Solver status: ok\n",
            "Solver termination condition: optimal\n"
          ],
          "name": "stdout"
        }
      ]
    },
    {
      "cell_type": "markdown",
      "metadata": {
        "id": "yYhdAozs6EVh"
      },
      "source": [
        "$7.\\;Reporting\\;the\\; optimal\\; values\\; of\\; the \\;variables\\; and\\; objective\\;\n",
        "function \\;value\\;modified \\;MILP$"
      ]
    },
    {
      "cell_type": "code",
      "metadata": {
        "colab": {
          "base_uri": "https://localhost:8080/"
        },
        "id": "izBOhfH15iUv",
        "outputId": "7bf692d0-9675-4545-ef0f-20a64d7ae87c"
      },
      "source": [
        "# display solution\n",
        "print('\\nObjective = ', model_ex2_new.objective())\n",
        "\n",
        "print('\\nDecision Variables')\n",
        "for i in col_indices_new:\n",
        "  print('x'+str(i)+'= ', model_ex2_new.x[i].value) \n",
        "print('\\nConstraints')\n",
        "model_ex2.constraints_new.display()"
      ],
      "execution_count": null,
      "outputs": [
        {
          "output_type": "stream",
          "text": [
            "\n",
            "Objective =  41.0\n",
            "\n",
            "Decision Variables\n",
            "x0=  1.0\n",
            "x1=  1.0\n",
            "x2=  0.0\n",
            "x3=  1.0\n",
            "x4=  1.0\n",
            "x5=  0.0\n",
            "x6=  1.0\n",
            "x7=  1.0\n",
            "x8=  1.0\n",
            "x9=  0.0\n",
            "x10=  1.0\n",
            "x11=  0.0\n",
            "\n",
            "Constraints\n",
            "constraints_new : Size=11\n",
            "    Key : Lower : Body  : Upper\n",
            "      1 :  None :   8.0 :   9.0\n",
            "      2 :  None :  -8.0 :  -5.0\n",
            "      3 :  None : -41.0 : -30.0\n",
            "      4 :  None :   1.0 :   1.0\n",
            "      5 :  None :   1.0 :   1.0\n",
            "      6 :  None :   1.0 :   1.0\n",
            "      7 :  None :   1.0 :   1.0\n",
            "      8 :  None :   2.0 :   2.0\n",
            "      9 :  None :   0.0 :   0.0\n",
            "     10 :  None :   2.0 :   2.0\n",
            "     11 :  None :  -2.0 :  -1.0\n"
          ],
          "name": "stdout"
        }
      ]
    },
    {
      "cell_type": "markdown",
      "metadata": {
        "id": "aaiYPkje59Tj"
      },
      "source": [
        "$8.\\;Solving\\; the\\; modified\\; MILP\\; by\\; removing\\; the\\; integer \\;constraints \\;on\\; the\\; variables$"
      ]
    },
    {
      "cell_type": "code",
      "metadata": {
        "colab": {
          "base_uri": "https://localhost:8080/"
        },
        "id": "5TGYvBXQ8UHT",
        "outputId": "52092805-0289-4d7c-9fc1-0eb77bcf0ca0"
      },
      "source": [
        "model_ex2_new.objective.deactivate()\n",
        "for k in row_indices_new:  \n",
        "  model_ex2_new.constraints[k+1].deactivate()\n",
        "\n",
        "model_ex2_new.y = Var(col_indices_new)\n",
        "for i in col_indices_new:\n",
        "  model_ex2_new.y[i].setlb(lb_new[i])\n",
        "  model_ex2_new.y[i].setub(ub_new[i])\n",
        "for i in row_indices_new:\n",
        "  model_ex2_new.constraints.add(sum(constr_coef_new[i][j]*model_ex2_new.y[j] for j in col_indices_new) <= constr_rhs_b_new[i])\n",
        "\n",
        "model_ex2_new.objective_new = Objective(expr =summation(obj_coef_new[0:12],model_ex2_new.y) , sense=maximize)\n",
        "\n",
        "model_ex2_new.pprint() "
      ],
      "execution_count": null,
      "outputs": [
        {
          "output_type": "stream",
          "text": [
            "3 Set Declarations\n",
            "    constraints_index : Size=1, Index=None, Ordered=Insertion\n",
            "        Key  : Dimen : Domain : Size : Members\n",
            "        None :     1 :    Any :   28 : {1, 2, 3, 4, 5, 6, 7, 8, 9, 10, 11, 12, 13, 14, 15, 16, 17, 18, 19, 20, 21, 22, 23, 24, 25, 26, 27, 28}\n",
            "    x_index : Size=1, Index=None, Ordered=False\n",
            "        Key  : Dimen : Domain : Size : Members\n",
            "        None :     1 :    Any :   12 : {0, 1, 2, 3, 4, 5, 6, 7, 8, 9, 10, 11}\n",
            "    y_index : Size=1, Index=None, Ordered=False\n",
            "        Key  : Dimen : Domain : Size : Members\n",
            "        None :     1 :    Any :   12 : {0, 1, 2, 3, 4, 5, 6, 7, 8, 9, 10, 11}\n",
            "\n",
            "2 Var Declarations\n",
            "    x : Size=12, Index=x_index\n",
            "        Key : Lower : Value : Upper : Fixed : Stale : Domain\n",
            "          0 :     0 :   1.0 :     1 : False : False : Binary\n",
            "          1 :     0 :   1.0 :     1 : False : False : Binary\n",
            "          2 :     0 :   0.0 :     1 : False : False : Binary\n",
            "          3 :     0 :   1.0 :     1 : False : False : Binary\n",
            "          4 :     0 :   1.0 :     1 : False : False : Binary\n",
            "          5 :     0 :   0.0 :     1 : False : False : Binary\n",
            "          6 :     0 :   1.0 :     1 : False : False : Binary\n",
            "          7 :     0 :   1.0 :     1 : False : False : Binary\n",
            "          8 :     0 :   1.0 :     1 : False : False : Binary\n",
            "          9 :     0 :   0.0 :     1 : False : False : Binary\n",
            "         10 :     0 :   1.0 :     1 : False : False : Binary\n",
            "         11 :     0 :   0.0 :     1 : False : False : Binary\n",
            "    y : Size=12, Index=y_index\n",
            "        Key : Lower : Value : Upper : Fixed : Stale : Domain\n",
            "          0 :     0 :  None :     1 : False :  True :  Reals\n",
            "          1 :     0 :  None :     1 : False :  True :  Reals\n",
            "          2 :     0 :  None :     1 : False :  True :  Reals\n",
            "          3 :     0 :  None :     1 : False :  True :  Reals\n",
            "          4 :     0 :  None :     1 : False :  True :  Reals\n",
            "          5 :     0 :  None :     1 : False :  True :  Reals\n",
            "          6 :     0 :  None :     1 : False :  True :  Reals\n",
            "          7 :     0 :  None :     1 : False :  True :  Reals\n",
            "          8 :     0 :  None :     1 : False :  True :  Reals\n",
            "          9 :     0 :  None :     1 : False :  True :  Reals\n",
            "         10 :     0 :  None :     1 : False :  True :  Reals\n",
            "         11 :     0 :  None :     1 : False :  True :  Reals\n",
            "\n",
            "2 Objective Declarations\n",
            "    objective : Size=1, Index=None, Active=False\n",
            "        Key  : Active : Sense    : Expression\n",
            "        None :  False : maximize : 3*x[0] + 2*x[1] + 6*x[2] + 5*x[3] + 5*x[4] + 4*x[5] + 6*x[6] + 8*x[7] + 8*x[8] + 5*x[9] + 4*x[10] + 9*x[11]\n",
            "    objective_new : Size=1, Index=None, Active=True\n",
            "        Key  : Active : Sense    : Expression\n",
            "        None :   True : maximize : 3*y[0] + 2*y[1] + 6*y[2] + 5*y[3] + 5*y[4] + 4*y[5] + 6*y[6] + 8*y[7] + 8*y[8] + 5*y[9] + 4*y[10] + 9*y[11]\n",
            "\n",
            "1 Constraint Declarations\n",
            "    constraints : Size=28, Index=constraints_index, Active=True\n",
            "        Key : Lower : Body                                                                                                         : Upper : Active\n",
            "          1 :  -Inf :                          x[0] + x[1] + x[2] + x[3] + x[4] + x[5] + x[6] + x[7] + x[8] + x[9] + x[10] + x[11] :   9.0 :  False\n",
            "          2 :  -Inf :                        - x[0] - x[1] - x[2] - x[3] - x[4] - x[5] - x[6] - x[7] - x[8] - x[9] - x[10] - x[11] :  -5.0 :  False\n",
            "          3 :  -Inf : -3*x[0] - 2*x[1] - 6*x[2] - 5*x[3] - 5*x[4] - 4*x[5] - 6*x[6] - 8*x[7] - 8*x[8] - 5*x[9] - 4*x[10] - 9*x[11] : -30.0 :  False\n",
            "          4 :  -Inf :                                                                                                  x[2] + x[7] :   1.0 :  False\n",
            "          5 :  -Inf :                                                                                                  x[4] + x[9] :   1.0 :  False\n",
            "          6 :  -Inf :                                                                                                  x[2] + x[8] :   1.0 :  False\n",
            "          7 :  -Inf :                                                                                                  x[5] + x[6] :   1.0 :  False\n",
            "          8 :  -Inf :                                                                                           x[3] + x[6] + x[9] :   2.0 :  False\n",
            "          9 :  -Inf :                                                                                               - x[0] + x[10] :   0.0 :  False\n",
            "         10 :  -Inf :                                                                                           x[0] + x[1] + x[2] :   2.0 :  False\n",
            "         11 :  -Inf :                                                                                         - x[0] - x[1] - x[2] :  -1.0 :  False\n",
            "         12 :  -Inf :                                                                                                 x[7] + x[11] :   1.0 :  False\n",
            "         13 :  -Inf :                                                                                                 x[8] + x[11] :   1.0 :  False\n",
            "         14 :  -Inf :                                                                                                 x[9] + x[11] :   1.0 :  False\n",
            "         15 :  -Inf :                          y[0] + y[1] + y[2] + y[3] + y[4] + y[5] + y[6] + y[7] + y[8] + y[9] + y[10] + y[11] :   9.0 :   True\n",
            "         16 :  -Inf :                        - y[0] - y[1] - y[2] - y[3] - y[4] - y[5] - y[6] - y[7] - y[8] - y[9] - y[10] - y[11] :  -5.0 :   True\n",
            "         17 :  -Inf : -3*y[0] - 2*y[1] - 6*y[2] - 5*y[3] - 5*y[4] - 4*y[5] - 6*y[6] - 8*y[7] - 8*y[8] - 5*y[9] - 4*y[10] - 9*y[11] : -30.0 :   True\n",
            "         18 :  -Inf :                                                                                                  y[2] + y[7] :   1.0 :   True\n",
            "         19 :  -Inf :                                                                                                  y[4] + y[9] :   1.0 :   True\n",
            "         20 :  -Inf :                                                                                                  y[2] + y[8] :   1.0 :   True\n",
            "         21 :  -Inf :                                                                                                  y[5] + y[6] :   1.0 :   True\n",
            "         22 :  -Inf :                                                                                           y[3] + y[6] + y[9] :   2.0 :   True\n",
            "         23 :  -Inf :                                                                                               - y[0] + y[10] :   0.0 :   True\n",
            "         24 :  -Inf :                                                                                           y[0] + y[1] + y[2] :   2.0 :   True\n",
            "         25 :  -Inf :                                                                                         - y[0] - y[1] - y[2] :  -1.0 :   True\n",
            "         26 :  -Inf :                                                                                                 y[7] + y[11] :   1.0 :   True\n",
            "         27 :  -Inf :                                                                                                 y[8] + y[11] :   1.0 :   True\n",
            "         28 :  -Inf :                                                                                                 y[9] + y[11] :   1.0 :   True\n",
            "\n",
            "8 Declarations: constraints_index constraints x_index x objective y_index y objective_new\n"
          ],
          "name": "stdout"
        }
      ]
    },
    {
      "cell_type": "code",
      "metadata": {
        "colab": {
          "base_uri": "https://localhost:8080/"
        },
        "id": "9BOdxaUZ9usx",
        "outputId": "7617fa2f-6305-46da-a2e4-b988be9f5b05"
      },
      "source": [
        "result = opt_cbc.solve(model_ex2_new)\n",
        "print(result)\n",
        "\n",
        "print('Solver status:', result.solver.status)\n",
        "print('Solver termination condition:',result.solver.termination_condition)"
      ],
      "execution_count": null,
      "outputs": [
        {
          "output_type": "stream",
          "text": [
            "\n",
            "Problem: \n",
            "- Name: unknown\n",
            "  Lower bound: 41.0\n",
            "  Upper bound: 41.0\n",
            "  Number of objectives: 1\n",
            "  Number of constraints: 15\n",
            "  Number of variables: 13\n",
            "  Number of nonzeros: 12\n",
            "  Sense: maximize\n",
            "Solver: \n",
            "- Status: ok\n",
            "  User time: -1.0\n",
            "  System time: 0.0\n",
            "  Wallclock time: 0.0\n",
            "  Termination condition: optimal\n",
            "  Termination message: Model was solved to optimality (subject to tolerances), and an optimal solution is available.\n",
            "  Statistics: \n",
            "    Branch and bound: \n",
            "      Number of bounded subproblems: None\n",
            "      Number of created subproblems: None\n",
            "    Black box: \n",
            "      Number of iterations: 10\n",
            "  Error rc: 0\n",
            "  Time: 0.026204586029052734\n",
            "Solution: \n",
            "- number of solutions: 0\n",
            "  number of solutions displayed: 0\n",
            "\n",
            "Solver status: ok\n",
            "Solver termination condition: optimal\n"
          ],
          "name": "stdout"
        }
      ]
    },
    {
      "cell_type": "code",
      "metadata": {
        "colab": {
          "base_uri": "https://localhost:8080/"
        },
        "id": "CGsRqI_m-1LS",
        "outputId": "f5ef5fbe-19be-480c-b1e1-683ce0b27f6e"
      },
      "source": [
        "# display solution\n",
        "print('\\nObjective = ', model_ex2_new.objective_new())\n",
        "\n",
        "print('\\nDecision Variables')\n",
        "for i in col_indices_new:\n",
        "  print('y'+str(i)+'= ', model_ex2_new.y[i].value) \n",
        "print('\\nConstraints')\n",
        "model_ex2.constraints_new.display()"
      ],
      "execution_count": null,
      "outputs": [
        {
          "output_type": "stream",
          "text": [
            "\n",
            "Objective =  41.0\n",
            "\n",
            "Decision Variables\n",
            "y0=  1.0\n",
            "y1=  1.0\n",
            "y2=  0.0\n",
            "y3=  1.0\n",
            "y4=  1.0\n",
            "y5=  0.0\n",
            "y6=  1.0\n",
            "y7=  1.0\n",
            "y8=  1.0\n",
            "y9=  0.0\n",
            "y10=  1.0\n",
            "y11=  0.0\n",
            "\n",
            "Constraints\n",
            "constraints_new : Size=11\n",
            "    Key : Lower : Body  : Upper\n",
            "      1 :  None :   8.0 :   9.0\n",
            "      2 :  None :  -8.0 :  -5.0\n",
            "      3 :  None : -41.0 : -30.0\n",
            "      4 :  None :   1.0 :   1.0\n",
            "      5 :  None :   1.0 :   1.0\n",
            "      6 :  None :   1.0 :   1.0\n",
            "      7 :  None :   1.0 :   1.0\n",
            "      8 :  None :   2.0 :   2.0\n",
            "      9 :  None :   0.0 :   0.0\n",
            "     10 :  None :   2.0 :   2.0\n",
            "     11 :  None :  -2.0 :  -1.0\n"
          ],
          "name": "stdout"
        }
      ]
    },
    {
      "cell_type": "markdown",
      "metadata": {
        "id": "0MVJ9Y-BEBxn"
      },
      "source": [
        "$As \\;we're\\; getting \\;the \\;same \\;result \\;even \\;after\\; modifying\\; the\\; LP, \\;therefore\\; we \\;can \\;obtain \\;the \\;solution\\; of \\;the \\;modified\\; MILP\\; by\\; merely\\; rounding\\; the \\;solution \\;of\\; the \\;corresponding \\;modified\\; LP \\;because,\\; the \\;optimal \\;solution \\;of \\;the \\;modified\\; LP \\;is\\; also\\; a \\;feasible \\;solution \\;of\\; the \\;corresponding\\; modified\\; MILP\\; and \\;since\\; we\\; discussed \\;earlier\\; that,\\; the \\;feasible \\;region\\; of\\; the\\; MILP\\; will \\;be \\;a \\;subset \\;of\\; the\\; modified\\; relaxed\\; LP \\;and\\; if\\; the\\; optimal\\; solution\\; of\\; relaxed\\; LP \\;is\\; a\\; feasible\\; solution \\;of \\;the\\; MILP\\; also,\\; then\\; it'll\\; be\\; the \\;optimal \\;solution\\; of\\; the \\;MILP\\; also.$"
      ]
    }
  ]
}