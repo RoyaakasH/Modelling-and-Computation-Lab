{
  "cells": [
    {
      "cell_type": "markdown",
      "metadata": {
        "id": "mYgViZZrG5pg"
      },
      "source": [
        "$$Exercise:\\;1$$"
      ]
    },
    {
      "cell_type": "markdown",
      "metadata": {
        "id": "zDjmVCoym5nw"
      },
      "source": [
        "$Q-1:\\; Mathematical\\; Model\\\\\n",
        "Decesion Variables:$ \\\\\n",
        "$Let\\; x_{ij} \\; be\\; the\\; number\\; of\\; truckloads \\;of \\; WMUs\\; transported\\; from \\;warehouse\\; w_i \\; to market\\; m_j,\\;i,\\;j \\in \\{1,2,3,4,5,6,7,8\\}$\n",
        "$w_1 \\;stands\\; for\\; Ahmedabad \\;warehouses \\\\\n",
        "w_2 \\;stands\\; for\\; Bengaluru\\; warehouses \\\\\n",
        "w_3 \\;stands\\; for\\; Chennai\\; warehouses \\\\\n",
        "w_4\\; stands \\;for \\;Delhi \\;warehouses \\\\\n",
        "w_5 \\;stands\\; for\\; Kolkata\\; warehouses \\\\\n",
        "w_6\\; stands\\; for\\; Lucknow\\; warehouses \\\\\n",
        "w_7\\; stands\\; for\\; Mumbai\\; warehouses \\\\\n",
        "w_8 \\;stands\\; for\\; Hyderabad \\;warehouses$\n",
        "\n",
        "$c_1\\; stands\\; for\\; Hassan\\; market \\\\\n",
        "c_2\\; stands\\; for\\; Jodhpu\\; market \\\\\n",
        "c_3\\; stands\\; for\\; Trichyd\\; market \\\\\n",
        "c_4\\; stands\\; for\\; Simla\\; market \\\\\n",
        "c_5 \\;stands\\; for\\; Vijayawada\\; market \\\\\n",
        "c_6\\; stands\\; for\\; Dibrugarh \\;market \\\\\n",
        "c_7\\; stands\\; for\\; Raipur\\; market \\\\\n",
        "c_8\\; stands\\; for \\;Agartala\\; market$\n",
        "\n",
        "$Let,\\; C_{ij}\\; be\\; the\\; cost\\; of\\; transporting\\; one\\; truck\\; load \\;from \\;warehouse\\; i\\; to\\; market\\; j \\\\\n",
        "Let,\\; $d_j$\\; be \\;the\\; demand\\; at\\; market \\;j\\;and \\; s_i \\; be \\;the\\; available \\;stock \\;at\\; market\\; i.\\; Therefore,\\; the\\; LPP\\; is\\; as \\;follows:$ \\\\\n",
        "$Objective:$\n",
        "$$ \\ min  \\sum_{i=1}^{8}\\sum_{j=1}^{8}C_{ij}.x_{ij} $$\n",
        "$Subject\\; to, $\n",
        "$$ \\sum_{i=1}^{8}x_{ij} = d_j \\ for\\ j \\in \\{1,2,...,8\\}$$\n",
        "$$ \\sum_{j=1}^{8}x_{ij} \\leq s_i \\ for\\ i \\in \\{1,2,...,8\\}$$\n",
        "$$x_{ij} \\geq 0 \\ for \\ all \\ i, j $$"
      ]
    },
    {
      "cell_type": "markdown",
      "metadata": {
        "id": "1S1Jbw5wm-5m"
      },
      "source": [
        "$Q2. \\;Done$"
      ]
    },
    {
      "cell_type": "markdown",
      "metadata": {
        "id": "cFFkY5hMnC1K"
      },
      "source": [
        "$Q3. \\;Done$"
      ]
    },
    {
      "cell_type": "code",
      "execution_count": 45,
      "metadata": {
        "id": "phb9mfxAunCM"
      },
      "outputs": [],
      "source": [
        "!pip install -q pyomo\n",
        "from pyomo.environ import * \n",
        "import numpy as np\n",
        "import pandas as pd"
      ]
    },
    {
      "cell_type": "markdown",
      "metadata": {
        "id": "YkvMGzsCnFi3"
      },
      "source": [
        "$Q4. \\;Use \\;pandas\\; to \\;load \\;the \\;.csv\\; file \\;contents.$"
      ]
    },
    {
      "cell_type": "code",
      "execution_count": 46,
      "metadata": {
        "id": "FyPzNo6YwBmn"
      },
      "outputs": [],
      "source": [
        "data_csvfile = pd.read_csv('file21.csv')"
      ]
    },
    {
      "cell_type": "markdown",
      "metadata": {
        "id": "c69jSmcCnLwy"
      },
      "source": [
        "$Q5.\\; Creating\\; a\\; model \\;using\\; pyomo\\; to\\; solve\\; optimization\\; problem.\\;Using\\; the\\; loaded\\; contents\\; of\\;\n",
        ".csv \\;file\\; to \\;create\\; your\\; model.$"
      ]
    },
    {
      "cell_type": "code",
      "execution_count": 47,
      "metadata": {
        "id": "iPdp_mBFwIHj"
      },
      "outputs": [],
      "source": [
        "model_lab5_ex1 = ConcreteModel()"
      ]
    },
    {
      "cell_type": "code",
      "execution_count": 48,
      "metadata": {
        "colab": {
          "base_uri": "https://localhost:8080/"
        },
        "id": "VRDdmXqwwOau",
        "outputId": "01098c50-e7cd-43ef-d47d-af1bee7f3081"
      },
      "outputs": [
        {
          "name": "stdout",
          "output_type": "stream",
          "text": [
            "num steel plants:  8\n",
            "num hubs:  8\n"
          ]
        }
      ],
      "source": [
        "# we can set certain values using python variables\n",
        "M = len(data_csvfile.index)-1 #we declare a Python variable M denoting the number of steel plants  \n",
        "print('num steel plants: ',M)\n",
        "N = len(data_csvfile.columns)-2 #we declare a Python variable N denoting the number of hubs\n",
        "print('num hubs: ',N)"
      ]
    },
    {
      "cell_type": "code",
      "execution_count": 49,
      "metadata": {
        "colab": {
          "base_uri": "https://localhost:8080/"
        },
        "id": "orBgq7OswWZO",
        "outputId": "ef1243dc-aba9-410f-c639-ffb7d02655b4"
      },
      "outputs": [
        {
          "name": "stdout",
          "output_type": "stream",
          "text": [
            "range(0, 8)\n",
            "range(0, 8)\n"
          ]
        }
      ],
      "source": [
        "row_indices = range(M)\n",
        "col_indices = range(N)\n",
        "\n",
        "print(row_indices)\n",
        "print(col_indices)"
      ]
    },
    {
      "cell_type": "code",
      "execution_count": 50,
      "metadata": {
        "colab": {
          "base_uri": "https://localhost:8080/"
        },
        "id": "aFck5kB_wZzv",
        "outputId": "3f60230c-0cbc-4044-99c9-583312a39b52"
      },
      "outputs": [
        {
          "name": "stdout",
          "output_type": "stream",
          "text": [
            "cost[ 0 ][ 1 ]: 627\n",
            "cost[ 0 ][ 2 ]: 617\n",
            "cost[ 0 ][ 3 ]: 1270\n",
            "cost[ 0 ][ 4 ]: 2072\n",
            "cost[ 0 ][ 5 ]: 1415\n",
            "cost[ 0 ][ 6 ]: 2943\n",
            "cost[ 0 ][ 7 ]: 1064\n",
            "cost[ 0 ][ 8 ]: 4265\n",
            "cost[ 1 ][ 1 ]: 159\n",
            "cost[ 1 ][ 2 ]: 1432\n",
            "cost[ 1 ][ 3 ]: 351\n",
            "cost[ 1 ][ 4 ]: 3372\n",
            "cost[ 1 ][ 5 ]: 237\n",
            "cost[ 1 ][ 6 ]: 3373\n",
            "cost[ 1 ][ 7 ]: 1456\n",
            "cost[ 1 ][ 8 ]: 5059\n",
            "cost[ 2 ][ 1 ]: 609\n",
            "cost[ 2 ][ 2 ]: 1943\n",
            "cost[ 2 ][ 3 ]: 77\n",
            "cost[ 2 ][ 4 ]: 3365\n",
            "cost[ 2 ][ 5 ]: 298\n",
            "cost[ 2 ][ 6 ]: 3021\n",
            "cost[ 2 ][ 7 ]: 1484\n",
            "cost[ 2 ][ 8 ]: 4803\n",
            "cost[ 3 ][ 1 ]: 2143\n",
            "cost[ 3 ][ 2 ]: 671\n",
            "cost[ 3 ][ 3 ]: 3876\n",
            "cost[ 3 ][ 4 ]: 537\n",
            "cost[ 3 ][ 5 ]: 1902\n",
            "cost[ 3 ][ 6 ]: 1941\n",
            "cost[ 3 ][ 7 ]: 1682\n",
            "cost[ 3 ][ 8 ]: 3348\n",
            "cost[ 4 ][ 1 ]: 2742\n",
            "cost[ 4 ][ 2 ]: 2089\n",
            "cost[ 4 ][ 3 ]: 1931\n",
            "cost[ 4 ][ 4 ]: 2199\n",
            "cost[ 4 ][ 5 ]: 1226\n",
            "cost[ 4 ][ 6 ]: 739\n",
            "cost[ 4 ][ 7 ]: 691\n",
            "cost[ 4 ][ 8 ]: 1128\n",
            "cost[ 5 ][ 1 ]: 2053\n",
            "cost[ 5 ][ 2 ]: 860\n",
            "cost[ 5 ][ 3 ]: 2995\n",
            "cost[ 5 ][ 4 ]: 68\n",
            "cost[ 5 ][ 5 ]: 2069\n",
            "cost[ 5 ][ 6 ]: 2065\n",
            "cost[ 5 ][ 7 ]: 993\n",
            "cost[ 5 ][ 8 ]: 3342\n",
            "cost[ 6 ][ 1 ]: 656\n",
            "cost[ 6 ][ 2 ]: 817\n",
            "cost[ 6 ][ 3 ]: 1245\n",
            "cost[ 6 ][ 4 ]: 2141\n",
            "cost[ 6 ][ 5 ]: 1534\n",
            "cost[ 6 ][ 6 ]: 3351\n",
            "cost[ 6 ][ 7 ]: 1137\n",
            "cost[ 6 ][ 8 ]: 3887\n",
            "cost[ 7 ][ 1 ]: 195\n",
            "cost[ 7 ][ 2 ]: 1862\n",
            "cost[ 7 ][ 3 ]: 1331\n",
            "cost[ 7 ][ 4 ]: 2921\n",
            "cost[ 7 ][ 5 ]: 402\n",
            "cost[ 7 ][ 6 ]: 2825\n",
            "cost[ 7 ][ 7 ]: 563\n",
            "cost[ 7 ][ 8 ]: 4441\n"
          ]
        }
      ],
      "source": [
        "for row_idx in row_indices:\n",
        "  for col_idx in col_indices:\n",
        "    print('cost[',row_idx,'][',col_idx+1,']:',data_csvfile.iloc[row_idx, col_idx+1])"
      ]
    },
    {
      "cell_type": "code",
      "execution_count": 51,
      "metadata": {
        "id": "MJc0QVffwfLx"
      },
      "outputs": [],
      "source": [
        "model_lab5_ex1.x = Var(row_indices, col_indices, domain= NonNegativeIntegers)"
      ]
    },
    {
      "cell_type": "code",
      "execution_count": 52,
      "metadata": {
        "id": "f6RV6M3pwhOV"
      },
      "outputs": [],
      "source": [
        "model_lab5_ex1.objective = Objective(expr=sum(data_csvfile.iloc[i,j+1]*model_lab5_ex1.x[i,j] for i in row_indices for j in col_indices),sense=minimize)"
      ]
    },
    {
      "cell_type": "code",
      "execution_count": 53,
      "metadata": {
        "id": "puH4u4FPwkqh"
      },
      "outputs": [],
      "source": [
        "model_lab5_ex1.constraints = ConstraintList()"
      ]
    },
    {
      "cell_type": "code",
      "execution_count": 54,
      "metadata": {
        "id": "8tjiP5Howo2_"
      },
      "outputs": [],
      "source": [
        "for i in range(M):\n",
        "  model_lab5_ex1.constraints.add(expr=sum(model_lab5_ex1.x[i,j] for j in col_indices) <= data_csvfile.iloc[i,N+1])"
      ]
    },
    {
      "cell_type": "code",
      "execution_count": 55,
      "metadata": {
        "id": "vd7idW9Owri1"
      },
      "outputs": [],
      "source": [
        "for j in range(N):\n",
        "  model_lab5_ex1.constraints.add(expr=sum(model_lab5_ex1.x[i,j] for i in row_indices) == data_csvfile.iloc[M,j+1])"
      ]
    },
    {
      "cell_type": "code",
      "execution_count": 56,
      "metadata": {
        "colab": {
          "base_uri": "https://localhost:8080/"
        },
        "id": "UfLV6Sc-lrKh",
        "outputId": "cccde9f7-e4f0-483a-b7be-cdb0f1e8c522"
      },
      "outputs": [
        {
          "name": "stdout",
          "output_type": "stream",
          "text": [
            "4 Set Declarations\n",
            "    constraints_index : Size=1, Index=None, Ordered=Insertion\n",
            "        Key  : Dimen : Domain : Size : Members\n",
            "        None :     1 :    Any :   16 : {1, 2, 3, 4, 5, 6, 7, 8, 9, 10, 11, 12, 13, 14, 15, 16}\n",
            "    x_index : Size=1, Index=None, Ordered=False\n",
            "        Key  : Dimen : Domain              : Size : Members\n",
            "        None :     2 : x_index_0*x_index_1 :   64 : {(0, 0), (0, 1), (0, 2), (0, 3), (0, 4), (0, 5), (0, 6), (0, 7), (1, 0), (1, 1), (1, 2), (1, 3), (1, 4), (1, 5), (1, 6), (1, 7), (2, 0), (2, 1), (2, 2), (2, 3), (2, 4), (2, 5), (2, 6), (2, 7), (3, 0), (3, 1), (3, 2), (3, 3), (3, 4), (3, 5), (3, 6), (3, 7), (4, 0), (4, 1), (4, 2), (4, 3), (4, 4), (4, 5), (4, 6), (4, 7), (5, 0), (5, 1), (5, 2), (5, 3), (5, 4), (5, 5), (5, 6), (5, 7), (6, 0), (6, 1), (6, 2), (6, 3), (6, 4), (6, 5), (6, 6), (6, 7), (7, 0), (7, 1), (7, 2), (7, 3), (7, 4), (7, 5), (7, 6), (7, 7)}\n",
            "    x_index_0 : Size=1, Index=None, Ordered=False\n",
            "        Key  : Dimen : Domain : Size : Members\n",
            "        None :     1 :    Any :    8 : {0, 1, 2, 3, 4, 5, 6, 7}\n",
            "    x_index_1 : Size=1, Index=None, Ordered=False\n",
            "        Key  : Dimen : Domain : Size : Members\n",
            "        None :     1 :    Any :    8 : {0, 1, 2, 3, 4, 5, 6, 7}\n",
            "\n",
            "1 Var Declarations\n",
            "    x : Size=64, Index=x_index\n",
            "        Key    : Lower : Value : Upper : Fixed : Stale : Domain\n",
            "        (0, 0) :     0 :  None :  None : False :  True : NonNegativeIntegers\n",
            "        (0, 1) :     0 :  None :  None : False :  True : NonNegativeIntegers\n",
            "        (0, 2) :     0 :  None :  None : False :  True : NonNegativeIntegers\n",
            "        (0, 3) :     0 :  None :  None : False :  True : NonNegativeIntegers\n",
            "        (0, 4) :     0 :  None :  None : False :  True : NonNegativeIntegers\n",
            "        (0, 5) :     0 :  None :  None : False :  True : NonNegativeIntegers\n",
            "        (0, 6) :     0 :  None :  None : False :  True : NonNegativeIntegers\n",
            "        (0, 7) :     0 :  None :  None : False :  True : NonNegativeIntegers\n",
            "        (1, 0) :     0 :  None :  None : False :  True : NonNegativeIntegers\n",
            "        (1, 1) :     0 :  None :  None : False :  True : NonNegativeIntegers\n",
            "        (1, 2) :     0 :  None :  None : False :  True : NonNegativeIntegers\n",
            "        (1, 3) :     0 :  None :  None : False :  True : NonNegativeIntegers\n",
            "        (1, 4) :     0 :  None :  None : False :  True : NonNegativeIntegers\n",
            "        (1, 5) :     0 :  None :  None : False :  True : NonNegativeIntegers\n",
            "        (1, 6) :     0 :  None :  None : False :  True : NonNegativeIntegers\n",
            "        (1, 7) :     0 :  None :  None : False :  True : NonNegativeIntegers\n",
            "        (2, 0) :     0 :  None :  None : False :  True : NonNegativeIntegers\n",
            "        (2, 1) :     0 :  None :  None : False :  True : NonNegativeIntegers\n",
            "        (2, 2) :     0 :  None :  None : False :  True : NonNegativeIntegers\n",
            "        (2, 3) :     0 :  None :  None : False :  True : NonNegativeIntegers\n",
            "        (2, 4) :     0 :  None :  None : False :  True : NonNegativeIntegers\n",
            "        (2, 5) :     0 :  None :  None : False :  True : NonNegativeIntegers\n",
            "        (2, 6) :     0 :  None :  None : False :  True : NonNegativeIntegers\n",
            "        (2, 7) :     0 :  None :  None : False :  True : NonNegativeIntegers\n",
            "        (3, 0) :     0 :  None :  None : False :  True : NonNegativeIntegers\n",
            "        (3, 1) :     0 :  None :  None : False :  True : NonNegativeIntegers\n",
            "        (3, 2) :     0 :  None :  None : False :  True : NonNegativeIntegers\n",
            "        (3, 3) :     0 :  None :  None : False :  True : NonNegativeIntegers\n",
            "        (3, 4) :     0 :  None :  None : False :  True : NonNegativeIntegers\n",
            "        (3, 5) :     0 :  None :  None : False :  True : NonNegativeIntegers\n",
            "        (3, 6) :     0 :  None :  None : False :  True : NonNegativeIntegers\n",
            "        (3, 7) :     0 :  None :  None : False :  True : NonNegativeIntegers\n",
            "        (4, 0) :     0 :  None :  None : False :  True : NonNegativeIntegers\n",
            "        (4, 1) :     0 :  None :  None : False :  True : NonNegativeIntegers\n",
            "        (4, 2) :     0 :  None :  None : False :  True : NonNegativeIntegers\n",
            "        (4, 3) :     0 :  None :  None : False :  True : NonNegativeIntegers\n",
            "        (4, 4) :     0 :  None :  None : False :  True : NonNegativeIntegers\n",
            "        (4, 5) :     0 :  None :  None : False :  True : NonNegativeIntegers\n",
            "        (4, 6) :     0 :  None :  None : False :  True : NonNegativeIntegers\n",
            "        (4, 7) :     0 :  None :  None : False :  True : NonNegativeIntegers\n",
            "        (5, 0) :     0 :  None :  None : False :  True : NonNegativeIntegers\n",
            "        (5, 1) :     0 :  None :  None : False :  True : NonNegativeIntegers\n",
            "        (5, 2) :     0 :  None :  None : False :  True : NonNegativeIntegers\n",
            "        (5, 3) :     0 :  None :  None : False :  True : NonNegativeIntegers\n",
            "        (5, 4) :     0 :  None :  None : False :  True : NonNegativeIntegers\n",
            "        (5, 5) :     0 :  None :  None : False :  True : NonNegativeIntegers\n",
            "        (5, 6) :     0 :  None :  None : False :  True : NonNegativeIntegers\n",
            "        (5, 7) :     0 :  None :  None : False :  True : NonNegativeIntegers\n",
            "        (6, 0) :     0 :  None :  None : False :  True : NonNegativeIntegers\n",
            "        (6, 1) :     0 :  None :  None : False :  True : NonNegativeIntegers\n",
            "        (6, 2) :     0 :  None :  None : False :  True : NonNegativeIntegers\n",
            "        (6, 3) :     0 :  None :  None : False :  True : NonNegativeIntegers\n",
            "        (6, 4) :     0 :  None :  None : False :  True : NonNegativeIntegers\n",
            "        (6, 5) :     0 :  None :  None : False :  True : NonNegativeIntegers\n",
            "        (6, 6) :     0 :  None :  None : False :  True : NonNegativeIntegers\n",
            "        (6, 7) :     0 :  None :  None : False :  True : NonNegativeIntegers\n",
            "        (7, 0) :     0 :  None :  None : False :  True : NonNegativeIntegers\n",
            "        (7, 1) :     0 :  None :  None : False :  True : NonNegativeIntegers\n",
            "        (7, 2) :     0 :  None :  None : False :  True : NonNegativeIntegers\n",
            "        (7, 3) :     0 :  None :  None : False :  True : NonNegativeIntegers\n",
            "        (7, 4) :     0 :  None :  None : False :  True : NonNegativeIntegers\n",
            "        (7, 5) :     0 :  None :  None : False :  True : NonNegativeIntegers\n",
            "        (7, 6) :     0 :  None :  None : False :  True : NonNegativeIntegers\n",
            "        (7, 7) :     0 :  None :  None : False :  True : NonNegativeIntegers\n",
            "\n",
            "1 Objective Declarations\n",
            "    objective : Size=1, Index=None, Active=True\n",
            "        Key  : Active : Sense    : Expression\n",
            "        None :   True : minimize : 627*x[0,0] + 617*x[0,1] + 1270*x[0,2] + 2072*x[0,3] + 1415*x[0,4] + 2943*x[0,5] + 1064*x[0,6] + 4265*x[0,7] + 159*x[1,0] + 1432*x[1,1] + 351*x[1,2] + 3372*x[1,3] + 237*x[1,4] + 3373*x[1,5] + 1456*x[1,6] + 5059*x[1,7] + 609*x[2,0] + 1943*x[2,1] + 77*x[2,2] + 3365*x[2,3] + 298*x[2,4] + 3021*x[2,5] + 1484*x[2,6] + 4803*x[2,7] + 2143*x[3,0] + 671*x[3,1] + 3876*x[3,2] + 537*x[3,3] + 1902*x[3,4] + 1941*x[3,5] + 1682*x[3,6] + 3348*x[3,7] + 2742*x[4,0] + 2089*x[4,1] + 1931*x[4,2] + 2199*x[4,3] + 1226*x[4,4] + 739*x[4,5] + 691*x[4,6] + 1128*x[4,7] + 2053*x[5,0] + 860*x[5,1] + 2995*x[5,2] + 68*x[5,3] + 2069*x[5,4] + 2065*x[5,5] + 993*x[5,6] + 3342*x[5,7] + 656*x[6,0] + 817*x[6,1] + 1245*x[6,2] + 2141*x[6,3] + 1534*x[6,4] + 3351*x[6,5] + 1137*x[6,6] + 3887*x[6,7] + 195*x[7,0] + 1862*x[7,1] + 1331*x[7,2] + 2921*x[7,3] + 402*x[7,4] + 2825*x[7,5] + 563*x[7,6] + 4441*x[7,7]\n",
            "\n",
            "1 Constraint Declarations\n",
            "    constraints : Size=16, Index=constraints_index, Active=True\n",
            "        Key : Lower : Body                                                                  : Upper : Active\n",
            "          1 :  -Inf : x[0,0] + x[0,1] + x[0,2] + x[0,3] + x[0,4] + x[0,5] + x[0,6] + x[0,7] : 185.0 :   True\n",
            "          2 :  -Inf : x[1,0] + x[1,1] + x[1,2] + x[1,3] + x[1,4] + x[1,5] + x[1,6] + x[1,7] : 350.0 :   True\n",
            "          3 :  -Inf : x[2,0] + x[2,1] + x[2,2] + x[2,3] + x[2,4] + x[2,5] + x[2,6] + x[2,7] : 405.0 :   True\n",
            "          4 :  -Inf : x[3,0] + x[3,1] + x[3,2] + x[3,3] + x[3,4] + x[3,5] + x[3,6] + x[3,7] : 280.0 :   True\n",
            "          5 :  -Inf : x[4,0] + x[4,1] + x[4,2] + x[4,3] + x[4,4] + x[4,5] + x[4,6] + x[4,7] : 105.0 :   True\n",
            "          6 :  -Inf : x[5,0] + x[5,1] + x[5,2] + x[5,3] + x[5,4] + x[5,5] + x[5,6] + x[5,7] :  75.0 :   True\n",
            "          7 :  -Inf : x[6,0] + x[6,1] + x[6,2] + x[6,3] + x[6,4] + x[6,5] + x[6,6] + x[6,7] : 425.0 :   True\n",
            "          8 :  -Inf : x[7,0] + x[7,1] + x[7,2] + x[7,3] + x[7,4] + x[7,5] + x[7,6] + x[7,7] : 270.0 :   True\n",
            "          9 : 175.0 : x[0,0] + x[1,0] + x[2,0] + x[3,0] + x[4,0] + x[5,0] + x[6,0] + x[7,0] : 175.0 :   True\n",
            "         10 : 400.0 : x[0,1] + x[1,1] + x[2,1] + x[3,1] + x[4,1] + x[5,1] + x[6,1] + x[7,1] : 400.0 :   True\n",
            "         11 : 550.0 : x[0,2] + x[1,2] + x[2,2] + x[3,2] + x[4,2] + x[5,2] + x[6,2] + x[7,2] : 550.0 :   True\n",
            "         12 :  70.0 : x[0,3] + x[1,3] + x[2,3] + x[3,3] + x[4,3] + x[5,3] + x[6,3] + x[7,3] :  70.0 :   True\n",
            "         13 : 650.0 : x[0,4] + x[1,4] + x[2,4] + x[3,4] + x[4,4] + x[5,4] + x[6,4] + x[7,4] : 650.0 :   True\n",
            "         14 : 100.0 : x[0,5] + x[1,5] + x[2,5] + x[3,5] + x[4,5] + x[5,5] + x[6,5] + x[7,5] : 100.0 :   True\n",
            "         15 :  65.0 : x[0,6] + x[1,6] + x[2,6] + x[3,6] + x[4,6] + x[5,6] + x[6,6] + x[7,6] :  65.0 :   True\n",
            "         16 :  85.0 : x[0,7] + x[1,7] + x[2,7] + x[3,7] + x[4,7] + x[5,7] + x[6,7] + x[7,7] :  85.0 :   True\n",
            "\n",
            "7 Declarations: x_index_0 x_index_1 x_index x objective constraints_index constraints\n"
          ]
        }
      ],
      "source": [
        "model_lab5_ex1.pprint()"
      ]
    },
    {
      "cell_type": "markdown",
      "metadata": {
        "id": "nHQ99zRqnQBY"
      },
      "source": [
        "$Q6. \\;Using \\;cbc\\; solver\\; to\\; solve \\;your\\; optimization \\;problem, \\;all\\; the\\; decesion\\; variables\\; are\\; integers.$"
      ]
    },
    {
      "cell_type": "code",
      "execution_count": 57,
      "metadata": {
        "colab": {
          "base_uri": "https://localhost:8080/"
        },
        "id": "p3gnxAWsl6u2",
        "outputId": "833d1a39-cf27-4922-b578-a390ac5a2178"
      },
      "outputs": [
        {
          "name": "stdout",
          "output_type": "stream",
          "text": [
            "Solver status: ok\n",
            "Solver termination condition: optimal\n"
          ]
        }
      ],
      "source": [
        "!apt-get install -y -qq coinor-cbc\n",
        "opt_cbc = SolverFactory('cbc')\n",
        "result = opt_cbc.solve(model_lab5_ex1)\n",
        "print('Solver status:', result.solver.status)\n",
        "print('Solver termination condition:',result.solver.termination_condition)"
      ]
    },
    {
      "cell_type": "markdown",
      "metadata": {
        "id": "SGKGO0-KpeYw"
      },
      "source": [
        "$Q7. \\; Reporting \\;the \\;number\\; of\\; truck-loads\\; of \\;WMUs\\; that\\; are \\;transported\\; from\\; warehouses\\; to\\; markets\\; and\\; the\\; total\\; cost.$"
      ]
    },
    {
      "cell_type": "code",
      "execution_count": 58,
      "metadata": {
        "colab": {
          "base_uri": "https://localhost:8080/"
        },
        "id": "n1zmFVJDmK-q",
        "outputId": "e6c29791-2879-4a39-fe59-0ad691ea9a96"
      },
      "outputs": [
        {
          "name": "stdout",
          "output_type": "stream",
          "text": [
            "\n",
            "Total Cost =  1166465.0\n",
            "\n",
            "Decision Variables\n",
            "Number of trucks-loads of WMU that are transported from  Ahmedabad  to  Jodhpur : 185.0\n",
            "Number of trucks-loads of WMU that are transported from  Bengaluru  to  Vijayawada : 350.0\n",
            "Number of trucks-loads of WMU that are transported from  Chennai  to  Trichy : 375.0\n",
            "Number of trucks-loads of WMU that are transported from  Chennai  to  Vijayawada : 30.0\n",
            "Number of trucks-loads of WMU that are transported from  Delhi  to  Jodhpur : 200.0\n",
            "Number of trucks-loads of WMU that are transported from  Delhi  to  Dibrugarh : 80.0\n",
            "Number of trucks-loads of WMU that are transported from  Kolkata  to  Dibrugarh : 20.0\n",
            "Number of trucks-loads of WMU that are transported from  Kolkata  to  Agartala : 85.0\n",
            "Number of trucks-loads of WMU that are transported from  Lucknow  to  Simla : 70.0\n",
            "Number of trucks-loads of WMU that are transported from  Lucknow  to  Raipur : 5.0\n",
            "Number of trucks-loads of WMU that are transported from  Mumbai  to  Hassan : 175.0\n",
            "Number of trucks-loads of WMU that are transported from  Mumbai  to  Jodhpur : 15.0\n",
            "Number of trucks-loads of WMU that are transported from  Mumbai  to  Trichy : 175.0\n",
            "Number of trucks-loads of WMU that are transported from  Mumbai  to  Raipur : 60.0\n",
            "Number of trucks-loads of WMU that are transported from  Hyderabad  to  Vijayawada : 270.0\n"
          ]
        }
      ],
      "source": [
        "print('\\nTotal Cost = ', model_lab5_ex1.objective())\n",
        "\n",
        "print('\\nDecision Variables')\n",
        "for i in row_indices:\n",
        "  for j in col_indices:\n",
        "     if model_lab5_ex1.x[i,j].value!=0:\n",
        "      print('Number of trucks-loads of WMU that are transported from ',data_csvfile.Warehouses[i],' to ', data_csvfile.columns[j+1],':', model_lab5_ex1.x[i,j].value)\n"
      ]
    },
    {
      "cell_type": "markdown",
      "metadata": {
        "id": "_9M_QkhurnE2"
      },
      "source": [
        "$Q8.\\; Since,\\; the\\; Bengaluru-Hassan\\; link\\; is\\; disrupted\\; and \\;we\\; can't\\; transport \\;in \\;that\\; link.\\; For \\;that\\; reason,\\; we \\;increase\\; the\\; transporting \\;cost\\; from\\; Bengaluru \\;to\\; Hassan \\;so\\; that\\; this\\; route\\; will\\; not\\; be \\;included\\; in\\; the\\; optimal\\; solution\\; as \\;we \\;solve\\; the\\; optization\\; problem \\;and \\;we\\; also\\; don't\\; need \\;to\\;change\\; the\\; pyomo\\; model.$"
      ]
    },
    {
      "cell_type": "code",
      "execution_count": 59,
      "metadata": {
        "id": "RRduAsymEfos"
      },
      "outputs": [],
      "source": [
        "data_csvfile.iloc[1, 1]=9999999"
      ]
    },
    {
      "cell_type": "code",
      "execution_count": 60,
      "metadata": {
        "colab": {
          "base_uri": "https://localhost:8080/"
        },
        "id": "jLkT0wA1Ehh2",
        "outputId": "e11c2579-cc90-4319-a467-ec4d4a774b06"
      },
      "outputs": [
        {
          "name": "stdout",
          "output_type": "stream",
          "text": [
            "cost[ 0 ][ 1 ]: 627\n",
            "cost[ 0 ][ 2 ]: 617\n",
            "cost[ 0 ][ 3 ]: 1270\n",
            "cost[ 0 ][ 4 ]: 2072\n",
            "cost[ 0 ][ 5 ]: 1415\n",
            "cost[ 0 ][ 6 ]: 2943\n",
            "cost[ 0 ][ 7 ]: 1064\n",
            "cost[ 0 ][ 8 ]: 4265\n",
            "cost[ 1 ][ 1 ]: 9999999\n",
            "cost[ 1 ][ 2 ]: 1432\n",
            "cost[ 1 ][ 3 ]: 351\n",
            "cost[ 1 ][ 4 ]: 3372\n",
            "cost[ 1 ][ 5 ]: 237\n",
            "cost[ 1 ][ 6 ]: 3373\n",
            "cost[ 1 ][ 7 ]: 1456\n",
            "cost[ 1 ][ 8 ]: 5059\n",
            "cost[ 2 ][ 1 ]: 609\n",
            "cost[ 2 ][ 2 ]: 1943\n",
            "cost[ 2 ][ 3 ]: 77\n",
            "cost[ 2 ][ 4 ]: 3365\n",
            "cost[ 2 ][ 5 ]: 298\n",
            "cost[ 2 ][ 6 ]: 3021\n",
            "cost[ 2 ][ 7 ]: 1484\n",
            "cost[ 2 ][ 8 ]: 4803\n",
            "cost[ 3 ][ 1 ]: 2143\n",
            "cost[ 3 ][ 2 ]: 671\n",
            "cost[ 3 ][ 3 ]: 3876\n",
            "cost[ 3 ][ 4 ]: 537\n",
            "cost[ 3 ][ 5 ]: 1902\n",
            "cost[ 3 ][ 6 ]: 1941\n",
            "cost[ 3 ][ 7 ]: 1682\n",
            "cost[ 3 ][ 8 ]: 3348\n",
            "cost[ 4 ][ 1 ]: 2742\n",
            "cost[ 4 ][ 2 ]: 2089\n",
            "cost[ 4 ][ 3 ]: 1931\n",
            "cost[ 4 ][ 4 ]: 2199\n",
            "cost[ 4 ][ 5 ]: 1226\n",
            "cost[ 4 ][ 6 ]: 739\n",
            "cost[ 4 ][ 7 ]: 691\n",
            "cost[ 4 ][ 8 ]: 1128\n",
            "cost[ 5 ][ 1 ]: 2053\n",
            "cost[ 5 ][ 2 ]: 860\n",
            "cost[ 5 ][ 3 ]: 2995\n",
            "cost[ 5 ][ 4 ]: 68\n",
            "cost[ 5 ][ 5 ]: 2069\n",
            "cost[ 5 ][ 6 ]: 2065\n",
            "cost[ 5 ][ 7 ]: 993\n",
            "cost[ 5 ][ 8 ]: 3342\n",
            "cost[ 6 ][ 1 ]: 656\n",
            "cost[ 6 ][ 2 ]: 817\n",
            "cost[ 6 ][ 3 ]: 1245\n",
            "cost[ 6 ][ 4 ]: 2141\n",
            "cost[ 6 ][ 5 ]: 1534\n",
            "cost[ 6 ][ 6 ]: 3351\n",
            "cost[ 6 ][ 7 ]: 1137\n",
            "cost[ 6 ][ 8 ]: 3887\n",
            "cost[ 7 ][ 1 ]: 195\n",
            "cost[ 7 ][ 2 ]: 1862\n",
            "cost[ 7 ][ 3 ]: 1331\n",
            "cost[ 7 ][ 4 ]: 2921\n",
            "cost[ 7 ][ 5 ]: 402\n",
            "cost[ 7 ][ 6 ]: 2825\n",
            "cost[ 7 ][ 7 ]: 563\n",
            "cost[ 7 ][ 8 ]: 4441\n"
          ]
        }
      ],
      "source": [
        "for row_idx in row_indices:\n",
        "  for col_idx in col_indices:\n",
        "    print('cost[',row_idx,'][',col_idx+1,']:',data_csvfile.iloc[row_idx, col_idx+1])"
      ]
    },
    {
      "cell_type": "code",
      "execution_count": 61,
      "metadata": {
        "colab": {
          "base_uri": "https://localhost:8080/"
        },
        "id": "Mcb5GPZSEj7q",
        "outputId": "72e0da12-0c54-430f-dd6f-1b8e4a858a29"
      },
      "outputs": [
        {
          "name": "stdout",
          "output_type": "stream",
          "text": [
            "WARNING: Implicitly replacing the Component attribute objective (type=<class\n",
            "    'pyomo.core.base.objective.ScalarObjective'>) on block unknown with a new\n",
            "    Component (type=<class 'pyomo.core.base.objective.ScalarObjective'>). This\n",
            "    is usually indicative of a modelling error. To avoid this warning, use\n",
            "    block.del_component() and block.add_component().\n",
            "4 Set Declarations\n",
            "    constraints_index : Size=1, Index=None, Ordered=Insertion\n",
            "        Key  : Dimen : Domain : Size : Members\n",
            "        None :     1 :    Any :   16 : {1, 2, 3, 4, 5, 6, 7, 8, 9, 10, 11, 12, 13, 14, 15, 16}\n",
            "    x_index : Size=1, Index=None, Ordered=False\n",
            "        Key  : Dimen : Domain              : Size : Members\n",
            "        None :     2 : x_index_0*x_index_1 :   64 : {(0, 0), (0, 1), (0, 2), (0, 3), (0, 4), (0, 5), (0, 6), (0, 7), (1, 0), (1, 1), (1, 2), (1, 3), (1, 4), (1, 5), (1, 6), (1, 7), (2, 0), (2, 1), (2, 2), (2, 3), (2, 4), (2, 5), (2, 6), (2, 7), (3, 0), (3, 1), (3, 2), (3, 3), (3, 4), (3, 5), (3, 6), (3, 7), (4, 0), (4, 1), (4, 2), (4, 3), (4, 4), (4, 5), (4, 6), (4, 7), (5, 0), (5, 1), (5, 2), (5, 3), (5, 4), (5, 5), (5, 6), (5, 7), (6, 0), (6, 1), (6, 2), (6, 3), (6, 4), (6, 5), (6, 6), (6, 7), (7, 0), (7, 1), (7, 2), (7, 3), (7, 4), (7, 5), (7, 6), (7, 7)}\n",
            "    x_index_0 : Size=1, Index=None, Ordered=False\n",
            "        Key  : Dimen : Domain : Size : Members\n",
            "        None :     1 :    Any :    8 : {0, 1, 2, 3, 4, 5, 6, 7}\n",
            "    x_index_1 : Size=1, Index=None, Ordered=False\n",
            "        Key  : Dimen : Domain : Size : Members\n",
            "        None :     1 :    Any :    8 : {0, 1, 2, 3, 4, 5, 6, 7}\n",
            "\n",
            "1 Var Declarations\n",
            "    x : Size=64, Index=x_index\n",
            "        Key    : Lower : Value : Upper : Fixed : Stale : Domain\n",
            "        (0, 0) :     0 :   0.0 :  None : False : False : NonNegativeIntegers\n",
            "        (0, 1) :     0 : 185.0 :  None : False : False : NonNegativeIntegers\n",
            "        (0, 2) :     0 :   0.0 :  None : False : False : NonNegativeIntegers\n",
            "        (0, 3) :     0 :   0.0 :  None : False : False : NonNegativeIntegers\n",
            "        (0, 4) :     0 :   0.0 :  None : False : False : NonNegativeIntegers\n",
            "        (0, 5) :     0 :   0.0 :  None : False : False : NonNegativeIntegers\n",
            "        (0, 6) :     0 :   0.0 :  None : False : False : NonNegativeIntegers\n",
            "        (0, 7) :     0 :   0.0 :  None : False : False : NonNegativeIntegers\n",
            "        (1, 0) :     0 :   0.0 :  None : False : False : NonNegativeIntegers\n",
            "        (1, 1) :     0 :   0.0 :  None : False : False : NonNegativeIntegers\n",
            "        (1, 2) :     0 :   0.0 :  None : False : False : NonNegativeIntegers\n",
            "        (1, 3) :     0 :   0.0 :  None : False : False : NonNegativeIntegers\n",
            "        (1, 4) :     0 : 350.0 :  None : False : False : NonNegativeIntegers\n",
            "        (1, 5) :     0 :   0.0 :  None : False : False : NonNegativeIntegers\n",
            "        (1, 6) :     0 :   0.0 :  None : False : False : NonNegativeIntegers\n",
            "        (1, 7) :     0 :   0.0 :  None : False : False : NonNegativeIntegers\n",
            "        (2, 0) :     0 :   0.0 :  None : False : False : NonNegativeIntegers\n",
            "        (2, 1) :     0 :   0.0 :  None : False : False : NonNegativeIntegers\n",
            "        (2, 2) :     0 : 375.0 :  None : False : False : NonNegativeIntegers\n",
            "        (2, 3) :     0 :   0.0 :  None : False : False : NonNegativeIntegers\n",
            "        (2, 4) :     0 :  30.0 :  None : False : False : NonNegativeIntegers\n",
            "        (2, 5) :     0 :   0.0 :  None : False : False : NonNegativeIntegers\n",
            "        (2, 6) :     0 :   0.0 :  None : False : False : NonNegativeIntegers\n",
            "        (2, 7) :     0 :   0.0 :  None : False : False : NonNegativeIntegers\n",
            "        (3, 0) :     0 :   0.0 :  None : False : False : NonNegativeIntegers\n",
            "        (3, 1) :     0 : 200.0 :  None : False : False : NonNegativeIntegers\n",
            "        (3, 2) :     0 :   0.0 :  None : False : False : NonNegativeIntegers\n",
            "        (3, 3) :     0 :   0.0 :  None : False : False : NonNegativeIntegers\n",
            "        (3, 4) :     0 :   0.0 :  None : False : False : NonNegativeIntegers\n",
            "        (3, 5) :     0 :  80.0 :  None : False : False : NonNegativeIntegers\n",
            "        (3, 6) :     0 :   0.0 :  None : False : False : NonNegativeIntegers\n",
            "        (3, 7) :     0 :   0.0 :  None : False : False : NonNegativeIntegers\n",
            "        (4, 0) :     0 :   0.0 :  None : False : False : NonNegativeIntegers\n",
            "        (4, 1) :     0 :   0.0 :  None : False : False : NonNegativeIntegers\n",
            "        (4, 2) :     0 :   0.0 :  None : False : False : NonNegativeIntegers\n",
            "        (4, 3) :     0 :   0.0 :  None : False : False : NonNegativeIntegers\n",
            "        (4, 4) :     0 :   0.0 :  None : False : False : NonNegativeIntegers\n",
            "        (4, 5) :     0 :  20.0 :  None : False : False : NonNegativeIntegers\n",
            "        (4, 6) :     0 :   0.0 :  None : False : False : NonNegativeIntegers\n",
            "        (4, 7) :     0 :  85.0 :  None : False : False : NonNegativeIntegers\n",
            "        (5, 0) :     0 :   0.0 :  None : False : False : NonNegativeIntegers\n",
            "        (5, 1) :     0 :   0.0 :  None : False : False : NonNegativeIntegers\n",
            "        (5, 2) :     0 :   0.0 :  None : False : False : NonNegativeIntegers\n",
            "        (5, 3) :     0 :  70.0 :  None : False : False : NonNegativeIntegers\n",
            "        (5, 4) :     0 :   0.0 :  None : False : False : NonNegativeIntegers\n",
            "        (5, 5) :     0 :   0.0 :  None : False : False : NonNegativeIntegers\n",
            "        (5, 6) :     0 :   5.0 :  None : False : False : NonNegativeIntegers\n",
            "        (5, 7) :     0 :   0.0 :  None : False : False : NonNegativeIntegers\n",
            "        (6, 0) :     0 : 175.0 :  None : False : False : NonNegativeIntegers\n",
            "        (6, 1) :     0 :  15.0 :  None : False : False : NonNegativeIntegers\n",
            "        (6, 2) :     0 : 175.0 :  None : False : False : NonNegativeIntegers\n",
            "        (6, 3) :     0 :   0.0 :  None : False : False : NonNegativeIntegers\n",
            "        (6, 4) :     0 :   0.0 :  None : False : False : NonNegativeIntegers\n",
            "        (6, 5) :     0 :   0.0 :  None : False : False : NonNegativeIntegers\n",
            "        (6, 6) :     0 :  60.0 :  None : False : False : NonNegativeIntegers\n",
            "        (6, 7) :     0 :   0.0 :  None : False : False : NonNegativeIntegers\n",
            "        (7, 0) :     0 :   0.0 :  None : False : False : NonNegativeIntegers\n",
            "        (7, 1) :     0 :   0.0 :  None : False : False : NonNegativeIntegers\n",
            "        (7, 2) :     0 :   0.0 :  None : False : False : NonNegativeIntegers\n",
            "        (7, 3) :     0 :   0.0 :  None : False : False : NonNegativeIntegers\n",
            "        (7, 4) :     0 : 270.0 :  None : False : False : NonNegativeIntegers\n",
            "        (7, 5) :     0 :   0.0 :  None : False : False : NonNegativeIntegers\n",
            "        (7, 6) :     0 :   0.0 :  None : False : False : NonNegativeIntegers\n",
            "        (7, 7) :     0 :   0.0 :  None : False : False : NonNegativeIntegers\n",
            "\n",
            "1 Objective Declarations\n",
            "    objective : Size=1, Index=None, Active=True\n",
            "        Key  : Active : Sense    : Expression\n",
            "        None :   True : minimize : 627*x[0,0] + 617*x[0,1] + 1270*x[0,2] + 2072*x[0,3] + 1415*x[0,4] + 2943*x[0,5] + 1064*x[0,6] + 4265*x[0,7] + 9999999*x[1,0] + 1432*x[1,1] + 351*x[1,2] + 3372*x[1,3] + 237*x[1,4] + 3373*x[1,5] + 1456*x[1,6] + 5059*x[1,7] + 609*x[2,0] + 1943*x[2,1] + 77*x[2,2] + 3365*x[2,3] + 298*x[2,4] + 3021*x[2,5] + 1484*x[2,6] + 4803*x[2,7] + 2143*x[3,0] + 671*x[3,1] + 3876*x[3,2] + 537*x[3,3] + 1902*x[3,4] + 1941*x[3,5] + 1682*x[3,6] + 3348*x[3,7] + 2742*x[4,0] + 2089*x[4,1] + 1931*x[4,2] + 2199*x[4,3] + 1226*x[4,4] + 739*x[4,5] + 691*x[4,6] + 1128*x[4,7] + 2053*x[5,0] + 860*x[5,1] + 2995*x[5,2] + 68*x[5,3] + 2069*x[5,4] + 2065*x[5,5] + 993*x[5,6] + 3342*x[5,7] + 656*x[6,0] + 817*x[6,1] + 1245*x[6,2] + 2141*x[6,3] + 1534*x[6,4] + 3351*x[6,5] + 1137*x[6,6] + 3887*x[6,7] + 195*x[7,0] + 1862*x[7,1] + 1331*x[7,2] + 2921*x[7,3] + 402*x[7,4] + 2825*x[7,5] + 563*x[7,6] + 4441*x[7,7]\n",
            "\n",
            "1 Constraint Declarations\n",
            "    constraints : Size=16, Index=constraints_index, Active=True\n",
            "        Key : Lower : Body                                                                  : Upper : Active\n",
            "          1 :  -Inf : x[0,0] + x[0,1] + x[0,2] + x[0,3] + x[0,4] + x[0,5] + x[0,6] + x[0,7] : 185.0 :   True\n",
            "          2 :  -Inf : x[1,0] + x[1,1] + x[1,2] + x[1,3] + x[1,4] + x[1,5] + x[1,6] + x[1,7] : 350.0 :   True\n",
            "          3 :  -Inf : x[2,0] + x[2,1] + x[2,2] + x[2,3] + x[2,4] + x[2,5] + x[2,6] + x[2,7] : 405.0 :   True\n",
            "          4 :  -Inf : x[3,0] + x[3,1] + x[3,2] + x[3,3] + x[3,4] + x[3,5] + x[3,6] + x[3,7] : 280.0 :   True\n",
            "          5 :  -Inf : x[4,0] + x[4,1] + x[4,2] + x[4,3] + x[4,4] + x[4,5] + x[4,6] + x[4,7] : 105.0 :   True\n",
            "          6 :  -Inf : x[5,0] + x[5,1] + x[5,2] + x[5,3] + x[5,4] + x[5,5] + x[5,6] + x[5,7] :  75.0 :   True\n",
            "          7 :  -Inf : x[6,0] + x[6,1] + x[6,2] + x[6,3] + x[6,4] + x[6,5] + x[6,6] + x[6,7] : 425.0 :   True\n",
            "          8 :  -Inf : x[7,0] + x[7,1] + x[7,2] + x[7,3] + x[7,4] + x[7,5] + x[7,6] + x[7,7] : 270.0 :   True\n",
            "          9 : 175.0 : x[0,0] + x[1,0] + x[2,0] + x[3,0] + x[4,0] + x[5,0] + x[6,0] + x[7,0] : 175.0 :   True\n",
            "         10 : 400.0 : x[0,1] + x[1,1] + x[2,1] + x[3,1] + x[4,1] + x[5,1] + x[6,1] + x[7,1] : 400.0 :   True\n",
            "         11 : 550.0 : x[0,2] + x[1,2] + x[2,2] + x[3,2] + x[4,2] + x[5,2] + x[6,2] + x[7,2] : 550.0 :   True\n",
            "         12 :  70.0 : x[0,3] + x[1,3] + x[2,3] + x[3,3] + x[4,3] + x[5,3] + x[6,3] + x[7,3] :  70.0 :   True\n",
            "         13 : 650.0 : x[0,4] + x[1,4] + x[2,4] + x[3,4] + x[4,4] + x[5,4] + x[6,4] + x[7,4] : 650.0 :   True\n",
            "         14 : 100.0 : x[0,5] + x[1,5] + x[2,5] + x[3,5] + x[4,5] + x[5,5] + x[6,5] + x[7,5] : 100.0 :   True\n",
            "         15 :  65.0 : x[0,6] + x[1,6] + x[2,6] + x[3,6] + x[4,6] + x[5,6] + x[6,6] + x[7,6] :  65.0 :   True\n",
            "         16 :  85.0 : x[0,7] + x[1,7] + x[2,7] + x[3,7] + x[4,7] + x[5,7] + x[6,7] + x[7,7] :  85.0 :   True\n",
            "\n",
            "7 Declarations: x_index_0 x_index_1 x_index x constraints_index constraints objective\n",
            "Solver status: ok\n",
            "Solver termination condition: optimal\n"
          ]
        }
      ],
      "source": [
        "model_lab5_ex1.reconstruct\n",
        "\n",
        "model_lab5_ex1.objective = Objective(expr=sum(data_csvfile.iloc[i,j+1]*model_lab5_ex1.x[i,j] for i in row_indices for j in col_indices),sense=minimize)\n",
        "\n",
        "model_lab5_ex1.pprint()\n",
        "\n",
        "result = opt_cbc.solve(model_lab5_ex1)\n",
        "print('Solver status:', result.solver.status)\n",
        "print('Solver termination condition:',result.solver.termination_condition)\n"
      ]
    },
    {
      "cell_type": "markdown",
      "metadata": {
        "id": "7QyU-JLNa45q"
      },
      "source": [
        "$Q9. \\; Reporting \\;the\\;  new\\; solution\\; value\\; and\\; the\\; total\\; cost.$"
      ]
    },
    {
      "cell_type": "code",
      "execution_count": 62,
      "metadata": {
        "colab": {
          "base_uri": "https://localhost:8080/"
        },
        "id": "4DLe4pVyawRJ",
        "outputId": "8d3810d9-3a7a-4d2b-c676-92c0b5288acc"
      },
      "outputs": [
        {
          "name": "stdout",
          "output_type": "stream",
          "text": [
            "\n",
            "Total Cost =  1166465.0\n",
            "\n",
            "Decision Variables\n",
            "Number of trucks-loads of WMU that are transported from  Ahmedabad  to  Jodhpur : 185.0\n",
            "Number of trucks-loads of WMU that are transported from  Bengaluru  to  Vijayawada : 350.0\n",
            "Number of trucks-loads of WMU that are transported from  Chennai  to  Trichy : 375.0\n",
            "Number of trucks-loads of WMU that are transported from  Chennai  to  Vijayawada : 30.0\n",
            "Number of trucks-loads of WMU that are transported from  Delhi  to  Jodhpur : 200.0\n",
            "Number of trucks-loads of WMU that are transported from  Delhi  to  Dibrugarh : 80.0\n",
            "Number of trucks-loads of WMU that are transported from  Kolkata  to  Dibrugarh : 20.0\n",
            "Number of trucks-loads of WMU that are transported from  Kolkata  to  Agartala : 85.0\n",
            "Number of trucks-loads of WMU that are transported from  Lucknow  to  Simla : 70.0\n",
            "Number of trucks-loads of WMU that are transported from  Lucknow  to  Raipur : 5.0\n",
            "Number of trucks-loads of WMU that are transported from  Mumbai  to  Hassan : 175.0\n",
            "Number of trucks-loads of WMU that are transported from  Mumbai  to  Jodhpur : 15.0\n",
            "Number of trucks-loads of WMU that are transported from  Mumbai  to  Trichy : 175.0\n",
            "Number of trucks-loads of WMU that are transported from  Mumbai  to  Raipur : 60.0\n",
            "Number of trucks-loads of WMU that are transported from  Hyderabad  to  Vijayawada : 270.0\n"
          ]
        }
      ],
      "source": [
        "print('\\nTotal Cost = ', model_lab5_ex1.objective())\n",
        "\n",
        "print('\\nDecision Variables')\n",
        "for i in row_indices:\n",
        "  for j in col_indices:\n",
        "     if model_lab5_ex1.x[i,j].value!=0:\n",
        "      print('Number of trucks-loads of WMU that are transported from ',data_csvfile.Warehouses[i],' to ', data_csvfile.columns[j+1],':', model_lab5_ex1.x[i,j].value)"
      ]
    },
    {
      "cell_type": "markdown",
      "metadata": {
        "id": "JA1yG3j2bUeA"
      },
      "source": [
        "$Observations:\\; The \\;solution \\;values\\; and \\;cost\\; are \\;the\\; same \\;as \\;before.$"
      ]
    },
    {
      "cell_type": "markdown",
      "metadata": {
        "id": "Gb_Dwi8qEbrK"
      },
      "source": [
        "$Q10.\\; Since,\\; in\\; addition \\;to \\;Bengaluru-Hassan\\; link,\\; the\\; Lucknow-Simla\\; link \\;and \\;Kolkata-Agartala\\; links\\; are\\; disrupted \\;and \\;no\\; transportation\\; is \\;possible \\;along \\;these \\;links \\;as\\; well.\\; For \\;that\\; reason,\\; we \\;increase\\; the\\; transporting \\;cost\\; from\\; Bengaluru \\;to\\; Hassan,\\; Lucknow\\;to\\;Simla \\;and \\;Kolkata\\; to\\;Agartala \\; \\;so\\; that\\; these\\; routes\\; will\\; not\\; be \\;included\\; in\\; the\\; optimal\\; solution\\; as \\;we \\;solve\\; the\\; optization\\; problem \\;and \\;we\\; also\\; don't\\; need \\;to\\;change\\; the\\; pyomo\\; model.$"
      ]
    },
    {
      "cell_type": "code",
      "execution_count": 63,
      "metadata": {
        "id": "dLp8jCYTroZY"
      },
      "outputs": [],
      "source": [
        "data_csvfile.iloc[5, 4]=9999999\n",
        "data_csvfile.iloc[4, 8]=9999999"
      ]
    },
    {
      "cell_type": "code",
      "execution_count": 64,
      "metadata": {
        "colab": {
          "base_uri": "https://localhost:8080/"
        },
        "id": "AoiA4qaxMBuF",
        "outputId": "09935250-e06b-4144-e3c0-11d30b36e190"
      },
      "outputs": [
        {
          "name": "stdout",
          "output_type": "stream",
          "text": [
            "cost[ 0 ][ 1 ]: 627\n",
            "cost[ 0 ][ 2 ]: 617\n",
            "cost[ 0 ][ 3 ]: 1270\n",
            "cost[ 0 ][ 4 ]: 2072\n",
            "cost[ 0 ][ 5 ]: 1415\n",
            "cost[ 0 ][ 6 ]: 2943\n",
            "cost[ 0 ][ 7 ]: 1064\n",
            "cost[ 0 ][ 8 ]: 4265\n",
            "cost[ 1 ][ 1 ]: 9999999\n",
            "cost[ 1 ][ 2 ]: 1432\n",
            "cost[ 1 ][ 3 ]: 351\n",
            "cost[ 1 ][ 4 ]: 3372\n",
            "cost[ 1 ][ 5 ]: 237\n",
            "cost[ 1 ][ 6 ]: 3373\n",
            "cost[ 1 ][ 7 ]: 1456\n",
            "cost[ 1 ][ 8 ]: 5059\n",
            "cost[ 2 ][ 1 ]: 609\n",
            "cost[ 2 ][ 2 ]: 1943\n",
            "cost[ 2 ][ 3 ]: 77\n",
            "cost[ 2 ][ 4 ]: 3365\n",
            "cost[ 2 ][ 5 ]: 298\n",
            "cost[ 2 ][ 6 ]: 3021\n",
            "cost[ 2 ][ 7 ]: 1484\n",
            "cost[ 2 ][ 8 ]: 4803\n",
            "cost[ 3 ][ 1 ]: 2143\n",
            "cost[ 3 ][ 2 ]: 671\n",
            "cost[ 3 ][ 3 ]: 3876\n",
            "cost[ 3 ][ 4 ]: 537\n",
            "cost[ 3 ][ 5 ]: 1902\n",
            "cost[ 3 ][ 6 ]: 1941\n",
            "cost[ 3 ][ 7 ]: 1682\n",
            "cost[ 3 ][ 8 ]: 3348\n",
            "cost[ 4 ][ 1 ]: 2742\n",
            "cost[ 4 ][ 2 ]: 2089\n",
            "cost[ 4 ][ 3 ]: 1931\n",
            "cost[ 4 ][ 4 ]: 2199\n",
            "cost[ 4 ][ 5 ]: 1226\n",
            "cost[ 4 ][ 6 ]: 739\n",
            "cost[ 4 ][ 7 ]: 691\n",
            "cost[ 4 ][ 8 ]: 9999999\n",
            "cost[ 5 ][ 1 ]: 2053\n",
            "cost[ 5 ][ 2 ]: 860\n",
            "cost[ 5 ][ 3 ]: 2995\n",
            "cost[ 5 ][ 4 ]: 9999999\n",
            "cost[ 5 ][ 5 ]: 2069\n",
            "cost[ 5 ][ 6 ]: 2065\n",
            "cost[ 5 ][ 7 ]: 993\n",
            "cost[ 5 ][ 8 ]: 3342\n",
            "cost[ 6 ][ 1 ]: 656\n",
            "cost[ 6 ][ 2 ]: 817\n",
            "cost[ 6 ][ 3 ]: 1245\n",
            "cost[ 6 ][ 4 ]: 2141\n",
            "cost[ 6 ][ 5 ]: 1534\n",
            "cost[ 6 ][ 6 ]: 3351\n",
            "cost[ 6 ][ 7 ]: 1137\n",
            "cost[ 6 ][ 8 ]: 3887\n",
            "cost[ 7 ][ 1 ]: 195\n",
            "cost[ 7 ][ 2 ]: 1862\n",
            "cost[ 7 ][ 3 ]: 1331\n",
            "cost[ 7 ][ 4 ]: 2921\n",
            "cost[ 7 ][ 5 ]: 402\n",
            "cost[ 7 ][ 6 ]: 2825\n",
            "cost[ 7 ][ 7 ]: 563\n",
            "cost[ 7 ][ 8 ]: 4441\n"
          ]
        }
      ],
      "source": [
        "for row_idx in row_indices:\n",
        "  for col_idx in col_indices:\n",
        "    print('cost[',row_idx,'][',col_idx+1,']:',data_csvfile.iloc[row_idx, col_idx+1])"
      ]
    },
    {
      "cell_type": "code",
      "execution_count": 65,
      "metadata": {
        "colab": {
          "base_uri": "https://localhost:8080/"
        },
        "id": "Z7yXVtc7JR5W",
        "outputId": "e7a36859-db10-482b-93f2-f70e3708eaa3"
      },
      "outputs": [
        {
          "name": "stdout",
          "output_type": "stream",
          "text": [
            "WARNING: Implicitly replacing the Component attribute objective (type=<class\n",
            "    'pyomo.core.base.objective.ScalarObjective'>) on block unknown with a new\n",
            "    Component (type=<class 'pyomo.core.base.objective.ScalarObjective'>). This\n",
            "    is usually indicative of a modelling error. To avoid this warning, use\n",
            "    block.del_component() and block.add_component().\n",
            "4 Set Declarations\n",
            "    constraints_index : Size=1, Index=None, Ordered=Insertion\n",
            "        Key  : Dimen : Domain : Size : Members\n",
            "        None :     1 :    Any :   16 : {1, 2, 3, 4, 5, 6, 7, 8, 9, 10, 11, 12, 13, 14, 15, 16}\n",
            "    x_index : Size=1, Index=None, Ordered=False\n",
            "        Key  : Dimen : Domain              : Size : Members\n",
            "        None :     2 : x_index_0*x_index_1 :   64 : {(0, 0), (0, 1), (0, 2), (0, 3), (0, 4), (0, 5), (0, 6), (0, 7), (1, 0), (1, 1), (1, 2), (1, 3), (1, 4), (1, 5), (1, 6), (1, 7), (2, 0), (2, 1), (2, 2), (2, 3), (2, 4), (2, 5), (2, 6), (2, 7), (3, 0), (3, 1), (3, 2), (3, 3), (3, 4), (3, 5), (3, 6), (3, 7), (4, 0), (4, 1), (4, 2), (4, 3), (4, 4), (4, 5), (4, 6), (4, 7), (5, 0), (5, 1), (5, 2), (5, 3), (5, 4), (5, 5), (5, 6), (5, 7), (6, 0), (6, 1), (6, 2), (6, 3), (6, 4), (6, 5), (6, 6), (6, 7), (7, 0), (7, 1), (7, 2), (7, 3), (7, 4), (7, 5), (7, 6), (7, 7)}\n",
            "    x_index_0 : Size=1, Index=None, Ordered=False\n",
            "        Key  : Dimen : Domain : Size : Members\n",
            "        None :     1 :    Any :    8 : {0, 1, 2, 3, 4, 5, 6, 7}\n",
            "    x_index_1 : Size=1, Index=None, Ordered=False\n",
            "        Key  : Dimen : Domain : Size : Members\n",
            "        None :     1 :    Any :    8 : {0, 1, 2, 3, 4, 5, 6, 7}\n",
            "\n",
            "1 Var Declarations\n",
            "    x : Size=64, Index=x_index\n",
            "        Key    : Lower : Value : Upper : Fixed : Stale : Domain\n",
            "        (0, 0) :     0 :   0.0 :  None : False : False : NonNegativeIntegers\n",
            "        (0, 1) :     0 : 185.0 :  None : False : False : NonNegativeIntegers\n",
            "        (0, 2) :     0 :   0.0 :  None : False : False : NonNegativeIntegers\n",
            "        (0, 3) :     0 :   0.0 :  None : False : False : NonNegativeIntegers\n",
            "        (0, 4) :     0 :   0.0 :  None : False : False : NonNegativeIntegers\n",
            "        (0, 5) :     0 :   0.0 :  None : False : False : NonNegativeIntegers\n",
            "        (0, 6) :     0 :   0.0 :  None : False : False : NonNegativeIntegers\n",
            "        (0, 7) :     0 :   0.0 :  None : False : False : NonNegativeIntegers\n",
            "        (1, 0) :     0 :   0.0 :  None : False : False : NonNegativeIntegers\n",
            "        (1, 1) :     0 :   0.0 :  None : False : False : NonNegativeIntegers\n",
            "        (1, 2) :     0 :   0.0 :  None : False : False : NonNegativeIntegers\n",
            "        (1, 3) :     0 :   0.0 :  None : False : False : NonNegativeIntegers\n",
            "        (1, 4) :     0 : 350.0 :  None : False : False : NonNegativeIntegers\n",
            "        (1, 5) :     0 :   0.0 :  None : False : False : NonNegativeIntegers\n",
            "        (1, 6) :     0 :   0.0 :  None : False : False : NonNegativeIntegers\n",
            "        (1, 7) :     0 :   0.0 :  None : False : False : NonNegativeIntegers\n",
            "        (2, 0) :     0 :   0.0 :  None : False : False : NonNegativeIntegers\n",
            "        (2, 1) :     0 :   0.0 :  None : False : False : NonNegativeIntegers\n",
            "        (2, 2) :     0 : 375.0 :  None : False : False : NonNegativeIntegers\n",
            "        (2, 3) :     0 :   0.0 :  None : False : False : NonNegativeIntegers\n",
            "        (2, 4) :     0 :  30.0 :  None : False : False : NonNegativeIntegers\n",
            "        (2, 5) :     0 :   0.0 :  None : False : False : NonNegativeIntegers\n",
            "        (2, 6) :     0 :   0.0 :  None : False : False : NonNegativeIntegers\n",
            "        (2, 7) :     0 :   0.0 :  None : False : False : NonNegativeIntegers\n",
            "        (3, 0) :     0 :   0.0 :  None : False : False : NonNegativeIntegers\n",
            "        (3, 1) :     0 : 200.0 :  None : False : False : NonNegativeIntegers\n",
            "        (3, 2) :     0 :   0.0 :  None : False : False : NonNegativeIntegers\n",
            "        (3, 3) :     0 :   0.0 :  None : False : False : NonNegativeIntegers\n",
            "        (3, 4) :     0 :   0.0 :  None : False : False : NonNegativeIntegers\n",
            "        (3, 5) :     0 :  80.0 :  None : False : False : NonNegativeIntegers\n",
            "        (3, 6) :     0 :   0.0 :  None : False : False : NonNegativeIntegers\n",
            "        (3, 7) :     0 :   0.0 :  None : False : False : NonNegativeIntegers\n",
            "        (4, 0) :     0 :   0.0 :  None : False : False : NonNegativeIntegers\n",
            "        (4, 1) :     0 :   0.0 :  None : False : False : NonNegativeIntegers\n",
            "        (4, 2) :     0 :   0.0 :  None : False : False : NonNegativeIntegers\n",
            "        (4, 3) :     0 :   0.0 :  None : False : False : NonNegativeIntegers\n",
            "        (4, 4) :     0 :   0.0 :  None : False : False : NonNegativeIntegers\n",
            "        (4, 5) :     0 :  20.0 :  None : False : False : NonNegativeIntegers\n",
            "        (4, 6) :     0 :   0.0 :  None : False : False : NonNegativeIntegers\n",
            "        (4, 7) :     0 :  85.0 :  None : False : False : NonNegativeIntegers\n",
            "        (5, 0) :     0 :   0.0 :  None : False : False : NonNegativeIntegers\n",
            "        (5, 1) :     0 :   0.0 :  None : False : False : NonNegativeIntegers\n",
            "        (5, 2) :     0 :   0.0 :  None : False : False : NonNegativeIntegers\n",
            "        (5, 3) :     0 :  70.0 :  None : False : False : NonNegativeIntegers\n",
            "        (5, 4) :     0 :   0.0 :  None : False : False : NonNegativeIntegers\n",
            "        (5, 5) :     0 :   0.0 :  None : False : False : NonNegativeIntegers\n",
            "        (5, 6) :     0 :   5.0 :  None : False : False : NonNegativeIntegers\n",
            "        (5, 7) :     0 :   0.0 :  None : False : False : NonNegativeIntegers\n",
            "        (6, 0) :     0 : 175.0 :  None : False : False : NonNegativeIntegers\n",
            "        (6, 1) :     0 :  15.0 :  None : False : False : NonNegativeIntegers\n",
            "        (6, 2) :     0 : 175.0 :  None : False : False : NonNegativeIntegers\n",
            "        (6, 3) :     0 :   0.0 :  None : False : False : NonNegativeIntegers\n",
            "        (6, 4) :     0 :   0.0 :  None : False : False : NonNegativeIntegers\n",
            "        (6, 5) :     0 :   0.0 :  None : False : False : NonNegativeIntegers\n",
            "        (6, 6) :     0 :  60.0 :  None : False : False : NonNegativeIntegers\n",
            "        (6, 7) :     0 :   0.0 :  None : False : False : NonNegativeIntegers\n",
            "        (7, 0) :     0 :   0.0 :  None : False : False : NonNegativeIntegers\n",
            "        (7, 1) :     0 :   0.0 :  None : False : False : NonNegativeIntegers\n",
            "        (7, 2) :     0 :   0.0 :  None : False : False : NonNegativeIntegers\n",
            "        (7, 3) :     0 :   0.0 :  None : False : False : NonNegativeIntegers\n",
            "        (7, 4) :     0 : 270.0 :  None : False : False : NonNegativeIntegers\n",
            "        (7, 5) :     0 :   0.0 :  None : False : False : NonNegativeIntegers\n",
            "        (7, 6) :     0 :   0.0 :  None : False : False : NonNegativeIntegers\n",
            "        (7, 7) :     0 :   0.0 :  None : False : False : NonNegativeIntegers\n",
            "\n",
            "1 Objective Declarations\n",
            "    objective : Size=1, Index=None, Active=True\n",
            "        Key  : Active : Sense    : Expression\n",
            "        None :   True : minimize : 627*x[0,0] + 617*x[0,1] + 1270*x[0,2] + 2072*x[0,3] + 1415*x[0,4] + 2943*x[0,5] + 1064*x[0,6] + 4265*x[0,7] + 9999999*x[1,0] + 1432*x[1,1] + 351*x[1,2] + 3372*x[1,3] + 237*x[1,4] + 3373*x[1,5] + 1456*x[1,6] + 5059*x[1,7] + 609*x[2,0] + 1943*x[2,1] + 77*x[2,2] + 3365*x[2,3] + 298*x[2,4] + 3021*x[2,5] + 1484*x[2,6] + 4803*x[2,7] + 2143*x[3,0] + 671*x[3,1] + 3876*x[3,2] + 537*x[3,3] + 1902*x[3,4] + 1941*x[3,5] + 1682*x[3,6] + 3348*x[3,7] + 2742*x[4,0] + 2089*x[4,1] + 1931*x[4,2] + 2199*x[4,3] + 1226*x[4,4] + 739*x[4,5] + 691*x[4,6] + 9999999*x[4,7] + 2053*x[5,0] + 860*x[5,1] + 2995*x[5,2] + 9999999*x[5,3] + 2069*x[5,4] + 2065*x[5,5] + 993*x[5,6] + 3342*x[5,7] + 656*x[6,0] + 817*x[6,1] + 1245*x[6,2] + 2141*x[6,3] + 1534*x[6,4] + 3351*x[6,5] + 1137*x[6,6] + 3887*x[6,7] + 195*x[7,0] + 1862*x[7,1] + 1331*x[7,2] + 2921*x[7,3] + 402*x[7,4] + 2825*x[7,5] + 563*x[7,6] + 4441*x[7,7]\n",
            "\n",
            "1 Constraint Declarations\n",
            "    constraints : Size=16, Index=constraints_index, Active=True\n",
            "        Key : Lower : Body                                                                  : Upper : Active\n",
            "          1 :  -Inf : x[0,0] + x[0,1] + x[0,2] + x[0,3] + x[0,4] + x[0,5] + x[0,6] + x[0,7] : 185.0 :   True\n",
            "          2 :  -Inf : x[1,0] + x[1,1] + x[1,2] + x[1,3] + x[1,4] + x[1,5] + x[1,6] + x[1,7] : 350.0 :   True\n",
            "          3 :  -Inf : x[2,0] + x[2,1] + x[2,2] + x[2,3] + x[2,4] + x[2,5] + x[2,6] + x[2,7] : 405.0 :   True\n",
            "          4 :  -Inf : x[3,0] + x[3,1] + x[3,2] + x[3,3] + x[3,4] + x[3,5] + x[3,6] + x[3,7] : 280.0 :   True\n",
            "          5 :  -Inf : x[4,0] + x[4,1] + x[4,2] + x[4,3] + x[4,4] + x[4,5] + x[4,6] + x[4,7] : 105.0 :   True\n",
            "          6 :  -Inf : x[5,0] + x[5,1] + x[5,2] + x[5,3] + x[5,4] + x[5,5] + x[5,6] + x[5,7] :  75.0 :   True\n",
            "          7 :  -Inf : x[6,0] + x[6,1] + x[6,2] + x[6,3] + x[6,4] + x[6,5] + x[6,6] + x[6,7] : 425.0 :   True\n",
            "          8 :  -Inf : x[7,0] + x[7,1] + x[7,2] + x[7,3] + x[7,4] + x[7,5] + x[7,6] + x[7,7] : 270.0 :   True\n",
            "          9 : 175.0 : x[0,0] + x[1,0] + x[2,0] + x[3,0] + x[4,0] + x[5,0] + x[6,0] + x[7,0] : 175.0 :   True\n",
            "         10 : 400.0 : x[0,1] + x[1,1] + x[2,1] + x[3,1] + x[4,1] + x[5,1] + x[6,1] + x[7,1] : 400.0 :   True\n",
            "         11 : 550.0 : x[0,2] + x[1,2] + x[2,2] + x[3,2] + x[4,2] + x[5,2] + x[6,2] + x[7,2] : 550.0 :   True\n",
            "         12 :  70.0 : x[0,3] + x[1,3] + x[2,3] + x[3,3] + x[4,3] + x[5,3] + x[6,3] + x[7,3] :  70.0 :   True\n",
            "         13 : 650.0 : x[0,4] + x[1,4] + x[2,4] + x[3,4] + x[4,4] + x[5,4] + x[6,4] + x[7,4] : 650.0 :   True\n",
            "         14 : 100.0 : x[0,5] + x[1,5] + x[2,5] + x[3,5] + x[4,5] + x[5,5] + x[6,5] + x[7,5] : 100.0 :   True\n",
            "         15 :  65.0 : x[0,6] + x[1,6] + x[2,6] + x[3,6] + x[4,6] + x[5,6] + x[6,6] + x[7,6] :  65.0 :   True\n",
            "         16 :  85.0 : x[0,7] + x[1,7] + x[2,7] + x[3,7] + x[4,7] + x[5,7] + x[6,7] + x[7,7] :  85.0 :   True\n",
            "\n",
            "7 Declarations: x_index_0 x_index_1 x_index x constraints_index constraints objective\n",
            "Solver status: ok\n",
            "Solver termination condition: optimal\n"
          ]
        }
      ],
      "source": [
        "model_lab5_ex1.reconstruct\n",
        "\n",
        "model_lab5_ex1.objective = Objective(expr=sum(data_csvfile.iloc[i,j+1]*model_lab5_ex1.x[i,j] for i in row_indices for j in col_indices),sense=minimize)\n",
        "\n",
        "model_lab5_ex1.pprint()\n",
        "result = opt_cbc.solve(model_lab5_ex1)\n",
        "print('Solver status:', result.solver.status)\n",
        "print('Solver termination condition:',result.solver.termination_condition)\n"
      ]
    },
    {
      "cell_type": "markdown",
      "metadata": {
        "id": "T5awl0oSdAeu"
      },
      "source": [
        "$Q11. \\; Reporting \\;the\\;  new\\; solution\\; value\\; and\\; the\\; total\\; cost.$"
      ]
    },
    {
      "cell_type": "code",
      "execution_count": 66,
      "metadata": {
        "colab": {
          "base_uri": "https://localhost:8080/"
        },
        "id": "iorzXf2xdC3g",
        "outputId": "6e505b0a-c410-40fb-ccc5-3b07cd061d49"
      },
      "outputs": [
        {
          "name": "stdout",
          "output_type": "stream",
          "text": [
            "\n",
            "Total Cost =  1289875.0\n",
            "\n",
            "Decision Variables\n",
            "Number of trucks-loads of WMU that are transported from  Ahmedabad  to  Jodhpur : 185.0\n",
            "Number of trucks-loads of WMU that are transported from  Bengaluru  to  Vijayawada : 350.0\n",
            "Number of trucks-loads of WMU that are transported from  Chennai  to  Trichy : 375.0\n",
            "Number of trucks-loads of WMU that are transported from  Chennai  to  Vijayawada : 30.0\n",
            "Number of trucks-loads of WMU that are transported from  Delhi  to  Jodhpur : 200.0\n",
            "Number of trucks-loads of WMU that are transported from  Delhi  to  Simla : 70.0\n",
            "Number of trucks-loads of WMU that are transported from  Delhi  to  Agartala : 10.0\n",
            "Number of trucks-loads of WMU that are transported from  Kolkata  to  Dibrugarh : 100.0\n",
            "Number of trucks-loads of WMU that are transported from  Kolkata  to  Raipur : 5.0\n",
            "Number of trucks-loads of WMU that are transported from  Lucknow  to  Agartala : 75.0\n",
            "Number of trucks-loads of WMU that are transported from  Mumbai  to  Hassan : 175.0\n",
            "Number of trucks-loads of WMU that are transported from  Mumbai  to  Jodhpur : 15.0\n",
            "Number of trucks-loads of WMU that are transported from  Mumbai  to  Trichy : 175.0\n",
            "Number of trucks-loads of WMU that are transported from  Mumbai  to  Raipur : 60.0\n",
            "Number of trucks-loads of WMU that are transported from  Hyderabad  to  Vijayawada : 270.0\n"
          ]
        }
      ],
      "source": [
        "print('\\nTotal Cost = ', model_lab5_ex1.objective())\n",
        "\n",
        "print('\\nDecision Variables')\n",
        "for i in row_indices:\n",
        "  for j in col_indices:\n",
        "     if model_lab5_ex1.x[i,j].value!=0:\n",
        "      print('Number of trucks-loads of WMU that are transported from ',data_csvfile.Warehouses[i],' to ', data_csvfile.columns[j+1],':', model_lab5_ex1.x[i,j].value)"
      ]
    },
    {
      "cell_type": "markdown",
      "metadata": {
        "id": "zJ881Wd0dJwn"
      },
      "source": [
        "$Observations:\\;The \\;Bengaluru-Hassan\\; link, \\;the\\; Lucknow-Simla\\; link \\;and \\;Kolkata-Agartala\\; links \\;are \\;not\\; present\\; in \\;the\\; new \\;solution \\;and\\; the\\; transpotation\\; cost\\; has\\; also \\;been \\;increased. $"
      ]
    }
  ],
  "metadata": {
    "colab": {
      "collapsed_sections": [],
      "name": "21i190007_IE507_Lab5_Ex1.ipynb",
      "provenance": []
    },
    "kernelspec": {
      "display_name": "Python 3",
      "name": "python3"
    },
    "language_info": {
      "name": "python"
    }
  },
  "nbformat": 4,
  "nbformat_minor": 0
}
