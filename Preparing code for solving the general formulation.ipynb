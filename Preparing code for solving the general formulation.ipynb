{
  "nbformat": 4,
  "nbformat_minor": 0,
  "metadata": {
    "colab": {
      "name": "21i190007_IE507_Lab2_Ex2.ipynb",
      "provenance": [],
      "collapsed_sections": []
    },
    "kernelspec": {
      "name": "python3",
      "display_name": "Python 3"
    }
  },
  "cells": [
    {
      "cell_type": "code",
      "metadata": {
        "id": "1r_yYUofSTFB",
        "colab": {
          "base_uri": "https://localhost:8080/"
        },
        "outputId": "1cffbd07-3a5c-4236-edda-f9924eb6bf3e"
      },
      "source": [
        "!pip install -q pyomo"
      ],
      "execution_count": null,
      "outputs": [
        {
          "output_type": "stream",
          "text": [
            "\u001b[K     |████████████████████████████████| 8.9 MB 21.2 MB/s \n",
            "\u001b[K     |████████████████████████████████| 49 kB 5.1 MB/s \n",
            "\u001b[?25h"
          ],
          "name": "stdout"
        }
      ]
    },
    {
      "cell_type": "markdown",
      "metadata": {
        "id": "Qh8fhB0oUPWA"
      },
      "source": [
        "$Exercise\\;2$ \\\\\n",
        "$The\\;given\\;linear\\;programming\\;problem\\;is:$\n",
        "$$min\\; c^Tx,$$\n",
        "$$s.t\\; Ax ≤ b$$\n",
        "$$l ≤ x ≤ u.$$\n",
        "\n"
      ]
    },
    {
      "cell_type": "markdown",
      "metadata": {
        "id": "IGThhuxGeNz-"
      },
      "source": [
        "$b = [35.4, 47.9, 41.43, 22.7]$ \\\\\n",
        "$c = [−9.6, −2.85, 41.5, 33.05, −0.75, 20.5, −0.35, −31.02, 50.65, 6.125];$ \\\\\n",
        "$$\n",
        "\tA= \\begin{bmatrix} \n",
        "\t0 & 1 & -2 & 0 & 1 & -2 & 0 & 1 & 1 & -1 \\\\\n",
        "\t-1 & 1 & -3 & 2.5 & 0 & 1.4 & 0 & -2 & 1 & -1.5\\\\\n",
        "\t-0.45 & 4.78 & -2 & -3.22 & -1.3 & 1 & -1 & 0 & 0 & 0.25 \\\\\n",
        "   1 & 0 & 0 & 0 & 1 & 1 & 0 & 2 & 3 & 0 \\\\\n",
        "\t\\end{bmatrix}\n",
        "\t\\quad\n",
        "\t$$\n",
        "$l =  [−∞, −∞, 0, 0, −67, 0, −23, −5, 6, 1],$ \\\\\n",
        "$u = [4, ∞, +∞, 2, 20, 55, 23, 15, +∞, +∞]$"
      ]
    },
    {
      "cell_type": "markdown",
      "metadata": {
        "id": "sqbF4XauzkaL"
      },
      "source": [
        "$1.\\;Solving\\;the\\;given\\;problem:$"
      ]
    },
    {
      "cell_type": "code",
      "metadata": {
        "id": "j4opCPZrSak0"
      },
      "source": [
        "from pyomo.environ import *"
      ],
      "execution_count": null,
      "outputs": []
    },
    {
      "cell_type": "code",
      "metadata": {
        "id": "E_HKtzFsh_mh"
      },
      "source": [
        "import numpy as np"
      ],
      "execution_count": null,
      "outputs": []
    },
    {
      "cell_type": "code",
      "metadata": {
        "id": "HYj3zpsvSih4"
      },
      "source": [
        "model = ConcreteModel()"
      ],
      "execution_count": null,
      "outputs": []
    },
    {
      "cell_type": "code",
      "metadata": {
        "id": "XvRZqCV8d_-e"
      },
      "source": [
        "N = 10\n",
        "M = 4  "
      ],
      "execution_count": null,
      "outputs": []
    },
    {
      "cell_type": "code",
      "metadata": {
        "id": "sN7eq44-eCfY"
      },
      "source": [
        "obj_coef_c = np.array([-9.6, -2.85,41.5,33.05, -0.75, 20.5, -0.35, -31.02, 50.65, 6.125])"
      ],
      "execution_count": null,
      "outputs": []
    },
    {
      "cell_type": "code",
      "metadata": {
        "id": "T1CaFM_DeFly"
      },
      "source": [
        "constr1_coef_A = np.array([[0, 1, -2, 0, 1, -2, 0, 1, 1, -1], [-1, 1, -3, 2.5, 0, 1.4, 0, -2, 1, -1.5], [-0.45, 4.78, -2, -3.22, -1.3, 1, -1, 0, 0, 0.25], [1, 0, 0, 0, 1, 1, 0, 2, 3, 0]]) \n",
        "constr_rhs_b =  np.array([35.4, 47.9, 41.43, 22.7])"
      ],
      "execution_count": null,
      "outputs": []
    },
    {
      "cell_type": "code",
      "metadata": {
        "id": "lzB0FJaNgYgI"
      },
      "source": [
        "lower_bound = np.array([-np.inf, -np.inf, 0, 0, -67, 0, -23, -5, 6, 1])\n",
        "upper_bound = np.array([4, np.inf, np.inf, 2, 20, 55, 23, 15, np.inf, np.inf])"
      ],
      "execution_count": null,
      "outputs": []
    },
    {
      "cell_type": "code",
      "metadata": {
        "id": "JwOmb5XcgqRt",
        "colab": {
          "base_uri": "https://localhost:8080/"
        },
        "outputId": "9ea4188a-bdf9-44aa-cb69-3c462d8d4783"
      },
      "source": [
        "col_indices = np.arange(N)\n",
        "print(col_indices)"
      ],
      "execution_count": null,
      "outputs": [
        {
          "output_type": "stream",
          "text": [
            "[0 1 2 3 4 5 6 7 8 9]\n"
          ],
          "name": "stdout"
        }
      ]
    },
    {
      "cell_type": "code",
      "metadata": {
        "colab": {
          "base_uri": "https://localhost:8080/"
        },
        "id": "OE4uemf3BTxc",
        "outputId": "38b61ff7-11e0-47fb-cc24-575e2f9c9ca5"
      },
      "source": [
        "row_indices = np.arange(M)\n",
        "print(row_indices)"
      ],
      "execution_count": null,
      "outputs": [
        {
          "output_type": "stream",
          "text": [
            "[0 1 2 3]\n"
          ],
          "name": "stdout"
        }
      ]
    },
    {
      "cell_type": "code",
      "metadata": {
        "id": "K8quMKE1g6YQ"
      },
      "source": [
        "model.x = Var(col_indices)"
      ],
      "execution_count": null,
      "outputs": []
    },
    {
      "cell_type": "code",
      "metadata": {
        "id": "ClcpSmWbgwlr"
      },
      "source": [
        "model.constraints = ConstraintList()"
      ],
      "execution_count": null,
      "outputs": []
    },
    {
      "cell_type": "code",
      "metadata": {
        "id": "-60j94F_gxNT"
      },
      "source": [
        "for i in row_indices:\n",
        " model.constraints.add(sum(constr1_coef_A[i][j]*model.x[j] for j in col_indices) <= constr_rhs_b[i])"
      ],
      "execution_count": null,
      "outputs": []
    },
    {
      "cell_type": "code",
      "metadata": {
        "id": "V5KOBn_sgrT1"
      },
      "source": [
        "for j in col_indices:\n",
        "  model.x[j].setlb(lower_bound[j])\n",
        "  model.x[j].setub(upper_bound[j])"
      ],
      "execution_count": null,
      "outputs": []
    },
    {
      "cell_type": "code",
      "metadata": {
        "id": "4fOm2vhJhStT"
      },
      "source": [
        "model.objective = Objective(expr = sum(obj_coef_c[j]*model.x[j] for j in col_indices), sense=minimize)"
      ],
      "execution_count": null,
      "outputs": []
    },
    {
      "cell_type": "code",
      "metadata": {
        "id": "hLjlmRD8eG_X",
        "colab": {
          "base_uri": "https://localhost:8080/"
        },
        "outputId": "51a7eec4-c456-4c55-f8ec-a607580039af"
      },
      "source": [
        "model.pprint()"
      ],
      "execution_count": null,
      "outputs": [
        {
          "output_type": "stream",
          "text": [
            "2 Set Declarations\n",
            "    constraints_index : Size=1, Index=None, Ordered=Insertion\n",
            "        Key  : Dimen : Domain : Size : Members\n",
            "        None :     1 :    Any :    4 : {1, 2, 3, 4}\n",
            "    x_index : Size=1, Index=None, Ordered=False\n",
            "        Key  : Dimen : Domain : Size : Members\n",
            "        None :     1 :    Any :   10 : {0, 1, 2, 3, 4, 5, 6, 7, 8, 9}\n",
            "\n",
            "1 Var Declarations\n",
            "    x : Size=10, Index=x_index\n",
            "        Key : Lower : Value : Upper : Fixed : Stale : Domain\n",
            "          0 :  -inf :  None :   4.0 : False :  True :  Reals\n",
            "          1 :  -inf :  None :   inf : False :  True :  Reals\n",
            "          2 :   0.0 :  None :   inf : False :  True :  Reals\n",
            "          3 :   0.0 :  None :   2.0 : False :  True :  Reals\n",
            "          4 : -67.0 :  None :  20.0 : False :  True :  Reals\n",
            "          5 :   0.0 :  None :  55.0 : False :  True :  Reals\n",
            "          6 : -23.0 :  None :  23.0 : False :  True :  Reals\n",
            "          7 :  -5.0 :  None :  15.0 : False :  True :  Reals\n",
            "          8 :   6.0 :  None :   inf : False :  True :  Reals\n",
            "          9 :   1.0 :  None :   inf : False :  True :  Reals\n",
            "\n",
            "1 Objective Declarations\n",
            "    objective : Size=1, Index=None, Active=True\n",
            "        Key  : Active : Sense    : Expression\n",
            "        None :   True : minimize : -9.6*x[0] - 2.85*x[1] + 41.5*x[2] + 33.05*x[3] - 0.75*x[4] + 20.5*x[5] - 0.35*x[6] - 31.02*x[7] + 50.65*x[8] + 6.125*x[9]\n",
            "\n",
            "1 Constraint Declarations\n",
            "    constraints : Size=4, Index=constraints_index, Active=True\n",
            "        Key : Lower : Body                                                                               : Upper : Active\n",
            "          1 :  -Inf :                             x[1] - 2.0*x[2] + x[4] - 2.0*x[5] + x[7] + x[8] - x[9] :  35.4 :   True\n",
            "          2 :  -Inf :        - x[0] + x[1] - 3.0*x[2] + 2.5*x[3] + 1.4*x[5] - 2.0*x[7] + x[8] - 1.5*x[9] :  47.9 :   True\n",
            "          3 :  -Inf : -0.45*x[0] + 4.78*x[1] - 2.0*x[2] - 3.22*x[3] - 1.3*x[4] + x[5] - x[6] + 0.25*x[9] : 41.43 :   True\n",
            "          4 :  -Inf :                                           x[0] + x[4] + x[5] + 2.0*x[7] + 3.0*x[8] :  22.7 :   True\n",
            "\n",
            "5 Declarations: x_index x constraints_index constraints objective\n"
          ],
          "name": "stdout"
        }
      ]
    },
    {
      "cell_type": "code",
      "metadata": {
        "id": "rhSG6IRMfclR",
        "colab": {
          "base_uri": "https://localhost:8080/"
        },
        "outputId": "1583c27d-360d-4929-f337-1277e0bd7c6c"
      },
      "source": [
        "!apt-get install -y -qq glpk-utils"
      ],
      "execution_count": null,
      "outputs": [
        {
          "output_type": "stream",
          "text": [
            "Selecting previously unselected package libsuitesparseconfig5:amd64.\n",
            "(Reading database ... 160837 files and directories currently installed.)\n",
            "Preparing to unpack .../libsuitesparseconfig5_1%3a5.1.2-2_amd64.deb ...\n",
            "Unpacking libsuitesparseconfig5:amd64 (1:5.1.2-2) ...\n",
            "Selecting previously unselected package libamd2:amd64.\n",
            "Preparing to unpack .../libamd2_1%3a5.1.2-2_amd64.deb ...\n",
            "Unpacking libamd2:amd64 (1:5.1.2-2) ...\n",
            "Selecting previously unselected package libcolamd2:amd64.\n",
            "Preparing to unpack .../libcolamd2_1%3a5.1.2-2_amd64.deb ...\n",
            "Unpacking libcolamd2:amd64 (1:5.1.2-2) ...\n",
            "Selecting previously unselected package libglpk40:amd64.\n",
            "Preparing to unpack .../libglpk40_4.65-1_amd64.deb ...\n",
            "Unpacking libglpk40:amd64 (4.65-1) ...\n",
            "Selecting previously unselected package glpk-utils.\n",
            "Preparing to unpack .../glpk-utils_4.65-1_amd64.deb ...\n",
            "Unpacking glpk-utils (4.65-1) ...\n",
            "Setting up libsuitesparseconfig5:amd64 (1:5.1.2-2) ...\n",
            "Setting up libcolamd2:amd64 (1:5.1.2-2) ...\n",
            "Setting up libamd2:amd64 (1:5.1.2-2) ...\n",
            "Setting up libglpk40:amd64 (4.65-1) ...\n",
            "Setting up glpk-utils (4.65-1) ...\n",
            "Processing triggers for libc-bin (2.27-3ubuntu1.2) ...\n",
            "/sbin/ldconfig.real: /usr/local/lib/python3.7/dist-packages/ideep4py/lib/libmkldnn.so.0 is not a symbolic link\n",
            "\n",
            "Processing triggers for man-db (2.8.3-2ubuntu0.1) ...\n"
          ],
          "name": "stdout"
        }
      ]
    },
    {
      "cell_type": "code",
      "metadata": {
        "id": "Sq3CpPcCeIBC",
        "colab": {
          "base_uri": "https://localhost:8080/"
        },
        "outputId": "0ff6cdc5-643a-4141-c6aa-6597aa40bb4b"
      },
      "source": [
        "SolverFactory('glpk', executable='/usr/bin/glpsol').solve(model).write()"
      ],
      "execution_count": null,
      "outputs": [
        {
          "output_type": "stream",
          "text": [
            "# ==========================================================\n",
            "# = Solver Results                                         =\n",
            "# ==========================================================\n",
            "# ----------------------------------------------------------\n",
            "#   Problem Information\n",
            "# ----------------------------------------------------------\n",
            "Problem: \n",
            "- Name: unknown\n",
            "  Lower bound: -196.378974895398\n",
            "  Upper bound: -196.378974895398\n",
            "  Number of objectives: 1\n",
            "  Number of constraints: 5\n",
            "  Number of variables: 11\n",
            "  Number of nonzeros: 29\n",
            "  Sense: minimize\n",
            "# ----------------------------------------------------------\n",
            "#   Solver Information\n",
            "# ----------------------------------------------------------\n",
            "Solver: \n",
            "- Status: ok\n",
            "  Termination condition: optimal\n",
            "  Statistics: \n",
            "    Branch and bound: \n",
            "      Number of bounded subproblems: 0\n",
            "      Number of created subproblems: 0\n",
            "  Error rc: 0\n",
            "  Time: 0.011896371841430664\n",
            "# ----------------------------------------------------------\n",
            "#   Solution Information\n",
            "# ----------------------------------------------------------\n",
            "Solution: \n",
            "- number of solutions: 0\n",
            "  number of solutions displayed: 0\n"
          ],
          "name": "stdout"
        }
      ]
    },
    {
      "cell_type": "code",
      "metadata": {
        "id": "WQZHDR3afKj5",
        "colab": {
          "base_uri": "https://localhost:8080/"
        },
        "outputId": "74598299-bf6a-4cfd-fc8f-9df296f92b43"
      },
      "source": [
        "# display solution\n",
        "print('\\nObjective = ', model.objective())\n",
        "\n",
        "print('\\nDecision Variables')\n",
        "for i in col_indices:\n",
        "  print('x[',i,'] = ', model.x[i].value)\n",
        "\n",
        "print('\\nConstraints')\n",
        "model.constraints.display()"
      ],
      "execution_count": null,
      "outputs": [
        {
          "output_type": "stream",
          "text": [
            "\n",
            "Objective =  -196.3789748953975\n",
            "\n",
            "Decision Variables\n",
            "x[ 0 ] =  4.0\n",
            "x[ 1 ] =  5.8347280334728\n",
            "x[ 2 ] =  0.0\n",
            "x[ 3 ] =  0.0\n",
            "x[ 4 ] =  -29.3\n",
            "x[ 5 ] =  0.0\n",
            "x[ 6 ] =  23.0\n",
            "x[ 7 ] =  15.0\n",
            "x[ 8 ] =  6.0\n",
            "x[ 9 ] =  1.0\n",
            "\n",
            "Constraints\n",
            "constraints : Size=4\n",
            "    Key : Lower : Body               : Upper\n",
            "      1 :  None : -3.465271966527201 :  35.4\n",
            "      2 :  None :  -23.6652719665272 :  47.9\n",
            "      3 :  None :  41.42999999999998 : 41.43\n",
            "      4 :  None :               22.7 :  22.7\n"
          ],
          "name": "stdout"
        }
      ]
    },
    {
      "cell_type": "markdown",
      "metadata": {
        "id": "b3AjPWpQzhLe"
      },
      "source": [
        "$1.\\; The\\;optimal\\;solution\\;is: $ \\\\\n",
        "$$x_1 =  4.0,\\;x_2 =  5.8347280334728,\\;x_3 =  0.0,\\;x_4 =  0.0,\\;x_5 =  -29.3,\\;x_6 =  0.0,\\;x_7 =  23.0,\\;x_8 =  15.0,\\;x_9 =  8.0,\\;x_10 =  1.0,\\;x_11 =  5.0,\\; x_12 =  2.0$$\n",
        "$The\\;value\\;of\\;the\\;objective\\;function\\;at\\;optimal\\;solution\\;is:\\;-196.3789748953975$"
      ]
    },
    {
      "cell_type": "markdown",
      "metadata": {
        "id": "-cG3hQT702GO"
      },
      "source": [
        "$2.\\; Only\\;the\\;following\\;two\\;constraints\\;are\\;active\\;since,\\;equality\\;at\\;optimal\\;soution\\;only\\;attained\\;by\\;these\\;two\\;constraints -0.45x_1 + 4.78x_2 - 2.0x_3 - 3.22x_4 - 1.3x_5 + x_6 - x_7 + 0.25x_{10} \\leq 41.43;$ \\\n",
        "$x_1 + x_5 + x_6 + 2x_8 + 3x_9 \\leq22.7;$ \\\\\n",
        "$The\\;rest\\;of \\;the\\;constraints\\;are\\;inactive.$"
      ]
    }
  ]
}