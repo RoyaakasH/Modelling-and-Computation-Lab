{
  "nbformat": 4,
  "nbformat_minor": 0,
  "metadata": {
    "colab": {
      "name": "21i190007_IE507_Lab3_Ex1.ipynb",
      "provenance": []
    },
    "kernelspec": {
      "name": "python3",
      "display_name": "Python 3"
    },
    "language_info": {
      "name": "python"
    }
  },
  "cells": [
    {
      "cell_type": "markdown",
      "metadata": {
        "id": "KLE9Y1mPR5hG"
      },
      "source": [
        "$$Exercise:\\;1$$"
      ]
    },
    {
      "cell_type": "code",
      "metadata": {
        "id": "eYSjAOVKDCz_"
      },
      "source": [
        "!pip install -q pyomo"
      ],
      "execution_count": 479,
      "outputs": []
    },
    {
      "cell_type": "code",
      "metadata": {
        "id": "4u-8iRrHHQL3"
      },
      "source": [
        "from pyomo.environ import *"
      ],
      "execution_count": 480,
      "outputs": []
    },
    {
      "cell_type": "code",
      "metadata": {
        "id": "jRNR9onQHSBz"
      },
      "source": [
        "import numpy as np"
      ],
      "execution_count": 481,
      "outputs": []
    },
    {
      "cell_type": "code",
      "metadata": {
        "id": "vOF-9fGaHTcV"
      },
      "source": [
        "model_ex1 = ConcreteModel()"
      ],
      "execution_count": 482,
      "outputs": []
    },
    {
      "cell_type": "code",
      "metadata": {
        "colab": {
          "base_uri": "https://localhost:8080/"
        },
        "id": "UPyXQJMtHZoh",
        "outputId": "3b70e85e-9b59-4a82-d721-199f5bc0db85"
      },
      "source": [
        "N = 3 #number of decision variables \n",
        "M = 3 #number of constraints without considering the bound constraints  \n",
        "lb=np.array([1,2,1])\n",
        "ub=np.array([np.inf,np.inf,np.inf]) \n",
        "obj_coef_c = np.array([1,-2,3]) \n",
        "constr_coef_A=np.array([[2,1,2],[-1,1,2],[2,-3,1]])\n",
        "constr_rhs_b=np.array([10,-3,-6])\n",
        "row_indices=np.arange(M)\n",
        "print(row_indices)\n",
        "col_indices = np.arange(N)\n",
        "print(col_indices)"
      ],
      "execution_count": 483,
      "outputs": [
        {
          "output_type": "stream",
          "text": [
            "[0 1 2]\n",
            "[0 1 2]\n"
          ],
          "name": "stdout"
        }
      ]
    },
    {
      "cell_type": "code",
      "metadata": {
        "id": "54qdaV1eHbHE"
      },
      "source": [
        "model_ex1.x=Var(col_indices)\n",
        "model_ex1.constraints = ConstraintList()"
      ],
      "execution_count": 484,
      "outputs": []
    },
    {
      "cell_type": "code",
      "metadata": {
        "id": "6GivXht3HcUs"
      },
      "source": [
        "for i in col_indices:\n",
        "  model_ex1.x[i].setlb(lb[i])\n",
        "  model_ex1.x[i].setub(ub[i])"
      ],
      "execution_count": 485,
      "outputs": []
    },
    {
      "cell_type": "code",
      "metadata": {
        "id": "yuO3OtRxHdqO"
      },
      "source": [
        "for i in row_indices:\n",
        "  model_ex1.constraints.add(sum(constr_coef_A[i][j]*model_ex1.x[j] for j in col_indices) <= constr_rhs_b[i])"
      ],
      "execution_count": 486,
      "outputs": []
    },
    {
      "cell_type": "code",
      "metadata": {
        "colab": {
          "base_uri": "https://localhost:8080/"
        },
        "id": "XGkTWbyJHeQ9",
        "outputId": "fa2a07ca-7474-4b11-c3be-6cedeff1aefc"
      },
      "source": [
        "model_ex1.objective = Objective(expr =summation(obj_coef_c,model_ex1.x), sense=minimize)\n",
        "model_ex1.pprint() "
      ],
      "execution_count": 487,
      "outputs": [
        {
          "output_type": "stream",
          "text": [
            "2 Set Declarations\n",
            "    constraints_index : Size=1, Index=None, Ordered=Insertion\n",
            "        Key  : Dimen : Domain : Size : Members\n",
            "        None :     1 :    Any :    3 : {1, 2, 3}\n",
            "    x_index : Size=1, Index=None, Ordered=False\n",
            "        Key  : Dimen : Domain : Size : Members\n",
            "        None :     1 :    Any :    3 : {0, 1, 2}\n",
            "\n",
            "1 Var Declarations\n",
            "    x : Size=3, Index=x_index\n",
            "        Key : Lower : Value : Upper : Fixed : Stale : Domain\n",
            "          0 :     1 :  None :   inf : False :  True :  Reals\n",
            "          1 :     2 :  None :   inf : False :  True :  Reals\n",
            "          2 :     1 :  None :   inf : False :  True :  Reals\n",
            "\n",
            "1 Objective Declarations\n",
            "    objective : Size=1, Index=None, Active=True\n",
            "        Key  : Active : Sense    : Expression\n",
            "        None :   True : minimize : x[0] - 2.0*x[1] + 3*x[2]\n",
            "\n",
            "1 Constraint Declarations\n",
            "    constraints : Size=3, Index=constraints_index, Active=True\n",
            "        Key : Lower : Body                   : Upper : Active\n",
            "          1 :  -Inf : 2*x[0] + x[1] + 2*x[2] :  10.0 :   True\n",
            "          2 :  -Inf : - x[0] + x[1] + 2*x[2] :  -3.0 :   True\n",
            "          3 :  -Inf : 2*x[0] - 3*x[1] + x[2] :  -6.0 :   True\n",
            "\n",
            "5 Declarations: x_index x constraints_index constraints objective\n"
          ],
          "name": "stdout"
        }
      ]
    },
    {
      "cell_type": "markdown",
      "metadata": {
        "id": "jNT-gaYyKf_m"
      },
      "source": [
        "$$1.\\;Solving\\;using\\;glpk\\;solver:$$"
      ]
    },
    {
      "cell_type": "code",
      "metadata": {
        "id": "MvYOCHPnHgqC"
      },
      "source": [
        "!apt-get install -y -qq glpk-utils"
      ],
      "execution_count": 488,
      "outputs": []
    },
    {
      "cell_type": "code",
      "metadata": {
        "colab": {
          "base_uri": "https://localhost:8080/"
        },
        "id": "YLaJ6-x2HiXw",
        "outputId": "2cf3c502-dadf-4b7e-b863-65ac5c2c98df"
      },
      "source": [
        "opt = SolverFactory('glpk', executable='/usr/bin/glpsol')\n",
        "#.solve(model1).write()\n",
        "result = opt.solve(model_ex1)\n",
        "print(result)\n",
        "\n",
        "print('Solver status:', result.solver.status)\n",
        "print('Solver termination condition:',result.solver.termination_condition)"
      ],
      "execution_count": 489,
      "outputs": [
        {
          "output_type": "stream",
          "text": [
            "\n",
            "Problem: \n",
            "- Name: unknown\n",
            "  Lower bound: -inf\n",
            "  Upper bound: inf\n",
            "  Number of objectives: 1\n",
            "  Number of constraints: 4\n",
            "  Number of variables: 4\n",
            "  Number of nonzeros: 10\n",
            "  Sense: minimize\n",
            "Solver: \n",
            "- Status: ok\n",
            "  Termination condition: other\n",
            "  Statistics: \n",
            "    Branch and bound: \n",
            "      Number of bounded subproblems: 0\n",
            "      Number of created subproblems: 0\n",
            "  Error rc: 0\n",
            "  Time: 0.016651153564453125\n",
            "\n",
            "Solver status: ok\n",
            "Solver termination condition: other\n"
          ],
          "name": "stdout"
        }
      ]
    },
    {
      "cell_type": "markdown",
      "metadata": {
        "id": "LuycQL1LowM-"
      },
      "source": [
        "$For\\; the\\;  'glpk\\;  solver',\\;  the\\;  'Status'\\;  is \\; 'ok'\\;  and\\;  the\\;  'Termination \\; Condition' \\; is \\; 'other'. \\; This\\;  does\\;  not \\; provide\\;  us\\;  any \\; meaningful\\;  message \\; like, \\; is\\;  the \\; objective\\;  function \\; tending \\; to \\; +\\infty \\; or -\\infty?\\;  or \\;is \\;  the solution\\; feasible\\;  or \\; not?$"
      ]
    },
    {
      "cell_type": "markdown",
      "metadata": {
        "id": "s5f38y-ZKryX"
      },
      "source": [
        "$$1.\\;Solving\\;using\\;cbc\\;solver:$$"
      ]
    },
    {
      "cell_type": "code",
      "metadata": {
        "id": "fnXvP8zyLJAi"
      },
      "source": [
        "!apt-get install -y -qq coinor-cbc"
      ],
      "execution_count": 490,
      "outputs": []
    },
    {
      "cell_type": "code",
      "metadata": {
        "id": "6ZathjtYLRsF"
      },
      "source": [
        "opt_cbc = SolverFactory('cbc')"
      ],
      "execution_count": 491,
      "outputs": []
    },
    {
      "cell_type": "code",
      "metadata": {
        "colab": {
          "base_uri": "https://localhost:8080/"
        },
        "id": "4DNSAZFGLWV1",
        "outputId": "b62d6af7-6ac3-49c2-b1ca-5b110fe98277"
      },
      "source": [
        "result = opt_cbc.solve(model_ex1)\n",
        "print(result)\n",
        "\n",
        "print('Solver status:', result.solver.status)\n",
        "print('Solver termination condition:',result.solver.termination_condition)\n",
        "print('Solver time:',result.solver.time)"
      ],
      "execution_count": 492,
      "outputs": [
        {
          "output_type": "stream",
          "text": [
            "WARNING: Loading a SolverResults object with a warning status into\n",
            "    model.name=\"unknown\";\n",
            "      - termination condition: infeasible\n",
            "      - message from solver: <undefined>\n",
            "\n",
            "Problem: \n",
            "- Name: unknown\n",
            "  Lower bound: None\n",
            "  Upper bound: inf\n",
            "  Number of objectives: 1\n",
            "  Number of constraints: 4\n",
            "  Number of variables: 4\n",
            "  Number of nonzeros: 3\n",
            "  Sense: minimize\n",
            "Solver: \n",
            "- Status: warning\n",
            "  User time: -1.0\n",
            "  System time: 0.0\n",
            "  Wallclock time: 0.0\n",
            "  Termination condition: infeasible\n",
            "  Termination message: Model was proven to be infeasible.\n",
            "  Statistics: \n",
            "    Branch and bound: \n",
            "      Number of bounded subproblems: 0\n",
            "      Number of created subproblems: 0\n",
            "    Black box: \n",
            "      Number of iterations: 0\n",
            "  Error rc: 0\n",
            "  Time: 0.022086620330810547\n",
            "\n",
            "Solver status: warning\n",
            "Solver termination condition: infeasible\n",
            "Solver time: 0.022086620330810547\n"
          ],
          "name": "stdout"
        }
      ]
    },
    {
      "cell_type": "markdown",
      "metadata": {
        "id": "GsOX24s4PfWR"
      },
      "source": [
        "$For\\; the\\;  'cbc\\;  solver',\\;  the\\;  'Status'\\;  is \\; 'warning'\\;  and\\;  the\\;  'Termination \\; Condition' \\; is \\; 'infeasible'. \\;Here,\\; the\\;status\\;and\\;Termination\\;Condition\\;implies\\;that,\\;some\\;constraints\\;are\\;contradictory\\;to\\;each\\;other\\;and \\;hence, \\;there \\;is\\; no\\; feasible \\;solution\\; which\\;directly\\;  implies\\; no \\;optimal\\; solution.$\n"
      ]
    },
    {
      "cell_type": "markdown",
      "metadata": {
        "id": "25DnZ8c1Pjf4"
      },
      "source": [
        "$2.\\;(a):\\;Changing\\; the\\; optimization\\; problem \\;to\\; a \\;maximization \\;problem\\; and \\;re-solving.$"
      ]
    },
    {
      "cell_type": "code",
      "metadata": {
        "id": "rmeJd6FBKvMe"
      },
      "source": [
        "model_ex1.objective.set_sense(maximize)"
      ],
      "execution_count": 493,
      "outputs": []
    },
    {
      "cell_type": "code",
      "metadata": {
        "colab": {
          "base_uri": "https://localhost:8080/"
        },
        "id": "l-kpcTnjLBjm",
        "outputId": "b3d94614-7f6a-44b8-fc19-2d4f5068a725"
      },
      "source": [
        "model_ex1.pprint()"
      ],
      "execution_count": 494,
      "outputs": [
        {
          "output_type": "stream",
          "text": [
            "2 Set Declarations\n",
            "    constraints_index : Size=1, Index=None, Ordered=Insertion\n",
            "        Key  : Dimen : Domain : Size : Members\n",
            "        None :     1 :    Any :    3 : {1, 2, 3}\n",
            "    x_index : Size=1, Index=None, Ordered=False\n",
            "        Key  : Dimen : Domain : Size : Members\n",
            "        None :     1 :    Any :    3 : {0, 1, 2}\n",
            "\n",
            "1 Var Declarations\n",
            "    x : Size=3, Index=x_index\n",
            "        Key : Lower : Value : Upper : Fixed : Stale : Domain\n",
            "          0 :     1 :  None :   inf : False :  True :  Reals\n",
            "          1 :     2 :  None :   inf : False :  True :  Reals\n",
            "          2 :     1 :  None :   inf : False :  True :  Reals\n",
            "\n",
            "1 Objective Declarations\n",
            "    objective : Size=1, Index=None, Active=True\n",
            "        Key  : Active : Sense    : Expression\n",
            "        None :   True : maximize : x[0] - 2.0*x[1] + 3*x[2]\n",
            "\n",
            "1 Constraint Declarations\n",
            "    constraints : Size=3, Index=constraints_index, Active=True\n",
            "        Key : Lower : Body                   : Upper : Active\n",
            "          1 :  -Inf : 2*x[0] + x[1] + 2*x[2] :  10.0 :   True\n",
            "          2 :  -Inf : - x[0] + x[1] + 2*x[2] :  -3.0 :   True\n",
            "          3 :  -Inf : 2*x[0] - 3*x[1] + x[2] :  -6.0 :   True\n",
            "\n",
            "5 Declarations: x_index x constraints_index constraints objective\n"
          ],
          "name": "stdout"
        }
      ]
    },
    {
      "cell_type": "code",
      "metadata": {
        "colab": {
          "base_uri": "https://localhost:8080/"
        },
        "id": "SnDZn4EjL-f5",
        "outputId": "f5de4915-547e-4f38-dc60-55a2f16fcb27"
      },
      "source": [
        "result = opt_cbc.solve(model_ex1)\n",
        "print(result)\n",
        "\n",
        "print('Solver status:', result.solver.status)\n",
        "print('Solver termination condition:',result.solver.termination_condition)\n",
        "print('Solver time:',result.solver.time)"
      ],
      "execution_count": 495,
      "outputs": [
        {
          "output_type": "stream",
          "text": [
            "WARNING: Loading a SolverResults object with a warning status into\n",
            "    model.name=\"unknown\";\n",
            "      - termination condition: infeasible\n",
            "      - message from solver: <undefined>\n",
            "\n",
            "Problem: \n",
            "- Name: unknown\n",
            "  Lower bound: -inf\n",
            "  Upper bound: None\n",
            "  Number of objectives: 1\n",
            "  Number of constraints: 4\n",
            "  Number of variables: 4\n",
            "  Number of nonzeros: 3\n",
            "  Sense: maximize\n",
            "Solver: \n",
            "- Status: warning\n",
            "  User time: -1.0\n",
            "  System time: 0.0\n",
            "  Wallclock time: 0.0\n",
            "  Termination condition: infeasible\n",
            "  Termination message: Model was proven to be infeasible.\n",
            "  Statistics: \n",
            "    Branch and bound: \n",
            "      Number of bounded subproblems: 0\n",
            "      Number of created subproblems: 0\n",
            "    Black box: \n",
            "      Number of iterations: 0\n",
            "  Error rc: 0\n",
            "  Time: 0.01789689064025879\n",
            "\n",
            "Solver status: warning\n",
            "Solver termination condition: infeasible\n",
            "Solver time: 0.01789689064025879\n"
          ],
          "name": "stdout"
        }
      ]
    },
    {
      "cell_type": "markdown",
      "metadata": {
        "id": "C-ViS2RwsoCY"
      },
      "source": [
        "$Here,\\;  the\\;  'Status'\\;  is \\; 'warning'\\;  and\\;  the\\;  'Termination \\; Condition' \\; is \\; 'infeasible'.\\;The \\;solution\\; is \\;infeasible \\;because,\\; if \\;we \\;multiply\\; 2\\; in\\; both \\;sides\\; of \\;the\\; 2nd \\;constraint\\; and \\;then \\;add \\;that \\;to\\; the \\;1st \\;constraint,\\;then \\;we \\;will\\; obtain \\;the \\;following\\;inequality: \\; 3x_2+6x_3\\leq4 \\;which \\;is\\; not\\; possible \\;since\\; the\\; lower\\; bounds\\; of\\; x_2\\;and \\;x_3\\; are\\; 2\\; and\\; 1\\;respectively\\; and\\; due \\;to \\;that, \\;the \\;lowest\\; value\\; of\\; 3x_2+6x_3 \\;can\\; be\\; 12\\geq4.\\; That's \\;why,\\; the \\;model\\; do \\;not\\; posses\\; any \\;feasible\\; solution.$"
      ]
    },
    {
      "cell_type": "markdown",
      "metadata": {
        "id": "oAcmNlf2P_B_"
      },
      "source": [
        "$2.\\;(b):\\;Adding\\;an\\;upper\\;bound\\;on\\;x_2\\;as\\;x_2\\leq8\\;and\\;re-solving.$"
      ]
    },
    {
      "cell_type": "code",
      "metadata": {
        "id": "RcRtai26MCKq"
      },
      "source": [
        "model_ex1.objective.set_sense(minimize)\n",
        "model_ex1.x[1].setub(8)"
      ],
      "execution_count": 496,
      "outputs": []
    },
    {
      "cell_type": "code",
      "metadata": {
        "colab": {
          "base_uri": "https://localhost:8080/"
        },
        "id": "evf3FhKvWTDn",
        "outputId": "515cfd0e-4b47-40bf-a920-75ee06b85523"
      },
      "source": [
        "model_ex1.pprint()"
      ],
      "execution_count": 497,
      "outputs": [
        {
          "output_type": "stream",
          "text": [
            "2 Set Declarations\n",
            "    constraints_index : Size=1, Index=None, Ordered=Insertion\n",
            "        Key  : Dimen : Domain : Size : Members\n",
            "        None :     1 :    Any :    3 : {1, 2, 3}\n",
            "    x_index : Size=1, Index=None, Ordered=False\n",
            "        Key  : Dimen : Domain : Size : Members\n",
            "        None :     1 :    Any :    3 : {0, 1, 2}\n",
            "\n",
            "1 Var Declarations\n",
            "    x : Size=3, Index=x_index\n",
            "        Key : Lower : Value : Upper : Fixed : Stale : Domain\n",
            "          0 :     1 :  None :   inf : False :  True :  Reals\n",
            "          1 :     2 :  None :     8 : False :  True :  Reals\n",
            "          2 :     1 :  None :   inf : False :  True :  Reals\n",
            "\n",
            "1 Objective Declarations\n",
            "    objective : Size=1, Index=None, Active=True\n",
            "        Key  : Active : Sense    : Expression\n",
            "        None :   True : minimize : x[0] - 2.0*x[1] + 3*x[2]\n",
            "\n",
            "1 Constraint Declarations\n",
            "    constraints : Size=3, Index=constraints_index, Active=True\n",
            "        Key : Lower : Body                   : Upper : Active\n",
            "          1 :  -Inf : 2*x[0] + x[1] + 2*x[2] :  10.0 :   True\n",
            "          2 :  -Inf : - x[0] + x[1] + 2*x[2] :  -3.0 :   True\n",
            "          3 :  -Inf : 2*x[0] - 3*x[1] + x[2] :  -6.0 :   True\n",
            "\n",
            "5 Declarations: x_index x constraints_index constraints objective\n"
          ],
          "name": "stdout"
        }
      ]
    },
    {
      "cell_type": "code",
      "metadata": {
        "colab": {
          "base_uri": "https://localhost:8080/"
        },
        "id": "bBfcKZWsNzuJ",
        "outputId": "def5496d-3ab0-4da9-c3a6-e1bb7ed5cce0"
      },
      "source": [
        "result = opt_cbc.solve(model_temp1)\n",
        "print(result)\n",
        "\n",
        "print('Solver status:', result.solver.status)\n",
        "print('Solver termination condition:',result.solver.termination_condition)\n",
        "print('Solver time:',result.solver.time)"
      ],
      "execution_count": 498,
      "outputs": [
        {
          "output_type": "stream",
          "text": [
            "WARNING: Loading a SolverResults object with a warning status into\n",
            "    model.name=\"unknown\";\n",
            "      - termination condition: infeasible\n",
            "      - message from solver: <undefined>\n",
            "\n",
            "Problem: \n",
            "- Name: unknown\n",
            "  Lower bound: -inf\n",
            "  Upper bound: None\n",
            "  Number of objectives: 1\n",
            "  Number of constraints: 6\n",
            "  Number of variables: 4\n",
            "  Number of nonzeros: 3\n",
            "  Sense: maximize\n",
            "Solver: \n",
            "- Status: warning\n",
            "  User time: -1.0\n",
            "  System time: 0.0\n",
            "  Wallclock time: 0.0\n",
            "  Termination condition: infeasible\n",
            "  Termination message: Model was proven to be infeasible.\n",
            "  Statistics: \n",
            "    Branch and bound: \n",
            "      Number of bounded subproblems: 0\n",
            "      Number of created subproblems: 0\n",
            "    Black box: \n",
            "      Number of iterations: 0\n",
            "  Error rc: 0\n",
            "  Time: 0.020777225494384766\n",
            "\n",
            "Solver status: warning\n",
            "Solver termination condition: infeasible\n",
            "Solver time: 0.020777225494384766\n"
          ],
          "name": "stdout"
        }
      ]
    },
    {
      "cell_type": "markdown",
      "metadata": {
        "id": "6Ww_algOvTlX"
      },
      "source": [
        "$Here\\;also,\\;  the\\;  'Status'\\;  is \\; 'warning'\\;  and\\;  the\\;  'Termination \\; Condition' \\; is \\; 'infeasible'.\\;The \\;solution\\; is \\;infeasible \\;because,\\; if \\;we \\;multiply\\; 2\\; in\\; both \\;sides\\; of \\;the\\; 2nd \\;constraint\\; and \\;then \\;add \\;that \\;to\\; the \\;3rd \\;constraint,\\;then \\;we \\;will\\; obtain \\;the \\;following\\;inequality: \\; -x_2+5x_3\\leq-12 \\;which \\;is\\; not\\; possible \\;since\\; the\\; lower\\; bound\\; of\\; x_3\\; is\\; 1\\; and\\;upper\\; bound\\; of\\; x_2\\; is\\; 8\\; and\\; due \\;to \\;that, \\;the \\;lowest\\; value\\; of\\;-x_2+5x_3 \\;can\\; be\\; -3\\geq-12.\\; That's \\;why,\\; the \\;model\\; do \\;not\\; posses\\; any \\;feasible\\; solution.$"
      ]
    },
    {
      "cell_type": "markdown",
      "metadata": {
        "id": "E52-USg4RNLN"
      },
      "source": [
        "$2.\\;(c):\\;Adding\\;a\\;new\\;constraint\\;-x_2+x_3\\leq9\\;and\\;re-solving.$"
      ]
    },
    {
      "cell_type": "code",
      "metadata": {
        "colab": {
          "base_uri": "https://localhost:8080/"
        },
        "id": "J5qgfgEaN400",
        "outputId": "96663c92-8497-42d2-b8ce-330a6f99fc11"
      },
      "source": [
        "model_ex1.x[1].setub(np.inf)\n",
        "new_constr_coef = [0,-1,1]\n",
        "new_constr_rhs = 9\n",
        "model_ex1.constraints.add(sum(new_constr_coef[j]*model_ex1.x[j] for j in col_indices) <= new_constr_rhs)\n",
        "model_ex1.pprint()"
      ],
      "execution_count": 499,
      "outputs": [
        {
          "output_type": "stream",
          "text": [
            "2 Set Declarations\n",
            "    constraints_index : Size=1, Index=None, Ordered=Insertion\n",
            "        Key  : Dimen : Domain : Size : Members\n",
            "        None :     1 :    Any :    4 : {1, 2, 3, 4}\n",
            "    x_index : Size=1, Index=None, Ordered=False\n",
            "        Key  : Dimen : Domain : Size : Members\n",
            "        None :     1 :    Any :    3 : {0, 1, 2}\n",
            "\n",
            "1 Var Declarations\n",
            "    x : Size=3, Index=x_index\n",
            "        Key : Lower : Value : Upper : Fixed : Stale : Domain\n",
            "          0 :     1 :  None :   inf : False :  True :  Reals\n",
            "          1 :     2 :  None :   inf : False :  True :  Reals\n",
            "          2 :     1 :  None :   inf : False :  True :  Reals\n",
            "\n",
            "1 Objective Declarations\n",
            "    objective : Size=1, Index=None, Active=True\n",
            "        Key  : Active : Sense    : Expression\n",
            "        None :   True : minimize : x[0] - 2.0*x[1] + 3*x[2]\n",
            "\n",
            "1 Constraint Declarations\n",
            "    constraints : Size=4, Index=constraints_index, Active=True\n",
            "        Key : Lower : Body                   : Upper : Active\n",
            "          1 :  -Inf : 2*x[0] + x[1] + 2*x[2] :  10.0 :   True\n",
            "          2 :  -Inf : - x[0] + x[1] + 2*x[2] :  -3.0 :   True\n",
            "          3 :  -Inf : 2*x[0] - 3*x[1] + x[2] :  -6.0 :   True\n",
            "          4 :  -Inf :          - x[1] + x[2] :   9.0 :   True\n",
            "\n",
            "5 Declarations: x_index x constraints_index constraints objective\n"
          ],
          "name": "stdout"
        }
      ]
    },
    {
      "cell_type": "code",
      "metadata": {
        "colab": {
          "base_uri": "https://localhost:8080/"
        },
        "id": "KPtxXp1IOSNs",
        "outputId": "62df6386-ec3c-4734-e9c5-59ceecef8b84"
      },
      "source": [
        "result = opt_cbc.solve(model_ex1)\n",
        "print(result)\n",
        "\n",
        "print('Solver status:', result.solver.status)\n",
        "print('Solver termination condition:',result.solver.termination_condition)\n",
        "print('Solver time:',result.solver.time)"
      ],
      "execution_count": 500,
      "outputs": [
        {
          "output_type": "stream",
          "text": [
            "WARNING: Loading a SolverResults object with a warning status into\n",
            "    model.name=\"unknown\";\n",
            "      - termination condition: infeasible\n",
            "      - message from solver: <undefined>\n",
            "\n",
            "Problem: \n",
            "- Name: unknown\n",
            "  Lower bound: None\n",
            "  Upper bound: inf\n",
            "  Number of objectives: 1\n",
            "  Number of constraints: 5\n",
            "  Number of variables: 4\n",
            "  Number of nonzeros: 3\n",
            "  Sense: minimize\n",
            "Solver: \n",
            "- Status: warning\n",
            "  User time: -1.0\n",
            "  System time: 0.0\n",
            "  Wallclock time: 0.0\n",
            "  Termination condition: infeasible\n",
            "  Termination message: Model was proven to be infeasible.\n",
            "  Statistics: \n",
            "    Branch and bound: \n",
            "      Number of bounded subproblems: 0\n",
            "      Number of created subproblems: 0\n",
            "    Black box: \n",
            "      Number of iterations: 0\n",
            "  Error rc: 0\n",
            "  Time: 0.01986098289489746\n",
            "\n",
            "Solver status: warning\n",
            "Solver termination condition: infeasible\n",
            "Solver time: 0.01986098289489746\n"
          ],
          "name": "stdout"
        }
      ]
    },
    {
      "cell_type": "markdown",
      "metadata": {
        "id": "SmxGMmVJxDjT"
      },
      "source": [
        "$Here,\\;  the\\;  'Status'\\;  is \\; 'warning'\\;  and\\;  the\\;  'Termination \\; Condition' \\; is \\; 'infeasible'.\\;The \\;solution\\; is \\;infeasible \\;because,\\; if \\;we \\;multiply\\; 2\\; in\\; both \\;sides\\; of \\;the\\; 2nd \\;constraint\\; and \\;then \\;add \\;that \\;to\\; the \\;1st \\;constraint,\\;then \\;we \\;will\\; obtain \\;the \\;following\\;inequality: \\; 3x_2+6x_3\\leq4 \\;which \\;is\\; not\\; possible \\;since\\; the\\; lower\\; bounds\\; of\\; x_2\\;and \\;x_3\\; are\\; 2\\; and\\; 1\\;respectively\\; and\\; due \\;to \\;that, \\;the \\;lowest\\; value\\; of\\; 3x_2+6x_3 \\;can\\; be\\; 12\\geq4.\\; That's \\;why,\\; the \\;model\\; do \\;not\\; posses\\; any \\;feasible\\; solution.$"
      ]
    },
    {
      "cell_type": "markdown",
      "metadata": {
        "id": "QFMK1fKuRtbo"
      },
      "source": [
        "$2.\\;(d):\\;Deactivating\\; the \\;objective\\; of \\;problem (OP) \\;and\\; constructing\\; a\\; new \\;objective \\;of\\; the \\;form\\;\n",
        "min\\; x_1 + x_2 + x_3 and deactivating\\; the \\;constraint\\; 2x_1 + x_2 + 2x_3 ≤ 10 \\;and\\; adding\\; a \\;different\\; constraint\\; x1 + x2 ≥ 45\\;and\\;re-solving.$"
      ]
    },
    {
      "cell_type": "code",
      "metadata": {
        "colab": {
          "base_uri": "https://localhost:8080/"
        },
        "id": "CCyNsXfjOU5z",
        "outputId": "3893bf60-7a4b-4dd6-d8cb-329c03366598"
      },
      "source": [
        "model_ex1.constraints[4].deactivate()\n",
        "model_ex1.objective.deactivate()\n",
        "obj_coef_c_new = np.array([1,1,1]) \n",
        "model_ex1.new_objective = Objective(expr = summation(obj_coef_c_new,model_ex1.x) )\n",
        "model_ex1.constraints[1].deactivate()\n",
        "model_ex1.constraints.add(expr = model_ex1.x[0]+model_ex1.x[1] >= 45)"
      ],
      "execution_count": 501,
      "outputs": [
        {
          "output_type": "execute_result",
          "data": {
            "text/plain": [
              "<pyomo.core.base.constraint._GeneralConstraintData at 0x7ff2ea635360>"
            ]
          },
          "metadata": {},
          "execution_count": 501
        }
      ]
    },
    {
      "cell_type": "code",
      "metadata": {
        "colab": {
          "base_uri": "https://localhost:8080/"
        },
        "id": "U2K3n8TWQJHx",
        "outputId": "9825cb21-ed37-4a7c-f0d1-e00b292a9910"
      },
      "source": [
        "model_ex1.pprint()"
      ],
      "execution_count": 502,
      "outputs": [
        {
          "output_type": "stream",
          "text": [
            "2 Set Declarations\n",
            "    constraints_index : Size=1, Index=None, Ordered=Insertion\n",
            "        Key  : Dimen : Domain : Size : Members\n",
            "        None :     1 :    Any :    5 : {1, 2, 3, 4, 5}\n",
            "    x_index : Size=1, Index=None, Ordered=False\n",
            "        Key  : Dimen : Domain : Size : Members\n",
            "        None :     1 :    Any :    3 : {0, 1, 2}\n",
            "\n",
            "1 Var Declarations\n",
            "    x : Size=3, Index=x_index\n",
            "        Key : Lower : Value : Upper : Fixed : Stale : Domain\n",
            "          0 :     1 :  None :   inf : False :  True :  Reals\n",
            "          1 :     2 :  None :   inf : False :  True :  Reals\n",
            "          2 :     1 :  None :   inf : False :  True :  Reals\n",
            "\n",
            "2 Objective Declarations\n",
            "    new_objective : Size=1, Index=None, Active=True\n",
            "        Key  : Active : Sense    : Expression\n",
            "        None :   True : minimize : x[0] + x[1] + x[2]\n",
            "    objective : Size=1, Index=None, Active=False\n",
            "        Key  : Active : Sense    : Expression\n",
            "        None :  False : minimize : x[0] - 2.0*x[1] + 3*x[2]\n",
            "\n",
            "1 Constraint Declarations\n",
            "    constraints : Size=5, Index=constraints_index, Active=True\n",
            "        Key : Lower : Body                   : Upper : Active\n",
            "          1 :  -Inf : 2*x[0] + x[1] + 2*x[2] :  10.0 :  False\n",
            "          2 :  -Inf : - x[0] + x[1] + 2*x[2] :  -3.0 :   True\n",
            "          3 :  -Inf : 2*x[0] - 3*x[1] + x[2] :  -6.0 :   True\n",
            "          4 :  -Inf :          - x[1] + x[2] :   9.0 :  False\n",
            "          5 :  45.0 :            x[0] + x[1] :  +Inf :   True\n",
            "\n",
            "6 Declarations: x_index x constraints_index constraints objective new_objective\n"
          ],
          "name": "stdout"
        }
      ]
    },
    {
      "cell_type": "code",
      "metadata": {
        "colab": {
          "base_uri": "https://localhost:8080/"
        },
        "id": "Wpo3wTzRQEzo",
        "outputId": "b95ac9c5-43ca-43b8-9053-e22c5018ca78"
      },
      "source": [
        "result = opt_cbc.solve(model_ex1)\n",
        "print(result)\n",
        "\n",
        "print('Solver status:', result.solver.status)\n",
        "print('Solver termination condition:',result.solver.termination_condition)\n",
        "print('Solver time:',result.solver.time)"
      ],
      "execution_count": 503,
      "outputs": [
        {
          "output_type": "stream",
          "text": [
            "\n",
            "Problem: \n",
            "- Name: unknown\n",
            "  Lower bound: 46.0\n",
            "  Upper bound: 46.0\n",
            "  Number of objectives: 1\n",
            "  Number of constraints: 4\n",
            "  Number of variables: 4\n",
            "  Number of nonzeros: 2\n",
            "  Sense: minimize\n",
            "Solver: \n",
            "- Status: ok\n",
            "  User time: -1.0\n",
            "  System time: 0.0\n",
            "  Wallclock time: 0.0\n",
            "  Termination condition: optimal\n",
            "  Termination message: Model was solved to optimality (subject to tolerances), and an optimal solution is available.\n",
            "  Statistics: \n",
            "    Branch and bound: \n",
            "      Number of bounded subproblems: None\n",
            "      Number of created subproblems: None\n",
            "    Black box: \n",
            "      Number of iterations: 2\n",
            "  Error rc: 0\n",
            "  Time: 0.02979564666748047\n",
            "Solution: \n",
            "- number of solutions: 0\n",
            "  number of solutions displayed: 0\n",
            "\n",
            "Solver status: ok\n",
            "Solver termination condition: optimal\n",
            "Solver time: 0.02979564666748047\n"
          ],
          "name": "stdout"
        }
      ]
    },
    {
      "cell_type": "markdown",
      "metadata": {
        "id": "myEze_9lzOIg"
      },
      "source": [
        "$Here,\\;  the\\;  'Status'\\;  is \\; 'ok'\\;  and\\;  the\\;  'Termination \\; Condition' \\; is \\; 'optimal'.\\;Hence,\\;all\\;constraints\\;are \\;simultaneously\\;satisfied.$"
      ]
    },
    {
      "cell_type": "markdown",
      "metadata": {
        "id": "_-WDOAtrztM9"
      },
      "source": [
        "$The \\;values\\; of\\; the\\; Objective\\; function, \\;variables\\; and \\;the \\;active\\; status\\; of \\;constraints\\; are \\;as \\;follows:$"
      ]
    },
    {
      "cell_type": "code",
      "metadata": {
        "colab": {
          "base_uri": "https://localhost:8080/"
        },
        "id": "YZQixWCh0IW8",
        "outputId": "c25bdcb5-ed8f-42d0-daad-b661b788ae51"
      },
      "source": [
        "# display solution\n",
        "print('\\nObjective = ', model_ex1.new_objective())\n",
        "\n",
        "print('\\nDecision Variables')\n",
        "for i in col_indices:\n",
        "  print('x'+str(i)+'= ', model_ex1.x[i].value) \n",
        "print('\\nConstraints')\n",
        "model_ex1.constraints.display()"
      ],
      "execution_count": 504,
      "outputs": [
        {
          "output_type": "stream",
          "text": [
            "\n",
            "Objective =  46.0\n",
            "\n",
            "Decision Variables\n",
            "x0=  25.6\n",
            "x1=  19.4\n",
            "x2=  1.0\n",
            "\n",
            "Constraints\n",
            "constraints : Size=5\n",
            "    Key : Lower : Body               : Upper\n",
            "      2 :  None : -4.200000000000003 :  -3.0\n",
            "      3 :  None : -5.999999999999993 :  -6.0\n",
            "      5 :  45.0 :               45.0 :  None\n"
          ],
          "name": "stdout"
        }
      ]
    },
    {
      "cell_type": "markdown",
      "metadata": {
        "id": "ZFowgnr92din"
      },
      "source": [
        "$The\\;third\\;and\\;fifth\\;constraints\\;i.e\\; 2x_1 - 3x_2+ x_3\\leq -6.0\\;and\\;45.0 \\leq x_1 + x_2\\;are\\;active.$"
      ]
    }
  ]
}