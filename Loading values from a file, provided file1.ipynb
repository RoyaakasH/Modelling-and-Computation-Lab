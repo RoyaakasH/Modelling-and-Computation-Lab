{
  "cells": [
    {
      "cell_type": "markdown",
      "metadata": {
        "id": "8L_GXz0ifpt1"
      },
      "source": [
        "$$Exercise: \\;1$$"
      ]
    },
    {
      "cell_type": "code",
      "execution_count": 32,
      "metadata": {
        "id": "_m3snJf6fRkT"
      },
      "outputs": [],
      "source": [
        "!pip install -q pyomo"
      ]
    },
    {
      "cell_type": "code",
      "execution_count": 33,
      "metadata": {
        "id": "mbfLVLS6fuBt"
      },
      "outputs": [],
      "source": [
        "from pyomo.environ import *"
      ]
    },
    {
      "cell_type": "code",
      "execution_count": 34,
      "metadata": {
        "id": "8NOeKr0hfycP"
      },
      "outputs": [],
      "source": [
        "import numpy as np"
      ]
    },
    {
      "cell_type": "markdown",
      "metadata": {
        "id": "lnbfnYQph_oH"
      },
      "source": [
        "$$Q-4$$"
      ]
    },
    {
      "cell_type": "code",
      "execution_count": 35,
      "metadata": {
        "id": "Y-jAgWVZf2G6"
      },
      "outputs": [],
      "source": [
        "coef = np.loadtxt('file1.txt', delimiter = ',')"
      ]
    },
    {
      "cell_type": "code",
      "execution_count": 36,
      "metadata": {
        "colab": {
          "base_uri": "https://localhost:8080/"
        },
        "id": "UFnIRUZTgZqK",
        "outputId": "7125bc25-d52d-4a2d-ebdf-b7b9ffb27f48"
      },
      "outputs": [
        {
          "name": "stdout",
          "output_type": "stream",
          "text": [
            "(6, 7)\n",
            "Number of rows= 6\n",
            "Number of columns= 7\n"
          ]
        }
      ],
      "source": [
        "print(coef.shape)\n",
        "print('Number of rows=', coef.shape[0])\n",
        "print('Number of columns=', coef.shape[1])"
      ]
    },
    {
      "cell_type": "code",
      "execution_count": 37,
      "metadata": {
        "colab": {
          "base_uri": "https://localhost:8080/"
        },
        "id": "9CQfkw6lhYB9",
        "outputId": "669d398e-7835-4c27-8878-03612a22a71d"
      },
      "outputs": [
        {
          "name": "stdout",
          "output_type": "stream",
          "text": [
            "[[  0.85   3.75  -8.75  -3.45 -22.38  20.     0.  ]\n",
            " [ -0.7   -3.9   -1.     0.     1.     0.    14.9 ]\n",
            " [  1.     0.     0.    -1.     0.    -1.     0.9 ]\n",
            " [  0.    -3.    -2.     0.     0.    -1.   -51.7 ]\n",
            " [  0.     0.     0.     4.8    9.12   7.2   75.  ]\n",
            " [ -0.8   -1.5    8.    -2.     1.     0.   -27.  ]]\n"
          ]
        }
      ],
      "source": [
        "print(coef)"
      ]
    },
    {
      "cell_type": "markdown",
      "metadata": {
        "id": "f296BSbTiHls"
      },
      "source": [
        "$$Q-5$$"
      ]
    },
    {
      "cell_type": "code",
      "execution_count": 38,
      "metadata": {
        "id": "naGjv5Y9hZgb"
      },
      "outputs": [],
      "source": [
        "model = ConcreteModel()"
      ]
    },
    {
      "cell_type": "code",
      "execution_count": 39,
      "metadata": {
        "id": "c6z-e8xghkAV"
      },
      "outputs": [],
      "source": [
        "# setting the number of decision variables and constraints\n",
        "M = coef.shape[0] - 1 \n",
        "N = coef.shape[1] - 1 "
      ]
    },
    {
      "cell_type": "code",
      "execution_count": 40,
      "metadata": {
        "colab": {
          "base_uri": "https://localhost:8080/"
        },
        "id": "D09WUcgkqOtR",
        "outputId": "16d02a77-a5ef-48c2-82e7-c17e850e7eab"
      },
      "outputs": [
        {
          "name": "stdout",
          "output_type": "stream",
          "text": [
            "5\n",
            "6\n"
          ]
        }
      ],
      "source": [
        "print(M)\n",
        "print(N)"
      ]
    },
    {
      "cell_type": "code",
      "execution_count": 41,
      "metadata": {
        "id": "viO8fcbwiXyU"
      },
      "outputs": [],
      "source": [
        "# coefficient of the objective function\n",
        "obj_coef = coef[0,:-1]\n"
      ]
    },
    {
      "cell_type": "code",
      "execution_count": 42,
      "metadata": {
        "id": "4p2P8TVrix2c"
      },
      "outputs": [],
      "source": [
        "# coefficients of the constraints\n",
        "constr_coef = coef[1:,:-1]\n"
      ]
    },
    {
      "cell_type": "code",
      "execution_count": 43,
      "metadata": {
        "id": "CHzxbM25jfPu"
      },
      "outputs": [],
      "source": [
        "# rhs of the constraints\n",
        "constr_rhs = coef[1:,-1]\n"
      ]
    },
    {
      "cell_type": "code",
      "execution_count": 44,
      "metadata": {
        "id": "KCTZJDjKkDin"
      },
      "outputs": [],
      "source": [
        "#Since the variables have the same upper bound and lower bound, we can simply use scalars to store them\n",
        "lower_bound = 0\n",
        "upper_bound = np.inf"
      ]
    },
    {
      "cell_type": "code",
      "execution_count": 45,
      "metadata": {
        "id": "4eqRb2x2kMMR"
      },
      "outputs": [],
      "source": [
        "# set row and column indices\n",
        "row_indices = np.arange(M)\n",
        "col_indices = np.arange(N)"
      ]
    },
    {
      "cell_type": "code",
      "execution_count": 46,
      "metadata": {
        "colab": {
          "base_uri": "https://localhost:8080/"
        },
        "id": "uNZ84dJbp_za",
        "outputId": "5e2fdd1a-13eb-4640-8308-741bb22545ca"
      },
      "outputs": [
        {
          "name": "stdout",
          "output_type": "stream",
          "text": [
            "[0 1 2 3 4 5]\n",
            "[0 1 2 3 4]\n"
          ]
        }
      ],
      "source": [
        "print(col_indices)\n",
        "print(row_indices)"
      ]
    },
    {
      "cell_type": "code",
      "execution_count": 47,
      "metadata": {
        "id": "o3zCIM_ZljsN"
      },
      "outputs": [],
      "source": [
        "# declare the decision variables in the model\n",
        "model.x = Var(col_indices)"
      ]
    },
    {
      "cell_type": "code",
      "execution_count": 48,
      "metadata": {
        "id": "FNARaN5Clspy"
      },
      "outputs": [],
      "source": [
        "# create a constraint list to hold multiple constraints\n",
        "model.constraints = ConstraintList()"
      ]
    },
    {
      "cell_type": "code",
      "execution_count": 49,
      "metadata": {
        "id": "hyPEuQyDl66m"
      },
      "outputs": [],
      "source": [
        "for i in row_indices:\n",
        "      model.constraints.add(sum(constr_coef[i][j]*model.x[j] for j in col_indices)<= constr_rhs[i])"
      ]
    },
    {
      "cell_type": "code",
      "execution_count": 50,
      "metadata": {
        "id": "KUKoxdYpoW9S"
      },
      "outputs": [],
      "source": [
        "# set upper and lower bounds of the variables\n",
        "for j in col_indices:\n",
        "  model.x[j].setlb(lower_bound)\n",
        "  model.x[j].setub(upper_bound)"
      ]
    },
    {
      "cell_type": "code",
      "execution_count": 51,
      "metadata": {
        "id": "SHgVFj4ErKfV"
      },
      "outputs": [],
      "source": [
        "# add model objective function\n",
        "model.objective = Objective(expr = summation(obj_coef, model.x), sense = maximize)"
      ]
    },
    {
      "cell_type": "code",
      "execution_count": 52,
      "metadata": {
        "colab": {
          "base_uri": "https://localhost:8080/"
        },
        "id": "mWCaTeGLrmbB",
        "outputId": "30ac9f36-eedb-4ed0-8503-482551308f59"
      },
      "outputs": [
        {
          "name": "stdout",
          "output_type": "stream",
          "text": [
            "2 Set Declarations\n",
            "    constraints_index : Size=1, Index=None, Ordered=Insertion\n",
            "        Key  : Dimen : Domain : Size : Members\n",
            "        None :     1 :    Any :    5 : {1, 2, 3, 4, 5}\n",
            "    x_index : Size=1, Index=None, Ordered=False\n",
            "        Key  : Dimen : Domain : Size : Members\n",
            "        None :     1 :    Any :    6 : {0, 1, 2, 3, 4, 5}\n",
            "\n",
            "1 Var Declarations\n",
            "    x : Size=6, Index=x_index\n",
            "        Key : Lower : Value : Upper : Fixed : Stale : Domain\n",
            "          0 :     0 :  None :   inf : False :  True :  Reals\n",
            "          1 :     0 :  None :   inf : False :  True :  Reals\n",
            "          2 :     0 :  None :   inf : False :  True :  Reals\n",
            "          3 :     0 :  None :   inf : False :  True :  Reals\n",
            "          4 :     0 :  None :   inf : False :  True :  Reals\n",
            "          5 :     0 :  None :   inf : False :  True :  Reals\n",
            "\n",
            "1 Objective Declarations\n",
            "    objective : Size=1, Index=None, Active=True\n",
            "        Key  : Active : Sense    : Expression\n",
            "        None :   True : maximize : 0.85*x[0] + 3.75*x[1] - 8.75*x[2] - 3.45*x[3] - 22.38*x[4] + 20.0*x[5]\n",
            "\n",
            "1 Constraint Declarations\n",
            "    constraints : Size=5, Index=constraints_index, Active=True\n",
            "        Key : Lower : Body                                              : Upper : Active\n",
            "          1 :  -Inf :                -0.7*x[0] - 3.9*x[1] - x[2] + x[4] :  14.9 :   True\n",
            "          2 :  -Inf :                                x[0] - x[3] - x[5] :   0.9 :   True\n",
            "          3 :  -Inf :                       -3.0*x[1] - 2.0*x[2] - x[5] : -51.7 :   True\n",
            "          4 :  -Inf :                   4.8*x[3] + 9.12*x[4] + 7.2*x[5] :  75.0 :   True\n",
            "          5 :  -Inf : -0.8*x[0] - 1.5*x[1] + 8.0*x[2] - 2.0*x[3] + x[4] : -27.0 :   True\n",
            "\n",
            "5 Declarations: x_index x constraints_index constraints objective\n"
          ]
        }
      ],
      "source": [
        "model.pprint()"
      ]
    },
    {
      "cell_type": "markdown",
      "metadata": {
        "id": "0RC9CVRjiNLt"
      },
      "source": [
        "$$Q-6$$"
      ]
    },
    {
      "cell_type": "code",
      "execution_count": 53,
      "metadata": {
        "id": "aVolWJ55rpbk"
      },
      "outputs": [],
      "source": [
        "!apt-get install -y -qq coinor-cbc"
      ]
    },
    {
      "cell_type": "code",
      "execution_count": 54,
      "metadata": {
        "id": "AMSMK_yMr1qG"
      },
      "outputs": [],
      "source": [
        "opt_cbc = SolverFactory('cbc')"
      ]
    },
    {
      "cell_type": "code",
      "execution_count": 55,
      "metadata": {
        "colab": {
          "base_uri": "https://localhost:8080/"
        },
        "id": "UxsozmcBsChN",
        "outputId": "bc283604-b69e-4b36-f287-f6eb2fbe5343"
      },
      "outputs": [
        {
          "name": "stdout",
          "output_type": "stream",
          "text": [
            "WARNING: Loading a SolverResults object with a warning status into\n",
            "    model.name=\"unknown\";\n",
            "      - termination condition: unbounded\n",
            "      - message from solver: <undefined>\n",
            "Solver status: warning\n",
            "Solver termination condition: unbounded\n"
          ]
        }
      ],
      "source": [
        "result = opt_cbc.solve(model)\n",
        "print('Solver status:', result.solver.status)\n",
        "print('Solver termination condition:',result.solver.termination_condition)"
      ]
    },
    {
      "cell_type": "markdown",
      "metadata": {
        "id": "aQbxaKbTz9EB"
      },
      "source": [
        "$$Q-7$$\n",
        "\n",
        "$The\\; termination \\;condition\\; is \\;unbounded,\\; i.e. \\;in \\;this\\; problem,\\; we \\;can \\;maximize \\;the\\; objective \\;function \\;indefinitely\\; without\\; violating\\; the\\; constraints.\\; The\\; solver\\; status\\; shows \\;that\\; we \\;cannot \\;find \\;an \\;optimal \\;solution,\\; as \\;the \\;feasible \\;region \\;is\\; unbounded.$"
      ]
    },
    {
      "cell_type": "markdown",
      "metadata": {
        "id": "oIQFCMxyiyyr"
      },
      "source": [
        "$$Q-8$$\n",
        "$We\\; were \\;solving\\; the\\; problem\\; in\\; the\\; wrong\\; optimization \\;sense, \\;so \\;the\\; feasible\\; region \\;is\\; unbounded.$"
      ]
    },
    {
      "cell_type": "code",
      "execution_count": 56,
      "metadata": {
        "colab": {
          "base_uri": "https://localhost:8080/"
        },
        "id": "hlnfXTzzsKJu",
        "outputId": "c3361872-9eff-4ecd-f08f-fe61102704d6"
      },
      "outputs": [
        {
          "name": "stdout",
          "output_type": "stream",
          "text": [
            "2 Set Declarations\n",
            "    constraints_index : Size=1, Index=None, Ordered=Insertion\n",
            "        Key  : Dimen : Domain : Size : Members\n",
            "        None :     1 :    Any :    5 : {1, 2, 3, 4, 5}\n",
            "    x_index : Size=1, Index=None, Ordered=False\n",
            "        Key  : Dimen : Domain : Size : Members\n",
            "        None :     1 :    Any :    6 : {0, 1, 2, 3, 4, 5}\n",
            "\n",
            "1 Var Declarations\n",
            "    x : Size=6, Index=x_index\n",
            "        Key : Lower : Value : Upper : Fixed : Stale : Domain\n",
            "          0 :     0 :  None :   inf : False :  True :  Reals\n",
            "          1 :     0 :  None :   inf : False :  True :  Reals\n",
            "          2 :     0 :  None :   inf : False :  True :  Reals\n",
            "          3 :     0 :  None :   inf : False :  True :  Reals\n",
            "          4 :     0 :  None :   inf : False :  True :  Reals\n",
            "          5 :     0 :  None :   inf : False :  True :  Reals\n",
            "\n",
            "1 Objective Declarations\n",
            "    objective : Size=1, Index=None, Active=True\n",
            "        Key  : Active : Sense    : Expression\n",
            "        None :   True : minimize : 0.85*x[0] + 3.75*x[1] - 8.75*x[2] - 3.45*x[3] - 22.38*x[4] + 20.0*x[5]\n",
            "\n",
            "1 Constraint Declarations\n",
            "    constraints : Size=5, Index=constraints_index, Active=True\n",
            "        Key : Lower : Body                                              : Upper : Active\n",
            "          1 :  -Inf :                -0.7*x[0] - 3.9*x[1] - x[2] + x[4] :  14.9 :   True\n",
            "          2 :  -Inf :                                x[0] - x[3] - x[5] :   0.9 :   True\n",
            "          3 :  -Inf :                       -3.0*x[1] - 2.0*x[2] - x[5] : -51.7 :   True\n",
            "          4 :  -Inf :                   4.8*x[3] + 9.12*x[4] + 7.2*x[5] :  75.0 :   True\n",
            "          5 :  -Inf : -0.8*x[0] - 1.5*x[1] + 8.0*x[2] - 2.0*x[3] + x[4] : -27.0 :   True\n",
            "\n",
            "5 Declarations: x_index x constraints_index constraints objective\n"
          ]
        }
      ],
      "source": [
        "# reset the sense to minimize\n",
        "model.objective.set_sense(minimize)\n",
        "model.pprint()\n"
      ]
    },
    {
      "cell_type": "code",
      "execution_count": 57,
      "metadata": {
        "colab": {
          "base_uri": "https://localhost:8080/"
        },
        "id": "tK77xc7GsvIY",
        "outputId": "ae270c6a-3346-4674-fc09-ad63978bdbb5"
      },
      "outputs": [
        {
          "name": "stdout",
          "output_type": "stream",
          "text": [
            "\n",
            "Problem: \n",
            "- Name: unknown\n",
            "  Lower bound: -97.02184211\n",
            "  Upper bound: -97.02184211\n",
            "  Number of objectives: 1\n",
            "  Number of constraints: 6\n",
            "  Number of variables: 7\n",
            "  Number of nonzeros: 6\n",
            "  Sense: minimize\n",
            "Solver: \n",
            "- Status: ok\n",
            "  User time: -1.0\n",
            "  System time: 0.0\n",
            "  Wallclock time: 0.0\n",
            "  Termination condition: optimal\n",
            "  Termination message: Model was solved to optimality (subject to tolerances), and an optimal solution is available.\n",
            "  Statistics: \n",
            "    Branch and bound: \n",
            "      Number of bounded subproblems: None\n",
            "      Number of created subproblems: None\n",
            "    Black box: \n",
            "      Number of iterations: 6\n",
            "  Error rc: 0\n",
            "  Time: 0.018137454986572266\n",
            "Solution: \n",
            "- number of solutions: 0\n",
            "  number of solutions displayed: 0\n",
            "\n",
            "SolverStatus: ok\n",
            "Termination Condition: optimal\n"
          ]
        }
      ],
      "source": [
        "result = opt_cbc.solve(model)\n",
        "print(result)\n",
        "print('SolverStatus:', result.solver.status)\n",
        "print('Termination Condition:', result.solver.termination_condition)"
      ]
    },
    {
      "cell_type": "code",
      "execution_count": 58,
      "metadata": {
        "colab": {
          "base_uri": "https://localhost:8080/"
        },
        "id": "-SCfbsgWtD48",
        "outputId": "50e00794-62ec-4639-8c84-79daf3505bf9"
      },
      "outputs": [
        {
          "name": "stdout",
          "output_type": "stream",
          "text": [
            "Objective Function: -97.02184239599997\n",
            "\n",
            "Decision Variables: \n",
            "x[ 0 ]=  0.9\n",
            "x[ 1 ]=  23.002456\n",
            "x[ 2 ]=  0.0\n",
            "x[ 3 ]=  0.0\n",
            "x[ 4 ]=  8.2236842\n",
            "x[ 5 ]=  0.0\n",
            "\n",
            "Constraints:\n",
            "constraints : Size=5\n",
            "    Key : Lower : Body                : Upper\n",
            "      1 :  None :         -82.1158942 :  14.9\n",
            "      2 :  None :                 0.9 :   0.9\n",
            "      3 :  None :          -69.007368 : -51.7\n",
            "      4 :  None :   74.99999990399999 :  75.0\n",
            "      5 :  None : -26.999999799999998 : -27.0\n"
          ]
        }
      ],
      "source": [
        "# display results\n",
        "print('Objective Function:', model.objective())\n",
        "print('\\nDecision Variables: ')\n",
        "for j in col_indices:\n",
        "      print('x[',j,']= ', model.x[j].value)\n",
        "print('\\nConstraints:')\n",
        "model.constraints.display()      "
      ]
    },
    {
      "cell_type": "markdown",
      "metadata": {
        "id": "3rmDYYkP6fhw"
      },
      "source": [
        "$$Q-9$$\n",
        "\n",
        "$After\\; changing\\; the \\;sense\\; from \\;maximize\\;to \\;minimize, \\;we \\;are \\;now\\; getting\\; an\\; optimal\\; solution.\\; The\\; previous\\; termination \\;condition\\; was\\; due\\; to \\;wrong\\; sense\\; of\\; the\\; optimization\\; problem.$ \\\\\n",
        "\n",
        "$Objective \\;Value=\\; -97.02184$ \\\\\n",
        "\n",
        "$Optimal \\;solution:\\; x_1 = 0.9 ;\\; x_2 = 23.0024 ;\\; x_3 = 0 ;\\; x_4 = 0; \\;x_5 = 8.2236842 ;\\; x_6 = 0$\n",
        "\n",
        "$Constraint \\;2,\\; 4\\;and\\; 5\\; (last\\; 2\\; in\\; approximate \\;sense)\\; are\\; active\\; since\\; they\\; attain\\; exact \\;(approximate) \\;equality.$"
      ]
    }
  ],
  "metadata": {
    "colab": {
      "collapsed_sections": [],
      "name": "21i190007_Lab4_ex1.ipynb",
      "provenance": []
    },
    "kernelspec": {
      "display_name": "Python 3",
      "name": "python3"
    },
    "language_info": {
      "name": "python"
    }
  },
  "nbformat": 4,
  "nbformat_minor": 0
}
