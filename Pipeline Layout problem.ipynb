{
  "nbformat": 4,
  "nbformat_minor": 0,
  "metadata": {
    "colab": {
      "name": "21i190007_IE507_Lab09_Ex2.ipynb",
      "provenance": [],
      "collapsed_sections": []
    },
    "kernelspec": {
      "name": "python3",
      "display_name": "Python 3"
    },
    "language_info": {
      "name": "python"
    }
  },
  "cells": [
    {
      "cell_type": "markdown",
      "metadata": {
        "id": "J0WJgMuiOMwK"
      },
      "source": [
        "$$Exercise: 2$$"
      ]
    },
    {
      "cell_type": "markdown",
      "metadata": {
        "id": "3nE4fNfCVaXV"
      },
      "source": [
        "#Q-1"
      ]
    },
    {
      "cell_type": "markdown",
      "metadata": {
        "id": "eogmDqyuHpND"
      },
      "source": [
        "$Firstly,\\; we\\; set\\; the \\;co-ordinates \\;of\\; house\\; as\\;(0,0)\\; and \\;then\\; we\\; proceed\\; as \\;follows- \\\\\n",
        "The\\; mathematical\\; model \\;is\\; to \\;minimize\\; the\\; total \\;distance \\;from\\;farm\\; to\\;the\\; house\\; is: \\\\ \n",
        "Declaring\\; the \\;decision\\; variables: \\\\ \n",
        "x_f = The\\; x\\; coordinate\\; of\\; end \\;point\\; of \\;the\\; pipe \\;in\\; farm \\\\ \n",
        "y_f = The\\; y \\;coordinate \\;of\\; end \\;point\\; of\\; the\\; pipe\\; in\\; farm \\\\ \n",
        "x_l = The\\; x \\;coordinate\\; of\\; end \\;point\\; of \\;the\\; pipe\\; in \\;lake \\\\ \n",
        "y_l = The\\; y \\;coordinate\\; of\\; end \\;point\\; of \\;the\\; pipe\\; in \\;lake \\\\ \n",
        "The\\; objective\\; function\\; is: \\\\ \n",
        "{min} (x_f-x_l)^2 + (y_f-y_l)^2 \\\\\n",
        "Subject\\; to, \\\\ \n",
        " (x_l-200)^2 +(y_l-200)^2 \\leq 2500 \\\\ \n",
        " (x_f+3y_f)\\leq0 \\\\ \n",
        " 0\\leq x_f \\leq150 \\\\ \n",
        " -50 \\leq y_f \\leq 0  $\n"
      ]
    },
    {
      "cell_type": "markdown",
      "metadata": {
        "id": "FLdXJ2JgVJ6R"
      },
      "source": [
        "#Q-2"
      ]
    },
    {
      "cell_type": "code",
      "metadata": {
        "id": "8ObwCpK2n1En",
        "colab": {
          "base_uri": "https://localhost:8080/"
        },
        "outputId": "098309be-a3a3-47c9-d969-455b69256f69"
      },
      "source": [
        "%%bash\n",
        "rm -fv ipopt*\n",
        "apt install -q -yy libgfortran5\n",
        "sleep 1\n",
        "wget -q https://www.ieor.iitb.ac.in/files/faculty/amahajan/ipopt\n",
        "wget -q https://www.ieor.iitb.ac.in/files/faculty/amahajan/test.nl\n",
        "chmod u+rx ipopt"
      ],
      "execution_count": 36,
      "outputs": [
        {
          "output_type": "stream",
          "name": "stdout",
          "text": [
            "removed 'ipopt'\n",
            "Reading package lists...\n",
            "Building dependency tree...\n",
            "Reading state information...\n",
            "libgfortran5 is already the newest version (8.4.0-1ubuntu1~18.04).\n",
            "0 upgraded, 0 newly installed, 0 to remove and 37 not upgraded.\n"
          ]
        },
        {
          "output_type": "stream",
          "name": "stderr",
          "text": [
            "\n",
            "WARNING: apt does not have a stable CLI interface. Use with caution in scripts.\n",
            "\n"
          ]
        }
      ]
    },
    {
      "cell_type": "markdown",
      "metadata": {
        "id": "B2ktVY5JxTOP"
      },
      "source": [
        "The above code also fetches an optimization problem in an '.nl' format. 'nl' format is suitable for solvers, not for humans. Lets call ipopt directly (without using any Python) to solve it."
      ]
    },
    {
      "cell_type": "code",
      "metadata": {
        "id": "DQqKeB7wxpmX",
        "colab": {
          "base_uri": "https://localhost:8080/"
        },
        "outputId": "20261066-7d3f-407c-9672-809e6d152288"
      },
      "source": [
        "!./ipopt test.nl"
      ],
      "execution_count": 37,
      "outputs": [
        {
          "output_type": "stream",
          "name": "stdout",
          "text": [
            "\n",
            "\n",
            "******************************************************************************\n",
            "This program contains Ipopt, a library for large-scale nonlinear optimization.\n",
            " Ipopt is released as open source code under the Eclipse Public License (EPL).\n",
            "         For more information visit http://projects.coin-or.org/Ipopt\n",
            "******************************************************************************\n",
            "\n",
            "This is Ipopt version 3.13.2, running with linear solver mumps.\n",
            "NOTE: Other linear solvers might be more efficient (see Ipopt documentation).\n",
            "\n",
            "Number of nonzeros in equality constraint Jacobian...:        0\n",
            "Number of nonzeros in inequality constraint Jacobian.:        0\n",
            "Number of nonzeros in Lagrangian Hessian.............:      230\n",
            "\n",
            "Total number of variables............................:       30\n",
            "                     variables with only lower bounds:       30\n",
            "                variables with lower and upper bounds:        0\n",
            "                     variables with only upper bounds:        0\n",
            "Total number of equality constraints.................:        0\n",
            "Total number of inequality constraints...............:        0\n",
            "        inequality constraints with only lower bounds:        0\n",
            "   inequality constraints with lower and upper bounds:        0\n",
            "        inequality constraints with only upper bounds:        0\n",
            "\n",
            "iter    objective    inf_pr   inf_du lg(mu)  ||d||  lg(rg) alpha_du alpha_pr  ls\n",
            "   0  1.7201186e+00 0.00e+00 1.00e+00  -1.0 0.00e+00    -  0.00e+00 0.00e+00   0\n",
            "   1  1.7260509e+00 0.00e+00 1.01e-02  -1.0 3.61e-01    -  9.90e-01 1.00e+00f  1\n",
            "   2  1.7538885e+00 0.00e+00 1.00e-06  -1.0 5.55e+00    -  1.00e+00 1.00e+00f  1\n",
            "   3  1.7211737e+00 0.00e+00 1.55e-02  -2.5 4.25e+00    -  9.50e-01 1.00e+00f  1\n",
            "   4  1.7201208e+00 0.00e+00 1.50e-09  -3.8 1.59e+00    -  1.00e+00 1.00e+00f  1\n",
            "   5  1.7201186e+00 0.00e+00 2.22e-11  -5.7 7.22e-02    -  1.00e+00 1.00e+00f  1\n",
            "   6  1.7201186e+00 0.00e+00 3.08e-12  -8.6 3.43e-04    -  1.00e+00 1.00e+00f  1\n",
            "\n",
            "Number of Iterations....: 6\n",
            "\n",
            "                                   (scaled)                 (unscaled)\n",
            "Objective...............:   1.7201185696472858e+00    1.7201185696472858e+00\n",
            "Dual infeasibility......:   3.0848629611540733e-12    3.0848629611540733e-12\n",
            "Constraint violation....:   0.0000000000000000e+00    0.0000000000000000e+00\n",
            "Complementarity.........:   2.5414705854774420e-09    2.5414705854774420e-09\n",
            "Overall NLP error.......:   2.5414705854774420e-09    2.5414705854774420e-09\n",
            "\n",
            "\n",
            "Number of objective function evaluations             = 7\n",
            "Number of objective gradient evaluations             = 7\n",
            "Number of equality constraint evaluations            = 0\n",
            "Number of inequality constraint evaluations          = 0\n",
            "Number of equality constraint Jacobian evaluations   = 0\n",
            "Number of inequality constraint Jacobian evaluations = 0\n",
            "Number of Lagrangian Hessian evaluations             = 6\n",
            "Total CPU secs in IPOPT (w/o function evaluations)   =      0.005\n",
            "Total CPU secs in NLP function evaluations           =      0.000\n",
            "\n",
            "EXIT: Optimal Solution Found.\n",
            " \n",
            "Ipopt 3.13.2: Optimal Solution Found\n"
          ]
        }
      ]
    },
    {
      "cell_type": "markdown",
      "metadata": {
        "id": "-nHb5lFVyOwD"
      },
      "source": [
        "\n",
        "If you are able to see Ipopt output, we can install pyomo as usual"
      ]
    },
    {
      "cell_type": "code",
      "metadata": {
        "id": "L3AazXhaqM6M"
      },
      "source": [
        "!pip install -q pyomo"
      ],
      "execution_count": 38,
      "outputs": []
    },
    {
      "cell_type": "code",
      "metadata": {
        "id": "NInCtaadqYSg"
      },
      "source": [
        "import numpy as np"
      ],
      "execution_count": 39,
      "outputs": []
    },
    {
      "cell_type": "code",
      "metadata": {
        "id": "hMlUScaFqPqe"
      },
      "source": [
        "from pyomo.environ import *"
      ],
      "execution_count": 40,
      "outputs": []
    },
    {
      "cell_type": "code",
      "metadata": {
        "id": "8DWMvz4nrteP",
        "colab": {
          "base_uri": "https://localhost:8080/"
        },
        "outputId": "f35ef74f-813b-40dc-df4e-3a767b3c1806"
      },
      "source": [
        "model = ConcreteModel()\n",
        "model.xf = Var()\n",
        "model.xl = Var()\n",
        "model.yf = Var()\n",
        "model.yl = Var()\n",
        "\n",
        "model.xf.setlb(0)\n",
        "model.xf.setub(150)\n",
        "\n",
        "model.xl.setlb(150)\n",
        "model.xl.setub(250)\n",
        "\n",
        "model.yf.setlb(-50)\n",
        "model.yf.setub(0)\n",
        "\n",
        "model.yl.setlb(150)\n",
        "model.yl.setub(250)\n",
        "\n",
        "model.constraints = ConstraintList()\n",
        "\n",
        "model.constraints.add(expr= (200-model.xl)**2 + (200-model.yl)**2 <= 2500  )\n",
        "model.constraints.add(expr= model.xf + 3*model.yf<= 0 )\n",
        "model.obj = Objective(expr = (model.xl-model.xf)**2 + (model.yl-model.yf)**2, sense=minimize)\n",
        "model.pprint() \n"
      ],
      "execution_count": 41,
      "outputs": [
        {
          "output_type": "stream",
          "name": "stdout",
          "text": [
            "1 Set Declarations\n",
            "    constraints_index : Size=1, Index=None, Ordered=Insertion\n",
            "        Key  : Dimen : Domain : Size : Members\n",
            "        None :     1 :    Any :    2 : {1, 2}\n",
            "\n",
            "4 Var Declarations\n",
            "    xf : Size=1, Index=None\n",
            "        Key  : Lower : Value : Upper : Fixed : Stale : Domain\n",
            "        None :     0 :  None :   150 : False :  True :  Reals\n",
            "    xl : Size=1, Index=None\n",
            "        Key  : Lower : Value : Upper : Fixed : Stale : Domain\n",
            "        None :   150 :  None :   250 : False :  True :  Reals\n",
            "    yf : Size=1, Index=None\n",
            "        Key  : Lower : Value : Upper : Fixed : Stale : Domain\n",
            "        None :   -50 :  None :     0 : False :  True :  Reals\n",
            "    yl : Size=1, Index=None\n",
            "        Key  : Lower : Value : Upper : Fixed : Stale : Domain\n",
            "        None :   150 :  None :   250 : False :  True :  Reals\n",
            "\n",
            "1 Objective Declarations\n",
            "    obj : Size=1, Index=None, Active=True\n",
            "        Key  : Active : Sense    : Expression\n",
            "        None :   True : minimize : (xl - xf)**2 + (yl - yf)**2\n",
            "\n",
            "1 Constraint Declarations\n",
            "    constraints : Size=2, Index=constraints_index, Active=True\n",
            "        Key : Lower : Body                          : Upper  : Active\n",
            "          1 :  -Inf : (200 - xl)**2 + (200 - yl)**2 : 2500.0 :   True\n",
            "          2 :  -Inf :                     xf + 3*yf :    0.0 :   True\n",
            "\n",
            "7 Declarations: xf xl yf yl constraints_index constraints obj\n"
          ]
        }
      ]
    },
    {
      "cell_type": "code",
      "metadata": {
        "colab": {
          "base_uri": "https://localhost:8080/"
        },
        "id": "snEQhx-rVSRs",
        "outputId": "20407957-c587-4e2f-f298-1c45a652fc8f"
      },
      "source": [
        "opt_ipopt = SolverFactory('ipopt')\n",
        "result = opt_ipopt.solve(model)\n",
        "print(result)"
      ],
      "execution_count": 42,
      "outputs": [
        {
          "output_type": "stream",
          "name": "stdout",
          "text": [
            "\n",
            "Problem: \n",
            "- Lower bound: -inf\n",
            "  Upper bound: inf\n",
            "  Number of objectives: 1\n",
            "  Number of constraints: 2\n",
            "  Number of variables: 4\n",
            "  Sense: unknown\n",
            "Solver: \n",
            "- Status: ok\n",
            "  Message: Ipopt 3.13.2\\x3a Optimal Solution Found\n",
            "  Termination condition: optimal\n",
            "  Id: 0\n",
            "  Error rc: 0\n",
            "  Time: 0.028141021728515625\n",
            "Solution: \n",
            "- number of solutions: 0\n",
            "  number of solutions displayed: 0\n",
            "\n"
          ]
        }
      ]
    },
    {
      "cell_type": "markdown",
      "metadata": {
        "id": "mYYFxUkTVNpX"
      },
      "source": [
        "#Q-3"
      ]
    },
    {
      "cell_type": "code",
      "metadata": {
        "colab": {
          "base_uri": "https://localhost:8080/"
        },
        "id": "yLWcPr-gOKNt",
        "outputId": "dc392152-8f17-4ed5-c5d2-40fe2e797f63"
      },
      "source": [
        "print('Solver status:', result.solver.status)\n",
        "print('Solver termination condition:',result.solver.termination_condition)\n",
        "print('\\nObjective = ', model.obj())\n",
        "\n",
        "print('\\nDecision Variables')\n",
        "print('xf = ', model.xf.value)  \n",
        "print('xl = ', model.xl.value)\n",
        "print('yf = ', model.yf.value)  \n",
        "print('yl = ', model.yl.value)\n",
        "print('Pipeline distance: ', (model.obj())**0.5)\n",
        "print('The point inside farm is : (', model.xf.value,',',model.yf.value,')')\n",
        "print('The point inside lake is : (', model.xl.value,',',model.yl.value,')')"
      ],
      "execution_count": 43,
      "outputs": [
        {
          "output_type": "stream",
          "name": "stdout",
          "text": [
            "Solver status: ok\n",
            "Solver termination condition: optimal\n",
            "\n",
            "Objective =  41201.77861589313\n",
            "\n",
            "Decision Variables\n",
            "xf =  120.00000000068964\n",
            "xl =  184.18861161997165\n",
            "yf =  -39.99999999691607\n",
            "yl =  152.56583486036618\n",
            "Pipeline distance:  202.98221256034512\n",
            "The point inside farm is : ( 120.00000000068964 , -39.99999999691607 )\n",
            "The point inside lake is : ( 184.18861161997165 , 152.56583486036618 )\n"
          ]
        }
      ]
    },
    {
      "cell_type": "markdown",
      "metadata": {
        "id": "PqmU3AZnVdfr"
      },
      "source": [
        "#Q-4"
      ]
    },
    {
      "cell_type": "markdown",
      "metadata": {
        "id": "Hp_GB8zeJT8q"
      },
      "source": [
        "$Declaring \\;two\\; new\\; decesion \\;variables: \\\\\n",
        "x_j = The\\; x \\;coordinate \\;of\\; the \\;junction \\\\ \n",
        "y_j = The\\; y\\; coordinate\\; of \\;the\\; junction \\\\\n",
        "In\\; this\\; case,\\; the \\;objective \\;function\\; becomes: \\\\ \n",
        "{min} \\sqrt[2]{(x_f-x_j)^2 + (y_f-y_j)^2 } +\\sqrt[2]{(x_l-x_j)^2 + (y_l-y_j)^2 }+0.2\\sqrt[2]{(x_j-15)^2 + (y_j-20)^2 }\\\\\n",
        "\\text{The constraints are:} \\\\ \n",
        " (x_l-200)^2 +(y_l-200)^2 \\leq 2500 \\\\ \n",
        " (xf+3y_f)\\leq0 \\\\ \n",
        " 0\\leq x_f \\leq150 \\\\ \n",
        " -50 \\leq y_f \\leq 0  $"
      ]
    },
    {
      "cell_type": "markdown",
      "metadata": {
        "id": "zNmB7ZwjVezE"
      },
      "source": [
        "#Q-5"
      ]
    },
    {
      "cell_type": "code",
      "metadata": {
        "colab": {
          "base_uri": "https://localhost:8080/"
        },
        "id": "t4pQMT_3WeaN",
        "outputId": "14cbb316-4a81-46e2-df0c-daa4143fb023"
      },
      "source": [
        "model.obj.deactivate()\n",
        "\n",
        "model.xj =Var()\n",
        "model.yj = Var()\n",
        "\n",
        "model.obj_new = Objective(expr = ((model.xj-model.xf)**2 + (model.yj-model.yf)**2)**0.5+((model.xj-model.xl)**2+(model.yj-model.yl)**2)**0.5+(0.2*((model.xj-15)**2+(model.yj -20)**2)**0.5),sense=minimize)\n",
        "\n",
        "model.pprint()"
      ],
      "execution_count": 44,
      "outputs": [
        {
          "output_type": "stream",
          "name": "stdout",
          "text": [
            "1 Set Declarations\n",
            "    constraints_index : Size=1, Index=None, Ordered=Insertion\n",
            "        Key  : Dimen : Domain : Size : Members\n",
            "        None :     1 :    Any :    2 : {1, 2}\n",
            "\n",
            "6 Var Declarations\n",
            "    xf : Size=1, Index=None\n",
            "        Key  : Lower : Value              : Upper : Fixed : Stale : Domain\n",
            "        None :     0 : 120.00000000068964 :   150 : False : False :  Reals\n",
            "    xj : Size=1, Index=None\n",
            "        Key  : Lower : Value : Upper : Fixed : Stale : Domain\n",
            "        None :  None :  None :  None : False :  True :  Reals\n",
            "    xl : Size=1, Index=None\n",
            "        Key  : Lower : Value              : Upper : Fixed : Stale : Domain\n",
            "        None :   150 : 184.18861161997165 :   250 : False : False :  Reals\n",
            "    yf : Size=1, Index=None\n",
            "        Key  : Lower : Value              : Upper : Fixed : Stale : Domain\n",
            "        None :   -50 : -39.99999999691607 :     0 : False : False :  Reals\n",
            "    yj : Size=1, Index=None\n",
            "        Key  : Lower : Value : Upper : Fixed : Stale : Domain\n",
            "        None :  None :  None :  None : False :  True :  Reals\n",
            "    yl : Size=1, Index=None\n",
            "        Key  : Lower : Value              : Upper : Fixed : Stale : Domain\n",
            "        None :   150 : 152.56583486036618 :   250 : False : False :  Reals\n",
            "\n",
            "2 Objective Declarations\n",
            "    obj : Size=1, Index=None, Active=False\n",
            "        Key  : Active : Sense    : Expression\n",
            "        None :  False : minimize : (xl - xf)**2 + (yl - yf)**2\n",
            "    obj_new : Size=1, Index=None, Active=True\n",
            "        Key  : Active : Sense    : Expression\n",
            "        None :   True : minimize : ((xj - xf)**2 + (yj - yf)**2)**0.5 + ((xj - xl)**2 + (yj - yl)**2)**0.5 + 0.2*((xj - 15)**2 + (yj - 20)**2)**0.5\n",
            "\n",
            "1 Constraint Declarations\n",
            "    constraints : Size=2, Index=constraints_index, Active=True\n",
            "        Key : Lower : Body                          : Upper  : Active\n",
            "          1 :  -Inf : (200 - xl)**2 + (200 - yl)**2 : 2500.0 :   True\n",
            "          2 :  -Inf :                     xf + 3*yf :    0.0 :   True\n",
            "\n",
            "10 Declarations: xf xl yf yl constraints_index constraints obj xj yj obj_new\n"
          ]
        }
      ]
    },
    {
      "cell_type": "code",
      "metadata": {
        "colab": {
          "base_uri": "https://localhost:8080/"
        },
        "id": "La8yvrEDWeaO",
        "outputId": "debc260c-49ca-407e-bc63-c0b2d4a41ab6"
      },
      "source": [
        "result = opt_ipopt.solve(model)\n",
        "print(result)"
      ],
      "execution_count": 45,
      "outputs": [
        {
          "output_type": "stream",
          "name": "stdout",
          "text": [
            "\n",
            "Problem: \n",
            "- Lower bound: -inf\n",
            "  Upper bound: inf\n",
            "  Number of objectives: 1\n",
            "  Number of constraints: 2\n",
            "  Number of variables: 6\n",
            "  Sense: unknown\n",
            "Solver: \n",
            "- Status: ok\n",
            "  Message: Ipopt 3.13.2\\x3a Optimal Solution Found\n",
            "  Termination condition: optimal\n",
            "  Id: 0\n",
            "  Error rc: 0\n",
            "  Time: 0.12616491317749023\n",
            "Solution: \n",
            "- number of solutions: 0\n",
            "  number of solutions displayed: 0\n",
            "\n"
          ]
        }
      ]
    },
    {
      "cell_type": "markdown",
      "metadata": {
        "id": "pRfcYWMCWeaP"
      },
      "source": [
        "#Q-6"
      ]
    },
    {
      "cell_type": "code",
      "metadata": {
        "colab": {
          "base_uri": "https://localhost:8080/"
        },
        "id": "T0beO-0aWeaP",
        "outputId": "7178e18e-de14-40b0-acc8-40b7a7f7cefe"
      },
      "source": [
        "print('Solver status:', result.solver.status)\n",
        "print('Solver termination condition:',result.solver.termination_condition)\n",
        "print('\\nObjective = ', model.obj_new())\n",
        "\n",
        "print('\\nDecision Variables')\n",
        "print('xf = ', model.xf.value)  \n",
        "print('xl = ', model.xl.value)\n",
        "print('yf = ', model.yf.value)  \n",
        "print('yl = ', model.yl.value)\n",
        "print('xj = ', model.xj.value)  \n",
        "print('yj = ', model.yj.value)\n",
        "print('The point of junction is : (', model.xj.value,',',model.yj.value,')')\n",
        "print('Reporting the locations of the two ends:')\n",
        "print('The point inside farm is : (', model.xf.value,',',model.yf.value,')')\n",
        "print('The point inside lake is : (', model.xl.value,',',model.yl.value,')')"
      ],
      "execution_count": 46,
      "outputs": [
        {
          "output_type": "stream",
          "name": "stdout",
          "text": [
            "Solver status: ok\n",
            "Solver termination condition: optimal\n",
            "\n",
            "Objective =  221.99510904190353\n",
            "\n",
            "Decision Variables\n",
            "xf =  74.46804648076933\n",
            "xl =  175.0655597032054\n",
            "yf =  -24.82268215956456\n",
            "yl =  156.66094472839706\n",
            "xj =  79.72453250966831\n",
            "yj =  -9.053224072820475\n",
            "The point of junction is : ( 79.72453250966831 , -9.053224072820475 )\n",
            "Reporting the locations of the two ends:\n",
            "The point inside farm is : ( 74.46804648076933 , -24.82268215956456 )\n",
            "The point inside lake is : ( 175.0655597032054 , 156.66094472839706 )\n"
          ]
        }
      ]
    }
  ]
}