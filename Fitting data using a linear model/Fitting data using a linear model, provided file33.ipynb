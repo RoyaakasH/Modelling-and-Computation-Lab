{
  "cells": [
    {
      "cell_type": "markdown",
      "metadata": {
        "id": "W_d1Thz55FIx"
      },
      "source": [
        "$$Exercise: 3$$"
      ]
    },
    {
      "cell_type": "markdown",
      "metadata": {
        "id": "PcsARAn45IP2"
      },
      "source": [
        "$Q:1$"
      ]
    },
    {
      "cell_type": "markdown",
      "metadata": {
        "id": "HAmXRXwgfz5G"
      },
      "source": [
        "$The\\; company \\;feels \\;that\\; a\\;\n",
        "linear\\; model \\;of \\;the \\;form\\; P = b_0 +b_1L+b_2E \\;would\\; be\\; reasonably\\; accurate \\;and \\;easy\\; to \\;use.\\; Here,\\; b_1\\;and \\;b_2\\; indicate\\; how \\;the\\; price \\;varies \\;with \\;lot\\; size\\; and \\;elevation, \\;respectively, \\;while \\;b_0 \\;would\\;\n",
        "reflect \\;a\\; base\\; price\\; for\\; this \\;section \\;of\\; the\\; city. \\;Therefore, the\\; optimization\\; model\\; will\\; be \\;as \\;folllows:$ \\\\\n",
        "$$\\text{min} \\ \\  \\sum_{i=1}^{6} |P_i-\\tilde{P_i}| \\\\\n",
        "\\text{Subject to:  } \\\\\n",
        "\\tilde{P_i}=b_0+b_1L_i+b_2E_i \\ \\ \\forall i  \\\\\n",
        "b_0 \\geq 0$$ \\\\\n",
        "\n",
        "\\\\\n",
        "$No,\\; the\\; above \\;optimization \\;model\\; is\\; not \\;linear\\; since,\\; it\\; contains\\; the\\; modulus \\;function,\\; which \\;is\\; piecewise\\; but \\;not\\; linear.$"
      ]
    },
    {
      "cell_type": "markdown",
      "metadata": {
        "id": "R1mj0hAd5LGt"
      },
      "source": [
        "$Q:2$"
      ]
    },
    {
      "cell_type": "markdown",
      "metadata": {
        "id": "hvt9nwwMYNv_"
      },
      "source": [
        "$Since, \\;the\\; above \\;optimization \\;model\\; was \\;not \\;linear,\\; therefore \\;we \\;need \\;to \\;convert \\;it\\; to \\;an \\;equivalent \\;linear \\;problem,\\; so \\;that \\;we\\; can \\;solve \\;the \\;optimization\\; model.$ \\\\\n",
        "$$Using \\;Approach\\; 1:$$\n",
        "\n",
        "$Let,\\;u_i= |P_i-\\tilde{P_i}| \\;and \\;u_i \\geq0\\ \\ \\forall i=1 \\dots \\ 6 \\\\\n",
        "Hence,\\; the\\; optimization \\;problem \\;reduces \\;to- $ \\\\\n",
        "$$\\text{min} \\ \\  \\sum_{i=1}^{6} u_i \\\\\n",
        "\\text{Subject to:  } \\\\\n",
        "u_i \\geq P_i-\\tilde{P_i} \\ \\ \\forall i \\\\\n",
        "u_i \\geq \\tilde{P_i}-P_i \\ \\ \\forall i\\\\\n",
        "\\tilde{P_i}=b_0+b_1L_i+b_2E_i \\; \\forall i  \\\\\n",
        "b_0 \\geq 0 \\\\\n",
        "u_i \\geq0 \\forall i $$ \\\\\n",
        "\n",
        "$Which\\; can \\;be\\; re\\;written\\; as \\;follows:$ \\\\\n",
        "$$\\text{min} \\ \\  \\sum_{i=1}^{6} u_i \\\\\n",
        "\\text{Subject to: } \\\\\n",
        "u_i +b_0+b_1L_i+b_2E_i\\geq  P_i \\ \\ \\ \\ \\ \\forall i \\\\\n",
        "u_i -b_0-b_1L_i-b_2E_i \\geq - P_i \\ \\ \\forall i \\\\\n",
        "b_0 \\geq 0 \\\\\n",
        "u_i \\geq0 \\forall i \\\\\n",
        "$$\n"
      ]
    },
    {
      "cell_type": "markdown",
      "metadata": {
        "id": "CtwMO5nKDYb5"
      },
      "source": [
        "$Q:3- Done$"
      ]
    },
    {
      "cell_type": "markdown",
      "metadata": {
        "id": "1G4soRd1DcgE"
      },
      "source": [
        "$Q:4- Constructing\\; pyomo\\; models \\;for\\; the\\; respective \\;linear\\; programs\\; resulting \\;from\\; Approach\\; 1 \\;and\\; Approach\\; 2$"
      ]
    },
    {
      "cell_type": "code",
      "execution_count": null,
      "metadata": {
        "id": "BXFo-QBXXd9L"
      },
      "outputs": [],
      "source": [
        "!pip install -q pyomo "
      ]
    },
    {
      "cell_type": "code",
      "execution_count": null,
      "metadata": {
        "id": "QR-xPzmJpMdf"
      },
      "outputs": [],
      "source": [
        "from pyomo.environ import *"
      ]
    },
    {
      "cell_type": "code",
      "execution_count": null,
      "metadata": {
        "id": "fWGZOHGNpQK9"
      },
      "outputs": [],
      "source": [
        "import numpy as np"
      ]
    },
    {
      "cell_type": "code",
      "execution_count": null,
      "metadata": {
        "id": "oRhWH0SJpS-0"
      },
      "outputs": [],
      "source": [
        "import pandas as pd"
      ]
    },
    {
      "cell_type": "code",
      "execution_count": null,
      "metadata": {
        "id": "qnoMCNazpZDn"
      },
      "outputs": [],
      "source": [
        "data_csvfile = pd.read_csv('file33.csv')"
      ]
    },
    {
      "cell_type": "code",
      "execution_count": null,
      "metadata": {
        "id": "uFCyzWBVpyl6"
      },
      "outputs": [],
      "source": [
        "model_lab6_ex3 = ConcreteModel()"
      ]
    },
    {
      "cell_type": "code",
      "execution_count": null,
      "metadata": {
        "id": "0i6DequIqBtC"
      },
      "outputs": [],
      "source": [
        "N = len(data_csvfile.index)\n",
        "n = 3 \n",
        "M = 2 \n",
        "col_indices = np.arange(N)\n",
        "b_indices = np.arange(n)\n",
        "row_indices = np.arange(M)"
      ]
    },
    {
      "cell_type": "code",
      "execution_count": null,
      "metadata": {
        "id": "eAQ5PDsFqLbV"
      },
      "outputs": [],
      "source": [
        "model_lab6_ex3.u = Var(col_indices, domain=NonNegativeReals)\n",
        "model_lab6_ex3.b = Var(b_indices)"
      ]
    },
    {
      "cell_type": "code",
      "execution_count": null,
      "metadata": {
        "id": "N4N6JVwht3Cb"
      },
      "outputs": [],
      "source": [
        "model_lab6_ex3.objective = Objective(expr=summation(model_lab6_ex3.u),sense=minimize)"
      ]
    },
    {
      "cell_type": "code",
      "execution_count": null,
      "metadata": {
        "id": "pDwzVZxZqXtA"
      },
      "outputs": [],
      "source": [
        "model_lab6_ex3.constraints = ConstraintList()"
      ]
    },
    {
      "cell_type": "code",
      "execution_count": null,
      "metadata": {
        "id": "Ht2AUD5eu5q-"
      },
      "outputs": [],
      "source": [
        "for i in col_indices:\n",
        "  model_lab6_ex3.constraints.add(model_lab6_ex3.u[i]+model_lab6_ex3.b[0]+model_lab6_ex3.b[1]*data_csvfile['lot size'][i]+model_lab6_ex3.b[2]*data_csvfile['elevation'][i] >= data_csvfile['seling price'][i])"
      ]
    },
    {
      "cell_type": "code",
      "execution_count": null,
      "metadata": {
        "id": "Eqi3_dE2xe59"
      },
      "outputs": [],
      "source": [
        "for i in col_indices:\n",
        "  model_lab6_ex3.constraints.add(model_lab6_ex3.u[i]-model_lab6_ex3.b[0]-model_lab6_ex3.b[1]*data_csvfile['lot size'][i]-model_lab6_ex3.b[2]*data_csvfile['elevation'][i] >= -data_csvfile['seling price'][i])"
      ]
    },
    {
      "cell_type": "code",
      "execution_count": null,
      "metadata": {
        "id": "hZ9dQtH9yMCQ"
      },
      "outputs": [],
      "source": [
        "model_lab6_ex3.b[0].setlb(0)"
      ]
    },
    {
      "cell_type": "code",
      "execution_count": null,
      "metadata": {
        "colab": {
          "base_uri": "https://localhost:8080/"
        },
        "id": "p3Jh0h7Sy1R_",
        "outputId": "d2916d21-b29e-416f-b984-481d900cf8ce"
      },
      "outputs": [
        {
          "name": "stdout",
          "output_type": "stream",
          "text": [
            "3 Set Declarations\n",
            "    b_index : Size=1, Index=None, Ordered=False\n",
            "        Key  : Dimen : Domain : Size : Members\n",
            "        None :     1 :    Any :    3 : {0, 1, 2}\n",
            "    constraints_index : Size=1, Index=None, Ordered=Insertion\n",
            "        Key  : Dimen : Domain : Size : Members\n",
            "        None :     1 :    Any :   12 : {1, 2, 3, 4, 5, 6, 7, 8, 9, 10, 11, 12}\n",
            "    u_index : Size=1, Index=None, Ordered=False\n",
            "        Key  : Dimen : Domain : Size : Members\n",
            "        None :     1 :    Any :    6 : {0, 1, 2, 3, 4, 5}\n",
            "\n",
            "2 Var Declarations\n",
            "    b : Size=3, Index=b_index\n",
            "        Key : Lower : Value : Upper : Fixed : Stale : Domain\n",
            "          0 :     0 :  None :  None : False :  True :  Reals\n",
            "          1 :  None :  None :  None : False :  True :  Reals\n",
            "          2 :  None :  None :  None : False :  True :  Reals\n",
            "    u : Size=6, Index=u_index\n",
            "        Key : Lower : Value : Upper : Fixed : Stale : Domain\n",
            "          0 :     0 :  None :  None : False :  True : NonNegativeReals\n",
            "          1 :     0 :  None :  None : False :  True : NonNegativeReals\n",
            "          2 :     0 :  None :  None : False :  True : NonNegativeReals\n",
            "          3 :     0 :  None :  None : False :  True : NonNegativeReals\n",
            "          4 :     0 :  None :  None : False :  True : NonNegativeReals\n",
            "          5 :     0 :  None :  None : False :  True : NonNegativeReals\n",
            "\n",
            "1 Objective Declarations\n",
            "    objective : Size=1, Index=None, Active=True\n",
            "        Key  : Active : Sense    : Expression\n",
            "        None :   True : minimize : u[0] + u[1] + u[2] + u[3] + u[4] + u[5]\n",
            "\n",
            "1 Constraint Declarations\n",
            "    constraints : Size=12, Index=constraints_index, Active=True\n",
            "        Key : Lower     : Body                               : Upper : Active\n",
            "          1 :  175000.0 : u[0] + b[0] + 1800*b[1] + 250*b[2] :  +Inf :   True\n",
            "          2 :  150000.0 : u[1] + b[0] + 2800*b[1] + 400*b[2] :  +Inf :   True\n",
            "          3 :  125000.0 : u[2] + b[0] + 3500*b[1] + 450*b[2] :  +Inf :   True\n",
            "          4 :   90000.0 :  u[3] + b[0] + 800*b[1] + 100*b[2] :  +Inf :   True\n",
            "          5 :   80000.0 :  u[4] + b[0] + 700*b[1] + 200*b[2] :  +Inf :   True\n",
            "          6 :  120000.0 :   u[5] + b[0] + 500*b[1] + 50*b[2] :  +Inf :   True\n",
            "          7 : -175000.0 : u[0] - b[0] - 1800*b[1] - 250*b[2] :  +Inf :   True\n",
            "          8 : -150000.0 : u[1] - b[0] - 2800*b[1] - 400*b[2] :  +Inf :   True\n",
            "          9 : -125000.0 : u[2] - b[0] - 3500*b[1] - 450*b[2] :  +Inf :   True\n",
            "         10 :  -90000.0 :  u[3] - b[0] - 800*b[1] - 100*b[2] :  +Inf :   True\n",
            "         11 :  -80000.0 :  u[4] - b[0] - 700*b[1] - 200*b[2] :  +Inf :   True\n",
            "         12 : -120000.0 :   u[5] - b[0] - 500*b[1] - 50*b[2] :  +Inf :   True\n",
            "\n",
            "7 Declarations: u_index u b_index b objective constraints_index constraints\n"
          ]
        }
      ],
      "source": [
        "model_lab6_ex3.pprint()"
      ]
    },
    {
      "cell_type": "code",
      "execution_count": null,
      "metadata": {
        "id": "uZvWAwcfzSjN"
      },
      "outputs": [],
      "source": [
        "!apt-get install -y -qq coinor-cbc"
      ]
    },
    {
      "cell_type": "markdown",
      "metadata": {
        "id": "RZyKHwPkD0W3"
      },
      "source": [
        "$Q:5- Solving\\; the\\; respective\\; linear \\;programs\\; obtained\\; from\\; Approach\\; 1\\; and \\;Approach\\; 2\\; using\\;\n",
        "cbc\\; solver$"
      ]
    },
    {
      "cell_type": "code",
      "execution_count": null,
      "metadata": {
        "id": "0693-30bz70J"
      },
      "outputs": [],
      "source": [
        "opt_cbc = SolverFactory('cbc')"
      ]
    },
    {
      "cell_type": "markdown",
      "metadata": {
        "id": "Vk5khNZUEQ_x"
      },
      "source": [
        "$Reporting\\; the\\; solver \\;status, \\;solver \\;termination \\;conditions$"
      ]
    },
    {
      "cell_type": "code",
      "execution_count": null,
      "metadata": {
        "colab": {
          "base_uri": "https://localhost:8080/"
        },
        "id": "e_HEJqKHz90h",
        "outputId": "e4fbe94d-7c91-4e25-e062-74f8baa9fbe2"
      },
      "outputs": [
        {
          "name": "stdout",
          "output_type": "stream",
          "text": [
            "Solver status: ok\n",
            "Solver termination condition: optimal\n"
          ]
        }
      ],
      "source": [
        "result = opt_cbc.solve(model_lab6_ex3)\n",
        "print('Solver status:', result.solver.status)\n",
        "print('Solver termination condition:',result.solver.termination_condition)"
      ]
    },
    {
      "cell_type": "markdown",
      "metadata": {
        "id": "BSXbpYvEEH3y"
      },
      "source": [
        "$Reporting \\;optimal\\; solution\\; values \\;for\\;the\\; original\\; and \\;new\\; decision \\;variables,\\;and \\;the\\; optimal\\; sum \\;of\\; residuals$"
      ]
    },
    {
      "cell_type": "code",
      "execution_count": null,
      "metadata": {
        "colab": {
          "base_uri": "https://localhost:8080/"
        },
        "id": "UIeuXhFK0AN_",
        "outputId": "27bc4328-49be-4688-882c-d2e92064d6b8"
      },
      "outputs": [
        {
          "name": "stdout",
          "output_type": "stream",
          "text": [
            "\n",
            "Optimal sum of residuals =  125454.545\n",
            "\n",
            "New Decision Variables:\n",
            "u[ 1 ]= 38818.182\n",
            "u[ 2 ]= 0.0\n",
            "u[ 3 ]= 54272.727\n",
            "u[ 4 ]= 32363.636\n",
            "u[ 5 ]= 0.0\n",
            "u[ 6 ]= 0.0\n",
            "\n",
            "Original Decision Variables:\n",
            "b[ 0 ]= 104181.82\n",
            "b[ 1 ]= 67.272727\n",
            "b[ 2 ]= -356.36364\n",
            "P̃[ 0 ]= 136181.81860000006\n",
            "P̃[ 1 ]= 149999.9996\n",
            "P̃[ 2 ]= 179272.72650000005\n",
            "P̃[ 3 ]= 122363.63760000002\n",
            "P̃[ 4 ]= 80000.00090000003\n",
            "P̃[ 5 ]= 120000.00150000001\n",
            "\n",
            "Constraints:\n",
            "constraints : Size=12\n",
            "    Key : Lower     : Body                : Upper\n",
            "      1 :  175000.0 :  175000.00060000003 :  None\n",
            "      2 :  150000.0 :         149999.9996 :  None\n",
            "      3 :  125000.0 :  233545.45350000006 :  None\n",
            "      4 :   90000.0 :  154727.27360000001 :  None\n",
            "      5 :   80000.0 :   80000.00090000003 :  None\n",
            "      6 :  120000.0 :  120000.00150000001 :  None\n",
            "      7 : -175000.0 :  -97363.63660000001 :  None\n",
            "      8 : -150000.0 :        -149999.9996 :  None\n",
            "      9 : -125000.0 : -124999.99950000003 :  None\n",
            "     10 :  -90000.0 :  -90000.00160000002 :  None\n",
            "     11 :  -80000.0 :  -80000.00090000003 :  None\n",
            "     12 : -120000.0 : -120000.00150000001 :  None\n"
          ]
        }
      ],
      "source": [
        "print('\\nOptimal sum of residuals = ', model_lab6_ex3.objective())\n",
        "\n",
        "print('\\nNew Decision Variables:')\n",
        "for i in col_indices:\n",
        "  print('u[',i+1,']=', model_lab6_ex3.u[i].value)\n",
        "\n",
        "print('\\nOriginal Decision Variables:')\n",
        "for i in b_indices:\n",
        "  print('b[',i,']=', model_lab6_ex3.b[i].value)\n",
        "for i in col_indices:\n",
        "  print(u'P\\u0303[',i,']=', model_lab6_ex3.b[0].value+model_lab6_ex3.b[1].value*data_csvfile['lot size'][i] +model_lab6_ex3.b[2].value*data_csvfile['elevation'][i] )\n",
        "\n",
        "print('\\nConstraints:')\n",
        "model_lab6_ex3.constraints.display()"
      ]
    },
    {
      "cell_type": "markdown",
      "metadata": {
        "id": "m1wjJ5-13YHk"
      },
      "source": [
        "$$Using \\;Approach\\; 2:$$\n",
        "$Let \\ \\ P_i-\\tilde{P_i}=a_i-c_i, \\ \\ and \\ \\ |P_i-\\tilde{P_i}|=a_i+c_i ,a_i \\geq 0, c_i \\geq 0 \\ \\ \\ \\forall i=1,2,...6 \\\\\n",
        "Therefore, \\;the \\; optimization \\; problem  \\;will\\; be\\; as \\;follows: $\\\\\n",
        "$$\\text{Min  } \\sum_{i=1}^{6} (a_i+c_i) \\\\\n",
        "\\text{s.t.} \\\\\n",
        "a_i-c_i+b_0+b_1L_i+b_2E_i=P_i \\ \\ \\forall i \\\\\n",
        "u_i \\geq 0, v_i \\geq 0 \\ \\ \\forall i\\\\\n",
        "$$"
      ]
    },
    {
      "cell_type": "code",
      "execution_count": null,
      "metadata": {
        "id": "Y8wV0Hyu1GRu"
      },
      "outputs": [],
      "source": [
        "model2_lab6_ex3 = ConcreteModel()"
      ]
    },
    {
      "cell_type": "code",
      "execution_count": null,
      "metadata": {
        "id": "o2714Q4N_lVL"
      },
      "outputs": [],
      "source": [
        "#declaring the decision variables in the model\n",
        "model2_lab6_ex3.a = Var(col_indices)\n",
        "model2_lab6_ex3.c = Var(col_indices)\n",
        "\n",
        "model2_lab6_ex3.b = Var(b_indices)"
      ]
    },
    {
      "cell_type": "code",
      "execution_count": null,
      "metadata": {
        "id": "uzTJWkjI_505"
      },
      "outputs": [],
      "source": [
        "#objection function\n",
        "model2_lab6_ex3.objective = Objective(expr=summation(model2_lab6_ex3.a)+summation(model2_lab6_ex3.c),sense=minimize)"
      ]
    },
    {
      "cell_type": "code",
      "execution_count": null,
      "metadata": {
        "id": "nGheAdbZAJmI"
      },
      "outputs": [],
      "source": [
        "model2_lab6_ex3.constraints = ConstraintList()"
      ]
    },
    {
      "cell_type": "code",
      "execution_count": null,
      "metadata": {
        "id": "s0xbK_KAAMNd"
      },
      "outputs": [],
      "source": [
        "for i in col_indices:\n",
        "  model2_lab6_ex3.constraints.add(model2_lab6_ex3.a[i]-model2_lab6_ex3.c[i]+model2_lab6_ex3.b[0]+model2_lab6_ex3.b[1]*data_csvfile['lot size'][i]+model2_lab6_ex3.b[2]*data_csvfile['elevation'][i] == data_csvfile['seling price'][i])"
      ]
    },
    {
      "cell_type": "code",
      "execution_count": null,
      "metadata": {
        "id": "de52lcpEBp5w"
      },
      "outputs": [],
      "source": [
        "for i in col_indices:\n",
        "  model2_lab6_ex3.a[i].setlb(0)\n",
        "  model2_lab6_ex3.c[i].setlb(0)"
      ]
    },
    {
      "cell_type": "code",
      "execution_count": null,
      "metadata": {
        "colab": {
          "base_uri": "https://localhost:8080/"
        },
        "id": "9AywUKDMB27m",
        "outputId": "c7030189-a1bb-40ae-c2aa-868e65483991"
      },
      "outputs": [
        {
          "name": "stdout",
          "output_type": "stream",
          "text": [
            "4 Set Declarations\n",
            "    a_index : Size=1, Index=None, Ordered=False\n",
            "        Key  : Dimen : Domain : Size : Members\n",
            "        None :     1 :    Any :    6 : {0, 1, 2, 3, 4, 5}\n",
            "    b_index : Size=1, Index=None, Ordered=False\n",
            "        Key  : Dimen : Domain : Size : Members\n",
            "        None :     1 :    Any :    3 : {0, 1, 2}\n",
            "    c_index : Size=1, Index=None, Ordered=False\n",
            "        Key  : Dimen : Domain : Size : Members\n",
            "        None :     1 :    Any :    6 : {0, 1, 2, 3, 4, 5}\n",
            "    constraints_index : Size=1, Index=None, Ordered=Insertion\n",
            "        Key  : Dimen : Domain : Size : Members\n",
            "        None :     1 :    Any :    6 : {1, 2, 3, 4, 5, 6}\n",
            "\n",
            "3 Var Declarations\n",
            "    a : Size=6, Index=a_index\n",
            "        Key : Lower : Value : Upper : Fixed : Stale : Domain\n",
            "          0 :     0 :  None :  None : False :  True :  Reals\n",
            "          1 :     0 :  None :  None : False :  True :  Reals\n",
            "          2 :     0 :  None :  None : False :  True :  Reals\n",
            "          3 :     0 :  None :  None : False :  True :  Reals\n",
            "          4 :     0 :  None :  None : False :  True :  Reals\n",
            "          5 :     0 :  None :  None : False :  True :  Reals\n",
            "    b : Size=3, Index=b_index\n",
            "        Key : Lower : Value : Upper : Fixed : Stale : Domain\n",
            "          0 :  None :  None :  None : False :  True :  Reals\n",
            "          1 :  None :  None :  None : False :  True :  Reals\n",
            "          2 :  None :  None :  None : False :  True :  Reals\n",
            "    c : Size=6, Index=c_index\n",
            "        Key : Lower : Value : Upper : Fixed : Stale : Domain\n",
            "          0 :     0 :  None :  None : False :  True :  Reals\n",
            "          1 :     0 :  None :  None : False :  True :  Reals\n",
            "          2 :     0 :  None :  None : False :  True :  Reals\n",
            "          3 :     0 :  None :  None : False :  True :  Reals\n",
            "          4 :     0 :  None :  None : False :  True :  Reals\n",
            "          5 :     0 :  None :  None : False :  True :  Reals\n",
            "\n",
            "1 Objective Declarations\n",
            "    objective : Size=1, Index=None, Active=True\n",
            "        Key  : Active : Sense    : Expression\n",
            "        None :   True : minimize : a[0] + a[1] + a[2] + a[3] + a[4] + a[5] + (c[0] + c[1] + c[2] + c[3] + c[4] + c[5])\n",
            "\n",
            "1 Constraint Declarations\n",
            "    constraints : Size=6, Index=constraints_index, Active=True\n",
            "        Key : Lower    : Body                                      : Upper    : Active\n",
            "          1 : 175000.0 : a[0] - c[0] + b[0] + 1800*b[1] + 250*b[2] : 175000.0 :   True\n",
            "          2 : 150000.0 : a[1] - c[1] + b[0] + 2800*b[1] + 400*b[2] : 150000.0 :   True\n",
            "          3 : 125000.0 : a[2] - c[2] + b[0] + 3500*b[1] + 450*b[2] : 125000.0 :   True\n",
            "          4 :  90000.0 :  a[3] - c[3] + b[0] + 800*b[1] + 100*b[2] :  90000.0 :   True\n",
            "          5 :  80000.0 :  a[4] - c[4] + b[0] + 700*b[1] + 200*b[2] :  80000.0 :   True\n",
            "          6 : 120000.0 :   a[5] - c[5] + b[0] + 500*b[1] + 50*b[2] : 120000.0 :   True\n",
            "\n",
            "9 Declarations: a_index a c_index c b_index b objective constraints_index constraints\n"
          ]
        }
      ],
      "source": [
        "model2_lab6_ex3.pprint()"
      ]
    },
    {
      "cell_type": "markdown",
      "metadata": {
        "id": "NSWfa6y8Ewc2"
      },
      "source": [
        "$Reporting\\; the\\; solver \\;status, \\;solver \\;termination \\;conditions$"
      ]
    },
    {
      "cell_type": "code",
      "execution_count": null,
      "metadata": {
        "colab": {
          "base_uri": "https://localhost:8080/"
        },
        "id": "okK5NeZAB7gR",
        "outputId": "73286be8-6a29-4b60-e12c-9e0a51ad8f44"
      },
      "outputs": [
        {
          "name": "stdout",
          "output_type": "stream",
          "text": [
            "Solver status: ok\n",
            "Solver termination condition: optimal\n"
          ]
        }
      ],
      "source": [
        "result2 = opt_cbc.solve(model2_lab6_ex3)\n",
        "print('Solver status:', result2.solver.status)\n",
        "print('Solver termination condition:',result2.solver.termination_condition)"
      ]
    },
    {
      "cell_type": "markdown",
      "metadata": {
        "id": "t9VwgOHWE04T"
      },
      "source": [
        "$Reporting \\;optimal\\; solution\\; values \\;for\\;the\\; original\\; and \\;new\\; decision \\;variables,\\;and \\;the\\; optimal\\; sum \\;of\\; residuals$"
      ]
    },
    {
      "cell_type": "code",
      "execution_count": null,
      "metadata": {
        "colab": {
          "base_uri": "https://localhost:8080/"
        },
        "id": "FeERsPyWCHv-",
        "outputId": "359736d6-f74e-48f6-c674-af30c9700373"
      },
      "outputs": [
        {
          "name": "stdout",
          "output_type": "stream",
          "text": [
            "\n",
            "Optimal sum of residuals =  125454.545\n",
            "\n",
            "New Decision Variables:\n",
            "a[ 1 ]= 38818.182\n",
            "a[ 2 ]= 0.0\n",
            "a[ 3 ]= 0.0\n",
            "a[ 4 ]= 0.0\n",
            "a[ 5 ]= 0.0\n",
            "a[ 6 ]= 0.0\n",
            "c[ 1 ]= 0.0\n",
            "c[ 2 ]= 0.0\n",
            "c[ 3 ]= 54272.727\n",
            "c[ 4 ]= 32363.636\n",
            "c[ 5 ]= 0.0\n",
            "c[ 6 ]= 0.0\n",
            "\n",
            "Original Decision Variables:\n",
            "b[ 0 ]= 104181.82\n",
            "b[ 1 ]= 67.272727\n",
            "b[ 2 ]= -356.36364\n",
            "P̃[ 0 ]= 136181.81860000006\n",
            "P̃[ 1 ]= 149999.9996\n",
            "P̃[ 2 ]= 179272.72650000005\n",
            "P̃[ 3 ]= 122363.63760000002\n",
            "P̃[ 4 ]= 80000.00090000003\n",
            "P̃[ 5 ]= 120000.00150000001\n",
            "\n",
            "Constraints:\n",
            "constraints : Size=6\n",
            "    Key : Lower    : Body               : Upper\n",
            "      1 : 175000.0 : 175000.00060000003 : 175000.0\n",
            "      2 : 150000.0 :        149999.9996 : 150000.0\n",
            "      3 : 125000.0 : 124999.99950000003 : 125000.0\n",
            "      4 :  90000.0 :  90000.00160000002 :  90000.0\n",
            "      5 :  80000.0 :  80000.00090000003 :  80000.0\n",
            "      6 : 120000.0 : 120000.00150000001 : 120000.0\n"
          ]
        }
      ],
      "source": [
        "print('\\nOptimal sum of residuals = ', model2_lab6_ex3.objective())\n",
        "\n",
        "print('\\nNew Decision Variables:')\n",
        "for i in col_indices:\n",
        "  print('a[',i+1,']=', model2_lab6_ex3.a[i].value)\n",
        "for i in col_indices:\n",
        "  print('c[',i+1,']=', model2_lab6_ex3.c[i].value)\n",
        "\n",
        "print('\\nOriginal Decision Variables:')\n",
        "for i in b_indices:\n",
        "  print('b[',i,']=', model2_lab6_ex3.b[i].value)\n",
        "for i in col_indices:\n",
        "  print(u'P\\u0303[',i,']=', model_lab6_ex3.b[0].value+model_lab6_ex3.b[1].value*data_csvfile['lot size'][i] +model_lab6_ex3.b[2].value*data_csvfile['elevation'][i] )\n",
        "\n",
        "print('\\nConstraints:')\n",
        "model2_lab6_ex3.constraints.display()"
      ]
    },
    {
      "cell_type": "markdown",
      "metadata": {
        "id": "kgh06tdNNmLX"
      },
      "source": [
        "$Observation:\\; We\\; got\\; the \\;same \\;optimal\\; solution\\; and\\; decision \\;variables\\; values\\; in \\;both \\;the \\;approaches.$"
      ]
    }
  ],
  "metadata": {
    "colab": {
      "collapsed_sections": [],
      "name": "21i190007_IE507_Lab6_Ex3.ipynb",
      "provenance": []
    },
    "kernelspec": {
      "display_name": "Python 3",
      "name": "python3"
    },
    "language_info": {
      "name": "python"
    }
  },
  "nbformat": 4,
  "nbformat_minor": 0
}
