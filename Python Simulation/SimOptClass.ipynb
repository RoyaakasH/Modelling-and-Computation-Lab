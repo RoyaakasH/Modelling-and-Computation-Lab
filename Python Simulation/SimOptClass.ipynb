{
  "nbformat": 4,
  "nbformat_minor": 0,
  "metadata": {
    "colab": {
      "name": "21i190007_SimOptClass.ipynb",
      "provenance": [],
      "collapsed_sections": []
    },
    "kernelspec": {
      "name": "python3",
      "display_name": "Python 3"
    },
    "language_info": {
      "name": "python"
    }
  },
  "cells": [
    {
      "cell_type": "code",
      "metadata": {
        "id": "9mEq66v4PziL"
      },
      "source": [
        "import matplotlib.pyplot as plt\n",
        "import numpy as np\n",
        "import numpy.random as rnd"
      ],
      "execution_count": 16,
      "outputs": []
    },
    {
      "cell_type": "code",
      "metadata": {
        "id": "xuQDD_oiQDC0"
      },
      "source": [
        "#2-D Rosenbrock function\n",
        "def Rosenbrock(x1, x2):\n",
        "  return ((1-x1)**2 + 100*(x2 -x1**2)**2)"
      ],
      "execution_count": 17,
      "outputs": []
    },
    {
      "cell_type": "code",
      "metadata": {
        "colab": {
          "base_uri": "https://localhost:8080/"
        },
        "id": "bS6qfA6jQLQL",
        "outputId": "260819a9-a582-415d-db23-339d977fa701"
      },
      "source": [
        "N = 100000 ## no of random points\n",
        "D = 2 ##Dimension \n",
        "lb = -4 ## lower bound\n",
        "ub = 4  ## upper bound\n",
        "\n",
        "X1=[]\n",
        "X2=[]\n",
        "Y=[]\n",
        "\n",
        "#randomly generate N points\n",
        "X1 = np.random.uniform(lb, ub, N)\n",
        "X2 = np.random.uniform(lb, ub, N)\n",
        "\n",
        "#Evaluate the function\n",
        "for i in range(N):\n",
        "    Y.append(Rosenbrock(X1[i], X2[i])) \n",
        "    \n",
        "#display Results\n",
        "print('\\n Monte Carlo Simulation Optimisation\\n')\n",
        "print( 'Best decision variable : ', X1[np.argmin(Y)], X2[np.argmin(Y)])\n",
        "print('Best objective    : ', min(Y))\n",
        "\n",
        "X_optimum = [1,1] #Known from theory\n",
        "print(\"Known Optimal decision variables:\",X_optimum)\n",
        "print(\"Known Optimal objective =\",Rosenbrock(X_optimum[0], X_optimum[1]))"
      ],
      "execution_count": 18,
      "outputs": [
        {
          "output_type": "stream",
          "name": "stdout",
          "text": [
            "\n",
            " Monte Carlo Simulation Optimisation\n",
            "\n",
            "Best decision variable :  1.0193590178368073 1.0401981346874543\n",
            "Best objective    :  0.0004969464470613567\n",
            "Known Optimal decision variables: [1, 1]\n",
            "Known Optimal objective = 0\n"
          ]
        }
      ]
    },
    {
      "cell_type": "markdown",
      "metadata": {
        "id": "cnTVEuMvRZEf"
      },
      "source": [
        "'Optimise' above model for different values of N.  Observe how just randomly searching the soultion space yields pretty good results!"
      ]
    },
    {
      "cell_type": "markdown",
      "metadata": {
        "id": "42bS-uuXQiTP"
      },
      "source": [
        "##To Do\n",
        "\n",
        "You can find some single objective unconstrained test functions at [Wiki page](https://en.wikipedia.org/wiki/Test_functions_for_optimization)\n",
        "\n",
        "1. Through simulation, find the optimum solution of any one of the function: Beale or Goldstein-Price or Booth\n",
        "\n",
        "2. 'Optimise' either Himmelblau's function OR Cross-in-Tray function. These functions have 4 alternate solutions.  Do 20 sets of 'simulation-optimisation' runs, with N ~= 200000. Compute the number of times we are close to a particular known solution."
      ]
    },
    {
      "cell_type": "markdown",
      "metadata": {
        "id": "-szzuQWl8doy"
      },
      "source": [
        "#Q-1"
      ]
    },
    {
      "cell_type": "code",
      "metadata": {
        "colab": {
          "base_uri": "https://localhost:8080/"
        },
        "id": "D7OqW1u8KQsR",
        "outputId": "0c5bd59e-dcc2-47f1-b87d-227939cbaa7e"
      },
      "source": [
        "# Goldstein function:\n",
        "def Goldstein(x1, x2):\n",
        "  z= (1 + (19 - 14*x1 + 3*x1**2 - 14*x2 + 6*x1*x2 + 3*x2**2)*((x1+x2+1)**2))*(30 + (18 - 32*x1 + 12*x1**2 + 48*x2 - 36*x1*x2 + 27*x2**2)*((2*x1 - 3*x2)**2))\n",
        "  return z\n",
        "\n",
        "N = 200000 ## no of random points\n",
        "D = 2 ## dimension\n",
        "lb = -2 ## lower bound\n",
        "ub = 2 ## upper bound\n",
        "\n",
        "X1=[rnd.uniform(lb,ub) for i in range(N)]\n",
        "X2=[rnd.uniform(lb,ub) for i in range(N)]\n",
        "Y=[Goldstein(X1[i],X2[i]) for i in range(N)]\n",
        "\n",
        "#display results\n",
        "print('Monte Carlo Simulation Optimization: ')\n",
        "print('Best Decision Variables: ', X1[np.argmin(Y)],X2[np.argmin(Y)])\n",
        "print('The best objective: ', min(Y))\n",
        "\n",
        "X_optimum = [0,-1]   #known from theory\n",
        "print('Optimal decision variables:', X_optimum)\n",
        "print('Optimal objective value: ', Goldstein(X_optimum[0],X_optimum[1]))"
      ],
      "execution_count": 19,
      "outputs": [
        {
          "output_type": "stream",
          "name": "stdout",
          "text": [
            "Monte Carlo Simulation Optimization: \n",
            "Best Decision Variables:  0.004731793518981675 -1.000299942884347\n",
            "The best objective:  3.0060074930815226\n",
            "Optimal decision variables: [0, -1]\n",
            "Optimal objective value:  3\n"
          ]
        }
      ]
    },
    {
      "cell_type": "markdown",
      "metadata": {
        "id": "jNE0Bvd88i4d"
      },
      "source": [
        "#Q-2"
      ]
    },
    {
      "cell_type": "code",
      "metadata": {
        "colab": {
          "base_uri": "https://localhost:8080/"
        },
        "id": "EI1aGKjORT5f",
        "outputId": "39eb31a5-4bd4-4ab0-d37c-f62b8a6247c9"
      },
      "source": [
        "# Himmelblau's function\n",
        "def Himmelblau(x1, x2):\n",
        "  return (x1**2 + x2 - 11)**2 + (x1 + x2**2 - 7)**2\n",
        "\n",
        "R = 20 #replication number\n",
        "N = 200000  ## no of random points\n",
        "D = 2 ##dimension\n",
        "lb = -5 ## lower bound+\n",
        "ub = 5 ## upper bound\n",
        "Dec_Var = []\n",
        "obj = []\n",
        "for k in range(R):\n",
        "\n",
        "      X1 = [rnd.uniform(lb,ub) for i in range(N)]\n",
        "      X2 = [rnd.uniform(lb,ub) for i in range(N)]\n",
        "      Y = [Himmelblau(X1[i],X2[i]) for i in range(N)]\n",
        "\n",
        "      #display the results:\n",
        "      Dec_Var.append([round(X1[np.argmin(Y)],3),round(X2[np.argmin(Y)],3)])\n",
        "      obj.append(min(Y))\n",
        "for k in range(R):\n",
        "  print(k+1,': Decision Variable: ',Dec_Var[k],'|| Objective Value: ',round(obj[k],4),)   \n",
        "print()\n",
        "#known solutions are:\n",
        "soln = [[3.0,2.0],[-2.805118,3.131312],[-3.77931,-3.28318],[3.584428,-1.848126]]\n",
        "eps = 0.05  \n",
        "count = [0 for i in range(4)]\n",
        "# counting the number of solutions close to each of the known solutions\n",
        "for k in range(R):\n",
        "  for i in range(4):\n",
        "    if Dec_Var[k][0] >= soln[i][0] - eps and Dec_Var[k][0] <= soln[i][0] + eps and Dec_Var[k][1] >= soln[i][1] - eps and Dec_Var[k][1] <= soln[i][1] + eps :\n",
        "      count[i] = count[i] + 1\n",
        "for i in range(4):\n",
        "  print('Number of Solutions close to ',soln[i],' is: ', count[i])\n",
        "print('\\nOut of',R,' solutions found, ', sum(count), 'were found close to the particular known solutions')\n",
        "\n"
      ],
      "execution_count": 20,
      "outputs": [
        {
          "output_type": "stream",
          "name": "stdout",
          "text": [
            "1 : Decision Variable:  [3.585, -1.847] || Objective Value:  0.0001\n",
            "2 : Decision Variable:  [2.997, 2.005] || Objective Value:  0.0005\n",
            "3 : Decision Variable:  [3.0, 1.997] || Objective Value:  0.0002\n",
            "4 : Decision Variable:  [3.006, 1.997] || Objective Value:  0.001\n",
            "5 : Decision Variable:  [-2.801, 3.128] || Objective Value:  0.001\n",
            "6 : Decision Variable:  [-3.78, -3.285] || Objective Value:  0.0001\n",
            "7 : Decision Variable:  [-3.786, -3.29] || Objective Value:  0.0031\n",
            "8 : Decision Variable:  [-2.804, 3.124] || Objective Value:  0.0019\n",
            "9 : Decision Variable:  [-2.806, 3.128] || Objective Value:  0.0004\n",
            "10 : Decision Variable:  [3.001, 2.0] || Objective Value:  0.0\n",
            "11 : Decision Variable:  [2.999, 2.007] || Objective Value:  0.0008\n",
            "12 : Decision Variable:  [3.58, -1.84] || Objective Value:  0.0017\n",
            "13 : Decision Variable:  [3.005, 2.002] || Objective Value:  0.0011\n",
            "14 : Decision Variable:  [-3.779, -3.284] || Objective Value:  0.0\n",
            "15 : Decision Variable:  [3.585, -1.852] || Objective Value:  0.0003\n",
            "16 : Decision Variable:  [3.581, -1.851] || Objective Value:  0.0007\n",
            "17 : Decision Variable:  [3.003, 1.998] || Objective Value:  0.0004\n",
            "18 : Decision Variable:  [2.998, 2.003] || Objective Value:  0.0002\n",
            "19 : Decision Variable:  [-3.781, -3.278] || Objective Value:  0.0015\n",
            "20 : Decision Variable:  [2.993, 2.004] || Objective Value:  0.0016\n",
            "\n",
            "Number of Solutions close to  [3.0, 2.0]  is:  9\n",
            "Number of Solutions close to  [-2.805118, 3.131312]  is:  3\n",
            "Number of Solutions close to  [-3.77931, -3.28318]  is:  4\n",
            "Number of Solutions close to  [3.584428, -1.848126]  is:  4\n",
            "\n",
            "Out of 20  solutions found,  20 were found close to the particular known solutions\n"
          ]
        }
      ]
    }
  ]
}