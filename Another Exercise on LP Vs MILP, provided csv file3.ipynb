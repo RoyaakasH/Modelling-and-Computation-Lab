{
  "cells": [
    {
      "cell_type": "markdown",
      "metadata": {
        "id": "W9OHVsLHqpRJ"
      },
      "source": [
        "$$Exercise: 3$$"
      ]
    },
    {
      "cell_type": "code",
      "execution_count": 1,
      "metadata": {
        "colab": {
          "base_uri": "https://localhost:8080/"
        },
        "id": "6eYyoFf5uhzZ",
        "outputId": "2500c9eb-9ede-4f9f-a4ed-c91c458d8c99"
      },
      "outputs": [
        {
          "name": "stdout",
          "output_type": "stream",
          "text": [
            "\u001b[K     |████████████████████████████████| 9.1 MB 6.0 MB/s \n",
            "\u001b[K     |████████████████████████████████| 49 kB 8.0 MB/s \n",
            "\u001b[?25h"
          ]
        }
      ],
      "source": [
        "!pip install -q pyomo"
      ]
    },
    {
      "cell_type": "markdown",
      "metadata": {
        "id": "jGIO7jRk4Qpr"
      },
      "source": [
        "$$Q-4$$\n",
        "$Let\\; x_i's\\; be\\; the\\; number \\;of\\; drones\\; of\\; model \\;i,\\; where\\; i\\; \\in \\{1,2,3,4,5\\} \\; and \\;x_1\\; is \\;for\\; number\\; of\\; drones\\; of\\; MANAS,\\; x_2\\; is\\; for\\; JAY,\\; x_3\\; is\\; for\\; VEER, \\;x_4 is\\; for\\; SPASHT\\; and\\; x_5 \\;is\\; for\\; DHAKSH.\\; Now, \\;as\\; we \\;want\\; to \\;maximize\\; total\\; carrying \\;capacity.\\; Hence,\\; the\\; Optimization\\; model\\; will\\; be\\; as\\; follows:$ \\\\\n",
        "$Maximize \\ \\  12x_1+14x_2+10x_3+15x_4+14x_5\\\\\n",
        "\\text{s.t.} \\ \\ \\ \\ \\ \\ \\ \\ \\ \\ \\ 6x_1+7.5x_2+9.5x_3+10x_4+12.5x_5 \\leq 59 \\\\\n",
        "\\ \\ \\ \\ \\ \\ 4.25x_1+3.25x_2+2.5x_3+3.45x_4+2.25x_5 \\leq 73 \\\\\n",
        "\\ \\ \\ \\ \\ \\ and\\ x_i's\\ will\\ be\\ non\\ negative\\ integers$"
      ]
    },
    {
      "cell_type": "code",
      "execution_count": 2,
      "metadata": {
        "id": "jpEvBO-HuycU"
      },
      "outputs": [],
      "source": [
        "from pyomo.environ import * "
      ]
    },
    {
      "cell_type": "code",
      "execution_count": 3,
      "metadata": {
        "id": "CI9kKB6Yu7Qp"
      },
      "outputs": [],
      "source": [
        "import numpy as np"
      ]
    },
    {
      "cell_type": "code",
      "execution_count": 4,
      "metadata": {
        "id": "rw9g0OHUu9Zs"
      },
      "outputs": [],
      "source": [
        "import pandas as pd"
      ]
    },
    {
      "cell_type": "code",
      "execution_count": 5,
      "metadata": {
        "id": "YaQaDA85vAhh"
      },
      "outputs": [],
      "source": [
        "data_csvfile = pd.read_csv('file3.csv')"
      ]
    },
    {
      "cell_type": "code",
      "execution_count": 6,
      "metadata": {
        "colab": {
          "base_uri": "https://localhost:8080/"
        },
        "id": "aO871nCTvGnY",
        "outputId": "6e1887d9-c122-4620-8c70-45aa61ccf4fd"
      },
      "outputs": [
        {
          "data": {
            "text/plain": [
              "Index(['Drone Model', 'Carrying Capacity', 'Cost', 'Parking space'], dtype='object')"
            ]
          },
          "execution_count": 6,
          "metadata": {},
          "output_type": "execute_result"
        }
      ],
      "source": [
        "data_csvfile.columns"
      ]
    },
    {
      "cell_type": "code",
      "execution_count": 7,
      "metadata": {
        "colab": {
          "base_uri": "https://localhost:8080/"
        },
        "id": "NKs8ptR6vKVq",
        "outputId": "942845d4-c56f-4982-d2f5-9a2a55139eca"
      },
      "outputs": [
        {
          "data": {
            "text/plain": [
              "0     MANAS\n",
              "1       JAY\n",
              "2      VEER\n",
              "3    SPASHT\n",
              "4    DHAKSH\n",
              "Name: Drone Model, dtype: object"
            ]
          },
          "execution_count": 7,
          "metadata": {},
          "output_type": "execute_result"
        }
      ],
      "source": [
        "data_csvfile['Drone Model']"
      ]
    },
    {
      "cell_type": "code",
      "execution_count": 8,
      "metadata": {
        "colab": {
          "base_uri": "https://localhost:8080/"
        },
        "id": "UX1iN_sKvqGQ",
        "outputId": "f54fb9be-3ac3-42cd-e3e2-775ac9a1ead2"
      },
      "outputs": [
        {
          "data": {
            "text/plain": [
              "RangeIndex(start=0, stop=5, step=1)"
            ]
          },
          "execution_count": 8,
          "metadata": {},
          "output_type": "execute_result"
        }
      ],
      "source": [
        "data_csvfile.index"
      ]
    },
    {
      "cell_type": "code",
      "execution_count": 9,
      "metadata": {
        "colab": {
          "base_uri": "https://localhost:8080/"
        },
        "id": "nNxXeqFhv8Mq",
        "outputId": "4706398b-2186-4786-acb0-366c28ea8b1f"
      },
      "outputs": [
        {
          "data": {
            "text/plain": [
              "5"
            ]
          },
          "execution_count": 9,
          "metadata": {},
          "output_type": "execute_result"
        }
      ],
      "source": [
        "len(data_csvfile.index)"
      ]
    },
    {
      "cell_type": "markdown",
      "metadata": {
        "id": "GZtUTnwnrvil"
      },
      "source": [
        "$$Q-5$$"
      ]
    },
    {
      "cell_type": "code",
      "execution_count": 10,
      "metadata": {
        "id": "FWj9Y3uwv9Iw"
      },
      "outputs": [],
      "source": [
        "# create a model\n",
        "model1_lab4_ex3 = ConcreteModel()"
      ]
    },
    {
      "cell_type": "code",
      "execution_count": 11,
      "metadata": {
        "id": "ESoMNIiNwDSw"
      },
      "outputs": [],
      "source": [
        "# here N denotes no. of variables\n",
        "N = len(data_csvfile.index) "
      ]
    },
    {
      "cell_type": "code",
      "execution_count": 12,
      "metadata": {
        "id": "qhwobtirwYjc"
      },
      "outputs": [],
      "source": [
        "M = 2 #no of constraints"
      ]
    },
    {
      "cell_type": "code",
      "execution_count": 13,
      "metadata": {
        "id": "XL_enMYjwhpS"
      },
      "outputs": [],
      "source": [
        "col_indices = range(N)"
      ]
    },
    {
      "cell_type": "code",
      "execution_count": 14,
      "metadata": {
        "id": "U7-yDfVIwn2m"
      },
      "outputs": [],
      "source": [
        "#declaring the decision variables in the model\n",
        "model1_lab4_ex3.x = Var(col_indices,domain=NonNegativeIntegers)"
      ]
    },
    {
      "cell_type": "code",
      "execution_count": 15,
      "metadata": {
        "id": "VbuulU7Mw877"
      },
      "outputs": [],
      "source": [
        "#objection function\n",
        "model1_lab4_ex3.objective = Objective(expr=summation(data_csvfile['Carrying Capacity'], model1_lab4_ex3.x),sense=maximize)"
      ]
    },
    {
      "cell_type": "code",
      "execution_count": 16,
      "metadata": {
        "id": "J82lROAyxSeC"
      },
      "outputs": [],
      "source": [
        "model1_lab4_ex3.constraints = ConstraintList()"
      ]
    },
    {
      "cell_type": "code",
      "execution_count": 17,
      "metadata": {
        "colab": {
          "base_uri": "https://localhost:8080/"
        },
        "id": "JAAtLgMbxdqh",
        "outputId": "77c7a491-c8c0-4970-b98c-c3aa374e69e9"
      },
      "outputs": [
        {
          "data": {
            "text/plain": [
              "<pyomo.core.base.constraint._GeneralConstraintData at 0x7f05cd6111a0>"
            ]
          },
          "execution_count": 17,
          "metadata": {},
          "output_type": "execute_result"
        }
      ],
      "source": [
        "#Now we can add the cost constraint using the data obtained from the csv file\n",
        "model1_lab4_ex3.constraints.add(summation(data_csvfile['Cost'], model1_lab4_ex3.x) <= 59)"
      ]
    },
    {
      "cell_type": "code",
      "execution_count": 18,
      "metadata": {
        "colab": {
          "base_uri": "https://localhost:8080/"
        },
        "id": "uzUNkUZpx0TR",
        "outputId": "5e80b6cd-e110-4793-ccb4-0292340ef8ff"
      },
      "outputs": [
        {
          "data": {
            "text/plain": [
              "<pyomo.core.base.constraint._GeneralConstraintData at 0x7f05cd611910>"
            ]
          },
          "execution_count": 18,
          "metadata": {},
          "output_type": "execute_result"
        }
      ],
      "source": [
        "#Now we can add the parking space constraint using the data obtained from the csv file\n",
        "model1_lab4_ex3.constraints.add(summation(data_csvfile['Parking space'], model1_lab4_ex3.x) <= 73)"
      ]
    },
    {
      "cell_type": "code",
      "execution_count": 19,
      "metadata": {
        "colab": {
          "base_uri": "https://localhost:8080/"
        },
        "id": "aSQJK5vlyEwU",
        "outputId": "2d899568-414d-4846-bfc2-891a9fc4718c"
      },
      "outputs": [
        {
          "name": "stdout",
          "output_type": "stream",
          "text": [
            "2 Set Declarations\n",
            "    constraints_index : Size=1, Index=None, Ordered=Insertion\n",
            "        Key  : Dimen : Domain : Size : Members\n",
            "        None :     1 :    Any :    2 : {1, 2}\n",
            "    x_index : Size=1, Index=None, Ordered=False\n",
            "        Key  : Dimen : Domain : Size : Members\n",
            "        None :     1 :    Any :    5 : {0, 1, 2, 3, 4}\n",
            "\n",
            "1 Var Declarations\n",
            "    x : Size=5, Index=x_index\n",
            "        Key : Lower : Value : Upper : Fixed : Stale : Domain\n",
            "          0 :     0 :  None :  None : False :  True : NonNegativeIntegers\n",
            "          1 :     0 :  None :  None : False :  True : NonNegativeIntegers\n",
            "          2 :     0 :  None :  None : False :  True : NonNegativeIntegers\n",
            "          3 :     0 :  None :  None : False :  True : NonNegativeIntegers\n",
            "          4 :     0 :  None :  None : False :  True : NonNegativeIntegers\n",
            "\n",
            "1 Objective Declarations\n",
            "    objective : Size=1, Index=None, Active=True\n",
            "        Key  : Active : Sense    : Expression\n",
            "        None :   True : maximize : 12*x[0] + 14*x[1] + 10*x[2] + 15*x[3] + 14*x[4]\n",
            "\n",
            "1 Constraint Declarations\n",
            "    constraints : Size=2, Index=constraints_index, Active=True\n",
            "        Key : Lower : Body                                                     : Upper : Active\n",
            "          1 :  -Inf :   6.0*x[0] + 7.5*x[1] + 9.5*x[2] + 10.0*x[3] + 12.5*x[4] :  59.0 :   True\n",
            "          2 :  -Inf : 4.25*x[0] + 3.25*x[1] + 2.5*x[2] + 3.45*x[3] + 2.25*x[4] :  73.0 :   True\n",
            "\n",
            "5 Declarations: x_index x objective constraints_index constraints\n"
          ]
        }
      ],
      "source": [
        "model1_lab4_ex3.pprint()"
      ]
    },
    {
      "cell_type": "code",
      "execution_count": 20,
      "metadata": {
        "colab": {
          "base_uri": "https://localhost:8080/"
        },
        "id": "IpqnTMS_ye21",
        "outputId": "6cc7dd65-34f0-4a1a-cdad-6d714ab315d2"
      },
      "outputs": [
        {
          "name": "stdout",
          "output_type": "stream",
          "text": [
            "Selecting previously unselected package coinor-libcoinutils3v5.\n",
            "(Reading database ... 148486 files and directories currently installed.)\n",
            "Preparing to unpack .../0-coinor-libcoinutils3v5_2.10.14+repack1-1_amd64.deb ...\n",
            "Unpacking coinor-libcoinutils3v5 (2.10.14+repack1-1) ...\n",
            "Selecting previously unselected package coinor-libosi1v5.\n",
            "Preparing to unpack .../1-coinor-libosi1v5_0.107.9+repack1-1_amd64.deb ...\n",
            "Unpacking coinor-libosi1v5 (0.107.9+repack1-1) ...\n",
            "Selecting previously unselected package coinor-libclp1.\n",
            "Preparing to unpack .../2-coinor-libclp1_1.16.11+repack1-1_amd64.deb ...\n",
            "Unpacking coinor-libclp1 (1.16.11+repack1-1) ...\n",
            "Selecting previously unselected package coinor-libcgl1.\n",
            "Preparing to unpack .../3-coinor-libcgl1_0.59.10+repack1-1_amd64.deb ...\n",
            "Unpacking coinor-libcgl1 (0.59.10+repack1-1) ...\n",
            "Selecting previously unselected package coinor-libcbc3.\n",
            "Preparing to unpack .../4-coinor-libcbc3_2.9.9+repack1-1_amd64.deb ...\n",
            "Unpacking coinor-libcbc3 (2.9.9+repack1-1) ...\n",
            "Selecting previously unselected package coinor-cbc.\n",
            "Preparing to unpack .../5-coinor-cbc_2.9.9+repack1-1_amd64.deb ...\n",
            "Unpacking coinor-cbc (2.9.9+repack1-1) ...\n",
            "Setting up coinor-libcoinutils3v5 (2.10.14+repack1-1) ...\n",
            "Setting up coinor-libosi1v5 (0.107.9+repack1-1) ...\n",
            "Setting up coinor-libclp1 (1.16.11+repack1-1) ...\n",
            "Setting up coinor-libcgl1 (0.59.10+repack1-1) ...\n",
            "Setting up coinor-libcbc3 (2.9.9+repack1-1) ...\n",
            "Setting up coinor-cbc (2.9.9+repack1-1) ...\n",
            "Processing triggers for man-db (2.8.3-2ubuntu0.1) ...\n",
            "Processing triggers for libc-bin (2.27-3ubuntu1.2) ...\n",
            "/sbin/ldconfig.real: /usr/local/lib/python3.7/dist-packages/ideep4py/lib/libmkldnn.so.0 is not a symbolic link\n",
            "\n"
          ]
        }
      ],
      "source": [
        "!apt-get install -y -qq coinor-cbc"
      ]
    },
    {
      "cell_type": "code",
      "execution_count": 21,
      "metadata": {
        "id": "HlMc36aNyfW2"
      },
      "outputs": [],
      "source": [
        "opt_cbc = SolverFactory('cbc')"
      ]
    },
    {
      "cell_type": "code",
      "execution_count": 22,
      "metadata": {
        "colab": {
          "base_uri": "https://localhost:8080/"
        },
        "id": "yrAAuEltyiDB",
        "outputId": "85a80bb5-7c5e-4659-fea8-04d367033fc5"
      },
      "outputs": [
        {
          "name": "stdout",
          "output_type": "stream",
          "text": [
            "Solver status: ok\n",
            "Solver termination condition: optimal\n"
          ]
        }
      ],
      "source": [
        "result = opt_cbc.solve(model1_lab4_ex3)\n",
        "print('Solver status:', result.solver.status)\n",
        "print('Solver termination condition:',result.solver.termination_condition)"
      ]
    },
    {
      "cell_type": "markdown",
      "metadata": {
        "id": "iZkxZOkA8tF6"
      },
      "source": [
        "$$Q-6$$\n",
        "$Reporting\\; the\\; optimal\\; objective\\; function \\;value\\; and \\;the \\;solution.$"
      ]
    },
    {
      "cell_type": "code",
      "execution_count": 23,
      "metadata": {
        "colab": {
          "base_uri": "https://localhost:8080/"
        },
        "id": "s48sT-lky6mT",
        "outputId": "f6f78932-6005-4397-b155-8d42465c7d32"
      },
      "outputs": [
        {
          "name": "stdout",
          "output_type": "stream",
          "text": [
            "\n",
            "Objective =  114.0\n",
            "\n",
            "Decision Variables\n",
            "MANAS = 6.0\n",
            "JAY = 3.0\n",
            "VEER = 0.0\n",
            "SPASHT = 0.0\n",
            "DHAKSH = 0.0\n",
            "\n",
            "Constraints\n",
            "constraints : Size=2\n",
            "    Key : Lower : Body  : Upper\n",
            "      1 :  None :  58.5 :  59.0\n",
            "      2 :  None : 35.25 :  73.0\n"
          ]
        }
      ],
      "source": [
        "# display solution\n",
        "print('\\nObjective = ', model1_lab4_ex3.objective())\n",
        "\n",
        "print('\\nDecision Variables')\n",
        "for i in col_indices:\n",
        "  print(data_csvfile['Drone Model'][i],'=', model1_lab4_ex3.x[i].value)\n",
        "\n",
        "print('\\nConstraints')\n",
        "model1_lab4_ex3.constraints.display()"
      ]
    },
    {
      "cell_type": "code",
      "execution_count": 24,
      "metadata": {
        "id": "yt1hu6ElzOas"
      },
      "outputs": [],
      "source": [
        "for i in col_indices:\n",
        "  model1_lab4_ex3.x[i].domain=NonNegativeReals"
      ]
    },
    {
      "cell_type": "code",
      "execution_count": 25,
      "metadata": {
        "colab": {
          "base_uri": "https://localhost:8080/"
        },
        "id": "THIw7v0w0TVm",
        "outputId": "c230a34b-4988-41b7-ece9-d99350b9b432"
      },
      "outputs": [
        {
          "name": "stdout",
          "output_type": "stream",
          "text": [
            "2 Set Declarations\n",
            "    constraints_index : Size=1, Index=None, Ordered=Insertion\n",
            "        Key  : Dimen : Domain : Size : Members\n",
            "        None :     1 :    Any :    2 : {1, 2}\n",
            "    x_index : Size=1, Index=None, Ordered=False\n",
            "        Key  : Dimen : Domain : Size : Members\n",
            "        None :     1 :    Any :    5 : {0, 1, 2, 3, 4}\n",
            "\n",
            "1 Var Declarations\n",
            "    x : Size=5, Index=x_index\n",
            "        Key : Lower : Value : Upper : Fixed : Stale : Domain\n",
            "          0 :     0 :   6.0 :  None : False : False : NonNegativeReals\n",
            "          1 :     0 :   3.0 :  None : False : False : NonNegativeReals\n",
            "          2 :     0 :   0.0 :  None : False : False : NonNegativeReals\n",
            "          3 :     0 :   0.0 :  None : False : False : NonNegativeReals\n",
            "          4 :     0 :   0.0 :  None : False : False : NonNegativeReals\n",
            "\n",
            "1 Objective Declarations\n",
            "    objective : Size=1, Index=None, Active=True\n",
            "        Key  : Active : Sense    : Expression\n",
            "        None :   True : maximize : 12*x[0] + 14*x[1] + 10*x[2] + 15*x[3] + 14*x[4]\n",
            "\n",
            "1 Constraint Declarations\n",
            "    constraints : Size=2, Index=constraints_index, Active=True\n",
            "        Key : Lower : Body                                                     : Upper : Active\n",
            "          1 :  -Inf :   6.0*x[0] + 7.5*x[1] + 9.5*x[2] + 10.0*x[3] + 12.5*x[4] :  59.0 :   True\n",
            "          2 :  -Inf : 4.25*x[0] + 3.25*x[1] + 2.5*x[2] + 3.45*x[3] + 2.25*x[4] :  73.0 :   True\n",
            "\n",
            "5 Declarations: x_index x objective constraints_index constraints\n"
          ]
        }
      ],
      "source": [
        "model1_lab4_ex3.pprint()"
      ]
    },
    {
      "cell_type": "code",
      "execution_count": 26,
      "metadata": {
        "colab": {
          "base_uri": "https://localhost:8080/"
        },
        "id": "am_u14Xdz7Zy",
        "outputId": "acbd05ed-e7a3-4ed1-eab9-387ab15f47de"
      },
      "outputs": [
        {
          "name": "stdout",
          "output_type": "stream",
          "text": [
            "Solver status: ok\n",
            "Solver termination condition: optimal\n"
          ]
        }
      ],
      "source": [
        "result1 = opt_cbc.solve(model1_lab4_ex3)\n",
        "print('Solver status:', result1.solver.status)\n",
        "print('Solver termination condition:',result1.solver.termination_condition)"
      ]
    },
    {
      "cell_type": "markdown",
      "metadata": {
        "id": "r_C5RMsn80Pj"
      },
      "source": [
        "$$Q-7$$"
      ]
    },
    {
      "cell_type": "code",
      "execution_count": 27,
      "metadata": {
        "colab": {
          "base_uri": "https://localhost:8080/"
        },
        "id": "6N66fmo-0F56",
        "outputId": "efa68417-bc96-4529-8a2e-e7ace6054d20"
      },
      "outputs": [
        {
          "name": "stdout",
          "output_type": "stream",
          "text": [
            "\n",
            "Objective =  117.9999996\n",
            "\n",
            "Decision Variables\n",
            "MANAS = 9.8333333\n",
            "JAY = 0.0\n",
            "VEER = 0.0\n",
            "SPASHT = 0.0\n",
            "DHAKSH = 0.0\n",
            "\n",
            "Constraints\n",
            "constraints : Size=2\n",
            "    Key : Lower : Body         : Upper\n",
            "      1 :  None :   58.9999998 :  59.0\n",
            "      2 :  None : 41.791666525 :  73.0\n"
          ]
        }
      ],
      "source": [
        "# display solution\n",
        "print('\\nObjective = ', model1_lab4_ex3.objective())\n",
        "\n",
        "print('\\nDecision Variables')\n",
        "for i in col_indices:\n",
        "  print(data_csvfile['Drone Model'][i],'=', model1_lab4_ex3.x[i].value)\n",
        "\n",
        "print('\\nConstraints')\n",
        "model1_lab4_ex3.constraints.display()"
      ]
    },
    {
      "cell_type": "markdown",
      "metadata": {
        "id": "mwQ2sXsj87ca"
      },
      "source": [
        "$$Q-8$$\n",
        "$No\\; the\\; solutions \\;of\\; MILP\\; cannot\\; be \\;obtained\\; by\\; merely\\; rounding\\; of \\;the\\; solution\\; of\\; LP.\\; Because,\\; the \\;LP\\; will\\; try\\;to\\; assign\\; max\\; possible \\;value(if allowed by parking constraint) \\;to\\; those\\; model\\; which\\; has\\; highest\\; capacity\\; to \\;cost\\; ratio\\; and\\; all\\; other\\; 0.$"
      ]
    },
    {
      "cell_type": "code",
      "execution_count": 28,
      "metadata": {
        "colab": {
          "base_uri": "https://localhost:8080/"
        },
        "id": "HHy1kfDvR80C",
        "outputId": "c158c052-c42f-421f-d81f-5373c3969bc4"
      },
      "outputs": [
        {
          "data": {
            "text/plain": [
              "<pyomo.core.base.constraint._GeneralConstraintData at 0x7f05cd64aa60>"
            ]
          },
          "execution_count": 28,
          "metadata": {},
          "output_type": "execute_result"
        }
      ],
      "source": [
        "model1_lab4_ex3.constraints.add(summation(data_csvfile['Cost'], model1_lab4_ex3.x) <= 71)\n",
        "model1_lab4_ex3.constraints.add(summation(data_csvfile['Parking space'], model1_lab4_ex3.x) <= 87)"
      ]
    },
    {
      "cell_type": "code",
      "execution_count": 29,
      "metadata": {
        "id": "vvIaGr0V0KEf"
      },
      "outputs": [],
      "source": [
        "model1_lab4_ex3.constraints[1].deactivate()\n",
        "model1_lab4_ex3.constraints[2].deactivate()"
      ]
    },
    {
      "cell_type": "code",
      "execution_count": 30,
      "metadata": {
        "colab": {
          "base_uri": "https://localhost:8080/"
        },
        "id": "VnLmF7GPSMXn",
        "outputId": "cd4e4de2-e428-4f17-c950-23adff3a5f62"
      },
      "outputs": [
        {
          "name": "stdout",
          "output_type": "stream",
          "text": [
            "2 Set Declarations\n",
            "    constraints_index : Size=1, Index=None, Ordered=Insertion\n",
            "        Key  : Dimen : Domain : Size : Members\n",
            "        None :     1 :    Any :    4 : {1, 2, 3, 4}\n",
            "    x_index : Size=1, Index=None, Ordered=False\n",
            "        Key  : Dimen : Domain : Size : Members\n",
            "        None :     1 :    Any :    5 : {0, 1, 2, 3, 4}\n",
            "\n",
            "1 Var Declarations\n",
            "    x : Size=5, Index=x_index\n",
            "        Key : Lower : Value     : Upper : Fixed : Stale : Domain\n",
            "          0 :     0 : 9.8333333 :  None : False : False : NonNegativeReals\n",
            "          1 :     0 :       0.0 :  None : False : False : NonNegativeReals\n",
            "          2 :     0 :       0.0 :  None : False : False : NonNegativeReals\n",
            "          3 :     0 :       0.0 :  None : False : False : NonNegativeReals\n",
            "          4 :     0 :       0.0 :  None : False : False : NonNegativeReals\n",
            "\n",
            "1 Objective Declarations\n",
            "    objective : Size=1, Index=None, Active=True\n",
            "        Key  : Active : Sense    : Expression\n",
            "        None :   True : maximize : 12*x[0] + 14*x[1] + 10*x[2] + 15*x[3] + 14*x[4]\n",
            "\n",
            "1 Constraint Declarations\n",
            "    constraints : Size=4, Index=constraints_index, Active=True\n",
            "        Key : Lower : Body                                                     : Upper : Active\n",
            "          1 :  -Inf :   6.0*x[0] + 7.5*x[1] + 9.5*x[2] + 10.0*x[3] + 12.5*x[4] :  59.0 :  False\n",
            "          2 :  -Inf : 4.25*x[0] + 3.25*x[1] + 2.5*x[2] + 3.45*x[3] + 2.25*x[4] :  73.0 :  False\n",
            "          3 :  -Inf :   6.0*x[0] + 7.5*x[1] + 9.5*x[2] + 10.0*x[3] + 12.5*x[4] :  71.0 :   True\n",
            "          4 :  -Inf : 4.25*x[0] + 3.25*x[1] + 2.5*x[2] + 3.45*x[3] + 2.25*x[4] :  87.0 :   True\n",
            "\n",
            "5 Declarations: x_index x objective constraints_index constraints\n"
          ]
        }
      ],
      "source": [
        "model1_lab4_ex3.pprint()"
      ]
    },
    {
      "cell_type": "markdown",
      "metadata": {
        "id": "uUDSRyvVSwG7"
      },
      "source": [
        "$$Q-9$$\n",
        "$Solving\\; the\\; LP$"
      ]
    },
    {
      "cell_type": "code",
      "execution_count": 31,
      "metadata": {
        "colab": {
          "base_uri": "https://localhost:8080/"
        },
        "id": "Wn8qZWQbSm2L",
        "outputId": "1de38f49-5c9a-4bb8-9e2b-b4b762b6f412"
      },
      "outputs": [
        {
          "name": "stdout",
          "output_type": "stream",
          "text": [
            "Solver status: ok\n",
            "Solver termination condition: optimal\n"
          ]
        }
      ],
      "source": [
        "result2 = opt_cbc.solve(model1_lab4_ex3)\n",
        "print('Solver status:', result2.solver.status)\n",
        "print('Solver termination condition:',result2.solver.termination_condition)"
      ]
    },
    {
      "cell_type": "code",
      "execution_count": 32,
      "metadata": {
        "colab": {
          "base_uri": "https://localhost:8080/"
        },
        "id": "24ZKg9RkS887",
        "outputId": "7186578c-3005-4eb8-c751-433682b86058"
      },
      "outputs": [
        {
          "name": "stdout",
          "output_type": "stream",
          "text": [
            "\n",
            "Objective =  141.999996\n",
            "\n",
            "Decision Variables\n",
            "MANAS = 11.833333\n",
            "JAY = 0.0\n",
            "VEER = 0.0\n",
            "SPASHT = 0.0\n",
            "DHAKSH = 0.0\n",
            "\n",
            "Constraints\n",
            "constraints : Size=4\n",
            "    Key : Lower : Body        : Upper\n",
            "      3 :  None :   70.999998 :  71.0\n",
            "      4 :  None : 50.29166525 :  87.0\n"
          ]
        }
      ],
      "source": [
        "# display solution\n",
        "print('\\nObjective = ', model1_lab4_ex3.objective())\n",
        "\n",
        "print('\\nDecision Variables')\n",
        "for i in col_indices:\n",
        "  print(data_csvfile['Drone Model'][i],'=', model1_lab4_ex3.x[i].value)\n",
        "\n",
        "print('\\nConstraints')\n",
        "model1_lab4_ex3.constraints.display()"
      ]
    },
    {
      "cell_type": "markdown",
      "metadata": {
        "id": "iJ1z2kawUUrv"
      },
      "source": [
        "$The\\; optimal\\; value\\; of\\; the\\; new\\; LP\\; has\\; increases\\; and\\; also\\; the\\; no.\\; of \\;drones \\;of\\; model\\; which\\; was\\; non\\; zero \\;in\\; previous\\; LP\\; has\\; increased. $"
      ]
    },
    {
      "cell_type": "markdown",
      "metadata": {
        "id": "FaKdy4SIS__M"
      },
      "source": [
        "$Solving \\;the\\; MILP$"
      ]
    },
    {
      "cell_type": "code",
      "execution_count": 33,
      "metadata": {
        "id": "M6bL5bftS9fL"
      },
      "outputs": [],
      "source": [
        "for i in col_indices:\n",
        "  model1_lab4_ex3.x[i].domain=NonNegativeIntegers"
      ]
    },
    {
      "cell_type": "code",
      "execution_count": 34,
      "metadata": {
        "colab": {
          "base_uri": "https://localhost:8080/"
        },
        "id": "iqwqNKP_TMw9",
        "outputId": "d6cc7451-01fe-4ba0-c6a9-2078685c0144"
      },
      "outputs": [
        {
          "name": "stdout",
          "output_type": "stream",
          "text": [
            "2 Set Declarations\n",
            "    constraints_index : Size=1, Index=None, Ordered=Insertion\n",
            "        Key  : Dimen : Domain : Size : Members\n",
            "        None :     1 :    Any :    4 : {1, 2, 3, 4}\n",
            "    x_index : Size=1, Index=None, Ordered=False\n",
            "        Key  : Dimen : Domain : Size : Members\n",
            "        None :     1 :    Any :    5 : {0, 1, 2, 3, 4}\n",
            "\n",
            "1 Var Declarations\n",
            "    x : Size=5, Index=x_index\n",
            "        Key : Lower : Value     : Upper : Fixed : Stale : Domain\n",
            "          0 :     0 : 11.833333 :  None : False : False : NonNegativeIntegers\n",
            "          1 :     0 :       0.0 :  None : False : False : NonNegativeIntegers\n",
            "          2 :     0 :       0.0 :  None : False : False : NonNegativeIntegers\n",
            "          3 :     0 :       0.0 :  None : False : False : NonNegativeIntegers\n",
            "          4 :     0 :       0.0 :  None : False : False : NonNegativeIntegers\n",
            "\n",
            "1 Objective Declarations\n",
            "    objective : Size=1, Index=None, Active=True\n",
            "        Key  : Active : Sense    : Expression\n",
            "        None :   True : maximize : 12*x[0] + 14*x[1] + 10*x[2] + 15*x[3] + 14*x[4]\n",
            "\n",
            "1 Constraint Declarations\n",
            "    constraints : Size=4, Index=constraints_index, Active=True\n",
            "        Key : Lower : Body                                                     : Upper : Active\n",
            "          1 :  -Inf :   6.0*x[0] + 7.5*x[1] + 9.5*x[2] + 10.0*x[3] + 12.5*x[4] :  59.0 :  False\n",
            "          2 :  -Inf : 4.25*x[0] + 3.25*x[1] + 2.5*x[2] + 3.45*x[3] + 2.25*x[4] :  73.0 :  False\n",
            "          3 :  -Inf :   6.0*x[0] + 7.5*x[1] + 9.5*x[2] + 10.0*x[3] + 12.5*x[4] :  71.0 :   True\n",
            "          4 :  -Inf : 4.25*x[0] + 3.25*x[1] + 2.5*x[2] + 3.45*x[3] + 2.25*x[4] :  87.0 :   True\n",
            "\n",
            "5 Declarations: x_index x objective constraints_index constraints\n"
          ]
        }
      ],
      "source": [
        "model1_lab4_ex3.pprint()"
      ]
    },
    {
      "cell_type": "code",
      "execution_count": 35,
      "metadata": {
        "colab": {
          "base_uri": "https://localhost:8080/"
        },
        "id": "ZyDQPV1ZUGvc",
        "outputId": "6cfd3b6e-ccc5-4b4b-98f4-8d1686598eee"
      },
      "outputs": [
        {
          "name": "stdout",
          "output_type": "stream",
          "text": [
            "Solver status: ok\n",
            "Solver termination condition: optimal\n"
          ]
        }
      ],
      "source": [
        "result3 = opt_cbc.solve(model1_lab4_ex3)\n",
        "print('Solver status:', result3.solver.status)\n",
        "print('Solver termination condition:',result3.solver.termination_condition)"
      ]
    },
    {
      "cell_type": "code",
      "execution_count": 36,
      "metadata": {
        "colab": {
          "base_uri": "https://localhost:8080/"
        },
        "id": "R9vQbzDlTSwD",
        "outputId": "93b94124-a980-4b82-f215-be9f69b441cb"
      },
      "outputs": [
        {
          "name": "stdout",
          "output_type": "stream",
          "text": [
            "\n",
            "Objective =  138.0\n",
            "\n",
            "Decision Variables\n",
            "MANAS = 8.0\n",
            "JAY = 3.0\n",
            "VEER = 0.0\n",
            "SPASHT = 0.0\n",
            "DHAKSH = 0.0\n",
            "\n",
            "Constraints\n",
            "constraints : Size=4\n",
            "    Key : Lower : Body  : Upper\n",
            "      3 :  None :  70.5 :  71.0\n",
            "      4 :  None : 43.75 :  87.0\n"
          ]
        }
      ],
      "source": [
        "# display solution\n",
        "print('\\nObjective = ', model1_lab4_ex3.objective())\n",
        "\n",
        "print('\\nDecision Variables')\n",
        "for i in col_indices:\n",
        "  print(data_csvfile['Drone Model'][i],'=', model1_lab4_ex3.x[i].value)\n",
        "\n",
        "print('\\nConstraints')\n",
        "model1_lab4_ex3.constraints.display()"
      ]
    },
    {
      "cell_type": "markdown",
      "metadata": {
        "id": "sBWeaLNaU1hn"
      },
      "source": [
        "$The \\;optimal\\; objective\\; value\\; has\\; increased\\; and\\; no. \\;of \\;drones\\; of\\; MANAS\\; has \\;increased.$"
      ]
    },
    {
      "cell_type": "markdown",
      "metadata": {
        "id": "lf2n_n1yXa6j"
      },
      "source": [
        "$$Q-10$$"
      ]
    },
    {
      "cell_type": "markdown",
      "metadata": {
        "id": "Qy3Rxh5YVk3_"
      },
      "source": [
        "$Let \\;the\\; budget\\; be\\; 67\\; units\\; and\\; parking \\;space \\;be\\; 88 \\;units$"
      ]
    },
    {
      "cell_type": "code",
      "execution_count": 37,
      "metadata": {
        "id": "Scod7XZmTXkl"
      },
      "outputs": [],
      "source": [
        "model1_lab4_ex3.constraints[3].deactivate()\n",
        "model1_lab4_ex3.constraints[4].deactivate()"
      ]
    },
    {
      "cell_type": "markdown",
      "metadata": {
        "id": "J_Zkce-tWVQ7"
      },
      "source": [
        "$Solving\\; MILP$"
      ]
    },
    {
      "cell_type": "code",
      "execution_count": 38,
      "metadata": {
        "colab": {
          "base_uri": "https://localhost:8080/"
        },
        "id": "utrWAFnpVpsP",
        "outputId": "9617d514-f3cf-44b2-ae6c-6fe677372965"
      },
      "outputs": [
        {
          "name": "stdout",
          "output_type": "stream",
          "text": [
            "2 Set Declarations\n",
            "    constraints_index : Size=1, Index=None, Ordered=Insertion\n",
            "        Key  : Dimen : Domain : Size : Members\n",
            "        None :     1 :    Any :    6 : {1, 2, 3, 4, 5, 6}\n",
            "    x_index : Size=1, Index=None, Ordered=False\n",
            "        Key  : Dimen : Domain : Size : Members\n",
            "        None :     1 :    Any :    5 : {0, 1, 2, 3, 4}\n",
            "\n",
            "1 Var Declarations\n",
            "    x : Size=5, Index=x_index\n",
            "        Key : Lower : Value : Upper : Fixed : Stale : Domain\n",
            "          0 :     0 :   8.0 :  None : False : False : NonNegativeIntegers\n",
            "          1 :     0 :   3.0 :  None : False : False : NonNegativeIntegers\n",
            "          2 :     0 :   0.0 :  None : False : False : NonNegativeIntegers\n",
            "          3 :     0 :   0.0 :  None : False : False : NonNegativeIntegers\n",
            "          4 :     0 :   0.0 :  None : False : False : NonNegativeIntegers\n",
            "\n",
            "1 Objective Declarations\n",
            "    objective : Size=1, Index=None, Active=True\n",
            "        Key  : Active : Sense    : Expression\n",
            "        None :   True : maximize : 12*x[0] + 14*x[1] + 10*x[2] + 15*x[3] + 14*x[4]\n",
            "\n",
            "1 Constraint Declarations\n",
            "    constraints : Size=6, Index=constraints_index, Active=True\n",
            "        Key : Lower : Body                                                     : Upper : Active\n",
            "          1 :  -Inf :   6.0*x[0] + 7.5*x[1] + 9.5*x[2] + 10.0*x[3] + 12.5*x[4] :  59.0 :  False\n",
            "          2 :  -Inf : 4.25*x[0] + 3.25*x[1] + 2.5*x[2] + 3.45*x[3] + 2.25*x[4] :  73.0 :  False\n",
            "          3 :  -Inf :   6.0*x[0] + 7.5*x[1] + 9.5*x[2] + 10.0*x[3] + 12.5*x[4] :  71.0 :  False\n",
            "          4 :  -Inf : 4.25*x[0] + 3.25*x[1] + 2.5*x[2] + 3.45*x[3] + 2.25*x[4] :  87.0 :  False\n",
            "          5 :  -Inf :   6.0*x[0] + 7.5*x[1] + 9.5*x[2] + 10.0*x[3] + 12.5*x[4] :  67.0 :   True\n",
            "          6 :  -Inf : 4.25*x[0] + 3.25*x[1] + 2.5*x[2] + 3.45*x[3] + 2.25*x[4] :  88.0 :   True\n",
            "\n",
            "5 Declarations: x_index x objective constraints_index constraints\n"
          ]
        }
      ],
      "source": [
        "model1_lab4_ex3.constraints.add(summation(data_csvfile['Cost'], model1_lab4_ex3.x) <= 67)\n",
        "model1_lab4_ex3.constraints.add(summation(data_csvfile['Parking space'], model1_lab4_ex3.x) <= 88)\n",
        "model1_lab4_ex3.pprint()"
      ]
    },
    {
      "cell_type": "code",
      "execution_count": 39,
      "metadata": {
        "colab": {
          "base_uri": "https://localhost:8080/"
        },
        "id": "hGvC5mDQXRuV",
        "outputId": "8689ad68-5e1f-4aec-8d06-ddac77edbacc"
      },
      "outputs": [
        {
          "name": "stdout",
          "output_type": "stream",
          "text": [
            "Solver status: ok\n",
            "Solver termination condition: optimal\n",
            "\n",
            "Objective =  132.0\n",
            "\n",
            "Decision Variables\n",
            "MANAS = 11.0\n",
            "JAY = 0.0\n",
            "VEER = 0.0\n",
            "SPASHT = 0.0\n",
            "DHAKSH = 0.0\n",
            "\n",
            "Constraints\n",
            "constraints : Size=6\n",
            "    Key : Lower : Body  : Upper\n",
            "      5 :  None :  66.0 :  67.0\n",
            "      6 :  None : 46.75 :  88.0\n"
          ]
        }
      ],
      "source": [
        "result3 = opt_cbc.solve(model1_lab4_ex3)\n",
        "print('Solver status:', result3.solver.status)\n",
        "print('Solver termination condition:',result3.solver.termination_condition)\n",
        "\n",
        "# display solution\n",
        "print('\\nObjective = ', model1_lab4_ex3.objective())\n",
        "\n",
        "print('\\nDecision Variables')\n",
        "for i in col_indices:\n",
        "  print(data_csvfile['Drone Model'][i],'=', model1_lab4_ex3.x[i].value)\n",
        "\n",
        "print('\\nConstraints')\n",
        "model1_lab4_ex3.constraints.display()"
      ]
    },
    {
      "cell_type": "markdown",
      "metadata": {
        "id": "BUkH189ZXCvl"
      },
      "source": [
        "$Solving \\;LP$"
      ]
    },
    {
      "cell_type": "code",
      "execution_count": 40,
      "metadata": {
        "id": "i2qvZ1x-XFNK"
      },
      "outputs": [],
      "source": [
        "for i in col_indices:\n",
        "  model1_lab4_ex3.x[i].domain=NonNegativeReals"
      ]
    },
    {
      "cell_type": "code",
      "execution_count": 41,
      "metadata": {
        "colab": {
          "base_uri": "https://localhost:8080/"
        },
        "id": "u7xglm-jXGpt",
        "outputId": "fa2fbb18-d8af-491c-bf72-171d0384c4e4"
      },
      "outputs": [
        {
          "name": "stdout",
          "output_type": "stream",
          "text": [
            "2 Set Declarations\n",
            "    constraints_index : Size=1, Index=None, Ordered=Insertion\n",
            "        Key  : Dimen : Domain : Size : Members\n",
            "        None :     1 :    Any :    6 : {1, 2, 3, 4, 5, 6}\n",
            "    x_index : Size=1, Index=None, Ordered=False\n",
            "        Key  : Dimen : Domain : Size : Members\n",
            "        None :     1 :    Any :    5 : {0, 1, 2, 3, 4}\n",
            "\n",
            "1 Var Declarations\n",
            "    x : Size=5, Index=x_index\n",
            "        Key : Lower : Value : Upper : Fixed : Stale : Domain\n",
            "          0 :     0 :  11.0 :  None : False : False : NonNegativeReals\n",
            "          1 :     0 :   0.0 :  None : False : False : NonNegativeReals\n",
            "          2 :     0 :   0.0 :  None : False : False : NonNegativeReals\n",
            "          3 :     0 :   0.0 :  None : False : False : NonNegativeReals\n",
            "          4 :     0 :   0.0 :  None : False : False : NonNegativeReals\n",
            "\n",
            "1 Objective Declarations\n",
            "    objective : Size=1, Index=None, Active=True\n",
            "        Key  : Active : Sense    : Expression\n",
            "        None :   True : maximize : 12*x[0] + 14*x[1] + 10*x[2] + 15*x[3] + 14*x[4]\n",
            "\n",
            "1 Constraint Declarations\n",
            "    constraints : Size=6, Index=constraints_index, Active=True\n",
            "        Key : Lower : Body                                                     : Upper : Active\n",
            "          1 :  -Inf :   6.0*x[0] + 7.5*x[1] + 9.5*x[2] + 10.0*x[3] + 12.5*x[4] :  59.0 :  False\n",
            "          2 :  -Inf : 4.25*x[0] + 3.25*x[1] + 2.5*x[2] + 3.45*x[3] + 2.25*x[4] :  73.0 :  False\n",
            "          3 :  -Inf :   6.0*x[0] + 7.5*x[1] + 9.5*x[2] + 10.0*x[3] + 12.5*x[4] :  71.0 :  False\n",
            "          4 :  -Inf : 4.25*x[0] + 3.25*x[1] + 2.5*x[2] + 3.45*x[3] + 2.25*x[4] :  87.0 :  False\n",
            "          5 :  -Inf :   6.0*x[0] + 7.5*x[1] + 9.5*x[2] + 10.0*x[3] + 12.5*x[4] :  67.0 :   True\n",
            "          6 :  -Inf : 4.25*x[0] + 3.25*x[1] + 2.5*x[2] + 3.45*x[3] + 2.25*x[4] :  88.0 :   True\n",
            "\n",
            "5 Declarations: x_index x objective constraints_index constraints\n"
          ]
        }
      ],
      "source": [
        "model1_lab4_ex3.pprint()"
      ]
    },
    {
      "cell_type": "code",
      "execution_count": 42,
      "metadata": {
        "colab": {
          "base_uri": "https://localhost:8080/"
        },
        "id": "qlxOcCA2Xo9_",
        "outputId": "25d7a9ed-0cda-4bb2-92c7-47af9a4f0b97"
      },
      "outputs": [
        {
          "name": "stdout",
          "output_type": "stream",
          "text": [
            "Solver status: ok\n",
            "Solver termination condition: optimal\n",
            "\n",
            "Objective =  134.000004\n",
            "\n",
            "Decision Variables\n",
            "MANAS = 11.166667\n",
            "JAY = 0.0\n",
            "VEER = 0.0\n",
            "SPASHT = 0.0\n",
            "DHAKSH = 0.0\n",
            "\n",
            "Constraints\n",
            "constraints : Size=6\n",
            "    Key : Lower : Body        : Upper\n",
            "      5 :  None :   67.000002 :  67.0\n",
            "      6 :  None : 47.45833475 :  88.0\n"
          ]
        }
      ],
      "source": [
        "result3 = opt_cbc.solve(model1_lab4_ex3)\n",
        "print('Solver status:', result3.solver.status)\n",
        "print('Solver termination condition:',result3.solver.termination_condition)\n",
        "\n",
        "# display solution\n",
        "print('\\nObjective = ', model1_lab4_ex3.objective())\n",
        "\n",
        "print('\\nDecision Variables')\n",
        "for i in col_indices:\n",
        "  print(data_csvfile['Drone Model'][i], '=',model1_lab4_ex3.x[i].value)\n",
        "\n",
        "print('\\nConstraints')\n",
        "model1_lab4_ex3.constraints.display()"
      ]
    },
    {
      "cell_type": "markdown",
      "metadata": {
        "id": "TIqP6EItYJbi"
      },
      "source": [
        "$Let \\;the\\; budget\\; be\\; 65\\; units\\; and\\; parking \\;space \\;be\\; 89 \\;units$"
      ]
    },
    {
      "cell_type": "markdown",
      "metadata": {
        "id": "EQD8hVDSaXd9"
      },
      "source": [
        "$Solving \\;LP$"
      ]
    },
    {
      "cell_type": "code",
      "execution_count": 43,
      "metadata": {
        "colab": {
          "base_uri": "https://localhost:8080/"
        },
        "id": "OC3nIq0HYKVG",
        "outputId": "20d1f63d-d601-4f8f-ae26-7bb01b85e194"
      },
      "outputs": [
        {
          "name": "stdout",
          "output_type": "stream",
          "text": [
            "2 Set Declarations\n",
            "    constraints_index : Size=1, Index=None, Ordered=Insertion\n",
            "        Key  : Dimen : Domain : Size : Members\n",
            "        None :     1 :    Any :    8 : {1, 2, 3, 4, 5, 6, 7, 8}\n",
            "    x_index : Size=1, Index=None, Ordered=False\n",
            "        Key  : Dimen : Domain : Size : Members\n",
            "        None :     1 :    Any :    5 : {0, 1, 2, 3, 4}\n",
            "\n",
            "1 Var Declarations\n",
            "    x : Size=5, Index=x_index\n",
            "        Key : Lower : Value     : Upper : Fixed : Stale : Domain\n",
            "          0 :     0 : 11.166667 :  None : False : False : NonNegativeReals\n",
            "          1 :     0 :       0.0 :  None : False : False : NonNegativeReals\n",
            "          2 :     0 :       0.0 :  None : False : False : NonNegativeReals\n",
            "          3 :     0 :       0.0 :  None : False : False : NonNegativeReals\n",
            "          4 :     0 :       0.0 :  None : False : False : NonNegativeReals\n",
            "\n",
            "1 Objective Declarations\n",
            "    objective : Size=1, Index=None, Active=True\n",
            "        Key  : Active : Sense    : Expression\n",
            "        None :   True : maximize : 12*x[0] + 14*x[1] + 10*x[2] + 15*x[3] + 14*x[4]\n",
            "\n",
            "1 Constraint Declarations\n",
            "    constraints : Size=8, Index=constraints_index, Active=True\n",
            "        Key : Lower : Body                                                     : Upper : Active\n",
            "          1 :  -Inf :   6.0*x[0] + 7.5*x[1] + 9.5*x[2] + 10.0*x[3] + 12.5*x[4] :  59.0 :  False\n",
            "          2 :  -Inf : 4.25*x[0] + 3.25*x[1] + 2.5*x[2] + 3.45*x[3] + 2.25*x[4] :  73.0 :  False\n",
            "          3 :  -Inf :   6.0*x[0] + 7.5*x[1] + 9.5*x[2] + 10.0*x[3] + 12.5*x[4] :  71.0 :  False\n",
            "          4 :  -Inf : 4.25*x[0] + 3.25*x[1] + 2.5*x[2] + 3.45*x[3] + 2.25*x[4] :  87.0 :  False\n",
            "          5 :  -Inf :   6.0*x[0] + 7.5*x[1] + 9.5*x[2] + 10.0*x[3] + 12.5*x[4] :  67.0 :  False\n",
            "          6 :  -Inf : 4.25*x[0] + 3.25*x[1] + 2.5*x[2] + 3.45*x[3] + 2.25*x[4] :  88.0 :  False\n",
            "          7 :  -Inf :   6.0*x[0] + 7.5*x[1] + 9.5*x[2] + 10.0*x[3] + 12.5*x[4] :  65.0 :   True\n",
            "          8 :  -Inf : 4.25*x[0] + 3.25*x[1] + 2.5*x[2] + 3.45*x[3] + 2.25*x[4] :  89.0 :   True\n",
            "\n",
            "5 Declarations: x_index x objective constraints_index constraints\n"
          ]
        }
      ],
      "source": [
        "model1_lab4_ex3.constraints[5].deactivate()\n",
        "model1_lab4_ex3.constraints[6].deactivate()\n",
        "model1_lab4_ex3.constraints.add(summation(data_csvfile['Cost'], model1_lab4_ex3.x) <= 65)\n",
        "model1_lab4_ex3.constraints.add(summation(data_csvfile['Parking space'], model1_lab4_ex3.x) <= 89)\n",
        "model1_lab4_ex3.pprint()"
      ]
    },
    {
      "cell_type": "code",
      "execution_count": 44,
      "metadata": {
        "colab": {
          "base_uri": "https://localhost:8080/"
        },
        "id": "og9cJmL7ahGi",
        "outputId": "9dfaed23-db01-4008-c1cd-9717823635a7"
      },
      "outputs": [
        {
          "name": "stdout",
          "output_type": "stream",
          "text": [
            "Solver status: ok\n",
            "Solver termination condition: optimal\n",
            "\n",
            "Objective =  129.999996\n",
            "\n",
            "Decision Variables\n",
            "MANAS = 10.833333\n",
            "JAY = 0.0\n",
            "VEER = 0.0\n",
            "SPASHT = 0.0\n",
            "DHAKSH = 0.0\n",
            "\n",
            "Constraints\n",
            "constraints : Size=8\n",
            "    Key : Lower : Body        : Upper\n",
            "      7 :  None :   64.999998 :  65.0\n",
            "      8 :  None : 46.04166525 :  89.0\n"
          ]
        }
      ],
      "source": [
        "result3 = opt_cbc.solve(model1_lab4_ex3)\n",
        "print('Solver status:', result3.solver.status)\n",
        "print('Solver termination condition:',result3.solver.termination_condition)\n",
        "\n",
        "# display solution\n",
        "print('\\nObjective = ', model1_lab4_ex3.objective())\n",
        "\n",
        "print('\\nDecision Variables')\n",
        "for i in col_indices:\n",
        "  print(data_csvfile['Drone Model'][i], '=',model1_lab4_ex3.x[i].value)\n",
        "\n",
        "print('\\nConstraints')\n",
        "model1_lab4_ex3.constraints.display()"
      ]
    },
    {
      "cell_type": "markdown",
      "metadata": {
        "id": "IHKrZFV6ar9e"
      },
      "source": [
        "$Solving\\; MILP$"
      ]
    },
    {
      "cell_type": "code",
      "execution_count": 45,
      "metadata": {
        "colab": {
          "base_uri": "https://localhost:8080/"
        },
        "id": "Asf0ifJWap_I",
        "outputId": "149b1519-7dab-4005-bfca-5d004a7b4b38"
      },
      "outputs": [
        {
          "name": "stdout",
          "output_type": "stream",
          "text": [
            "2 Set Declarations\n",
            "    constraints_index : Size=1, Index=None, Ordered=Insertion\n",
            "        Key  : Dimen : Domain : Size : Members\n",
            "        None :     1 :    Any :    8 : {1, 2, 3, 4, 5, 6, 7, 8}\n",
            "    x_index : Size=1, Index=None, Ordered=False\n",
            "        Key  : Dimen : Domain : Size : Members\n",
            "        None :     1 :    Any :    5 : {0, 1, 2, 3, 4}\n",
            "\n",
            "1 Var Declarations\n",
            "    x : Size=5, Index=x_index\n",
            "        Key : Lower : Value     : Upper : Fixed : Stale : Domain\n",
            "          0 :     0 : 10.833333 :  None : False : False : NonNegativeIntegers\n",
            "          1 :     0 :       0.0 :  None : False : False : NonNegativeIntegers\n",
            "          2 :     0 :       0.0 :  None : False : False : NonNegativeIntegers\n",
            "          3 :     0 :       0.0 :  None : False : False : NonNegativeIntegers\n",
            "          4 :     0 :       0.0 :  None : False : False : NonNegativeIntegers\n",
            "\n",
            "1 Objective Declarations\n",
            "    objective : Size=1, Index=None, Active=True\n",
            "        Key  : Active : Sense    : Expression\n",
            "        None :   True : maximize : 12*x[0] + 14*x[1] + 10*x[2] + 15*x[3] + 14*x[4]\n",
            "\n",
            "1 Constraint Declarations\n",
            "    constraints : Size=8, Index=constraints_index, Active=True\n",
            "        Key : Lower : Body                                                     : Upper : Active\n",
            "          1 :  -Inf :   6.0*x[0] + 7.5*x[1] + 9.5*x[2] + 10.0*x[3] + 12.5*x[4] :  59.0 :  False\n",
            "          2 :  -Inf : 4.25*x[0] + 3.25*x[1] + 2.5*x[2] + 3.45*x[3] + 2.25*x[4] :  73.0 :  False\n",
            "          3 :  -Inf :   6.0*x[0] + 7.5*x[1] + 9.5*x[2] + 10.0*x[3] + 12.5*x[4] :  71.0 :  False\n",
            "          4 :  -Inf : 4.25*x[0] + 3.25*x[1] + 2.5*x[2] + 3.45*x[3] + 2.25*x[4] :  87.0 :  False\n",
            "          5 :  -Inf :   6.0*x[0] + 7.5*x[1] + 9.5*x[2] + 10.0*x[3] + 12.5*x[4] :  67.0 :  False\n",
            "          6 :  -Inf : 4.25*x[0] + 3.25*x[1] + 2.5*x[2] + 3.45*x[3] + 2.25*x[4] :  88.0 :  False\n",
            "          7 :  -Inf :   6.0*x[0] + 7.5*x[1] + 9.5*x[2] + 10.0*x[3] + 12.5*x[4] :  65.0 :   True\n",
            "          8 :  -Inf : 4.25*x[0] + 3.25*x[1] + 2.5*x[2] + 3.45*x[3] + 2.25*x[4] :  89.0 :   True\n",
            "\n",
            "5 Declarations: x_index x objective constraints_index constraints\n"
          ]
        }
      ],
      "source": [
        "for i in col_indices:\n",
        "  model1_lab4_ex3.x[i].domain=NonNegativeIntegers\n",
        "\n",
        "model1_lab4_ex3.pprint()"
      ]
    },
    {
      "cell_type": "code",
      "execution_count": 46,
      "metadata": {
        "colab": {
          "base_uri": "https://localhost:8080/"
        },
        "id": "YJZMJMeJa6sW",
        "outputId": "25844fe3-22dd-4607-95f7-9d1bca1072e3"
      },
      "outputs": [
        {
          "name": "stdout",
          "output_type": "stream",
          "text": [
            "Solver status: ok\n",
            "Solver termination condition: optimal\n",
            "\n",
            "Objective =  126.0\n",
            "\n",
            "Decision Variables\n",
            "MANAS = 7.0\n",
            "JAY = 3.0\n",
            "VEER = 0.0\n",
            "SPASHT = 0.0\n",
            "DHAKSH = 0.0\n",
            "\n",
            "Constraints\n",
            "constraints : Size=8\n",
            "    Key : Lower : Body : Upper\n",
            "      7 :  None : 64.5 :  65.0\n",
            "      8 :  None : 39.5 :  89.0\n"
          ]
        }
      ],
      "source": [
        "result3 = opt_cbc.solve(model1_lab4_ex3)\n",
        "print('Solver status:', result3.solver.status)\n",
        "print('Solver termination condition:',result3.solver.termination_condition)\n",
        "\n",
        "# display solution\n",
        "print('\\nObjective = ', model1_lab4_ex3.objective())\n",
        "\n",
        "print('\\nDecision Variables')\n",
        "for i in col_indices:\n",
        "  print(data_csvfile['Drone Model'][i],'=', model1_lab4_ex3.x[i].value)\n",
        "\n",
        "print('\\nConstraints')\n",
        "model1_lab4_ex3.constraints.display()"
      ]
    },
    {
      "cell_type": "markdown",
      "metadata": {
        "id": "B7gTC2gsbAAc"
      },
      "source": [
        "$Let \\;the\\; budget\\; be\\; 63\\; units\\; and\\; parking \\;space \\;be\\; 90 \\;units$"
      ]
    },
    {
      "cell_type": "markdown",
      "metadata": {
        "id": "MO59XTiAbFvU"
      },
      "source": [
        "$Solving\\; MILP$"
      ]
    },
    {
      "cell_type": "code",
      "execution_count": 47,
      "metadata": {
        "colab": {
          "base_uri": "https://localhost:8080/"
        },
        "id": "B0GeMNuja-0Y",
        "outputId": "14272ed5-1e96-4e68-f814-6bfac20be699"
      },
      "outputs": [
        {
          "name": "stdout",
          "output_type": "stream",
          "text": [
            "2 Set Declarations\n",
            "    constraints_index : Size=1, Index=None, Ordered=Insertion\n",
            "        Key  : Dimen : Domain : Size : Members\n",
            "        None :     1 :    Any :   10 : {1, 2, 3, 4, 5, 6, 7, 8, 9, 10}\n",
            "    x_index : Size=1, Index=None, Ordered=False\n",
            "        Key  : Dimen : Domain : Size : Members\n",
            "        None :     1 :    Any :    5 : {0, 1, 2, 3, 4}\n",
            "\n",
            "1 Var Declarations\n",
            "    x : Size=5, Index=x_index\n",
            "        Key : Lower : Value : Upper : Fixed : Stale : Domain\n",
            "          0 :     0 :   7.0 :  None : False : False : NonNegativeIntegers\n",
            "          1 :     0 :   3.0 :  None : False : False : NonNegativeIntegers\n",
            "          2 :     0 :   0.0 :  None : False : False : NonNegativeIntegers\n",
            "          3 :     0 :   0.0 :  None : False : False : NonNegativeIntegers\n",
            "          4 :     0 :   0.0 :  None : False : False : NonNegativeIntegers\n",
            "\n",
            "1 Objective Declarations\n",
            "    objective : Size=1, Index=None, Active=True\n",
            "        Key  : Active : Sense    : Expression\n",
            "        None :   True : maximize : 12*x[0] + 14*x[1] + 10*x[2] + 15*x[3] + 14*x[4]\n",
            "\n",
            "1 Constraint Declarations\n",
            "    constraints : Size=10, Index=constraints_index, Active=True\n",
            "        Key : Lower : Body                                                     : Upper : Active\n",
            "          1 :  -Inf :   6.0*x[0] + 7.5*x[1] + 9.5*x[2] + 10.0*x[3] + 12.5*x[4] :  59.0 :  False\n",
            "          2 :  -Inf : 4.25*x[0] + 3.25*x[1] + 2.5*x[2] + 3.45*x[3] + 2.25*x[4] :  73.0 :  False\n",
            "          3 :  -Inf :   6.0*x[0] + 7.5*x[1] + 9.5*x[2] + 10.0*x[3] + 12.5*x[4] :  71.0 :  False\n",
            "          4 :  -Inf : 4.25*x[0] + 3.25*x[1] + 2.5*x[2] + 3.45*x[3] + 2.25*x[4] :  87.0 :  False\n",
            "          5 :  -Inf :   6.0*x[0] + 7.5*x[1] + 9.5*x[2] + 10.0*x[3] + 12.5*x[4] :  67.0 :  False\n",
            "          6 :  -Inf : 4.25*x[0] + 3.25*x[1] + 2.5*x[2] + 3.45*x[3] + 2.25*x[4] :  88.0 :  False\n",
            "          7 :  -Inf :   6.0*x[0] + 7.5*x[1] + 9.5*x[2] + 10.0*x[3] + 12.5*x[4] :  65.0 :  False\n",
            "          8 :  -Inf : 4.25*x[0] + 3.25*x[1] + 2.5*x[2] + 3.45*x[3] + 2.25*x[4] :  89.0 :  False\n",
            "          9 :  -Inf :   6.0*x[0] + 7.5*x[1] + 9.5*x[2] + 10.0*x[3] + 12.5*x[4] :  63.0 :   True\n",
            "         10 :  -Inf : 4.25*x[0] + 3.25*x[1] + 2.5*x[2] + 3.45*x[3] + 2.25*x[4] :  90.0 :   True\n",
            "\n",
            "5 Declarations: x_index x objective constraints_index constraints\n"
          ]
        }
      ],
      "source": [
        "model1_lab4_ex3.constraints[7].deactivate()\n",
        "model1_lab4_ex3.constraints[8].deactivate()\n",
        "model1_lab4_ex3.constraints.add(summation(data_csvfile['Cost'], model1_lab4_ex3.x) <= 63)\n",
        "model1_lab4_ex3.constraints.add(summation(data_csvfile['Parking space'], model1_lab4_ex3.x) <= 90)\n",
        "model1_lab4_ex3.pprint()"
      ]
    },
    {
      "cell_type": "code",
      "execution_count": 48,
      "metadata": {
        "colab": {
          "base_uri": "https://localhost:8080/"
        },
        "id": "k9MZ3XwsbMus",
        "outputId": "d60ce4b0-711c-43f0-a721-c62cb3a4c222"
      },
      "outputs": [
        {
          "name": "stdout",
          "output_type": "stream",
          "text": [
            "Solver status: ok\n",
            "Solver termination condition: optimal\n",
            "\n",
            "Objective =  124.0\n",
            "\n",
            "Decision Variables\n",
            "MANAS = 8.0\n",
            "JAY = 2.0\n",
            "VEER = 0.0\n",
            "SPASHT = 0.0\n",
            "DHAKSH = 0.0\n",
            "\n",
            "Constraints\n",
            "constraints : Size=10\n",
            "    Key : Lower : Body : Upper\n",
            "      9 :  None : 63.0 :  63.0\n",
            "     10 :  None : 40.5 :  90.0\n"
          ]
        }
      ],
      "source": [
        "result3 = opt_cbc.solve(model1_lab4_ex3)\n",
        "print('Solver status:', result3.solver.status)\n",
        "print('Solver termination condition:',result3.solver.termination_condition)\n",
        "\n",
        "# display solution\n",
        "print('\\nObjective = ', model1_lab4_ex3.objective())\n",
        "\n",
        "print('\\nDecision Variables')\n",
        "for i in col_indices:\n",
        "  print(data_csvfile['Drone Model'][i],'=', model1_lab4_ex3.x[i].value)\n",
        "\n",
        "print('\\nConstraints')\n",
        "model1_lab4_ex3.constraints.display()"
      ]
    },
    {
      "cell_type": "markdown",
      "metadata": {
        "id": "lSAbcjGpbY2r"
      },
      "source": [
        "$Solving \\;LP$"
      ]
    },
    {
      "cell_type": "code",
      "execution_count": 49,
      "metadata": {
        "colab": {
          "base_uri": "https://localhost:8080/"
        },
        "id": "tccT6CZ9bW_h",
        "outputId": "1c280a39-a24d-4d2f-df0b-68722fe11b78"
      },
      "outputs": [
        {
          "name": "stdout",
          "output_type": "stream",
          "text": [
            "2 Set Declarations\n",
            "    constraints_index : Size=1, Index=None, Ordered=Insertion\n",
            "        Key  : Dimen : Domain : Size : Members\n",
            "        None :     1 :    Any :   10 : {1, 2, 3, 4, 5, 6, 7, 8, 9, 10}\n",
            "    x_index : Size=1, Index=None, Ordered=False\n",
            "        Key  : Dimen : Domain : Size : Members\n",
            "        None :     1 :    Any :    5 : {0, 1, 2, 3, 4}\n",
            "\n",
            "1 Var Declarations\n",
            "    x : Size=5, Index=x_index\n",
            "        Key : Lower : Value : Upper : Fixed : Stale : Domain\n",
            "          0 :     0 :   8.0 :  None : False : False : NonNegativeReals\n",
            "          1 :     0 :   2.0 :  None : False : False : NonNegativeReals\n",
            "          2 :     0 :   0.0 :  None : False : False : NonNegativeReals\n",
            "          3 :     0 :   0.0 :  None : False : False : NonNegativeReals\n",
            "          4 :     0 :   0.0 :  None : False : False : NonNegativeReals\n",
            "\n",
            "1 Objective Declarations\n",
            "    objective : Size=1, Index=None, Active=True\n",
            "        Key  : Active : Sense    : Expression\n",
            "        None :   True : maximize : 12*x[0] + 14*x[1] + 10*x[2] + 15*x[3] + 14*x[4]\n",
            "\n",
            "1 Constraint Declarations\n",
            "    constraints : Size=10, Index=constraints_index, Active=True\n",
            "        Key : Lower : Body                                                     : Upper : Active\n",
            "          1 :  -Inf :   6.0*x[0] + 7.5*x[1] + 9.5*x[2] + 10.0*x[3] + 12.5*x[4] :  59.0 :  False\n",
            "          2 :  -Inf : 4.25*x[0] + 3.25*x[1] + 2.5*x[2] + 3.45*x[3] + 2.25*x[4] :  73.0 :  False\n",
            "          3 :  -Inf :   6.0*x[0] + 7.5*x[1] + 9.5*x[2] + 10.0*x[3] + 12.5*x[4] :  71.0 :  False\n",
            "          4 :  -Inf : 4.25*x[0] + 3.25*x[1] + 2.5*x[2] + 3.45*x[3] + 2.25*x[4] :  87.0 :  False\n",
            "          5 :  -Inf :   6.0*x[0] + 7.5*x[1] + 9.5*x[2] + 10.0*x[3] + 12.5*x[4] :  67.0 :  False\n",
            "          6 :  -Inf : 4.25*x[0] + 3.25*x[1] + 2.5*x[2] + 3.45*x[3] + 2.25*x[4] :  88.0 :  False\n",
            "          7 :  -Inf :   6.0*x[0] + 7.5*x[1] + 9.5*x[2] + 10.0*x[3] + 12.5*x[4] :  65.0 :  False\n",
            "          8 :  -Inf : 4.25*x[0] + 3.25*x[1] + 2.5*x[2] + 3.45*x[3] + 2.25*x[4] :  89.0 :  False\n",
            "          9 :  -Inf :   6.0*x[0] + 7.5*x[1] + 9.5*x[2] + 10.0*x[3] + 12.5*x[4] :  63.0 :   True\n",
            "         10 :  -Inf : 4.25*x[0] + 3.25*x[1] + 2.5*x[2] + 3.45*x[3] + 2.25*x[4] :  90.0 :   True\n",
            "\n",
            "5 Declarations: x_index x objective constraints_index constraints\n"
          ]
        }
      ],
      "source": [
        "for i in col_indices:\n",
        "  model1_lab4_ex3.x[i].domain=NonNegativeReals\n",
        "\n",
        "model1_lab4_ex3.pprint()"
      ]
    },
    {
      "cell_type": "code",
      "execution_count": 50,
      "metadata": {
        "colab": {
          "base_uri": "https://localhost:8080/"
        },
        "id": "_846rZvwbg_N",
        "outputId": "0be16cd3-c792-4db7-b9b0-357c27a0b4b0"
      },
      "outputs": [
        {
          "name": "stdout",
          "output_type": "stream",
          "text": [
            "Solver status: ok\n",
            "Solver termination condition: optimal\n",
            "\n",
            "Objective =  126.0\n",
            "\n",
            "Decision Variables\n",
            "MANAS = 10.5\n",
            "JAY = 0.0\n",
            "VEER = 0.0\n",
            "SPASHT = 0.0\n",
            "DHAKSH = 0.0\n",
            "\n",
            "Constraints\n",
            "constraints : Size=10\n",
            "    Key : Lower : Body   : Upper\n",
            "      9 :  None :   63.0 :  63.0\n",
            "     10 :  None : 44.625 :  90.0\n"
          ]
        }
      ],
      "source": [
        "result3 = opt_cbc.solve(model1_lab4_ex3)\n",
        "print('Solver status:', result3.solver.status)\n",
        "print('Solver termination condition:',result3.solver.termination_condition)\n",
        "\n",
        "# display solution\n",
        "print('\\nObjective = ', model1_lab4_ex3.objective())\n",
        "\n",
        "print('\\nDecision Variables')\n",
        "for i in col_indices:\n",
        "  print(data_csvfile['Drone Model'][i],'=', model1_lab4_ex3.x[i].value)\n",
        "\n",
        "print('\\nConstraints')\n",
        "model1_lab4_ex3.constraints.display()"
      ]
    },
    {
      "cell_type": "markdown",
      "metadata": {
        "id": "exjlc2PfbxKH"
      },
      "source": [
        "$Let \\;the\\; budget\\; be\\; 61\\; units\\; and\\; parking \\;space \\;be\\; 91 \\;units$"
      ]
    },
    {
      "cell_type": "markdown",
      "metadata": {
        "id": "baKXgUQsb09N"
      },
      "source": [
        "$Solving \\;LP$"
      ]
    },
    {
      "cell_type": "code",
      "execution_count": 51,
      "metadata": {
        "colab": {
          "base_uri": "https://localhost:8080/"
        },
        "id": "o3n00t4mbiA6",
        "outputId": "5f9312cd-1d5c-4533-d152-2505321ffbab"
      },
      "outputs": [
        {
          "name": "stdout",
          "output_type": "stream",
          "text": [
            "2 Set Declarations\n",
            "    constraints_index : Size=1, Index=None, Ordered=Insertion\n",
            "        Key  : Dimen : Domain : Size : Members\n",
            "        None :     1 :    Any :   12 : {1, 2, 3, 4, 5, 6, 7, 8, 9, 10, 11, 12}\n",
            "    x_index : Size=1, Index=None, Ordered=False\n",
            "        Key  : Dimen : Domain : Size : Members\n",
            "        None :     1 :    Any :    5 : {0, 1, 2, 3, 4}\n",
            "\n",
            "1 Var Declarations\n",
            "    x : Size=5, Index=x_index\n",
            "        Key : Lower : Value : Upper : Fixed : Stale : Domain\n",
            "          0 :     0 :  10.5 :  None : False : False : NonNegativeReals\n",
            "          1 :     0 :   0.0 :  None : False : False : NonNegativeReals\n",
            "          2 :     0 :   0.0 :  None : False : False : NonNegativeReals\n",
            "          3 :     0 :   0.0 :  None : False : False : NonNegativeReals\n",
            "          4 :     0 :   0.0 :  None : False : False : NonNegativeReals\n",
            "\n",
            "1 Objective Declarations\n",
            "    objective : Size=1, Index=None, Active=True\n",
            "        Key  : Active : Sense    : Expression\n",
            "        None :   True : maximize : 12*x[0] + 14*x[1] + 10*x[2] + 15*x[3] + 14*x[4]\n",
            "\n",
            "1 Constraint Declarations\n",
            "    constraints : Size=12, Index=constraints_index, Active=True\n",
            "        Key : Lower : Body                                                     : Upper : Active\n",
            "          1 :  -Inf :   6.0*x[0] + 7.5*x[1] + 9.5*x[2] + 10.0*x[3] + 12.5*x[4] :  59.0 :  False\n",
            "          2 :  -Inf : 4.25*x[0] + 3.25*x[1] + 2.5*x[2] + 3.45*x[3] + 2.25*x[4] :  73.0 :  False\n",
            "          3 :  -Inf :   6.0*x[0] + 7.5*x[1] + 9.5*x[2] + 10.0*x[3] + 12.5*x[4] :  71.0 :  False\n",
            "          4 :  -Inf : 4.25*x[0] + 3.25*x[1] + 2.5*x[2] + 3.45*x[3] + 2.25*x[4] :  87.0 :  False\n",
            "          5 :  -Inf :   6.0*x[0] + 7.5*x[1] + 9.5*x[2] + 10.0*x[3] + 12.5*x[4] :  67.0 :  False\n",
            "          6 :  -Inf : 4.25*x[0] + 3.25*x[1] + 2.5*x[2] + 3.45*x[3] + 2.25*x[4] :  88.0 :  False\n",
            "          7 :  -Inf :   6.0*x[0] + 7.5*x[1] + 9.5*x[2] + 10.0*x[3] + 12.5*x[4] :  65.0 :  False\n",
            "          8 :  -Inf : 4.25*x[0] + 3.25*x[1] + 2.5*x[2] + 3.45*x[3] + 2.25*x[4] :  89.0 :  False\n",
            "          9 :  -Inf :   6.0*x[0] + 7.5*x[1] + 9.5*x[2] + 10.0*x[3] + 12.5*x[4] :  63.0 :  False\n",
            "         10 :  -Inf : 4.25*x[0] + 3.25*x[1] + 2.5*x[2] + 3.45*x[3] + 2.25*x[4] :  90.0 :  False\n",
            "         11 :  -Inf :   6.0*x[0] + 7.5*x[1] + 9.5*x[2] + 10.0*x[3] + 12.5*x[4] :  61.0 :   True\n",
            "         12 :  -Inf : 4.25*x[0] + 3.25*x[1] + 2.5*x[2] + 3.45*x[3] + 2.25*x[4] :  91.0 :   True\n",
            "\n",
            "5 Declarations: x_index x objective constraints_index constraints\n"
          ]
        }
      ],
      "source": [
        "model1_lab4_ex3.constraints[9].deactivate()\n",
        "model1_lab4_ex3.constraints[10].deactivate()\n",
        "model1_lab4_ex3.constraints.add(summation(data_csvfile['Cost'], model1_lab4_ex3.x) <= 61)\n",
        "model1_lab4_ex3.constraints.add(summation(data_csvfile['Parking space'], model1_lab4_ex3.x) <= 91)\n",
        "model1_lab4_ex3.pprint()"
      ]
    },
    {
      "cell_type": "code",
      "execution_count": 52,
      "metadata": {
        "colab": {
          "base_uri": "https://localhost:8080/"
        },
        "id": "RK7IT0awbpSk",
        "outputId": "34f58225-fba0-4f11-e530-4459f178f671"
      },
      "outputs": [
        {
          "name": "stdout",
          "output_type": "stream",
          "text": [
            "Solver status: ok\n",
            "Solver termination condition: optimal\n",
            "\n",
            "Objective =  122.000004\n",
            "\n",
            "Decision Variables\n",
            "MANAS = 10.166667\n",
            "JAY = 0.0\n",
            "VEER = 0.0\n",
            "SPASHT = 0.0\n",
            "DHAKSH = 0.0\n",
            "\n",
            "Constraints\n",
            "constraints : Size=12\n",
            "    Key : Lower : Body        : Upper\n",
            "     11 :  None :   61.000002 :  61.0\n",
            "     12 :  None : 43.20833475 :  91.0\n"
          ]
        }
      ],
      "source": [
        "result3 = opt_cbc.solve(model1_lab4_ex3)\n",
        "print('Solver status:', result3.solver.status)\n",
        "print('Solver termination condition:',result3.solver.termination_condition)\n",
        "\n",
        "# display solution\n",
        "print('\\nObjective = ', model1_lab4_ex3.objective())\n",
        "\n",
        "print('\\nDecision Variables')\n",
        "for i in col_indices:\n",
        "  print(data_csvfile['Drone Model'][i], '=',model1_lab4_ex3.x[i].value)\n",
        "\n",
        "print('\\nConstraints')\n",
        "model1_lab4_ex3.constraints.display()"
      ]
    },
    {
      "cell_type": "markdown",
      "metadata": {
        "id": "3Zjiiyfsb_8W"
      },
      "source": [
        "$Solving\\; MILP$"
      ]
    },
    {
      "cell_type": "code",
      "execution_count": 53,
      "metadata": {
        "colab": {
          "base_uri": "https://localhost:8080/"
        },
        "id": "p4QaOxbobgp1",
        "outputId": "193ac857-bd86-44db-d9fe-9e25fafe02f7"
      },
      "outputs": [
        {
          "name": "stdout",
          "output_type": "stream",
          "text": [
            "2 Set Declarations\n",
            "    constraints_index : Size=1, Index=None, Ordered=Insertion\n",
            "        Key  : Dimen : Domain : Size : Members\n",
            "        None :     1 :    Any :   12 : {1, 2, 3, 4, 5, 6, 7, 8, 9, 10, 11, 12}\n",
            "    x_index : Size=1, Index=None, Ordered=False\n",
            "        Key  : Dimen : Domain : Size : Members\n",
            "        None :     1 :    Any :    5 : {0, 1, 2, 3, 4}\n",
            "\n",
            "1 Var Declarations\n",
            "    x : Size=5, Index=x_index\n",
            "        Key : Lower : Value     : Upper : Fixed : Stale : Domain\n",
            "          0 :     0 : 10.166667 :  None : False : False : NonNegativeIntegers\n",
            "          1 :     0 :       0.0 :  None : False : False : NonNegativeIntegers\n",
            "          2 :     0 :       0.0 :  None : False : False : NonNegativeIntegers\n",
            "          3 :     0 :       0.0 :  None : False : False : NonNegativeIntegers\n",
            "          4 :     0 :       0.0 :  None : False : False : NonNegativeIntegers\n",
            "\n",
            "1 Objective Declarations\n",
            "    objective : Size=1, Index=None, Active=True\n",
            "        Key  : Active : Sense    : Expression\n",
            "        None :   True : maximize : 12*x[0] + 14*x[1] + 10*x[2] + 15*x[3] + 14*x[4]\n",
            "\n",
            "1 Constraint Declarations\n",
            "    constraints : Size=12, Index=constraints_index, Active=True\n",
            "        Key : Lower : Body                                                     : Upper : Active\n",
            "          1 :  -Inf :   6.0*x[0] + 7.5*x[1] + 9.5*x[2] + 10.0*x[3] + 12.5*x[4] :  59.0 :  False\n",
            "          2 :  -Inf : 4.25*x[0] + 3.25*x[1] + 2.5*x[2] + 3.45*x[3] + 2.25*x[4] :  73.0 :  False\n",
            "          3 :  -Inf :   6.0*x[0] + 7.5*x[1] + 9.5*x[2] + 10.0*x[3] + 12.5*x[4] :  71.0 :  False\n",
            "          4 :  -Inf : 4.25*x[0] + 3.25*x[1] + 2.5*x[2] + 3.45*x[3] + 2.25*x[4] :  87.0 :  False\n",
            "          5 :  -Inf :   6.0*x[0] + 7.5*x[1] + 9.5*x[2] + 10.0*x[3] + 12.5*x[4] :  67.0 :  False\n",
            "          6 :  -Inf : 4.25*x[0] + 3.25*x[1] + 2.5*x[2] + 3.45*x[3] + 2.25*x[4] :  88.0 :  False\n",
            "          7 :  -Inf :   6.0*x[0] + 7.5*x[1] + 9.5*x[2] + 10.0*x[3] + 12.5*x[4] :  65.0 :  False\n",
            "          8 :  -Inf : 4.25*x[0] + 3.25*x[1] + 2.5*x[2] + 3.45*x[3] + 2.25*x[4] :  89.0 :  False\n",
            "          9 :  -Inf :   6.0*x[0] + 7.5*x[1] + 9.5*x[2] + 10.0*x[3] + 12.5*x[4] :  63.0 :  False\n",
            "         10 :  -Inf : 4.25*x[0] + 3.25*x[1] + 2.5*x[2] + 3.45*x[3] + 2.25*x[4] :  90.0 :  False\n",
            "         11 :  -Inf :   6.0*x[0] + 7.5*x[1] + 9.5*x[2] + 10.0*x[3] + 12.5*x[4] :  61.0 :   True\n",
            "         12 :  -Inf : 4.25*x[0] + 3.25*x[1] + 2.5*x[2] + 3.45*x[3] + 2.25*x[4] :  91.0 :   True\n",
            "\n",
            "5 Declarations: x_index x objective constraints_index constraints\n"
          ]
        }
      ],
      "source": [
        "for i in col_indices:\n",
        "  model1_lab4_ex3.x[i].domain=NonNegativeIntegers\n",
        "\n",
        "model1_lab4_ex3.pprint()"
      ]
    },
    {
      "cell_type": "code",
      "execution_count": 54,
      "metadata": {
        "colab": {
          "base_uri": "https://localhost:8080/"
        },
        "id": "3_AAUHwpcUbg",
        "outputId": "48757a25-03f1-4e1b-8ab3-43cd8abf5f91"
      },
      "outputs": [
        {
          "name": "stdout",
          "output_type": "stream",
          "text": [
            "Solver status: ok\n",
            "Solver termination condition: optimal\n",
            "\n",
            "Objective =  120.0\n",
            "\n",
            "Decision Variables\n",
            "MANAS = 10.0\n",
            "JAY = 0.0\n",
            "VEER = 0.0\n",
            "SPASHT = 0.0\n",
            "DHAKSH = 0.0\n",
            "\n",
            "Constraints\n",
            "constraints : Size=12\n",
            "    Key : Lower : Body : Upper\n",
            "     11 :  None : 60.0 :  61.0\n",
            "     12 :  None : 42.5 :  91.0\n"
          ]
        }
      ],
      "source": [
        "result3 = opt_cbc.solve(model1_lab4_ex3)\n",
        "print('Solver status:', result3.solver.status)\n",
        "print('Solver termination condition:',result3.solver.termination_condition)\n",
        "\n",
        "# display solution\n",
        "print('\\nObjective = ', model1_lab4_ex3.objective())\n",
        "\n",
        "print('\\nDecision Variables')\n",
        "for i in col_indices:\n",
        "  print(data_csvfile['Drone Model'][i],'=', model1_lab4_ex3.x[i].value)\n",
        "\n",
        "print('\\nConstraints')\n",
        "model1_lab4_ex3.constraints.display()"
      ]
    },
    {
      "cell_type": "markdown",
      "metadata": {
        "id": "hdwZuy8Mcv0-"
      },
      "source": [
        "$The\\; optimal\\; value\\; decreases \\;as\\; we\\; move\\; from\\; pair\\; 1\\; to\\; pair\\; 4,\\; because\\; we\\; are\\; decreasing \\;the\\; budget. \\;And \\;as\\; we\\; can \\;see\\; that\\; the\\; parking\\; space \\;constraint \\;is \\;not \\;active\\; any \\;case. \\;So, \\;the\\; decrease\\; in\\; parking\\; space\\; is\\; not\\; of \\;concern.\\;Hence,\\; the\\; decrease\\; in\\; budget \\;is\\; causing\\; decrease \\;in \\;optimal\\; value.$"
      ]
    }
  ],
  "metadata": {
    "colab": {
      "collapsed_sections": [],
      "name": "21i190007_IE507_Lab4_Ex3.ipynb",
      "provenance": []
    },
    "kernelspec": {
      "display_name": "Python 3",
      "name": "python3"
    },
    "language_info": {
      "name": "python"
    }
  },
  "nbformat": 4,
  "nbformat_minor": 0
}
