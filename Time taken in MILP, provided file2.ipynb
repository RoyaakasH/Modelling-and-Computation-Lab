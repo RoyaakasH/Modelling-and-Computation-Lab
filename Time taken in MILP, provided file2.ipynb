{
  "cells": [
    {
      "cell_type": "markdown",
      "metadata": {
        "id": "jwwr2lKkliuB"
      },
      "source": [
        "$$Exercise:\\;2$$"
      ]
    },
    {
      "cell_type": "code",
      "execution_count": 75,
      "metadata": {
        "id": "NhriDgkBh6bL"
      },
      "outputs": [],
      "source": [
        "!pip install -q pyomo"
      ]
    },
    {
      "cell_type": "code",
      "execution_count": 76,
      "metadata": {
        "id": "-5avJ4SGiVOL"
      },
      "outputs": [],
      "source": [
        "from pyomo.environ import * "
      ]
    },
    {
      "cell_type": "code",
      "execution_count": 77,
      "metadata": {
        "id": "4KuOn9LniW_a"
      },
      "outputs": [],
      "source": [
        "import numpy as np"
      ]
    },
    {
      "cell_type": "markdown",
      "metadata": {
        "id": "F4QYQ0PuiblH"
      },
      "source": [
        "$In\\; this\\; exercise,\\; the \\;given\\; MILP\\; is :$ \\\\\n",
        " $  max  \\sum_{j=1}^{n}c_jx_j \\\\\n",
        " s.t.\\sum_{j=1}^{n}a_{ij}x_j \\leq b_i ,\\  i= 1,2,...,m \\\\ x_j \\in \\{0,1\\} , j=1,2,...,n $"
      ]
    },
    {
      "cell_type": "markdown",
      "metadata": {
        "id": "lfP_M1sikt3K"
      },
      "source": [
        "$And \\;the\\; given\\; LP\\;relaxation \\;is :$ \\\\\n",
        "$  max  \\sum_{j=1}^{n}c_jx_j \\\\\n",
        " s.t.\\sum_{j=1}^{n}a_{ij}x_j \\leq b_i ,\\  i= 1,2,...,m \\\\ 0 \\leq x_j \\leq 1 , j=1,2,...,n $"
      ]
    },
    {
      "cell_type": "markdown",
      "metadata": {
        "id": "PK_vyQBrmW-Y"
      },
      "source": [
        "$$Q-2$$"
      ]
    },
    {
      "cell_type": "code",
      "execution_count": 78,
      "metadata": {
        "id": "PPqkRzlMk2EP"
      },
      "outputs": [],
      "source": [
        "coef = np.loadtxt('file2.txt',delimiter=',')"
      ]
    },
    {
      "cell_type": "code",
      "execution_count": 79,
      "metadata": {
        "colab": {
          "base_uri": "https://localhost:8080/"
        },
        "id": "DK-kSnRNiYnf",
        "outputId": "32dc5851-6dda-44ff-8fc1-6886ec25dcee"
      },
      "outputs": [
        {
          "name": "stdout",
          "output_type": "stream",
          "text": [
            "(6, 501)\n",
            "Num of rows: 6\n",
            "Num of cols: 501\n"
          ]
        }
      ],
      "source": [
        "print(coef.shape)\n",
        "print('Num of rows:',coef.shape[0])\n",
        "print('Num of cols:',coef.shape[1])"
      ]
    },
    {
      "cell_type": "code",
      "execution_count": 80,
      "metadata": {
        "colab": {
          "base_uri": "https://localhost:8080/"
        },
        "id": "u7aKuudAoJAF",
        "outputId": "c4eb5a08-ad16-4b91-f401-9cd3895ac448"
      },
      "outputs": [
        {
          "name": "stdout",
          "output_type": "stream",
          "text": [
            "[[8.01000e+02 9.56000e+02 5.12000e+02 ... 1.07800e+03 9.48000e+02\n",
            "  0.00000e+00]\n",
            " [7.02000e+02 8.40000e+02 5.13000e+02 ... 7.07000e+02 6.25000e+02\n",
            "  1.73725e+05]\n",
            " [2.46000e+02 9.94000e+02 9.38000e+02 ... 4.23000e+02 6.91000e+02\n",
            "  1.90019e+05]\n",
            " [7.99000e+02 2.28000e+02 1.00000e+01 ... 2.31000e+02 4.40000e+02\n",
            "  1.86926e+05]\n",
            " [4.63000e+02 6.54000e+02 1.67000e+02 ... 7.11000e+02 6.78000e+02\n",
            "  1.92737e+05]\n",
            " [2.52000e+02 7.35000e+02 5.86000e+02 ... 9.47000e+02 7.98000e+02\n",
            "  1.83645e+05]]\n"
          ]
        }
      ],
      "source": [
        "print(coef)"
      ]
    },
    {
      "cell_type": "markdown",
      "metadata": {
        "id": "aTi3gw5bmfGf"
      },
      "source": [
        "$$Q-3$$"
      ]
    },
    {
      "cell_type": "code",
      "execution_count": 81,
      "metadata": {
        "id": "i_EesMPooKmb"
      },
      "outputs": [],
      "source": [
        "model_ex2 = ConcreteModel()"
      ]
    },
    {
      "cell_type": "code",
      "execution_count": 82,
      "metadata": {
        "id": "mQdAZ9p9prsU"
      },
      "outputs": [],
      "source": [
        "# for number of variables:\n",
        "N = coef.shape[1]-1"
      ]
    },
    {
      "cell_type": "code",
      "execution_count": 83,
      "metadata": {
        "id": "7ZOxdzfxp2jb"
      },
      "outputs": [],
      "source": [
        "#no. of constraints:\n",
        "M = coef.shape[0]-1"
      ]
    },
    {
      "cell_type": "code",
      "execution_count": 84,
      "metadata": {
        "colab": {
          "base_uri": "https://localhost:8080/"
        },
        "id": "82qYMa6mq8k0",
        "outputId": "1c2ac01c-b388-40f3-cf51-8ae2917a0a96"
      },
      "outputs": [
        {
          "name": "stdout",
          "output_type": "stream",
          "text": [
            "(500,)\n",
            "[ 801.  956.  512.  823.  740.  752.  936.  536.  851.  399.  515.  660.\n",
            "  523.  229.  637.  609.  663.  561.  516.  709. 1060.  405.  564.  692.\n",
            "  524.  992.  745.  860.  638.  801.  777.  757.  722.  785.  321.  943.\n",
            "  469.  541.  673.  716.  686. 1188.  969.  804.  728.  790.  741.  790.\n",
            "  545.  591. 1091.  707.  475.  808.  750.  707.  556.  573.  562. 1057.\n",
            "  750.  919.  511.  440.  638.  865.  588.  891.  731.  548.  437. 1015.\n",
            "  878. 1017.  824.  993.  905.  600.  664.  890.  732.  696.  703.  348.\n",
            "  690.  392. 1090. 1170.  799. 1191.  561.  840.  555.  918.  698.  687.\n",
            "  735.  572.  926.  599.  469.  486.  973.  676.  817.  504.  388.  685.\n",
            "  596.  878.  426.  862.  695.  542.  746.  694.  885.  524.  694.  935.\n",
            "  715.  810.  978.  443.  318.  621.  805.  511. 1279.  832.  974.  737.\n",
            "  857.  756.  595.  830.  526.  968.  974. 1279.  770.  980.  435.  881.\n",
            "  858.  964.  454. 1068.  956.  874.  872.  623.  609.  623.  649.  620.\n",
            "  850.  522.  999.  959.  593.  624.  488.  386.  835.  741. 1045.  815.\n",
            "  809.  860.  472.  949.  972.  874.  951.  568.  890.  633.  622.  509.\n",
            "  788.  496. 1004.  562.  700.  637.  666.  340.  658.  832.  778.  616.\n",
            "  643.  521.  505.  900.  543.  873.  763.  890.  776.  752.  718.  366.\n",
            "  566.  802.  304.  470.  543.  847.  827.  821.  644. 1012.  845.  702.\n",
            "  624.  942.  963.  510.  428.  710.  986.  663.  928.  541.  933. 1095.\n",
            "  699.  756.  733.  632.  732. 1073.  552.  913.  514. 1011.  772.  597.\n",
            "  652.  863.  534.  658.  695.  757.  977.  647.  746. 1032.  391.  665.\n",
            "  923.  570. 1147.  658.  798.  604. 1114. 1254.  790.  646.  961.  607.\n",
            "  825.  506.  936.  466.  672.  767.  481.  617.  863.  506.  748.  676.\n",
            "  709.  601.  829.  787.  430.  855.  802.  688.  780. 1010.  515.  871.\n",
            "  880.  630. 1235.  679.  672.  806.  927.  775.  932.  924.  515.  665.\n",
            "  570.  596.  576.  463.  270.  509.  688.  578.  901.  653.  764.  893.\n",
            "  688.  679.  642.  737.  251.  491.  996.  796.  768.  625.  528.  771.\n",
            "  592.  530.  742.  740.  391.  936. 1023.  822.  462.  782.  737.  430.\n",
            "  675.  576.  440.  339.  619.  951.  676. 1193.  811.  985.  876.  679.\n",
            "  661.  912.  742.  850.  798.  826.  409.  941.  804.  680.  474.  605.\n",
            "  826.  845. 1053.  745.  689.  711.  771.  991.  732.  795.  931.  909.\n",
            "  724.  851. 1064.  495.  917.  791.  561.  779.  802. 1028. 1153. 1063.\n",
            " 1115.  562.  515.  443.  524.  649.  650.  695.  860.  707.  499.  936.\n",
            "  660.  407.  614.  902.  854.  861.  962.  738.  388.  747.  587.  780.\n",
            "  785. 1084.  604.  736.  830.  754.  561.  504.  632.  603.  855. 1176.\n",
            "  773.  777.  953.  407. 1064.  756. 1046.  779.  881.  721.  605.  724.\n",
            " 1083.  730.  756.  768.  860.  439.  760.  721.  613.  316.  714.  972.\n",
            "  807.  432.  580.  650.  613.  881.  496.  697.  318.  749.  883.  640.\n",
            "  361.  774.  577.  659.  822.  844.  826.  828.  590.  826. 1024.  310.\n",
            "  899.  496.  402.  597.  644.  706.  690.  547.  701.  761.  634.  921.\n",
            "  557.  578.  883.  916.  689.  478.  417.  805.  656.  806.  713.  322.\n",
            "  896.  949.  833.  953.  703.  859. 1078.  948.]\n"
          ]
        }
      ],
      "source": [
        "# Accessing coefficients. for obj. function:\n",
        "obj_coef = coef[0,:-1]\n",
        "print(obj_coef.shape)\n",
        "print(obj_coef)"
      ]
    },
    {
      "cell_type": "code",
      "execution_count": 85,
      "metadata": {
        "colab": {
          "base_uri": "https://localhost:8080/"
        },
        "id": "ZH2ASawJrUNk",
        "outputId": "68c1bc8d-2bc9-40b9-8e49-c00e68f16c64"
      },
      "outputs": [
        {
          "name": "stdout",
          "output_type": "stream",
          "text": [
            "(5, 500)\n"
          ]
        }
      ],
      "source": [
        "#segregating the coefficients into separate array:\n",
        "constr_coef = coef[1:,:-1]\n",
        "print(constr_coef.shape)"
      ]
    },
    {
      "cell_type": "code",
      "execution_count": 86,
      "metadata": {
        "colab": {
          "base_uri": "https://localhost:8080/"
        },
        "id": "A2Vtr7fttg1D",
        "outputId": "a26454a8-13e0-4723-e7a2-39baf48577e5"
      },
      "outputs": [
        {
          "name": "stdout",
          "output_type": "stream",
          "text": [
            "(5,)\n",
            "[173725. 190019. 186926. 192737. 183645.]\n"
          ]
        }
      ],
      "source": [
        "#RHS of constraints:\n",
        "constr_rhs = coef[1:,-1]\n",
        "print(constr_rhs.shape)\n",
        "print(constr_rhs)"
      ]
    },
    {
      "cell_type": "code",
      "execution_count": 87,
      "metadata": {
        "colab": {
          "base_uri": "https://localhost:8080/"
        },
        "id": "9QbF6O6yt6Oy",
        "outputId": "166c5559-8902-40a1-b284-fee3ae8ff7d3"
      },
      "outputs": [
        {
          "name": "stdout",
          "output_type": "stream",
          "text": [
            "[  0   1   2   3   4   5   6   7   8   9  10  11  12  13  14  15  16  17\n",
            "  18  19  20  21  22  23  24  25  26  27  28  29  30  31  32  33  34  35\n",
            "  36  37  38  39  40  41  42  43  44  45  46  47  48  49  50  51  52  53\n",
            "  54  55  56  57  58  59  60  61  62  63  64  65  66  67  68  69  70  71\n",
            "  72  73  74  75  76  77  78  79  80  81  82  83  84  85  86  87  88  89\n",
            "  90  91  92  93  94  95  96  97  98  99 100 101 102 103 104 105 106 107\n",
            " 108 109 110 111 112 113 114 115 116 117 118 119 120 121 122 123 124 125\n",
            " 126 127 128 129 130 131 132 133 134 135 136 137 138 139 140 141 142 143\n",
            " 144 145 146 147 148 149 150 151 152 153 154 155 156 157 158 159 160 161\n",
            " 162 163 164 165 166 167 168 169 170 171 172 173 174 175 176 177 178 179\n",
            " 180 181 182 183 184 185 186 187 188 189 190 191 192 193 194 195 196 197\n",
            " 198 199 200 201 202 203 204 205 206 207 208 209 210 211 212 213 214 215\n",
            " 216 217 218 219 220 221 222 223 224 225 226 227 228 229 230 231 232 233\n",
            " 234 235 236 237 238 239 240 241 242 243 244 245 246 247 248 249 250 251\n",
            " 252 253 254 255 256 257 258 259 260 261 262 263 264 265 266 267 268 269\n",
            " 270 271 272 273 274 275 276 277 278 279 280 281 282 283 284 285 286 287\n",
            " 288 289 290 291 292 293 294 295 296 297 298 299 300 301 302 303 304 305\n",
            " 306 307 308 309 310 311 312 313 314 315 316 317 318 319 320 321 322 323\n",
            " 324 325 326 327 328 329 330 331 332 333 334 335 336 337 338 339 340 341\n",
            " 342 343 344 345 346 347 348 349 350 351 352 353 354 355 356 357 358 359\n",
            " 360 361 362 363 364 365 366 367 368 369 370 371 372 373 374 375 376 377\n",
            " 378 379 380 381 382 383 384 385 386 387 388 389 390 391 392 393 394 395\n",
            " 396 397 398 399 400 401 402 403 404 405 406 407 408 409 410 411 412 413\n",
            " 414 415 416 417 418 419 420 421 422 423 424 425 426 427 428 429 430 431\n",
            " 432 433 434 435 436 437 438 439 440 441 442 443 444 445 446 447 448 449\n",
            " 450 451 452 453 454 455 456 457 458 459 460 461 462 463 464 465 466 467\n",
            " 468 469 470 471 472 473 474 475 476 477 478 479 480 481 482 483 484 485\n",
            " 486 487 488 489 490 491 492 493 494 495 496 497 498 499]\n"
          ]
        }
      ],
      "source": [
        "#set of column indices\n",
        "col_indices = np.arange(N)\n",
        "print(col_indices)"
      ]
    },
    {
      "cell_type": "code",
      "execution_count": 88,
      "metadata": {
        "id": "uYztnD_buous"
      },
      "outputs": [],
      "source": [
        "#declaring decision variables:\n",
        "model_ex2.x = Var(col_indices, domain = Binary)\n",
        "# we have taken binary variables, as per the MILP"
      ]
    },
    {
      "cell_type": "code",
      "execution_count": 89,
      "metadata": {
        "colab": {
          "base_uri": "https://localhost:8080/"
        },
        "id": "r8WSbIQuvCuO",
        "outputId": "96088917-7279-4bfc-8175-01b1c01305f8"
      },
      "outputs": [
        {
          "name": "stdout",
          "output_type": "stream",
          "text": [
            "[0 1 2 3 4]\n"
          ]
        }
      ],
      "source": [
        "#set of row indices:\n",
        "row_indices = np.arange(M)\n",
        "print(row_indices)"
      ]
    },
    {
      "cell_type": "code",
      "execution_count": 90,
      "metadata": {
        "id": "VmUFyO83vVSs"
      },
      "outputs": [],
      "source": [
        "#creating constraint list:\n",
        "model_ex2.constraints = ConstraintList()"
      ]
    },
    {
      "cell_type": "code",
      "execution_count": 91,
      "metadata": {
        "id": "BFq6a0jMvjF9"
      },
      "outputs": [],
      "source": [
        "for i in row_indices :\n",
        "  model_ex2.constraints.add(summation(constr_coef[i],model_ex2.x) <= constr_rhs[i])"
      ]
    },
    {
      "cell_type": "code",
      "execution_count": 92,
      "metadata": {
        "id": "9KGZlo37v7n8"
      },
      "outputs": [],
      "source": [
        "#adding model objective:\n",
        "model_ex2.objective = Objective(expr = summation(obj_coef,model_ex2.x),sense = maximize)"
      ]
    },
    {
      "cell_type": "code",
      "execution_count": 93,
      "metadata": {
        "colab": {
          "base_uri": "https://localhost:8080/"
        },
        "id": "4bV42RmuwIiK",
        "outputId": "aa93959c-de6f-47d4-9a60-c9ed48e7c04a"
      },
      "outputs": [
        {
          "name": "stdout",
          "output_type": "stream",
          "text": [
            "2 Set Declarations\n",
            "    constraints_index : Size=1, Index=None, Ordered=Insertion\n",
            "        Key  : Dimen : Domain : Size : Members\n",
            "        None :     1 :    Any :    5 : {1, 2, 3, 4, 5}\n",
            "    x_index : Size=1, Index=None, Ordered=False\n",
            "        Key  : Dimen : Domain : Size : Members\n",
            "        None :     1 :    Any :  500 : {0, 1, 2, 3, 4, 5, 6, 7, 8, 9, 10, 11, 12, 13, 14, 15, 16, 17, 18, 19, 20, 21, 22, 23, 24, 25, 26, 27, 28, 29, 30, 31, 32, 33, 34, 35, 36, 37, 38, 39, 40, 41, 42, 43, 44, 45, 46, 47, 48, 49, 50, 51, 52, 53, 54, 55, 56, 57, 58, 59, 60, 61, 62, 63, 64, 65, 66, 67, 68, 69, 70, 71, 72, 73, 74, 75, 76, 77, 78, 79, 80, 81, 82, 83, 84, 85, 86, 87, 88, 89, 90, 91, 92, 93, 94, 95, 96, 97, 98, 99, 100, 101, 102, 103, 104, 105, 106, 107, 108, 109, 110, 111, 112, 113, 114, 115, 116, 117, 118, 119, 120, 121, 122, 123, 124, 125, 126, 127, 128, 129, 130, 131, 132, 133, 134, 135, 136, 137, 138, 139, 140, 141, 142, 143, 144, 145, 146, 147, 148, 149, 150, 151, 152, 153, 154, 155, 156, 157, 158, 159, 160, 161, 162, 163, 164, 165, 166, 167, 168, 169, 170, 171, 172, 173, 174, 175, 176, 177, 178, 179, 180, 181, 182, 183, 184, 185, 186, 187, 188, 189, 190, 191, 192, 193, 194, 195, 196, 197, 198, 199, 200, 201, 202, 203, 204, 205, 206, 207, 208, 209, 210, 211, 212, 213, 214, 215, 216, 217, 218, 219, 220, 221, 222, 223, 224, 225, 226, 227, 228, 229, 230, 231, 232, 233, 234, 235, 236, 237, 238, 239, 240, 241, 242, 243, 244, 245, 246, 247, 248, 249, 250, 251, 252, 253, 254, 255, 256, 257, 258, 259, 260, 261, 262, 263, 264, 265, 266, 267, 268, 269, 270, 271, 272, 273, 274, 275, 276, 277, 278, 279, 280, 281, 282, 283, 284, 285, 286, 287, 288, 289, 290, 291, 292, 293, 294, 295, 296, 297, 298, 299, 300, 301, 302, 303, 304, 305, 306, 307, 308, 309, 310, 311, 312, 313, 314, 315, 316, 317, 318, 319, 320, 321, 322, 323, 324, 325, 326, 327, 328, 329, 330, 331, 332, 333, 334, 335, 336, 337, 338, 339, 340, 341, 342, 343, 344, 345, 346, 347, 348, 349, 350, 351, 352, 353, 354, 355, 356, 357, 358, 359, 360, 361, 362, 363, 364, 365, 366, 367, 368, 369, 370, 371, 372, 373, 374, 375, 376, 377, 378, 379, 380, 381, 382, 383, 384, 385, 386, 387, 388, 389, 390, 391, 392, 393, 394, 395, 396, 397, 398, 399, 400, 401, 402, 403, 404, 405, 406, 407, 408, 409, 410, 411, 412, 413, 414, 415, 416, 417, 418, 419, 420, 421, 422, 423, 424, 425, 426, 427, 428, 429, 430, 431, 432, 433, 434, 435, 436, 437, 438, 439, 440, 441, 442, 443, 444, 445, 446, 447, 448, 449, 450, 451, 452, 453, 454, 455, 456, 457, 458, 459, 460, 461, 462, 463, 464, 465, 466, 467, 468, 469, 470, 471, 472, 473, 474, 475, 476, 477, 478, 479, 480, 481, 482, 483, 484, 485, 486, 487, 488, 489, 490, 491, 492, 493, 494, 495, 496, 497, 498, 499}\n",
            "\n",
            "1 Var Declarations\n",
            "    x : Size=500, Index=x_index\n",
            "        Key : Lower : Value : Upper : Fixed : Stale : Domain\n",
            "          0 :     0 :  None :     1 : False :  True : Binary\n",
            "          1 :     0 :  None :     1 : False :  True : Binary\n",
            "          2 :     0 :  None :     1 : False :  True : Binary\n",
            "          3 :     0 :  None :     1 : False :  True : Binary\n",
            "          4 :     0 :  None :     1 : False :  True : Binary\n",
            "          5 :     0 :  None :     1 : False :  True : Binary\n",
            "          6 :     0 :  None :     1 : False :  True : Binary\n",
            "          7 :     0 :  None :     1 : False :  True : Binary\n",
            "          8 :     0 :  None :     1 : False :  True : Binary\n",
            "          9 :     0 :  None :     1 : False :  True : Binary\n",
            "         10 :     0 :  None :     1 : False :  True : Binary\n",
            "         11 :     0 :  None :     1 : False :  True : Binary\n",
            "         12 :     0 :  None :     1 : False :  True : Binary\n",
            "         13 :     0 :  None :     1 : False :  True : Binary\n",
            "         14 :     0 :  None :     1 : False :  True : Binary\n",
            "         15 :     0 :  None :     1 : False :  True : Binary\n",
            "         16 :     0 :  None :     1 : False :  True : Binary\n",
            "         17 :     0 :  None :     1 : False :  True : Binary\n",
            "         18 :     0 :  None :     1 : False :  True : Binary\n",
            "         19 :     0 :  None :     1 : False :  True : Binary\n",
            "         20 :     0 :  None :     1 : False :  True : Binary\n",
            "         21 :     0 :  None :     1 : False :  True : Binary\n",
            "         22 :     0 :  None :     1 : False :  True : Binary\n",
            "         23 :     0 :  None :     1 : False :  True : Binary\n",
            "         24 :     0 :  None :     1 : False :  True : Binary\n",
            "         25 :     0 :  None :     1 : False :  True : Binary\n",
            "         26 :     0 :  None :     1 : False :  True : Binary\n",
            "         27 :     0 :  None :     1 : False :  True : Binary\n",
            "         28 :     0 :  None :     1 : False :  True : Binary\n",
            "         29 :     0 :  None :     1 : False :  True : Binary\n",
            "         30 :     0 :  None :     1 : False :  True : Binary\n",
            "         31 :     0 :  None :     1 : False :  True : Binary\n",
            "         32 :     0 :  None :     1 : False :  True : Binary\n",
            "         33 :     0 :  None :     1 : False :  True : Binary\n",
            "         34 :     0 :  None :     1 : False :  True : Binary\n",
            "         35 :     0 :  None :     1 : False :  True : Binary\n",
            "         36 :     0 :  None :     1 : False :  True : Binary\n",
            "         37 :     0 :  None :     1 : False :  True : Binary\n",
            "         38 :     0 :  None :     1 : False :  True : Binary\n",
            "         39 :     0 :  None :     1 : False :  True : Binary\n",
            "         40 :     0 :  None :     1 : False :  True : Binary\n",
            "         41 :     0 :  None :     1 : False :  True : Binary\n",
            "         42 :     0 :  None :     1 : False :  True : Binary\n",
            "         43 :     0 :  None :     1 : False :  True : Binary\n",
            "         44 :     0 :  None :     1 : False :  True : Binary\n",
            "         45 :     0 :  None :     1 : False :  True : Binary\n",
            "         46 :     0 :  None :     1 : False :  True : Binary\n",
            "         47 :     0 :  None :     1 : False :  True : Binary\n",
            "         48 :     0 :  None :     1 : False :  True : Binary\n",
            "         49 :     0 :  None :     1 : False :  True : Binary\n",
            "         50 :     0 :  None :     1 : False :  True : Binary\n",
            "         51 :     0 :  None :     1 : False :  True : Binary\n",
            "         52 :     0 :  None :     1 : False :  True : Binary\n",
            "         53 :     0 :  None :     1 : False :  True : Binary\n",
            "         54 :     0 :  None :     1 : False :  True : Binary\n",
            "         55 :     0 :  None :     1 : False :  True : Binary\n",
            "         56 :     0 :  None :     1 : False :  True : Binary\n",
            "         57 :     0 :  None :     1 : False :  True : Binary\n",
            "         58 :     0 :  None :     1 : False :  True : Binary\n",
            "         59 :     0 :  None :     1 : False :  True : Binary\n",
            "         60 :     0 :  None :     1 : False :  True : Binary\n",
            "         61 :     0 :  None :     1 : False :  True : Binary\n",
            "         62 :     0 :  None :     1 : False :  True : Binary\n",
            "         63 :     0 :  None :     1 : False :  True : Binary\n",
            "         64 :     0 :  None :     1 : False :  True : Binary\n",
            "         65 :     0 :  None :     1 : False :  True : Binary\n",
            "         66 :     0 :  None :     1 : False :  True : Binary\n",
            "         67 :     0 :  None :     1 : False :  True : Binary\n",
            "         68 :     0 :  None :     1 : False :  True : Binary\n",
            "         69 :     0 :  None :     1 : False :  True : Binary\n",
            "         70 :     0 :  None :     1 : False :  True : Binary\n",
            "         71 :     0 :  None :     1 : False :  True : Binary\n",
            "         72 :     0 :  None :     1 : False :  True : Binary\n",
            "         73 :     0 :  None :     1 : False :  True : Binary\n",
            "         74 :     0 :  None :     1 : False :  True : Binary\n",
            "         75 :     0 :  None :     1 : False :  True : Binary\n",
            "         76 :     0 :  None :     1 : False :  True : Binary\n",
            "         77 :     0 :  None :     1 : False :  True : Binary\n",
            "         78 :     0 :  None :     1 : False :  True : Binary\n",
            "         79 :     0 :  None :     1 : False :  True : Binary\n",
            "         80 :     0 :  None :     1 : False :  True : Binary\n",
            "         81 :     0 :  None :     1 : False :  True : Binary\n",
            "         82 :     0 :  None :     1 : False :  True : Binary\n",
            "         83 :     0 :  None :     1 : False :  True : Binary\n",
            "         84 :     0 :  None :     1 : False :  True : Binary\n",
            "         85 :     0 :  None :     1 : False :  True : Binary\n",
            "         86 :     0 :  None :     1 : False :  True : Binary\n",
            "         87 :     0 :  None :     1 : False :  True : Binary\n",
            "         88 :     0 :  None :     1 : False :  True : Binary\n",
            "         89 :     0 :  None :     1 : False :  True : Binary\n",
            "         90 :     0 :  None :     1 : False :  True : Binary\n",
            "         91 :     0 :  None :     1 : False :  True : Binary\n",
            "         92 :     0 :  None :     1 : False :  True : Binary\n",
            "         93 :     0 :  None :     1 : False :  True : Binary\n",
            "         94 :     0 :  None :     1 : False :  True : Binary\n",
            "         95 :     0 :  None :     1 : False :  True : Binary\n",
            "         96 :     0 :  None :     1 : False :  True : Binary\n",
            "         97 :     0 :  None :     1 : False :  True : Binary\n",
            "         98 :     0 :  None :     1 : False :  True : Binary\n",
            "         99 :     0 :  None :     1 : False :  True : Binary\n",
            "        100 :     0 :  None :     1 : False :  True : Binary\n",
            "        101 :     0 :  None :     1 : False :  True : Binary\n",
            "        102 :     0 :  None :     1 : False :  True : Binary\n",
            "        103 :     0 :  None :     1 : False :  True : Binary\n",
            "        104 :     0 :  None :     1 : False :  True : Binary\n",
            "        105 :     0 :  None :     1 : False :  True : Binary\n",
            "        106 :     0 :  None :     1 : False :  True : Binary\n",
            "        107 :     0 :  None :     1 : False :  True : Binary\n",
            "        108 :     0 :  None :     1 : False :  True : Binary\n",
            "        109 :     0 :  None :     1 : False :  True : Binary\n",
            "        110 :     0 :  None :     1 : False :  True : Binary\n",
            "        111 :     0 :  None :     1 : False :  True : Binary\n",
            "        112 :     0 :  None :     1 : False :  True : Binary\n",
            "        113 :     0 :  None :     1 : False :  True : Binary\n",
            "        114 :     0 :  None :     1 : False :  True : Binary\n",
            "        115 :     0 :  None :     1 : False :  True : Binary\n",
            "        116 :     0 :  None :     1 : False :  True : Binary\n",
            "        117 :     0 :  None :     1 : False :  True : Binary\n",
            "        118 :     0 :  None :     1 : False :  True : Binary\n",
            "        119 :     0 :  None :     1 : False :  True : Binary\n",
            "        120 :     0 :  None :     1 : False :  True : Binary\n",
            "        121 :     0 :  None :     1 : False :  True : Binary\n",
            "        122 :     0 :  None :     1 : False :  True : Binary\n",
            "        123 :     0 :  None :     1 : False :  True : Binary\n",
            "        124 :     0 :  None :     1 : False :  True : Binary\n",
            "        125 :     0 :  None :     1 : False :  True : Binary\n",
            "        126 :     0 :  None :     1 : False :  True : Binary\n",
            "        127 :     0 :  None :     1 : False :  True : Binary\n",
            "        128 :     0 :  None :     1 : False :  True : Binary\n",
            "        129 :     0 :  None :     1 : False :  True : Binary\n",
            "        130 :     0 :  None :     1 : False :  True : Binary\n",
            "        131 :     0 :  None :     1 : False :  True : Binary\n",
            "        132 :     0 :  None :     1 : False :  True : Binary\n",
            "        133 :     0 :  None :     1 : False :  True : Binary\n",
            "        134 :     0 :  None :     1 : False :  True : Binary\n",
            "        135 :     0 :  None :     1 : False :  True : Binary\n",
            "        136 :     0 :  None :     1 : False :  True : Binary\n",
            "        137 :     0 :  None :     1 : False :  True : Binary\n",
            "        138 :     0 :  None :     1 : False :  True : Binary\n",
            "        139 :     0 :  None :     1 : False :  True : Binary\n",
            "        140 :     0 :  None :     1 : False :  True : Binary\n",
            "        141 :     0 :  None :     1 : False :  True : Binary\n",
            "        142 :     0 :  None :     1 : False :  True : Binary\n",
            "        143 :     0 :  None :     1 : False :  True : Binary\n",
            "        144 :     0 :  None :     1 : False :  True : Binary\n",
            "        145 :     0 :  None :     1 : False :  True : Binary\n",
            "        146 :     0 :  None :     1 : False :  True : Binary\n",
            "        147 :     0 :  None :     1 : False :  True : Binary\n",
            "        148 :     0 :  None :     1 : False :  True : Binary\n",
            "        149 :     0 :  None :     1 : False :  True : Binary\n",
            "        150 :     0 :  None :     1 : False :  True : Binary\n",
            "        151 :     0 :  None :     1 : False :  True : Binary\n",
            "        152 :     0 :  None :     1 : False :  True : Binary\n",
            "        153 :     0 :  None :     1 : False :  True : Binary\n",
            "        154 :     0 :  None :     1 : False :  True : Binary\n",
            "        155 :     0 :  None :     1 : False :  True : Binary\n",
            "        156 :     0 :  None :     1 : False :  True : Binary\n",
            "        157 :     0 :  None :     1 : False :  True : Binary\n",
            "        158 :     0 :  None :     1 : False :  True : Binary\n",
            "        159 :     0 :  None :     1 : False :  True : Binary\n",
            "        160 :     0 :  None :     1 : False :  True : Binary\n",
            "        161 :     0 :  None :     1 : False :  True : Binary\n",
            "        162 :     0 :  None :     1 : False :  True : Binary\n",
            "        163 :     0 :  None :     1 : False :  True : Binary\n",
            "        164 :     0 :  None :     1 : False :  True : Binary\n",
            "        165 :     0 :  None :     1 : False :  True : Binary\n",
            "        166 :     0 :  None :     1 : False :  True : Binary\n",
            "        167 :     0 :  None :     1 : False :  True : Binary\n",
            "        168 :     0 :  None :     1 : False :  True : Binary\n",
            "        169 :     0 :  None :     1 : False :  True : Binary\n",
            "        170 :     0 :  None :     1 : False :  True : Binary\n",
            "        171 :     0 :  None :     1 : False :  True : Binary\n",
            "        172 :     0 :  None :     1 : False :  True : Binary\n",
            "        173 :     0 :  None :     1 : False :  True : Binary\n",
            "        174 :     0 :  None :     1 : False :  True : Binary\n",
            "        175 :     0 :  None :     1 : False :  True : Binary\n",
            "        176 :     0 :  None :     1 : False :  True : Binary\n",
            "        177 :     0 :  None :     1 : False :  True : Binary\n",
            "        178 :     0 :  None :     1 : False :  True : Binary\n",
            "        179 :     0 :  None :     1 : False :  True : Binary\n",
            "        180 :     0 :  None :     1 : False :  True : Binary\n",
            "        181 :     0 :  None :     1 : False :  True : Binary\n",
            "        182 :     0 :  None :     1 : False :  True : Binary\n",
            "        183 :     0 :  None :     1 : False :  True : Binary\n",
            "        184 :     0 :  None :     1 : False :  True : Binary\n",
            "        185 :     0 :  None :     1 : False :  True : Binary\n",
            "        186 :     0 :  None :     1 : False :  True : Binary\n",
            "        187 :     0 :  None :     1 : False :  True : Binary\n",
            "        188 :     0 :  None :     1 : False :  True : Binary\n",
            "        189 :     0 :  None :     1 : False :  True : Binary\n",
            "        190 :     0 :  None :     1 : False :  True : Binary\n",
            "        191 :     0 :  None :     1 : False :  True : Binary\n",
            "        192 :     0 :  None :     1 : False :  True : Binary\n",
            "        193 :     0 :  None :     1 : False :  True : Binary\n",
            "        194 :     0 :  None :     1 : False :  True : Binary\n",
            "        195 :     0 :  None :     1 : False :  True : Binary\n",
            "        196 :     0 :  None :     1 : False :  True : Binary\n",
            "        197 :     0 :  None :     1 : False :  True : Binary\n",
            "        198 :     0 :  None :     1 : False :  True : Binary\n",
            "        199 :     0 :  None :     1 : False :  True : Binary\n",
            "        200 :     0 :  None :     1 : False :  True : Binary\n",
            "        201 :     0 :  None :     1 : False :  True : Binary\n",
            "        202 :     0 :  None :     1 : False :  True : Binary\n",
            "        203 :     0 :  None :     1 : False :  True : Binary\n",
            "        204 :     0 :  None :     1 : False :  True : Binary\n",
            "        205 :     0 :  None :     1 : False :  True : Binary\n",
            "        206 :     0 :  None :     1 : False :  True : Binary\n",
            "        207 :     0 :  None :     1 : False :  True : Binary\n",
            "        208 :     0 :  None :     1 : False :  True : Binary\n",
            "        209 :     0 :  None :     1 : False :  True : Binary\n",
            "        210 :     0 :  None :     1 : False :  True : Binary\n",
            "        211 :     0 :  None :     1 : False :  True : Binary\n",
            "        212 :     0 :  None :     1 : False :  True : Binary\n",
            "        213 :     0 :  None :     1 : False :  True : Binary\n",
            "        214 :     0 :  None :     1 : False :  True : Binary\n",
            "        215 :     0 :  None :     1 : False :  True : Binary\n",
            "        216 :     0 :  None :     1 : False :  True : Binary\n",
            "        217 :     0 :  None :     1 : False :  True : Binary\n",
            "        218 :     0 :  None :     1 : False :  True : Binary\n",
            "        219 :     0 :  None :     1 : False :  True : Binary\n",
            "        220 :     0 :  None :     1 : False :  True : Binary\n",
            "        221 :     0 :  None :     1 : False :  True : Binary\n",
            "        222 :     0 :  None :     1 : False :  True : Binary\n",
            "        223 :     0 :  None :     1 : False :  True : Binary\n",
            "        224 :     0 :  None :     1 : False :  True : Binary\n",
            "        225 :     0 :  None :     1 : False :  True : Binary\n",
            "        226 :     0 :  None :     1 : False :  True : Binary\n",
            "        227 :     0 :  None :     1 : False :  True : Binary\n",
            "        228 :     0 :  None :     1 : False :  True : Binary\n",
            "        229 :     0 :  None :     1 : False :  True : Binary\n",
            "        230 :     0 :  None :     1 : False :  True : Binary\n",
            "        231 :     0 :  None :     1 : False :  True : Binary\n",
            "        232 :     0 :  None :     1 : False :  True : Binary\n",
            "        233 :     0 :  None :     1 : False :  True : Binary\n",
            "        234 :     0 :  None :     1 : False :  True : Binary\n",
            "        235 :     0 :  None :     1 : False :  True : Binary\n",
            "        236 :     0 :  None :     1 : False :  True : Binary\n",
            "        237 :     0 :  None :     1 : False :  True : Binary\n",
            "        238 :     0 :  None :     1 : False :  True : Binary\n",
            "        239 :     0 :  None :     1 : False :  True : Binary\n",
            "        240 :     0 :  None :     1 : False :  True : Binary\n",
            "        241 :     0 :  None :     1 : False :  True : Binary\n",
            "        242 :     0 :  None :     1 : False :  True : Binary\n",
            "        243 :     0 :  None :     1 : False :  True : Binary\n",
            "        244 :     0 :  None :     1 : False :  True : Binary\n",
            "        245 :     0 :  None :     1 : False :  True : Binary\n",
            "        246 :     0 :  None :     1 : False :  True : Binary\n",
            "        247 :     0 :  None :     1 : False :  True : Binary\n",
            "        248 :     0 :  None :     1 : False :  True : Binary\n",
            "        249 :     0 :  None :     1 : False :  True : Binary\n",
            "        250 :     0 :  None :     1 : False :  True : Binary\n",
            "        251 :     0 :  None :     1 : False :  True : Binary\n",
            "        252 :     0 :  None :     1 : False :  True : Binary\n",
            "        253 :     0 :  None :     1 : False :  True : Binary\n",
            "        254 :     0 :  None :     1 : False :  True : Binary\n",
            "        255 :     0 :  None :     1 : False :  True : Binary\n",
            "        256 :     0 :  None :     1 : False :  True : Binary\n",
            "        257 :     0 :  None :     1 : False :  True : Binary\n",
            "        258 :     0 :  None :     1 : False :  True : Binary\n",
            "        259 :     0 :  None :     1 : False :  True : Binary\n",
            "        260 :     0 :  None :     1 : False :  True : Binary\n",
            "        261 :     0 :  None :     1 : False :  True : Binary\n",
            "        262 :     0 :  None :     1 : False :  True : Binary\n",
            "        263 :     0 :  None :     1 : False :  True : Binary\n",
            "        264 :     0 :  None :     1 : False :  True : Binary\n",
            "        265 :     0 :  None :     1 : False :  True : Binary\n",
            "        266 :     0 :  None :     1 : False :  True : Binary\n",
            "        267 :     0 :  None :     1 : False :  True : Binary\n",
            "        268 :     0 :  None :     1 : False :  True : Binary\n",
            "        269 :     0 :  None :     1 : False :  True : Binary\n",
            "        270 :     0 :  None :     1 : False :  True : Binary\n",
            "        271 :     0 :  None :     1 : False :  True : Binary\n",
            "        272 :     0 :  None :     1 : False :  True : Binary\n",
            "        273 :     0 :  None :     1 : False :  True : Binary\n",
            "        274 :     0 :  None :     1 : False :  True : Binary\n",
            "        275 :     0 :  None :     1 : False :  True : Binary\n",
            "        276 :     0 :  None :     1 : False :  True : Binary\n",
            "        277 :     0 :  None :     1 : False :  True : Binary\n",
            "        278 :     0 :  None :     1 : False :  True : Binary\n",
            "        279 :     0 :  None :     1 : False :  True : Binary\n",
            "        280 :     0 :  None :     1 : False :  True : Binary\n",
            "        281 :     0 :  None :     1 : False :  True : Binary\n",
            "        282 :     0 :  None :     1 : False :  True : Binary\n",
            "        283 :     0 :  None :     1 : False :  True : Binary\n",
            "        284 :     0 :  None :     1 : False :  True : Binary\n",
            "        285 :     0 :  None :     1 : False :  True : Binary\n",
            "        286 :     0 :  None :     1 : False :  True : Binary\n",
            "        287 :     0 :  None :     1 : False :  True : Binary\n",
            "        288 :     0 :  None :     1 : False :  True : Binary\n",
            "        289 :     0 :  None :     1 : False :  True : Binary\n",
            "        290 :     0 :  None :     1 : False :  True : Binary\n",
            "        291 :     0 :  None :     1 : False :  True : Binary\n",
            "        292 :     0 :  None :     1 : False :  True : Binary\n",
            "        293 :     0 :  None :     1 : False :  True : Binary\n",
            "        294 :     0 :  None :     1 : False :  True : Binary\n",
            "        295 :     0 :  None :     1 : False :  True : Binary\n",
            "        296 :     0 :  None :     1 : False :  True : Binary\n",
            "        297 :     0 :  None :     1 : False :  True : Binary\n",
            "        298 :     0 :  None :     1 : False :  True : Binary\n",
            "        299 :     0 :  None :     1 : False :  True : Binary\n",
            "        300 :     0 :  None :     1 : False :  True : Binary\n",
            "        301 :     0 :  None :     1 : False :  True : Binary\n",
            "        302 :     0 :  None :     1 : False :  True : Binary\n",
            "        303 :     0 :  None :     1 : False :  True : Binary\n",
            "        304 :     0 :  None :     1 : False :  True : Binary\n",
            "        305 :     0 :  None :     1 : False :  True : Binary\n",
            "        306 :     0 :  None :     1 : False :  True : Binary\n",
            "        307 :     0 :  None :     1 : False :  True : Binary\n",
            "        308 :     0 :  None :     1 : False :  True : Binary\n",
            "        309 :     0 :  None :     1 : False :  True : Binary\n",
            "        310 :     0 :  None :     1 : False :  True : Binary\n",
            "        311 :     0 :  None :     1 : False :  True : Binary\n",
            "        312 :     0 :  None :     1 : False :  True : Binary\n",
            "        313 :     0 :  None :     1 : False :  True : Binary\n",
            "        314 :     0 :  None :     1 : False :  True : Binary\n",
            "        315 :     0 :  None :     1 : False :  True : Binary\n",
            "        316 :     0 :  None :     1 : False :  True : Binary\n",
            "        317 :     0 :  None :     1 : False :  True : Binary\n",
            "        318 :     0 :  None :     1 : False :  True : Binary\n",
            "        319 :     0 :  None :     1 : False :  True : Binary\n",
            "        320 :     0 :  None :     1 : False :  True : Binary\n",
            "        321 :     0 :  None :     1 : False :  True : Binary\n",
            "        322 :     0 :  None :     1 : False :  True : Binary\n",
            "        323 :     0 :  None :     1 : False :  True : Binary\n",
            "        324 :     0 :  None :     1 : False :  True : Binary\n",
            "        325 :     0 :  None :     1 : False :  True : Binary\n",
            "        326 :     0 :  None :     1 : False :  True : Binary\n",
            "        327 :     0 :  None :     1 : False :  True : Binary\n",
            "        328 :     0 :  None :     1 : False :  True : Binary\n",
            "        329 :     0 :  None :     1 : False :  True : Binary\n",
            "        330 :     0 :  None :     1 : False :  True : Binary\n",
            "        331 :     0 :  None :     1 : False :  True : Binary\n",
            "        332 :     0 :  None :     1 : False :  True : Binary\n",
            "        333 :     0 :  None :     1 : False :  True : Binary\n",
            "        334 :     0 :  None :     1 : False :  True : Binary\n",
            "        335 :     0 :  None :     1 : False :  True : Binary\n",
            "        336 :     0 :  None :     1 : False :  True : Binary\n",
            "        337 :     0 :  None :     1 : False :  True : Binary\n",
            "        338 :     0 :  None :     1 : False :  True : Binary\n",
            "        339 :     0 :  None :     1 : False :  True : Binary\n",
            "        340 :     0 :  None :     1 : False :  True : Binary\n",
            "        341 :     0 :  None :     1 : False :  True : Binary\n",
            "        342 :     0 :  None :     1 : False :  True : Binary\n",
            "        343 :     0 :  None :     1 : False :  True : Binary\n",
            "        344 :     0 :  None :     1 : False :  True : Binary\n",
            "        345 :     0 :  None :     1 : False :  True : Binary\n",
            "        346 :     0 :  None :     1 : False :  True : Binary\n",
            "        347 :     0 :  None :     1 : False :  True : Binary\n",
            "        348 :     0 :  None :     1 : False :  True : Binary\n",
            "        349 :     0 :  None :     1 : False :  True : Binary\n",
            "        350 :     0 :  None :     1 : False :  True : Binary\n",
            "        351 :     0 :  None :     1 : False :  True : Binary\n",
            "        352 :     0 :  None :     1 : False :  True : Binary\n",
            "        353 :     0 :  None :     1 : False :  True : Binary\n",
            "        354 :     0 :  None :     1 : False :  True : Binary\n",
            "        355 :     0 :  None :     1 : False :  True : Binary\n",
            "        356 :     0 :  None :     1 : False :  True : Binary\n",
            "        357 :     0 :  None :     1 : False :  True : Binary\n",
            "        358 :     0 :  None :     1 : False :  True : Binary\n",
            "        359 :     0 :  None :     1 : False :  True : Binary\n",
            "        360 :     0 :  None :     1 : False :  True : Binary\n",
            "        361 :     0 :  None :     1 : False :  True : Binary\n",
            "        362 :     0 :  None :     1 : False :  True : Binary\n",
            "        363 :     0 :  None :     1 : False :  True : Binary\n",
            "        364 :     0 :  None :     1 : False :  True : Binary\n",
            "        365 :     0 :  None :     1 : False :  True : Binary\n",
            "        366 :     0 :  None :     1 : False :  True : Binary\n",
            "        367 :     0 :  None :     1 : False :  True : Binary\n",
            "        368 :     0 :  None :     1 : False :  True : Binary\n",
            "        369 :     0 :  None :     1 : False :  True : Binary\n",
            "        370 :     0 :  None :     1 : False :  True : Binary\n",
            "        371 :     0 :  None :     1 : False :  True : Binary\n",
            "        372 :     0 :  None :     1 : False :  True : Binary\n",
            "        373 :     0 :  None :     1 : False :  True : Binary\n",
            "        374 :     0 :  None :     1 : False :  True : Binary\n",
            "        375 :     0 :  None :     1 : False :  True : Binary\n",
            "        376 :     0 :  None :     1 : False :  True : Binary\n",
            "        377 :     0 :  None :     1 : False :  True : Binary\n",
            "        378 :     0 :  None :     1 : False :  True : Binary\n",
            "        379 :     0 :  None :     1 : False :  True : Binary\n",
            "        380 :     0 :  None :     1 : False :  True : Binary\n",
            "        381 :     0 :  None :     1 : False :  True : Binary\n",
            "        382 :     0 :  None :     1 : False :  True : Binary\n",
            "        383 :     0 :  None :     1 : False :  True : Binary\n",
            "        384 :     0 :  None :     1 : False :  True : Binary\n",
            "        385 :     0 :  None :     1 : False :  True : Binary\n",
            "        386 :     0 :  None :     1 : False :  True : Binary\n",
            "        387 :     0 :  None :     1 : False :  True : Binary\n",
            "        388 :     0 :  None :     1 : False :  True : Binary\n",
            "        389 :     0 :  None :     1 : False :  True : Binary\n",
            "        390 :     0 :  None :     1 : False :  True : Binary\n",
            "        391 :     0 :  None :     1 : False :  True : Binary\n",
            "        392 :     0 :  None :     1 : False :  True : Binary\n",
            "        393 :     0 :  None :     1 : False :  True : Binary\n",
            "        394 :     0 :  None :     1 : False :  True : Binary\n",
            "        395 :     0 :  None :     1 : False :  True : Binary\n",
            "        396 :     0 :  None :     1 : False :  True : Binary\n",
            "        397 :     0 :  None :     1 : False :  True : Binary\n",
            "        398 :     0 :  None :     1 : False :  True : Binary\n",
            "        399 :     0 :  None :     1 : False :  True : Binary\n",
            "        400 :     0 :  None :     1 : False :  True : Binary\n",
            "        401 :     0 :  None :     1 : False :  True : Binary\n",
            "        402 :     0 :  None :     1 : False :  True : Binary\n",
            "        403 :     0 :  None :     1 : False :  True : Binary\n",
            "        404 :     0 :  None :     1 : False :  True : Binary\n",
            "        405 :     0 :  None :     1 : False :  True : Binary\n",
            "        406 :     0 :  None :     1 : False :  True : Binary\n",
            "        407 :     0 :  None :     1 : False :  True : Binary\n",
            "        408 :     0 :  None :     1 : False :  True : Binary\n",
            "        409 :     0 :  None :     1 : False :  True : Binary\n",
            "        410 :     0 :  None :     1 : False :  True : Binary\n",
            "        411 :     0 :  None :     1 : False :  True : Binary\n",
            "        412 :     0 :  None :     1 : False :  True : Binary\n",
            "        413 :     0 :  None :     1 : False :  True : Binary\n",
            "        414 :     0 :  None :     1 : False :  True : Binary\n",
            "        415 :     0 :  None :     1 : False :  True : Binary\n",
            "        416 :     0 :  None :     1 : False :  True : Binary\n",
            "        417 :     0 :  None :     1 : False :  True : Binary\n",
            "        418 :     0 :  None :     1 : False :  True : Binary\n",
            "        419 :     0 :  None :     1 : False :  True : Binary\n",
            "        420 :     0 :  None :     1 : False :  True : Binary\n",
            "        421 :     0 :  None :     1 : False :  True : Binary\n",
            "        422 :     0 :  None :     1 : False :  True : Binary\n",
            "        423 :     0 :  None :     1 : False :  True : Binary\n",
            "        424 :     0 :  None :     1 : False :  True : Binary\n",
            "        425 :     0 :  None :     1 : False :  True : Binary\n",
            "        426 :     0 :  None :     1 : False :  True : Binary\n",
            "        427 :     0 :  None :     1 : False :  True : Binary\n",
            "        428 :     0 :  None :     1 : False :  True : Binary\n",
            "        429 :     0 :  None :     1 : False :  True : Binary\n",
            "        430 :     0 :  None :     1 : False :  True : Binary\n",
            "        431 :     0 :  None :     1 : False :  True : Binary\n",
            "        432 :     0 :  None :     1 : False :  True : Binary\n",
            "        433 :     0 :  None :     1 : False :  True : Binary\n",
            "        434 :     0 :  None :     1 : False :  True : Binary\n",
            "        435 :     0 :  None :     1 : False :  True : Binary\n",
            "        436 :     0 :  None :     1 : False :  True : Binary\n",
            "        437 :     0 :  None :     1 : False :  True : Binary\n",
            "        438 :     0 :  None :     1 : False :  True : Binary\n",
            "        439 :     0 :  None :     1 : False :  True : Binary\n",
            "        440 :     0 :  None :     1 : False :  True : Binary\n",
            "        441 :     0 :  None :     1 : False :  True : Binary\n",
            "        442 :     0 :  None :     1 : False :  True : Binary\n",
            "        443 :     0 :  None :     1 : False :  True : Binary\n",
            "        444 :     0 :  None :     1 : False :  True : Binary\n",
            "        445 :     0 :  None :     1 : False :  True : Binary\n",
            "        446 :     0 :  None :     1 : False :  True : Binary\n",
            "        447 :     0 :  None :     1 : False :  True : Binary\n",
            "        448 :     0 :  None :     1 : False :  True : Binary\n",
            "        449 :     0 :  None :     1 : False :  True : Binary\n",
            "        450 :     0 :  None :     1 : False :  True : Binary\n",
            "        451 :     0 :  None :     1 : False :  True : Binary\n",
            "        452 :     0 :  None :     1 : False :  True : Binary\n",
            "        453 :     0 :  None :     1 : False :  True : Binary\n",
            "        454 :     0 :  None :     1 : False :  True : Binary\n",
            "        455 :     0 :  None :     1 : False :  True : Binary\n",
            "        456 :     0 :  None :     1 : False :  True : Binary\n",
            "        457 :     0 :  None :     1 : False :  True : Binary\n",
            "        458 :     0 :  None :     1 : False :  True : Binary\n",
            "        459 :     0 :  None :     1 : False :  True : Binary\n",
            "        460 :     0 :  None :     1 : False :  True : Binary\n",
            "        461 :     0 :  None :     1 : False :  True : Binary\n",
            "        462 :     0 :  None :     1 : False :  True : Binary\n",
            "        463 :     0 :  None :     1 : False :  True : Binary\n",
            "        464 :     0 :  None :     1 : False :  True : Binary\n",
            "        465 :     0 :  None :     1 : False :  True : Binary\n",
            "        466 :     0 :  None :     1 : False :  True : Binary\n",
            "        467 :     0 :  None :     1 : False :  True : Binary\n",
            "        468 :     0 :  None :     1 : False :  True : Binary\n",
            "        469 :     0 :  None :     1 : False :  True : Binary\n",
            "        470 :     0 :  None :     1 : False :  True : Binary\n",
            "        471 :     0 :  None :     1 : False :  True : Binary\n",
            "        472 :     0 :  None :     1 : False :  True : Binary\n",
            "        473 :     0 :  None :     1 : False :  True : Binary\n",
            "        474 :     0 :  None :     1 : False :  True : Binary\n",
            "        475 :     0 :  None :     1 : False :  True : Binary\n",
            "        476 :     0 :  None :     1 : False :  True : Binary\n",
            "        477 :     0 :  None :     1 : False :  True : Binary\n",
            "        478 :     0 :  None :     1 : False :  True : Binary\n",
            "        479 :     0 :  None :     1 : False :  True : Binary\n",
            "        480 :     0 :  None :     1 : False :  True : Binary\n",
            "        481 :     0 :  None :     1 : False :  True : Binary\n",
            "        482 :     0 :  None :     1 : False :  True : Binary\n",
            "        483 :     0 :  None :     1 : False :  True : Binary\n",
            "        484 :     0 :  None :     1 : False :  True : Binary\n",
            "        485 :     0 :  None :     1 : False :  True : Binary\n",
            "        486 :     0 :  None :     1 : False :  True : Binary\n",
            "        487 :     0 :  None :     1 : False :  True : Binary\n",
            "        488 :     0 :  None :     1 : False :  True : Binary\n",
            "        489 :     0 :  None :     1 : False :  True : Binary\n",
            "        490 :     0 :  None :     1 : False :  True : Binary\n",
            "        491 :     0 :  None :     1 : False :  True : Binary\n",
            "        492 :     0 :  None :     1 : False :  True : Binary\n",
            "        493 :     0 :  None :     1 : False :  True : Binary\n",
            "        494 :     0 :  None :     1 : False :  True : Binary\n",
            "        495 :     0 :  None :     1 : False :  True : Binary\n",
            "        496 :     0 :  None :     1 : False :  True : Binary\n",
            "        497 :     0 :  None :     1 : False :  True : Binary\n",
            "        498 :     0 :  None :     1 : False :  True : Binary\n",
            "        499 :     0 :  None :     1 : False :  True : Binary\n",
            "\n",
            "1 Objective Declarations\n",
            "    objective : Size=1, Index=None, Active=True\n",
            "        Key  : Active : Sense    : Expression\n",
            "        None :   True : maximize : 801.0*x[0] + 956.0*x[1] + 512.0*x[2] + 823.0*x[3] + 740.0*x[4] + 752.0*x[5] + 936.0*x[6] + 536.0*x[7] + 851.0*x[8] + 399.0*x[9] + 515.0*x[10] + 660.0*x[11] + 523.0*x[12] + 229.0*x[13] + 637.0*x[14] + 609.0*x[15] + 663.0*x[16] + 561.0*x[17] + 516.0*x[18] + 709.0*x[19] + 1060.0*x[20] + 405.0*x[21] + 564.0*x[22] + 692.0*x[23] + 524.0*x[24] + 992.0*x[25] + 745.0*x[26] + 860.0*x[27] + 638.0*x[28] + 801.0*x[29] + 777.0*x[30] + 757.0*x[31] + 722.0*x[32] + 785.0*x[33] + 321.0*x[34] + 943.0*x[35] + 469.0*x[36] + 541.0*x[37] + 673.0*x[38] + 716.0*x[39] + 686.0*x[40] + 1188.0*x[41] + 969.0*x[42] + 804.0*x[43] + 728.0*x[44] + 790.0*x[45] + 741.0*x[46] + 790.0*x[47] + 545.0*x[48] + 591.0*x[49] + 1091.0*x[50] + 707.0*x[51] + 475.0*x[52] + 808.0*x[53] + 750.0*x[54] + 707.0*x[55] + 556.0*x[56] + 573.0*x[57] + 562.0*x[58] + 1057.0*x[59] + 750.0*x[60] + 919.0*x[61] + 511.0*x[62] + 440.0*x[63] + 638.0*x[64] + 865.0*x[65] + 588.0*x[66] + 891.0*x[67] + 731.0*x[68] + 548.0*x[69] + 437.0*x[70] + 1015.0*x[71] + 878.0*x[72] + 1017.0*x[73] + 824.0*x[74] + 993.0*x[75] + 905.0*x[76] + 600.0*x[77] + 664.0*x[78] + 890.0*x[79] + 732.0*x[80] + 696.0*x[81] + 703.0*x[82] + 348.0*x[83] + 690.0*x[84] + 392.0*x[85] + 1090.0*x[86] + 1170.0*x[87] + 799.0*x[88] + 1191.0*x[89] + 561.0*x[90] + 840.0*x[91] + 555.0*x[92] + 918.0*x[93] + 698.0*x[94] + 687.0*x[95] + 735.0*x[96] + 572.0*x[97] + 926.0*x[98] + 599.0*x[99] + 469.0*x[100] + 486.0*x[101] + 973.0*x[102] + 676.0*x[103] + 817.0*x[104] + 504.0*x[105] + 388.0*x[106] + 685.0*x[107] + 596.0*x[108] + 878.0*x[109] + 426.0*x[110] + 862.0*x[111] + 695.0*x[112] + 542.0*x[113] + 746.0*x[114] + 694.0*x[115] + 885.0*x[116] + 524.0*x[117] + 694.0*x[118] + 935.0*x[119] + 715.0*x[120] + 810.0*x[121] + 978.0*x[122] + 443.0*x[123] + 318.0*x[124] + 621.0*x[125] + 805.0*x[126] + 511.0*x[127] + 1279.0*x[128] + 832.0*x[129] + 974.0*x[130] + 737.0*x[131] + 857.0*x[132] + 756.0*x[133] + 595.0*x[134] + 830.0*x[135] + 526.0*x[136] + 968.0*x[137] + 974.0*x[138] + 1279.0*x[139] + 770.0*x[140] + 980.0*x[141] + 435.0*x[142] + 881.0*x[143] + 858.0*x[144] + 964.0*x[145] + 454.0*x[146] + 1068.0*x[147] + 956.0*x[148] + 874.0*x[149] + 872.0*x[150] + 623.0*x[151] + 609.0*x[152] + 623.0*x[153] + 649.0*x[154] + 620.0*x[155] + 850.0*x[156] + 522.0*x[157] + 999.0*x[158] + 959.0*x[159] + 593.0*x[160] + 624.0*x[161] + 488.0*x[162] + 386.0*x[163] + 835.0*x[164] + 741.0*x[165] + 1045.0*x[166] + 815.0*x[167] + 809.0*x[168] + 860.0*x[169] + 472.0*x[170] + 949.0*x[171] + 972.0*x[172] + 874.0*x[173] + 951.0*x[174] + 568.0*x[175] + 890.0*x[176] + 633.0*x[177] + 622.0*x[178] + 509.0*x[179] + 788.0*x[180] + 496.0*x[181] + 1004.0*x[182] + 562.0*x[183] + 700.0*x[184] + 637.0*x[185] + 666.0*x[186] + 340.0*x[187] + 658.0*x[188] + 832.0*x[189] + 778.0*x[190] + 616.0*x[191] + 643.0*x[192] + 521.0*x[193] + 505.0*x[194] + 900.0*x[195] + 543.0*x[196] + 873.0*x[197] + 763.0*x[198] + 890.0*x[199] + 776.0*x[200] + 752.0*x[201] + 718.0*x[202] + 366.0*x[203] + 566.0*x[204] + 802.0*x[205] + 304.0*x[206] + 470.0*x[207] + 543.0*x[208] + 847.0*x[209] + 827.0*x[210] + 821.0*x[211] + 644.0*x[212] + 1012.0*x[213] + 845.0*x[214] + 702.0*x[215] + 624.0*x[216] + 942.0*x[217] + 963.0*x[218] + 510.0*x[219] + 428.0*x[220] + 710.0*x[221] + 986.0*x[222] + 663.0*x[223] + 928.0*x[224] + 541.0*x[225] + 933.0*x[226] + 1095.0*x[227] + 699.0*x[228] + 756.0*x[229] + 733.0*x[230] + 632.0*x[231] + 732.0*x[232] + 1073.0*x[233] + 552.0*x[234] + 913.0*x[235] + 514.0*x[236] + 1011.0*x[237] + 772.0*x[238] + 597.0*x[239] + 652.0*x[240] + 863.0*x[241] + 534.0*x[242] + 658.0*x[243] + 695.0*x[244] + 757.0*x[245] + 977.0*x[246] + 647.0*x[247] + 746.0*x[248] + 1032.0*x[249] + 391.0*x[250] + 665.0*x[251] + 923.0*x[252] + 570.0*x[253] + 1147.0*x[254] + 658.0*x[255] + 798.0*x[256] + 604.0*x[257] + 1114.0*x[258] + 1254.0*x[259] + 790.0*x[260] + 646.0*x[261] + 961.0*x[262] + 607.0*x[263] + 825.0*x[264] + 506.0*x[265] + 936.0*x[266] + 466.0*x[267] + 672.0*x[268] + 767.0*x[269] + 481.0*x[270] + 617.0*x[271] + 863.0*x[272] + 506.0*x[273] + 748.0*x[274] + 676.0*x[275] + 709.0*x[276] + 601.0*x[277] + 829.0*x[278] + 787.0*x[279] + 430.0*x[280] + 855.0*x[281] + 802.0*x[282] + 688.0*x[283] + 780.0*x[284] + 1010.0*x[285] + 515.0*x[286] + 871.0*x[287] + 880.0*x[288] + 630.0*x[289] + 1235.0*x[290] + 679.0*x[291] + 672.0*x[292] + 806.0*x[293] + 927.0*x[294] + 775.0*x[295] + 932.0*x[296] + 924.0*x[297] + 515.0*x[298] + 665.0*x[299] + 570.0*x[300] + 596.0*x[301] + 576.0*x[302] + 463.0*x[303] + 270.0*x[304] + 509.0*x[305] + 688.0*x[306] + 578.0*x[307] + 901.0*x[308] + 653.0*x[309] + 764.0*x[310] + 893.0*x[311] + 688.0*x[312] + 679.0*x[313] + 642.0*x[314] + 737.0*x[315] + 251.0*x[316] + 491.0*x[317] + 996.0*x[318] + 796.0*x[319] + 768.0*x[320] + 625.0*x[321] + 528.0*x[322] + 771.0*x[323] + 592.0*x[324] + 530.0*x[325] + 742.0*x[326] + 740.0*x[327] + 391.0*x[328] + 936.0*x[329] + 1023.0*x[330] + 822.0*x[331] + 462.0*x[332] + 782.0*x[333] + 737.0*x[334] + 430.0*x[335] + 675.0*x[336] + 576.0*x[337] + 440.0*x[338] + 339.0*x[339] + 619.0*x[340] + 951.0*x[341] + 676.0*x[342] + 1193.0*x[343] + 811.0*x[344] + 985.0*x[345] + 876.0*x[346] + 679.0*x[347] + 661.0*x[348] + 912.0*x[349] + 742.0*x[350] + 850.0*x[351] + 798.0*x[352] + 826.0*x[353] + 409.0*x[354] + 941.0*x[355] + 804.0*x[356] + 680.0*x[357] + 474.0*x[358] + 605.0*x[359] + 826.0*x[360] + 845.0*x[361] + 1053.0*x[362] + 745.0*x[363] + 689.0*x[364] + 711.0*x[365] + 771.0*x[366] + 991.0*x[367] + 732.0*x[368] + 795.0*x[369] + 931.0*x[370] + 909.0*x[371] + 724.0*x[372] + 851.0*x[373] + 1064.0*x[374] + 495.0*x[375] + 917.0*x[376] + 791.0*x[377] + 561.0*x[378] + 779.0*x[379] + 802.0*x[380] + 1028.0*x[381] + 1153.0*x[382] + 1063.0*x[383] + 1115.0*x[384] + 562.0*x[385] + 515.0*x[386] + 443.0*x[387] + 524.0*x[388] + 649.0*x[389] + 650.0*x[390] + 695.0*x[391] + 860.0*x[392] + 707.0*x[393] + 499.0*x[394] + 936.0*x[395] + 660.0*x[396] + 407.0*x[397] + 614.0*x[398] + 902.0*x[399] + 854.0*x[400] + 861.0*x[401] + 962.0*x[402] + 738.0*x[403] + 388.0*x[404] + 747.0*x[405] + 587.0*x[406] + 780.0*x[407] + 785.0*x[408] + 1084.0*x[409] + 604.0*x[410] + 736.0*x[411] + 830.0*x[412] + 754.0*x[413] + 561.0*x[414] + 504.0*x[415] + 632.0*x[416] + 603.0*x[417] + 855.0*x[418] + 1176.0*x[419] + 773.0*x[420] + 777.0*x[421] + 953.0*x[422] + 407.0*x[423] + 1064.0*x[424] + 756.0*x[425] + 1046.0*x[426] + 779.0*x[427] + 881.0*x[428] + 721.0*x[429] + 605.0*x[430] + 724.0*x[431] + 1083.0*x[432] + 730.0*x[433] + 756.0*x[434] + 768.0*x[435] + 860.0*x[436] + 439.0*x[437] + 760.0*x[438] + 721.0*x[439] + 613.0*x[440] + 316.0*x[441] + 714.0*x[442] + 972.0*x[443] + 807.0*x[444] + 432.0*x[445] + 580.0*x[446] + 650.0*x[447] + 613.0*x[448] + 881.0*x[449] + 496.0*x[450] + 697.0*x[451] + 318.0*x[452] + 749.0*x[453] + 883.0*x[454] + 640.0*x[455] + 361.0*x[456] + 774.0*x[457] + 577.0*x[458] + 659.0*x[459] + 822.0*x[460] + 844.0*x[461] + 826.0*x[462] + 828.0*x[463] + 590.0*x[464] + 826.0*x[465] + 1024.0*x[466] + 310.0*x[467] + 899.0*x[468] + 496.0*x[469] + 402.0*x[470] + 597.0*x[471] + 644.0*x[472] + 706.0*x[473] + 690.0*x[474] + 547.0*x[475] + 701.0*x[476] + 761.0*x[477] + 634.0*x[478] + 921.0*x[479] + 557.0*x[480] + 578.0*x[481] + 883.0*x[482] + 916.0*x[483] + 689.0*x[484] + 478.0*x[485] + 417.0*x[486] + 805.0*x[487] + 656.0*x[488] + 806.0*x[489] + 713.0*x[490] + 322.0*x[491] + 896.0*x[492] + 949.0*x[493] + 833.0*x[494] + 953.0*x[495] + 703.0*x[496] + 859.0*x[497] + 1078.0*x[498] + 948.0*x[499]\n",
            "\n",
            "1 Constraint Declarations\n",
            "    constraints : Size=5, Index=constraints_index, Active=True\n",
            "        Key : Lower : Body                                                                                                                                                                                                                                                                                                                                                                                                                                                                                                                                                                                                                                                                                                                                                                                                                                                                                                                                                                                                                                                                                                                                                                                                                                                                                                                                                                                                                                                                                                                                                                                                                                                                                                                                                                                                                                                                                                                                                                                                                                                                                                                                                                                                                                                                                                                                                                                                                                                                                                                                                                                                                                                                                                                                                                                                                                                                                                                                                                                                                                                                                                                                                                                                                                                                                                                                                                                                                                                                                                                                                                                                                                                                                                                                                                                                                                                                                                                                                                                                                                                                                                                                                                                                                                                                                                                                                                                                                                                                                                                                                                                                                                                                                                                                                                                                                                                                                                                                                                                                                                                                                                                                                                                                                                                                                                                                                                                                                                                                                                                                                                                                                                                                                                                                                                                                                                                                                                                                                                                                                                                                                                                                                                                                                                                                                                                                                                                                                                                                                                                                                                                                                                                                                                                                                                                                                                                                                                                                                                                                                                                                                                                                                                                                                                                                                                                                                                                                                                                                                                                                                                                                                                                     : Upper    : Active\n",
            "          1 :  -Inf :                                  702.0*x[0] + 840.0*x[1] + 513.0*x[2] + 157.0*x[3] + 882.0*x[4] + 341.0*x[5] + 637.0*x[6] + 175.0*x[7] + 615.0*x[8] + 464.0*x[9] + 345.0*x[10] + 253.0*x[11] + 522.0*x[12] + 314.0*x[13] + 544.0*x[14] + 866.0*x[15] + 520.0*x[16] + 706.0*x[17] + 447.0*x[18] + 349.0*x[19] + 562.0*x[20] + 354.0*x[21] + 235.0*x[22] + 803.0*x[23] + 336.0*x[24] + 669.0*x[25] + 510.0*x[26] + 762.0*x[27] + 463.0*x[28] + 849.0*x[29] + 542.0*x[30] + 42.0*x[31] + 698.0*x[32] + 929.0*x[33] + 85.0*x[34] + 107.0*x[35] + 721.0*x[36] + 440.0*x[37] + 406.0*x[38] + 302.0*x[39] + 660.0*x[40] + 548.0*x[41] + 235.0*x[42] + 982.0*x[43] + 302.0*x[44] + 944.0*x[45] + 17.0*x[46] + 947.0*x[47] + 306.0*x[48] + 64.0*x[49] + 497.0*x[50] + 625.0*x[51] + 814.0*x[52] + 186.0*x[53] + 493.0*x[54] + 629.0*x[55] + 794.0*x[56] + 89.0*x[57] + 798.0*x[58] + 875.0*x[59] + 735.0*x[60] + 656.0*x[61] + 448.0*x[62] + 88.0*x[63] + 239.0*x[64] + 953.0*x[65] + 762.0*x[66] + 707.0*x[67] + 16.0*x[68] + 307.0*x[69] + 15.0*x[70] + 762.0*x[71] + 872.0*x[72] + 949.0*x[73] + 135.0*x[74] + 926.0*x[75] + 816.0*x[76] + 630.0*x[77] + 66.0*x[78] + 301.0*x[79] + 192.0*x[80] + 175.0*x[81] + 265.0*x[82] + 283.0*x[83] + 358.0*x[84] + 23.0*x[85] + 500.0*x[86] + 920.0*x[87] + 166.0*x[88] + 357.0*x[89] + 507.0*x[90] + 584.0*x[91] + 792.0*x[92] + 842.0*x[93] + 438.0*x[94] + 645.0*x[95] + 29.0*x[96] + 799.0*x[97] + 739.0*x[98] + 237.0*x[99] + 167.0*x[100] + 416.0*x[101] + 922.0*x[102] + 851.0*x[103] + 451.0*x[104] + 18.0*x[105] + 410.0*x[106] + 702.0*x[107] + 240.0*x[108] + 130.0*x[109] + 690.0*x[110] + 315.0*x[111] + 220.0*x[112] + 969.0*x[113] + 567.0*x[114] + 387.0*x[115] + 506.0*x[116] + 953.0*x[117] + 609.0*x[118] + 724.0*x[119] + 678.0*x[120] + 17.0*x[121] + 244.0*x[122] + 905.0*x[123] + 36.0*x[124] + 704.0*x[125] + 326.0*x[126] + 537.0*x[127] + 980.0*x[128] + 202.0*x[129] + 757.0*x[130] + 776.0*x[131] + 238.0*x[132] + 542.0*x[133] + 447.0*x[134] + 976.0*x[135] + 109.0*x[136] + 796.0*x[137] + 446.0*x[138] + 725.0*x[139] + 733.0*x[140] + 510.0*x[141] + 290.0*x[142] + 19.0*x[143] + 940.0*x[144] + 597.0*x[145] + 540.0*x[146] + 960.0*x[147] + 2.0*x[148] + 209.0*x[149] + 411.0*x[150] + 505.0*x[151] + 528.0*x[152] + 373.0*x[153] + 169.0*x[154] + 581.0*x[155] + 226.0*x[156] + 376.0*x[157] + 635.0*x[158] + 4.0*x[159] + 516.0*x[160] + 429.0*x[161] + 347.0*x[162] + 597.0*x[163] + 349.0*x[164] + 533.0*x[165] + 613.0*x[166] + 890.0*x[167] + 302.0*x[168] + 9.0*x[169] + 947.0*x[170] + 372.0*x[171] + 889.0*x[172] + 673.0*x[173] + 201.0*x[174] + 326.0*x[175] + 882.0*x[176] + 364.0*x[177] + 872.0*x[178] + 827.0*x[179] + 878.0*x[180] + 789.0*x[181] + 595.0*x[182] + 142.0*x[183] + 125.0*x[184] + 882.0*x[185] + 531.0*x[186] + 157.0*x[187] + 482.0*x[188] + 532.0*x[189] + 514.0*x[190] + 397.0*x[191] + 37.0*x[192] + 357.0*x[193] + 818.0*x[194] + 4.0*x[195] + 212.0*x[196] + 77.0*x[197] + 76.0*x[198] + 529.0*x[199] + 926.0*x[200] + 379.0*x[201] + 400.0*x[202] + 51.0*x[203] + 355.0*x[204] + 364.0*x[205] + 159.0*x[206] + 28.0*x[207] + 780.0*x[208] + 564.0*x[209] + 497.0*x[210] + 308.0*x[211] + 62.0*x[212] + 767.0*x[213] + 552.0*x[214] + 92.0*x[215] + 158.0*x[216] + 454.0*x[217] + 825.0*x[218] + 673.0*x[219] + 283.0*x[220] + 683.0*x[221] + 286.0*x[222] + 181.0*x[223] + 382.0*x[224] + 163.0*x[225] + 36.0*x[226] + 101.0*x[227] + 435.0*x[228] + 399.0*x[229] + 965.0*x[230] + 172.0*x[231] + 852.0*x[232] + 544.0*x[233] + 77.0*x[234] + 202.0*x[235] + 674.0*x[236] + 861.0*x[237] + 605.0*x[238] + 28.0*x[239] + 883.0*x[240] + 647.0*x[241] + 442.0*x[242] + 218.0*x[243] + 306.0*x[244] + 822.0*x[245] + 74.0*x[246] + 227.0*x[247] + 449.0*x[248] + 691.0*x[249] + 564.0*x[250] + 433.0*x[251] + 703.0*x[252] + 413.0*x[253] + 436.0*x[254] + 468.0*x[255] + 137.0*x[256] + 104.0*x[257] + 881.0*x[258] + 951.0*x[259] + 218.0*x[260] + 329.0*x[261] + 735.0*x[262] + 284.0*x[263] + 466.0*x[264] + 298.0*x[265] + 267.0*x[266] + 992.0*x[267] + 448.0*x[268] + 518.0*x[269] + 74.0*x[270] + 647.0*x[271] + 879.0*x[272] + 515.0*x[273] + 976.0*x[274] + 638.0*x[275] + 721.0*x[276] + 171.0*x[277] + 122.0*x[278] + 530.0*x[279] + 407.0*x[280] + 416.0*x[281] + 115.0*x[282] + 700.0*x[283] + 868.0*x[284] + 611.0*x[285] + 158.0*x[286] + 17.0*x[287] + 397.0*x[288] + 731.0*x[289] + 552.0*x[290] + 883.0*x[291] + 816.0*x[292] + 5.0*x[293] + 315.0*x[294] + 137.0*x[295] + 359.0*x[296] + 961.0*x[297] + 345.0*x[298] + 86.0*x[299] + 403.0*x[300] + 294.0*x[301] + 343.0*x[302] + 85.0*x[303] + 200.0*x[304] + 298.0*x[305] + 693.0*x[306] + 144.0*x[307] + 549.0*x[308] + 332.0*x[309] + 55.0*x[310] + 402.0*x[311] + 808.0*x[312] + 606.0*x[313] + 558.0*x[314] + 75.0*x[315] + 107.0*x[316] + 3.0*x[317] + 972.0*x[318] + 469.0*x[319] + 697.0*x[320] + 212.0*x[321] + 265.0*x[322] + 488.0*x[323] + 151.0*x[324] + 634.0*x[325] + 32.0*x[326] + 186.0*x[327] + 98.0*x[328] + 467.0*x[329] + 704.0*x[330] + 180.0*x[331] + 860.0*x[332] + 917.0*x[333] + 515.0*x[334] + 421.0*x[335] + 254.0*x[336] + 276.0*x[337] + 201.0*x[338] + 111.0*x[339] + 317.0*x[340] + 203.0*x[341] + 170.0*x[342] + 355.0*x[343] + 244.0*x[344] + 459.0*x[345] + 830.0*x[346] + 117.0*x[347] + 501.0*x[348] + 623.0*x[349] + 405.0*x[350] + 576.0*x[351] + 783.0*x[352] + 243.0*x[353] + 21.0*x[354] + 391.0*x[355] + 965.0*x[356] + 728.0*x[357] + 382.0*x[358] + 536.0*x[359] + 229.0*x[360] + 514.0*x[361] + 983.0*x[362] + 465.0*x[363] + 500.0*x[364] + 723.0*x[365] + 703.0*x[366] + 80.0*x[367] + 425.0*x[368] + 951.0*x[369] + 659.0*x[370] + 876.0*x[371] + 216.0*x[372] + 215.0*x[373] + 163.0*x[374] + 13.0*x[375] + 979.0*x[376] + 633.0*x[377] + 114.0*x[378] + 883.0*x[379] + 560.0*x[380] + 574.0*x[381] + 313.0*x[382] + 737.0*x[383] + 909.0*x[384] + 369.0*x[385] + 139.0*x[386] + 176.0*x[387] + 60.0*x[388] + 872.0*x[389] + 30.0*x[390] + 635.0*x[391] + 502.0*x[392] + 948.0*x[393] + 447.0*x[394] + 166.0*x[395] + 825.0*x[396] + 121.0*x[397] + 346.0*x[398] + 670.0*x[399] + 73.0*x[400] + 284.0*x[401] + 11.0*x[402] + 575.0*x[403] + 264.0*x[404] + 104.0*x[405] + 664.0*x[406] + 415.0*x[407] + 789.0*x[408] + 703.0*x[409] + 147.0*x[410] + 229.0*x[411] + 317.0*x[412] + 800.0*x[413] + 25.0*x[414] + 233.0*x[415] + 308.0*x[416] + 661.0*x[417] + 956.0*x[418] + 459.0*x[419] + 434.0*x[420] + 256.0*x[421] + 40.0*x[422] + 811.0*x[423] + 950.0*x[424] + 75.0*x[425] + 303.0*x[426] + 467.0*x[427] + 4.0*x[428] + 53.0*x[429] + 357.0*x[430] + 910.0*x[431] + 766.0*x[432] + 388.0*x[433] + 986.0*x[434] + 535.0*x[435] + 67.0*x[436] + 214.0*x[437] + 171.0*x[438] + 714.0*x[439] + 890.0*x[440] + 701.0*x[441] + 216.0*x[442] + 739.0*x[443] + 236.0*x[444] + 549.0*x[445] + 36.0*x[446] + 224.0*x[447] + 421.0*x[448] + 342.0*x[449] + 591.0*x[450] + 887.0*x[451] + 609.0*x[452] + 610.0*x[453] + 410.0*x[454] + 807.0*x[455] + 510.0*x[456] + 422.0*x[457] + 383.0*x[458] + 120.0*x[459] + 725.0*x[460] + 305.0*x[461] + 814.0*x[462] + 401.0*x[463] + 584.0*x[464] + 366.0*x[465] + 864.0*x[466] + 421.0*x[467] + 130.0*x[468] + 193.0*x[469] + 652.0*x[470] + 477.0*x[471] + 10.0*x[472] + 347.0*x[473] + 626.0*x[474] + 492.0*x[475] + 837.0*x[476] + 141.0*x[477] + 707.0*x[478] + 517.0*x[479] + 430.0*x[480] + 94.0*x[481] + 948.0*x[482] + 69.0*x[483] + 231.0*x[484] + 501.0*x[485] + 7.0*x[486] + 480.0*x[487] + 164.0*x[488] + 902.0*x[489] + 768.0*x[490] + 68.0*x[491] + 340.0*x[492] + 500.0*x[493] + 896.0*x[494] + 623.0*x[495] + 46.0*x[496] + 474.0*x[497] + 707.0*x[498] + 625.0*x[499] : 173725.0 :   True\n",
            "          2 :  -Inf : 246.0*x[0] + 994.0*x[1] + 938.0*x[2] + 617.0*x[3] + 84.0*x[4] + 49.0*x[5] + 232.0*x[6] + 137.0*x[7] + 1000.0*x[8] + 201.0*x[9] + 101.0*x[10] + 265.0*x[11] + 496.0*x[12] + 53.0*x[13] + 20.0*x[14] + 645.0*x[15] + 77.0*x[16] + 33.0*x[17] + 164.0*x[18] + 565.0*x[19] + 801.0*x[20] + 417.0*x[21] + 553.0*x[22] + 824.0*x[23] + 25.0*x[24] + 798.0*x[25] + 17.0*x[26] + 471.0*x[27] + 954.0*x[28] + 961.0*x[29] + 598.0*x[30] + 499.0*x[31] + 869.0*x[32] + 407.0*x[33] + 333.0*x[34] + 926.0*x[35] + 26.0*x[36] + 208.0*x[37] + 675.0*x[38] + 746.0*x[39] + 197.0*x[40] + 960.0*x[41] + 682.0*x[42] + 804.0*x[43] + 451.0*x[44] + 273.0*x[45] + 279.0*x[46] + 286.0*x[47] + 211.0*x[48] + 151.0*x[49] + 620.0*x[50] + 447.0*x[51] + 125.0*x[52] + 329.0*x[53] + 691.0*x[54] + 627.0*x[55] + 316.0*x[56] + 200.0*x[57] + 457.0*x[58] + 418.0*x[59] + 11.0*x[60] + 993.0*x[61] + 470.0*x[62] + 730.0*x[63] + 744.0*x[64] + 298.0*x[65] + 238.0*x[66] + 612.0*x[67] + 722.0*x[68] + 607.0*x[69] + 146.0*x[70] + 726.0*x[71] + 28.0*x[72] + 954.0*x[73] + 851.0*x[74] + 582.0*x[75] + 711.0*x[76] + 36.0*x[77] + 515.0*x[78] + 393.0*x[79] + 594.0*x[80] + 405.0*x[81] + 508.0*x[82] + 390.0*x[83] + 976.0*x[84] + 149.0*x[85] + 845.0*x[86] + 982.0*x[87] + 341.0*x[88] + 776.0*x[89] + 201.0*x[90] + 888.0*x[91] + 200.0*x[92] + 660.0*x[93] + 205.0*x[94] + 967.0*x[95] + 279.0*x[96] + 603.0*x[97] + 525.0*x[98] + 762.0*x[99] + 806.0*x[100] + 22.0*x[101] + 853.0*x[102] + 678.0*x[103] + 685.0*x[104] + 255.0*x[105] + 872.0*x[106] + 390.0*x[107] + 60.0*x[108] + 308.0*x[109] + 307.0*x[110] + 862.0*x[111] + 312.0*x[112] + 349.0*x[113] + 366.0*x[114] + 770.0*x[115] + 474.0*x[116] + 613.0*x[117] + 768.0*x[118] + 889.0*x[119] + 356.0*x[120] + 904.0*x[121] + 864.0*x[122] + 345.0*x[123] + 715.0*x[124] + 41.0*x[125] + 307.0*x[126] + 889.0*x[127] + 938.0*x[128] + 792.0*x[129] + 696.0*x[130] + 809.0*x[131] + 116.0*x[132] + 381.0*x[133] + 557.0*x[134] + 2.0*x[135] + 184.0*x[136] + 311.0*x[137] + 248.0*x[138] + 973.0*x[139] + 330.0*x[140] + 979.0*x[141] + 13.0*x[142] + 620.0*x[143] + 742.0*x[144] + 678.0*x[145] + 434.0*x[146] + 378.0*x[147] + 947.0*x[148] + 145.0*x[149] + 995.0*x[150] + 612.0*x[151] + 672.0*x[152] + 799.0*x[153] + 998.0*x[154] + 740.0*x[155] + 722.0*x[156] + 136.0*x[157] + 759.0*x[158] + 905.0*x[159] + 313.0*x[160] + 714.0*x[161] + 193.0*x[162] + 369.0*x[163] + 702.0*x[164] + 604.0*x[165] + 801.0*x[166] + 361.0*x[167] + 668.0*x[168] + 107.0*x[169] + 43.0*x[170] + 650.0*x[171] + 793.0*x[172] + 160.0*x[173] + 777.0*x[174] + 860.0*x[175] + 388.0*x[176] + 320.0*x[177] + 351.0*x[178] + 351.0*x[179] + 467.0*x[180] + 626.0*x[181] + 847.0*x[182] + 678.0*x[183] + 499.0*x[184] + 981.0*x[185] + 556.0*x[186] + 66.0*x[187] + 134.0*x[188] + 633.0*x[189] + 633.0*x[190] + 455.0*x[191] + 820.0*x[192] + 218.0*x[193] + 320.0*x[194] + 633.0*x[195] + 890.0*x[196] + 532.0*x[197] + 450.0*x[198] + 380.0*x[199] + 643.0*x[200] + 698.0*x[201] + 98.0*x[202] + 158.0*x[203] + 233.0*x[204] + 884.0*x[205] + 63.0*x[206] + 502.0*x[207] + 881.0*x[208] + 883.0*x[209] + 389.0*x[210] + 241.0*x[211] + 314.0*x[212] + 622.0*x[213] + 659.0*x[214] + 112.0*x[215] + 868.0*x[216] + 811.0*x[217] + 890.0*x[218] + 267.0*x[219] + 72.0*x[220] + 212.0*x[221] + 482.0*x[222] + 475.0*x[223] + 771.0*x[224] + 63.0*x[225] + 620.0*x[226] + 978.0*x[227] + 449.0*x[228] + 692.0*x[229] + 847.0*x[230] + 251.0*x[231] + 436.0*x[232] + 980.0*x[233] + 348.0*x[234] + 113.0*x[235] + 106.0*x[236] + 173.0*x[237] + 584.0*x[238] + 497.0*x[239] + 679.0*x[240] + 440.0*x[241] + 525.0*x[242] + 711.0*x[243] + 512.0*x[244] + 623.0*x[245] + 855.0*x[246] + 738.0*x[247] + 170.0*x[248] + 951.0*x[249] + 55.0*x[250] + 398.0*x[251] + 862.0*x[252] + 938.0*x[253] + 713.0*x[254] + 164.0*x[255] + 534.0*x[256] + 241.0*x[257] + 734.0*x[258] + 892.0*x[259] + 124.0*x[260] + 67.0*x[261] + 425.0*x[262] + 126.0*x[263] + 734.0*x[264] + 153.0*x[265] + 897.0*x[266] + 243.0*x[267] + 147.0*x[268] + 205.0*x[269] + 604.0*x[270] + 294.0*x[271] + 597.0*x[272] + 438.0*x[273] + 134.0*x[274] + 842.0*x[275] + 524.0*x[276] + 340.0*x[277] + 108.0*x[278] + 571.0*x[279] + 159.0*x[280] + 139.0*x[281] + 739.0*x[282] + 860.0*x[283] + 113.0*x[284] + 98.0*x[285] + 215.0*x[286] + 987.0*x[287] + 604.0*x[288] + 120.0*x[289] + 773.0*x[290] + 510.0*x[291] + 401.0*x[292] + 100.0*x[293] + 399.0*x[294] + 420.0*x[295] + 355.0*x[296] + 721.0*x[297] + 787.0*x[298] + 923.0*x[299] + 534.0*x[300] + 611.0*x[301] + 938.0*x[302] + 373.0*x[303] + 275.0*x[304] + 396.0*x[305] + 761.0*x[306] + 290.0*x[307] + 328.0*x[308] + 941.0*x[309] + 641.0*x[310] + 428.0*x[311] + 945.0*x[312] + 182.0*x[313] + 567.0*x[314] + 236.0*x[315] + 105.0*x[316] + 668.0*x[317] + 963.0*x[318] + 904.0*x[319] + 71.0*x[320] + 373.0*x[321] + 713.0*x[322] + 545.0*x[323] + 209.0*x[324] + 148.0*x[325] + 233.0*x[326] + 582.0*x[327] + 937.0*x[328] + 564.0*x[329] + 223.0*x[330] + 178.0*x[331] + 186.0*x[332] + 711.0*x[333] + 186.0*x[334] + 174.0*x[335] + 248.0*x[336] + 908.0*x[337] + 349.0*x[338] + 894.0*x[339] + 874.0*x[340] + 515.0*x[341] + 463.0*x[342] + 621.0*x[343] + 929.0*x[344] + 960.0*x[345] + 794.0*x[346] + 224.0*x[347] + 398.0*x[348] + 848.0*x[349] + 182.0*x[350] + 906.0*x[351] + 381.0*x[352] + 974.0*x[353] + 467.0*x[354] + 429.0*x[355] + 524.0*x[356] + 796.0*x[357] + 480.0*x[358] + 323.0*x[359] + 713.0*x[360] + 563.0*x[361] + 279.0*x[362] + 608.0*x[363] + 766.0*x[364] + 281.0*x[365] + 501.0*x[366] + 704.0*x[367] + 878.0*x[368] + 102.0*x[369] + 778.0*x[370] + 839.0*x[371] + 92.0*x[372] + 836.0*x[373] + 901.0*x[374] + 493.0*x[375] + 712.0*x[376] + 657.0*x[377] + 613.0*x[378] + 166.0*x[379] + 224.0*x[380] + 990.0*x[381] + 415.0*x[382] + 178.0*x[383] + 576.0*x[384] + 741.0*x[385] + 114.0*x[386] + 401.0*x[387] + 458.0*x[388] + 549.0*x[389] + 476.0*x[390] + 316.0*x[391] + 812.0*x[392] + 205.0*x[393] + 266.0*x[394] + 764.0*x[395] + 379.0*x[396] + 554.0*x[397] + 282.0*x[398] + 164.0*x[399] + 651.0*x[400] + 712.0*x[401] + 561.0*x[402] + 493.0*x[403] + 348.0*x[404] + 674.0*x[405] + 764.0*x[406] + 581.0*x[407] + 412.0*x[408] + 66.0*x[409] + 151.0*x[410] + 750.0*x[411] + 559.0*x[412] + 671.0*x[413] + 222.0*x[414] + 240.0*x[415] + 286.0*x[416] + 793.0*x[417] + 135.0*x[418] + 886.0*x[419] + 939.0*x[420] + 366.0*x[421] + 804.0*x[422] + 265.0*x[423] + 416.0*x[424] + 818.0*x[425] + 593.0*x[426] + 543.0*x[427] + 874.0*x[428] + 448.0*x[429] + 250.0*x[430] + 321.0*x[431] + 113.0*x[432] + 12.0*x[433] + 914.0*x[434] + 800.0*x[435] + 292.0*x[436] + 180.0*x[437] + 947.0*x[438] + 757.0*x[439] + 278.0*x[440] + 281.0*x[441] + 168.0*x[442] + 850.0*x[443] + 891.0*x[444] + 154.0*x[445] + 948.0*x[446] + 339.0*x[447] + 41.0*x[448] + 858.0*x[449] + 713.0*x[450] + 652.0*x[451] + 30.0*x[452] + 663.0*x[453] + 368.0*x[454] + 674.0*x[455] + 70.0*x[456] + 266.0*x[457] + 371.0*x[458] + 489.0*x[459] + 73.0*x[460] + 805.0*x[461] + 908.0*x[462] + 905.0*x[463] + 702.0*x[464] + 880.0*x[465] + 451.0*x[466] + 119.0*x[467] + 242.0*x[468] + 266.0*x[469] + 130.0*x[470] + 852.0*x[471] + 686.0*x[472] + 936.0*x[473] + 825.0*x[474] + 680.0*x[475] + 148.0*x[476] + 390.0*x[477] + 792.0*x[478] + 221.0*x[479] + 887.0*x[480] + 433.0*x[481] + 128.0*x[482] + 883.0*x[483] + 613.0*x[484] + 776.0*x[485] + 624.0*x[486] + 470.0*x[487] + 214.0*x[488] + 486.0*x[489] + 113.0*x[490] + 26.0*x[491] + 777.0*x[492] + 688.0*x[493] + 312.0*x[494] + 442.0*x[495] + 683.0*x[496] + 734.0*x[497] + 423.0*x[498] + 691.0*x[499] : 190019.0 :   True\n",
            "          3 :  -Inf :                                     799.0*x[0] + 228.0*x[1] + 10.0*x[2] + 731.0*x[3] + 836.0*x[4] + 270.0*x[5] + 986.0*x[6] + 337.0*x[7] + 233.0*x[8] + 22.0*x[9] + 131.0*x[10] + 891.0*x[11] + 73.0*x[12] + 388.0*x[13] + 365.0*x[14] + 106.0*x[15] + 471.0*x[16] + 498.0*x[17] + 46.0*x[18] + 918.0*x[19] + 808.0*x[20] + 20.0*x[21] + 498.0*x[22] + 689.0*x[23] + 763.0*x[24] + 849.0*x[25] + 767.0*x[26] + 188.0*x[27] + 681.0*x[28] + 598.0*x[29] + 779.0*x[30] + 867.0*x[31] + 771.0*x[32] + 587.0*x[33] + 66.0*x[34] + 986.0*x[35] + 520.0*x[36] + 595.0*x[37] + 913.0*x[38] + 100.0*x[39] + 28.0*x[40] + 679.0*x[41] + 732.0*x[42] + 392.0*x[43] + 136.0*x[44] + 597.0*x[45] + 344.0*x[46] + 34.0*x[47] + 900.0*x[48] + 843.0*x[49] + 887.0*x[50] + 10.0*x[51] + 244.0*x[52] + 414.0*x[53] + 375.0*x[54] + 662.0*x[55] + 781.0*x[56] + 729.0*x[57] + 433.0*x[58] + 665.0*x[59] + 678.0*x[60] + 30.0*x[61] + 874.0*x[62] + 417.0*x[63] + 406.0*x[64] + 317.0*x[65] + 635.0*x[66] + 9.0*x[67] + 426.0*x[68] + 528.0*x[69] + 41.0*x[70] + 58.0*x[71] + 692.0*x[72] + 146.0*x[73] + 844.0*x[74] + 722.0*x[75] + 202.0*x[76] + 75.0*x[77] + 616.0*x[78] + 722.0*x[79] + 171.0*x[80] + 749.0*x[81] + 725.0*x[82] + 465.0*x[83] + 202.0*x[84] + 587.0*x[85] + 991.0*x[86] + 547.0*x[87] + 560.0*x[88] + 990.0*x[89] + 181.0*x[90] + 655.0*x[91] + 19.0*x[92] + 664.0*x[93] + 225.0*x[94] + 218.0*x[95] + 233.0*x[96] + 84.0*x[97] + 996.0*x[98] + 151.0*x[99] + 530.0*x[100] + 755.0*x[101] + 431.0*x[102] + 251.0*x[103] + 520.0*x[104] + 128.0*x[105] + 34.0*x[106] + 914.0*x[107] + 64.0*x[108] + 606.0*x[109] + 133.0*x[110] + 876.0*x[111] + 534.0*x[112] + 71.0*x[113] + 384.0*x[114] + 572.0*x[115] + 26.0*x[116] + 299.0*x[117] + 530.0*x[118] + 518.0*x[119] + 572.0*x[120] + 450.0*x[121] + 739.0*x[122] + 438.0*x[123] + 104.0*x[124] + 738.0*x[125] + 754.0*x[126] + 33.0*x[127] + 985.0*x[128] + 471.0*x[129] + 286.0*x[130] + 565.0*x[131] + 704.0*x[132] + 806.0*x[133] + 854.0*x[134] + 63.0*x[135] + 858.0*x[136] + 856.0*x[137] + 886.0*x[138] + 799.0*x[139] + 802.0*x[140] + 815.0*x[141] + 320.0*x[142] + 310.0*x[143] + 443.0*x[144] + 889.0*x[145] + 6.0*x[146] + 811.0*x[147] + 115.0*x[148] + 543.0*x[149] + 41.0*x[150] + 400.0*x[151] + 729.0*x[152] + 148.0*x[153] + 84.0*x[154] + 328.0*x[155] + 461.0*x[156] + 262.0*x[157] + 317.0*x[158] + 500.0*x[159] + 609.0*x[160] + 287.0*x[161] + 656.0*x[162] + 130.0*x[163] + 179.0*x[164] + 976.0*x[165] + 707.0*x[166] + 525.0*x[167] + 488.0*x[168] + 946.0*x[169] + 769.0*x[170] + 635.0*x[171] + 624.0*x[172] + 396.0*x[173] + 696.0*x[174] + 256.0*x[175] + 867.0*x[176] + 507.0*x[177] + 522.0*x[178] + 229.0*x[179] + 463.0*x[180] + 989.0*x[181] + 579.0*x[182] + 201.0*x[183] + 455.0*x[184] + 44.0*x[185] + 743.0*x[186] + 363.0*x[187] + 514.0*x[188] + 83.0*x[189] + 169.0*x[190] + 676.0*x[191] + 792.0*x[192] + 794.0*x[193] + 43.0*x[194] + 759.0*x[195] + 13.0*x[196] + 705.0*x[197] + 864.0*x[198] + 782.0*x[199] + 939.0*x[200] + 702.0*x[201] + 371.0*x[202] + 12.0*x[203] + 866.0*x[204] + 887.0*x[205] + 486.0*x[206] + 60.0*x[207] + 215.0*x[208] + 846.0*x[209] + 641.0*x[210] + 835.0*x[211] + 725.0*x[212] + 775.0*x[213] + 761.0*x[214] + 736.0*x[215] + 381.0*x[216] + 91.0*x[217] + 28.0*x[218] + 384.0*x[219] + 207.0*x[220] + 658.0*x[221] + 734.0*x[222] + 961.0*x[223] + 198.0*x[224] + 642.0*x[225] + 933.0*x[226] + 860.0*x[227] + 853.0*x[228] + 434.0*x[229] + 525.0*x[230] + 625.0*x[231] + 716.0*x[232] + 421.0*x[233] + 163.0*x[234] + 714.0*x[235] + 152.0*x[236] + 591.0*x[237] + 313.0*x[238] + 712.0*x[239] + 637.0*x[240] + 121.0*x[241] + 862.0*x[242] + 437.0*x[243] + 76.0*x[244] + 948.0*x[245] + 674.0*x[246] + 238.0*x[247] + 117.0*x[248] + 391.0*x[249] + 804.0*x[250] + 422.0*x[251] + 147.0*x[252] + 209.0*x[253] + 837.0*x[254] + 402.0*x[255] + 467.0*x[256] + 6.0*x[257] + 369.0*x[258] + 569.0*x[259] + 474.0*x[260] + 745.0*x[261] + 360.0*x[262] + 264.0*x[263] + 297.0*x[264] + 549.0*x[265] + 633.0*x[266] + 94.0*x[267] + 769.0*x[268] + 420.0*x[269] + 505.0*x[270] + 548.0*x[271] + 262.0*x[272] + 396.0*x[273] + 230.0*x[274] + 571.0*x[275] + 126.0*x[276] + 324.0*x[277] + 575.0*x[278] + 354.0*x[279] + 246.0*x[280] + 506.0*x[281] + 951.0*x[282] + 78.0*x[283] + 768.0*x[284] + 802.0*x[285] + 5.0*x[286] + 696.0*x[287] + 446.0*x[288] + 214.0*x[289] + 869.0*x[290] + 357.0*x[291] + 14.0*x[292] + 456.0*x[293] + 212.0*x[294] + 713.0*x[295] + 371.0*x[296] + 760.0*x[297] + 54.0*x[298] + 464.0*x[299] + 831.0*x[300] + 358.0*x[301] + 719.0*x[302] + 90.0*x[303] + 194.0*x[304] + 263.0*x[305] + 579.0*x[306] + 36.0*x[307] + x[308] + 559.0*x[309] + 351.0*x[310] + 542.0*x[311] + 95.0*x[312] + 451.0*x[313] + 668.0*x[314] + 680.0*x[315] + 93.0*x[316] + 572.0*x[317] + 863.0*x[318] + 883.0*x[319] + 265.0*x[320] + 514.0*x[321] + 809.0*x[322] + 121.0*x[323] + 431.0*x[324] + 526.0*x[325] + 551.0*x[326] + 172.0*x[327] + 370.0*x[328] + 413.0*x[329] + 785.0*x[330] + 936.0*x[331] + 273.0*x[332] + 925.0*x[333] + 618.0*x[334] + 200.0*x[335] + 745.0*x[336] + 930.0*x[337] + 757.0*x[338] + 129.0*x[339] + 263.0*x[340] + 846.0*x[341] + 826.0*x[342] + 976.0*x[343] + 970.0*x[344] + 930.0*x[345] + 403.0*x[346] + 820.0*x[347] + 42.0*x[348] + 727.0*x[349] + 274.0*x[350] + 650.0*x[351] + 955.0*x[352] + 146.0*x[353] + 582.0*x[354] + 325.0*x[355] + 46.0*x[356] + 219.0*x[357] + 785.0*x[358] + 723.0*x[359] + 470.0*x[360] + 556.0*x[361] + 666.0*x[362] + 581.0*x[363] + 694.0*x[364] + 18.0*x[365] + 963.0*x[366] + 390.0*x[367] + 507.0*x[368] + 365.0*x[369] + 699.0*x[370] + 945.0*x[371] + 758.0*x[372] + 984.0*x[373] + 993.0*x[374] + 872.0*x[375] + 613.0*x[376] + 335.0*x[377] + 461.0*x[378] + 353.0*x[379] + 590.0*x[380] + 779.0*x[381] + 966.0*x[382] + 871.0*x[383] + 827.0*x[384] + 39.0*x[385] + 595.0*x[386] + 624.0*x[387] + 772.0*x[388] + 335.0*x[389] + 722.0*x[390] + 324.0*x[391] + 519.0*x[392] + 926.0*x[393] + 626.0*x[394] + 505.0*x[395] + 520.0*x[396] + 68.0*x[397] + 218.0*x[398] + 590.0*x[399] + 976.0*x[400] + 457.0*x[401] + 589.0*x[402] + 541.0*x[403] + 231.0*x[404] + 613.0*x[405] + 244.0*x[406] + 168.0*x[407] + 282.0*x[408] + 515.0*x[409] + 857.0*x[410] + 632.0*x[411] + 843.0*x[412] + 848.0*x[413] + 604.0*x[414] + 455.0*x[415] + 634.0*x[416] + 39.0*x[417] + 576.0*x[418] + 779.0*x[419] + 415.0*x[420] + 283.0*x[421] + 339.0*x[422] + 47.0*x[423] + 645.0*x[424] + 713.0*x[425] + 841.0*x[426] + 841.0*x[427] + 229.0*x[428] + 811.0*x[429] + 477.0*x[430] + 534.0*x[431] + 928.0*x[432] + 549.0*x[433] + 396.0*x[434] + 773.0*x[435] + 482.0*x[436] + 373.0*x[437] + 137.0*x[438] + 374.0*x[439] + 439.0*x[440] + 4.0*x[441] + 928.0*x[442] + 40.0*x[443] + 727.0*x[444] + 591.0*x[445] + 252.0*x[446] + 37.0*x[447] + 641.0*x[448] + 452.0*x[449] + 38.0*x[450] + 206.0*x[451] + 72.0*x[452] + 541.0*x[453] + 780.0*x[454] + 382.0*x[455] + 184.0*x[456] + 335.0*x[457] + 806.0*x[458] + 456.0*x[459] + 967.0*x[460] + 591.0*x[461] + 310.0*x[462] + 143.0*x[463] + 347.0*x[464] + 905.0*x[465] + 175.0*x[466] + 457.0*x[467] + 975.0*x[468] + 280.0*x[469] + 635.0*x[470] + 418.0*x[471] + 294.0*x[472] + 564.0*x[473] + 329.0*x[474] + 691.0*x[475] + 299.0*x[476] + 735.0*x[477] + 908.0*x[478] + 823.0*x[479] + 86.0*x[480] + 38.0*x[481] + 509.0*x[482] + 889.0*x[483] + 503.0*x[484] + 359.0*x[485] + 124.0*x[486] + 927.0*x[487] + 448.0*x[488] + 591.0*x[489] + 33.0*x[490] + 476.0*x[491] + 468.0*x[492] + 289.0*x[493] + 613.0*x[494] + 984.0*x[495] + 961.0*x[496] + 13.0*x[497] + 231.0*x[498] + 440.0*x[499] : 186926.0 :   True\n",
            "          4 :  -Inf :                  463.0*x[0] + 654.0*x[1] + 167.0*x[2] + 574.0*x[3] + 29.0*x[4] + 338.0*x[5] + 964.0*x[6] + 958.0*x[7] + 976.0*x[8] + 848.0*x[9] + 207.0*x[10] + 670.0*x[11] + 882.0*x[12] + 11.0*x[13] + 836.0*x[14] + 75.0*x[15] + 756.0*x[16] + 360.0*x[17] + 315.0*x[18] + 931.0*x[19] + 724.0*x[20] + 273.0*x[21] + 587.0*x[22] + 526.0*x[23] + 293.0*x[24] + 391.0*x[25] + 521.0*x[26] + 971.0*x[27] + 938.0*x[28] + 282.0*x[29] + 419.0*x[30] + 603.0*x[31] + 824.0*x[32] + 888.0*x[33] + 495.0*x[34] + 528.0*x[35] + 269.0*x[36] + 230.0*x[37] + 522.0*x[38] + 252.0*x[39] + 228.0*x[40] + 802.0*x[41] + 946.0*x[42] + 81.0*x[43] + 990.0*x[44] + 972.0*x[45] + 883.0*x[46] + 973.0*x[47] + 775.0*x[48] + 240.0*x[49] + 770.0*x[50] + 985.0*x[51] + 278.0*x[52] + 861.0*x[53] + 83.0*x[54] + 261.0*x[55] + 362.0*x[56] + 923.0*x[57] + 34.0*x[58] + 893.0*x[59] + 189.0*x[60] + 342.0*x[61] + 611.0*x[62] + 786.0*x[63] + 66.0*x[64] + 677.0*x[65] + 851.0*x[66] + 849.0*x[67] + 918.0*x[68] + 297.0*x[69] + 779.0*x[70] + 707.0*x[71] + 424.0*x[72] + 541.0*x[73] + 400.0*x[74] + 442.0*x[75] + 40.0*x[76] + 50.0*x[77] + 835.0*x[78] + 590.0*x[79] + 864.0*x[80] + 464.0*x[81] + 1000.0*x[82] + 98.0*x[83] + 349.0*x[84] + 524.0*x[85] + 921.0*x[86] + 834.0*x[87] + 956.0*x[88] + 748.0*x[89] + 857.0*x[90] + 729.0*x[91] + 372.0*x[92] + 979.0*x[93] + 768.0*x[94] + 628.0*x[95] + 255.0*x[96] + 325.0*x[97] + 634.0*x[98] + 984.0*x[99] + 320.0*x[100] + 49.0*x[101] + 758.0*x[102] + 724.0*x[103] + 756.0*x[104] + 850.0*x[105] + 166.0*x[106] + 247.0*x[107] + 177.0*x[108] + 756.0*x[109] + 355.0*x[110] + 663.0*x[111] + 615.0*x[112] + 102.0*x[113] + 990.0*x[114] + 926.0*x[115] + 384.0*x[116] + 116.0*x[117] + 983.0*x[118] + 893.0*x[119] + 713.0*x[120] + 34.0*x[121] + 326.0*x[122] + 261.0*x[123] + 581.0*x[124] + 736.0*x[125] + 98.0*x[126] + 498.0*x[127] + 814.0*x[128] + 440.0*x[129] + 108.0*x[130] + 495.0*x[131] + 795.0*x[132] + 224.0*x[133] + 35.0*x[134] + 735.0*x[135] + 544.0*x[136] + 279.0*x[137] + 318.0*x[138] + 872.0*x[139] + 753.0*x[140] + 594.0*x[141] + 964.0*x[142] + 728.0*x[143] + 52.0*x[144] + 68.0*x[145] + 123.0*x[146] + 469.0*x[147] + 881.0*x[148] + 951.0*x[149] + 538.0*x[150] + 118.0*x[151] + 866.0*x[152] + 21.0*x[153] + 711.0*x[154] + 226.0*x[155] + 194.0*x[156] + 541.0*x[157] + 592.0*x[158] + 564.0*x[159] + 63.0*x[160] + 166.0*x[161] + 10.0*x[162] + 355.0*x[163] + 175.0*x[164] + 709.0*x[165] + 971.0*x[166] + 132.0*x[167] + 932.0*x[168] + 526.0*x[169] + 328.0*x[170] + 878.0*x[171] + 96.0*x[172] + 452.0*x[173] + 429.0*x[174] + 49.0*x[175] + 255.0*x[176] + 41.0*x[177] + 184.0*x[178] + 142.0*x[179] + 702.0*x[180] + 28.0*x[181] + 572.0*x[182] + 916.0*x[183] + 239.0*x[184] + 558.0*x[185] + 686.0*x[186] + 472.0*x[187] + 25.0*x[188] + 546.0*x[189] + 330.0*x[190] + 417.0*x[191] + 378.0*x[192] + 256.0*x[193] + 939.0*x[194] + 887.0*x[195] + 732.0*x[196] + 616.0*x[197] + 709.0*x[198] + 874.0*x[199] + 424.0*x[200] + 55.0*x[201] + 835.0*x[202] + 633.0*x[203] + 509.0*x[204] + 979.0*x[205] + 70.0*x[206] + 617.0*x[207] + 663.0*x[208] + 309.0*x[209] + 356.0*x[210] + 706.0*x[211] + 296.0*x[212] + 804.0*x[213] + 620.0*x[214] + 496.0*x[215] + 16.0*x[216] + 260.0*x[217] + 323.0*x[218] + 190.0*x[219] + 99.0*x[220] + 592.0*x[221] + 641.0*x[222] + 523.0*x[223] + 494.0*x[224] + 533.0*x[225] + 200.0*x[226] + 825.0*x[227] + 482.0*x[228] + 977.0*x[229] + 714.0*x[230] + 881.0*x[231] + 652.0*x[232] + 168.0*x[233] + 111.0*x[234] + 457.0*x[235] + 810.0*x[236] + 741.0*x[237] + 992.0*x[238] + 761.0*x[239] + 310.0*x[240] + 233.0*x[241] + 295.0*x[242] + 104.0*x[243] + 248.0*x[244] + 189.0*x[245] + 539.0*x[246] + 793.0*x[247] + 972.0*x[248] + 350.0*x[249] + 165.0*x[250] + 757.0*x[251] + 721.0*x[252] + 742.0*x[253] + 636.0*x[254] + 999.0*x[255] + 741.0*x[256] + 356.0*x[257] + 496.0*x[258] + 554.0*x[259] + 417.0*x[260] + 49.0*x[261] + 697.0*x[262] + 107.0*x[263] + 72.0*x[264] + 474.0*x[265] + 901.0*x[266] + 245.0*x[267] + 486.0*x[268] + 228.0*x[269] + 83.0*x[270] + 233.0*x[271] + 586.0*x[272] + 707.0*x[273] + 522.0*x[274] + 626.0*x[275] + 420.0*x[276] + 249.0*x[277] + 432.0*x[278] + 241.0*x[279] + 13.0*x[280] + 590.0*x[281] + 853.0*x[282] + 661.0*x[283] + 865.0*x[284] + 444.0*x[285] + 748.0*x[286] + 536.0*x[287] + 341.0*x[288] + 696.0*x[289] + 932.0*x[290] + 266.0*x[291] + 968.0*x[292] + 775.0*x[293] + 922.0*x[294] + 766.0*x[295] + 732.0*x[296] + 654.0*x[297] + 44.0*x[298] + 846.0*x[299] + 769.0*x[300] + 919.0*x[301] + 550.0*x[302] + 352.0*x[303] + 245.0*x[304] + 469.0*x[305] + 493.0*x[306] + 438.0*x[307] + 653.0*x[308] + 270.0*x[309] + 492.0*x[310] + 302.0*x[311] + 634.0*x[312] + 348.0*x[313] + 962.0*x[314] + 269.0*x[315] + 788.0*x[316] + 138.0*x[317] + 424.0*x[318] + 548.0*x[319] + 576.0*x[320] + 590.0*x[321] + 315.0*x[322] + 872.0*x[323] + 617.0*x[324] + 787.0*x[325] + 206.0*x[326] + 35.0*x[327] + 39.0*x[328] + 763.0*x[329] + 621.0*x[330] + 148.0*x[331] + 402.0*x[332] + 446.0*x[333] + 849.0*x[334] + 167.0*x[335] + 629.0*x[336] + 94.0*x[337] + 294.0*x[338] + 124.0*x[339] + 995.0*x[340] + 766.0*x[341] + 158.0*x[342] + 704.0*x[343] + 387.0*x[344] + 526.0*x[345] + 772.0*x[346] + 598.0*x[347] + 418.0*x[348] + 952.0*x[349] + 896.0*x[350] + 716.0*x[351] + 84.0*x[352] + 847.0*x[353] + 549.0*x[354] + 861.0*x[355] + 514.0*x[356] + 637.0*x[357] + 148.0*x[358] + 657.0*x[359] + 299.0*x[360] + 321.0*x[361] + 807.0*x[362] + 991.0*x[363] + 803.0*x[364] + 666.0*x[365] + 757.0*x[366] + 990.0*x[367] + 676.0*x[368] + 462.0*x[369] + 488.0*x[370] + 382.0*x[371] + 470.0*x[372] + 865.0*x[373] + 655.0*x[374] + 137.0*x[375] + 255.0*x[376] + 638.0*x[377] + 660.0*x[378] + 8.0*x[379] + 195.0*x[380] + 702.0*x[381] + 717.0*x[382] + 519.0*x[383] + 866.0*x[384] + 652.0*x[385] + 11.0*x[386] + 137.0*x[387] + 557.0*x[388] + 637.0*x[389] + 901.0*x[390] + 338.0*x[391] + 334.0*x[392] + 528.0*x[393] + 714.0*x[394] + 94.0*x[395] + 666.0*x[396] + 121.0*x[397] + 65.0*x[398] + 396.0*x[399] + 216.0*x[400] + 757.0*x[401] + 728.0*x[402] + 786.0*x[403] + 78.0*x[404] + 989.0*x[405] + 294.0*x[406] + 623.0*x[407] + 512.0*x[408] + 963.0*x[409] + 473.0*x[410] + 43.0*x[411] + 767.0*x[412] + 661.0*x[413] + 454.0*x[414] + 863.0*x[415] + 283.0*x[416] + 492.0*x[417] + 245.0*x[418] + 715.0*x[419] + 848.0*x[420] + 251.0*x[421] + 864.0*x[422] + 347.0*x[423] + 634.0*x[424] + 817.0*x[425] + 159.0*x[426] + 522.0*x[427] + 361.0*x[428] + 813.0*x[429] + 117.0*x[430] + 226.0*x[431] + 370.0*x[432] + 772.0*x[433] + 144.0*x[434] + 560.0*x[435] + 331.0*x[436] + 411.0*x[437] + 867.0*x[438] + 379.0*x[439] + 556.0*x[440] + 157.0*x[441] + 692.0*x[442] + 358.0*x[443] + 294.0*x[444] + 20.0*x[445] + 228.0*x[446] + 985.0*x[447] + 285.0*x[448] + 927.0*x[449] + 890.0*x[450] + 492.0*x[451] + 5.0*x[452] + 864.0*x[453] + 758.0*x[454] + 151.0*x[455] + 277.0*x[456] + 762.0*x[457] + 54.0*x[458] + 522.0*x[459] + 534.0*x[460] + 893.0*x[461] + 810.0*x[462] + 48.0*x[463] + 154.0*x[464] + 65.0*x[465] + 496.0*x[466] + 274.0*x[467] + 645.0*x[468] + 932.0*x[469] + 255.0*x[470] + 652.0*x[471] + 380.0*x[472] + 412.0*x[473] + 964.0*x[474] + 722.0*x[475] + 376.0*x[476] + 963.0*x[477] + 406.0*x[478] + 88.0*x[479] + 417.0*x[480] + 821.0*x[481] + 594.0*x[482] + 12.0*x[483] + 850.0*x[484] + 619.0*x[485] + 86.0*x[486] + 244.0*x[487] + 169.0*x[488] + 709.0*x[489] + 781.0*x[490] + 151.0*x[491] + 274.0*x[492] + 505.0*x[493] + 288.0*x[494] + 229.0*x[495] + 408.0*x[496] + 574.0*x[497] + 711.0*x[498] + 678.0*x[499] : 192737.0 :   True\n",
            "          5 :  -Inf :                 252.0*x[0] + 735.0*x[1] + 586.0*x[2] + 187.0*x[3] + 337.0*x[4] + 760.0*x[5] + 873.0*x[6] + 550.0*x[7] + 589.0*x[8] + 58.0*x[9] + 213.0*x[10] + 402.0*x[11] + 351.0*x[12] + 111.0*x[13] + 333.0*x[14] + 930.0*x[15] + 184.0*x[16] + 812.0*x[17] + 905.0*x[18] + 387.0*x[19] + 108.0*x[20] + 73.0*x[21] + 591.0*x[22] + 185.0*x[23] + 646.0*x[24] + 481.0*x[25] + 14.0*x[26] + 98.0*x[27] + 100.0*x[28] + 770.0*x[29] + 885.0*x[30] + 637.0*x[31] + 55.0*x[32] + 228.0*x[33] + 74.0*x[34] + 992.0*x[35] + 369.0*x[36] + 538.0*x[37] + 636.0*x[38] + 675.0*x[39] + 484.0*x[40] + 634.0*x[41] + 120.0*x[42] + 656.0*x[43] + 815.0*x[44] + 571.0*x[45] + 557.0*x[46] + 87.0*x[47] + 15.0*x[48] + 195.0*x[49] + 286.0*x[50] + 372.0*x[51] + 183.0*x[52] + 646.0*x[53] + 201.0*x[54] + 976.0*x[55] + 456.0*x[56] + 574.0*x[57] + 4.0*x[58] + 783.0*x[59] + 790.0*x[60] + 197.0*x[61] + 51.0*x[62] + 126.0*x[63] + 168.0*x[64] + 276.0*x[65] + 417.0*x[66] + 874.0*x[67] + 549.0*x[68] + 385.0*x[69] + 405.0*x[70] + 737.0*x[71] + 895.0*x[72] + 169.0*x[73] + 616.0*x[74] + 842.0*x[75] + 433.0*x[76] + 283.0*x[77] + 111.0*x[78] + 131.0*x[79] + 864.0*x[80] + 441.0*x[81] + 85.0*x[82] + 182.0*x[83] + 146.0*x[84] + 220.0*x[85] + 198.0*x[86] + 523.0*x[87] + 257.0*x[88] + 759.0*x[89] + 291.0*x[90] + 140.0*x[91] + 630.0*x[92] + 472.0*x[93] + 104.0*x[94] + 538.0*x[95] + 981.0*x[96] + 893.0*x[97] + 399.0*x[98] + 67.0*x[99] + 237.0*x[100] + 317.0*x[101] + 731.0*x[102] + 96.0*x[103] + 556.0*x[104] + 833.0*x[105] + 44.0*x[106] + 447.0*x[107] + 653.0*x[108] + 166.0*x[109] + 245.0*x[110] + 662.0*x[111] + 225.0*x[112] + 980.0*x[113] + 247.0*x[114] + 370.0*x[115] + 573.0*x[116] + 428.0*x[117] + 331.0*x[118] + 707.0*x[119] + 273.0*x[120] + 932.0*x[121] + 922.0*x[122] + 56.0*x[123] + 132.0*x[124] + 817.0*x[125] + 645.0*x[126] + 145.0*x[127] + 328.0*x[128] + 89.0*x[129] + 587.0*x[130] + 368.0*x[131] + 994.0*x[132] + 118.0*x[133] + 102.0*x[134] + 919.0*x[135] + 717.0*x[136] + 785.0*x[137] + 996.0*x[138] + 992.0*x[139] + 819.0*x[140] + 444.0*x[141] + 375.0*x[142] + 855.0*x[143] + 267.0*x[144] + 630.0*x[145] + 195.0*x[146] + 984.0*x[147] + 633.0*x[148] + 277.0*x[149] + 826.0*x[150] + 55.0*x[151] + 240.0*x[152] + 213.0*x[153] + 802.0*x[154] + 916.0*x[155] + 400.0*x[156] + 458.0*x[157] + 441.0*x[158] + 563.0*x[159] + 783.0*x[160] + 559.0*x[161] + 30.0*x[162] + 76.0*x[163] + 362.0*x[164] + 412.0*x[165] + 639.0*x[166] + 559.0*x[167] + 600.0*x[168] + 337.0*x[169] + 81.0*x[170] + 493.0*x[171] + 794.0*x[172] + 646.0*x[173] + 851.0*x[174] + 303.0*x[175] + 438.0*x[176] + 662.0*x[177] + 674.0*x[178] + 799.0*x[179] + 620.0*x[180] + 7.0*x[181] + 235.0*x[182] + 209.0*x[183] + 638.0*x[184] + 642.0*x[185] + 314.0*x[186] + 599.0*x[187] + 898.0*x[188] + 994.0*x[189] + 125.0*x[190] + 823.0*x[191] + 900.0*x[192] + 151.0*x[193] + 399.0*x[194] + 749.0*x[195] + 853.0*x[196] + 664.0*x[197] + 165.0*x[198] + 480.0*x[199] + 407.0*x[200] + 258.0*x[201] + 226.0*x[202] + 461.0*x[203] + 644.0*x[204] + 674.0*x[205] + 660.0*x[206] + 477.0*x[207] + 161.0*x[208] + 572.0*x[209] + 443.0*x[210] + 624.0*x[211] + 422.0*x[212] + 234.0*x[213] + 581.0*x[214] + 455.0*x[215] + 387.0*x[216] + 715.0*x[217] + 394.0*x[218] + 19.0*x[219] + 449.0*x[220] + 329.0*x[221] + 568.0*x[222] + 606.0*x[223] + 437.0*x[224] + 705.0*x[225] + 846.0*x[226] + 676.0*x[227] + 501.0*x[228] + 104.0*x[229] + 369.0*x[230] + 257.0*x[231] + 312.0*x[232] + 770.0*x[233] + 912.0*x[234] + 674.0*x[235] + 184.0*x[236] + 666.0*x[237] + 951.0*x[238] + 731.0*x[239] + 302.0*x[240] + 776.0*x[241] + 119.0*x[242] + 531.0*x[243] + 753.0*x[244] + 646.0*x[245] + 288.0*x[246] + 961.0*x[247] + 382.0*x[248] + 385.0*x[249] + 299.0*x[250] + 581.0*x[251] + 471.0*x[252] + 440.0*x[253] + 738.0*x[254] + 935.0*x[255] + 900.0*x[256] + 517.0*x[257] + 612.0*x[258] + 945.0*x[259] + 465.0*x[260] + 342.0*x[261] + 642.0*x[262] + 651.0*x[263] + 700.0*x[264] + 787.0*x[265] + 402.0*x[266] + 169.0*x[267] + 661.0*x[268] + 437.0*x[269] + 583.0*x[270] + 527.0*x[271] + 4.0*x[272] + 147.0*x[273] + 493.0*x[274] + 88.0*x[275] + 220.0*x[276] + 467.0*x[277] + 949.0*x[278] + 9.0*x[279] + 801.0*x[280] + 523.0*x[281] + 533.0*x[282] + 192.0*x[283] + 738.0*x[284] + 837.0*x[285] + 308.0*x[286] + 483.0*x[287] + 999.0*x[288] + 268.0*x[289] + 648.0*x[290] + 603.0*x[291] + 265.0*x[292] + 753.0*x[293] + 544.0*x[294] + 766.0*x[295] + 700.0*x[296] + 676.0*x[297] + 441.0*x[298] + 485.0*x[299] + 149.0*x[300] + 267.0*x[301] + 273.0*x[302] + 513.0*x[303] + 315.0*x[304] + 244.0*x[305] + 517.0*x[306] + 358.0*x[307] + 487.0*x[308] + 530.0*x[309] + 555.0*x[310] + 525.0*x[311] + 723.0*x[312] + 457.0*x[313] + 150.0*x[314] + 786.0*x[315] + 84.0*x[316] + 178.0*x[317] + 581.0*x[318] + 570.0*x[319] + 727.0*x[320] + 629.0*x[321] + 531.0*x[322] + 499.0*x[323] + 13.0*x[324] + 89.0*x[325] + 500.0*x[326] + 585.0*x[327] + 182.0*x[328] + 725.0*x[329] + 396.0*x[330] + 956.0*x[331] + 310.0*x[332] + 580.0*x[333] + 679.0*x[334] + 914.0*x[335] + 330.0*x[336] + 82.0*x[337] + 88.0*x[338] + 438.0*x[339] + 114.0*x[340] + 970.0*x[341] + 267.0*x[342] + 853.0*x[343] + 507.0*x[344] + 739.0*x[345] + 529.0*x[346] + 796.0*x[347] + 771.0*x[348] + 886.0*x[349] + 566.0*x[350] + 628.0*x[351] + 212.0*x[352] + 960.0*x[353] + 84.0*x[354] + 209.0*x[355] + 412.0*x[356] + 407.0*x[357] + 173.0*x[358] + 741.0*x[359] + 459.0*x[360] + 446.0*x[361] + 884.0*x[362] + 343.0*x[363] + 402.0*x[364] + 569.0*x[365] + 625.0*x[366] + 370.0*x[367] + 587.0*x[368] + 600.0*x[369] + 421.0*x[370] + 687.0*x[371] + 252.0*x[372] + 459.0*x[373] + 180.0*x[374] + 915.0*x[375] + 955.0*x[376] + 305.0*x[377] + 523.0*x[378] + 150.0*x[379] + 353.0*x[380] + 689.0*x[381] + 902.0*x[382] + 968.0*x[383] + 398.0*x[384] + 309.0*x[385] + 915.0*x[386] + 108.0*x[387] + 64.0*x[388] + 530.0*x[389] + 556.0*x[390] + 514.0*x[391] + 587.0*x[392] + 272.0*x[393] + 303.0*x[394] + 741.0*x[395] + 807.0*x[396] + 569.0*x[397] + 102.0*x[398] + 401.0*x[399] + 596.0*x[400] + 955.0*x[401] + 821.0*x[402] + 426.0*x[403] + 111.0*x[404] + 813.0*x[405] + 22.0*x[406] + 45.0*x[407] + 377.0*x[408] + 852.0*x[409] + 79.0*x[410] + 39.0*x[411] + 508.0*x[412] + 691.0*x[413] + 398.0*x[414] + 319.0*x[415] + 901.0*x[416] + 180.0*x[417] + 417.0*x[418] + 765.0*x[419] + 87.0*x[420] + 425.0*x[421] + 881.0*x[422] + 295.0*x[423] + 598.0*x[424] + 857.0*x[425] + 840.0*x[426] + 744.0*x[427] + 502.0*x[428] + 147.0*x[429] + 502.0*x[430] + 638.0*x[431] + 847.0*x[432] + 996.0*x[433] + 303.0*x[434] + 775.0*x[435] + 793.0*x[436] + 617.0*x[437] + 458.0*x[438] + 460.0*x[439] + 295.0*x[440] + 227.0*x[441] + 154.0*x[442] + 689.0*x[443] + 509.0*x[444] + 765.0*x[445] + 565.0*x[446] + 753.0*x[447] + 81.0*x[448] + 766.0*x[449] + 70.0*x[450] + 84.0*x[451] + 35.0*x[452] + 830.0*x[453] + 10.0*x[454] + 357.0*x[455] + 268.0*x[456] + 779.0*x[457] + 765.0*x[458] + 901.0*x[459] + 823.0*x[460] + 249.0*x[461] + 386.0*x[462] + 363.0*x[463] + 338.0*x[464] + 260.0*x[465] + 972.0*x[466] + 118.0*x[467] + 764.0*x[468] + 525.0*x[469] + 320.0*x[470] + 487.0*x[471] + 203.0*x[472] + 734.0*x[473] + 262.0*x[474] + 49.0*x[475] + 988.0*x[476] + 621.0*x[477] + 11.0*x[478] + 758.0*x[479] + 42.0*x[480] + 946.0*x[481] + 833.0*x[482] + 392.0*x[483] + 514.0*x[484] + 89.0*x[485] + 441.0*x[486] + 852.0*x[487] + 580.0*x[488] + 301.0*x[489] + 62.0*x[490] + 567.0*x[491] + 931.0*x[492] + 891.0*x[493] + 713.0*x[494] + 269.0*x[495] + 742.0*x[496] + 738.0*x[497] + 947.0*x[498] + 798.0*x[499] : 183645.0 :   True\n",
            "\n",
            "5 Declarations: x_index x constraints_index constraints objective\n"
          ]
        }
      ],
      "source": [
        "model_ex2.pprint()"
      ]
    },
    {
      "cell_type": "code",
      "execution_count": 94,
      "metadata": {
        "id": "Qy9j25chwaB_"
      },
      "outputs": [],
      "source": [
        "!apt-get install -y -qq coinor-cbc"
      ]
    },
    {
      "cell_type": "code",
      "execution_count": 95,
      "metadata": {
        "id": "Us6ZMCu0wuUQ"
      },
      "outputs": [],
      "source": [
        "opt_cbc = SolverFactory('cbc')"
      ]
    },
    {
      "cell_type": "code",
      "execution_count": 96,
      "metadata": {
        "colab": {
          "base_uri": "https://localhost:8080/"
        },
        "id": "SgnFi9ybxwPr",
        "outputId": "2bdbfd3d-6dc0-47be-bb9e-3155a6031ef0"
      },
      "outputs": [
        {
          "name": "stdout",
          "output_type": "stream",
          "text": [
            "Solver status: ok\n",
            "Solver termination condition: optimal\n"
          ]
        }
      ],
      "source": [
        "result = opt_cbc.solve(model_ex2)\n",
        "print('Solver status:', result.solver.status)\n",
        "print('Solver termination condition:',result.solver.termination_condition)"
      ]
    },
    {
      "cell_type": "markdown",
      "metadata": {
        "id": "yMLfDPdcm5ib"
      },
      "source": [
        "$Reporting \\;the \\; optimal  \\;objective \\;function\\; value:$"
      ]
    },
    {
      "cell_type": "code",
      "execution_count": 97,
      "metadata": {
        "colab": {
          "base_uri": "https://localhost:8080/"
        },
        "id": "xBOe-RjNyHp_",
        "outputId": "08aad62c-f84c-47e5-d7b7-c25e61dc7753"
      },
      "outputs": [
        {
          "name": "stdout",
          "output_type": "stream",
          "text": [
            "Optimal Objective function value:  295828.0\n"
          ]
        }
      ],
      "source": [
        "print('Optimal Objective function value: ',model_ex2.objective())"
      ]
    },
    {
      "cell_type": "markdown",
      "metadata": {
        "id": "DAGesO1lnSHl"
      },
      "source": [
        "$$Q-4$$\n",
        "$Reporting\\; the\\; time \\;taken:$"
      ]
    },
    {
      "cell_type": "code",
      "execution_count": 98,
      "metadata": {
        "colab": {
          "base_uri": "https://localhost:8080/"
        },
        "id": "FwmJCh0lyXu_",
        "outputId": "cce8486d-7141-4e9c-c926-afa07e54f86f"
      },
      "outputs": [
        {
          "name": "stdout",
          "output_type": "stream",
          "text": [
            "The time taken by solver:  66.14599537849426\n"
          ]
        }
      ],
      "source": [
        "print('The time taken by solver: ',result.solver.time)"
      ]
    },
    {
      "cell_type": "markdown",
      "metadata": {
        "id": "-fFCN79pzHyE"
      },
      "source": [
        "$$Q-5$$\n",
        "$Now\\; we\\; will\\; solve\\; the\\; LP\\; relaxation\\; of\\; MILP$"
      ]
    },
    {
      "cell_type": "code",
      "execution_count": 99,
      "metadata": {
        "id": "75mSDMmuyvRM"
      },
      "outputs": [],
      "source": [
        "#defining lower and upper bounds for the variables:\n",
        "lower_bound = 0\n",
        "upper_bound = 1"
      ]
    },
    {
      "cell_type": "code",
      "execution_count": 100,
      "metadata": {
        "id": "769DfqfJzsYT"
      },
      "outputs": [],
      "source": [
        "#changing the domain of variables:\n",
        "for i in col_indices:\n",
        "  model_ex2.x[i].domain = Reals"
      ]
    },
    {
      "cell_type": "code",
      "execution_count": 101,
      "metadata": {
        "id": "lIvxny9uz-uL"
      },
      "outputs": [],
      "source": [
        "#applying lower and upper bounds on the real variables:\n",
        "for j in col_indices:\n",
        "  model_ex2.x[j].setlb(lower_bound)\n",
        "  model_ex2.x[j].setub(upper_bound)"
      ]
    },
    {
      "cell_type": "code",
      "execution_count": 102,
      "metadata": {
        "colab": {
          "base_uri": "https://localhost:8080/"
        },
        "id": "fGbH4s4U0U7j",
        "outputId": "fb843d53-8e49-46d8-d55f-d0622141e115"
      },
      "outputs": [
        {
          "name": "stdout",
          "output_type": "stream",
          "text": [
            "2 Set Declarations\n",
            "    constraints_index : Size=1, Index=None, Ordered=Insertion\n",
            "        Key  : Dimen : Domain : Size : Members\n",
            "        None :     1 :    Any :    5 : {1, 2, 3, 4, 5}\n",
            "    x_index : Size=1, Index=None, Ordered=False\n",
            "        Key  : Dimen : Domain : Size : Members\n",
            "        None :     1 :    Any :  500 : {0, 1, 2, 3, 4, 5, 6, 7, 8, 9, 10, 11, 12, 13, 14, 15, 16, 17, 18, 19, 20, 21, 22, 23, 24, 25, 26, 27, 28, 29, 30, 31, 32, 33, 34, 35, 36, 37, 38, 39, 40, 41, 42, 43, 44, 45, 46, 47, 48, 49, 50, 51, 52, 53, 54, 55, 56, 57, 58, 59, 60, 61, 62, 63, 64, 65, 66, 67, 68, 69, 70, 71, 72, 73, 74, 75, 76, 77, 78, 79, 80, 81, 82, 83, 84, 85, 86, 87, 88, 89, 90, 91, 92, 93, 94, 95, 96, 97, 98, 99, 100, 101, 102, 103, 104, 105, 106, 107, 108, 109, 110, 111, 112, 113, 114, 115, 116, 117, 118, 119, 120, 121, 122, 123, 124, 125, 126, 127, 128, 129, 130, 131, 132, 133, 134, 135, 136, 137, 138, 139, 140, 141, 142, 143, 144, 145, 146, 147, 148, 149, 150, 151, 152, 153, 154, 155, 156, 157, 158, 159, 160, 161, 162, 163, 164, 165, 166, 167, 168, 169, 170, 171, 172, 173, 174, 175, 176, 177, 178, 179, 180, 181, 182, 183, 184, 185, 186, 187, 188, 189, 190, 191, 192, 193, 194, 195, 196, 197, 198, 199, 200, 201, 202, 203, 204, 205, 206, 207, 208, 209, 210, 211, 212, 213, 214, 215, 216, 217, 218, 219, 220, 221, 222, 223, 224, 225, 226, 227, 228, 229, 230, 231, 232, 233, 234, 235, 236, 237, 238, 239, 240, 241, 242, 243, 244, 245, 246, 247, 248, 249, 250, 251, 252, 253, 254, 255, 256, 257, 258, 259, 260, 261, 262, 263, 264, 265, 266, 267, 268, 269, 270, 271, 272, 273, 274, 275, 276, 277, 278, 279, 280, 281, 282, 283, 284, 285, 286, 287, 288, 289, 290, 291, 292, 293, 294, 295, 296, 297, 298, 299, 300, 301, 302, 303, 304, 305, 306, 307, 308, 309, 310, 311, 312, 313, 314, 315, 316, 317, 318, 319, 320, 321, 322, 323, 324, 325, 326, 327, 328, 329, 330, 331, 332, 333, 334, 335, 336, 337, 338, 339, 340, 341, 342, 343, 344, 345, 346, 347, 348, 349, 350, 351, 352, 353, 354, 355, 356, 357, 358, 359, 360, 361, 362, 363, 364, 365, 366, 367, 368, 369, 370, 371, 372, 373, 374, 375, 376, 377, 378, 379, 380, 381, 382, 383, 384, 385, 386, 387, 388, 389, 390, 391, 392, 393, 394, 395, 396, 397, 398, 399, 400, 401, 402, 403, 404, 405, 406, 407, 408, 409, 410, 411, 412, 413, 414, 415, 416, 417, 418, 419, 420, 421, 422, 423, 424, 425, 426, 427, 428, 429, 430, 431, 432, 433, 434, 435, 436, 437, 438, 439, 440, 441, 442, 443, 444, 445, 446, 447, 448, 449, 450, 451, 452, 453, 454, 455, 456, 457, 458, 459, 460, 461, 462, 463, 464, 465, 466, 467, 468, 469, 470, 471, 472, 473, 474, 475, 476, 477, 478, 479, 480, 481, 482, 483, 484, 485, 486, 487, 488, 489, 490, 491, 492, 493, 494, 495, 496, 497, 498, 499}\n",
            "\n",
            "1 Var Declarations\n",
            "    x : Size=500, Index=x_index\n",
            "        Key : Lower : Value : Upper : Fixed : Stale : Domain\n",
            "          0 :     0 :   1.0 :     1 : False : False :  Reals\n",
            "          1 :     0 :   1.0 :     1 : False : False :  Reals\n",
            "          2 :     0 :   0.0 :     1 : False : False :  Reals\n",
            "          3 :     0 :   1.0 :     1 : False : False :  Reals\n",
            "          4 :     0 :   1.0 :     1 : False : False :  Reals\n",
            "          5 :     0 :   1.0 :     1 : False : False :  Reals\n",
            "          6 :     0 :   1.0 :     1 : False : False :  Reals\n",
            "          7 :     0 :   1.0 :     1 : False : False :  Reals\n",
            "          8 :     0 :   1.0 :     1 : False : False :  Reals\n",
            "          9 :     0 :   1.0 :     1 : False : False :  Reals\n",
            "         10 :     0 :   1.0 :     1 : False : False :  Reals\n",
            "         11 :     0 :   1.0 :     1 : False : False :  Reals\n",
            "         12 :     0 :   0.0 :     1 : False : False :  Reals\n",
            "         13 :     0 :   1.0 :     1 : False : False :  Reals\n",
            "         14 :     0 :   1.0 :     1 : False : False :  Reals\n",
            "         15 :     0 :   0.0 :     1 : False : False :  Reals\n",
            "         16 :     0 :   1.0 :     1 : False : False :  Reals\n",
            "         17 :     0 :   0.0 :     1 : False : False :  Reals\n",
            "         18 :     0 :   1.0 :     1 : False : False :  Reals\n",
            "         19 :     0 :   0.0 :     1 : False : False :  Reals\n",
            "         20 :     0 :   1.0 :     1 : False : False :  Reals\n",
            "         21 :     0 :   1.0 :     1 : False : False :  Reals\n",
            "         22 :     0 :   0.0 :     1 : False : False :  Reals\n",
            "         23 :     0 :   0.0 :     1 : False : False :  Reals\n",
            "         24 :     0 :   0.0 :     1 : False : False :  Reals\n",
            "         25 :     0 :   1.0 :     1 : False : False :  Reals\n",
            "         26 :     0 :   1.0 :     1 : False : False :  Reals\n",
            "         27 :     0 :   1.0 :     1 : False : False :  Reals\n",
            "         28 :     0 :   0.0 :     1 : False : False :  Reals\n",
            "         29 :     0 :   0.0 :     1 : False : False :  Reals\n",
            "         30 :     0 :   0.0 :     1 : False : False :  Reals\n",
            "         31 :     0 :   1.0 :     1 : False : False :  Reals\n",
            "         32 :     0 :   0.0 :     1 : False : False :  Reals\n",
            "         33 :     0 :   1.0 :     1 : False : False :  Reals\n",
            "         34 :     0 :   1.0 :     1 : False : False :  Reals\n",
            "         35 :     0 :   1.0 :     1 : False : False :  Reals\n",
            "         36 :     0 :   1.0 :     1 : False : False :  Reals\n",
            "         37 :     0 :   1.0 :     1 : False : False :  Reals\n",
            "         38 :     0 :   0.0 :     1 : False : False :  Reals\n",
            "         39 :     0 :   1.0 :     1 : False : False :  Reals\n",
            "         40 :     0 :   1.0 :     1 : False : False :  Reals\n",
            "         41 :     0 :   1.0 :     1 : False : False :  Reals\n",
            "         42 :     0 :   1.0 :     1 : False : False :  Reals\n",
            "         43 :     0 :   1.0 :     1 : False : False :  Reals\n",
            "         44 :     0 :   1.0 :     1 : False : False :  Reals\n",
            "         45 :     0 :   0.0 :     1 : False : False :  Reals\n",
            "         46 :     0 :   1.0 :     1 : False : False :  Reals\n",
            "         47 :     0 :   1.0 :     1 : False : False :  Reals\n",
            "         48 :     0 :   1.0 :     1 : False : False :  Reals\n",
            "         49 :     0 :   1.0 :     1 : False : False :  Reals\n",
            "         50 :     0 :   1.0 :     1 : False : False :  Reals\n",
            "         51 :     0 :   1.0 :     1 : False : False :  Reals\n",
            "         52 :     0 :   1.0 :     1 : False : False :  Reals\n",
            "         53 :     0 :   1.0 :     1 : False : False :  Reals\n",
            "         54 :     0 :   1.0 :     1 : False : False :  Reals\n",
            "         55 :     0 :   0.0 :     1 : False : False :  Reals\n",
            "         56 :     0 :   0.0 :     1 : False : False :  Reals\n",
            "         57 :     0 :   0.0 :     1 : False : False :  Reals\n",
            "         58 :     0 :   1.0 :     1 : False : False :  Reals\n",
            "         59 :     0 :   1.0 :     1 : False : False :  Reals\n",
            "         60 :     0 :   1.0 :     1 : False : False :  Reals\n",
            "         61 :     0 :   1.0 :     1 : False : False :  Reals\n",
            "         62 :     0 :   0.0 :     1 : False : False :  Reals\n",
            "         63 :     0 :   0.0 :     1 : False : False :  Reals\n",
            "         64 :     0 :   1.0 :     1 : False : False :  Reals\n",
            "         65 :     0 :   1.0 :     1 : False : False :  Reals\n",
            "         66 :     0 :   0.0 :     1 : False : False :  Reals\n",
            "         67 :     0 :   1.0 :     1 : False : False :  Reals\n",
            "         68 :     0 :   1.0 :     1 : False : False :  Reals\n",
            "         69 :     0 :   1.0 :     1 : False : False :  Reals\n",
            "         70 :     0 :   1.0 :     1 : False : False :  Reals\n",
            "         71 :     0 :   1.0 :     1 : False : False :  Reals\n",
            "         72 :     0 :   1.0 :     1 : False : False :  Reals\n",
            "         73 :     0 :   1.0 :     1 : False : False :  Reals\n",
            "         74 :     0 :   1.0 :     1 : False : False :  Reals\n",
            "         75 :     0 :   1.0 :     1 : False : False :  Reals\n",
            "         76 :     0 :   1.0 :     1 : False : False :  Reals\n",
            "         77 :     0 :   1.0 :     1 : False : False :  Reals\n",
            "         78 :     0 :   1.0 :     1 : False : False :  Reals\n",
            "         79 :     0 :   1.0 :     1 : False : False :  Reals\n",
            "         80 :     0 :   1.0 :     1 : False : False :  Reals\n",
            "         81 :     0 :   1.0 :     1 : False : False :  Reals\n",
            "         82 :     0 :   1.0 :     1 : False : False :  Reals\n",
            "         83 :     0 :   0.0 :     1 : False : False :  Reals\n",
            "         84 :     0 :   1.0 :     1 : False : False :  Reals\n",
            "         85 :     0 :   1.0 :     1 : False : False :  Reals\n",
            "         86 :     0 :   1.0 :     1 : False : False :  Reals\n",
            "         87 :     0 :   1.0 :     1 : False : False :  Reals\n",
            "         88 :     0 :   1.0 :     1 : False : False :  Reals\n",
            "         89 :     0 :   1.0 :     1 : False : False :  Reals\n",
            "         90 :     0 :   1.0 :     1 : False : False :  Reals\n",
            "         91 :     0 :   1.0 :     1 : False : False :  Reals\n",
            "         92 :     0 :   1.0 :     1 : False : False :  Reals\n",
            "         93 :     0 :   1.0 :     1 : False : False :  Reals\n",
            "         94 :     0 :   1.0 :     1 : False : False :  Reals\n",
            "         95 :     0 :   0.0 :     1 : False : False :  Reals\n",
            "         96 :     0 :   1.0 :     1 : False : False :  Reals\n",
            "         97 :     0 :   0.0 :     1 : False : False :  Reals\n",
            "         98 :     0 :   1.0 :     1 : False : False :  Reals\n",
            "         99 :     0 :   1.0 :     1 : False : False :  Reals\n",
            "        100 :     0 :   0.0 :     1 : False : False :  Reals\n",
            "        101 :     0 :   1.0 :     1 : False : False :  Reals\n",
            "        102 :     0 :   1.0 :     1 : False : False :  Reals\n",
            "        103 :     0 :   1.0 :     1 : False : False :  Reals\n",
            "        104 :     0 :   1.0 :     1 : False : False :  Reals\n",
            "        105 :     0 :   0.0 :     1 : False : False :  Reals\n",
            "        106 :     0 :   1.0 :     1 : False : False :  Reals\n",
            "        107 :     0 :   1.0 :     1 : False : False :  Reals\n",
            "        108 :     0 :   1.0 :     1 : False : False :  Reals\n",
            "        109 :     0 :   1.0 :     1 : False : False :  Reals\n",
            "        110 :     0 :   1.0 :     1 : False : False :  Reals\n",
            "        111 :     0 :   1.0 :     1 : False : False :  Reals\n",
            "        112 :     0 :   1.0 :     1 : False : False :  Reals\n",
            "        113 :     0 :   0.0 :     1 : False : False :  Reals\n",
            "        114 :     0 :   1.0 :     1 : False : False :  Reals\n",
            "        115 :     0 :   0.0 :     1 : False : False :  Reals\n",
            "        116 :     0 :   1.0 :     1 : False : False :  Reals\n",
            "        117 :     0 :   0.0 :     1 : False : False :  Reals\n",
            "        118 :     0 :   0.0 :     1 : False : False :  Reals\n",
            "        119 :     0 :   1.0 :     1 : False : False :  Reals\n",
            "        120 :     0 :   1.0 :     1 : False : False :  Reals\n",
            "        121 :     0 :   1.0 :     1 : False : False :  Reals\n",
            "        122 :     0 :   1.0 :     1 : False : False :  Reals\n",
            "        123 :     0 :   0.0 :     1 : False : False :  Reals\n",
            "        124 :     0 :   0.0 :     1 : False : False :  Reals\n",
            "        125 :     0 :   0.0 :     1 : False : False :  Reals\n",
            "        126 :     0 :   1.0 :     1 : False : False :  Reals\n",
            "        127 :     0 :   1.0 :     1 : False : False :  Reals\n",
            "        128 :     0 :   1.0 :     1 : False : False :  Reals\n",
            "        129 :     0 :   1.0 :     1 : False : False :  Reals\n",
            "        130 :     0 :   1.0 :     1 : False : False :  Reals\n",
            "        131 :     0 :   1.0 :     1 : False : False :  Reals\n",
            "        132 :     0 :   1.0 :     1 : False : False :  Reals\n",
            "        133 :     0 :   1.0 :     1 : False : False :  Reals\n",
            "        134 :     0 :   1.0 :     1 : False : False :  Reals\n",
            "        135 :     0 :   1.0 :     1 : False : False :  Reals\n",
            "        136 :     0 :   0.0 :     1 : False : False :  Reals\n",
            "        137 :     0 :   1.0 :     1 : False : False :  Reals\n",
            "        138 :     0 :   1.0 :     1 : False : False :  Reals\n",
            "        139 :     0 :   1.0 :     1 : False : False :  Reals\n",
            "        140 :     0 :   0.0 :     1 : False : False :  Reals\n",
            "        141 :     0 :   1.0 :     1 : False : False :  Reals\n",
            "        142 :     0 :   0.0 :     1 : False : False :  Reals\n",
            "        143 :     0 :   1.0 :     1 : False : False :  Reals\n",
            "        144 :     0 :   1.0 :     1 : False : False :  Reals\n",
            "        145 :     0 :   1.0 :     1 : False : False :  Reals\n",
            "        146 :     0 :   1.0 :     1 : False : False :  Reals\n",
            "        147 :     0 :   1.0 :     1 : False : False :  Reals\n",
            "        148 :     0 :   1.0 :     1 : False : False :  Reals\n",
            "        149 :     0 :   1.0 :     1 : False : False :  Reals\n",
            "        150 :     0 :   1.0 :     1 : False : False :  Reals\n",
            "        151 :     0 :   1.0 :     1 : False : False :  Reals\n",
            "        152 :     0 :   0.0 :     1 : False : False :  Reals\n",
            "        153 :     0 :   1.0 :     1 : False : False :  Reals\n",
            "        154 :     0 :   0.0 :     1 : False : False :  Reals\n",
            "        155 :     0 :   0.0 :     1 : False : False :  Reals\n",
            "        156 :     0 :   1.0 :     1 : False : False :  Reals\n",
            "        157 :     0 :   1.0 :     1 : False : False :  Reals\n",
            "        158 :     0 :   1.0 :     1 : False : False :  Reals\n",
            "        159 :     0 :   1.0 :     1 : False : False :  Reals\n",
            "        160 :     0 :   1.0 :     1 : False : False :  Reals\n",
            "        161 :     0 :   1.0 :     1 : False : False :  Reals\n",
            "        162 :     0 :   1.0 :     1 : False : False :  Reals\n",
            "        163 :     0 :   1.0 :     1 : False : False :  Reals\n",
            "        164 :     0 :   1.0 :     1 : False : False :  Reals\n",
            "        165 :     0 :   0.0 :     1 : False : False :  Reals\n",
            "        166 :     0 :   1.0 :     1 : False : False :  Reals\n",
            "        167 :     0 :   1.0 :     1 : False : False :  Reals\n",
            "        168 :     0 :   1.0 :     1 : False : False :  Reals\n",
            "        169 :     0 :   1.0 :     1 : False : False :  Reals\n",
            "        170 :     0 :   0.0 :     1 : False : False :  Reals\n",
            "        171 :     0 :   1.0 :     1 : False : False :  Reals\n",
            "        172 :     0 :   1.0 :     1 : False : False :  Reals\n",
            "        173 :     0 :   1.0 :     1 : False : False :  Reals\n",
            "        174 :     0 :   1.0 :     1 : False : False :  Reals\n",
            "        175 :     0 :   1.0 :     1 : False : False :  Reals\n",
            "        176 :     0 :   1.0 :     1 : False : False :  Reals\n",
            "        177 :     0 :   1.0 :     1 : False : False :  Reals\n",
            "        178 :     0 :   0.0 :     1 : False : False :  Reals\n",
            "        179 :     0 :   0.0 :     1 : False : False :  Reals\n",
            "        180 :     0 :   1.0 :     1 : False : False :  Reals\n",
            "        181 :     0 :   0.0 :     1 : False : False :  Reals\n",
            "        182 :     0 :   1.0 :     1 : False : False :  Reals\n",
            "        183 :     0 :   1.0 :     1 : False : False :  Reals\n",
            "        184 :     0 :   1.0 :     1 : False : False :  Reals\n",
            "        185 :     0 :   0.0 :     1 : False : False :  Reals\n",
            "        186 :     0 :   1.0 :     1 : False : False :  Reals\n",
            "        187 :     0 :   0.0 :     1 : False : False :  Reals\n",
            "        188 :     0 :   1.0 :     1 : False : False :  Reals\n",
            "        189 :     0 :   1.0 :     1 : False : False :  Reals\n",
            "        190 :     0 :   1.0 :     1 : False : False :  Reals\n",
            "        191 :     0 :   0.0 :     1 : False : False :  Reals\n",
            "        192 :     0 :   0.0 :     1 : False : False :  Reals\n",
            "        193 :     0 :   1.0 :     1 : False : False :  Reals\n",
            "        194 :     0 :   0.0 :     1 : False : False :  Reals\n",
            "        195 :     0 :   1.0 :     1 : False : False :  Reals\n",
            "        196 :     0 :   0.0 :     1 : False : False :  Reals\n",
            "        197 :     0 :   1.0 :     1 : False : False :  Reals\n",
            "        198 :     0 :   1.0 :     1 : False : False :  Reals\n",
            "        199 :     0 :   1.0 :     1 : False : False :  Reals\n",
            "        200 :     0 :   0.0 :     1 : False : False :  Reals\n",
            "        201 :     0 :   1.0 :     1 : False : False :  Reals\n",
            "        202 :     0 :   1.0 :     1 : False : False :  Reals\n",
            "        203 :     0 :   1.0 :     1 : False : False :  Reals\n",
            "        204 :     0 :   0.0 :     1 : False : False :  Reals\n",
            "        205 :     0 :   0.0 :     1 : False : False :  Reals\n",
            "        206 :     0 :   0.0 :     1 : False : False :  Reals\n",
            "        207 :     0 :   1.0 :     1 : False : False :  Reals\n",
            "        208 :     0 :   0.0 :     1 : False : False :  Reals\n",
            "        209 :     0 :   1.0 :     1 : False : False :  Reals\n",
            "        210 :     0 :   1.0 :     1 : False : False :  Reals\n",
            "        211 :     0 :   1.0 :     1 : False : False :  Reals\n",
            "        212 :     0 :   1.0 :     1 : False : False :  Reals\n",
            "        213 :     0 :   1.0 :     1 : False : False :  Reals\n",
            "        214 :     0 :   1.0 :     1 : False : False :  Reals\n",
            "        215 :     0 :   1.0 :     1 : False : False :  Reals\n",
            "        216 :     0 :   1.0 :     1 : False : False :  Reals\n",
            "        217 :     0 :   1.0 :     1 : False : False :  Reals\n",
            "        218 :     0 :   1.0 :     1 : False : False :  Reals\n",
            "        219 :     0 :   1.0 :     1 : False : False :  Reals\n",
            "        220 :     0 :   1.0 :     1 : False : False :  Reals\n",
            "        221 :     0 :   1.0 :     1 : False : False :  Reals\n",
            "        222 :     0 :   1.0 :     1 : False : False :  Reals\n",
            "        223 :     0 :   0.0 :     1 : False : False :  Reals\n",
            "        224 :     0 :   1.0 :     1 : False : False :  Reals\n",
            "        225 :     0 :   1.0 :     1 : False : False :  Reals\n",
            "        226 :     0 :   1.0 :     1 : False : False :  Reals\n",
            "        227 :     0 :   1.0 :     1 : False : False :  Reals\n",
            "        228 :     0 :   1.0 :     1 : False : False :  Reals\n",
            "        229 :     0 :   1.0 :     1 : False : False :  Reals\n",
            "        230 :     0 :   0.0 :     1 : False : False :  Reals\n",
            "        231 :     0 :   1.0 :     1 : False : False :  Reals\n",
            "        232 :     0 :   1.0 :     1 : False : False :  Reals\n",
            "        233 :     0 :   1.0 :     1 : False : False :  Reals\n",
            "        234 :     0 :   1.0 :     1 : False : False :  Reals\n",
            "        235 :     0 :   1.0 :     1 : False : False :  Reals\n",
            "        236 :     0 :   1.0 :     1 : False : False :  Reals\n",
            "        237 :     0 :   1.0 :     1 : False : False :  Reals\n",
            "        238 :     0 :   0.0 :     1 : False : False :  Reals\n",
            "        239 :     0 :   0.0 :     1 : False : False :  Reals\n",
            "        240 :     0 :   0.0 :     1 : False : False :  Reals\n",
            "        241 :     0 :   1.0 :     1 : False : False :  Reals\n",
            "        242 :     0 :   0.0 :     1 : False : False :  Reals\n",
            "        243 :     0 :   1.0 :     1 : False : False :  Reals\n",
            "        244 :     0 :   1.0 :     1 : False : False :  Reals\n",
            "        245 :     0 :   0.0 :     1 : False : False :  Reals\n",
            "        246 :     0 :   1.0 :     1 : False : False :  Reals\n",
            "        247 :     0 :   0.0 :     1 : False : False :  Reals\n",
            "        248 :     0 :   1.0 :     1 : False : False :  Reals\n",
            "        249 :     0 :   1.0 :     1 : False : False :  Reals\n",
            "        250 :     0 :   0.0 :     1 : False : False :  Reals\n",
            "        251 :     0 :   1.0 :     1 : False : False :  Reals\n",
            "        252 :     0 :   1.0 :     1 : False : False :  Reals\n",
            "        253 :     0 :   0.0 :     1 : False : False :  Reals\n",
            "        254 :     0 :   1.0 :     1 : False : False :  Reals\n",
            "        255 :     0 :   0.0 :     1 : False : False :  Reals\n",
            "        256 :     0 :   1.0 :     1 : False : False :  Reals\n",
            "        257 :     0 :   1.0 :     1 : False : False :  Reals\n",
            "        258 :     0 :   1.0 :     1 : False : False :  Reals\n",
            "        259 :     0 :   1.0 :     1 : False : False :  Reals\n",
            "        260 :     0 :   1.0 :     1 : False : False :  Reals\n",
            "        261 :     0 :   1.0 :     1 : False : False :  Reals\n",
            "        262 :     0 :   1.0 :     1 : False : False :  Reals\n",
            "        263 :     0 :   1.0 :     1 : False : False :  Reals\n",
            "        264 :     0 :   1.0 :     1 : False : False :  Reals\n",
            "        265 :     0 :   0.0 :     1 : False : False :  Reals\n",
            "        266 :     0 :   1.0 :     1 : False : False :  Reals\n",
            "        267 :     0 :   1.0 :     1 : False : False :  Reals\n",
            "        268 :     0 :   1.0 :     1 : False : False :  Reals\n",
            "        269 :     0 :   1.0 :     1 : False : False :  Reals\n",
            "        270 :     0 :   1.0 :     1 : False : False :  Reals\n",
            "        271 :     0 :   1.0 :     1 : False : False :  Reals\n",
            "        272 :     0 :   1.0 :     1 : False : False :  Reals\n",
            "        273 :     0 :   0.0 :     1 : False : False :  Reals\n",
            "        274 :     0 :   1.0 :     1 : False : False :  Reals\n",
            "        275 :     0 :   1.0 :     1 : False : False :  Reals\n",
            "        276 :     0 :   1.0 :     1 : False : False :  Reals\n",
            "        277 :     0 :   1.0 :     1 : False : False :  Reals\n",
            "        278 :     0 :   1.0 :     1 : False : False :  Reals\n",
            "        279 :     0 :   1.0 :     1 : False : False :  Reals\n",
            "        280 :     0 :   1.0 :     1 : False : False :  Reals\n",
            "        281 :     0 :   1.0 :     1 : False : False :  Reals\n",
            "        282 :     0 :   1.0 :     1 : False : False :  Reals\n",
            "        283 :     0 :   1.0 :     1 : False : False :  Reals\n",
            "        284 :     0 :   0.0 :     1 : False : False :  Reals\n",
            "        285 :     0 :   1.0 :     1 : False : False :  Reals\n",
            "        286 :     0 :   1.0 :     1 : False : False :  Reals\n",
            "        287 :     0 :   1.0 :     1 : False : False :  Reals\n",
            "        288 :     0 :   1.0 :     1 : False : False :  Reals\n",
            "        289 :     0 :   1.0 :     1 : False : False :  Reals\n",
            "        290 :     0 :   1.0 :     1 : False : False :  Reals\n",
            "        291 :     0 :   1.0 :     1 : False : False :  Reals\n",
            "        292 :     0 :   1.0 :     1 : False : False :  Reals\n",
            "        293 :     0 :   1.0 :     1 : False : False :  Reals\n",
            "        294 :     0 :   1.0 :     1 : False : False :  Reals\n",
            "        295 :     0 :   1.0 :     1 : False : False :  Reals\n",
            "        296 :     0 :   1.0 :     1 : False : False :  Reals\n",
            "        297 :     0 :   1.0 :     1 : False : False :  Reals\n",
            "        298 :     0 :   1.0 :     1 : False : False :  Reals\n",
            "        299 :     0 :   1.0 :     1 : False : False :  Reals\n",
            "        300 :     0 :   0.0 :     1 : False : False :  Reals\n",
            "        301 :     0 :   1.0 :     1 : False : False :  Reals\n",
            "        302 :     0 :   0.0 :     1 : False : False :  Reals\n",
            "        303 :     0 :   1.0 :     1 : False : False :  Reals\n",
            "        304 :     0 :   0.0 :     1 : False : False :  Reals\n",
            "        305 :     0 :   1.0 :     1 : False : False :  Reals\n",
            "        306 :     0 :   0.0 :     1 : False : False :  Reals\n",
            "        307 :     0 :   1.0 :     1 : False : False :  Reals\n",
            "        308 :     0 :   1.0 :     1 : False : False :  Reals\n",
            "        309 :     0 :   0.0 :     1 : False : False :  Reals\n",
            "        310 :     0 :   1.0 :     1 : False : False :  Reals\n",
            "        311 :     0 :   1.0 :     1 : False : False :  Reals\n",
            "        312 :     0 :   0.0 :     1 : False : False :  Reals\n",
            "        313 :     0 :   1.0 :     1 : False : False :  Reals\n",
            "        314 :     0 :   0.0 :     1 : False : False :  Reals\n",
            "        315 :     0 :   1.0 :     1 : False : False :  Reals\n",
            "        316 :     0 :   0.0 :     1 : False : False :  Reals\n",
            "        317 :     0 :   1.0 :     1 : False : False :  Reals\n",
            "        318 :     0 :   1.0 :     1 : False : False :  Reals\n",
            "        319 :     0 :   0.0 :     1 : False : False :  Reals\n",
            "        320 :     0 :   1.0 :     1 : False : False :  Reals\n",
            "        321 :     0 :   1.0 :     1 : False : False :  Reals\n",
            "        322 :     0 :   0.0 :     1 : False : False :  Reals\n",
            "        323 :     0 :   1.0 :     1 : False : False :  Reals\n",
            "        324 :     0 :   1.0 :     1 : False : False :  Reals\n",
            "        325 :     0 :   1.0 :     1 : False : False :  Reals\n",
            "        326 :     0 :   1.0 :     1 : False : False :  Reals\n",
            "        327 :     0 :   1.0 :     1 : False : False :  Reals\n",
            "        328 :     0 :   0.0 :     1 : False : False :  Reals\n",
            "        329 :     0 :   1.0 :     1 : False : False :  Reals\n",
            "        330 :     0 :   1.0 :     1 : False : False :  Reals\n",
            "        331 :     0 :   1.0 :     1 : False : False :  Reals\n",
            "        332 :     0 :   0.0 :     1 : False : False :  Reals\n",
            "        333 :     0 :   0.0 :     1 : False : False :  Reals\n",
            "        334 :     0 :   1.0 :     1 : False : False :  Reals\n",
            "        335 :     0 :   0.0 :     1 : False : False :  Reals\n",
            "        336 :     0 :   1.0 :     1 : False : False :  Reals\n",
            "        337 :     0 :   1.0 :     1 : False : False :  Reals\n",
            "        338 :     0 :   1.0 :     1 : False : False :  Reals\n",
            "        339 :     0 :   0.0 :     1 : False : False :  Reals\n",
            "        340 :     0 :   1.0 :     1 : False : False :  Reals\n",
            "        341 :     0 :   1.0 :     1 : False : False :  Reals\n",
            "        342 :     0 :   1.0 :     1 : False : False :  Reals\n",
            "        343 :     0 :   1.0 :     1 : False : False :  Reals\n",
            "        344 :     0 :   1.0 :     1 : False : False :  Reals\n",
            "        345 :     0 :   1.0 :     1 : False : False :  Reals\n",
            "        346 :     0 :   1.0 :     1 : False : False :  Reals\n",
            "        347 :     0 :   1.0 :     1 : False : False :  Reals\n",
            "        348 :     0 :   1.0 :     1 : False : False :  Reals\n",
            "        349 :     0 :   0.0 :     1 : False : False :  Reals\n",
            "        350 :     0 :   1.0 :     1 : False : False :  Reals\n",
            "        351 :     0 :   1.0 :     1 : False : False :  Reals\n",
            "        352 :     0 :   1.0 :     1 : False : False :  Reals\n",
            "        353 :     0 :   1.0 :     1 : False : False :  Reals\n",
            "        354 :     0 :   1.0 :     1 : False : False :  Reals\n",
            "        355 :     0 :   1.0 :     1 : False : False :  Reals\n",
            "        356 :     0 :   1.0 :     1 : False : False :  Reals\n",
            "        357 :     0 :   1.0 :     1 : False : False :  Reals\n",
            "        358 :     0 :   1.0 :     1 : False : False :  Reals\n",
            "        359 :     0 :   0.0 :     1 : False : False :  Reals\n",
            "        360 :     0 :   1.0 :     1 : False : False :  Reals\n",
            "        361 :     0 :   1.0 :     1 : False : False :  Reals\n",
            "        362 :     0 :   1.0 :     1 : False : False :  Reals\n",
            "        363 :     0 :   1.0 :     1 : False : False :  Reals\n",
            "        364 :     0 :   0.0 :     1 : False : False :  Reals\n",
            "        365 :     0 :   1.0 :     1 : False : False :  Reals\n",
            "        366 :     0 :   0.0 :     1 : False : False :  Reals\n",
            "        367 :     0 :   1.0 :     1 : False : False :  Reals\n",
            "        368 :     0 :   0.0 :     1 : False : False :  Reals\n",
            "        369 :     0 :   1.0 :     1 : False : False :  Reals\n",
            "        370 :     0 :   1.0 :     1 : False : False :  Reals\n",
            "        371 :     0 :   1.0 :     1 : False : False :  Reals\n",
            "        372 :     0 :   1.0 :     1 : False : False :  Reals\n",
            "        373 :     0 :   1.0 :     1 : False : False :  Reals\n",
            "        374 :     0 :   1.0 :     1 : False : False :  Reals\n",
            "        375 :     0 :   0.0 :     1 : False : False :  Reals\n",
            "        376 :     0 :   1.0 :     1 : False : False :  Reals\n",
            "        377 :     0 :   1.0 :     1 : False : False :  Reals\n",
            "        378 :     0 :   0.0 :     1 : False : False :  Reals\n",
            "        379 :     0 :   1.0 :     1 : False : False :  Reals\n",
            "        380 :     0 :   1.0 :     1 : False : False :  Reals\n",
            "        381 :     0 :   1.0 :     1 : False : False :  Reals\n",
            "        382 :     0 :   1.0 :     1 : False : False :  Reals\n",
            "        383 :     0 :   1.0 :     1 : False : False :  Reals\n",
            "        384 :     0 :   1.0 :     1 : False : False :  Reals\n",
            "        385 :     0 :   1.0 :     1 : False : False :  Reals\n",
            "        386 :     0 :   1.0 :     1 : False : False :  Reals\n",
            "        387 :     0 :   1.0 :     1 : False : False :  Reals\n",
            "        388 :     0 :   1.0 :     1 : False : False :  Reals\n",
            "        389 :     0 :   0.0 :     1 : False : False :  Reals\n",
            "        390 :     0 :   0.0 :     1 : False : False :  Reals\n",
            "        391 :     0 :   1.0 :     1 : False : False :  Reals\n",
            "        392 :     0 :   1.0 :     1 : False : False :  Reals\n",
            "        393 :     0 :   1.0 :     1 : False : False :  Reals\n",
            "        394 :     0 :   0.0 :     1 : False : False :  Reals\n",
            "        395 :     0 :   1.0 :     1 : False : False :  Reals\n",
            "        396 :     0 :   0.0 :     1 : False : False :  Reals\n",
            "        397 :     0 :   1.0 :     1 : False : False :  Reals\n",
            "        398 :     0 :   1.0 :     1 : False : False :  Reals\n",
            "        399 :     0 :   1.0 :     1 : False : False :  Reals\n",
            "        400 :     0 :   1.0 :     1 : False : False :  Reals\n",
            "        401 :     0 :   1.0 :     1 : False : False :  Reals\n",
            "        402 :     0 :   1.0 :     1 : False : False :  Reals\n",
            "        403 :     0 :   1.0 :     1 : False : False :  Reals\n",
            "        404 :     0 :   1.0 :     1 : False : False :  Reals\n",
            "        405 :     0 :   0.0 :     1 : False : False :  Reals\n",
            "        406 :     0 :   1.0 :     1 : False : False :  Reals\n",
            "        407 :     0 :   1.0 :     1 : False : False :  Reals\n",
            "        408 :     0 :   1.0 :     1 : False : False :  Reals\n",
            "        409 :     0 :   1.0 :     1 : False : False :  Reals\n",
            "        410 :     0 :   1.0 :     1 : False : False :  Reals\n",
            "        411 :     0 :   1.0 :     1 : False : False :  Reals\n",
            "        412 :     0 :   1.0 :     1 : False : False :  Reals\n",
            "        413 :     0 :   0.0 :     1 : False : False :  Reals\n",
            "        414 :     0 :   1.0 :     1 : False : False :  Reals\n",
            "        415 :     0 :   1.0 :     1 : False : False :  Reals\n",
            "        416 :     0 :   1.0 :     1 : False : False :  Reals\n",
            "        417 :     0 :   1.0 :     1 : False : False :  Reals\n",
            "        418 :     0 :   1.0 :     1 : False : False :  Reals\n",
            "        419 :     0 :   1.0 :     1 : False : False :  Reals\n",
            "        420 :     0 :   1.0 :     1 : False : False :  Reals\n",
            "        421 :     0 :   1.0 :     1 : False : False :  Reals\n",
            "        422 :     0 :   1.0 :     1 : False : False :  Reals\n",
            "        423 :     0 :   0.0 :     1 : False : False :  Reals\n",
            "        424 :     0 :   1.0 :     1 : False : False :  Reals\n",
            "        425 :     0 :   0.0 :     1 : False : False :  Reals\n",
            "        426 :     0 :   1.0 :     1 : False : False :  Reals\n",
            "        427 :     0 :   1.0 :     1 : False : False :  Reals\n",
            "        428 :     0 :   1.0 :     1 : False : False :  Reals\n",
            "        429 :     0 :   1.0 :     1 : False : False :  Reals\n",
            "        430 :     0 :   1.0 :     1 : False : False :  Reals\n",
            "        431 :     0 :   1.0 :     1 : False : False :  Reals\n",
            "        432 :     0 :   1.0 :     1 : False : False :  Reals\n",
            "        433 :     0 :   1.0 :     1 : False : False :  Reals\n",
            "        434 :     0 :   1.0 :     1 : False : False :  Reals\n",
            "        435 :     0 :   0.0 :     1 : False : False :  Reals\n",
            "        436 :     0 :   1.0 :     1 : False : False :  Reals\n",
            "        437 :     0 :   0.0 :     1 : False : False :  Reals\n",
            "        438 :     0 :   1.0 :     1 : False : False :  Reals\n",
            "        439 :     0 :   1.0 :     1 : False : False :  Reals\n",
            "        440 :     0 :   1.0 :     1 : False : False :  Reals\n",
            "        441 :     0 :   0.0 :     1 : False : False :  Reals\n",
            "        442 :     0 :   1.0 :     1 : False : False :  Reals\n",
            "        443 :     0 :   1.0 :     1 : False : False :  Reals\n",
            "        444 :     0 :   1.0 :     1 : False : False :  Reals\n",
            "        445 :     0 :   0.0 :     1 : False : False :  Reals\n",
            "        446 :     0 :   1.0 :     1 : False : False :  Reals\n",
            "        447 :     0 :   1.0 :     1 : False : False :  Reals\n",
            "        448 :     0 :   1.0 :     1 : False : False :  Reals\n",
            "        449 :     0 :   1.0 :     1 : False : False :  Reals\n",
            "        450 :     0 :   0.0 :     1 : False : False :  Reals\n",
            "        451 :     0 :   1.0 :     1 : False : False :  Reals\n",
            "        452 :     0 :   1.0 :     1 : False : False :  Reals\n",
            "        453 :     0 :   0.0 :     1 : False : False :  Reals\n",
            "        454 :     0 :   1.0 :     1 : False : False :  Reals\n",
            "        455 :     0 :   1.0 :     1 : False : False :  Reals\n",
            "        456 :     0 :   1.0 :     1 : False : False :  Reals\n",
            "        457 :     0 :   1.0 :     1 : False : False :  Reals\n",
            "        458 :     0 :   0.0 :     1 : False : False :  Reals\n",
            "        459 :     0 :   1.0 :     1 : False : False :  Reals\n",
            "        460 :     0 :   1.0 :     1 : False : False :  Reals\n",
            "        461 :     0 :   1.0 :     1 : False : False :  Reals\n",
            "        462 :     0 :   1.0 :     1 : False : False :  Reals\n",
            "        463 :     0 :   1.0 :     1 : False : False :  Reals\n",
            "        464 :     0 :   1.0 :     1 : False : False :  Reals\n",
            "        465 :     0 :   1.0 :     1 : False : False :  Reals\n",
            "        466 :     0 :   1.0 :     1 : False : False :  Reals\n",
            "        467 :     0 :   0.0 :     1 : False : False :  Reals\n",
            "        468 :     0 :   1.0 :     1 : False : False :  Reals\n",
            "        469 :     0 :   0.0 :     1 : False : False :  Reals\n",
            "        470 :     0 :   0.0 :     1 : False : False :  Reals\n",
            "        471 :     0 :   0.0 :     1 : False : False :  Reals\n",
            "        472 :     0 :   1.0 :     1 : False : False :  Reals\n",
            "        473 :     0 :   0.0 :     1 : False : False :  Reals\n",
            "        474 :     0 :   0.0 :     1 : False : False :  Reals\n",
            "        475 :     0 :   0.0 :     1 : False : False :  Reals\n",
            "        476 :     0 :   1.0 :     1 : False : False :  Reals\n",
            "        477 :     0 :   1.0 :     1 : False : False :  Reals\n",
            "        478 :     0 :   0.0 :     1 : False : False :  Reals\n",
            "        479 :     0 :   1.0 :     1 : False : False :  Reals\n",
            "        480 :     0 :   1.0 :     1 : False : False :  Reals\n",
            "        481 :     0 :   0.0 :     1 : False : False :  Reals\n",
            "        482 :     0 :   1.0 :     1 : False : False :  Reals\n",
            "        483 :     0 :   1.0 :     1 : False : False :  Reals\n",
            "        484 :     0 :   1.0 :     1 : False : False :  Reals\n",
            "        485 :     0 :   0.0 :     1 : False : False :  Reals\n",
            "        486 :     0 :   1.0 :     1 : False : False :  Reals\n",
            "        487 :     0 :   1.0 :     1 : False : False :  Reals\n",
            "        488 :     0 :   1.0 :     1 : False : False :  Reals\n",
            "        489 :     0 :   1.0 :     1 : False : False :  Reals\n",
            "        490 :     0 :   1.0 :     1 : False : False :  Reals\n",
            "        491 :     0 :   0.0 :     1 : False : False :  Reals\n",
            "        492 :     0 :   1.0 :     1 : False : False :  Reals\n",
            "        493 :     0 :   1.0 :     1 : False : False :  Reals\n",
            "        494 :     0 :   1.0 :     1 : False : False :  Reals\n",
            "        495 :     0 :   1.0 :     1 : False : False :  Reals\n",
            "        496 :     0 :   0.0 :     1 : False : False :  Reals\n",
            "        497 :     0 :   1.0 :     1 : False : False :  Reals\n",
            "        498 :     0 :   1.0 :     1 : False : False :  Reals\n",
            "        499 :     0 :   1.0 :     1 : False : False :  Reals\n",
            "\n",
            "1 Objective Declarations\n",
            "    objective : Size=1, Index=None, Active=True\n",
            "        Key  : Active : Sense    : Expression\n",
            "        None :   True : maximize : 801.0*x[0] + 956.0*x[1] + 512.0*x[2] + 823.0*x[3] + 740.0*x[4] + 752.0*x[5] + 936.0*x[6] + 536.0*x[7] + 851.0*x[8] + 399.0*x[9] + 515.0*x[10] + 660.0*x[11] + 523.0*x[12] + 229.0*x[13] + 637.0*x[14] + 609.0*x[15] + 663.0*x[16] + 561.0*x[17] + 516.0*x[18] + 709.0*x[19] + 1060.0*x[20] + 405.0*x[21] + 564.0*x[22] + 692.0*x[23] + 524.0*x[24] + 992.0*x[25] + 745.0*x[26] + 860.0*x[27] + 638.0*x[28] + 801.0*x[29] + 777.0*x[30] + 757.0*x[31] + 722.0*x[32] + 785.0*x[33] + 321.0*x[34] + 943.0*x[35] + 469.0*x[36] + 541.0*x[37] + 673.0*x[38] + 716.0*x[39] + 686.0*x[40] + 1188.0*x[41] + 969.0*x[42] + 804.0*x[43] + 728.0*x[44] + 790.0*x[45] + 741.0*x[46] + 790.0*x[47] + 545.0*x[48] + 591.0*x[49] + 1091.0*x[50] + 707.0*x[51] + 475.0*x[52] + 808.0*x[53] + 750.0*x[54] + 707.0*x[55] + 556.0*x[56] + 573.0*x[57] + 562.0*x[58] + 1057.0*x[59] + 750.0*x[60] + 919.0*x[61] + 511.0*x[62] + 440.0*x[63] + 638.0*x[64] + 865.0*x[65] + 588.0*x[66] + 891.0*x[67] + 731.0*x[68] + 548.0*x[69] + 437.0*x[70] + 1015.0*x[71] + 878.0*x[72] + 1017.0*x[73] + 824.0*x[74] + 993.0*x[75] + 905.0*x[76] + 600.0*x[77] + 664.0*x[78] + 890.0*x[79] + 732.0*x[80] + 696.0*x[81] + 703.0*x[82] + 348.0*x[83] + 690.0*x[84] + 392.0*x[85] + 1090.0*x[86] + 1170.0*x[87] + 799.0*x[88] + 1191.0*x[89] + 561.0*x[90] + 840.0*x[91] + 555.0*x[92] + 918.0*x[93] + 698.0*x[94] + 687.0*x[95] + 735.0*x[96] + 572.0*x[97] + 926.0*x[98] + 599.0*x[99] + 469.0*x[100] + 486.0*x[101] + 973.0*x[102] + 676.0*x[103] + 817.0*x[104] + 504.0*x[105] + 388.0*x[106] + 685.0*x[107] + 596.0*x[108] + 878.0*x[109] + 426.0*x[110] + 862.0*x[111] + 695.0*x[112] + 542.0*x[113] + 746.0*x[114] + 694.0*x[115] + 885.0*x[116] + 524.0*x[117] + 694.0*x[118] + 935.0*x[119] + 715.0*x[120] + 810.0*x[121] + 978.0*x[122] + 443.0*x[123] + 318.0*x[124] + 621.0*x[125] + 805.0*x[126] + 511.0*x[127] + 1279.0*x[128] + 832.0*x[129] + 974.0*x[130] + 737.0*x[131] + 857.0*x[132] + 756.0*x[133] + 595.0*x[134] + 830.0*x[135] + 526.0*x[136] + 968.0*x[137] + 974.0*x[138] + 1279.0*x[139] + 770.0*x[140] + 980.0*x[141] + 435.0*x[142] + 881.0*x[143] + 858.0*x[144] + 964.0*x[145] + 454.0*x[146] + 1068.0*x[147] + 956.0*x[148] + 874.0*x[149] + 872.0*x[150] + 623.0*x[151] + 609.0*x[152] + 623.0*x[153] + 649.0*x[154] + 620.0*x[155] + 850.0*x[156] + 522.0*x[157] + 999.0*x[158] + 959.0*x[159] + 593.0*x[160] + 624.0*x[161] + 488.0*x[162] + 386.0*x[163] + 835.0*x[164] + 741.0*x[165] + 1045.0*x[166] + 815.0*x[167] + 809.0*x[168] + 860.0*x[169] + 472.0*x[170] + 949.0*x[171] + 972.0*x[172] + 874.0*x[173] + 951.0*x[174] + 568.0*x[175] + 890.0*x[176] + 633.0*x[177] + 622.0*x[178] + 509.0*x[179] + 788.0*x[180] + 496.0*x[181] + 1004.0*x[182] + 562.0*x[183] + 700.0*x[184] + 637.0*x[185] + 666.0*x[186] + 340.0*x[187] + 658.0*x[188] + 832.0*x[189] + 778.0*x[190] + 616.0*x[191] + 643.0*x[192] + 521.0*x[193] + 505.0*x[194] + 900.0*x[195] + 543.0*x[196] + 873.0*x[197] + 763.0*x[198] + 890.0*x[199] + 776.0*x[200] + 752.0*x[201] + 718.0*x[202] + 366.0*x[203] + 566.0*x[204] + 802.0*x[205] + 304.0*x[206] + 470.0*x[207] + 543.0*x[208] + 847.0*x[209] + 827.0*x[210] + 821.0*x[211] + 644.0*x[212] + 1012.0*x[213] + 845.0*x[214] + 702.0*x[215] + 624.0*x[216] + 942.0*x[217] + 963.0*x[218] + 510.0*x[219] + 428.0*x[220] + 710.0*x[221] + 986.0*x[222] + 663.0*x[223] + 928.0*x[224] + 541.0*x[225] + 933.0*x[226] + 1095.0*x[227] + 699.0*x[228] + 756.0*x[229] + 733.0*x[230] + 632.0*x[231] + 732.0*x[232] + 1073.0*x[233] + 552.0*x[234] + 913.0*x[235] + 514.0*x[236] + 1011.0*x[237] + 772.0*x[238] + 597.0*x[239] + 652.0*x[240] + 863.0*x[241] + 534.0*x[242] + 658.0*x[243] + 695.0*x[244] + 757.0*x[245] + 977.0*x[246] + 647.0*x[247] + 746.0*x[248] + 1032.0*x[249] + 391.0*x[250] + 665.0*x[251] + 923.0*x[252] + 570.0*x[253] + 1147.0*x[254] + 658.0*x[255] + 798.0*x[256] + 604.0*x[257] + 1114.0*x[258] + 1254.0*x[259] + 790.0*x[260] + 646.0*x[261] + 961.0*x[262] + 607.0*x[263] + 825.0*x[264] + 506.0*x[265] + 936.0*x[266] + 466.0*x[267] + 672.0*x[268] + 767.0*x[269] + 481.0*x[270] + 617.0*x[271] + 863.0*x[272] + 506.0*x[273] + 748.0*x[274] + 676.0*x[275] + 709.0*x[276] + 601.0*x[277] + 829.0*x[278] + 787.0*x[279] + 430.0*x[280] + 855.0*x[281] + 802.0*x[282] + 688.0*x[283] + 780.0*x[284] + 1010.0*x[285] + 515.0*x[286] + 871.0*x[287] + 880.0*x[288] + 630.0*x[289] + 1235.0*x[290] + 679.0*x[291] + 672.0*x[292] + 806.0*x[293] + 927.0*x[294] + 775.0*x[295] + 932.0*x[296] + 924.0*x[297] + 515.0*x[298] + 665.0*x[299] + 570.0*x[300] + 596.0*x[301] + 576.0*x[302] + 463.0*x[303] + 270.0*x[304] + 509.0*x[305] + 688.0*x[306] + 578.0*x[307] + 901.0*x[308] + 653.0*x[309] + 764.0*x[310] + 893.0*x[311] + 688.0*x[312] + 679.0*x[313] + 642.0*x[314] + 737.0*x[315] + 251.0*x[316] + 491.0*x[317] + 996.0*x[318] + 796.0*x[319] + 768.0*x[320] + 625.0*x[321] + 528.0*x[322] + 771.0*x[323] + 592.0*x[324] + 530.0*x[325] + 742.0*x[326] + 740.0*x[327] + 391.0*x[328] + 936.0*x[329] + 1023.0*x[330] + 822.0*x[331] + 462.0*x[332] + 782.0*x[333] + 737.0*x[334] + 430.0*x[335] + 675.0*x[336] + 576.0*x[337] + 440.0*x[338] + 339.0*x[339] + 619.0*x[340] + 951.0*x[341] + 676.0*x[342] + 1193.0*x[343] + 811.0*x[344] + 985.0*x[345] + 876.0*x[346] + 679.0*x[347] + 661.0*x[348] + 912.0*x[349] + 742.0*x[350] + 850.0*x[351] + 798.0*x[352] + 826.0*x[353] + 409.0*x[354] + 941.0*x[355] + 804.0*x[356] + 680.0*x[357] + 474.0*x[358] + 605.0*x[359] + 826.0*x[360] + 845.0*x[361] + 1053.0*x[362] + 745.0*x[363] + 689.0*x[364] + 711.0*x[365] + 771.0*x[366] + 991.0*x[367] + 732.0*x[368] + 795.0*x[369] + 931.0*x[370] + 909.0*x[371] + 724.0*x[372] + 851.0*x[373] + 1064.0*x[374] + 495.0*x[375] + 917.0*x[376] + 791.0*x[377] + 561.0*x[378] + 779.0*x[379] + 802.0*x[380] + 1028.0*x[381] + 1153.0*x[382] + 1063.0*x[383] + 1115.0*x[384] + 562.0*x[385] + 515.0*x[386] + 443.0*x[387] + 524.0*x[388] + 649.0*x[389] + 650.0*x[390] + 695.0*x[391] + 860.0*x[392] + 707.0*x[393] + 499.0*x[394] + 936.0*x[395] + 660.0*x[396] + 407.0*x[397] + 614.0*x[398] + 902.0*x[399] + 854.0*x[400] + 861.0*x[401] + 962.0*x[402] + 738.0*x[403] + 388.0*x[404] + 747.0*x[405] + 587.0*x[406] + 780.0*x[407] + 785.0*x[408] + 1084.0*x[409] + 604.0*x[410] + 736.0*x[411] + 830.0*x[412] + 754.0*x[413] + 561.0*x[414] + 504.0*x[415] + 632.0*x[416] + 603.0*x[417] + 855.0*x[418] + 1176.0*x[419] + 773.0*x[420] + 777.0*x[421] + 953.0*x[422] + 407.0*x[423] + 1064.0*x[424] + 756.0*x[425] + 1046.0*x[426] + 779.0*x[427] + 881.0*x[428] + 721.0*x[429] + 605.0*x[430] + 724.0*x[431] + 1083.0*x[432] + 730.0*x[433] + 756.0*x[434] + 768.0*x[435] + 860.0*x[436] + 439.0*x[437] + 760.0*x[438] + 721.0*x[439] + 613.0*x[440] + 316.0*x[441] + 714.0*x[442] + 972.0*x[443] + 807.0*x[444] + 432.0*x[445] + 580.0*x[446] + 650.0*x[447] + 613.0*x[448] + 881.0*x[449] + 496.0*x[450] + 697.0*x[451] + 318.0*x[452] + 749.0*x[453] + 883.0*x[454] + 640.0*x[455] + 361.0*x[456] + 774.0*x[457] + 577.0*x[458] + 659.0*x[459] + 822.0*x[460] + 844.0*x[461] + 826.0*x[462] + 828.0*x[463] + 590.0*x[464] + 826.0*x[465] + 1024.0*x[466] + 310.0*x[467] + 899.0*x[468] + 496.0*x[469] + 402.0*x[470] + 597.0*x[471] + 644.0*x[472] + 706.0*x[473] + 690.0*x[474] + 547.0*x[475] + 701.0*x[476] + 761.0*x[477] + 634.0*x[478] + 921.0*x[479] + 557.0*x[480] + 578.0*x[481] + 883.0*x[482] + 916.0*x[483] + 689.0*x[484] + 478.0*x[485] + 417.0*x[486] + 805.0*x[487] + 656.0*x[488] + 806.0*x[489] + 713.0*x[490] + 322.0*x[491] + 896.0*x[492] + 949.0*x[493] + 833.0*x[494] + 953.0*x[495] + 703.0*x[496] + 859.0*x[497] + 1078.0*x[498] + 948.0*x[499]\n",
            "\n",
            "1 Constraint Declarations\n",
            "    constraints : Size=5, Index=constraints_index, Active=True\n",
            "        Key : Lower : Body                                                                                                                                                                                                                                                                                                                                                                                                                                                                                                                                                                                                                                                                                                                                                                                                                                                                                                                                                                                                                                                                                                                                                                                                                                                                                                                                                                                                                                                                                                                                                                                                                                                                                                                                                                                                                                                                                                                                                                                                                                                                                                                                                                                                                                                                                                                                                                                                                                                                                                                                                                                                                                                                                                                                                                                                                                                                                                                                                                                                                                                                                                                                                                                                                                                                                                                                                                                                                                                                                                                                                                                                                                                                                                                                                                                                                                                                                                                                                                                                                                                                                                                                                                                                                                                                                                                                                                                                                                                                                                                                                                                                                                                                                                                                                                                                                                                                                                                                                                                                                                                                                                                                                                                                                                                                                                                                                                                                                                                                                                                                                                                                                                                                                                                                                                                                                                                                                                                                                                                                                                                                                                                                                                                                                                                                                                                                                                                                                                                                                                                                                                                                                                                                                                                                                                                                                                                                                                                                                                                                                                                                                                                                                                                                                                                                                                                                                                                                                                                                                                                                                                                                                                                     : Upper    : Active\n",
            "          1 :  -Inf :                                  702.0*x[0] + 840.0*x[1] + 513.0*x[2] + 157.0*x[3] + 882.0*x[4] + 341.0*x[5] + 637.0*x[6] + 175.0*x[7] + 615.0*x[8] + 464.0*x[9] + 345.0*x[10] + 253.0*x[11] + 522.0*x[12] + 314.0*x[13] + 544.0*x[14] + 866.0*x[15] + 520.0*x[16] + 706.0*x[17] + 447.0*x[18] + 349.0*x[19] + 562.0*x[20] + 354.0*x[21] + 235.0*x[22] + 803.0*x[23] + 336.0*x[24] + 669.0*x[25] + 510.0*x[26] + 762.0*x[27] + 463.0*x[28] + 849.0*x[29] + 542.0*x[30] + 42.0*x[31] + 698.0*x[32] + 929.0*x[33] + 85.0*x[34] + 107.0*x[35] + 721.0*x[36] + 440.0*x[37] + 406.0*x[38] + 302.0*x[39] + 660.0*x[40] + 548.0*x[41] + 235.0*x[42] + 982.0*x[43] + 302.0*x[44] + 944.0*x[45] + 17.0*x[46] + 947.0*x[47] + 306.0*x[48] + 64.0*x[49] + 497.0*x[50] + 625.0*x[51] + 814.0*x[52] + 186.0*x[53] + 493.0*x[54] + 629.0*x[55] + 794.0*x[56] + 89.0*x[57] + 798.0*x[58] + 875.0*x[59] + 735.0*x[60] + 656.0*x[61] + 448.0*x[62] + 88.0*x[63] + 239.0*x[64] + 953.0*x[65] + 762.0*x[66] + 707.0*x[67] + 16.0*x[68] + 307.0*x[69] + 15.0*x[70] + 762.0*x[71] + 872.0*x[72] + 949.0*x[73] + 135.0*x[74] + 926.0*x[75] + 816.0*x[76] + 630.0*x[77] + 66.0*x[78] + 301.0*x[79] + 192.0*x[80] + 175.0*x[81] + 265.0*x[82] + 283.0*x[83] + 358.0*x[84] + 23.0*x[85] + 500.0*x[86] + 920.0*x[87] + 166.0*x[88] + 357.0*x[89] + 507.0*x[90] + 584.0*x[91] + 792.0*x[92] + 842.0*x[93] + 438.0*x[94] + 645.0*x[95] + 29.0*x[96] + 799.0*x[97] + 739.0*x[98] + 237.0*x[99] + 167.0*x[100] + 416.0*x[101] + 922.0*x[102] + 851.0*x[103] + 451.0*x[104] + 18.0*x[105] + 410.0*x[106] + 702.0*x[107] + 240.0*x[108] + 130.0*x[109] + 690.0*x[110] + 315.0*x[111] + 220.0*x[112] + 969.0*x[113] + 567.0*x[114] + 387.0*x[115] + 506.0*x[116] + 953.0*x[117] + 609.0*x[118] + 724.0*x[119] + 678.0*x[120] + 17.0*x[121] + 244.0*x[122] + 905.0*x[123] + 36.0*x[124] + 704.0*x[125] + 326.0*x[126] + 537.0*x[127] + 980.0*x[128] + 202.0*x[129] + 757.0*x[130] + 776.0*x[131] + 238.0*x[132] + 542.0*x[133] + 447.0*x[134] + 976.0*x[135] + 109.0*x[136] + 796.0*x[137] + 446.0*x[138] + 725.0*x[139] + 733.0*x[140] + 510.0*x[141] + 290.0*x[142] + 19.0*x[143] + 940.0*x[144] + 597.0*x[145] + 540.0*x[146] + 960.0*x[147] + 2.0*x[148] + 209.0*x[149] + 411.0*x[150] + 505.0*x[151] + 528.0*x[152] + 373.0*x[153] + 169.0*x[154] + 581.0*x[155] + 226.0*x[156] + 376.0*x[157] + 635.0*x[158] + 4.0*x[159] + 516.0*x[160] + 429.0*x[161] + 347.0*x[162] + 597.0*x[163] + 349.0*x[164] + 533.0*x[165] + 613.0*x[166] + 890.0*x[167] + 302.0*x[168] + 9.0*x[169] + 947.0*x[170] + 372.0*x[171] + 889.0*x[172] + 673.0*x[173] + 201.0*x[174] + 326.0*x[175] + 882.0*x[176] + 364.0*x[177] + 872.0*x[178] + 827.0*x[179] + 878.0*x[180] + 789.0*x[181] + 595.0*x[182] + 142.0*x[183] + 125.0*x[184] + 882.0*x[185] + 531.0*x[186] + 157.0*x[187] + 482.0*x[188] + 532.0*x[189] + 514.0*x[190] + 397.0*x[191] + 37.0*x[192] + 357.0*x[193] + 818.0*x[194] + 4.0*x[195] + 212.0*x[196] + 77.0*x[197] + 76.0*x[198] + 529.0*x[199] + 926.0*x[200] + 379.0*x[201] + 400.0*x[202] + 51.0*x[203] + 355.0*x[204] + 364.0*x[205] + 159.0*x[206] + 28.0*x[207] + 780.0*x[208] + 564.0*x[209] + 497.0*x[210] + 308.0*x[211] + 62.0*x[212] + 767.0*x[213] + 552.0*x[214] + 92.0*x[215] + 158.0*x[216] + 454.0*x[217] + 825.0*x[218] + 673.0*x[219] + 283.0*x[220] + 683.0*x[221] + 286.0*x[222] + 181.0*x[223] + 382.0*x[224] + 163.0*x[225] + 36.0*x[226] + 101.0*x[227] + 435.0*x[228] + 399.0*x[229] + 965.0*x[230] + 172.0*x[231] + 852.0*x[232] + 544.0*x[233] + 77.0*x[234] + 202.0*x[235] + 674.0*x[236] + 861.0*x[237] + 605.0*x[238] + 28.0*x[239] + 883.0*x[240] + 647.0*x[241] + 442.0*x[242] + 218.0*x[243] + 306.0*x[244] + 822.0*x[245] + 74.0*x[246] + 227.0*x[247] + 449.0*x[248] + 691.0*x[249] + 564.0*x[250] + 433.0*x[251] + 703.0*x[252] + 413.0*x[253] + 436.0*x[254] + 468.0*x[255] + 137.0*x[256] + 104.0*x[257] + 881.0*x[258] + 951.0*x[259] + 218.0*x[260] + 329.0*x[261] + 735.0*x[262] + 284.0*x[263] + 466.0*x[264] + 298.0*x[265] + 267.0*x[266] + 992.0*x[267] + 448.0*x[268] + 518.0*x[269] + 74.0*x[270] + 647.0*x[271] + 879.0*x[272] + 515.0*x[273] + 976.0*x[274] + 638.0*x[275] + 721.0*x[276] + 171.0*x[277] + 122.0*x[278] + 530.0*x[279] + 407.0*x[280] + 416.0*x[281] + 115.0*x[282] + 700.0*x[283] + 868.0*x[284] + 611.0*x[285] + 158.0*x[286] + 17.0*x[287] + 397.0*x[288] + 731.0*x[289] + 552.0*x[290] + 883.0*x[291] + 816.0*x[292] + 5.0*x[293] + 315.0*x[294] + 137.0*x[295] + 359.0*x[296] + 961.0*x[297] + 345.0*x[298] + 86.0*x[299] + 403.0*x[300] + 294.0*x[301] + 343.0*x[302] + 85.0*x[303] + 200.0*x[304] + 298.0*x[305] + 693.0*x[306] + 144.0*x[307] + 549.0*x[308] + 332.0*x[309] + 55.0*x[310] + 402.0*x[311] + 808.0*x[312] + 606.0*x[313] + 558.0*x[314] + 75.0*x[315] + 107.0*x[316] + 3.0*x[317] + 972.0*x[318] + 469.0*x[319] + 697.0*x[320] + 212.0*x[321] + 265.0*x[322] + 488.0*x[323] + 151.0*x[324] + 634.0*x[325] + 32.0*x[326] + 186.0*x[327] + 98.0*x[328] + 467.0*x[329] + 704.0*x[330] + 180.0*x[331] + 860.0*x[332] + 917.0*x[333] + 515.0*x[334] + 421.0*x[335] + 254.0*x[336] + 276.0*x[337] + 201.0*x[338] + 111.0*x[339] + 317.0*x[340] + 203.0*x[341] + 170.0*x[342] + 355.0*x[343] + 244.0*x[344] + 459.0*x[345] + 830.0*x[346] + 117.0*x[347] + 501.0*x[348] + 623.0*x[349] + 405.0*x[350] + 576.0*x[351] + 783.0*x[352] + 243.0*x[353] + 21.0*x[354] + 391.0*x[355] + 965.0*x[356] + 728.0*x[357] + 382.0*x[358] + 536.0*x[359] + 229.0*x[360] + 514.0*x[361] + 983.0*x[362] + 465.0*x[363] + 500.0*x[364] + 723.0*x[365] + 703.0*x[366] + 80.0*x[367] + 425.0*x[368] + 951.0*x[369] + 659.0*x[370] + 876.0*x[371] + 216.0*x[372] + 215.0*x[373] + 163.0*x[374] + 13.0*x[375] + 979.0*x[376] + 633.0*x[377] + 114.0*x[378] + 883.0*x[379] + 560.0*x[380] + 574.0*x[381] + 313.0*x[382] + 737.0*x[383] + 909.0*x[384] + 369.0*x[385] + 139.0*x[386] + 176.0*x[387] + 60.0*x[388] + 872.0*x[389] + 30.0*x[390] + 635.0*x[391] + 502.0*x[392] + 948.0*x[393] + 447.0*x[394] + 166.0*x[395] + 825.0*x[396] + 121.0*x[397] + 346.0*x[398] + 670.0*x[399] + 73.0*x[400] + 284.0*x[401] + 11.0*x[402] + 575.0*x[403] + 264.0*x[404] + 104.0*x[405] + 664.0*x[406] + 415.0*x[407] + 789.0*x[408] + 703.0*x[409] + 147.0*x[410] + 229.0*x[411] + 317.0*x[412] + 800.0*x[413] + 25.0*x[414] + 233.0*x[415] + 308.0*x[416] + 661.0*x[417] + 956.0*x[418] + 459.0*x[419] + 434.0*x[420] + 256.0*x[421] + 40.0*x[422] + 811.0*x[423] + 950.0*x[424] + 75.0*x[425] + 303.0*x[426] + 467.0*x[427] + 4.0*x[428] + 53.0*x[429] + 357.0*x[430] + 910.0*x[431] + 766.0*x[432] + 388.0*x[433] + 986.0*x[434] + 535.0*x[435] + 67.0*x[436] + 214.0*x[437] + 171.0*x[438] + 714.0*x[439] + 890.0*x[440] + 701.0*x[441] + 216.0*x[442] + 739.0*x[443] + 236.0*x[444] + 549.0*x[445] + 36.0*x[446] + 224.0*x[447] + 421.0*x[448] + 342.0*x[449] + 591.0*x[450] + 887.0*x[451] + 609.0*x[452] + 610.0*x[453] + 410.0*x[454] + 807.0*x[455] + 510.0*x[456] + 422.0*x[457] + 383.0*x[458] + 120.0*x[459] + 725.0*x[460] + 305.0*x[461] + 814.0*x[462] + 401.0*x[463] + 584.0*x[464] + 366.0*x[465] + 864.0*x[466] + 421.0*x[467] + 130.0*x[468] + 193.0*x[469] + 652.0*x[470] + 477.0*x[471] + 10.0*x[472] + 347.0*x[473] + 626.0*x[474] + 492.0*x[475] + 837.0*x[476] + 141.0*x[477] + 707.0*x[478] + 517.0*x[479] + 430.0*x[480] + 94.0*x[481] + 948.0*x[482] + 69.0*x[483] + 231.0*x[484] + 501.0*x[485] + 7.0*x[486] + 480.0*x[487] + 164.0*x[488] + 902.0*x[489] + 768.0*x[490] + 68.0*x[491] + 340.0*x[492] + 500.0*x[493] + 896.0*x[494] + 623.0*x[495] + 46.0*x[496] + 474.0*x[497] + 707.0*x[498] + 625.0*x[499] : 173725.0 :   True\n",
            "          2 :  -Inf : 246.0*x[0] + 994.0*x[1] + 938.0*x[2] + 617.0*x[3] + 84.0*x[4] + 49.0*x[5] + 232.0*x[6] + 137.0*x[7] + 1000.0*x[8] + 201.0*x[9] + 101.0*x[10] + 265.0*x[11] + 496.0*x[12] + 53.0*x[13] + 20.0*x[14] + 645.0*x[15] + 77.0*x[16] + 33.0*x[17] + 164.0*x[18] + 565.0*x[19] + 801.0*x[20] + 417.0*x[21] + 553.0*x[22] + 824.0*x[23] + 25.0*x[24] + 798.0*x[25] + 17.0*x[26] + 471.0*x[27] + 954.0*x[28] + 961.0*x[29] + 598.0*x[30] + 499.0*x[31] + 869.0*x[32] + 407.0*x[33] + 333.0*x[34] + 926.0*x[35] + 26.0*x[36] + 208.0*x[37] + 675.0*x[38] + 746.0*x[39] + 197.0*x[40] + 960.0*x[41] + 682.0*x[42] + 804.0*x[43] + 451.0*x[44] + 273.0*x[45] + 279.0*x[46] + 286.0*x[47] + 211.0*x[48] + 151.0*x[49] + 620.0*x[50] + 447.0*x[51] + 125.0*x[52] + 329.0*x[53] + 691.0*x[54] + 627.0*x[55] + 316.0*x[56] + 200.0*x[57] + 457.0*x[58] + 418.0*x[59] + 11.0*x[60] + 993.0*x[61] + 470.0*x[62] + 730.0*x[63] + 744.0*x[64] + 298.0*x[65] + 238.0*x[66] + 612.0*x[67] + 722.0*x[68] + 607.0*x[69] + 146.0*x[70] + 726.0*x[71] + 28.0*x[72] + 954.0*x[73] + 851.0*x[74] + 582.0*x[75] + 711.0*x[76] + 36.0*x[77] + 515.0*x[78] + 393.0*x[79] + 594.0*x[80] + 405.0*x[81] + 508.0*x[82] + 390.0*x[83] + 976.0*x[84] + 149.0*x[85] + 845.0*x[86] + 982.0*x[87] + 341.0*x[88] + 776.0*x[89] + 201.0*x[90] + 888.0*x[91] + 200.0*x[92] + 660.0*x[93] + 205.0*x[94] + 967.0*x[95] + 279.0*x[96] + 603.0*x[97] + 525.0*x[98] + 762.0*x[99] + 806.0*x[100] + 22.0*x[101] + 853.0*x[102] + 678.0*x[103] + 685.0*x[104] + 255.0*x[105] + 872.0*x[106] + 390.0*x[107] + 60.0*x[108] + 308.0*x[109] + 307.0*x[110] + 862.0*x[111] + 312.0*x[112] + 349.0*x[113] + 366.0*x[114] + 770.0*x[115] + 474.0*x[116] + 613.0*x[117] + 768.0*x[118] + 889.0*x[119] + 356.0*x[120] + 904.0*x[121] + 864.0*x[122] + 345.0*x[123] + 715.0*x[124] + 41.0*x[125] + 307.0*x[126] + 889.0*x[127] + 938.0*x[128] + 792.0*x[129] + 696.0*x[130] + 809.0*x[131] + 116.0*x[132] + 381.0*x[133] + 557.0*x[134] + 2.0*x[135] + 184.0*x[136] + 311.0*x[137] + 248.0*x[138] + 973.0*x[139] + 330.0*x[140] + 979.0*x[141] + 13.0*x[142] + 620.0*x[143] + 742.0*x[144] + 678.0*x[145] + 434.0*x[146] + 378.0*x[147] + 947.0*x[148] + 145.0*x[149] + 995.0*x[150] + 612.0*x[151] + 672.0*x[152] + 799.0*x[153] + 998.0*x[154] + 740.0*x[155] + 722.0*x[156] + 136.0*x[157] + 759.0*x[158] + 905.0*x[159] + 313.0*x[160] + 714.0*x[161] + 193.0*x[162] + 369.0*x[163] + 702.0*x[164] + 604.0*x[165] + 801.0*x[166] + 361.0*x[167] + 668.0*x[168] + 107.0*x[169] + 43.0*x[170] + 650.0*x[171] + 793.0*x[172] + 160.0*x[173] + 777.0*x[174] + 860.0*x[175] + 388.0*x[176] + 320.0*x[177] + 351.0*x[178] + 351.0*x[179] + 467.0*x[180] + 626.0*x[181] + 847.0*x[182] + 678.0*x[183] + 499.0*x[184] + 981.0*x[185] + 556.0*x[186] + 66.0*x[187] + 134.0*x[188] + 633.0*x[189] + 633.0*x[190] + 455.0*x[191] + 820.0*x[192] + 218.0*x[193] + 320.0*x[194] + 633.0*x[195] + 890.0*x[196] + 532.0*x[197] + 450.0*x[198] + 380.0*x[199] + 643.0*x[200] + 698.0*x[201] + 98.0*x[202] + 158.0*x[203] + 233.0*x[204] + 884.0*x[205] + 63.0*x[206] + 502.0*x[207] + 881.0*x[208] + 883.0*x[209] + 389.0*x[210] + 241.0*x[211] + 314.0*x[212] + 622.0*x[213] + 659.0*x[214] + 112.0*x[215] + 868.0*x[216] + 811.0*x[217] + 890.0*x[218] + 267.0*x[219] + 72.0*x[220] + 212.0*x[221] + 482.0*x[222] + 475.0*x[223] + 771.0*x[224] + 63.0*x[225] + 620.0*x[226] + 978.0*x[227] + 449.0*x[228] + 692.0*x[229] + 847.0*x[230] + 251.0*x[231] + 436.0*x[232] + 980.0*x[233] + 348.0*x[234] + 113.0*x[235] + 106.0*x[236] + 173.0*x[237] + 584.0*x[238] + 497.0*x[239] + 679.0*x[240] + 440.0*x[241] + 525.0*x[242] + 711.0*x[243] + 512.0*x[244] + 623.0*x[245] + 855.0*x[246] + 738.0*x[247] + 170.0*x[248] + 951.0*x[249] + 55.0*x[250] + 398.0*x[251] + 862.0*x[252] + 938.0*x[253] + 713.0*x[254] + 164.0*x[255] + 534.0*x[256] + 241.0*x[257] + 734.0*x[258] + 892.0*x[259] + 124.0*x[260] + 67.0*x[261] + 425.0*x[262] + 126.0*x[263] + 734.0*x[264] + 153.0*x[265] + 897.0*x[266] + 243.0*x[267] + 147.0*x[268] + 205.0*x[269] + 604.0*x[270] + 294.0*x[271] + 597.0*x[272] + 438.0*x[273] + 134.0*x[274] + 842.0*x[275] + 524.0*x[276] + 340.0*x[277] + 108.0*x[278] + 571.0*x[279] + 159.0*x[280] + 139.0*x[281] + 739.0*x[282] + 860.0*x[283] + 113.0*x[284] + 98.0*x[285] + 215.0*x[286] + 987.0*x[287] + 604.0*x[288] + 120.0*x[289] + 773.0*x[290] + 510.0*x[291] + 401.0*x[292] + 100.0*x[293] + 399.0*x[294] + 420.0*x[295] + 355.0*x[296] + 721.0*x[297] + 787.0*x[298] + 923.0*x[299] + 534.0*x[300] + 611.0*x[301] + 938.0*x[302] + 373.0*x[303] + 275.0*x[304] + 396.0*x[305] + 761.0*x[306] + 290.0*x[307] + 328.0*x[308] + 941.0*x[309] + 641.0*x[310] + 428.0*x[311] + 945.0*x[312] + 182.0*x[313] + 567.0*x[314] + 236.0*x[315] + 105.0*x[316] + 668.0*x[317] + 963.0*x[318] + 904.0*x[319] + 71.0*x[320] + 373.0*x[321] + 713.0*x[322] + 545.0*x[323] + 209.0*x[324] + 148.0*x[325] + 233.0*x[326] + 582.0*x[327] + 937.0*x[328] + 564.0*x[329] + 223.0*x[330] + 178.0*x[331] + 186.0*x[332] + 711.0*x[333] + 186.0*x[334] + 174.0*x[335] + 248.0*x[336] + 908.0*x[337] + 349.0*x[338] + 894.0*x[339] + 874.0*x[340] + 515.0*x[341] + 463.0*x[342] + 621.0*x[343] + 929.0*x[344] + 960.0*x[345] + 794.0*x[346] + 224.0*x[347] + 398.0*x[348] + 848.0*x[349] + 182.0*x[350] + 906.0*x[351] + 381.0*x[352] + 974.0*x[353] + 467.0*x[354] + 429.0*x[355] + 524.0*x[356] + 796.0*x[357] + 480.0*x[358] + 323.0*x[359] + 713.0*x[360] + 563.0*x[361] + 279.0*x[362] + 608.0*x[363] + 766.0*x[364] + 281.0*x[365] + 501.0*x[366] + 704.0*x[367] + 878.0*x[368] + 102.0*x[369] + 778.0*x[370] + 839.0*x[371] + 92.0*x[372] + 836.0*x[373] + 901.0*x[374] + 493.0*x[375] + 712.0*x[376] + 657.0*x[377] + 613.0*x[378] + 166.0*x[379] + 224.0*x[380] + 990.0*x[381] + 415.0*x[382] + 178.0*x[383] + 576.0*x[384] + 741.0*x[385] + 114.0*x[386] + 401.0*x[387] + 458.0*x[388] + 549.0*x[389] + 476.0*x[390] + 316.0*x[391] + 812.0*x[392] + 205.0*x[393] + 266.0*x[394] + 764.0*x[395] + 379.0*x[396] + 554.0*x[397] + 282.0*x[398] + 164.0*x[399] + 651.0*x[400] + 712.0*x[401] + 561.0*x[402] + 493.0*x[403] + 348.0*x[404] + 674.0*x[405] + 764.0*x[406] + 581.0*x[407] + 412.0*x[408] + 66.0*x[409] + 151.0*x[410] + 750.0*x[411] + 559.0*x[412] + 671.0*x[413] + 222.0*x[414] + 240.0*x[415] + 286.0*x[416] + 793.0*x[417] + 135.0*x[418] + 886.0*x[419] + 939.0*x[420] + 366.0*x[421] + 804.0*x[422] + 265.0*x[423] + 416.0*x[424] + 818.0*x[425] + 593.0*x[426] + 543.0*x[427] + 874.0*x[428] + 448.0*x[429] + 250.0*x[430] + 321.0*x[431] + 113.0*x[432] + 12.0*x[433] + 914.0*x[434] + 800.0*x[435] + 292.0*x[436] + 180.0*x[437] + 947.0*x[438] + 757.0*x[439] + 278.0*x[440] + 281.0*x[441] + 168.0*x[442] + 850.0*x[443] + 891.0*x[444] + 154.0*x[445] + 948.0*x[446] + 339.0*x[447] + 41.0*x[448] + 858.0*x[449] + 713.0*x[450] + 652.0*x[451] + 30.0*x[452] + 663.0*x[453] + 368.0*x[454] + 674.0*x[455] + 70.0*x[456] + 266.0*x[457] + 371.0*x[458] + 489.0*x[459] + 73.0*x[460] + 805.0*x[461] + 908.0*x[462] + 905.0*x[463] + 702.0*x[464] + 880.0*x[465] + 451.0*x[466] + 119.0*x[467] + 242.0*x[468] + 266.0*x[469] + 130.0*x[470] + 852.0*x[471] + 686.0*x[472] + 936.0*x[473] + 825.0*x[474] + 680.0*x[475] + 148.0*x[476] + 390.0*x[477] + 792.0*x[478] + 221.0*x[479] + 887.0*x[480] + 433.0*x[481] + 128.0*x[482] + 883.0*x[483] + 613.0*x[484] + 776.0*x[485] + 624.0*x[486] + 470.0*x[487] + 214.0*x[488] + 486.0*x[489] + 113.0*x[490] + 26.0*x[491] + 777.0*x[492] + 688.0*x[493] + 312.0*x[494] + 442.0*x[495] + 683.0*x[496] + 734.0*x[497] + 423.0*x[498] + 691.0*x[499] : 190019.0 :   True\n",
            "          3 :  -Inf :                                     799.0*x[0] + 228.0*x[1] + 10.0*x[2] + 731.0*x[3] + 836.0*x[4] + 270.0*x[5] + 986.0*x[6] + 337.0*x[7] + 233.0*x[8] + 22.0*x[9] + 131.0*x[10] + 891.0*x[11] + 73.0*x[12] + 388.0*x[13] + 365.0*x[14] + 106.0*x[15] + 471.0*x[16] + 498.0*x[17] + 46.0*x[18] + 918.0*x[19] + 808.0*x[20] + 20.0*x[21] + 498.0*x[22] + 689.0*x[23] + 763.0*x[24] + 849.0*x[25] + 767.0*x[26] + 188.0*x[27] + 681.0*x[28] + 598.0*x[29] + 779.0*x[30] + 867.0*x[31] + 771.0*x[32] + 587.0*x[33] + 66.0*x[34] + 986.0*x[35] + 520.0*x[36] + 595.0*x[37] + 913.0*x[38] + 100.0*x[39] + 28.0*x[40] + 679.0*x[41] + 732.0*x[42] + 392.0*x[43] + 136.0*x[44] + 597.0*x[45] + 344.0*x[46] + 34.0*x[47] + 900.0*x[48] + 843.0*x[49] + 887.0*x[50] + 10.0*x[51] + 244.0*x[52] + 414.0*x[53] + 375.0*x[54] + 662.0*x[55] + 781.0*x[56] + 729.0*x[57] + 433.0*x[58] + 665.0*x[59] + 678.0*x[60] + 30.0*x[61] + 874.0*x[62] + 417.0*x[63] + 406.0*x[64] + 317.0*x[65] + 635.0*x[66] + 9.0*x[67] + 426.0*x[68] + 528.0*x[69] + 41.0*x[70] + 58.0*x[71] + 692.0*x[72] + 146.0*x[73] + 844.0*x[74] + 722.0*x[75] + 202.0*x[76] + 75.0*x[77] + 616.0*x[78] + 722.0*x[79] + 171.0*x[80] + 749.0*x[81] + 725.0*x[82] + 465.0*x[83] + 202.0*x[84] + 587.0*x[85] + 991.0*x[86] + 547.0*x[87] + 560.0*x[88] + 990.0*x[89] + 181.0*x[90] + 655.0*x[91] + 19.0*x[92] + 664.0*x[93] + 225.0*x[94] + 218.0*x[95] + 233.0*x[96] + 84.0*x[97] + 996.0*x[98] + 151.0*x[99] + 530.0*x[100] + 755.0*x[101] + 431.0*x[102] + 251.0*x[103] + 520.0*x[104] + 128.0*x[105] + 34.0*x[106] + 914.0*x[107] + 64.0*x[108] + 606.0*x[109] + 133.0*x[110] + 876.0*x[111] + 534.0*x[112] + 71.0*x[113] + 384.0*x[114] + 572.0*x[115] + 26.0*x[116] + 299.0*x[117] + 530.0*x[118] + 518.0*x[119] + 572.0*x[120] + 450.0*x[121] + 739.0*x[122] + 438.0*x[123] + 104.0*x[124] + 738.0*x[125] + 754.0*x[126] + 33.0*x[127] + 985.0*x[128] + 471.0*x[129] + 286.0*x[130] + 565.0*x[131] + 704.0*x[132] + 806.0*x[133] + 854.0*x[134] + 63.0*x[135] + 858.0*x[136] + 856.0*x[137] + 886.0*x[138] + 799.0*x[139] + 802.0*x[140] + 815.0*x[141] + 320.0*x[142] + 310.0*x[143] + 443.0*x[144] + 889.0*x[145] + 6.0*x[146] + 811.0*x[147] + 115.0*x[148] + 543.0*x[149] + 41.0*x[150] + 400.0*x[151] + 729.0*x[152] + 148.0*x[153] + 84.0*x[154] + 328.0*x[155] + 461.0*x[156] + 262.0*x[157] + 317.0*x[158] + 500.0*x[159] + 609.0*x[160] + 287.0*x[161] + 656.0*x[162] + 130.0*x[163] + 179.0*x[164] + 976.0*x[165] + 707.0*x[166] + 525.0*x[167] + 488.0*x[168] + 946.0*x[169] + 769.0*x[170] + 635.0*x[171] + 624.0*x[172] + 396.0*x[173] + 696.0*x[174] + 256.0*x[175] + 867.0*x[176] + 507.0*x[177] + 522.0*x[178] + 229.0*x[179] + 463.0*x[180] + 989.0*x[181] + 579.0*x[182] + 201.0*x[183] + 455.0*x[184] + 44.0*x[185] + 743.0*x[186] + 363.0*x[187] + 514.0*x[188] + 83.0*x[189] + 169.0*x[190] + 676.0*x[191] + 792.0*x[192] + 794.0*x[193] + 43.0*x[194] + 759.0*x[195] + 13.0*x[196] + 705.0*x[197] + 864.0*x[198] + 782.0*x[199] + 939.0*x[200] + 702.0*x[201] + 371.0*x[202] + 12.0*x[203] + 866.0*x[204] + 887.0*x[205] + 486.0*x[206] + 60.0*x[207] + 215.0*x[208] + 846.0*x[209] + 641.0*x[210] + 835.0*x[211] + 725.0*x[212] + 775.0*x[213] + 761.0*x[214] + 736.0*x[215] + 381.0*x[216] + 91.0*x[217] + 28.0*x[218] + 384.0*x[219] + 207.0*x[220] + 658.0*x[221] + 734.0*x[222] + 961.0*x[223] + 198.0*x[224] + 642.0*x[225] + 933.0*x[226] + 860.0*x[227] + 853.0*x[228] + 434.0*x[229] + 525.0*x[230] + 625.0*x[231] + 716.0*x[232] + 421.0*x[233] + 163.0*x[234] + 714.0*x[235] + 152.0*x[236] + 591.0*x[237] + 313.0*x[238] + 712.0*x[239] + 637.0*x[240] + 121.0*x[241] + 862.0*x[242] + 437.0*x[243] + 76.0*x[244] + 948.0*x[245] + 674.0*x[246] + 238.0*x[247] + 117.0*x[248] + 391.0*x[249] + 804.0*x[250] + 422.0*x[251] + 147.0*x[252] + 209.0*x[253] + 837.0*x[254] + 402.0*x[255] + 467.0*x[256] + 6.0*x[257] + 369.0*x[258] + 569.0*x[259] + 474.0*x[260] + 745.0*x[261] + 360.0*x[262] + 264.0*x[263] + 297.0*x[264] + 549.0*x[265] + 633.0*x[266] + 94.0*x[267] + 769.0*x[268] + 420.0*x[269] + 505.0*x[270] + 548.0*x[271] + 262.0*x[272] + 396.0*x[273] + 230.0*x[274] + 571.0*x[275] + 126.0*x[276] + 324.0*x[277] + 575.0*x[278] + 354.0*x[279] + 246.0*x[280] + 506.0*x[281] + 951.0*x[282] + 78.0*x[283] + 768.0*x[284] + 802.0*x[285] + 5.0*x[286] + 696.0*x[287] + 446.0*x[288] + 214.0*x[289] + 869.0*x[290] + 357.0*x[291] + 14.0*x[292] + 456.0*x[293] + 212.0*x[294] + 713.0*x[295] + 371.0*x[296] + 760.0*x[297] + 54.0*x[298] + 464.0*x[299] + 831.0*x[300] + 358.0*x[301] + 719.0*x[302] + 90.0*x[303] + 194.0*x[304] + 263.0*x[305] + 579.0*x[306] + 36.0*x[307] + x[308] + 559.0*x[309] + 351.0*x[310] + 542.0*x[311] + 95.0*x[312] + 451.0*x[313] + 668.0*x[314] + 680.0*x[315] + 93.0*x[316] + 572.0*x[317] + 863.0*x[318] + 883.0*x[319] + 265.0*x[320] + 514.0*x[321] + 809.0*x[322] + 121.0*x[323] + 431.0*x[324] + 526.0*x[325] + 551.0*x[326] + 172.0*x[327] + 370.0*x[328] + 413.0*x[329] + 785.0*x[330] + 936.0*x[331] + 273.0*x[332] + 925.0*x[333] + 618.0*x[334] + 200.0*x[335] + 745.0*x[336] + 930.0*x[337] + 757.0*x[338] + 129.0*x[339] + 263.0*x[340] + 846.0*x[341] + 826.0*x[342] + 976.0*x[343] + 970.0*x[344] + 930.0*x[345] + 403.0*x[346] + 820.0*x[347] + 42.0*x[348] + 727.0*x[349] + 274.0*x[350] + 650.0*x[351] + 955.0*x[352] + 146.0*x[353] + 582.0*x[354] + 325.0*x[355] + 46.0*x[356] + 219.0*x[357] + 785.0*x[358] + 723.0*x[359] + 470.0*x[360] + 556.0*x[361] + 666.0*x[362] + 581.0*x[363] + 694.0*x[364] + 18.0*x[365] + 963.0*x[366] + 390.0*x[367] + 507.0*x[368] + 365.0*x[369] + 699.0*x[370] + 945.0*x[371] + 758.0*x[372] + 984.0*x[373] + 993.0*x[374] + 872.0*x[375] + 613.0*x[376] + 335.0*x[377] + 461.0*x[378] + 353.0*x[379] + 590.0*x[380] + 779.0*x[381] + 966.0*x[382] + 871.0*x[383] + 827.0*x[384] + 39.0*x[385] + 595.0*x[386] + 624.0*x[387] + 772.0*x[388] + 335.0*x[389] + 722.0*x[390] + 324.0*x[391] + 519.0*x[392] + 926.0*x[393] + 626.0*x[394] + 505.0*x[395] + 520.0*x[396] + 68.0*x[397] + 218.0*x[398] + 590.0*x[399] + 976.0*x[400] + 457.0*x[401] + 589.0*x[402] + 541.0*x[403] + 231.0*x[404] + 613.0*x[405] + 244.0*x[406] + 168.0*x[407] + 282.0*x[408] + 515.0*x[409] + 857.0*x[410] + 632.0*x[411] + 843.0*x[412] + 848.0*x[413] + 604.0*x[414] + 455.0*x[415] + 634.0*x[416] + 39.0*x[417] + 576.0*x[418] + 779.0*x[419] + 415.0*x[420] + 283.0*x[421] + 339.0*x[422] + 47.0*x[423] + 645.0*x[424] + 713.0*x[425] + 841.0*x[426] + 841.0*x[427] + 229.0*x[428] + 811.0*x[429] + 477.0*x[430] + 534.0*x[431] + 928.0*x[432] + 549.0*x[433] + 396.0*x[434] + 773.0*x[435] + 482.0*x[436] + 373.0*x[437] + 137.0*x[438] + 374.0*x[439] + 439.0*x[440] + 4.0*x[441] + 928.0*x[442] + 40.0*x[443] + 727.0*x[444] + 591.0*x[445] + 252.0*x[446] + 37.0*x[447] + 641.0*x[448] + 452.0*x[449] + 38.0*x[450] + 206.0*x[451] + 72.0*x[452] + 541.0*x[453] + 780.0*x[454] + 382.0*x[455] + 184.0*x[456] + 335.0*x[457] + 806.0*x[458] + 456.0*x[459] + 967.0*x[460] + 591.0*x[461] + 310.0*x[462] + 143.0*x[463] + 347.0*x[464] + 905.0*x[465] + 175.0*x[466] + 457.0*x[467] + 975.0*x[468] + 280.0*x[469] + 635.0*x[470] + 418.0*x[471] + 294.0*x[472] + 564.0*x[473] + 329.0*x[474] + 691.0*x[475] + 299.0*x[476] + 735.0*x[477] + 908.0*x[478] + 823.0*x[479] + 86.0*x[480] + 38.0*x[481] + 509.0*x[482] + 889.0*x[483] + 503.0*x[484] + 359.0*x[485] + 124.0*x[486] + 927.0*x[487] + 448.0*x[488] + 591.0*x[489] + 33.0*x[490] + 476.0*x[491] + 468.0*x[492] + 289.0*x[493] + 613.0*x[494] + 984.0*x[495] + 961.0*x[496] + 13.0*x[497] + 231.0*x[498] + 440.0*x[499] : 186926.0 :   True\n",
            "          4 :  -Inf :                  463.0*x[0] + 654.0*x[1] + 167.0*x[2] + 574.0*x[3] + 29.0*x[4] + 338.0*x[5] + 964.0*x[6] + 958.0*x[7] + 976.0*x[8] + 848.0*x[9] + 207.0*x[10] + 670.0*x[11] + 882.0*x[12] + 11.0*x[13] + 836.0*x[14] + 75.0*x[15] + 756.0*x[16] + 360.0*x[17] + 315.0*x[18] + 931.0*x[19] + 724.0*x[20] + 273.0*x[21] + 587.0*x[22] + 526.0*x[23] + 293.0*x[24] + 391.0*x[25] + 521.0*x[26] + 971.0*x[27] + 938.0*x[28] + 282.0*x[29] + 419.0*x[30] + 603.0*x[31] + 824.0*x[32] + 888.0*x[33] + 495.0*x[34] + 528.0*x[35] + 269.0*x[36] + 230.0*x[37] + 522.0*x[38] + 252.0*x[39] + 228.0*x[40] + 802.0*x[41] + 946.0*x[42] + 81.0*x[43] + 990.0*x[44] + 972.0*x[45] + 883.0*x[46] + 973.0*x[47] + 775.0*x[48] + 240.0*x[49] + 770.0*x[50] + 985.0*x[51] + 278.0*x[52] + 861.0*x[53] + 83.0*x[54] + 261.0*x[55] + 362.0*x[56] + 923.0*x[57] + 34.0*x[58] + 893.0*x[59] + 189.0*x[60] + 342.0*x[61] + 611.0*x[62] + 786.0*x[63] + 66.0*x[64] + 677.0*x[65] + 851.0*x[66] + 849.0*x[67] + 918.0*x[68] + 297.0*x[69] + 779.0*x[70] + 707.0*x[71] + 424.0*x[72] + 541.0*x[73] + 400.0*x[74] + 442.0*x[75] + 40.0*x[76] + 50.0*x[77] + 835.0*x[78] + 590.0*x[79] + 864.0*x[80] + 464.0*x[81] + 1000.0*x[82] + 98.0*x[83] + 349.0*x[84] + 524.0*x[85] + 921.0*x[86] + 834.0*x[87] + 956.0*x[88] + 748.0*x[89] + 857.0*x[90] + 729.0*x[91] + 372.0*x[92] + 979.0*x[93] + 768.0*x[94] + 628.0*x[95] + 255.0*x[96] + 325.0*x[97] + 634.0*x[98] + 984.0*x[99] + 320.0*x[100] + 49.0*x[101] + 758.0*x[102] + 724.0*x[103] + 756.0*x[104] + 850.0*x[105] + 166.0*x[106] + 247.0*x[107] + 177.0*x[108] + 756.0*x[109] + 355.0*x[110] + 663.0*x[111] + 615.0*x[112] + 102.0*x[113] + 990.0*x[114] + 926.0*x[115] + 384.0*x[116] + 116.0*x[117] + 983.0*x[118] + 893.0*x[119] + 713.0*x[120] + 34.0*x[121] + 326.0*x[122] + 261.0*x[123] + 581.0*x[124] + 736.0*x[125] + 98.0*x[126] + 498.0*x[127] + 814.0*x[128] + 440.0*x[129] + 108.0*x[130] + 495.0*x[131] + 795.0*x[132] + 224.0*x[133] + 35.0*x[134] + 735.0*x[135] + 544.0*x[136] + 279.0*x[137] + 318.0*x[138] + 872.0*x[139] + 753.0*x[140] + 594.0*x[141] + 964.0*x[142] + 728.0*x[143] + 52.0*x[144] + 68.0*x[145] + 123.0*x[146] + 469.0*x[147] + 881.0*x[148] + 951.0*x[149] + 538.0*x[150] + 118.0*x[151] + 866.0*x[152] + 21.0*x[153] + 711.0*x[154] + 226.0*x[155] + 194.0*x[156] + 541.0*x[157] + 592.0*x[158] + 564.0*x[159] + 63.0*x[160] + 166.0*x[161] + 10.0*x[162] + 355.0*x[163] + 175.0*x[164] + 709.0*x[165] + 971.0*x[166] + 132.0*x[167] + 932.0*x[168] + 526.0*x[169] + 328.0*x[170] + 878.0*x[171] + 96.0*x[172] + 452.0*x[173] + 429.0*x[174] + 49.0*x[175] + 255.0*x[176] + 41.0*x[177] + 184.0*x[178] + 142.0*x[179] + 702.0*x[180] + 28.0*x[181] + 572.0*x[182] + 916.0*x[183] + 239.0*x[184] + 558.0*x[185] + 686.0*x[186] + 472.0*x[187] + 25.0*x[188] + 546.0*x[189] + 330.0*x[190] + 417.0*x[191] + 378.0*x[192] + 256.0*x[193] + 939.0*x[194] + 887.0*x[195] + 732.0*x[196] + 616.0*x[197] + 709.0*x[198] + 874.0*x[199] + 424.0*x[200] + 55.0*x[201] + 835.0*x[202] + 633.0*x[203] + 509.0*x[204] + 979.0*x[205] + 70.0*x[206] + 617.0*x[207] + 663.0*x[208] + 309.0*x[209] + 356.0*x[210] + 706.0*x[211] + 296.0*x[212] + 804.0*x[213] + 620.0*x[214] + 496.0*x[215] + 16.0*x[216] + 260.0*x[217] + 323.0*x[218] + 190.0*x[219] + 99.0*x[220] + 592.0*x[221] + 641.0*x[222] + 523.0*x[223] + 494.0*x[224] + 533.0*x[225] + 200.0*x[226] + 825.0*x[227] + 482.0*x[228] + 977.0*x[229] + 714.0*x[230] + 881.0*x[231] + 652.0*x[232] + 168.0*x[233] + 111.0*x[234] + 457.0*x[235] + 810.0*x[236] + 741.0*x[237] + 992.0*x[238] + 761.0*x[239] + 310.0*x[240] + 233.0*x[241] + 295.0*x[242] + 104.0*x[243] + 248.0*x[244] + 189.0*x[245] + 539.0*x[246] + 793.0*x[247] + 972.0*x[248] + 350.0*x[249] + 165.0*x[250] + 757.0*x[251] + 721.0*x[252] + 742.0*x[253] + 636.0*x[254] + 999.0*x[255] + 741.0*x[256] + 356.0*x[257] + 496.0*x[258] + 554.0*x[259] + 417.0*x[260] + 49.0*x[261] + 697.0*x[262] + 107.0*x[263] + 72.0*x[264] + 474.0*x[265] + 901.0*x[266] + 245.0*x[267] + 486.0*x[268] + 228.0*x[269] + 83.0*x[270] + 233.0*x[271] + 586.0*x[272] + 707.0*x[273] + 522.0*x[274] + 626.0*x[275] + 420.0*x[276] + 249.0*x[277] + 432.0*x[278] + 241.0*x[279] + 13.0*x[280] + 590.0*x[281] + 853.0*x[282] + 661.0*x[283] + 865.0*x[284] + 444.0*x[285] + 748.0*x[286] + 536.0*x[287] + 341.0*x[288] + 696.0*x[289] + 932.0*x[290] + 266.0*x[291] + 968.0*x[292] + 775.0*x[293] + 922.0*x[294] + 766.0*x[295] + 732.0*x[296] + 654.0*x[297] + 44.0*x[298] + 846.0*x[299] + 769.0*x[300] + 919.0*x[301] + 550.0*x[302] + 352.0*x[303] + 245.0*x[304] + 469.0*x[305] + 493.0*x[306] + 438.0*x[307] + 653.0*x[308] + 270.0*x[309] + 492.0*x[310] + 302.0*x[311] + 634.0*x[312] + 348.0*x[313] + 962.0*x[314] + 269.0*x[315] + 788.0*x[316] + 138.0*x[317] + 424.0*x[318] + 548.0*x[319] + 576.0*x[320] + 590.0*x[321] + 315.0*x[322] + 872.0*x[323] + 617.0*x[324] + 787.0*x[325] + 206.0*x[326] + 35.0*x[327] + 39.0*x[328] + 763.0*x[329] + 621.0*x[330] + 148.0*x[331] + 402.0*x[332] + 446.0*x[333] + 849.0*x[334] + 167.0*x[335] + 629.0*x[336] + 94.0*x[337] + 294.0*x[338] + 124.0*x[339] + 995.0*x[340] + 766.0*x[341] + 158.0*x[342] + 704.0*x[343] + 387.0*x[344] + 526.0*x[345] + 772.0*x[346] + 598.0*x[347] + 418.0*x[348] + 952.0*x[349] + 896.0*x[350] + 716.0*x[351] + 84.0*x[352] + 847.0*x[353] + 549.0*x[354] + 861.0*x[355] + 514.0*x[356] + 637.0*x[357] + 148.0*x[358] + 657.0*x[359] + 299.0*x[360] + 321.0*x[361] + 807.0*x[362] + 991.0*x[363] + 803.0*x[364] + 666.0*x[365] + 757.0*x[366] + 990.0*x[367] + 676.0*x[368] + 462.0*x[369] + 488.0*x[370] + 382.0*x[371] + 470.0*x[372] + 865.0*x[373] + 655.0*x[374] + 137.0*x[375] + 255.0*x[376] + 638.0*x[377] + 660.0*x[378] + 8.0*x[379] + 195.0*x[380] + 702.0*x[381] + 717.0*x[382] + 519.0*x[383] + 866.0*x[384] + 652.0*x[385] + 11.0*x[386] + 137.0*x[387] + 557.0*x[388] + 637.0*x[389] + 901.0*x[390] + 338.0*x[391] + 334.0*x[392] + 528.0*x[393] + 714.0*x[394] + 94.0*x[395] + 666.0*x[396] + 121.0*x[397] + 65.0*x[398] + 396.0*x[399] + 216.0*x[400] + 757.0*x[401] + 728.0*x[402] + 786.0*x[403] + 78.0*x[404] + 989.0*x[405] + 294.0*x[406] + 623.0*x[407] + 512.0*x[408] + 963.0*x[409] + 473.0*x[410] + 43.0*x[411] + 767.0*x[412] + 661.0*x[413] + 454.0*x[414] + 863.0*x[415] + 283.0*x[416] + 492.0*x[417] + 245.0*x[418] + 715.0*x[419] + 848.0*x[420] + 251.0*x[421] + 864.0*x[422] + 347.0*x[423] + 634.0*x[424] + 817.0*x[425] + 159.0*x[426] + 522.0*x[427] + 361.0*x[428] + 813.0*x[429] + 117.0*x[430] + 226.0*x[431] + 370.0*x[432] + 772.0*x[433] + 144.0*x[434] + 560.0*x[435] + 331.0*x[436] + 411.0*x[437] + 867.0*x[438] + 379.0*x[439] + 556.0*x[440] + 157.0*x[441] + 692.0*x[442] + 358.0*x[443] + 294.0*x[444] + 20.0*x[445] + 228.0*x[446] + 985.0*x[447] + 285.0*x[448] + 927.0*x[449] + 890.0*x[450] + 492.0*x[451] + 5.0*x[452] + 864.0*x[453] + 758.0*x[454] + 151.0*x[455] + 277.0*x[456] + 762.0*x[457] + 54.0*x[458] + 522.0*x[459] + 534.0*x[460] + 893.0*x[461] + 810.0*x[462] + 48.0*x[463] + 154.0*x[464] + 65.0*x[465] + 496.0*x[466] + 274.0*x[467] + 645.0*x[468] + 932.0*x[469] + 255.0*x[470] + 652.0*x[471] + 380.0*x[472] + 412.0*x[473] + 964.0*x[474] + 722.0*x[475] + 376.0*x[476] + 963.0*x[477] + 406.0*x[478] + 88.0*x[479] + 417.0*x[480] + 821.0*x[481] + 594.0*x[482] + 12.0*x[483] + 850.0*x[484] + 619.0*x[485] + 86.0*x[486] + 244.0*x[487] + 169.0*x[488] + 709.0*x[489] + 781.0*x[490] + 151.0*x[491] + 274.0*x[492] + 505.0*x[493] + 288.0*x[494] + 229.0*x[495] + 408.0*x[496] + 574.0*x[497] + 711.0*x[498] + 678.0*x[499] : 192737.0 :   True\n",
            "          5 :  -Inf :                 252.0*x[0] + 735.0*x[1] + 586.0*x[2] + 187.0*x[3] + 337.0*x[4] + 760.0*x[5] + 873.0*x[6] + 550.0*x[7] + 589.0*x[8] + 58.0*x[9] + 213.0*x[10] + 402.0*x[11] + 351.0*x[12] + 111.0*x[13] + 333.0*x[14] + 930.0*x[15] + 184.0*x[16] + 812.0*x[17] + 905.0*x[18] + 387.0*x[19] + 108.0*x[20] + 73.0*x[21] + 591.0*x[22] + 185.0*x[23] + 646.0*x[24] + 481.0*x[25] + 14.0*x[26] + 98.0*x[27] + 100.0*x[28] + 770.0*x[29] + 885.0*x[30] + 637.0*x[31] + 55.0*x[32] + 228.0*x[33] + 74.0*x[34] + 992.0*x[35] + 369.0*x[36] + 538.0*x[37] + 636.0*x[38] + 675.0*x[39] + 484.0*x[40] + 634.0*x[41] + 120.0*x[42] + 656.0*x[43] + 815.0*x[44] + 571.0*x[45] + 557.0*x[46] + 87.0*x[47] + 15.0*x[48] + 195.0*x[49] + 286.0*x[50] + 372.0*x[51] + 183.0*x[52] + 646.0*x[53] + 201.0*x[54] + 976.0*x[55] + 456.0*x[56] + 574.0*x[57] + 4.0*x[58] + 783.0*x[59] + 790.0*x[60] + 197.0*x[61] + 51.0*x[62] + 126.0*x[63] + 168.0*x[64] + 276.0*x[65] + 417.0*x[66] + 874.0*x[67] + 549.0*x[68] + 385.0*x[69] + 405.0*x[70] + 737.0*x[71] + 895.0*x[72] + 169.0*x[73] + 616.0*x[74] + 842.0*x[75] + 433.0*x[76] + 283.0*x[77] + 111.0*x[78] + 131.0*x[79] + 864.0*x[80] + 441.0*x[81] + 85.0*x[82] + 182.0*x[83] + 146.0*x[84] + 220.0*x[85] + 198.0*x[86] + 523.0*x[87] + 257.0*x[88] + 759.0*x[89] + 291.0*x[90] + 140.0*x[91] + 630.0*x[92] + 472.0*x[93] + 104.0*x[94] + 538.0*x[95] + 981.0*x[96] + 893.0*x[97] + 399.0*x[98] + 67.0*x[99] + 237.0*x[100] + 317.0*x[101] + 731.0*x[102] + 96.0*x[103] + 556.0*x[104] + 833.0*x[105] + 44.0*x[106] + 447.0*x[107] + 653.0*x[108] + 166.0*x[109] + 245.0*x[110] + 662.0*x[111] + 225.0*x[112] + 980.0*x[113] + 247.0*x[114] + 370.0*x[115] + 573.0*x[116] + 428.0*x[117] + 331.0*x[118] + 707.0*x[119] + 273.0*x[120] + 932.0*x[121] + 922.0*x[122] + 56.0*x[123] + 132.0*x[124] + 817.0*x[125] + 645.0*x[126] + 145.0*x[127] + 328.0*x[128] + 89.0*x[129] + 587.0*x[130] + 368.0*x[131] + 994.0*x[132] + 118.0*x[133] + 102.0*x[134] + 919.0*x[135] + 717.0*x[136] + 785.0*x[137] + 996.0*x[138] + 992.0*x[139] + 819.0*x[140] + 444.0*x[141] + 375.0*x[142] + 855.0*x[143] + 267.0*x[144] + 630.0*x[145] + 195.0*x[146] + 984.0*x[147] + 633.0*x[148] + 277.0*x[149] + 826.0*x[150] + 55.0*x[151] + 240.0*x[152] + 213.0*x[153] + 802.0*x[154] + 916.0*x[155] + 400.0*x[156] + 458.0*x[157] + 441.0*x[158] + 563.0*x[159] + 783.0*x[160] + 559.0*x[161] + 30.0*x[162] + 76.0*x[163] + 362.0*x[164] + 412.0*x[165] + 639.0*x[166] + 559.0*x[167] + 600.0*x[168] + 337.0*x[169] + 81.0*x[170] + 493.0*x[171] + 794.0*x[172] + 646.0*x[173] + 851.0*x[174] + 303.0*x[175] + 438.0*x[176] + 662.0*x[177] + 674.0*x[178] + 799.0*x[179] + 620.0*x[180] + 7.0*x[181] + 235.0*x[182] + 209.0*x[183] + 638.0*x[184] + 642.0*x[185] + 314.0*x[186] + 599.0*x[187] + 898.0*x[188] + 994.0*x[189] + 125.0*x[190] + 823.0*x[191] + 900.0*x[192] + 151.0*x[193] + 399.0*x[194] + 749.0*x[195] + 853.0*x[196] + 664.0*x[197] + 165.0*x[198] + 480.0*x[199] + 407.0*x[200] + 258.0*x[201] + 226.0*x[202] + 461.0*x[203] + 644.0*x[204] + 674.0*x[205] + 660.0*x[206] + 477.0*x[207] + 161.0*x[208] + 572.0*x[209] + 443.0*x[210] + 624.0*x[211] + 422.0*x[212] + 234.0*x[213] + 581.0*x[214] + 455.0*x[215] + 387.0*x[216] + 715.0*x[217] + 394.0*x[218] + 19.0*x[219] + 449.0*x[220] + 329.0*x[221] + 568.0*x[222] + 606.0*x[223] + 437.0*x[224] + 705.0*x[225] + 846.0*x[226] + 676.0*x[227] + 501.0*x[228] + 104.0*x[229] + 369.0*x[230] + 257.0*x[231] + 312.0*x[232] + 770.0*x[233] + 912.0*x[234] + 674.0*x[235] + 184.0*x[236] + 666.0*x[237] + 951.0*x[238] + 731.0*x[239] + 302.0*x[240] + 776.0*x[241] + 119.0*x[242] + 531.0*x[243] + 753.0*x[244] + 646.0*x[245] + 288.0*x[246] + 961.0*x[247] + 382.0*x[248] + 385.0*x[249] + 299.0*x[250] + 581.0*x[251] + 471.0*x[252] + 440.0*x[253] + 738.0*x[254] + 935.0*x[255] + 900.0*x[256] + 517.0*x[257] + 612.0*x[258] + 945.0*x[259] + 465.0*x[260] + 342.0*x[261] + 642.0*x[262] + 651.0*x[263] + 700.0*x[264] + 787.0*x[265] + 402.0*x[266] + 169.0*x[267] + 661.0*x[268] + 437.0*x[269] + 583.0*x[270] + 527.0*x[271] + 4.0*x[272] + 147.0*x[273] + 493.0*x[274] + 88.0*x[275] + 220.0*x[276] + 467.0*x[277] + 949.0*x[278] + 9.0*x[279] + 801.0*x[280] + 523.0*x[281] + 533.0*x[282] + 192.0*x[283] + 738.0*x[284] + 837.0*x[285] + 308.0*x[286] + 483.0*x[287] + 999.0*x[288] + 268.0*x[289] + 648.0*x[290] + 603.0*x[291] + 265.0*x[292] + 753.0*x[293] + 544.0*x[294] + 766.0*x[295] + 700.0*x[296] + 676.0*x[297] + 441.0*x[298] + 485.0*x[299] + 149.0*x[300] + 267.0*x[301] + 273.0*x[302] + 513.0*x[303] + 315.0*x[304] + 244.0*x[305] + 517.0*x[306] + 358.0*x[307] + 487.0*x[308] + 530.0*x[309] + 555.0*x[310] + 525.0*x[311] + 723.0*x[312] + 457.0*x[313] + 150.0*x[314] + 786.0*x[315] + 84.0*x[316] + 178.0*x[317] + 581.0*x[318] + 570.0*x[319] + 727.0*x[320] + 629.0*x[321] + 531.0*x[322] + 499.0*x[323] + 13.0*x[324] + 89.0*x[325] + 500.0*x[326] + 585.0*x[327] + 182.0*x[328] + 725.0*x[329] + 396.0*x[330] + 956.0*x[331] + 310.0*x[332] + 580.0*x[333] + 679.0*x[334] + 914.0*x[335] + 330.0*x[336] + 82.0*x[337] + 88.0*x[338] + 438.0*x[339] + 114.0*x[340] + 970.0*x[341] + 267.0*x[342] + 853.0*x[343] + 507.0*x[344] + 739.0*x[345] + 529.0*x[346] + 796.0*x[347] + 771.0*x[348] + 886.0*x[349] + 566.0*x[350] + 628.0*x[351] + 212.0*x[352] + 960.0*x[353] + 84.0*x[354] + 209.0*x[355] + 412.0*x[356] + 407.0*x[357] + 173.0*x[358] + 741.0*x[359] + 459.0*x[360] + 446.0*x[361] + 884.0*x[362] + 343.0*x[363] + 402.0*x[364] + 569.0*x[365] + 625.0*x[366] + 370.0*x[367] + 587.0*x[368] + 600.0*x[369] + 421.0*x[370] + 687.0*x[371] + 252.0*x[372] + 459.0*x[373] + 180.0*x[374] + 915.0*x[375] + 955.0*x[376] + 305.0*x[377] + 523.0*x[378] + 150.0*x[379] + 353.0*x[380] + 689.0*x[381] + 902.0*x[382] + 968.0*x[383] + 398.0*x[384] + 309.0*x[385] + 915.0*x[386] + 108.0*x[387] + 64.0*x[388] + 530.0*x[389] + 556.0*x[390] + 514.0*x[391] + 587.0*x[392] + 272.0*x[393] + 303.0*x[394] + 741.0*x[395] + 807.0*x[396] + 569.0*x[397] + 102.0*x[398] + 401.0*x[399] + 596.0*x[400] + 955.0*x[401] + 821.0*x[402] + 426.0*x[403] + 111.0*x[404] + 813.0*x[405] + 22.0*x[406] + 45.0*x[407] + 377.0*x[408] + 852.0*x[409] + 79.0*x[410] + 39.0*x[411] + 508.0*x[412] + 691.0*x[413] + 398.0*x[414] + 319.0*x[415] + 901.0*x[416] + 180.0*x[417] + 417.0*x[418] + 765.0*x[419] + 87.0*x[420] + 425.0*x[421] + 881.0*x[422] + 295.0*x[423] + 598.0*x[424] + 857.0*x[425] + 840.0*x[426] + 744.0*x[427] + 502.0*x[428] + 147.0*x[429] + 502.0*x[430] + 638.0*x[431] + 847.0*x[432] + 996.0*x[433] + 303.0*x[434] + 775.0*x[435] + 793.0*x[436] + 617.0*x[437] + 458.0*x[438] + 460.0*x[439] + 295.0*x[440] + 227.0*x[441] + 154.0*x[442] + 689.0*x[443] + 509.0*x[444] + 765.0*x[445] + 565.0*x[446] + 753.0*x[447] + 81.0*x[448] + 766.0*x[449] + 70.0*x[450] + 84.0*x[451] + 35.0*x[452] + 830.0*x[453] + 10.0*x[454] + 357.0*x[455] + 268.0*x[456] + 779.0*x[457] + 765.0*x[458] + 901.0*x[459] + 823.0*x[460] + 249.0*x[461] + 386.0*x[462] + 363.0*x[463] + 338.0*x[464] + 260.0*x[465] + 972.0*x[466] + 118.0*x[467] + 764.0*x[468] + 525.0*x[469] + 320.0*x[470] + 487.0*x[471] + 203.0*x[472] + 734.0*x[473] + 262.0*x[474] + 49.0*x[475] + 988.0*x[476] + 621.0*x[477] + 11.0*x[478] + 758.0*x[479] + 42.0*x[480] + 946.0*x[481] + 833.0*x[482] + 392.0*x[483] + 514.0*x[484] + 89.0*x[485] + 441.0*x[486] + 852.0*x[487] + 580.0*x[488] + 301.0*x[489] + 62.0*x[490] + 567.0*x[491] + 931.0*x[492] + 891.0*x[493] + 713.0*x[494] + 269.0*x[495] + 742.0*x[496] + 738.0*x[497] + 947.0*x[498] + 798.0*x[499] : 183645.0 :   True\n",
            "\n",
            "5 Declarations: x_index x constraints_index constraints objective\n"
          ]
        }
      ],
      "source": [
        "model_ex2.pprint()"
      ]
    },
    {
      "cell_type": "code",
      "execution_count": 103,
      "metadata": {
        "colab": {
          "base_uri": "https://localhost:8080/"
        },
        "id": "nA7hbsfO1BIp",
        "outputId": "02f46b5d-b583-432e-ca2d-af415d943573"
      },
      "outputs": [
        {
          "name": "stdout",
          "output_type": "stream",
          "text": [
            "Solver status: ok\n",
            "Solver termination condition: optimal\n"
          ]
        }
      ],
      "source": [
        "result2 = opt_cbc.solve(model_ex2)\n",
        "print('Solver status:', result2.solver.status)\n",
        "print('Solver termination condition:',result2.solver.termination_condition)"
      ]
    },
    {
      "cell_type": "markdown",
      "metadata": {
        "id": "917fGeGOoN35"
      },
      "source": [
        "$Reporting \\;the \\; optimal  \\;objective \\;function\\; value:$"
      ]
    },
    {
      "cell_type": "code",
      "execution_count": 104,
      "metadata": {
        "colab": {
          "base_uri": "https://localhost:8080/"
        },
        "id": "ze3fEDyf1HYv",
        "outputId": "7545cdec-6e53-418e-9109-a2ddb06bc7f4"
      },
      "outputs": [
        {
          "name": "stdout",
          "output_type": "stream",
          "text": [
            "The objective value for relaxed LP: 295896.37697236\n"
          ]
        }
      ],
      "source": [
        "print('The objective value for relaxed LP:',model_ex2.objective())"
      ]
    },
    {
      "cell_type": "markdown",
      "metadata": {
        "id": "qdcjH_2D2QZv"
      },
      "source": [
        "$$Q-6$$\n",
        "$Reporting\\; the\\; time \\;taken:$"
      ]
    },
    {
      "cell_type": "code",
      "execution_count": 105,
      "metadata": {
        "colab": {
          "base_uri": "https://localhost:8080/"
        },
        "id": "Iq-DSZZf1Z_P",
        "outputId": "9cb21b04-13e8-4e23-f435-511576707c01"
      },
      "outputs": [
        {
          "name": "stdout",
          "output_type": "stream",
          "text": [
            "Time taken to solve LP problem:  0.05172324180603027\n"
          ]
        }
      ],
      "source": [
        "print('Time taken to solve LP problem: ',result2.solver.time)"
      ]
    },
    {
      "cell_type": "markdown",
      "metadata": {
        "id": "gHfhwg5poa_L"
      },
      "source": [
        "$Comparing\\; with\\; the\\; results\\; obtained\\; by\\;\n",
        "solving \\;the\\; MILP$"
      ]
    },
    {
      "cell_type": "code",
      "execution_count": 106,
      "metadata": {
        "colab": {
          "base_uri": "https://localhost:8080/"
        },
        "id": "aZ81Dj1NEJoz",
        "outputId": "49e7fd62-64eb-49b0-cefe-fd5c08b65bd0"
      },
      "outputs": [
        {
          "name": "stdout",
          "output_type": "stream",
          "text": [
            "So the time taken by solver has reduced from 66.14599537849426 to  0.05172324180603027\n"
          ]
        }
      ],
      "source": [
        "print('So the time taken by solver has reduced from',result.solver.time ,'to ',result2.solver.time)"
      ]
    },
    {
      "cell_type": "markdown",
      "metadata": {
        "id": "HEWGlbnu2PG2"
      },
      "source": [
        "$$Q-7$$"
      ]
    },
    {
      "cell_type": "code",
      "execution_count": 107,
      "metadata": {
        "colab": {
          "base_uri": "https://localhost:8080/"
        },
        "id": "2peIpQJL2IMv",
        "outputId": "91087625-8b80-450f-85d8-d32e0775cf58"
      },
      "outputs": [
        {
          "name": "stdout",
          "output_type": "stream",
          "text": [
            "Statistics for MILP: \n",
            "\n",
            "Branch and bound: \n",
            "  Number of bounded subproblems: 347044\n",
            "  Number of created subproblems: 347044\n",
            "Black box: \n",
            "  Number of iterations: 1407089\n",
            "\n"
          ]
        }
      ],
      "source": [
        "print('Statistics for MILP: ')\n",
        "print(result.solver.statistics)"
      ]
    },
    {
      "cell_type": "code",
      "execution_count": 108,
      "metadata": {
        "colab": {
          "base_uri": "https://localhost:8080/"
        },
        "id": "LSYVjGv9p3db",
        "outputId": "28d3ab0f-04de-46b0-b24e-c0364038d83d"
      },
      "outputs": [
        {
          "name": "stdout",
          "output_type": "stream",
          "text": [
            "Statistics for Relaxed LP: \n",
            "\n",
            "Branch and bound: \n",
            "  Number of bounded subproblems: None\n",
            "  Number of created subproblems: None\n",
            "Black box: \n",
            "  Number of iterations: 18\n",
            "\n"
          ]
        }
      ],
      "source": [
        "print('Statistics for Relaxed LP: ')\n",
        "print(result2.solver.statistics)"
      ]
    }
  ],
  "metadata": {
    "colab": {
      "collapsed_sections": [],
      "name": "21i190007_IE507_Lab04_Ex2.ipynb",
      "provenance": []
    },
    "kernelspec": {
      "display_name": "Python 3",
      "name": "python3"
    },
    "language_info": {
      "name": "python"
    }
  },
  "nbformat": 4,
  "nbformat_minor": 0
}
