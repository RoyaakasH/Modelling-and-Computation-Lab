{
  "cells": [
    {
      "cell_type": "markdown",
      "metadata": {
        "id": "9-AmuUeBfiVf"
      },
      "source": [
        "$$Exercise: 1$$"
      ]
    },
    {
      "cell_type": "markdown",
      "metadata": {
        "id": "M1NPvJbbBIp9"
      },
      "source": [
        "$In\\; this\\; lab,\\; we \\;will\\; consider \\;non-linear \\;problems \\;which\\; can \\;be \\;converted\\; to\\; linear\\; programs.\\; One \\;famous\\; example\\; is\\; the \\;absolute \\;value \\;function \\;given\\; as: $ \\\\\n",
        "\\begin{align}\n",
        "|x| = \\begin{cases}\n",
        "        x  & \\text{ if } x\\geq 0 \\\\ \n",
        "        -x & \\text{ otherwise }.\n",
        "      \\end{cases}\n",
        "\\end{align}\n",
        "\n",
        "$We\\; will \\;now \\;consider \\;the \\;absolute\\; value\\; function \\;appearing \\;in \\;the\\; objective\\; function.\\; Consider \\;the\\; optimization \\;problem: $ \\\\\n",
        "$\\textbf{(OP)}$:\n",
        "\\begin{align}\n",
        "\\min \\ |x_1| + |x_2| + |x_3| + |x_4| + |x_5| &  \\nonumber \\\\\n",
        "{\\rm{s.t.}} \\ 85 x_1 + 92 x_2 + 45 x_3 + 27 x_4 + 31 x_5 & \\geq 1 \\nonumber \\\\\n",
        "92 x_1 + 54 x_2 + 22 x_3 + 20 x_4 + 7 x_5 & \\geq 1 \\nonumber \\\\\n",
        "96 x_1 + 67 x_2 + 29 x_3 + 20 x_4 + 11 x_5 & \\geq 1 \\nonumber \\\\\n",
        "-91 x_1 - 57 x_2 - 33 x_3 - 23 x_4 - 12 x_5 & \\geq 1 \\nonumber \\\\\n",
        "-99 x_1 - 75 x_2 - 26 x_3 - 24 x_4 - 41 x_5 & \\geq 1 \\nonumber \\\\\n",
        "-98 x_1 - 99 x_2 - 57 x_3 - 45 x_4 - 65 x_5 & \\geq 1 \\nonumber\n",
        "\\end{align}\n",
        "\n",
        "$In\\; this\\; optimization\\; problem \\\\\n",
        "\\textbf{(OP)}, we \\;wish \\;to \\;minimize\\; the \\;sum \\;of\\; absolute \\;values\\; of\\; the \\;decision \\;variables.\\; Such \\;problems\\; are \\;useful \\;when \\;the \\;decision\\; variables \\;might\\; take\\; both\\; positive\\; and\\; negative \\;values, \\;and \\;we \\;want\\; to \\;optimize \\;the \\;magnitudes\\; of \\;the\\; decision \\;variables. \\\\\n",
        "We \\;will\\; now \\;consider\\; two\\; possible\\; ways\\; to\\; solve\\; this \\;problem.$\n",
        "\n",
        "$\\textbf{Approach 1:}$ \n",
        "\n",
        "$We \\;can\\; use\\; a \\;substitution \\;of\\; the\\; absolute\\; function \\;values\\; of \\;the \\;variables \\;to \\;new \\;variables\\; as\\; u_i = |x_i|, \\; \\forall i \\in \\{1,\\ldots,5\\}. \\;With \\;this \\;substitution, \\;note\\; that\\; we\\; have\\; u_i\\geq 0, \\ \\forall i \\in \\{1,\\ldots,5\\}.\\; Also,\\; the\\; following\\; inequalities\\; are \\;satisfied:\\; x_i \\leq u_i, -x_i \\leq u_i, \\ \\forall i \\in \\{1,\\ldots,5\\}. \\;Thus\\; we \\;can\\; transform \\;the \\;problem \\; \\textbf{(OP)} \\; as\\; the \\;following \\;optimization\\; problem\\; \\textbf{(OP1)}, \\;where \\;the \\;absolute\\; values\\; of\\; x_i \\; are\\; replaced \\;with\\; u_i \\; and \\;constraints \\;related\\; to \\;the\\; new \\;variables \\; u_i \\;are\\; introduced.\\; Thus\\; we \\;have\\; the \\;problem \\; \\textbf{(OP1)}:$\n",
        "\n",
        "\\begin{align}\n",
        "\\min \\ u_1 + u_2 + u_3 + u_4 + u_5 &  \\nonumber \\\\\n",
        "{\\rm{s.t.}} \\ 85 x_1 + 92 x_2 + 45 x_3 + 27 x_4 + 31 x_5 & \\geq 1 \\nonumber \\\\\n",
        "92 x_1 + 54 x_2 + 22 x_3 + 20 x_4 + 7 x_5 & \\geq 1 \\nonumber \\\\\n",
        "96 x_1 + 67 x_2 + 29 x_3 + 20 x_4 + 11 x_5 & \\geq 1 \\nonumber \\\\\n",
        "-91 x_1 - 57 x_2 - 33 x_3 - 23 x_4 - 12 x_5 & \\geq 1 \\nonumber \\\\\n",
        "-99 x_1 - 75 x_2 - 26 x_3 - 24 x_4 - 41 x_5 & \\geq 1 \\nonumber \\\\\n",
        "-98 x_1 - 99 x_2 - 57 x_3 - 45 x_4 - 65 x_5 & \\geq 1 \\nonumber \\\\\n",
        "u_i \\geq x_i, & \\  \\forall i \\in \\{1,\\ldots,5\\} \\nonumber \\\\ \n",
        "u_i \\geq -x_i, & \\  \\forall i \\in \\{1,\\ldots,5\\} \\nonumber \\\\ \n",
        "u_i \\geq 0, & \\ \\forall i \\in \\{1,\\ldots,5\\}. \n",
        "\\end{align}\n",
        "\n",
        "$Note\\; that \\;the\\; number\\; of \\;decision \\;variables\\; in \\; \\textbf{(OP1)} is\\; twice\\; the\\; number\\; of \\;decision\\; variables\\; in \\; \\textbf{(OP)}. \\;However\\; the\\; objective\\; function\\; and\\; the \\;constraints\\; in\\;  \\textbf{(OP1)} \\;are\\; now\\; linear, \\;and\\; thus\\;  \\textbf{(OP1)} \\;is\\; a\\; linear\\; program. $\n"
      ]
    },
    {
      "cell_type": "code",
      "execution_count": 83,
      "metadata": {
        "id": "hqLsyHhdBX5x"
      },
      "outputs": [],
      "source": [
        "! pip install -q pyomo"
      ]
    },
    {
      "cell_type": "code",
      "execution_count": 84,
      "metadata": {
        "id": "48KDcrHCBapJ"
      },
      "outputs": [],
      "source": [
        "from pyomo.environ import * "
      ]
    },
    {
      "cell_type": "code",
      "execution_count": 85,
      "metadata": {
        "id": "qQxagfnHCVD_"
      },
      "outputs": [],
      "source": [
        "import numpy as np"
      ]
    },
    {
      "cell_type": "code",
      "execution_count": 86,
      "metadata": {
        "id": "iD9XZUGnBhfh"
      },
      "outputs": [],
      "source": [
        "coef = np.loadtxt('file31.txt', delimiter=',')"
      ]
    },
    {
      "cell_type": "code",
      "execution_count": 87,
      "metadata": {
        "id": "6K8L_e91C6C_"
      },
      "outputs": [],
      "source": [
        "model_lab6_ex1 = ConcreteModel()"
      ]
    },
    {
      "cell_type": "code",
      "execution_count": 88,
      "metadata": {
        "id": "6jAO2PeyEL27"
      },
      "outputs": [],
      "source": [
        "N = coef.shape[1]-1\n",
        "M = coef.shape[0]-1\n",
        "obj_coef = coef[0,:-1]\n",
        "constr_coef = coef[1:,:-1]\n",
        "constr_rhs = coef[1:,-1]"
      ]
    },
    {
      "cell_type": "code",
      "execution_count": 89,
      "metadata": {
        "id": "_foS-ZYmGkPH"
      },
      "outputs": [],
      "source": [
        "col_indices_x = np.arange(int(N/2))\n",
        "model_lab6_ex1.x = Var(col_indices_x)"
      ]
    },
    {
      "cell_type": "code",
      "execution_count": 90,
      "metadata": {
        "id": "4Ju3athUGnuh"
      },
      "outputs": [],
      "source": [
        "col_indices_u = np.arange(int(N/2))\n",
        "model_lab6_ex1.u = Var(col_indices_u, domain=NonNegativeReals)"
      ]
    },
    {
      "cell_type": "code",
      "execution_count": 91,
      "metadata": {
        "id": "ZGZ6d6OzGrFv"
      },
      "outputs": [],
      "source": [
        "row_indices = np.arange(M)"
      ]
    },
    {
      "cell_type": "code",
      "execution_count": 92,
      "metadata": {
        "id": "G1D5YEhrGtoX"
      },
      "outputs": [],
      "source": [
        "model_lab6_ex1.constraints = ConstraintList()"
      ]
    },
    {
      "cell_type": "code",
      "execution_count": 93,
      "metadata": {
        "id": "ehBAMXo6Gw7I"
      },
      "outputs": [],
      "source": [
        "model_lab6_ex1.objective = Objective(expr = summation(obj_coef[0:int(N/2)],model_lab6_ex1.x) + summation(obj_coef[int(N/2):N],model_lab6_ex1.u), sense=minimize)"
      ]
    },
    {
      "cell_type": "code",
      "execution_count": 94,
      "metadata": {
        "id": "mOiZ9p7fS4g8"
      },
      "outputs": [],
      "source": [
        "for i in row_indices:\n",
        "  model_lab6_ex1.constraints.add(summation(constr_coef[i][0:int(N/2)],model_lab6_ex1.x) + summation(constr_coef[i][int(N/2):N],model_lab6_ex1.u)  >= constr_rhs[i])"
      ]
    },
    {
      "cell_type": "code",
      "execution_count": 95,
      "metadata": {
        "colab": {
          "base_uri": "https://localhost:8080/"
        },
        "id": "FNlJGuILGzha",
        "outputId": "d7684243-da63-4b91-c117-5071c2777d04"
      },
      "outputs": [
        {
          "name": "stdout",
          "output_type": "stream",
          "text": [
            "3 Set Declarations\n",
            "    constraints_index : Size=1, Index=None, Ordered=Insertion\n",
            "        Key  : Dimen : Domain : Size : Members\n",
            "        None :     1 :    Any :   16 : {1, 2, 3, 4, 5, 6, 7, 8, 9, 10, 11, 12, 13, 14, 15, 16}\n",
            "    u_index : Size=1, Index=None, Ordered=False\n",
            "        Key  : Dimen : Domain : Size : Members\n",
            "        None :     1 :    Any :    5 : {0, 1, 2, 3, 4}\n",
            "    x_index : Size=1, Index=None, Ordered=False\n",
            "        Key  : Dimen : Domain : Size : Members\n",
            "        None :     1 :    Any :    5 : {0, 1, 2, 3, 4}\n",
            "\n",
            "2 Var Declarations\n",
            "    u : Size=5, Index=u_index\n",
            "        Key : Lower : Value : Upper : Fixed : Stale : Domain\n",
            "          0 :     0 :  None :  None : False :  True : NonNegativeReals\n",
            "          1 :     0 :  None :  None : False :  True : NonNegativeReals\n",
            "          2 :     0 :  None :  None : False :  True : NonNegativeReals\n",
            "          3 :     0 :  None :  None : False :  True : NonNegativeReals\n",
            "          4 :     0 :  None :  None : False :  True : NonNegativeReals\n",
            "    x : Size=5, Index=x_index\n",
            "        Key : Lower : Value : Upper : Fixed : Stale : Domain\n",
            "          0 :  None :  None :  None : False :  True :  Reals\n",
            "          1 :  None :  None :  None : False :  True :  Reals\n",
            "          2 :  None :  None :  None : False :  True :  Reals\n",
            "          3 :  None :  None :  None : False :  True :  Reals\n",
            "          4 :  None :  None :  None : False :  True :  Reals\n",
            "\n",
            "1 Objective Declarations\n",
            "    objective : Size=1, Index=None, Active=True\n",
            "        Key  : Active : Sense    : Expression\n",
            "        None :   True : minimize :  + (u[0] + u[1] + u[2] + u[3] + u[4])\n",
            "\n",
            "1 Constraint Declarations\n",
            "    constraints : Size=16, Index=constraints_index, Active=True\n",
            "        Key : Lower : Body                                                             : Upper : Active\n",
            "          1 :   1.0 :   85.0*x[0] + 92.0*x[1] + 45.0*x[2] + 27.0*x[3] + 31.0*x[4] + () :  +Inf :   True\n",
            "          2 :   1.0 :    92.0*x[0] + 54.0*x[1] + 22.0*x[2] + 20.0*x[3] + 7.0*x[4] + () :  +Inf :   True\n",
            "          3 :   1.0 :   96.0*x[0] + 67.0*x[1] + 29.0*x[2] + 20.0*x[3] + 11.0*x[4] + () :  +Inf :   True\n",
            "          4 :   1.0 : - 91.0*x[0] - 57.0*x[1] - 33.0*x[2] - 23.0*x[3] - 12.0*x[4] + () :  +Inf :   True\n",
            "          5 :   1.0 : - 99.0*x[0] - 75.0*x[1] - 26.0*x[2] - 24.0*x[3] - 41.0*x[4] + () :  +Inf :   True\n",
            "          6 :   1.0 : - 98.0*x[0] - 99.0*x[1] - 57.0*x[2] - 45.0*x[3] - 65.0*x[4] + () :  +Inf :   True\n",
            "          7 :   0.0 :                                                  - x[0] + (u[0]) :  +Inf :   True\n",
            "          8 :   0.0 :                                                  - x[1] + (u[1]) :  +Inf :   True\n",
            "          9 :   0.0 :                                                  - x[2] + (u[2]) :  +Inf :   True\n",
            "         10 :   0.0 :                                                  - x[3] + (u[3]) :  +Inf :   True\n",
            "         11 :   0.0 :                                                  - x[4] + (u[4]) :  +Inf :   True\n",
            "         12 :   0.0 :                                                    x[0] + (u[0]) :  +Inf :   True\n",
            "         13 :   0.0 :                                                    x[1] + (u[1]) :  +Inf :   True\n",
            "         14 :   0.0 :                                                    x[2] + (u[2]) :  +Inf :   True\n",
            "         15 :   0.0 :                                                    x[3] + (u[3]) :  +Inf :   True\n",
            "         16 :   0.0 :                                                    x[4] + (u[4]) :  +Inf :   True\n",
            "\n",
            "7 Declarations: x_index x u_index u constraints_index constraints objective\n"
          ]
        }
      ],
      "source": [
        "model_lab6_ex1.pprint()"
      ]
    },
    {
      "cell_type": "code",
      "execution_count": 96,
      "metadata": {
        "id": "crkl32vDG5PU"
      },
      "outputs": [],
      "source": [
        "!apt-get install -y -qq coinor-cbc"
      ]
    },
    {
      "cell_type": "markdown",
      "metadata": {
        "id": "qRKBaDz6gY_U"
      },
      "source": [
        "$Q:1\\; Using \\;cbc \\;solver \\;to \\;solve \\;optimization \\;problem$"
      ]
    },
    {
      "cell_type": "code",
      "execution_count": 97,
      "metadata": {
        "id": "-9Da35ncHT_1"
      },
      "outputs": [],
      "source": [
        "opt_cbc = SolverFactory('cbc')\n",
        "result = opt_cbc.solve(model_lab6_ex1)"
      ]
    },
    {
      "cell_type": "markdown",
      "metadata": {
        "id": "iQf2U7a1jBnl"
      },
      "source": [
        "$Q:2\\;Reporting \\;the\\; solver \\;status\\; and \\;solver\\; termination \\;condition$"
      ]
    },
    {
      "cell_type": "code",
      "execution_count": 98,
      "metadata": {
        "colab": {
          "base_uri": "https://localhost:8080/"
        },
        "id": "We8fztXGi-5L",
        "outputId": "c64d37d0-d015-486b-98e7-3f0a2209b3ab"
      },
      "outputs": [
        {
          "name": "stdout",
          "output_type": "stream",
          "text": [
            "Solver status: ok\n",
            "Solver termination condition: optimal\n"
          ]
        }
      ],
      "source": [
        "print('Solver status:', result.solver.status)\n",
        "print('Solver termination condition:',result.solver.termination_condition)"
      ]
    },
    {
      "cell_type": "markdown",
      "metadata": {
        "id": "dEZ4dV_4FzcH"
      },
      "source": [
        "$Yes, \\; the\\; solver\\; yield\\; an\\; optimal\\;solution $"
      ]
    },
    {
      "cell_type": "markdown",
      "metadata": {
        "id": "86SpSYFHjWU3"
      },
      "source": [
        "$Q:3\\;Reporting\\; the \\;optimal \\;objective \\;function \\;value,\\;\n",
        "values\\; of \\;the \\;decision\\; variables \\;x_i \\;and \\;the\\; new \\;variables\\; u_i\\; and \\;the \\;constraint\\; activities \\;at\\;the\\; optimal\\; solution.$"
      ]
    },
    {
      "cell_type": "code",
      "execution_count": 99,
      "metadata": {
        "colab": {
          "base_uri": "https://localhost:8080/"
        },
        "id": "deqYcBYyJCYF",
        "outputId": "b211c34b-d58e-4752-df16-3746580e3566"
      },
      "outputs": [
        {
          "name": "stdout",
          "output_type": "stream",
          "text": [
            "\n",
            "Objective =  0.547955725\n",
            "\n",
            "Decision Variables\n",
            "x[ 1 ]: -0.046448575\n",
            "x[ 2 ]: 0.18612441\n",
            "x[ 3 ]: -0.17131802\n",
            "x[ 4 ]: 0.0\n",
            "x[ 5 ]: -0.14406472\n",
            "u[ 1 ]: 0.046448575\n",
            "u[ 2 ]: 0.18612441\n",
            "u[ 3 ]: 0.17131802\n",
            "u[ 4 ]: 0.0\n",
            "u[ 5 ]: 0.14406472\n",
            "\n",
            "Constraints\n",
            "constraints : Size=16\n",
            "    Key : Lower : Body               : Upper\n",
            "      1 :   1.0 : 0.9999996250000001 :  None\n",
            "      2 :   1.0 : 0.9999997599999997 :  None\n",
            "      3 :   1.0 :  1.458337769999999 :  None\n",
            "      4 :   1.0 : 1.0000002550000002 :  None\n",
            "      5 :   1.0 :  1.000000215000001 :  None\n",
            "      6 :   1.0 : 5.2549776999999995 :  None\n",
            "      7 :   0.0 :         0.09289715 :  None\n",
            "      8 :   0.0 :                0.0 :  None\n",
            "      9 :   0.0 :         0.34263604 :  None\n",
            "     10 :   0.0 :                0.0 :  None\n",
            "     11 :   0.0 :         0.28812944 :  None\n",
            "     12 :   0.0 :                0.0 :  None\n",
            "     13 :   0.0 :         0.37224882 :  None\n",
            "     14 :   0.0 :                0.0 :  None\n",
            "     15 :   0.0 :                0.0 :  None\n",
            "     16 :   0.0 :                0.0 :  None\n"
          ]
        }
      ],
      "source": [
        "print('\\nObjective = ', model_lab6_ex1.objective())\n",
        "\n",
        "print('\\nDecision Variables')\n",
        "for j in col_indices_x:\n",
        "    print('x[',j+1,']:', model_lab6_ex1.x[j].value)\n",
        "\n",
        "for j in col_indices_u:\n",
        "    print('u[',j+1,']:', model_lab6_ex1.u[j].value)\n",
        "\n",
        "print('\\nConstraints')\n",
        "model_lab6_ex1.constraints.display()"
      ]
    },
    {
      "cell_type": "markdown",
      "metadata": {
        "id": "3GY_bmkAYs5t"
      },
      "source": [
        "$Observations:\\; Here \\;constraint \\;1 , \\;constraint \\;2 , \\;constraint\\; 4 , \\;constraint \\;5 ,\\; constraint\\; 8 , \\;constraint \\;10 ,\\; constraint \\;12 , \\;constraint \\;14 , \\;constraint \\;15 ,\\;constraint \\;16 \\;are\\; active\\; and\\; rest \\;of\\; the \\;constraints \\;are\\; inactive.$"
      ]
    },
    {
      "cell_type": "markdown",
      "metadata": {
        "id": "SA27GRBRJYyQ"
      },
      "source": [
        "Recall our optimization problem $\\textbf{(OP)}$:\n",
        "\\begin{align}\n",
        "\\min \\ |x_1| + |x_2| + |x_3| + |x_4| + |x_5| &  \\nonumber \\\\\n",
        "{\\rm{s.t.}} \\ 85 x_1 + 92 x_2 + 45 x_3 + 27 x_4 + 31 x_5 & \\geq 1 \\nonumber \\\\\n",
        "92 x_1 + 54 x_2 + 22 x_3 + 20 x_4 + 7 x_5 & \\geq 1 \\nonumber \\\\\n",
        "96 x_1 + 67 x_2 + 29 x_3 + 20 x_4 + 11 x_5 & \\geq 1 \\nonumber \\\\\n",
        "-91 x_1 - 57 x_2 - 33 x_3 - 23 x_4 - 12 x_5 & \\geq 1 \\nonumber \\\\\n",
        "-99 x_1 - 75 x_2 - 26 x_3 - 24 x_4 - 41 x_5 & \\geq 1 \\nonumber \\\\\n",
        "-98 x_1 - 99 x_2 - 57 x_3 - 45 x_4 - 65 x_5 & \\geq 1 \\nonumber\n",
        "\\end{align}\n",
        "\n",
        "Now we will consider a different approach to make the problem $\\textbf{(OP)}$ linear. \n",
        "\n",
        "$\\textbf{Approach 2:}$\n",
        "\n",
        "In this approach we will use some fundamental properties of real numbers. Indeed, for any real number $x$, we can write $x=a-b$ where $a\\geq 0, b\\geq 0$. \n",
        "\n",
        "Hence we can substitute $|x| = |a-b|, \\ a\\geq 0, b\\geq 0$. \n",
        "\n",
        "Now we will consider another interesting property of real numbers: \n",
        "$|u-v| = u+v \\iff u\\geq 0, v\\geq 0, uv = 0$. \n",
        "\n",
        "Using this property we can write $|x| = a+b, \\ a\\geq 0, \\ b\\geq 0$. Note that this replacement will imply that $ab=0$. \n",
        "\n",
        "Thus we can transform the optimization problem $\\textbf{(OP)}$ into a new optimization problem $\\textbf{(OP2)}$ where $x_i = a_i - b_i, \\text{ and } |x_i| = a_i + b_i, \\ \\forall i \\in \\{1,\\dots,5\\}$ where $a_i \\geq 0, b_i \\geq 0, \\forall i \\in \\{1,\\dots,5\\}$. Thus we have the new optimization problem $\\textbf{(OP2)}$: \n",
        "\n",
        "\\begin{align}\n",
        "\\min \\ (a_1 + b_1) +  (a_2 + b_2) + (a_3 + b_3) + (a_4 + b_4) + (a_5 + b_5) &  \\nonumber \\\\\n",
        "{\\rm{s.t.}} \\ 85 (a_1-b_1) + 92 (a_2-b_2) + 45 (a_3-b_3) + 27 (a_4-b_4) + 31 (a_5-b_5) & \\geq 1 \\nonumber \\\\\n",
        "92 (a_1-b_1) + 54 (a_2-b_2) + 22 (a_3-b_3) + 20 (a_4-b_4) + 7 (a_5-b_5) & \\geq 1 \\nonumber \\\\\n",
        "96 (a_1-b_1) + 67 (a_2-b_2) + 29 (a_3-b_3) + 20 (a_4-b_4) + 11 (a_5-b_5) & \\geq 1 \\nonumber \\\\\n",
        "-91 (a_1-b_1) - 57 (a_2-b_2) - 33 (a_3-b_3) - 23 (a_4-b_4) - 12 (a_5-b_5) & \\geq 1 \\nonumber \\\\\n",
        "-99 (a_1-b_1) - 75 (a_2-b_2) - 26 (a_3-b_3) - 24 (a_4-b_4) - 41 (a_5-b_5) & \\geq 1 \\nonumber \\\\\n",
        "-98 (a_1-b_1) - 99 (a_2-b_2) - 57 (a_3-b_3) - 45 (a_4-b_4) - 65 (a_5-b_5) & \\geq 1 \\nonumber \\\\ \n",
        "a_i \\geq 0, \\ b_i \\geq 0, & \\ \\forall i \\in \\{1,\\ldots,5\\}. \\nonumber \n",
        "\\end{align}"
      ]
    },
    {
      "cell_type": "markdown",
      "metadata": {
        "id": "jcJdgXVh93wC"
      },
      "source": [
        "$Q: 4 - Done$"
      ]
    },
    {
      "cell_type": "markdown",
      "metadata": {
        "id": "51y0_Kwn9uFx"
      },
      "source": [
        "$Q: 5 - Done$"
      ]
    },
    {
      "cell_type": "markdown",
      "metadata": {
        "id": "5vGy3wfx9qV1"
      },
      "source": [
        "$Q: 6 - Using\\; numpy\\;  to\\;  load \\; the \\; .txt\\;  file\\; contents$"
      ]
    },
    {
      "cell_type": "code",
      "execution_count": 100,
      "metadata": {
        "id": "DxVZu2t1O53U"
      },
      "outputs": [],
      "source": [
        "coef1 = np.loadtxt('file310P2.txt',delimiter=',')"
      ]
    },
    {
      "cell_type": "markdown",
      "metadata": {
        "id": "gIaNY0geAxob"
      },
      "source": [
        "$Q:7 - Writing\\; a \\;pyomo\\; model\\; to\\; solve \\;problem$"
      ]
    },
    {
      "cell_type": "code",
      "execution_count": 101,
      "metadata": {
        "id": "y477TtI0Pbkh"
      },
      "outputs": [],
      "source": [
        "N = coef1.shape[1]-1\n",
        "M=coef1.shape[0]-1\n",
        "obj_coef1 = coef1[0,:-1]\n",
        "constr_coef1 = coef1[1:,:-1]\n",
        "rhs_coef1 = coef1[1:,-1]\n",
        "model_lab6_ex1_op2 = ConcreteModel()\n",
        "col_indices_a = np.arange(int(N/2))\n",
        "model_lab6_ex1_op2.a = Var(col_indices_a,domain=NonNegativeReals)\n",
        "col_indices_b = np.arange(int(N/2))\n",
        "model_lab6_ex1_op2.b = Var(col_indices_b,domain=NonNegativeReals)\n",
        "row_indices = np.arange(M)\n",
        "model_lab6_ex1_op2.constraints = ConstraintList()\n",
        "model_lab6_ex1_op2.objective = Objective(expr = summation(obj_coef1[0:int(N/2)],model_lab6_ex1_op2.a) + summation(obj_coef1[int(N/2):N],model_lab6_ex1_op2.b), sense=minimize)\n",
        "for i in row_indices:\n",
        "  model_lab6_ex1_op2.constraints.add(summation(constr_coef1[i][0:int(N/2)],model_lab6_ex1_op2.a) + summation(constr_coef1[i][int(N/2):N],model_lab6_ex1_op2.b)  >= rhs_coef1[i])"
      ]
    },
    {
      "cell_type": "code",
      "execution_count": 102,
      "metadata": {
        "colab": {
          "base_uri": "https://localhost:8080/"
        },
        "id": "c9JDh7wdS1Tb",
        "outputId": "c59cfc7a-babf-4e7d-b0cc-d52edeb76c81"
      },
      "outputs": [
        {
          "name": "stdout",
          "output_type": "stream",
          "text": [
            "3 Set Declarations\n",
            "    a_index : Size=1, Index=None, Ordered=False\n",
            "        Key  : Dimen : Domain : Size : Members\n",
            "        None :     1 :    Any :    5 : {0, 1, 2, 3, 4}\n",
            "    b_index : Size=1, Index=None, Ordered=False\n",
            "        Key  : Dimen : Domain : Size : Members\n",
            "        None :     1 :    Any :    5 : {0, 1, 2, 3, 4}\n",
            "    constraints_index : Size=1, Index=None, Ordered=Insertion\n",
            "        Key  : Dimen : Domain : Size : Members\n",
            "        None :     1 :    Any :    6 : {1, 2, 3, 4, 5, 6}\n",
            "\n",
            "2 Var Declarations\n",
            "    a : Size=5, Index=a_index\n",
            "        Key : Lower : Value : Upper : Fixed : Stale : Domain\n",
            "          0 :     0 :  None :  None : False :  True : NonNegativeReals\n",
            "          1 :     0 :  None :  None : False :  True : NonNegativeReals\n",
            "          2 :     0 :  None :  None : False :  True : NonNegativeReals\n",
            "          3 :     0 :  None :  None : False :  True : NonNegativeReals\n",
            "          4 :     0 :  None :  None : False :  True : NonNegativeReals\n",
            "    b : Size=5, Index=b_index\n",
            "        Key : Lower : Value : Upper : Fixed : Stale : Domain\n",
            "          0 :     0 :  None :  None : False :  True : NonNegativeReals\n",
            "          1 :     0 :  None :  None : False :  True : NonNegativeReals\n",
            "          2 :     0 :  None :  None : False :  True : NonNegativeReals\n",
            "          3 :     0 :  None :  None : False :  True : NonNegativeReals\n",
            "          4 :     0 :  None :  None : False :  True : NonNegativeReals\n",
            "\n",
            "1 Objective Declarations\n",
            "    objective : Size=1, Index=None, Active=True\n",
            "        Key  : Active : Sense    : Expression\n",
            "        None :   True : minimize : a[0] + a[1] + a[2] + a[3] + a[4] + (b[0] + b[1] + b[2] + b[3] + b[4])\n",
            "\n",
            "1 Constraint Declarations\n",
            "    constraints : Size=6, Index=constraints_index, Active=True\n",
            "        Key : Lower : Body                                                                                                                      : Upper : Active\n",
            "          1 :   1.0 :     85.0*a[0] + 92.0*a[1] + 45.0*a[2] + 27.0*a[3] + 31.0*a[4] - 85.0*b[0] - 92.0*b[1] - 45.0*b[2] - 27.0*b[3] - 31.0*b[4] :  +Inf :   True\n",
            "          2 :   1.0 :       92.0*a[0] + 54.0*a[1] + 22.0*a[2] + 20.0*a[3] + 7.0*a[4] - 92.0*b[0] - 54.0*b[1] - 22.0*b[2] - 20.0*b[3] - 7.0*b[4] :  +Inf :   True\n",
            "          3 :   1.0 :     96.0*a[0] + 67.0*a[1] + 29.0*a[2] + 20.0*a[3] + 11.0*a[4] - 96.0*b[0] - 67.0*b[1] - 29.0*b[2] - 20.0*b[3] - 11.0*b[4] :  +Inf :   True\n",
            "          4 :   1.0 : - 91.0*a[0] - 57.0*a[1] - 33.0*a[2] - 23.0*a[3] - 12.0*a[4] + (91.0*b[0] + 57.0*b[1] + 33.0*b[2] + 23.0*b[3] + 12.0*b[4]) :  +Inf :   True\n",
            "          5 :   1.0 : - 99.0*a[0] - 75.0*a[1] - 26.0*a[2] - 24.0*a[3] - 41.0*a[4] + (99.0*b[0] + 75.0*b[1] + 26.0*b[2] + 24.0*b[3] + 41.0*b[4]) :  +Inf :   True\n",
            "          6 :   1.0 : - 98.0*a[0] - 99.0*a[1] - 57.0*a[2] - 45.0*a[3] - 65.0*a[4] + (98.0*b[0] + 99.0*b[1] + 57.0*b[2] + 45.0*b[3] + 65.0*b[4]) :  +Inf :   True\n",
            "\n",
            "7 Declarations: a_index a b_index b constraints_index constraints objective\n"
          ]
        }
      ],
      "source": [
        "model_lab6_ex1_op2.pprint()"
      ]
    },
    {
      "cell_type": "markdown",
      "metadata": {
        "id": "SDc0r1DwFMeE"
      },
      "source": [
        "$Q:8 - Using \\;cbc\\; solver\\; to\\; solve\\; the\\; model \\;for\\; optimization \\;problem$"
      ]
    },
    {
      "cell_type": "code",
      "execution_count": 103,
      "metadata": {
        "id": "9dwSIxesTGpc"
      },
      "outputs": [],
      "source": [
        "result = opt_cbc.solve(model_lab6_ex1_op2)"
      ]
    },
    {
      "cell_type": "markdown",
      "metadata": {
        "id": "tPu6Z62-FYKx"
      },
      "source": [
        "$Q: 9 - Reporting\\; the \\;solver \\;status\\; and \\;solver \\;termination \\;condition.$"
      ]
    },
    {
      "cell_type": "code",
      "execution_count": 104,
      "metadata": {
        "colab": {
          "base_uri": "https://localhost:8080/"
        },
        "id": "1BAP2RfCFIqc",
        "outputId": "f093555b-11c1-428a-adca-2baecf919770"
      },
      "outputs": [
        {
          "name": "stdout",
          "output_type": "stream",
          "text": [
            "Solver status: ok\n",
            "Solver termination condition: optimal\n"
          ]
        }
      ],
      "source": [
        "print('Solver status:', result.solver.status)\n",
        "print('Solver termination condition:',result.solver.termination_condition)"
      ]
    },
    {
      "cell_type": "markdown",
      "metadata": {
        "id": "hQAQ2yalFmCj"
      },
      "source": [
        "$Yes, \\; the\\; solver\\; yield\\; an\\; optimal\\;solution $"
      ]
    },
    {
      "cell_type": "markdown",
      "metadata": {
        "id": "tec0pVx-cJze"
      },
      "source": [
        "$Q:10 -  Reporting \\;the \\;optimal \\;objective \\;function \\;value,\\; values\\;\n",
        "of\\; the\\; decision\\; variables \\;ai \\;and \\;bi, \\; and \\;the \\;constraint \\;activities\\; at\\; the \\;optimal \\;solution.$\n"
      ]
    },
    {
      "cell_type": "code",
      "execution_count": 105,
      "metadata": {
        "colab": {
          "base_uri": "https://localhost:8080/"
        },
        "id": "d2-mUSCOTLiK",
        "outputId": "dbc67e8b-f5d5-4fe7-d3ac-68ee12f4a8aa"
      },
      "outputs": [
        {
          "name": "stdout",
          "output_type": "stream",
          "text": [
            "\n",
            "Objective =  0.547955725\n",
            "\n",
            "Decision Variables\n",
            "a[ 1 ]: 0.0\n",
            "a[ 2 ]: 0.18612441\n",
            "a[ 3 ]: 0.0\n",
            "a[ 4 ]: 0.0\n",
            "a[ 5 ]: 0.0\n",
            "b[ 1 ]: 0.046448575\n",
            "b[ 2 ]: 0.0\n",
            "b[ 3 ]: 0.17131802\n",
            "b[ 4 ]: 0.0\n",
            "b[ 5 ]: 0.14406472\n",
            "\n",
            "Constraints\n",
            "constraints : Size=6\n",
            "    Key : Lower : Body               : Upper\n",
            "      1 :   1.0 :  0.999999625000001 :  None\n",
            "      2 :   1.0 : 0.9999997599999997 :  None\n",
            "      3 :   1.0 :         1.45833777 :  None\n",
            "      4 :   1.0 : 1.0000002549999998 :  None\n",
            "      5 :   1.0 :        1.000000215 :  None\n",
            "      6 :   1.0 :  5.254977699999998 :  None\n"
          ]
        }
      ],
      "source": [
        "print('\\nObjective = ', model_lab6_ex1_op2.objective())\n",
        "\n",
        "print('\\nDecision Variables')\n",
        "for j in col_indices_a:\n",
        "    print('a[',j+1,']:', model_lab6_ex1_op2.a[j].value)\n",
        "\n",
        "for j in col_indices_b:\n",
        "    print('b[',j+1,']:', model_lab6_ex1_op2.b[j].value)\n",
        "\n",
        "print('\\nConstraints')\n",
        "model_lab6_ex1_op2.constraints.display()"
      ]
    },
    {
      "cell_type": "markdown",
      "metadata": {
        "id": "NcwjLtzvdXcg"
      },
      "source": [
        "$Here \\;constraint\\; 1 , \\;constraint\\; 2 ,\\; constraint \\;4 ,\\; constraint \\;5\\; are\\; active \\; and \\;rest \\;of\\; the\\; constraints\\; are \\;inactive.$"
      ]
    },
    {
      "cell_type": "markdown",
      "metadata": {
        "id": "QyNwZFnYmccl"
      },
      "source": [
        "$Q: 11-Writing \\;code \\;to \\;print \\;the \\;original\\; variables\\; x_i \\;from \\;a_i\\; and\\; b_i\\; and\\; print\\; the\\; values\\; of\\; x_i$\n"
      ]
    },
    {
      "cell_type": "code",
      "execution_count": 106,
      "metadata": {
        "id": "QtJ11M81XVMH"
      },
      "outputs": [],
      "source": [
        "model_lab6_ex1_op2.x = Var(col_indices_a, domain=Reals)"
      ]
    },
    {
      "cell_type": "code",
      "execution_count": 107,
      "metadata": {
        "id": "-t-TNMZnXmLF"
      },
      "outputs": [],
      "source": [
        " for i in col_indices_b:\n",
        "    model_lab6_ex1_op2.x[i].value=model_lab6_ex1_op2.a[i].value-model_lab6_ex1_op2.b[i].value"
      ]
    },
    {
      "cell_type": "code",
      "execution_count": 108,
      "metadata": {
        "colab": {
          "base_uri": "https://localhost:8080/"
        },
        "id": "TBIAdBKCTjFI",
        "outputId": "32144286-193c-4f78-f9d1-2284fc09f5be"
      },
      "outputs": [
        {
          "name": "stdout",
          "output_type": "stream",
          "text": [
            "\n",
            "Objective =  0.547955725\n",
            "\n",
            "Decision Variables\n",
            "x[ 1 ]: -0.046448575\n",
            "x[ 2 ]: 0.18612441\n",
            "x[ 3 ]: -0.17131802\n",
            "x[ 4 ]: 0.0\n",
            "x[ 5 ]: -0.14406472\n",
            "\n",
            "Constraints\n",
            "constraints : Size=6\n",
            "    Key : Lower : Body               : Upper\n",
            "      1 :   1.0 :  0.999999625000001 :  None\n",
            "      2 :   1.0 : 0.9999997599999997 :  None\n",
            "      3 :   1.0 :         1.45833777 :  None\n",
            "      4 :   1.0 : 1.0000002549999998 :  None\n",
            "      5 :   1.0 :        1.000000215 :  None\n",
            "      6 :   1.0 :  5.254977699999998 :  None\n"
          ]
        }
      ],
      "source": [
        "print('\\nObjective = ', model_lab6_ex1_op2.objective())\n",
        "\n",
        "print('\\nDecision Variables')\n",
        "for i in col_indices_a:\n",
        "     print('x[',i+1,']:', model_lab6_ex1_op2.x[i].value)\n",
        "\n",
        "\n",
        "print('\\nConstraints')\n",
        "model_lab6_ex1_op2.constraints.display()"
      ]
    },
    {
      "cell_type": "markdown",
      "metadata": {
        "id": "_FJxQcfziarq"
      },
      "source": [
        "$Q:12-The \\;values \\;of \\;x_i \\;obtained \\;from\\; solving \\;OP1 \\;are\\; same\\; as\\; the \\;values \\;of \\;x_i \\;obtained\\; from\\; solving \\;OP2$"
      ]
    }
  ],
  "metadata": {
    "colab": {
      "name": "21i190007_IE507_Lab06_Ex1.ipynb",
      "provenance": []
    },
    "kernelspec": {
      "display_name": "Python 3",
      "name": "python3"
    },
    "language_info": {
      "name": "python"
    }
  },
  "nbformat": 4,
  "nbformat_minor": 0
}
