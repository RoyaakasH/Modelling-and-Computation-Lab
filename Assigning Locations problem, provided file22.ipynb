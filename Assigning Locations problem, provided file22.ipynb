{
  "cells": [
    {
      "cell_type": "markdown",
      "metadata": {
        "id": "fIkfMbBgHDtv"
      },
      "source": [
        "$$Exercise:\\;2$$"
      ]
    },
    {
      "cell_type": "markdown",
      "metadata": {
        "id": "XaCfQgi-faRa"
      },
      "source": [
        "$Q-1: Mathematical\\; Model$ \\\\\n",
        "$Here,\\; ValueBuild\\; Constructions \\;Inc. \\;has\\; to \\;build\\; 12 \\;different\\; types\\; of \\;factories,\\; one \\;at\\; each\\; of\\; the\\; 12\\;\n",
        "locations.$ \\\\\n",
        "$Decision \\;Variables:$ \\\\\n",
        "$\n",
        "x_{ij}=\n",
        "\\begin{array}{cc}\n",
        "  \\{ & \n",
        "    \\begin{array}{cc}\n",
        "      1 & if\\; ith\\; factory\\; is\\; set\\; up \\;at \\;jth\\; location \\\\\n",
        "      0 & otherwise\n",
        "    \\end{array}\n",
        "\\end{array}\n",
        "$ \\\\\n",
        "$Let\\; C_{ij}\\; be\\; the\\; cost\\; of\\; setting \\;up\\; the\\; ith \\;facility \\;at\\; jth \\;location.$ \\\\\n",
        "$Objective:$ \\\\\n",
        "$min \\sum_{i=1}^{12}\\sum_{j=1}^{12}C_{ij}.x_{ij}$ \\\\\n",
        "$Subject\\;to,$ \\\\\n",
        "$ \\sum_{i=1}^{12}x_{ij}=1$ \\\\\n",
        "$ \\sum_{j=1}^{12}x_{ij}=1$ \\\\\n",
        "$$x_{ij} \\geq 0 \\ for \\ all \\ i, j\\in \\{1,2,3,4,5,6,7,8,9,10,11,12\\} $$"
      ]
    },
    {
      "cell_type": "markdown",
      "metadata": {
        "id": "81dihDCBkmrq"
      },
      "source": [
        "$Q2.\\;Constructing\\; the\\; pyomo\\; model$"
      ]
    },
    {
      "cell_type": "markdown",
      "metadata": {
        "id": "RYDv41YskyEe"
      },
      "source": [
        "$Q3.\\;Done$"
      ]
    },
    {
      "cell_type": "markdown",
      "metadata": {
        "id": "ju3r1xS5k6cJ"
      },
      "source": [
        "$Q4.\\;Done$"
      ]
    },
    {
      "cell_type": "code",
      "execution_count": 292,
      "metadata": {
        "id": "r8dfMOYs7qOd"
      },
      "outputs": [],
      "source": [
        "!pip install -q pyomo\n",
        "from pyomo.environ import * \n",
        "import numpy as np\n",
        "import pandas as pd"
      ]
    },
    {
      "cell_type": "markdown",
      "metadata": {
        "id": "h3M6epmtlDVw"
      },
      "source": [
        "$Q5.\\;Using\\; numpy.loadtxt\\; to\\; load\\; the \\;data\\; from$ lab5_ex2.txt$file\\; into\\; a \\;numpy \\;array.$"
      ]
    },
    {
      "cell_type": "code",
      "execution_count": 293,
      "metadata": {
        "id": "w1hLEh4B7sJh"
      },
      "outputs": [],
      "source": [
        "coef =  np.loadtxt('file22.txt', delimiter = '   ')"
      ]
    },
    {
      "cell_type": "code",
      "execution_count": 294,
      "metadata": {
        "colab": {
          "base_uri": "https://localhost:8080/"
        },
        "id": "2YJWFIvfGhiD",
        "outputId": "04e437f8-c0e3-4cea-e274-4fe82fcb8ca5"
      },
      "outputs": [
        {
          "data": {
            "text/plain": [
              "array([[ 0.,  1.,  2.,  3.,  4.,  5.,  6.,  7.,  8.,  9., 10., 11., 12.],\n",
              "       [ 1., 22., 22., 19., 22., 22., 24., 18., 17., 21., 23., 19., 21.],\n",
              "       [ 2., 18., 12., 18., 19., 22., 21., 17., 20., 16., 17., 17., 24.],\n",
              "       [ 3., 19., 21., 17., 19., 17., 19., 24., 16., 18., 16., 20., 24.],\n",
              "       [ 4., 18., 24., 20., 21., 21., 21., 22., 19., 18., 21., 23., 23.],\n",
              "       [ 5., 23., 20., 19., 18., 20., 23., 22., 25., 24., 19., 21., 23.],\n",
              "       [ 6., 24., 16., 15., 16., 24., 21., 23., 21., 20., 20., 22., 19.],\n",
              "       [ 7., 22., 22., 21., 23., 18., 17., 16., 19., 24., 20., 20., 23.],\n",
              "       [ 8., 23., 17., 17., 17., 22., 24., 23., 20., 22., 19., 23., 21.],\n",
              "       [ 9., 21., 22., 21., 24., 20., 23., 19., 18., 23., 15., 25., 21.],\n",
              "       [10., 19., 19., 18., 19., 26., 24., 19., 17., 18., 20., 21., 20.],\n",
              "       [11., 20., 22., 23., 20., 22., 20., 20., 19., 17., 19., 20., 24.],\n",
              "       [12., 21., 25., 21., 19., 21., 19., 18., 16., 22., 24., 25., 24.]])"
            ]
          },
          "execution_count": 294,
          "metadata": {},
          "output_type": "execute_result"
        }
      ],
      "source": [
        "data_csvfile"
      ]
    },
    {
      "cell_type": "markdown",
      "metadata": {
        "id": "NW-cTzAKnVDS"
      },
      "source": [
        "$Q6.\\; Adapting \\;the\\; general \\;pyomo \\;model\\; created, \\;to\\; use\\; the \\;data \\;loaded \\;from \\;the$ lab5_ex2.txt $file.$\n"
      ]
    },
    {
      "cell_type": "code",
      "execution_count": 295,
      "metadata": {
        "id": "FdG9KTGeG0II"
      },
      "outputs": [],
      "source": [
        "model = ConcreteModel()\n",
        "M = coef.shape[0] - 1 \n",
        "N = coef.shape[1] - 1 \n",
        "\n",
        "# set row and column indices\n",
        "row_indices = np.arange(M)\n",
        "col_indices = np.arange(N)\n",
        "\n",
        "model.x = Var(row_indices, col_indices, domain= Binary)"
      ]
    },
    {
      "cell_type": "code",
      "execution_count": 296,
      "metadata": {
        "id": "EfnwINKzHbBu"
      },
      "outputs": [],
      "source": [
        "model.objective = Objective(expr=sum(coef[i+1,j+1]*model.x[i,j] for i in row_indices for j in col_indices),sense=minimize)"
      ]
    },
    {
      "cell_type": "code",
      "execution_count": 297,
      "metadata": {
        "id": "hg9MDCW2M4FG"
      },
      "outputs": [],
      "source": [
        "model.constraints = ConstraintList()\n",
        "for i in row_indices:\n",
        "  model.constraints.add(expr=sum(model.x[i,j] for j in col_indices)==1)\n",
        "for j in col_indices:\n",
        "  model.constraints.add(expr=sum(model.x[i,j] for i in row_indices)==1)"
      ]
    },
    {
      "cell_type": "code",
      "execution_count": 298,
      "metadata": {
        "colab": {
          "base_uri": "https://localhost:8080/"
        },
        "id": "en7u2u7mHcpl",
        "outputId": "16d93e4f-8d37-486b-e7f3-daee866b9470"
      },
      "outputs": [
        {
          "name": "stdout",
          "output_type": "stream",
          "text": [
            "4 Set Declarations\n",
            "    constraints_index : Size=1, Index=None, Ordered=Insertion\n",
            "        Key  : Dimen : Domain : Size : Members\n",
            "        None :     1 :    Any :   24 : {1, 2, 3, 4, 5, 6, 7, 8, 9, 10, 11, 12, 13, 14, 15, 16, 17, 18, 19, 20, 21, 22, 23, 24}\n",
            "    x_index : Size=1, Index=None, Ordered=False\n",
            "        Key  : Dimen : Domain              : Size : Members\n",
            "        None :     2 : x_index_0*x_index_1 :  144 : {(0, 0), (0, 1), (0, 2), (0, 3), (0, 4), (0, 5), (0, 6), (0, 7), (0, 8), (0, 9), (0, 10), (0, 11), (1, 0), (1, 1), (1, 2), (1, 3), (1, 4), (1, 5), (1, 6), (1, 7), (1, 8), (1, 9), (1, 10), (1, 11), (2, 0), (2, 1), (2, 2), (2, 3), (2, 4), (2, 5), (2, 6), (2, 7), (2, 8), (2, 9), (2, 10), (2, 11), (3, 0), (3, 1), (3, 2), (3, 3), (3, 4), (3, 5), (3, 6), (3, 7), (3, 8), (3, 9), (3, 10), (3, 11), (4, 0), (4, 1), (4, 2), (4, 3), (4, 4), (4, 5), (4, 6), (4, 7), (4, 8), (4, 9), (4, 10), (4, 11), (5, 0), (5, 1), (5, 2), (5, 3), (5, 4), (5, 5), (5, 6), (5, 7), (5, 8), (5, 9), (5, 10), (5, 11), (6, 0), (6, 1), (6, 2), (6, 3), (6, 4), (6, 5), (6, 6), (6, 7), (6, 8), (6, 9), (6, 10), (6, 11), (7, 0), (7, 1), (7, 2), (7, 3), (7, 4), (7, 5), (7, 6), (7, 7), (7, 8), (7, 9), (7, 10), (7, 11), (8, 0), (8, 1), (8, 2), (8, 3), (8, 4), (8, 5), (8, 6), (8, 7), (8, 8), (8, 9), (8, 10), (8, 11), (9, 0), (9, 1), (9, 2), (9, 3), (9, 4), (9, 5), (9, 6), (9, 7), (9, 8), (9, 9), (9, 10), (9, 11), (10, 0), (10, 1), (10, 2), (10, 3), (10, 4), (10, 5), (10, 6), (10, 7), (10, 8), (10, 9), (10, 10), (10, 11), (11, 0), (11, 1), (11, 2), (11, 3), (11, 4), (11, 5), (11, 6), (11, 7), (11, 8), (11, 9), (11, 10), (11, 11)}\n",
            "    x_index_0 : Size=1, Index=None, Ordered=False\n",
            "        Key  : Dimen : Domain : Size : Members\n",
            "        None :     1 :    Any :   12 : {0, 1, 2, 3, 4, 5, 6, 7, 8, 9, 10, 11}\n",
            "    x_index_1 : Size=1, Index=None, Ordered=False\n",
            "        Key  : Dimen : Domain : Size : Members\n",
            "        None :     1 :    Any :   12 : {0, 1, 2, 3, 4, 5, 6, 7, 8, 9, 10, 11}\n",
            "\n",
            "1 Var Declarations\n",
            "    x : Size=144, Index=x_index\n",
            "        Key      : Lower : Value : Upper : Fixed : Stale : Domain\n",
            "          (0, 0) :     0 :  None :     1 : False :  True : Binary\n",
            "          (0, 1) :     0 :  None :     1 : False :  True : Binary\n",
            "          (0, 2) :     0 :  None :     1 : False :  True : Binary\n",
            "          (0, 3) :     0 :  None :     1 : False :  True : Binary\n",
            "          (0, 4) :     0 :  None :     1 : False :  True : Binary\n",
            "          (0, 5) :     0 :  None :     1 : False :  True : Binary\n",
            "          (0, 6) :     0 :  None :     1 : False :  True : Binary\n",
            "          (0, 7) :     0 :  None :     1 : False :  True : Binary\n",
            "          (0, 8) :     0 :  None :     1 : False :  True : Binary\n",
            "          (0, 9) :     0 :  None :     1 : False :  True : Binary\n",
            "         (0, 10) :     0 :  None :     1 : False :  True : Binary\n",
            "         (0, 11) :     0 :  None :     1 : False :  True : Binary\n",
            "          (1, 0) :     0 :  None :     1 : False :  True : Binary\n",
            "          (1, 1) :     0 :  None :     1 : False :  True : Binary\n",
            "          (1, 2) :     0 :  None :     1 : False :  True : Binary\n",
            "          (1, 3) :     0 :  None :     1 : False :  True : Binary\n",
            "          (1, 4) :     0 :  None :     1 : False :  True : Binary\n",
            "          (1, 5) :     0 :  None :     1 : False :  True : Binary\n",
            "          (1, 6) :     0 :  None :     1 : False :  True : Binary\n",
            "          (1, 7) :     0 :  None :     1 : False :  True : Binary\n",
            "          (1, 8) :     0 :  None :     1 : False :  True : Binary\n",
            "          (1, 9) :     0 :  None :     1 : False :  True : Binary\n",
            "         (1, 10) :     0 :  None :     1 : False :  True : Binary\n",
            "         (1, 11) :     0 :  None :     1 : False :  True : Binary\n",
            "          (2, 0) :     0 :  None :     1 : False :  True : Binary\n",
            "          (2, 1) :     0 :  None :     1 : False :  True : Binary\n",
            "          (2, 2) :     0 :  None :     1 : False :  True : Binary\n",
            "          (2, 3) :     0 :  None :     1 : False :  True : Binary\n",
            "          (2, 4) :     0 :  None :     1 : False :  True : Binary\n",
            "          (2, 5) :     0 :  None :     1 : False :  True : Binary\n",
            "          (2, 6) :     0 :  None :     1 : False :  True : Binary\n",
            "          (2, 7) :     0 :  None :     1 : False :  True : Binary\n",
            "          (2, 8) :     0 :  None :     1 : False :  True : Binary\n",
            "          (2, 9) :     0 :  None :     1 : False :  True : Binary\n",
            "         (2, 10) :     0 :  None :     1 : False :  True : Binary\n",
            "         (2, 11) :     0 :  None :     1 : False :  True : Binary\n",
            "          (3, 0) :     0 :  None :     1 : False :  True : Binary\n",
            "          (3, 1) :     0 :  None :     1 : False :  True : Binary\n",
            "          (3, 2) :     0 :  None :     1 : False :  True : Binary\n",
            "          (3, 3) :     0 :  None :     1 : False :  True : Binary\n",
            "          (3, 4) :     0 :  None :     1 : False :  True : Binary\n",
            "          (3, 5) :     0 :  None :     1 : False :  True : Binary\n",
            "          (3, 6) :     0 :  None :     1 : False :  True : Binary\n",
            "          (3, 7) :     0 :  None :     1 : False :  True : Binary\n",
            "          (3, 8) :     0 :  None :     1 : False :  True : Binary\n",
            "          (3, 9) :     0 :  None :     1 : False :  True : Binary\n",
            "         (3, 10) :     0 :  None :     1 : False :  True : Binary\n",
            "         (3, 11) :     0 :  None :     1 : False :  True : Binary\n",
            "          (4, 0) :     0 :  None :     1 : False :  True : Binary\n",
            "          (4, 1) :     0 :  None :     1 : False :  True : Binary\n",
            "          (4, 2) :     0 :  None :     1 : False :  True : Binary\n",
            "          (4, 3) :     0 :  None :     1 : False :  True : Binary\n",
            "          (4, 4) :     0 :  None :     1 : False :  True : Binary\n",
            "          (4, 5) :     0 :  None :     1 : False :  True : Binary\n",
            "          (4, 6) :     0 :  None :     1 : False :  True : Binary\n",
            "          (4, 7) :     0 :  None :     1 : False :  True : Binary\n",
            "          (4, 8) :     0 :  None :     1 : False :  True : Binary\n",
            "          (4, 9) :     0 :  None :     1 : False :  True : Binary\n",
            "         (4, 10) :     0 :  None :     1 : False :  True : Binary\n",
            "         (4, 11) :     0 :  None :     1 : False :  True : Binary\n",
            "          (5, 0) :     0 :  None :     1 : False :  True : Binary\n",
            "          (5, 1) :     0 :  None :     1 : False :  True : Binary\n",
            "          (5, 2) :     0 :  None :     1 : False :  True : Binary\n",
            "          (5, 3) :     0 :  None :     1 : False :  True : Binary\n",
            "          (5, 4) :     0 :  None :     1 : False :  True : Binary\n",
            "          (5, 5) :     0 :  None :     1 : False :  True : Binary\n",
            "          (5, 6) :     0 :  None :     1 : False :  True : Binary\n",
            "          (5, 7) :     0 :  None :     1 : False :  True : Binary\n",
            "          (5, 8) :     0 :  None :     1 : False :  True : Binary\n",
            "          (5, 9) :     0 :  None :     1 : False :  True : Binary\n",
            "         (5, 10) :     0 :  None :     1 : False :  True : Binary\n",
            "         (5, 11) :     0 :  None :     1 : False :  True : Binary\n",
            "          (6, 0) :     0 :  None :     1 : False :  True : Binary\n",
            "          (6, 1) :     0 :  None :     1 : False :  True : Binary\n",
            "          (6, 2) :     0 :  None :     1 : False :  True : Binary\n",
            "          (6, 3) :     0 :  None :     1 : False :  True : Binary\n",
            "          (6, 4) :     0 :  None :     1 : False :  True : Binary\n",
            "          (6, 5) :     0 :  None :     1 : False :  True : Binary\n",
            "          (6, 6) :     0 :  None :     1 : False :  True : Binary\n",
            "          (6, 7) :     0 :  None :     1 : False :  True : Binary\n",
            "          (6, 8) :     0 :  None :     1 : False :  True : Binary\n",
            "          (6, 9) :     0 :  None :     1 : False :  True : Binary\n",
            "         (6, 10) :     0 :  None :     1 : False :  True : Binary\n",
            "         (6, 11) :     0 :  None :     1 : False :  True : Binary\n",
            "          (7, 0) :     0 :  None :     1 : False :  True : Binary\n",
            "          (7, 1) :     0 :  None :     1 : False :  True : Binary\n",
            "          (7, 2) :     0 :  None :     1 : False :  True : Binary\n",
            "          (7, 3) :     0 :  None :     1 : False :  True : Binary\n",
            "          (7, 4) :     0 :  None :     1 : False :  True : Binary\n",
            "          (7, 5) :     0 :  None :     1 : False :  True : Binary\n",
            "          (7, 6) :     0 :  None :     1 : False :  True : Binary\n",
            "          (7, 7) :     0 :  None :     1 : False :  True : Binary\n",
            "          (7, 8) :     0 :  None :     1 : False :  True : Binary\n",
            "          (7, 9) :     0 :  None :     1 : False :  True : Binary\n",
            "         (7, 10) :     0 :  None :     1 : False :  True : Binary\n",
            "         (7, 11) :     0 :  None :     1 : False :  True : Binary\n",
            "          (8, 0) :     0 :  None :     1 : False :  True : Binary\n",
            "          (8, 1) :     0 :  None :     1 : False :  True : Binary\n",
            "          (8, 2) :     0 :  None :     1 : False :  True : Binary\n",
            "          (8, 3) :     0 :  None :     1 : False :  True : Binary\n",
            "          (8, 4) :     0 :  None :     1 : False :  True : Binary\n",
            "          (8, 5) :     0 :  None :     1 : False :  True : Binary\n",
            "          (8, 6) :     0 :  None :     1 : False :  True : Binary\n",
            "          (8, 7) :     0 :  None :     1 : False :  True : Binary\n",
            "          (8, 8) :     0 :  None :     1 : False :  True : Binary\n",
            "          (8, 9) :     0 :  None :     1 : False :  True : Binary\n",
            "         (8, 10) :     0 :  None :     1 : False :  True : Binary\n",
            "         (8, 11) :     0 :  None :     1 : False :  True : Binary\n",
            "          (9, 0) :     0 :  None :     1 : False :  True : Binary\n",
            "          (9, 1) :     0 :  None :     1 : False :  True : Binary\n",
            "          (9, 2) :     0 :  None :     1 : False :  True : Binary\n",
            "          (9, 3) :     0 :  None :     1 : False :  True : Binary\n",
            "          (9, 4) :     0 :  None :     1 : False :  True : Binary\n",
            "          (9, 5) :     0 :  None :     1 : False :  True : Binary\n",
            "          (9, 6) :     0 :  None :     1 : False :  True : Binary\n",
            "          (9, 7) :     0 :  None :     1 : False :  True : Binary\n",
            "          (9, 8) :     0 :  None :     1 : False :  True : Binary\n",
            "          (9, 9) :     0 :  None :     1 : False :  True : Binary\n",
            "         (9, 10) :     0 :  None :     1 : False :  True : Binary\n",
            "         (9, 11) :     0 :  None :     1 : False :  True : Binary\n",
            "         (10, 0) :     0 :  None :     1 : False :  True : Binary\n",
            "         (10, 1) :     0 :  None :     1 : False :  True : Binary\n",
            "         (10, 2) :     0 :  None :     1 : False :  True : Binary\n",
            "         (10, 3) :     0 :  None :     1 : False :  True : Binary\n",
            "         (10, 4) :     0 :  None :     1 : False :  True : Binary\n",
            "         (10, 5) :     0 :  None :     1 : False :  True : Binary\n",
            "         (10, 6) :     0 :  None :     1 : False :  True : Binary\n",
            "         (10, 7) :     0 :  None :     1 : False :  True : Binary\n",
            "         (10, 8) :     0 :  None :     1 : False :  True : Binary\n",
            "         (10, 9) :     0 :  None :     1 : False :  True : Binary\n",
            "        (10, 10) :     0 :  None :     1 : False :  True : Binary\n",
            "        (10, 11) :     0 :  None :     1 : False :  True : Binary\n",
            "         (11, 0) :     0 :  None :     1 : False :  True : Binary\n",
            "         (11, 1) :     0 :  None :     1 : False :  True : Binary\n",
            "         (11, 2) :     0 :  None :     1 : False :  True : Binary\n",
            "         (11, 3) :     0 :  None :     1 : False :  True : Binary\n",
            "         (11, 4) :     0 :  None :     1 : False :  True : Binary\n",
            "         (11, 5) :     0 :  None :     1 : False :  True : Binary\n",
            "         (11, 6) :     0 :  None :     1 : False :  True : Binary\n",
            "         (11, 7) :     0 :  None :     1 : False :  True : Binary\n",
            "         (11, 8) :     0 :  None :     1 : False :  True : Binary\n",
            "         (11, 9) :     0 :  None :     1 : False :  True : Binary\n",
            "        (11, 10) :     0 :  None :     1 : False :  True : Binary\n",
            "        (11, 11) :     0 :  None :     1 : False :  True : Binary\n",
            "\n",
            "1 Objective Declarations\n",
            "    objective : Size=1, Index=None, Active=True\n",
            "        Key  : Active : Sense    : Expression\n",
            "        None :   True : minimize : 22.0*x[0,0] + 22.0*x[0,1] + 19.0*x[0,2] + 22.0*x[0,3] + 22.0*x[0,4] + 24.0*x[0,5] + 18.0*x[0,6] + 17.0*x[0,7] + 21.0*x[0,8] + 23.0*x[0,9] + 19.0*x[0,10] + 21.0*x[0,11] + 18.0*x[1,0] + 12.0*x[1,1] + 18.0*x[1,2] + 19.0*x[1,3] + 22.0*x[1,4] + 21.0*x[1,5] + 17.0*x[1,6] + 20.0*x[1,7] + 16.0*x[1,8] + 17.0*x[1,9] + 17.0*x[1,10] + 24.0*x[1,11] + 19.0*x[2,0] + 21.0*x[2,1] + 17.0*x[2,2] + 19.0*x[2,3] + 17.0*x[2,4] + 19.0*x[2,5] + 24.0*x[2,6] + 16.0*x[2,7] + 18.0*x[2,8] + 16.0*x[2,9] + 20.0*x[2,10] + 24.0*x[2,11] + 18.0*x[3,0] + 24.0*x[3,1] + 20.0*x[3,2] + 21.0*x[3,3] + 21.0*x[3,4] + 21.0*x[3,5] + 22.0*x[3,6] + 19.0*x[3,7] + 18.0*x[3,8] + 21.0*x[3,9] + 23.0*x[3,10] + 23.0*x[3,11] + 23.0*x[4,0] + 20.0*x[4,1] + 19.0*x[4,2] + 18.0*x[4,3] + 20.0*x[4,4] + 23.0*x[4,5] + 22.0*x[4,6] + 25.0*x[4,7] + 24.0*x[4,8] + 19.0*x[4,9] + 21.0*x[4,10] + 23.0*x[4,11] + 24.0*x[5,0] + 16.0*x[5,1] + 15.0*x[5,2] + 16.0*x[5,3] + 24.0*x[5,4] + 21.0*x[5,5] + 23.0*x[5,6] + 21.0*x[5,7] + 20.0*x[5,8] + 20.0*x[5,9] + 22.0*x[5,10] + 19.0*x[5,11] + 22.0*x[6,0] + 22.0*x[6,1] + 21.0*x[6,2] + 23.0*x[6,3] + 18.0*x[6,4] + 17.0*x[6,5] + 16.0*x[6,6] + 19.0*x[6,7] + 24.0*x[6,8] + 20.0*x[6,9] + 20.0*x[6,10] + 23.0*x[6,11] + 23.0*x[7,0] + 17.0*x[7,1] + 17.0*x[7,2] + 17.0*x[7,3] + 22.0*x[7,4] + 24.0*x[7,5] + 23.0*x[7,6] + 20.0*x[7,7] + 22.0*x[7,8] + 19.0*x[7,9] + 23.0*x[7,10] + 21.0*x[7,11] + 21.0*x[8,0] + 22.0*x[8,1] + 21.0*x[8,2] + 24.0*x[8,3] + 20.0*x[8,4] + 23.0*x[8,5] + 19.0*x[8,6] + 18.0*x[8,7] + 23.0*x[8,8] + 15.0*x[8,9] + 25.0*x[8,10] + 21.0*x[8,11] + 19.0*x[9,0] + 19.0*x[9,1] + 18.0*x[9,2] + 19.0*x[9,3] + 26.0*x[9,4] + 24.0*x[9,5] + 19.0*x[9,6] + 17.0*x[9,7] + 18.0*x[9,8] + 20.0*x[9,9] + 21.0*x[9,10] + 20.0*x[9,11] + 20.0*x[10,0] + 22.0*x[10,1] + 23.0*x[10,2] + 20.0*x[10,3] + 22.0*x[10,4] + 20.0*x[10,5] + 20.0*x[10,6] + 19.0*x[10,7] + 17.0*x[10,8] + 19.0*x[10,9] + 20.0*x[10,10] + 24.0*x[10,11] + 21.0*x[11,0] + 25.0*x[11,1] + 21.0*x[11,2] + 19.0*x[11,3] + 21.0*x[11,4] + 19.0*x[11,5] + 18.0*x[11,6] + 16.0*x[11,7] + 22.0*x[11,8] + 24.0*x[11,9] + 25.0*x[11,10] + 24.0*x[11,11]\n",
            "\n",
            "1 Constraint Declarations\n",
            "    constraints : Size=24, Index=constraints_index, Active=True\n",
            "        Key : Lower : Body                                                                                                                    : Upper : Active\n",
            "          1 :   1.0 :             x[0,0] + x[0,1] + x[0,2] + x[0,3] + x[0,4] + x[0,5] + x[0,6] + x[0,7] + x[0,8] + x[0,9] + x[0,10] + x[0,11] :   1.0 :   True\n",
            "          2 :   1.0 :             x[1,0] + x[1,1] + x[1,2] + x[1,3] + x[1,4] + x[1,5] + x[1,6] + x[1,7] + x[1,8] + x[1,9] + x[1,10] + x[1,11] :   1.0 :   True\n",
            "          3 :   1.0 :             x[2,0] + x[2,1] + x[2,2] + x[2,3] + x[2,4] + x[2,5] + x[2,6] + x[2,7] + x[2,8] + x[2,9] + x[2,10] + x[2,11] :   1.0 :   True\n",
            "          4 :   1.0 :             x[3,0] + x[3,1] + x[3,2] + x[3,3] + x[3,4] + x[3,5] + x[3,6] + x[3,7] + x[3,8] + x[3,9] + x[3,10] + x[3,11] :   1.0 :   True\n",
            "          5 :   1.0 :             x[4,0] + x[4,1] + x[4,2] + x[4,3] + x[4,4] + x[4,5] + x[4,6] + x[4,7] + x[4,8] + x[4,9] + x[4,10] + x[4,11] :   1.0 :   True\n",
            "          6 :   1.0 :             x[5,0] + x[5,1] + x[5,2] + x[5,3] + x[5,4] + x[5,5] + x[5,6] + x[5,7] + x[5,8] + x[5,9] + x[5,10] + x[5,11] :   1.0 :   True\n",
            "          7 :   1.0 :             x[6,0] + x[6,1] + x[6,2] + x[6,3] + x[6,4] + x[6,5] + x[6,6] + x[6,7] + x[6,8] + x[6,9] + x[6,10] + x[6,11] :   1.0 :   True\n",
            "          8 :   1.0 :             x[7,0] + x[7,1] + x[7,2] + x[7,3] + x[7,4] + x[7,5] + x[7,6] + x[7,7] + x[7,8] + x[7,9] + x[7,10] + x[7,11] :   1.0 :   True\n",
            "          9 :   1.0 :             x[8,0] + x[8,1] + x[8,2] + x[8,3] + x[8,4] + x[8,5] + x[8,6] + x[8,7] + x[8,8] + x[8,9] + x[8,10] + x[8,11] :   1.0 :   True\n",
            "         10 :   1.0 :             x[9,0] + x[9,1] + x[9,2] + x[9,3] + x[9,4] + x[9,5] + x[9,6] + x[9,7] + x[9,8] + x[9,9] + x[9,10] + x[9,11] :   1.0 :   True\n",
            "         11 :   1.0 : x[10,0] + x[10,1] + x[10,2] + x[10,3] + x[10,4] + x[10,5] + x[10,6] + x[10,7] + x[10,8] + x[10,9] + x[10,10] + x[10,11] :   1.0 :   True\n",
            "         12 :   1.0 : x[11,0] + x[11,1] + x[11,2] + x[11,3] + x[11,4] + x[11,5] + x[11,6] + x[11,7] + x[11,8] + x[11,9] + x[11,10] + x[11,11] :   1.0 :   True\n",
            "         13 :   1.0 :             x[0,0] + x[1,0] + x[2,0] + x[3,0] + x[4,0] + x[5,0] + x[6,0] + x[7,0] + x[8,0] + x[9,0] + x[10,0] + x[11,0] :   1.0 :   True\n",
            "         14 :   1.0 :             x[0,1] + x[1,1] + x[2,1] + x[3,1] + x[4,1] + x[5,1] + x[6,1] + x[7,1] + x[8,1] + x[9,1] + x[10,1] + x[11,1] :   1.0 :   True\n",
            "         15 :   1.0 :             x[0,2] + x[1,2] + x[2,2] + x[3,2] + x[4,2] + x[5,2] + x[6,2] + x[7,2] + x[8,2] + x[9,2] + x[10,2] + x[11,2] :   1.0 :   True\n",
            "         16 :   1.0 :             x[0,3] + x[1,3] + x[2,3] + x[3,3] + x[4,3] + x[5,3] + x[6,3] + x[7,3] + x[8,3] + x[9,3] + x[10,3] + x[11,3] :   1.0 :   True\n",
            "         17 :   1.0 :             x[0,4] + x[1,4] + x[2,4] + x[3,4] + x[4,4] + x[5,4] + x[6,4] + x[7,4] + x[8,4] + x[9,4] + x[10,4] + x[11,4] :   1.0 :   True\n",
            "         18 :   1.0 :             x[0,5] + x[1,5] + x[2,5] + x[3,5] + x[4,5] + x[5,5] + x[6,5] + x[7,5] + x[8,5] + x[9,5] + x[10,5] + x[11,5] :   1.0 :   True\n",
            "         19 :   1.0 :             x[0,6] + x[1,6] + x[2,6] + x[3,6] + x[4,6] + x[5,6] + x[6,6] + x[7,6] + x[8,6] + x[9,6] + x[10,6] + x[11,6] :   1.0 :   True\n",
            "         20 :   1.0 :             x[0,7] + x[1,7] + x[2,7] + x[3,7] + x[4,7] + x[5,7] + x[6,7] + x[7,7] + x[8,7] + x[9,7] + x[10,7] + x[11,7] :   1.0 :   True\n",
            "         21 :   1.0 :             x[0,8] + x[1,8] + x[2,8] + x[3,8] + x[4,8] + x[5,8] + x[6,8] + x[7,8] + x[8,8] + x[9,8] + x[10,8] + x[11,8] :   1.0 :   True\n",
            "         22 :   1.0 :             x[0,9] + x[1,9] + x[2,9] + x[3,9] + x[4,9] + x[5,9] + x[6,9] + x[7,9] + x[8,9] + x[9,9] + x[10,9] + x[11,9] :   1.0 :   True\n",
            "         23 :   1.0 : x[0,10] + x[1,10] + x[2,10] + x[3,10] + x[4,10] + x[5,10] + x[6,10] + x[7,10] + x[8,10] + x[9,10] + x[10,10] + x[11,10] :   1.0 :   True\n",
            "         24 :   1.0 : x[0,11] + x[1,11] + x[2,11] + x[3,11] + x[4,11] + x[5,11] + x[6,11] + x[7,11] + x[8,11] + x[9,11] + x[10,11] + x[11,11] :   1.0 :   True\n",
            "\n",
            "7 Declarations: x_index_0 x_index_1 x_index x objective constraints_index constraints\n"
          ]
        }
      ],
      "source": [
        "model.pprint()"
      ]
    },
    {
      "cell_type": "markdown",
      "metadata": {
        "id": "JFd5DyPfVgzF"
      },
      "source": [
        "$Q7.\\;Using \\;cbc\\; solver\\; to\\; solve \\;your\\; optimization \\;problem, \\;all\\; the\\; decesion\\; variables\\; are\\; Binary.$"
      ]
    },
    {
      "cell_type": "code",
      "execution_count": 299,
      "metadata": {
        "id": "lrDj13wOMQY9"
      },
      "outputs": [],
      "source": [
        "!apt-get install -y -qq coinor-cbc\n",
        "opt_cbc = SolverFactory('cbc')"
      ]
    },
    {
      "cell_type": "code",
      "execution_count": 300,
      "metadata": {
        "colab": {
          "base_uri": "https://localhost:8080/"
        },
        "id": "iFAppAYdMUKH",
        "outputId": "44d38c6f-1e88-4433-ced2-d2ba54698718"
      },
      "outputs": [
        {
          "name": "stdout",
          "output_type": "stream",
          "text": [
            "Solver status: ok\n",
            "Solver termination condition: optimal\n"
          ]
        }
      ],
      "source": [
        "result = opt_cbc.solve(model)\n",
        "print('Solver status:', result.solver.status)\n",
        "print('Solver termination condition:',result.solver.termination_condition)"
      ]
    },
    {
      "cell_type": "markdown",
      "metadata": {
        "id": "0g0bbku6Vd26"
      },
      "source": [
        "$Q8.\\; Reporting \\;which \\;factory \\;must\\; be\\; opened\\; at\\; each\\; location.$\n"
      ]
    },
    {
      "cell_type": "code",
      "execution_count": 301,
      "metadata": {
        "colab": {
          "base_uri": "https://localhost:8080/"
        },
        "id": "7Xuix6u8MhS1",
        "outputId": "64626712-a737-4150-eb80-409ceddfc6d1"
      },
      "outputs": [
        {
          "name": "stdout",
          "output_type": "stream",
          "text": [
            "\n",
            "Assigning Cost:  203.0\n",
            "Factory 1 is located at Location 7\n",
            "Factory 2 is located at Location 2\n",
            "Factory 3 is located at Location 5\n",
            "Factory 4 is located at Location 1\n",
            "Factory 5 is located at Location 11\n",
            "Factory 6 is located at Location 3\n",
            "Factory 7 is located at Location 6\n",
            "Factory 8 is located at Location 4\n",
            "Factory 9 is located at Location 10\n",
            "Factory 10 is located at Location 12\n",
            "Factory 11 is located at Location 9\n",
            "Factory 12 is located at Location 8\n"
          ]
        }
      ],
      "source": [
        "#display solution\n",
        "print('\\nAssigning Cost: ', model.objective())\n",
        "for i in row_indices:\n",
        "  for j in col_indices:\n",
        "    if model.x[i,j].value!=0:\n",
        "      print('Factory',i+1,'is located at Location',j+1)"
      ]
    },
    {
      "cell_type": "markdown",
      "metadata": {
        "id": "_exvePLukeNx"
      },
      "source": [
        "$Q9. \\;Now\\; changing\\; the\\; integer\\; variables\\; in\\; the \\;model \\;to \\;continuous\\; variables,\\; and \\;re-solving\\; the\\;\n",
        "problem\\; and\\; reporting \\;the\\; solution$"
      ]
    },
    {
      "cell_type": "code",
      "execution_count": 302,
      "metadata": {
        "id": "sl3JhLGykfJB"
      },
      "outputs": [],
      "source": [
        "model.reconstruct\n",
        "for i in row_indices:\n",
        "  for j in col_indices:\n",
        "    if model.x[i,j].value!=0:\n",
        "      model.x[i,j].domain=NonNegativeReals\n",
        "for i in row_indices:\n",
        "  for j in col_indices:\n",
        "    model.x[i,j].setub(1)"
      ]
    },
    {
      "cell_type": "code",
      "execution_count": 303,
      "metadata": {
        "colab": {
          "base_uri": "https://localhost:8080/"
        },
        "id": "azBqZB5B_H4u",
        "outputId": "2c2e0acb-9d6d-4f7d-d25c-baf9fe1a120e"
      },
      "outputs": [
        {
          "name": "stdout",
          "output_type": "stream",
          "text": [
            "Solver status: ok\n",
            "Solver termination condition: optimal\n"
          ]
        }
      ],
      "source": [
        "result = opt_cbc.solve(model)\n",
        "print('Solver status:', result.solver.status)\n",
        "print('Solver termination condition:',result.solver.termination_condition)"
      ]
    },
    {
      "cell_type": "code",
      "execution_count": 304,
      "metadata": {
        "colab": {
          "base_uri": "https://localhost:8080/"
        },
        "id": "ABpNEbh6_Jg7",
        "outputId": "f9dcbad6-2c80-45e4-e532-c690ccb48f1c"
      },
      "outputs": [
        {
          "name": "stdout",
          "output_type": "stream",
          "text": [
            "\n",
            "Assigning Cost:  203.0\n",
            "Factory 1 is located at Location 7\n",
            "Factory 2 is located at Location 2\n",
            "Factory 3 is located at Location 5\n",
            "Factory 4 is located at Location 1\n",
            "Factory 5 is located at Location 11\n",
            "Factory 6 is located at Location 3\n",
            "Factory 7 is located at Location 6\n",
            "Factory 8 is located at Location 4\n",
            "Factory 9 is located at Location 10\n",
            "Factory 10 is located at Location 12\n",
            "Factory 11 is located at Location 9\n",
            "Factory 12 is located at Location 8\n"
          ]
        }
      ],
      "source": [
        "#display solution\n",
        "print('\\nAssigning Cost: ', model.objective())\n",
        "for i in row_indices:\n",
        "  for j in col_indices:\n",
        "    if model.x[i,j].value!=0:\n",
        "      print('Factory',i+1,'is located at Location',j+1)"
      ]
    },
    {
      "cell_type": "markdown",
      "metadata": {
        "id": "BGMa7vBf_RXP"
      },
      "source": [
        "$Q10.\\; Yes, \\;the\\; optimal\\; costs\\; for\\; both\\; problems \\;same. \\\\\n",
        "Yes, \\;the \\;values \\;of\\; the\\; variables\\; still\\;\n",
        "integer-valued. \\\\\n",
        "Since,\\; the \\;question \\;is\\; all\\; about\\; to\\; locate \\;one \\;facility\\; at\\; any\\; particular \\;location,\\; so\\; the \\;locations \\;that \\;are \\;allotted\\; in \\;such\\; a \\;way\\; that,\\;the\\; location\\; assignment \\;cost \\;is\\; the\\; minimum \\;for \\;that \\;particular \\;facility.\\; So,\\; If \\;the \\;solutions\\; become\\; fractional,\\; a \\;facility \\;would\\; be\\; located\\; at\\; 2 \\;or\\; more\\; locations \\;which\\; will\\; automatically \\;lead\\; to\\; the \\;increase\\; of \\;cost. \n",
        "$\n",
        "\n"
      ]
    },
    {
      "cell_type": "code",
      "execution_count": 305,
      "metadata": {
        "id": "o6dnJi5Ns25a"
      },
      "outputs": [],
      "source": [
        "model.reconstruct\n",
        "for i in row_indices:\n",
        "  for j in col_indices:\n",
        "    model.x[i,j].domain=Binary"
      ]
    },
    {
      "cell_type": "markdown",
      "metadata": {
        "id": "yXJF3txe_SbO"
      },
      "source": [
        "$Q11.\\; The\\; solution\\; to\\; the\\; continuous\\;problem \\;may\\; become \\;fractional \\;(non-integer) \\;if\\; the\\; costs\\; are\\;\n",
        "changed\\; to\\; non-integer\\; values.$"
      ]
    },
    {
      "cell_type": "markdown",
      "metadata": {
        "id": "7UPMIqFDszeJ"
      },
      "source": [
        "$Changing\\; the \\;costs \\;to\\; fractional\\; values$"
      ]
    },
    {
      "cell_type": "code",
      "execution_count": 306,
      "metadata": {
        "id": "Vd4vbuZU_TfS"
      },
      "outputs": [],
      "source": [
        "for i in row_indices:\n",
        "  for j in col_indices:\n",
        "    coef[i,j]=coef[i,j]+0.7"
      ]
    },
    {
      "cell_type": "code",
      "execution_count": 307,
      "metadata": {
        "colab": {
          "base_uri": "https://localhost:8080/"
        },
        "id": "WwQn2gKEAM06",
        "outputId": "1181b019-9747-43d1-fd18-c89fb8ad530e"
      },
      "outputs": [
        {
          "name": "stdout",
          "output_type": "stream",
          "text": [
            "WARNING: Implicitly replacing the Component attribute objective (type=<class\n",
            "    'pyomo.core.base.objective.ScalarObjective'>) on block unknown with a new\n",
            "    Component (type=<class 'pyomo.core.base.objective.ScalarObjective'>). This\n",
            "    is usually indicative of a modelling error. To avoid this warning, use\n",
            "    block.del_component() and block.add_component().\n"
          ]
        }
      ],
      "source": [
        "model.objective = Objective(expr=sum(coef[i+1,j+1]*model.x[i,j] for i in row_indices for j in col_indices),sense=minimize)"
      ]
    },
    {
      "cell_type": "code",
      "execution_count": 308,
      "metadata": {
        "colab": {
          "base_uri": "https://localhost:8080/"
        },
        "id": "2_sVGEFV_xxW",
        "outputId": "3b4ef5b5-3751-4662-d255-f8422a31a10d"
      },
      "outputs": [
        {
          "name": "stdout",
          "output_type": "stream",
          "text": [
            "Solver status: ok\n",
            "Solver termination condition: optimal\n"
          ]
        }
      ],
      "source": [
        "result = opt_cbc.solve(model)\n",
        "print('Solver status:', result.solver.status)\n",
        "print('Solver termination condition:',result.solver.termination_condition)"
      ]
    },
    {
      "cell_type": "code",
      "execution_count": 309,
      "metadata": {
        "colab": {
          "base_uri": "https://localhost:8080/"
        },
        "id": "qnoHoat0AIFU",
        "outputId": "126d5c8b-496a-4a39-87a1-1585e17ea395"
      },
      "outputs": [
        {
          "name": "stdout",
          "output_type": "stream",
          "text": [
            "\n",
            "Assigning Cost:  209.99999999999997\n",
            "Factory 1 is located at Location 7\n",
            "Factory 2 is located at Location 2\n",
            "Factory 3 is located at Location 5\n",
            "Factory 4 is located at Location 1\n",
            "Factory 5 is located at Location 11\n",
            "Factory 6 is located at Location 3\n",
            "Factory 7 is located at Location 6\n",
            "Factory 8 is located at Location 4\n",
            "Factory 9 is located at Location 10\n",
            "Factory 10 is located at Location 12\n",
            "Factory 11 is located at Location 9\n",
            "Factory 12 is located at Location 8\n"
          ]
        }
      ],
      "source": [
        "print('\\nAssigning Cost: ', model.objective())\n",
        "for i in row_indices:\n",
        "  for j in col_indices:\n",
        "    if model.x[i,j].value!=0:\n",
        "      print('Factory',i+1,'is located at Location',j+1)"
      ]
    },
    {
      "cell_type": "markdown",
      "metadata": {
        "id": "SRW1KY5MvVDq"
      },
      "source": [
        "$The\\; Assigning\\; cost\\; is\\; becoming \\;fractional\\; here.$"
      ]
    },
    {
      "cell_type": "code",
      "execution_count": 310,
      "metadata": {
        "id": "OXKohtTIwdz2"
      },
      "outputs": [],
      "source": [
        "model.reconstruct\n",
        "for i in row_indices:\n",
        "  for j in col_indices:\n",
        "    coef[i,j]=coef[i,j]-0.7"
      ]
    },
    {
      "cell_type": "markdown",
      "metadata": {
        "id": "RSpSLKF_BAde"
      },
      "source": [
        "$Q12.\\;Supposing\\; that,\\; due \\;to\\;some \\;reason,\\; facility\\; 2 \\;cannot\\; be \\;assigned \\;to\\; location \\;4,\\; facility\\; 10 \\;cannot\\; be\\; assigned\\; to\\; location \\;6\\; and \\;facility\\; 6 \\;cannot\\; be \\;assigned\\; to \\;location \\;11. \\;For \\;that, \\;we\\; increase \\;the\\; assigning\\; cost\\; of \\;them\\; so \\;much,\\; that\\; the \\;optimal\\; solution\\; will\\; avoid\\; locating\\; the\\; particular \\;factories\\; at\\; those\\; particular\\; locations.$"
      ]
    },
    {
      "cell_type": "code",
      "execution_count": 311,
      "metadata": {
        "id": "tqzhRi_QDS47"
      },
      "outputs": [],
      "source": [
        "coef[1,3]=999\n",
        "coef[9,5]=999\n",
        "coef[5,10]=999"
      ]
    },
    {
      "cell_type": "code",
      "execution_count": 312,
      "metadata": {
        "colab": {
          "base_uri": "https://localhost:8080/"
        },
        "id": "kRXzx15cEyzX",
        "outputId": "64fc1dee-6b8d-48a0-94ae-92613c393d97"
      },
      "outputs": [
        {
          "name": "stdout",
          "output_type": "stream",
          "text": [
            "WARNING: Implicitly replacing the Component attribute objective (type=<class\n",
            "    'pyomo.core.base.objective.ScalarObjective'>) on block unknown with a new\n",
            "    Component (type=<class 'pyomo.core.base.objective.ScalarObjective'>). This\n",
            "    is usually indicative of a modelling error. To avoid this warning, use\n",
            "    block.del_component() and block.add_component().\n"
          ]
        }
      ],
      "source": [
        "model.objective = Objective(expr=sum(coef[i+1,j+1]*model.x[i,j] for i in row_indices for j in col_indices),sense=minimize)"
      ]
    },
    {
      "cell_type": "code",
      "execution_count": 313,
      "metadata": {
        "colab": {
          "base_uri": "https://localhost:8080/"
        },
        "id": "1arGLHNFE8fC",
        "outputId": "8715fd74-832f-4be8-9ff7-1046f8bdd3ec"
      },
      "outputs": [
        {
          "name": "stdout",
          "output_type": "stream",
          "text": [
            "Solver status: ok\n",
            "Solver termination condition: optimal\n"
          ]
        }
      ],
      "source": [
        "result = opt_cbc.solve(model)\n",
        "print('Solver status:', result.solver.status)\n",
        "print('Solver termination condition:',result.solver.termination_condition)"
      ]
    },
    {
      "cell_type": "code",
      "execution_count": 314,
      "metadata": {
        "colab": {
          "base_uri": "https://localhost:8080/"
        },
        "id": "CfZgZWehE-Os",
        "outputId": "ed657429-3b69-4f46-b090-8ad94be11ddc"
      },
      "outputs": [
        {
          "name": "stdout",
          "output_type": "stream",
          "text": [
            "\n",
            "Assigning Cost:  203.0\n",
            "Factory 1 is located at Location 7\n",
            "Factory 2 is located at Location 2\n",
            "Factory 3 is located at Location 5\n",
            "Factory 4 is located at Location 1\n",
            "Factory 5 is located at Location 11\n",
            "Factory 6 is located at Location 3\n",
            "Factory 7 is located at Location 6\n",
            "Factory 8 is located at Location 4\n",
            "Factory 9 is located at Location 10\n",
            "Factory 10 is located at Location 12\n",
            "Factory 11 is located at Location 9\n",
            "Factory 12 is located at Location 8\n"
          ]
        }
      ],
      "source": [
        "#display solution\n",
        "print('\\nAssigning Cost: ', model.objective())\n",
        "for i in row_indices:\n",
        "  for j in col_indices:\n",
        "    if model.x[i,j].value!=0:\n",
        "      print('Factory',i+1,'is located at Location',j+1)"
      ]
    },
    {
      "cell_type": "markdown",
      "metadata": {
        "id": "-4031gidwiUs"
      },
      "source": [
        "$The \\;assigning\\; cost\\; is\\; same\\; as \\;before\\; because,\\;in\\; the \\;first \\;solution,\\; the\\; particular \\;factories\\; weren't \\;assigned \\;to\\; that \\;particular \\;locations\\; which \\;is \\;mentioned \\;in\\; Q.12.\\; It\\; is\\; just\\; a\\; coincidense.$"
      ]
    }
  ],
  "metadata": {
    "colab": {
      "name": "21i190007_IE507_Lab5_Ex2.ipynb",
      "provenance": []
    },
    "kernelspec": {
      "display_name": "Python 3",
      "name": "python3"
    },
    "language_info": {
      "name": "python"
    }
  },
  "nbformat": 4,
  "nbformat_minor": 0
}
