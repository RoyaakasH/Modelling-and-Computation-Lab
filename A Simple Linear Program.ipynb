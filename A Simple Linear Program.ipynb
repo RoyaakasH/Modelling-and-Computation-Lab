{
  "nbformat": 4,
  "nbformat_minor": 0,
  "metadata": {
    "colab": {
      "name": "21i190007_IE507_Lab1.ipynb",
      "provenance": []
    },
    "kernelspec": {
      "name": "python3",
      "display_name": "Python 3"
    },
    "language_info": {
      "name": "python"
    }
  },
  "cells": [
    {
      "cell_type": "markdown",
      "metadata": {
        "id": "-FFl3Oqd0K7L"
      },
      "source": [
        "$Exercise\\; 1$ \\\\\n",
        "$The \\;given\\;optimization\\;problem\\;is:$\n",
        "$$min\\qquad 2x_1 - 5x_2 + 14x_3 + 7x_4 -11x_5 + 0.17x_6 - 10.2x_7$$\n",
        "$$Subject\\; to\\;,\\qquad\n",
        "\\sum_{i=1}^{7}x_i=280$$\n",
        "$$x_1 - x_2\\geq10$$\n",
        "$$-3x_3+x_6-3x_7\\leq205$$\n",
        "$$20x_1 + 42x_6 +x_5\\geq35$$\n",
        "$$x_2 -x_3 +4x_7\\geq24$$\n",
        "$$x_1\\geq12$$\n",
        "$$x_2\\geq0$$\n",
        "$$x_3\\geq-5$$\n",
        "$$x_4\\geq3$$\n",
        "$$x_5\\geq10$$\n",
        "$$x_6\\geq-4$$\n",
        "$$x_7\\geq0$$"
      ]
    },
    {
      "cell_type": "markdown",
      "metadata": {
        "id": "lSc3hxyUuUNl"
      },
      "source": [
        "$1.\\; Solving \\;the \\;Optimization \\;Problem$"
      ]
    },
    {
      "cell_type": "code",
      "metadata": {
        "colab": {
          "base_uri": "https://localhost:8080/"
        },
        "id": "T5QaRT2aax9H",
        "outputId": "822cc299-5f68-4dba-ed31-9e0d7b814d0f"
      },
      "source": [
        "!pip install -q pyomo\n",
        "from pyomo.environ import *"
      ],
      "execution_count": 1,
      "outputs": [
        {
          "output_type": "stream",
          "text": [
            "\u001b[K     |████████████████████████████████| 8.9 MB 4.8 MB/s \n",
            "\u001b[K     |████████████████████████████████| 49 kB 4.2 MB/s \n",
            "\u001b[?25h"
          ],
          "name": "stdout"
        }
      ]
    },
    {
      "cell_type": "code",
      "metadata": {
        "id": "X5jgNEEfd1nL"
      },
      "source": [
        "# Creating a model\n",
        "ex1 = ConcreteModel()"
      ],
      "execution_count": 2,
      "outputs": []
    },
    {
      "cell_type": "code",
      "metadata": {
        "id": "f4RB9XPZd5Ub"
      },
      "source": [
        "# declare decision variables\n",
        "ex1.x1 = Var(domain=Reals)\n",
        "ex1.x2 = Var(domain=Reals)\n",
        "ex1.x3 = Var(domain=Reals)\n",
        "ex1.x4 = Var(domain=Reals)\n",
        "ex1.x5 = Var(domain=Reals)\n",
        "ex1.x6 = Var(domain=Reals)\n",
        "ex1.x7 = Var(domain=Reals)"
      ],
      "execution_count": 3,
      "outputs": []
    },
    {
      "cell_type": "code",
      "metadata": {
        "id": "YJuvIKPCd8kp"
      },
      "source": [
        "# Declaring objective\n",
        "ex1.obj = Objective(expr = 2*ex1.x1 - 5*ex1.x2 + 14*ex1.x3 + 7*ex1.x4 - 11*ex1.x5 + 0.17*ex1.x6 - 10.2*ex1.x7, sense=minimize)"
      ],
      "execution_count": 4,
      "outputs": []
    },
    {
      "cell_type": "code",
      "metadata": {
        "id": "-3fS9lLkeBcT"
      },
      "source": [
        "# Declaring Constraints\n",
        "ex1.con1 = Constraint(expr = ex1.x1 + ex1.x2 + ex1.x3 + ex1.x4 + ex1.x5 + ex1.x6 + ex1.x7 ==280)\n",
        "ex1.con2 = Constraint(expr = ex1.x1 - ex1.x2 >=10)\n",
        "ex1.con3 = Constraint(expr = -3*ex1.x3 + ex1.x6 -3*ex1.x7 <=205)\n",
        "ex1.con4 = Constraint(expr = 20*ex1.x1 + 42*ex1.x6 + ex1.x5 >=35)\n",
        "ex1.con5 = Constraint(expr = ex1.x2 -1*ex1.x3 + 4*ex1.x7 >=24)\n",
        "ex1.con6 = Constraint(expr = ex1.x1 >=12)\n",
        "ex1.con7 = Constraint(expr = ex1.x2 >=0)\n",
        "ex1.con8 = Constraint(expr = ex1.x3 >=-5)\n",
        "ex1.con9 = Constraint(expr = ex1.x4 >=3)\n",
        "ex1.con10 = Constraint(expr = ex1.x5 >=10)\n",
        "ex1.con11 = Constraint(expr = ex1.x6 >=-4)\n",
        "ex1.con12 = Constraint(expr = ex1.x7 >=0)"
      ],
      "execution_count": 5,
      "outputs": []
    },
    {
      "cell_type": "code",
      "metadata": {
        "colab": {
          "base_uri": "https://localhost:8080/"
        },
        "id": "LThubvYUeE5q",
        "outputId": "158f1b34-25bc-449f-d6aa-2c496425c896"
      },
      "source": [
        "ex1.pprint()"
      ],
      "execution_count": 6,
      "outputs": [
        {
          "output_type": "stream",
          "text": [
            "7 Var Declarations\n",
            "    x1 : Size=1, Index=None\n",
            "        Key  : Lower : Value : Upper : Fixed : Stale : Domain\n",
            "        None :  None :  None :  None : False :  True :  Reals\n",
            "    x2 : Size=1, Index=None\n",
            "        Key  : Lower : Value : Upper : Fixed : Stale : Domain\n",
            "        None :  None :  None :  None : False :  True :  Reals\n",
            "    x3 : Size=1, Index=None\n",
            "        Key  : Lower : Value : Upper : Fixed : Stale : Domain\n",
            "        None :  None :  None :  None : False :  True :  Reals\n",
            "    x4 : Size=1, Index=None\n",
            "        Key  : Lower : Value : Upper : Fixed : Stale : Domain\n",
            "        None :  None :  None :  None : False :  True :  Reals\n",
            "    x5 : Size=1, Index=None\n",
            "        Key  : Lower : Value : Upper : Fixed : Stale : Domain\n",
            "        None :  None :  None :  None : False :  True :  Reals\n",
            "    x6 : Size=1, Index=None\n",
            "        Key  : Lower : Value : Upper : Fixed : Stale : Domain\n",
            "        None :  None :  None :  None : False :  True :  Reals\n",
            "    x7 : Size=1, Index=None\n",
            "        Key  : Lower : Value : Upper : Fixed : Stale : Domain\n",
            "        None :  None :  None :  None : False :  True :  Reals\n",
            "\n",
            "1 Objective Declarations\n",
            "    obj : Size=1, Index=None, Active=True\n",
            "        Key  : Active : Sense    : Expression\n",
            "        None :   True : minimize : 2*x1 - 5*x2 + 14*x3 + 7*x4 - 11*x5 + 0.17*x6 - 10.2*x7\n",
            "\n",
            "12 Constraint Declarations\n",
            "    con1 : Size=1, Index=None, Active=True\n",
            "        Key  : Lower : Body                             : Upper : Active\n",
            "        None : 280.0 : x1 + x2 + x3 + x4 + x5 + x6 + x7 : 280.0 :   True\n",
            "    con10 : Size=1, Index=None, Active=True\n",
            "        Key  : Lower : Body : Upper : Active\n",
            "        None :  10.0 :   x5 :  +Inf :   True\n",
            "    con11 : Size=1, Index=None, Active=True\n",
            "        Key  : Lower : Body : Upper : Active\n",
            "        None :  -4.0 :   x6 :  +Inf :   True\n",
            "    con12 : Size=1, Index=None, Active=True\n",
            "        Key  : Lower : Body : Upper : Active\n",
            "        None :   0.0 :   x7 :  +Inf :   True\n",
            "    con2 : Size=1, Index=None, Active=True\n",
            "        Key  : Lower : Body    : Upper : Active\n",
            "        None :  10.0 : x1 - x2 :  +Inf :   True\n",
            "    con3 : Size=1, Index=None, Active=True\n",
            "        Key  : Lower : Body              : Upper : Active\n",
            "        None :  -Inf : -3*x3 + x6 - 3*x7 : 205.0 :   True\n",
            "    con4 : Size=1, Index=None, Active=True\n",
            "        Key  : Lower : Body               : Upper : Active\n",
            "        None :  35.0 : 20*x1 + 42*x6 + x5 :  +Inf :   True\n",
            "    con5 : Size=1, Index=None, Active=True\n",
            "        Key  : Lower : Body           : Upper : Active\n",
            "        None :  24.0 : x2 - x3 + 4*x7 :  +Inf :   True\n",
            "    con6 : Size=1, Index=None, Active=True\n",
            "        Key  : Lower : Body : Upper : Active\n",
            "        None :  12.0 :   x1 :  +Inf :   True\n",
            "    con7 : Size=1, Index=None, Active=True\n",
            "        Key  : Lower : Body : Upper : Active\n",
            "        None :   0.0 :   x2 :  +Inf :   True\n",
            "    con8 : Size=1, Index=None, Active=True\n",
            "        Key  : Lower : Body : Upper : Active\n",
            "        None :  -5.0 :   x3 :  +Inf :   True\n",
            "    con9 : Size=1, Index=None, Active=True\n",
            "        Key  : Lower : Body : Upper : Active\n",
            "        None :   3.0 :   x4 :  +Inf :   True\n",
            "\n",
            "20 Declarations: x1 x2 x3 x4 x5 x6 x7 obj con1 con2 con3 con4 con5 con6 con7 con8 con9 con10 con11 con12\n"
          ],
          "name": "stdout"
        }
      ]
    },
    {
      "cell_type": "code",
      "metadata": {
        "id": "5k_VBjIZesjg",
        "colab": {
          "base_uri": "https://localhost:8080/"
        },
        "outputId": "8507b37c-c7d4-46aa-fcce-9b7729230c30"
      },
      "source": [
        "!apt-get install -y -qq glpk-utils"
      ],
      "execution_count": 7,
      "outputs": [
        {
          "output_type": "stream",
          "text": [
            "Selecting previously unselected package libsuitesparseconfig5:amd64.\n",
            "(Reading database ... 160837 files and directories currently installed.)\n",
            "Preparing to unpack .../libsuitesparseconfig5_1%3a5.1.2-2_amd64.deb ...\n",
            "Unpacking libsuitesparseconfig5:amd64 (1:5.1.2-2) ...\n",
            "Selecting previously unselected package libamd2:amd64.\n",
            "Preparing to unpack .../libamd2_1%3a5.1.2-2_amd64.deb ...\n",
            "Unpacking libamd2:amd64 (1:5.1.2-2) ...\n",
            "Selecting previously unselected package libcolamd2:amd64.\n",
            "Preparing to unpack .../libcolamd2_1%3a5.1.2-2_amd64.deb ...\n",
            "Unpacking libcolamd2:amd64 (1:5.1.2-2) ...\n",
            "Selecting previously unselected package libglpk40:amd64.\n",
            "Preparing to unpack .../libglpk40_4.65-1_amd64.deb ...\n",
            "Unpacking libglpk40:amd64 (4.65-1) ...\n",
            "Selecting previously unselected package glpk-utils.\n",
            "Preparing to unpack .../glpk-utils_4.65-1_amd64.deb ...\n",
            "Unpacking glpk-utils (4.65-1) ...\n",
            "Setting up libsuitesparseconfig5:amd64 (1:5.1.2-2) ...\n",
            "Setting up libcolamd2:amd64 (1:5.1.2-2) ...\n",
            "Setting up libamd2:amd64 (1:5.1.2-2) ...\n",
            "Setting up libglpk40:amd64 (4.65-1) ...\n",
            "Setting up glpk-utils (4.65-1) ...\n",
            "Processing triggers for libc-bin (2.27-3ubuntu1.2) ...\n",
            "/sbin/ldconfig.real: /usr/local/lib/python3.7/dist-packages/ideep4py/lib/libmkldnn.so.0 is not a symbolic link\n",
            "\n",
            "Processing triggers for man-db (2.8.3-2ubuntu0.1) ...\n"
          ],
          "name": "stdout"
        }
      ]
    },
    {
      "cell_type": "code",
      "metadata": {
        "colab": {
          "base_uri": "https://localhost:8080/"
        },
        "id": "Ez__DankexCp",
        "outputId": "8bcba026-5608-4f7a-bf24-0bfd0477216b"
      },
      "source": [
        "SolverFactory('glpk', executable='/usr/bin/glpsol').solve(ex1).write()"
      ],
      "execution_count": 8,
      "outputs": [
        {
          "output_type": "stream",
          "text": [
            "# ==========================================================\n",
            "# = Solver Results                                         =\n",
            "# ==========================================================\n",
            "# ----------------------------------------------------------\n",
            "#   Problem Information\n",
            "# ----------------------------------------------------------\n",
            "Problem: \n",
            "- Name: unknown\n",
            "  Lower bound: -3035.88\n",
            "  Upper bound: -3035.88\n",
            "  Number of objectives: 1\n",
            "  Number of constraints: 13\n",
            "  Number of variables: 8\n",
            "  Number of nonzeros: 26\n",
            "  Sense: minimize\n",
            "# ----------------------------------------------------------\n",
            "#   Solver Information\n",
            "# ----------------------------------------------------------\n",
            "Solver: \n",
            "- Status: ok\n",
            "  Termination condition: optimal\n",
            "  Statistics: \n",
            "    Branch and bound: \n",
            "      Number of bounded subproblems: 0\n",
            "      Number of created subproblems: 0\n",
            "  Error rc: 0\n",
            "  Time: 0.010315895080566406\n",
            "# ----------------------------------------------------------\n",
            "#   Solution Information\n",
            "# ----------------------------------------------------------\n",
            "Solution: \n",
            "- number of solutions: 0\n",
            "  number of solutions displayed: 0\n"
          ],
          "name": "stdout"
        }
      ]
    },
    {
      "cell_type": "code",
      "metadata": {
        "colab": {
          "base_uri": "https://localhost:8080/"
        },
        "id": "PC4bKvrWe1Ao",
        "outputId": "18fe6b9e-0350-4a1c-d723-8194388e5d2c"
      },
      "source": [
        "# display solution\n",
        "print('\\nObjective = ', ex1.obj())\n",
        "\n",
        "print('\\nDecision Variables')\n",
        "print('x1 = ', ex1.x1())\n",
        "print('x2 = ', ex1.x2())\n",
        "print('x3 = ', ex1.x3())\n",
        "print('x4 = ', ex1.x4())\n",
        "print('x5 = ', ex1.x5())\n",
        "print('x6 = ', ex1.x6())\n",
        "print('x7 = ', ex1.x7())\n",
        "\n",
        "print('\\nConstraints')\n",
        "print('Constraint 1  = ', ex1.con1())\n",
        "print('Constraint 2  = ', ex1.con2())\n",
        "print('Constraint 3  = ', ex1.con3())\n",
        "print('Constraint 4  = ', ex1.con4())\n",
        "print('Constraint 5  = ', ex1.con5())\n",
        "print('Constraint 6  = ', ex1.con6())\n",
        "print('Constraint 7  = ', ex1.con7())\n",
        "print('Constraint 8  = ', ex1.con8())\n",
        "print('Constraint 9  = ', ex1.con9())\n",
        "print('Constraint 10  = ', ex1.con10())\n",
        "print('Constraint 11  = ', ex1.con11())\n",
        "print('Constraint 11  = ', ex1.con12())"
      ],
      "execution_count": 9,
      "outputs": [
        {
          "output_type": "stream",
          "text": [
            "\n",
            "Objective =  -3035.8799999999997\n",
            "\n",
            "Decision Variables\n",
            "x1 =  12.0\n",
            "x2 =  0.0\n",
            "x3 =  -5.0\n",
            "x4 =  3.0\n",
            "x5 =  269.25\n",
            "x6 =  -4.0\n",
            "x7 =  4.75\n",
            "\n",
            "Constraints\n",
            "Constraint 1  =  280.0\n",
            "Constraint 2  =  12.0\n",
            "Constraint 3  =  -3.25\n",
            "Constraint 4  =  341.25\n",
            "Constraint 5  =  24.0\n",
            "Constraint 6  =  12.0\n",
            "Constraint 7  =  0.0\n",
            "Constraint 8  =  -5.0\n",
            "Constraint 9  =  3.0\n",
            "Constraint 10  =  269.25\n",
            "Constraint 11  =  -4.0\n",
            "Constraint 11  =  4.75\n"
          ],
          "name": "stdout"
        }
      ]
    },
    {
      "cell_type": "markdown",
      "metadata": {
        "id": "e7DFvHGqqErl"
      },
      "source": [
        "$2.\\; Values\\;of\\;constraints:$\n",
        "$$\\sum_{i=1}^{7}x_i=280\\qquad=280$$\n",
        "$$x_1 - x_2=12 \\qquad\\geq10$$\n",
        "$$-3x_3+x_6-3x_7=-3.25 \\qquad\\leq205$$\n",
        "$$20x_1 + 42x_6 +x_5=341.25 \\qquad\\geq35$$\n",
        "$$x_2 -x_3 +4x_7=24 \\qquad\\geq24$$\n",
        "$$x_1=12 \\qquad\\geq12$$\n",
        "$$x_2=0 \\qquad\\geq0$$\n",
        "$$x_3=-5 \\qquad\\geq-5$$\n",
        "$$x_4=3 \\qquad\\geq3$$\n",
        "$$x_5=269.25 \\qquad\\geq10$$\n",
        "$$x_6=-4 \\qquad\\geq-4$$\n",
        "$$x_7=4.75 \\qquad\\geq0$$\n",
        "$$Hence,\\; all\\; the\\; constraints\\; are\\; satisfied.$$ \\\\\n",
        "$3.\\;Objective \\;function \\;value =-3035.88,\\;x_1=12,\\;x_2=0,\\;x_3=-5,\\;x_4=3,\\;x_5=269.25,\\;x_6=-4,\\;x_7=4.75,\\;Optimal Point=(12,\\;0,\\;-5,\\;3,\\;269.25,\\;-4,\\;4.75)$ \\\\\n",
        "$4.\\;For\\;the \\;first\\; 4\\;constraints,\\; only\\;first \\;constraints\\;i.e\\;\\sum_{i=1}^{7}x_i=280,\\;satisfied\\;the \\;equality.$"
      ]
    },
    {
      "cell_type": "markdown",
      "metadata": {
        "id": "A1ouYAxvxcZh"
      },
      "source": [
        "$Exercise\\; 2$\n",
        "$$max\\qquad 0.043x_1 + 0.027x_2 + 0.025x_3 + 0.022x_4 + 0.045x_5 - 0.0275y$$\n",
        "$$Subject\\; to \\;,\\qquad x_1 + 3x_2 + x_3 + 7x_4 +x_5 -y\\leq100$$\n",
        "$$x_2+2x_3+4x_4\\geq60$$\n",
        "$$\\frac{2x_1+2x_2+x_3+x_4+5x_5}{x_1 - x_2 + x_3 -x_4 + x_5}\\leq2.8$$\n",
        "$$\\frac{2x_1+15x_2+4x_3+3x_4-8x_5}{x_1 + x_2 + x_3 - x_5}\\leq3$$\n",
        "$$x_1,\\;x_2,\\;x_3,\\;x_4,\\;x_5\\geq0$$\n",
        "$$y\\in[0,\\;2.25]$$"
      ]
    },
    {
      "cell_type": "markdown",
      "metadata": {
        "id": "-URM2dth30yW"
      },
      "source": [
        "$1.\\;Rewriting\\; the\\; given\\; problem\\; as$\n",
        "$$max\\qquad 0.043x_1 + 0.027x_2 + 0.025x_3 + 0.022x_4 + 0.045x_5 - 0.0275y$$\n",
        "$$Subject\\; to \\;,\\qquad x_1 + 3x_2 + x_3 + 7x_4 +x_5 -y\\leq100$$\n",
        "$$x_2+2x_3+4x_4\\geq60$$\n",
        "$$-0.8x_1+4.8x_2-1.8x_3+3.8x_4+2.2x_5\\geq0$$\n",
        "$$-x_1+12x_2+x_3+3x_4-5x_5\\leq0$$\n",
        "$$x_1\\geq0$$\n",
        "$$x_2\\geq0$$\n",
        "$$x_3\\geq0$$\n",
        "$$x_4\\geq0$$\n",
        "$$x_5\\geq0$$\n",
        "$$y\\geq0$$\n",
        "$$y\\leq2.25$$\n",
        "$Asumptions$ \\\\\n",
        "$x_1 - x_2 + x_3 -x_4 + x_5 <  0$ \\\\\n",
        "$x_1 + x_2 + x_3 - x_5 > 0$ \\\\\n",
        "$Since,\\;the\\;denominator\\;of\\;the\\;following\\;constraints\\;\\frac{2x_1+2x_2+x_3+x_4+5x_5}{x_1 - x_2 + x_3 -x_4 + x_5}\\leq0,\\; \\frac{2x_1+15x_2+4x_3+3x_4-8x_5}{x_1 + x_2 + x_3 - x_5}\\leq0 \\;are\\; not\\; defined,\\;and\\;as\\;they\\;can\\;not\\;be\\;0,\\;\\;so\\;can\\;we\\;choose\\;any\\;of\\;the \\;following..$ \\\\ \n",
        "$x_1 - x_2 + x_3 -x_4 + x_5 >  0,\\;x_1 + x_2 + x_3 - x_5 > 0;\\;In\\;this\\;case\\;the\\;constraint\\;3\\;is\\;not\\;satisfied.$ \\\\\n",
        "$or\\;x_1 - x_2 + x_3 -x_4 + x_5 <  0,\\;x_1 + x_2 + x_3 - x_5 < 0;\\;In\\;this\\;case\\;constraints\\;2,\\;3\\;4\\;are\\;not\\;satisfied..$ \\\\\n",
        "$or\\;x_1 - x_2 + x_3 -x_4 + x_5 >  0,\\;x_1 + x_2 + x_3 - x_5 < 0;\\;In\\;this\\;case\\;the\\;constraints\\;2,\\;3\\;4\\;are\\;not\\;satisfied.$ \\\\\n",
        "$or\\;x_1 - x_2 + x_3 -x_4 + x_5 <  0,\\;x_1 + x_2 + x_3 - x_5 > 0;\\;Only\\;in\\;this\\;case,\\;all\\;the\\;constraints\\;are\\;satisfied.\\;$ \\\\"
      ]
    },
    {
      "cell_type": "markdown",
      "metadata": {
        "id": "zwNtHLXIBS-c"
      },
      "source": [
        "$2.\\; Solving \\;the \\;Optimization \\;Problem$"
      ]
    },
    {
      "cell_type": "code",
      "metadata": {
        "id": "bJFHRVS16Nvi"
      },
      "source": [
        "# Creating a model\n",
        "ex2 = ConcreteModel()"
      ],
      "execution_count": 10,
      "outputs": []
    },
    {
      "cell_type": "code",
      "metadata": {
        "id": "iFNrk2I56z2O"
      },
      "source": [
        "# declare decision variables\n",
        "ex2.x1 = Var(domain=Reals)\n",
        "ex2.x2 = Var(domain=Reals)\n",
        "ex2.x3 = Var(domain=Reals)\n",
        "ex2.x4 = Var(domain=Reals)\n",
        "ex2.x5 = Var(domain=Reals)\n",
        "ex2.y = Var(domain=Reals)"
      ],
      "execution_count": 11,
      "outputs": []
    },
    {
      "cell_type": "code",
      "metadata": {
        "id": "nYieCtB37ABd"
      },
      "source": [
        "# Declaring objective\n",
        "ex2.obj = Objective(expr = 0.043*ex2.x1 + 0.027*ex2.x2 + 0.025*ex2.x3 + 0.022*ex2.x4 + 0.045*ex2.x5 - 0.0275*ex2.y, sense=maximize)"
      ],
      "execution_count": 12,
      "outputs": []
    },
    {
      "cell_type": "code",
      "metadata": {
        "id": "fWtCoD-G7huv"
      },
      "source": [
        "# Declaring Constraints\n",
        "ex2.con1 = Constraint(expr = ex2.x1 + 3*ex2.x2 + ex2.x3 + 7*ex2.x4 + ex2.x5 - ex2.y <=100)\n",
        "ex2.con2 = Constraint(expr = ex2.x2 + 2*ex2.x3 + 4*ex2.x4 >=60)\n",
        "ex2.con3 = Constraint(expr = -0.8*ex2.x1 + 4.8*ex2.x2 -1.8*ex2.x3 + 3.8*ex2.x4 + 2.2*ex2.x5 >=0)\n",
        "ex2.con4 = Constraint(expr = -1*ex2.x1 + 12*ex2.x2 + ex2.x3 +3*ex2.x4 -5*ex2.x5 <=0)\n",
        "ex2.con5 = Constraint(expr = ex2.x1 >=0)\n",
        "ex2.con6 = Constraint(expr = ex2.x2 >=0)\n",
        "ex2.con7 = Constraint(expr = ex2.x3 >=0)\n",
        "ex2.con8 = Constraint(expr = ex2.x4 >=0)\n",
        "ex2.con9 = Constraint(expr = ex2.x5 >=0)\n",
        "ex2.con10 = Constraint(expr = ex2.y >=0)\n",
        "ex2.con11 = Constraint(expr = ex2.y <=2.25)"
      ],
      "execution_count": 13,
      "outputs": []
    },
    {
      "cell_type": "code",
      "metadata": {
        "colab": {
          "base_uri": "https://localhost:8080/"
        },
        "id": "4IsrkT_DA5MZ",
        "outputId": "8c66ab71-b156-4071-c32a-1dc0754b2dbf"
      },
      "source": [
        "ex2.pprint()"
      ],
      "execution_count": 14,
      "outputs": [
        {
          "output_type": "stream",
          "text": [
            "6 Var Declarations\n",
            "    x1 : Size=1, Index=None\n",
            "        Key  : Lower : Value : Upper : Fixed : Stale : Domain\n",
            "        None :  None :  None :  None : False :  True :  Reals\n",
            "    x2 : Size=1, Index=None\n",
            "        Key  : Lower : Value : Upper : Fixed : Stale : Domain\n",
            "        None :  None :  None :  None : False :  True :  Reals\n",
            "    x3 : Size=1, Index=None\n",
            "        Key  : Lower : Value : Upper : Fixed : Stale : Domain\n",
            "        None :  None :  None :  None : False :  True :  Reals\n",
            "    x4 : Size=1, Index=None\n",
            "        Key  : Lower : Value : Upper : Fixed : Stale : Domain\n",
            "        None :  None :  None :  None : False :  True :  Reals\n",
            "    x5 : Size=1, Index=None\n",
            "        Key  : Lower : Value : Upper : Fixed : Stale : Domain\n",
            "        None :  None :  None :  None : False :  True :  Reals\n",
            "    y : Size=1, Index=None\n",
            "        Key  : Lower : Value : Upper : Fixed : Stale : Domain\n",
            "        None :  None :  None :  None : False :  True :  Reals\n",
            "\n",
            "1 Objective Declarations\n",
            "    obj : Size=1, Index=None, Active=True\n",
            "        Key  : Active : Sense    : Expression\n",
            "        None :   True : maximize : 0.043*x1 + 0.027*x2 + 0.025*x3 + 0.022*x4 + 0.045*x5 - 0.0275*y\n",
            "\n",
            "11 Constraint Declarations\n",
            "    con1 : Size=1, Index=None, Active=True\n",
            "        Key  : Lower : Body                           : Upper : Active\n",
            "        None :  -Inf : x1 + 3*x2 + x3 + 7*x4 + x5 - y : 100.0 :   True\n",
            "    con10 : Size=1, Index=None, Active=True\n",
            "        Key  : Lower : Body : Upper : Active\n",
            "        None :   0.0 :    y :  +Inf :   True\n",
            "    con11 : Size=1, Index=None, Active=True\n",
            "        Key  : Lower : Body : Upper : Active\n",
            "        None :  -Inf :    y :  2.25 :   True\n",
            "    con2 : Size=1, Index=None, Active=True\n",
            "        Key  : Lower : Body             : Upper : Active\n",
            "        None :  60.0 : x2 + 2*x3 + 4*x4 :  +Inf :   True\n",
            "    con3 : Size=1, Index=None, Active=True\n",
            "        Key  : Lower : Body                                        : Upper : Active\n",
            "        None :   0.0 : -0.8*x1 + 4.8*x2 - 1.8*x3 + 3.8*x4 + 2.2*x5 :  +Inf :   True\n",
            "    con4 : Size=1, Index=None, Active=True\n",
            "        Key  : Lower : Body                            : Upper : Active\n",
            "        None :  -Inf : - x1 + 12*x2 + x3 + 3*x4 - 5*x5 :   0.0 :   True\n",
            "    con5 : Size=1, Index=None, Active=True\n",
            "        Key  : Lower : Body : Upper : Active\n",
            "        None :   0.0 :   x1 :  +Inf :   True\n",
            "    con6 : Size=1, Index=None, Active=True\n",
            "        Key  : Lower : Body : Upper : Active\n",
            "        None :   0.0 :   x2 :  +Inf :   True\n",
            "    con7 : Size=1, Index=None, Active=True\n",
            "        Key  : Lower : Body : Upper : Active\n",
            "        None :   0.0 :   x3 :  +Inf :   True\n",
            "    con8 : Size=1, Index=None, Active=True\n",
            "        Key  : Lower : Body : Upper : Active\n",
            "        None :   0.0 :   x4 :  +Inf :   True\n",
            "    con9 : Size=1, Index=None, Active=True\n",
            "        Key  : Lower : Body : Upper : Active\n",
            "        None :   0.0 :   x5 :  +Inf :   True\n",
            "\n",
            "18 Declarations: x1 x2 x3 x4 x5 y obj con1 con2 con3 con4 con5 con6 con7 con8 con9 con10 con11\n"
          ],
          "name": "stdout"
        }
      ]
    },
    {
      "cell_type": "code",
      "metadata": {
        "colab": {
          "base_uri": "https://localhost:8080/"
        },
        "id": "3jQurmubBCHp",
        "outputId": "301997f8-babb-4627-d231-f681a4d2f884"
      },
      "source": [
        "SolverFactory('glpk', executable='/usr/bin/glpsol').solve(ex2).write()"
      ],
      "execution_count": 15,
      "outputs": [
        {
          "output_type": "stream",
          "text": [
            "# ==========================================================\n",
            "# = Solver Results                                         =\n",
            "# ==========================================================\n",
            "# ----------------------------------------------------------\n",
            "#   Problem Information\n",
            "# ----------------------------------------------------------\n",
            "Problem: \n",
            "- Name: unknown\n",
            "  Lower bound: 3.939375\n",
            "  Upper bound: 3.939375\n",
            "  Number of objectives: 1\n",
            "  Number of constraints: 12\n",
            "  Number of variables: 7\n",
            "  Number of nonzeros: 27\n",
            "  Sense: maximize\n",
            "# ----------------------------------------------------------\n",
            "#   Solver Information\n",
            "# ----------------------------------------------------------\n",
            "Solver: \n",
            "- Status: ok\n",
            "  Termination condition: optimal\n",
            "  Statistics: \n",
            "    Branch and bound: \n",
            "      Number of bounded subproblems: 0\n",
            "      Number of created subproblems: 0\n",
            "  Error rc: 0\n",
            "  Time: 0.03363656997680664\n",
            "# ----------------------------------------------------------\n",
            "#   Solution Information\n",
            "# ----------------------------------------------------------\n",
            "Solution: \n",
            "- number of solutions: 0\n",
            "  number of solutions displayed: 0\n"
          ],
          "name": "stdout"
        }
      ]
    },
    {
      "cell_type": "code",
      "metadata": {
        "colab": {
          "base_uri": "https://localhost:8080/"
        },
        "id": "aGSJKj6XBNTv",
        "outputId": "bbf22fa4-32be-444c-8ce6-30c29b27f385"
      },
      "source": [
        "# display solution\n",
        "print('\\nObjective = ', ex2.obj())\n",
        "\n",
        "print('\\nDecision Variables')\n",
        "print('x1 = ', ex2.x1())\n",
        "print('x2 = ', ex2.x2())\n",
        "print('x3 = ', ex2.x3())\n",
        "print('x4 = ', ex2.x4())\n",
        "print('x5 = ', ex2.x5())\n",
        "print('y = ', ex2.y())\n",
        "\n",
        "print('\\nConstraints')\n",
        "print('Constraint 1  = ', ex2.con1())\n",
        "print('Constraint 2  = ', ex2.con2())\n",
        "print('Constraint 3  = ', ex2.con3())\n",
        "print('Constraint 4  = ', ex2.con4())\n",
        "print('Constraint 5  = ', ex2.con5())\n",
        "print('Constraint 6  = ', ex2.con6())\n",
        "print('Constraint 7  = ', ex2.con7())\n",
        "print('Constraint 8  = ', ex2.con8())\n",
        "print('Constraint 9  = ', ex2.con9())\n",
        "print('Constraint 10  = ', ex2.con10())\n",
        "print('Constraint 11  = ', ex2.con11())"
      ],
      "execution_count": 16,
      "outputs": [
        {
          "output_type": "stream",
          "text": [
            "\n",
            "Objective =  3.939375000000004\n",
            "\n",
            "Decision Variables\n",
            "x1 =  0.0\n",
            "x2 =  0.0\n",
            "x3 =  30.0\n",
            "x4 =  0.0\n",
            "x5 =  72.2500000000001\n",
            "y =  2.25\n",
            "\n",
            "Constraints\n",
            "Constraint 1  =  100.0000000000001\n",
            "Constraint 2  =  60.0\n",
            "Constraint 3  =  104.95000000000024\n",
            "Constraint 4  =  -331.2500000000005\n",
            "Constraint 5  =  0.0\n",
            "Constraint 6  =  0.0\n",
            "Constraint 7  =  30.0\n",
            "Constraint 8  =  0.0\n",
            "Constraint 9  =  72.2500000000001\n",
            "Constraint 10  =  2.25\n",
            "Constraint 11  =  2.25\n"
          ],
          "name": "stdout"
        }
      ]
    },
    {
      "cell_type": "markdown",
      "metadata": {
        "id": "t9cqH0zHCMFg"
      },
      "source": [
        "$3.\\;Optimal\\;solution\\;value =3.939375000000004,\\;x_1=0,\\;x_2=0,\\;x_3=30,\\;x_4=0,\\;x_5=72.2500000000001,\\;y=2.25$ \\\\\n",
        "$Activities \\;of\\;constraints:$\n",
        "$$x_1 + 3x_2 + x_3 + 7x_4 +x_5 -y=100.0 \\qquad\\leq100$$\n",
        "$$x_2+2x_3+4x_4=60 \\qquad\\geq60$$\n",
        "$$-0.8x_1+4.8x_2-1.8x_3+3.8x_4+2.2x_5 =104.95000000000024 \\qquad\\geq0$$\n",
        "$$-x_1+12x_2+x_3+3x_4-5x_5=-331.2500000000005 \\qquad\\leq0$$\n",
        "$$x_1=0 \\qquad\\geq0$$\n",
        "$$x_2=0 \\qquad\\geq0$$\n",
        "$$x_3=30 \\qquad\\geq0$$\n",
        "$$x_4=0 \\qquad\\geq0$$\n",
        "$$x_5=72.2500000000001 \\qquad\\geq0$$\n",
        "$$y=2.25 \\qquad\\geq0$$\n",
        "$$y=2.25 \\qquad\\leq2.25$$\n",
        "$4.\\;Since,\\;the\\;denominator\\;of\\;the\\;following\\;constraints\\;\\frac{2x_1+2x_2+x_3+x_4+5x_5}{x_1 - x_2 + x_3 -x_4 + x_5}\\leq0,\\; \\frac{2x_1+15x_2+4x_3+3x_4-8x_5}{x_1 + x_2 + x_3 - x_5}\\leq0 \\;are\\; not\\; defined,\\;so,\\;we\\;can\\;modify\\;the\\;given\\;LPP\\;either\\;by\\;adding\\;two\\;constraints\\;as\\;x_1 - x_2 + x_3 -x_4 + x_5 \\neq0\\;and\\;x_1 + x_2 + x_3 - x_5\\neq0(this\\;will\\;again\\;require\\;asumptions)\\;or\\;we\\;can\\;remove\\;the\\;two\\;constraints\\;and\\;rewrite\\;the\\;problem\\;as:$ \\\\\n",
        "$$max\\qquad 0.043x_1 + 0.027x_2 + 0.025x_3 + 0.022x_4 + 0.045x_5 - 0.0275y$$\n",
        "$$Subject\\; to \\;,\\qquad x_1 + 3x_2 + x_3 + 7x_4 +x_5 -y\\leq100$$\n",
        "$$x_2+2x_3+4x_4\\geq60$$\n",
        "$$x_1,\\;x_2,\\;x_3,\\;x_4,\\;x_5\\geq0$$\n",
        "$$y\\in[0,\\;2.25]$$\n"
      ]
    },
    {
      "cell_type": "markdown",
      "metadata": {
        "id": "bblKI_z7DpuL"
      },
      "source": [
        "**Exercise 3**\n",
        "\n",
        "$1.\\;Let\\;x_1\\;and\\;x_2\\;be\\;the\\;production\\;amounts\\;of\\;P\\;and\\;Q\\;in\\;Kg\\;in\\;September.\\; Then, \\;the\\; objective\\;function\\;would\\;be:$\n",
        " $$min\\qquad\\;Production\\;Cost= 145x_1 + 280x_2$$\n",
        " $$Subject\\;to\\;,\\; x_1+x_2\\geq110+80+84$$\n",
        " $$\\implies  x_1+x_2\\geq274$$\n",
        " $$x_1\\geq84;$$\n",
        " $$x_2\\geq80;$$\n",
        " $$69x_1 + 55x_2\\leq25800 \\;(Time\\;is\\;converted\\;into\\;minutes)$$"
      ]
    },
    {
      "cell_type": "markdown",
      "metadata": {
        "id": "HBiAH4M_pKt7"
      },
      "source": [
        "$2.\\;Solving\\;the\\;optimization\\;problem$"
      ]
    },
    {
      "cell_type": "code",
      "metadata": {
        "id": "LY9p4iRafVDV"
      },
      "source": [
        "# Creating a model\n",
        "ex3 = ConcreteModel()"
      ],
      "execution_count": 17,
      "outputs": []
    },
    {
      "cell_type": "code",
      "metadata": {
        "id": "DhH8-fhOf0j-"
      },
      "source": [
        "# declare decision variables\n",
        "ex3.x1 = Var(domain=Reals)\n",
        "ex3.x2 = Var(domain=Reals)"
      ],
      "execution_count": 18,
      "outputs": []
    },
    {
      "cell_type": "code",
      "metadata": {
        "id": "z0cRaW76f4ZP"
      },
      "source": [
        "# Declaring objective\n",
        "ex3.obj = Objective(expr = 145*ex3.x1 + 280*ex3.x2, sense = minimize)"
      ],
      "execution_count": 19,
      "outputs": []
    },
    {
      "cell_type": "code",
      "metadata": {
        "id": "YZkxqzXhgXw1"
      },
      "source": [
        "#Declaring Constraints\n",
        "ex3.con1 = Constraint(expr = ex3.x1 + ex3.x2 >=274)\n",
        "ex3.con2 = Constraint(expr = ex3.x1 >=84)\n",
        "ex3.con3 = Constraint(expr = ex3.x2 >=80)\n",
        "ex3.con4 = Constraint(expr = 69*ex3.x1 + 55*ex3.x2 <=25800)"
      ],
      "execution_count": 20,
      "outputs": []
    },
    {
      "cell_type": "code",
      "metadata": {
        "colab": {
          "base_uri": "https://localhost:8080/"
        },
        "id": "YuYd3Gz_g_fW",
        "outputId": "7b2f44cf-20fc-4b22-a0ae-a84ae9ffb5cc"
      },
      "source": [
        "ex3.pprint()"
      ],
      "execution_count": 21,
      "outputs": [
        {
          "output_type": "stream",
          "text": [
            "2 Var Declarations\n",
            "    x1 : Size=1, Index=None\n",
            "        Key  : Lower : Value : Upper : Fixed : Stale : Domain\n",
            "        None :  None :  None :  None : False :  True :  Reals\n",
            "    x2 : Size=1, Index=None\n",
            "        Key  : Lower : Value : Upper : Fixed : Stale : Domain\n",
            "        None :  None :  None :  None : False :  True :  Reals\n",
            "\n",
            "1 Objective Declarations\n",
            "    obj : Size=1, Index=None, Active=True\n",
            "        Key  : Active : Sense    : Expression\n",
            "        None :   True : minimize : 145*x1 + 280*x2\n",
            "\n",
            "4 Constraint Declarations\n",
            "    con1 : Size=1, Index=None, Active=True\n",
            "        Key  : Lower : Body    : Upper : Active\n",
            "        None : 274.0 : x1 + x2 :  +Inf :   True\n",
            "    con2 : Size=1, Index=None, Active=True\n",
            "        Key  : Lower : Body : Upper : Active\n",
            "        None :  84.0 :   x1 :  +Inf :   True\n",
            "    con3 : Size=1, Index=None, Active=True\n",
            "        Key  : Lower : Body : Upper : Active\n",
            "        None :  80.0 :   x2 :  +Inf :   True\n",
            "    con4 : Size=1, Index=None, Active=True\n",
            "        Key  : Lower : Body          : Upper   : Active\n",
            "        None :  -Inf : 69*x1 + 55*x2 : 25800.0 :   True\n",
            "\n",
            "7 Declarations: x1 x2 obj con1 con2 con3 con4\n"
          ],
          "name": "stdout"
        }
      ]
    },
    {
      "cell_type": "code",
      "metadata": {
        "colab": {
          "base_uri": "https://localhost:8080/"
        },
        "id": "A20nTPnBhSkz",
        "outputId": "93114598-3d6a-405d-adc3-34b8b61f1326"
      },
      "source": [
        "SolverFactory('glpk', executable='/usr/bin/glpsol').solve(ex3).write()"
      ],
      "execution_count": 22,
      "outputs": [
        {
          "output_type": "stream",
          "text": [
            "# ==========================================================\n",
            "# = Solver Results                                         =\n",
            "# ==========================================================\n",
            "# ----------------------------------------------------------\n",
            "#   Problem Information\n",
            "# ----------------------------------------------------------\n",
            "Problem: \n",
            "- Name: unknown\n",
            "  Lower bound: 50530.0\n",
            "  Upper bound: 50530.0\n",
            "  Number of objectives: 1\n",
            "  Number of constraints: 5\n",
            "  Number of variables: 3\n",
            "  Number of nonzeros: 7\n",
            "  Sense: minimize\n",
            "# ----------------------------------------------------------\n",
            "#   Solver Information\n",
            "# ----------------------------------------------------------\n",
            "Solver: \n",
            "- Status: ok\n",
            "  Termination condition: optimal\n",
            "  Statistics: \n",
            "    Branch and bound: \n",
            "      Number of bounded subproblems: 0\n",
            "      Number of created subproblems: 0\n",
            "  Error rc: 0\n",
            "  Time: 0.023800134658813477\n",
            "# ----------------------------------------------------------\n",
            "#   Solution Information\n",
            "# ----------------------------------------------------------\n",
            "Solution: \n",
            "- number of solutions: 0\n",
            "  number of solutions displayed: 0\n"
          ],
          "name": "stdout"
        }
      ]
    },
    {
      "cell_type": "code",
      "metadata": {
        "colab": {
          "base_uri": "https://localhost:8080/"
        },
        "id": "K4CWT-dZhZip",
        "outputId": "50e599db-30fa-464f-cebd-8ea02b5b074f"
      },
      "source": [
        "# display solution\n",
        "print('\\nObjective = ', ex3.obj())\n",
        "\n",
        "print('\\nDecision Variables')\n",
        "print('x1 = ', ex3.x1())\n",
        "print('x2 = ', ex3.x2())\n",
        "\n",
        "print('\\nConstraints')\n",
        "print('Constraint 1  = ', ex3.con1())\n",
        "print('Constraint 2  = ', ex3.con2())\n",
        "print('Constraint 3  = ', ex3.con3())\n",
        "print('Constraint 4  = ', ex3.con4())"
      ],
      "execution_count": 23,
      "outputs": [
        {
          "output_type": "stream",
          "text": [
            "\n",
            "Objective =  50530.0\n",
            "\n",
            "Decision Variables\n",
            "x1 =  194.0\n",
            "x2 =  80.0\n",
            "\n",
            "Constraints\n",
            "Constraint 1  =  274.0\n",
            "Constraint 2  =  194.0\n",
            "Constraint 3  =  80.0\n",
            "Constraint 4  =  17786.0\n"
          ],
          "name": "stdout"
        }
      ]
    },
    {
      "cell_type": "markdown",
      "metadata": {
        "id": "MbzpodT6pRwZ"
      },
      "source": [
        "$3. \\;Optimal\\; Solution\\; Value=50530 (in\\; Rs.), \\;x_1=194Kgs,\\;x_2=80Kgs$ \\\\\n",
        "$Constraint Activities: $\n",
        "$$x_1+x_2=274\\qquad\\geq274;$$\n",
        " $$x_1=194\\qquad\\geq84;$$\n",
        " $$x_2=80\\qquad\\geq80;$$\n",
        " $$69x_1 + 55x_2=17786\\qquad\\leq25800 \\;(Time\\;is\\;converted\\;into\\;minutes)$$\n",
        " $All\\;the\\;constraints\\;are\\;satisfied\\;and\\;equality\\;holds\\;for\\;the \\;first\\;constraint.$ \\\\\n",
        " $4.\\; As\\;the\\;Maple\\;Industry\\;receives\\;another\\;order\\;of\\;102Kgs\\;of\\;product\\;P\\;and\\;117Kgs\\;of\\;product\\;Q,\\;then\\;they\\;need\\;to\\;produce\\;more\\;102Kgs\\;of\\;product\\;P\\;and\\;117Kgs\\;of\\;product\\;Q.\\;Wich\\;will\\;form\\;the\\;following\\;LPP...$\n",
        " $$min\\qquad\\;Production\\;Cost= 145x_1 + 280x_2$$\n",
        " $$Subject\\;to\\;,\\; x_1+x_2\\geq274+102+117$$\n",
        " $$Subject\\;to\\;,\\; x_1+x_2\\geq493$$\n",
        " $$x_1\\geq84+102;$$\n",
        "  $$\\implies x_1\\geq186;$$\n",
        " $$x_2\\geq80+117;$$\n",
        " $$\\implies x_2\\geq197;$$\n",
        " $$69x_1 + 55x_2\\leq25800 \\;(Time\\;is\\;converted\\;into\\;minutes)$$\n",
        " $5.\\;Solving\\;the\\;optimization\\;problem$"
      ]
    },
    {
      "cell_type": "code",
      "metadata": {
        "id": "fd95WW7AkAcd"
      },
      "source": [
        "# Creating a model \n",
        "ex3_2 = ConcreteModel()"
      ],
      "execution_count": 24,
      "outputs": []
    },
    {
      "cell_type": "code",
      "metadata": {
        "id": "rOf7pXMDkNSW"
      },
      "source": [
        "# declare decision variables\n",
        "ex3_2.x1 = Var(domain=Reals)\n",
        "ex3_2.x2 = Var(domain=Reals)"
      ],
      "execution_count": 25,
      "outputs": []
    },
    {
      "cell_type": "code",
      "metadata": {
        "id": "mw1TlHRdRRid"
      },
      "source": [
        "# Declaring objective\n",
        "ex3_2.obj = Objective(expr = 145*ex3_2.x1 + 280*ex3_2.x2, sense = minimize)"
      ],
      "execution_count": 26,
      "outputs": []
    },
    {
      "cell_type": "code",
      "metadata": {
        "id": "EIhtDDWSRZza"
      },
      "source": [
        "#Declaring Constraints\n",
        "ex3_2.con1 = Constraint(expr = ex3_2.x1 + ex3_2.x2 >=493)\n",
        "ex3_2.con2 = Constraint(expr = ex3_2.x1 >=186)\n",
        "ex3_2.con3 = Constraint(expr = ex3_2.x2 >=197)\n",
        "ex3_2.con4 = Constraint(expr = 69*ex3_2.x1 + 55*ex3_2.x2 <=25800)"
      ],
      "execution_count": 27,
      "outputs": []
    },
    {
      "cell_type": "code",
      "metadata": {
        "colab": {
          "base_uri": "https://localhost:8080/"
        },
        "id": "Jr_1WTJQRq5l",
        "outputId": "75d23c89-6687-46f8-aa76-250106f91e12"
      },
      "source": [
        "ex3_2.pprint()"
      ],
      "execution_count": 28,
      "outputs": [
        {
          "output_type": "stream",
          "text": [
            "2 Var Declarations\n",
            "    x1 : Size=1, Index=None\n",
            "        Key  : Lower : Value : Upper : Fixed : Stale : Domain\n",
            "        None :  None :  None :  None : False :  True :  Reals\n",
            "    x2 : Size=1, Index=None\n",
            "        Key  : Lower : Value : Upper : Fixed : Stale : Domain\n",
            "        None :  None :  None :  None : False :  True :  Reals\n",
            "\n",
            "1 Objective Declarations\n",
            "    obj : Size=1, Index=None, Active=True\n",
            "        Key  : Active : Sense    : Expression\n",
            "        None :   True : minimize : 145*x1 + 280*x2\n",
            "\n",
            "4 Constraint Declarations\n",
            "    con1 : Size=1, Index=None, Active=True\n",
            "        Key  : Lower : Body    : Upper : Active\n",
            "        None : 493.0 : x1 + x2 :  +Inf :   True\n",
            "    con2 : Size=1, Index=None, Active=True\n",
            "        Key  : Lower : Body : Upper : Active\n",
            "        None : 186.0 :   x1 :  +Inf :   True\n",
            "    con3 : Size=1, Index=None, Active=True\n",
            "        Key  : Lower : Body : Upper : Active\n",
            "        None : 197.0 :   x2 :  +Inf :   True\n",
            "    con4 : Size=1, Index=None, Active=True\n",
            "        Key  : Lower : Body          : Upper   : Active\n",
            "        None :  -Inf : 69*x1 + 55*x2 : 25800.0 :   True\n",
            "\n",
            "7 Declarations: x1 x2 obj con1 con2 con3 con4\n"
          ],
          "name": "stdout"
        }
      ]
    },
    {
      "cell_type": "code",
      "metadata": {
        "colab": {
          "base_uri": "https://localhost:8080/"
        },
        "id": "K2DPDvlWRrgz",
        "outputId": "9ca0a21c-4a71-4419-fe0b-cde2c22a74fd"
      },
      "source": [
        "SolverFactory('glpk', executable='/usr/bin/glpsol').solve(ex3_2).write()"
      ],
      "execution_count": 29,
      "outputs": [
        {
          "output_type": "stream",
          "text": [
            "# ==========================================================\n",
            "# = Solver Results                                         =\n",
            "# ==========================================================\n",
            "# ----------------------------------------------------------\n",
            "#   Problem Information\n",
            "# ----------------------------------------------------------\n",
            "Problem: \n",
            "- Name: unknown\n",
            "  Lower bound: -inf\n",
            "  Upper bound: inf\n",
            "  Number of objectives: 1\n",
            "  Number of constraints: 5\n",
            "  Number of variables: 3\n",
            "  Number of nonzeros: 7\n",
            "  Sense: minimize\n",
            "# ----------------------------------------------------------\n",
            "#   Solver Information\n",
            "# ----------------------------------------------------------\n",
            "Solver: \n",
            "- Status: ok\n",
            "  Termination condition: other\n",
            "  Statistics: \n",
            "    Branch and bound: \n",
            "      Number of bounded subproblems: 0\n",
            "      Number of created subproblems: 0\n",
            "  Error rc: 0\n",
            "  Time: 0.009836196899414062\n"
          ],
          "name": "stdout"
        }
      ]
    },
    {
      "cell_type": "code",
      "metadata": {
        "colab": {
          "base_uri": "https://localhost:8080/",
          "height": 622
        },
        "id": "AmQdWsaiR2xD",
        "outputId": "3918392a-a80f-4615-bef7-355d40265ef3"
      },
      "source": [
        "# display solution\n",
        "#print('\\nObjective = ', ex3_2.obj())\n",
        "\n",
        "print('\\nDecision Variables')\n",
        "print('x1 = ', ex3_2.x1())\n",
        "print('x2 = ', ex3_2.x2())\n",
        "\n",
        "print('\\nConstraints')\n",
        "#print('Constraint 1  = ', ex3_2.con1())\n",
        "print('Constraint 2  = ', ex3_2.con2())\n",
        "print('Constraint 3  = ', ex3_2.con3())\n",
        "print('Constraint 4  = ', ex3_2.con4())"
      ],
      "execution_count": 30,
      "outputs": [
        {
          "output_type": "stream",
          "text": [
            "\n",
            "Decision Variables\n",
            "x1 =  None\n",
            "x2 =  None\n",
            "\n",
            "Constraints\n",
            "Constraint 2  =  None\n",
            "Constraint 3  =  None\n",
            "ERROR: evaluating object as numeric value: x1\n",
            "        (object: <class 'pyomo.core.base.var.ScalarVar'>)\n",
            "    No value for uninitialized NumericValue object x1\n"
          ],
          "name": "stdout"
        },
        {
          "output_type": "error",
          "ename": "ValueError",
          "evalue": "ignored",
          "traceback": [
            "\u001b[0;31m---------------------------------------------------------------------------\u001b[0m",
            "\u001b[0;31mValueError\u001b[0m                                Traceback (most recent call last)",
            "\u001b[0;32m<ipython-input-30-3e1510b6c849>\u001b[0m in \u001b[0;36m<module>\u001b[0;34m()\u001b[0m\n\u001b[1;32m     10\u001b[0m \u001b[0mprint\u001b[0m\u001b[0;34m(\u001b[0m\u001b[0;34m'Constraint 2  = '\u001b[0m\u001b[0;34m,\u001b[0m \u001b[0mex3_2\u001b[0m\u001b[0;34m.\u001b[0m\u001b[0mcon2\u001b[0m\u001b[0;34m(\u001b[0m\u001b[0;34m)\u001b[0m\u001b[0;34m)\u001b[0m\u001b[0;34m\u001b[0m\u001b[0;34m\u001b[0m\u001b[0m\n\u001b[1;32m     11\u001b[0m \u001b[0mprint\u001b[0m\u001b[0;34m(\u001b[0m\u001b[0;34m'Constraint 3  = '\u001b[0m\u001b[0;34m,\u001b[0m \u001b[0mex3_2\u001b[0m\u001b[0;34m.\u001b[0m\u001b[0mcon3\u001b[0m\u001b[0;34m(\u001b[0m\u001b[0;34m)\u001b[0m\u001b[0;34m)\u001b[0m\u001b[0;34m\u001b[0m\u001b[0;34m\u001b[0m\u001b[0m\n\u001b[0;32m---> 12\u001b[0;31m \u001b[0mprint\u001b[0m\u001b[0;34m(\u001b[0m\u001b[0;34m'Constraint 4  = '\u001b[0m\u001b[0;34m,\u001b[0m \u001b[0mex3_2\u001b[0m\u001b[0;34m.\u001b[0m\u001b[0mcon4\u001b[0m\u001b[0;34m(\u001b[0m\u001b[0;34m)\u001b[0m\u001b[0;34m)\u001b[0m\u001b[0;34m\u001b[0m\u001b[0;34m\u001b[0m\u001b[0m\n\u001b[0m",
            "\u001b[0;32m/usr/local/lib/python3.7/dist-packages/pyomo/core/base/constraint.py\u001b[0m in \u001b[0;36m__call__\u001b[0;34m(self, exception)\u001b[0m\n\u001b[1;32m    205\u001b[0m         \u001b[0;32mif\u001b[0m \u001b[0mself\u001b[0m\u001b[0;34m.\u001b[0m\u001b[0mbody\u001b[0m \u001b[0;32mis\u001b[0m \u001b[0;32mNone\u001b[0m\u001b[0;34m:\u001b[0m\u001b[0;34m\u001b[0m\u001b[0;34m\u001b[0m\u001b[0m\n\u001b[1;32m    206\u001b[0m             \u001b[0;32mreturn\u001b[0m \u001b[0;32mNone\u001b[0m\u001b[0;34m\u001b[0m\u001b[0;34m\u001b[0m\u001b[0m\n\u001b[0;32m--> 207\u001b[0;31m         \u001b[0;32mreturn\u001b[0m \u001b[0mself\u001b[0m\u001b[0;34m.\u001b[0m\u001b[0mbody\u001b[0m\u001b[0;34m(\u001b[0m\u001b[0mexception\u001b[0m\u001b[0;34m=\u001b[0m\u001b[0mexception\u001b[0m\u001b[0;34m)\u001b[0m\u001b[0;34m\u001b[0m\u001b[0;34m\u001b[0m\u001b[0m\n\u001b[0m\u001b[1;32m    208\u001b[0m \u001b[0;34m\u001b[0m\u001b[0m\n\u001b[1;32m    209\u001b[0m \u001b[0;34m\u001b[0m\u001b[0m\n",
            "\u001b[0;32mpyomo/core/expr/numeric_expr.pyx\u001b[0m in \u001b[0;36mpyomo.core.expr.numeric_expr.ExpressionBase.__call__\u001b[0;34m()\u001b[0m\n",
            "\u001b[0;32m/usr/local/lib/python3.7/dist-packages/pyomo/core/expr/visitor.py\u001b[0m in \u001b[0;36mevaluate_expression\u001b[0;34m(exp, exception, constant)\u001b[0m\n\u001b[1;32m   1042\u001b[0m         \u001b[0mvisitor\u001b[0m \u001b[0;34m=\u001b[0m \u001b[0m_EvaluationVisitor\u001b[0m\u001b[0;34m(\u001b[0m\u001b[0mexception\u001b[0m\u001b[0;34m=\u001b[0m\u001b[0mexception\u001b[0m\u001b[0;34m)\u001b[0m\u001b[0;34m\u001b[0m\u001b[0;34m\u001b[0m\u001b[0m\n\u001b[1;32m   1043\u001b[0m     \u001b[0;32mtry\u001b[0m\u001b[0;34m:\u001b[0m\u001b[0;34m\u001b[0m\u001b[0;34m\u001b[0m\u001b[0m\n\u001b[0;32m-> 1044\u001b[0;31m         \u001b[0;32mreturn\u001b[0m \u001b[0mvisitor\u001b[0m\u001b[0;34m.\u001b[0m\u001b[0mdfs_postorder_stack\u001b[0m\u001b[0;34m(\u001b[0m\u001b[0mexp\u001b[0m\u001b[0;34m)\u001b[0m\u001b[0;34m\u001b[0m\u001b[0;34m\u001b[0m\u001b[0m\n\u001b[0m\u001b[1;32m   1045\u001b[0m \u001b[0;34m\u001b[0m\u001b[0m\n\u001b[1;32m   1046\u001b[0m     except ( TemplateExpressionError, ValueError, TypeError,\n",
            "\u001b[0;32m/usr/local/lib/python3.7/dist-packages/pyomo/core/expr/visitor.py\u001b[0m in \u001b[0;36mdfs_postorder_stack\u001b[0;34m(self, node)\u001b[0m\n\u001b[1;32m    569\u001b[0m                 \u001b[0m_sub\u001b[0m \u001b[0;34m=\u001b[0m \u001b[0m_argList\u001b[0m\u001b[0;34m[\u001b[0m\u001b[0m_idx\u001b[0m\u001b[0;34m]\u001b[0m\u001b[0;34m\u001b[0m\u001b[0;34m\u001b[0m\u001b[0m\n\u001b[1;32m    570\u001b[0m                 \u001b[0m_idx\u001b[0m \u001b[0;34m+=\u001b[0m \u001b[0;36m1\u001b[0m\u001b[0;34m\u001b[0m\u001b[0;34m\u001b[0m\u001b[0m\n\u001b[0;32m--> 571\u001b[0;31m                 \u001b[0mflag\u001b[0m\u001b[0;34m,\u001b[0m \u001b[0mvalue\u001b[0m \u001b[0;34m=\u001b[0m \u001b[0mself\u001b[0m\u001b[0;34m.\u001b[0m\u001b[0mvisiting_potential_leaf\u001b[0m\u001b[0;34m(\u001b[0m\u001b[0m_sub\u001b[0m\u001b[0;34m)\u001b[0m\u001b[0;34m\u001b[0m\u001b[0;34m\u001b[0m\u001b[0m\n\u001b[0m\u001b[1;32m    572\u001b[0m                 \u001b[0;32mif\u001b[0m \u001b[0mflag\u001b[0m\u001b[0;34m:\u001b[0m\u001b[0;34m\u001b[0m\u001b[0;34m\u001b[0m\u001b[0m\n\u001b[1;32m    573\u001b[0m                     \u001b[0m_result\u001b[0m\u001b[0;34m.\u001b[0m\u001b[0mappend\u001b[0m\u001b[0;34m(\u001b[0m \u001b[0mvalue\u001b[0m \u001b[0;34m)\u001b[0m\u001b[0;34m\u001b[0m\u001b[0;34m\u001b[0m\u001b[0m\n",
            "\u001b[0;32m/usr/local/lib/python3.7/dist-packages/pyomo/core/expr/visitor.py\u001b[0m in \u001b[0;36mvisiting_potential_leaf\u001b[0;34m(self, node)\u001b[0m\n\u001b[1;32m    950\u001b[0m \u001b[0;34m\u001b[0m\u001b[0m\n\u001b[1;32m    951\u001b[0m         \u001b[0;32mif\u001b[0m \u001b[0mnode\u001b[0m\u001b[0;34m.\u001b[0m\u001b[0mis_numeric_type\u001b[0m\u001b[0;34m(\u001b[0m\u001b[0;34m)\u001b[0m\u001b[0;34m:\u001b[0m\u001b[0;34m\u001b[0m\u001b[0;34m\u001b[0m\u001b[0m\n\u001b[0;32m--> 952\u001b[0;31m             \u001b[0;32mreturn\u001b[0m \u001b[0;32mTrue\u001b[0m\u001b[0;34m,\u001b[0m \u001b[0mvalue\u001b[0m\u001b[0;34m(\u001b[0m\u001b[0mnode\u001b[0m\u001b[0;34m,\u001b[0m \u001b[0mexception\u001b[0m\u001b[0;34m=\u001b[0m\u001b[0mself\u001b[0m\u001b[0;34m.\u001b[0m\u001b[0mexception\u001b[0m\u001b[0;34m)\u001b[0m\u001b[0;34m\u001b[0m\u001b[0;34m\u001b[0m\u001b[0m\n\u001b[0m\u001b[1;32m    953\u001b[0m         \u001b[0;32melif\u001b[0m \u001b[0mnode\u001b[0m\u001b[0;34m.\u001b[0m\u001b[0mis_logical_type\u001b[0m\u001b[0;34m(\u001b[0m\u001b[0;34m)\u001b[0m\u001b[0;34m:\u001b[0m\u001b[0;34m\u001b[0m\u001b[0;34m\u001b[0m\u001b[0m\n\u001b[1;32m    954\u001b[0m             \u001b[0;32mreturn\u001b[0m \u001b[0;32mTrue\u001b[0m\u001b[0;34m,\u001b[0m \u001b[0mvalue\u001b[0m\u001b[0;34m(\u001b[0m\u001b[0mnode\u001b[0m\u001b[0;34m,\u001b[0m \u001b[0mexception\u001b[0m\u001b[0;34m=\u001b[0m\u001b[0mself\u001b[0m\u001b[0;34m.\u001b[0m\u001b[0mexception\u001b[0m\u001b[0;34m)\u001b[0m\u001b[0;34m\u001b[0m\u001b[0;34m\u001b[0m\u001b[0m\n",
            "\u001b[0;32mpyomo/core/expr/numvalue.pyx\u001b[0m in \u001b[0;36mpyomo.core.expr.numvalue.value\u001b[0;34m()\u001b[0m\n",
            "\u001b[0;32mpyomo/core/expr/numvalue.pyx\u001b[0m in \u001b[0;36mpyomo.core.expr.numvalue.value\u001b[0;34m()\u001b[0m\n",
            "\u001b[0;31mValueError\u001b[0m: No value for uninitialized NumericValue object x1"
          ]
        }
      ]
    },
    {
      "cell_type": "markdown",
      "metadata": {
        "id": "Af8Fu-ZtS6YH"
      },
      "source": [
        "$6.\\;The\\;optimal\\;solution\\;value\\;is\\;unbounded\\;and\\;the\\;values\\;of\\;the\\;constraints\\;are\\;undetermined\\;as\\;the\\;values\\;of\\;the\\;variables\\;are\\;undetermined.\\;Since\\;the\\;solution\\;is\\;not\\;feasible.$\n",
        "$Based\\;on\\;the\\;result\\;obtained,\\;I\\;would\\;suggest\\;to\\;increase\\;the\\;total\\;production\\;hour\\;per\\;month.\\;Then\\;only\\;we\\;might\\;be\\;able\\;to\\;obtain\\;a\\;feasible\\;solution.$"
      ]
    }
  ]
}