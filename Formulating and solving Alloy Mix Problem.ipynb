{
  "nbformat": 4,
  "nbformat_minor": 0,
  "metadata": {
    "colab": {
      "name": "21i190007_IE507_Lab2_Ex3.ipynb",
      "provenance": [],
      "collapsed_sections": []
    },
    "kernelspec": {
      "name": "python3",
      "display_name": "Python 3"
    }
  },
  "cells": [
    {
      "cell_type": "code",
      "metadata": {
        "id": "1r_yYUofSTFB",
        "colab": {
          "base_uri": "https://localhost:8080/"
        },
        "outputId": "d9059471-6c88-430c-91dc-fd6204a2d332"
      },
      "source": [
        "!pip install -q pyomo"
      ],
      "execution_count": null,
      "outputs": [
        {
          "output_type": "stream",
          "text": [
            "\u001b[K     |████████████████████████████████| 8.9 MB 4.0 MB/s \n",
            "\u001b[K     |████████████████████████████████| 49 kB 5.4 MB/s \n",
            "\u001b[?25h"
          ],
          "name": "stdout"
        }
      ]
    },
    {
      "cell_type": "markdown",
      "metadata": {
        "id": "Qh8fhB0oUPWA"
      },
      "source": [
        "$Exercise\\;3$ \\\\\n",
        "$1.\\;The\\;LPP\\;is\\;as\\;follows:$\n",
        "$The\\;first\\;10\\;decision\\;variables(i.e\\;x_1,\\;x_2,...,\\;x_{10})\\;denotes\\;the\\;amounts\\;of\\;A-1,\\;A-2,...,\\;A-10\\;respectively\\;used\\;from\\;in-house\\;stock\\;and\\;the\\;rest\\;10\\;decision\\;variables\\;(i.e\\;x_{11},\\;x_{12},...,\\;x_{20})\\;denotes\\;the\\;amounts\\;of\\;A-1,\\;A-2,...,\\;A-10\\;respectively\\;purchased\\;from\\;outside.\\;x\\in \\mathbb{R^{20\\times1}}$\n",
        "$$min\\; c^Tx,$$\n",
        "$$s.t\\; Ax ≤ b$$\n",
        "$$l ≤ x ≤ u.$$\n",
        "\n"
      ]
    },
    {
      "cell_type": "markdown",
      "metadata": {
        "id": "IGThhuxGeNz-"
      },
      "source": [
        "$b = [15750, 20250, 9000]$ \\\\\n",
        "$c = [35, 50, 58, 60, 44, 39, 45, 55, 35, 40, 72, 95, 110, 125, 88, 74, 95, 115, 60, 84];$ \\\\\n",
        "$$\n",
        "\tA= \\begin{bmatrix} \n",
        "\t15 & 15 & 10 & 20 & 25 & 10 & 50 & 15 & 30 & 55 & 15 & 15 & 10 & 20 & 25 & 10 & 50 & 15 & 30 & 55 \\\\\n",
        "\t80 & 75 & 75 & 60 & 55 & 55 & 40 & 35 & 30 & 30 & 80 & 75 & 75 & 60 & 55 & 55 & 40 & 35 & 30 & 30 \\\\\n",
        "\t5 & 10 & 15 & 20 & 20 & 35 & 10 & 50 & 40 & 15 & 5 & 10 & 15 & 20 & 20 & 35 & 10 & 50 & 40 & 15 \\\\\n",
        "\t\\end{bmatrix}\n",
        "\t\\quad\n",
        "\t$$\n",
        "$l =  [0, 0, 0, 0, 0, 0, 0, 0, 0, 0, 0, 0, 0, 0, 0, 0, 0, 0, 0, 0],$ \\\\\n",
        "$u = [12, 9, 16, 25, 4, 5, 10, 13, 0, 6, +∞, +∞, +∞, +∞, +∞, +∞, +∞, +∞, +∞, +∞]$"
      ]
    },
    {
      "cell_type": "markdown",
      "metadata": {
        "id": "sqbF4XauzkaL"
      },
      "source": [
        "$2.\\;Modifying\\;the\\;problem:$"
      ]
    },
    {
      "cell_type": "code",
      "metadata": {
        "id": "j4opCPZrSak0"
      },
      "source": [
        "from pyomo.environ import *"
      ],
      "execution_count": null,
      "outputs": []
    },
    {
      "cell_type": "code",
      "metadata": {
        "id": "E_HKtzFsh_mh"
      },
      "source": [
        "import numpy as np"
      ],
      "execution_count": null,
      "outputs": []
    },
    {
      "cell_type": "code",
      "metadata": {
        "id": "HYj3zpsvSih4"
      },
      "source": [
        "model = ConcreteModel()"
      ],
      "execution_count": null,
      "outputs": []
    },
    {
      "cell_type": "code",
      "metadata": {
        "id": "XvRZqCV8d_-e"
      },
      "source": [
        "N = 20\n",
        "M = 3"
      ],
      "execution_count": null,
      "outputs": []
    },
    {
      "cell_type": "code",
      "metadata": {
        "id": "sN7eq44-eCfY"
      },
      "source": [
        "obj_coef_c = np.array([35, 50, 58, 60, 44, 39, 45, 55, 35, 40, 72, 95, 110, 125, 88, 74, 95, 115, 60, 84])"
      ],
      "execution_count": null,
      "outputs": []
    },
    {
      "cell_type": "code",
      "metadata": {
        "id": "T1CaFM_DeFly"
      },
      "source": [
        "constr1_coef_A = np.array([[15 , 15 , 10 , 20 , 25 , 10 , 50 , 15 , 30 , 55 , 15 , 15 , 10 ,20 ,25 , 10 , 50 , 15 , 30 , 55], [80 , 75 , 75 , 60 , 55 , 55 , 40 , 35 , 30 , 30 , 80 , 75 , 75 ,60 , 55 , 55 , 40 , 35 , 30 , 30], [5 , 10 , 15 , 20 , 20 , 35 , 10 , 50 , 40 , 15 , 5 , 10 , 15 , 20 , 20 , 35 , 10 , 50 , 40 , 15]]) \n",
        "constr_rhs_b =  np.array([15750, 20250, 9000])"
      ],
      "execution_count": null,
      "outputs": []
    },
    {
      "cell_type": "code",
      "metadata": {
        "id": "lzB0FJaNgYgI"
      },
      "source": [
        "lower_bound = np.array([0, 0, 0, 0, 0, 0, 0, 0, 0, 0, 0, 0, 0, 0, 0, 0, 0, 0, 0, 0])\n",
        "upper_bound = np.array([12, 9, 16, 25, 4, 5, 10, 13, 0, 6, np.inf, np.inf, np.inf, np.inf, np.inf, np.inf, np.inf, np.inf, np.inf, np.inf])"
      ],
      "execution_count": null,
      "outputs": []
    },
    {
      "cell_type": "code",
      "metadata": {
        "id": "JwOmb5XcgqRt",
        "colab": {
          "base_uri": "https://localhost:8080/"
        },
        "outputId": "8f013f2d-7790-452f-8493-cc0360dd3d86"
      },
      "source": [
        "col_indices = np.arange(N)\n",
        "print(col_indices)"
      ],
      "execution_count": null,
      "outputs": [
        {
          "output_type": "stream",
          "text": [
            "[ 0  1  2  3  4  5  6  7  8  9 10 11 12 13 14 15 16 17 18 19]\n"
          ],
          "name": "stdout"
        }
      ]
    },
    {
      "cell_type": "code",
      "metadata": {
        "colab": {
          "base_uri": "https://localhost:8080/"
        },
        "id": "OE4uemf3BTxc",
        "outputId": "58d81e94-6496-477c-9ab1-37cfe84cfd35"
      },
      "source": [
        "row_indices = np.arange(M)\n",
        "print(row_indices)"
      ],
      "execution_count": null,
      "outputs": [
        {
          "output_type": "stream",
          "text": [
            "[0 1 2]\n"
          ],
          "name": "stdout"
        }
      ]
    },
    {
      "cell_type": "code",
      "metadata": {
        "id": "K8quMKE1g6YQ"
      },
      "source": [
        "model.x = Var(col_indices)"
      ],
      "execution_count": null,
      "outputs": []
    },
    {
      "cell_type": "code",
      "metadata": {
        "id": "ClcpSmWbgwlr"
      },
      "source": [
        "model.constraints = ConstraintList()"
      ],
      "execution_count": null,
      "outputs": []
    },
    {
      "cell_type": "code",
      "metadata": {
        "id": "-60j94F_gxNT"
      },
      "source": [
        "for i in row_indices:\n",
        " model.constraints.add(sum(constr1_coef_A[i][j]*model.x[j] for j in col_indices) == constr_rhs_b[i])"
      ],
      "execution_count": null,
      "outputs": []
    },
    {
      "cell_type": "code",
      "metadata": {
        "id": "V5KOBn_sgrT1"
      },
      "source": [
        "for j in col_indices:\n",
        "  model.x[j].setlb(lower_bound[j])\n",
        "  model.x[j].setub(upper_bound[j])"
      ],
      "execution_count": null,
      "outputs": []
    },
    {
      "cell_type": "code",
      "metadata": {
        "id": "4fOm2vhJhStT"
      },
      "source": [
        "model.objective = Objective(expr = sum(obj_coef_c[j]*model.x[j] for j in col_indices), sense=minimize)"
      ],
      "execution_count": null,
      "outputs": []
    },
    {
      "cell_type": "code",
      "metadata": {
        "id": "hLjlmRD8eG_X",
        "colab": {
          "base_uri": "https://localhost:8080/"
        },
        "outputId": "80700eef-0726-4308-c9bb-45cef52d1f5f"
      },
      "source": [
        "model.pprint()"
      ],
      "execution_count": null,
      "outputs": [
        {
          "output_type": "stream",
          "text": [
            "2 Set Declarations\n",
            "    constraints_index : Size=1, Index=None, Ordered=Insertion\n",
            "        Key  : Dimen : Domain : Size : Members\n",
            "        None :     1 :    Any :    3 : {1, 2, 3}\n",
            "    x_index : Size=1, Index=None, Ordered=False\n",
            "        Key  : Dimen : Domain : Size : Members\n",
            "        None :     1 :    Any :   20 : {0, 1, 2, 3, 4, 5, 6, 7, 8, 9, 10, 11, 12, 13, 14, 15, 16, 17, 18, 19}\n",
            "\n",
            "1 Var Declarations\n",
            "    x : Size=20, Index=x_index\n",
            "        Key : Lower : Value : Upper : Fixed : Stale : Domain\n",
            "          0 :     0 :  None :  12.0 : False :  True :  Reals\n",
            "          1 :     0 :  None :   9.0 : False :  True :  Reals\n",
            "          2 :     0 :  None :  16.0 : False :  True :  Reals\n",
            "          3 :     0 :  None :  25.0 : False :  True :  Reals\n",
            "          4 :     0 :  None :   4.0 : False :  True :  Reals\n",
            "          5 :     0 :  None :   5.0 : False :  True :  Reals\n",
            "          6 :     0 :  None :  10.0 : False :  True :  Reals\n",
            "          7 :     0 :  None :  13.0 : False :  True :  Reals\n",
            "          8 :     0 :  None :   0.0 : False :  True :  Reals\n",
            "          9 :     0 :  None :   6.0 : False :  True :  Reals\n",
            "         10 :     0 :  None :   inf : False :  True :  Reals\n",
            "         11 :     0 :  None :   inf : False :  True :  Reals\n",
            "         12 :     0 :  None :   inf : False :  True :  Reals\n",
            "         13 :     0 :  None :   inf : False :  True :  Reals\n",
            "         14 :     0 :  None :   inf : False :  True :  Reals\n",
            "         15 :     0 :  None :   inf : False :  True :  Reals\n",
            "         16 :     0 :  None :   inf : False :  True :  Reals\n",
            "         17 :     0 :  None :   inf : False :  True :  Reals\n",
            "         18 :     0 :  None :   inf : False :  True :  Reals\n",
            "         19 :     0 :  None :   inf : False :  True :  Reals\n",
            "\n",
            "1 Objective Declarations\n",
            "    objective : Size=1, Index=None, Active=True\n",
            "        Key  : Active : Sense    : Expression\n",
            "        None :   True : minimize : 35*x[0] + 50*x[1] + 58*x[2] + 60*x[3] + 44*x[4] + 39*x[5] + 45*x[6] + 55*x[7] + 35*x[8] + 40*x[9] + 72*x[10] + 95*x[11] + 110*x[12] + 125*x[13] + 88*x[14] + 74*x[15] + 95*x[16] + 115*x[17] + 60*x[18] + 84*x[19]\n",
            "\n",
            "1 Constraint Declarations\n",
            "    constraints : Size=3, Index=constraints_index, Active=True\n",
            "        Key : Lower   : Body                                                                                                                                                                                                            : Upper   : Active\n",
            "          1 : 15750.0 : 15*x[0] + 15*x[1] + 10*x[2] + 20*x[3] + 25*x[4] + 10*x[5] + 50*x[6] + 15*x[7] + 30*x[8] + 55*x[9] + 15*x[10] + 15*x[11] + 10*x[12] + 20*x[13] + 25*x[14] + 10*x[15] + 50*x[16] + 15*x[17] + 30*x[18] + 55*x[19] : 15750.0 :   True\n",
            "          2 : 20250.0 : 80*x[0] + 75*x[1] + 75*x[2] + 60*x[3] + 55*x[4] + 55*x[5] + 40*x[6] + 35*x[7] + 30*x[8] + 30*x[9] + 80*x[10] + 75*x[11] + 75*x[12] + 60*x[13] + 55*x[14] + 55*x[15] + 40*x[16] + 35*x[17] + 30*x[18] + 30*x[19] : 20250.0 :   True\n",
            "          3 :  9000.0 :   5*x[0] + 10*x[1] + 15*x[2] + 20*x[3] + 20*x[4] + 35*x[5] + 10*x[6] + 50*x[7] + 40*x[8] + 15*x[9] + 5*x[10] + 10*x[11] + 15*x[12] + 20*x[13] + 20*x[14] + 35*x[15] + 10*x[16] + 50*x[17] + 40*x[18] + 15*x[19] :  9000.0 :   True\n",
            "\n",
            "5 Declarations: x_index x constraints_index constraints objective\n"
          ],
          "name": "stdout"
        }
      ]
    },
    {
      "cell_type": "code",
      "metadata": {
        "id": "rhSG6IRMfclR",
        "colab": {
          "base_uri": "https://localhost:8080/"
        },
        "outputId": "2f1d0c8a-c072-4031-d3ac-43940e78cd42"
      },
      "source": [
        "!apt-get install -y -qq glpk-utils"
      ],
      "execution_count": null,
      "outputs": [
        {
          "output_type": "stream",
          "text": [
            "Selecting previously unselected package libsuitesparseconfig5:amd64.\n",
            "(Reading database ... 160837 files and directories currently installed.)\n",
            "Preparing to unpack .../libsuitesparseconfig5_1%3a5.1.2-2_amd64.deb ...\n",
            "Unpacking libsuitesparseconfig5:amd64 (1:5.1.2-2) ...\n",
            "Selecting previously unselected package libamd2:amd64.\n",
            "Preparing to unpack .../libamd2_1%3a5.1.2-2_amd64.deb ...\n",
            "Unpacking libamd2:amd64 (1:5.1.2-2) ...\n",
            "Selecting previously unselected package libcolamd2:amd64.\n",
            "Preparing to unpack .../libcolamd2_1%3a5.1.2-2_amd64.deb ...\n",
            "Unpacking libcolamd2:amd64 (1:5.1.2-2) ...\n",
            "Selecting previously unselected package libglpk40:amd64.\n",
            "Preparing to unpack .../libglpk40_4.65-1_amd64.deb ...\n",
            "Unpacking libglpk40:amd64 (4.65-1) ...\n",
            "Selecting previously unselected package glpk-utils.\n",
            "Preparing to unpack .../glpk-utils_4.65-1_amd64.deb ...\n",
            "Unpacking glpk-utils (4.65-1) ...\n",
            "Setting up libsuitesparseconfig5:amd64 (1:5.1.2-2) ...\n",
            "Setting up libcolamd2:amd64 (1:5.1.2-2) ...\n",
            "Setting up libamd2:amd64 (1:5.1.2-2) ...\n",
            "Setting up libglpk40:amd64 (4.65-1) ...\n",
            "Setting up glpk-utils (4.65-1) ...\n",
            "Processing triggers for libc-bin (2.27-3ubuntu1.2) ...\n",
            "/sbin/ldconfig.real: /usr/local/lib/python3.7/dist-packages/ideep4py/lib/libmkldnn.so.0 is not a symbolic link\n",
            "\n",
            "Processing triggers for man-db (2.8.3-2ubuntu0.1) ...\n"
          ],
          "name": "stdout"
        }
      ]
    },
    {
      "cell_type": "markdown",
      "metadata": {
        "id": "Q9WPsATeDaUN"
      },
      "source": [
        "$3.\\; Solving\\;the\\;model:$"
      ]
    },
    {
      "cell_type": "code",
      "metadata": {
        "id": "Sq3CpPcCeIBC",
        "colab": {
          "base_uri": "https://localhost:8080/"
        },
        "outputId": "95ba66ce-18d7-4ed8-ac93-fa00742086d4"
      },
      "source": [
        "SolverFactory('glpk', executable='/usr/bin/glpsol').solve(model).write()"
      ],
      "execution_count": null,
      "outputs": [
        {
          "output_type": "stream",
          "text": [
            "# ==========================================================\n",
            "# = Solver Results                                         =\n",
            "# ==========================================================\n",
            "# ----------------------------------------------------------\n",
            "#   Problem Information\n",
            "# ----------------------------------------------------------\n",
            "Problem: \n",
            "- Name: unknown\n",
            "  Lower bound: 31013.4\n",
            "  Upper bound: 31013.4\n",
            "  Number of objectives: 1\n",
            "  Number of constraints: 4\n",
            "  Number of variables: 21\n",
            "  Number of nonzeros: 61\n",
            "  Sense: minimize\n",
            "# ----------------------------------------------------------\n",
            "#   Solver Information\n",
            "# ----------------------------------------------------------\n",
            "Solver: \n",
            "- Status: ok\n",
            "  Termination condition: optimal\n",
            "  Statistics: \n",
            "    Branch and bound: \n",
            "      Number of bounded subproblems: 0\n",
            "      Number of created subproblems: 0\n",
            "  Error rc: 0\n",
            "  Time: 0.010721206665039062\n",
            "# ----------------------------------------------------------\n",
            "#   Solution Information\n",
            "# ----------------------------------------------------------\n",
            "Solution: \n",
            "- number of solutions: 0\n",
            "  number of solutions displayed: 0\n"
          ],
          "name": "stdout"
        }
      ]
    },
    {
      "cell_type": "code",
      "metadata": {
        "id": "WQZHDR3afKj5",
        "colab": {
          "base_uri": "https://localhost:8080/"
        },
        "outputId": "a0d21d4e-f333-4919-aa44-aebd90a05cb1"
      },
      "source": [
        "# display solution\n",
        "print('\\nObjective = ', model.objective())\n",
        "\n",
        "print('\\nDecision Variables')\n",
        "for i in col_indices:\n",
        "  print('x[',i,'] = ', model.x[i].value)\n",
        "\n",
        "print('\\nConstraints')\n",
        "model.constraints.display()"
      ],
      "execution_count": null,
      "outputs": [
        {
          "output_type": "stream",
          "text": [
            "\n",
            "Objective =  31013.40000000001\n",
            "\n",
            "Decision Variables\n",
            "x[ 0 ] =  12.0\n",
            "x[ 1 ] =  9.0\n",
            "x[ 2 ] =  16.0\n",
            "x[ 3 ] =  25.0\n",
            "x[ 4 ] =  4.0\n",
            "x[ 5 ] =  5.0\n",
            "x[ 6 ] =  10.0\n",
            "x[ 7 ] =  0.0\n",
            "x[ 8 ] =  0.0\n",
            "x[ 9 ] =  6.0\n",
            "x[ 10 ] =  79.0000000000001\n",
            "x[ 11 ] =  0.0\n",
            "x[ 12 ] =  0.0\n",
            "x[ 13 ] =  0.0\n",
            "x[ 14 ] =  0.0\n",
            "x[ 15 ] =  0.0\n",
            "x[ 16 ] =  0.0\n",
            "x[ 17 ] =  0.0\n",
            "x[ 18 ] =  120.4\n",
            "x[ 19 ] =  163.6\n",
            "\n",
            "Constraints\n",
            "constraints : Size=3\n",
            "    Key : Lower   : Body               : Upper\n",
            "      1 : 15750.0 : 15750.000000000002 : 15750.0\n",
            "      2 : 20250.0 : 20250.000000000007 : 20250.0\n",
            "      3 :  9000.0 :             9000.0 :  9000.0\n"
          ],
          "name": "stdout"
        }
      ]
    },
    {
      "cell_type": "markdown",
      "metadata": {
        "id": "b3AjPWpQzhLe"
      },
      "source": [
        "$3.\\; The\\;optimal\\;solution\\;is: $ \\\\\n",
        "$$x_1 =  12.0,\\;x_2 =  9.0,\\;x_3 =  16.0,\\;x_4 =  25.0,\\;x_5 =  4.0,\\;x_6 =  5.0,\\;x_7 =  10.0,\\;x_8 =  0.0,\\;x_9 =  0.0,\\;x_{10} =  6.0,\\;x_{11} =  79.0000000000001,\\; x_{12} =  0.0,\\; x_{13} =  0.0,\\; x_{14} =  0.0,\\; x_{15} =  0.0,\\; x_{16} =  0.0,\\; x_{17} =  0.0,\\; x_{18} =  0.0,\\; x_{19} =  120.4,\\; x_{20} =  163.6$$\n",
        "$The\\;value\\;of\\;the\\;objective\\;function\\;at\\;optimal\\;solution\\;is:\\;31013.40000000001$"
      ]
    },
    {
      "cell_type": "markdown",
      "metadata": {
        "id": "bqT419lEFJGp"
      },
      "source": [
        "$4.\\;Among\\; the\\; alloys\\; that\\; need\\; to\\; be\\; bought\\; from \\;the\\; market,\\;Alloy\\;A-1,\\;A-9\\;and\\;A-10\\;ranked\\;high\\;\\&\\;rest\\;ranked\\;lowest.$"
      ]
    },
    {
      "cell_type": "markdown",
      "metadata": {
        "id": "E8E8WJQ2Hqgb"
      },
      "source": [
        "$5.\\;A-1,\\;A-2,\\;A-3,\\;A-4,\\;A-5,\\;A-6,\\;A-7,\\;A-10\\;are\\;the\\;alloys \\;whose \\;stocks \\;are \\;completely \\;utilized\\;because,\\;all\\;of\\;their\\;utilized\\;amounts\\;have\\;reached\\;the\\;stock\\;amounts\\;or\\;in\\;other\\;words\\;their\\;decision\\;variable\\;bounds\\;are\\;active.$"
      ]
    },
    {
      "cell_type": "markdown",
      "metadata": {
        "id": "GZ_QT_XdLNG7"
      },
      "source": [
        "$6.\\;A-2,\\;A-3,\\;A-4,\\;A-5,\\;A-6,\\;A-7,\\;A-8\\;are\\;the\\;alloys\\;which \\;need\\; not\\; be\\; acquired\\; from\\; market.\\;Because,\\;their\\;required\\;amounts\\;are\\;already\\;utilized\\;from\\;their\\;in-house\\;stock.$"
      ]
    }
  ]
}