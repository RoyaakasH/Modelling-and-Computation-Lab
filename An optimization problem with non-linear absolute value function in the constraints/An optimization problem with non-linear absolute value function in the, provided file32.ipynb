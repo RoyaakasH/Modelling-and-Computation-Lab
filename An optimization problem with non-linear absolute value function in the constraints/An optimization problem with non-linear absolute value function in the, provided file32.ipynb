{
  "cells": [
    {
      "cell_type": "markdown",
      "metadata": {
        "id": "zbB3HlxK6ZqT"
      },
      "source": [
        "$$Exercise: 2$$"
      ]
    },
    {
      "cell_type": "markdown",
      "metadata": {
        "id": "AQCb4FiYW53r"
      },
      "source": [
        "$Q:1 \\\\\n",
        "Let,\\; x_1, \\;x_2, \\;x_3,\\; x_4,\\; x_5\\; denote\\; the \\;number \\;of \\;different \\;types \\;of \\;media\\; slots\\; (assumed\\; to\\; be \\;nonnegative \\;integers)\\; to\\; be\\; used\\; for \\;advertisement, \\;where\\; x_1 \\;corresponds \\;to \\;website, \\;x_2 \\;corresponds\\;to \\;TV, \\;x_3 \\;corresponds \\;to\\; daily \\;newspaper, \\;x_4 \\;corresponds \\;to\\; weekly \\;magazine\\; and \\;x_5 \\;corresponds \\;to\\; monthly \\;magazine \\;and \\;hence,\\; they\\; are\\; nonnegetive\\; integers. \\\\\n",
        "Let\\; z_1 \\;denote\\; the\\; total\\; number\\; of\\; media \\;slots\\; used \\;for \\;website \\;and \\;TV \\;and\\; let \\;z_2 \\;denote\\; the \\;total\\; number\\; of \\;media\\; slots\\; used \\;for\\; other \\;mediums. \\;Therefore,\\;z_1=x_1+x_2\\; and \\;z_2=x_3+x_4+x_5 \\\\\n",
        "According\\; to\\; the \\;question,\\; |z_1-z_2| \\leq18 \\\\\n",
        "Hence,\\; the\\; optimization\\; problem \\;is\\; as \\;follows: $\n",
        "\\begin{align}\n",
        "\\max \\ 35 x_1 + 57 x_2 + 48 x_3 + 20 x_4 + 15 x_5, \\\\\n",
        "{\\rm{s.t.}} \\; x_1 + x_2 + x_3 & \\leq 75, \\\\\n",
        "x_3 + x_4 + x_5 & \\leq 100, \\\\\n",
        "x_1 + x_2 & \\geq 10, \\\\ \n",
        "30000 x_1 + 95000 x_2 + 10000 x_3 + 5000 x_4 + 4000 x_5 & \\leq 1500000, \\\\\n",
        "100000 x_1 + 500000 x_2 + 200000 x_3 + 45000 x_4 + 25000 x_5 & \\geq 900000, \\\\\n",
        "| x_3+x_4+x_5-x_1-x_2| \\leq18 \\\\\n",
        "x_i & \\geq 0, \\quad i \\in \\{1,2,3,4,5\\}. \\\\\n",
        "\\end{align} \\\\\n",
        "$The\\; above \\;resultant\\; model \\;is\\; not \\;a \\;linear\\; program,\\; because \\;the\\; constraint\\; we \\;just \\;added\\; contains \\;modulus\\; function \\;which \\;is\\; a \\;piecewise \\;fuinction \\;i.e.\\;nonlinear.\\; Therefore, \\;the\\; model \\;itself\\; is\\; not\\; be \\;a\\; linear\\; program. $"
      ]
    },
    {
      "cell_type": "markdown",
      "metadata": {
        "id": "7tuKt9oxhiQ1"
      },
      "source": [
        "$Q:2 \\\\\n",
        "Approach \\;1: \\\\\n",
        "We \\;take\\; a \\;new\\; variable \\;u = |x_3+x_4+x_5-x_1-x_2| \\\\\n",
        "Therefore,\\;  u \\geq 0 \\\\\n",
        "Hence,\\; the\\; optimization\\; problem\\; will \\;be \\;as \\;follows:$ \\\\\n",
        "\\begin{align}\n",
        "\\max \\ 35 x_1 + 57 x_2 + 48 x_3 + 20 x_4 + 15 x_5, \\\\\n",
        "{\\rm{s.t.}} \\; x_1 + x_2 + x_3 & \\leq 75, \\\\\n",
        "x_3 + x_4 + x_5 & \\leq 100, \\\\\n",
        "x_1 + x_2 & \\geq 10, \\\\ \n",
        "30000 x_1 + 95000 x_2 + 10000 x_3 + 5000 x_4 + 4000 x_5 & \\leq 1500000, \\\\\n",
        "100000 x_1 + 500000 x_2 + 200000 x_3 + 45000 x_4 + 25000 x_5 & \\geq 900000, \\\\\n",
        "x_3+x_4+x_5-x_1-x_2 \\leq u \\\\\n",
        "x_1+x_2-x_3-x_4-x_5 \\leq u \\\\\n",
        "0 \\leq u \\leq18 \\\\\n",
        "x_i & \\geq 0, \\quad i \\in \\{1,2,3,4,5\\}. \\\\\n",
        "\\end{align} \\\\"
      ]
    },
    {
      "cell_type": "markdown",
      "metadata": {
        "id": "ubz1M1dbhsN8"
      },
      "source": [
        "$Approach\\; 2: \\\\\n",
        "In \\;this\\; approach,\\; we\\; substitute \\;|x_3+x_4+x_5-x_1-x_2| = |a-b|, \\ a\\geq 0, b\\geq 0 \\\\\n",
        "Hence,\\; the \\;optimization \\;problem \\;will\\; be\\; as\\; follows: $ \\\\\n",
        "\\begin{align}\n",
        "\\max \\ 35 x_1 + 57 x_2 + 48 x_3 + 20 x_4 + 15 x_5, \\\\\n",
        "{\\rm{s.t.}} \\; x_1 + x_2 + x_3 & \\leq 75, \\\\\n",
        "x_3 + x_4 + x_5 & \\leq 100, \\\\\n",
        "x_1 + x_2 & \\geq 10, \\\\ \n",
        "30000 x_1 + 95000 x_2 + 10000 x_3 + 5000 x_4 + 4000 x_5 & \\leq 1500000, \\\\\n",
        "100000 x_1 + 500000 x_2 + 200000 x_3 + 45000 x_4 + 25000 x_5 & \\geq 900000, \\\\\n",
        "x_3+x_4+x_5-x_1-x_2 = a - b \\\\\n",
        "a + b \\leq 18 \\\\\n",
        "a \\geq 0 , \\; b \\geq 0; \n",
        "x_i & \\geq 0, \\quad i \\in \\{1,2,3,4,5\\}. \\\\\n",
        "\\end{align} \\\\"
      ]
    },
    {
      "cell_type": "markdown",
      "metadata": {
        "id": "1M1eqm3Vyh8H"
      },
      "source": [
        "$Q:3 \\\\\n",
        "Using \\;the \\;code \\;used \\;in \\;Lab \\;4 \\;practice\\; session\\; and \\;modifying\\; it \\;so \\;that \\;we\\; can \\;solve\\; the\\;new \\;linear\\;programs \\;resulting \\;from \\;Approach \\;1 \\;and\\; Approach \\;2.$"
      ]
    },
    {
      "cell_type": "code",
      "execution_count": 1,
      "metadata": {
        "colab": {
          "base_uri": "https://localhost:8080/"
        },
        "id": "oVOal3GyW18X",
        "outputId": "b056495f-032d-4867-8132-26a3b1bec926"
      },
      "outputs": [
        {
          "name": "stdout",
          "output_type": "stream",
          "text": [
            "\u001b[K     |████████████████████████████████| 9.1 MB 18.9 MB/s \n",
            "\u001b[K     |████████████████████████████████| 49 kB 6.6 MB/s \n",
            "\u001b[?25h"
          ]
        }
      ],
      "source": [
        "!pip install -q pyomo\n",
        "from pyomo.environ import * \n",
        "import numpy as np\n",
        "import pandas as pd"
      ]
    },
    {
      "cell_type": "code",
      "execution_count": 2,
      "metadata": {
        "colab": {
          "base_uri": "https://localhost:8080/"
        },
        "id": "FkAi9V0mXCHb",
        "outputId": "4ed95137-d3a1-47fe-84ef-7ae1ef56c11f"
      },
      "outputs": [
        {
          "name": "stdout",
          "output_type": "stream",
          "text": [
            "<class 'pandas.core.frame.DataFrame'>\n"
          ]
        }
      ],
      "source": [
        "data_csvfile = pd.read_csv('file32.csv')\n",
        "print (type(data_csvfile))"
      ]
    },
    {
      "cell_type": "code",
      "execution_count": 3,
      "metadata": {
        "id": "6LSYy0kPXK0I"
      },
      "outputs": [],
      "source": [
        "model_lab6_ex2 = ConcreteModel()"
      ]
    },
    {
      "cell_type": "code",
      "execution_count": 4,
      "metadata": {
        "id": "2bUc-2r0XNFC"
      },
      "outputs": [],
      "source": [
        "N = len(data_csvfile.index)\n",
        "col_indices = range(N)\n",
        "M = 5\n",
        "model_lab6_ex2.x = Var(col_indices, domain=NonNegativeIntegers)\n",
        "model_lab6_ex2.u = Var(domain=NonNegativeIntegers, bounds=(0,18))"
      ]
    },
    {
      "cell_type": "code",
      "execution_count": 5,
      "metadata": {
        "id": "FWGJxISrXVe_"
      },
      "outputs": [],
      "source": [
        "model_lab6_ex2.objective = Objective(expr=summation(data_csvfile['Reach Quality'], model_lab6_ex2.x),sense=maximize)"
      ]
    },
    {
      "cell_type": "code",
      "execution_count": 6,
      "metadata": {
        "id": "1JwM8staXXYd"
      },
      "outputs": [],
      "source": [
        "model_lab6_ex2.constraints = ConstraintList()"
      ]
    },
    {
      "cell_type": "code",
      "execution_count": 7,
      "metadata": {
        "colab": {
          "base_uri": "https://localhost:8080/"
        },
        "id": "4VG7yXqSXaVO",
        "outputId": "e379371b-15e3-4335-d76c-d8874b5f61ed"
      },
      "outputs": [
        {
          "data": {
            "text/plain": [
              "<pyomo.core.base.constraint._GeneralConstraintData at 0x7f7c27266c20>"
            ]
          },
          "execution_count": 7,
          "metadata": {},
          "output_type": "execute_result"
        }
      ],
      "source": [
        "model_lab6_ex2.constraints.add(expr= model_lab6_ex2.x[0] + model_lab6_ex2.x[1] + model_lab6_ex2.x[2]<= 75  )\n",
        "model_lab6_ex2.constraints.add(expr= model_lab6_ex2.x[2] + model_lab6_ex2.x[3] +  model_lab6_ex2.x[4] <= 100  )\n",
        "model_lab6_ex2.constraints.add(expr= model_lab6_ex2.x[0] + model_lab6_ex2.x[1] >= 10  )\n",
        "model_lab6_ex2.constraints.add(expr=model_lab6_ex2.x[4]+model_lab6_ex2.x[3]+model_lab6_ex2.x[2]-model_lab6_ex2.x[0]-model_lab6_ex2.x[1]<=model_lab6_ex2.u)\n",
        "model_lab6_ex2.constraints.add(expr=-model_lab6_ex2.x[4]-model_lab6_ex2.x[3]-model_lab6_ex2.x[2]+model_lab6_ex2.x[0]+model_lab6_ex2.x[1]<=model_lab6_ex2.u)"
      ]
    },
    {
      "cell_type": "code",
      "execution_count": 8,
      "metadata": {
        "colab": {
          "base_uri": "https://localhost:8080/"
        },
        "id": "BS0S8vPhXdlG",
        "outputId": "8988d9c5-3979-4ae1-b11c-81d4b9e3c249"
      },
      "outputs": [
        {
          "data": {
            "text/plain": [
              "<pyomo.core.base.constraint._GeneralConstraintData at 0x7f7c27229f30>"
            ]
          },
          "execution_count": 8,
          "metadata": {},
          "output_type": "execute_result"
        }
      ],
      "source": [
        "model_lab6_ex2.constraints.add(summation(data_csvfile['Cost per advt'], model_lab6_ex2.x) <= 1500000)"
      ]
    },
    {
      "cell_type": "code",
      "execution_count": 9,
      "metadata": {
        "colab": {
          "base_uri": "https://localhost:8080/"
        },
        "id": "DjLrmuNJXfmB",
        "outputId": "b3e30523-06aa-4437-cec8-b318495d8b36"
      },
      "outputs": [
        {
          "data": {
            "text/plain": [
              "<pyomo.core.base.constraint._GeneralConstraintData at 0x7f7c272291a0>"
            ]
          },
          "execution_count": 9,
          "metadata": {},
          "output_type": "execute_result"
        }
      ],
      "source": [
        "model_lab6_ex2.constraints.add(summation(data_csvfile['Num Customers'], model_lab6_ex2.x) >= 900000)"
      ]
    },
    {
      "cell_type": "code",
      "execution_count": 10,
      "metadata": {
        "id": "CYk5smxvXhbR"
      },
      "outputs": [],
      "source": [
        "lower_bound = 0\n",
        "upper_bound = np.inf\n",
        "for j in col_indices:\n",
        "  model_lab6_ex2.x[j].setlb(lower_bound)\n",
        "  model_lab6_ex2.x[j].setub(upper_bound)"
      ]
    },
    {
      "cell_type": "code",
      "execution_count": 11,
      "metadata": {
        "colab": {
          "base_uri": "https://localhost:8080/"
        },
        "id": "_gGsxNZHXkdi",
        "outputId": "537d90f1-688e-4fbc-cdd4-27c9975d91fa"
      },
      "outputs": [
        {
          "name": "stdout",
          "output_type": "stream",
          "text": [
            "2 Set Declarations\n",
            "    constraints_index : Size=1, Index=None, Ordered=Insertion\n",
            "        Key  : Dimen : Domain : Size : Members\n",
            "        None :     1 :    Any :    7 : {1, 2, 3, 4, 5, 6, 7}\n",
            "    x_index : Size=1, Index=None, Ordered=False\n",
            "        Key  : Dimen : Domain : Size : Members\n",
            "        None :     1 :    Any :    5 : {0, 1, 2, 3, 4}\n",
            "\n",
            "2 Var Declarations\n",
            "    u : Size=1, Index=None\n",
            "        Key  : Lower : Value : Upper : Fixed : Stale : Domain\n",
            "        None :     0 :  None :    18 : False :  True : NonNegativeIntegers\n",
            "    x : Size=5, Index=x_index\n",
            "        Key : Lower : Value : Upper : Fixed : Stale : Domain\n",
            "          0 :     0 :  None :   inf : False :  True : NonNegativeIntegers\n",
            "          1 :     0 :  None :   inf : False :  True : NonNegativeIntegers\n",
            "          2 :     0 :  None :   inf : False :  True : NonNegativeIntegers\n",
            "          3 :     0 :  None :   inf : False :  True : NonNegativeIntegers\n",
            "          4 :     0 :  None :   inf : False :  True : NonNegativeIntegers\n",
            "\n",
            "1 Objective Declarations\n",
            "    objective : Size=1, Index=None, Active=True\n",
            "        Key  : Active : Sense    : Expression\n",
            "        None :   True : maximize : 35*x[0] + 57*x[1] + 48*x[2] + 20*x[3] + 15*x[4]\n",
            "\n",
            "1 Constraint Declarations\n",
            "    constraints : Size=7, Index=constraints_index, Active=True\n",
            "        Key : Lower    : Body                                                              : Upper     : Active\n",
            "          1 :     -Inf :                                                x[0] + x[1] + x[2] :      75.0 :   True\n",
            "          2 :     -Inf :                                                x[2] + x[3] + x[4] :     100.0 :   True\n",
            "          3 :     10.0 :                                                       x[0] + x[1] :      +Inf :   True\n",
            "          4 :     -Inf :                              x[4] + x[3] + x[2] - x[0] - x[1] - u :       0.0 :   True\n",
            "          5 :     -Inf :                            - x[4] - x[3] - x[2] + x[0] + x[1] - u :       0.0 :   True\n",
            "          6 :     -Inf :      30000*x[0] + 95000*x[1] + 10000*x[2] + 5000*x[3] + 4000*x[4] : 1500000.0 :   True\n",
            "          7 : 900000.0 : 100000*x[0] + 500000*x[1] + 200000*x[2] + 45000*x[3] + 25000*x[4] :      +Inf :   True\n",
            "\n",
            "6 Declarations: x_index x u objective constraints_index constraints\n"
          ]
        }
      ],
      "source": [
        "model_lab6_ex2.pprint()"
      ]
    },
    {
      "cell_type": "code",
      "execution_count": 12,
      "metadata": {
        "colab": {
          "base_uri": "https://localhost:8080/"
        },
        "id": "J5tiwkYHXlkf",
        "outputId": "dda635c0-0ad5-4104-be11-c3f4964fa3f0"
      },
      "outputs": [
        {
          "name": "stdout",
          "output_type": "stream",
          "text": [
            "Selecting previously unselected package coinor-libcoinutils3v5.\n",
            "(Reading database ... 148492 files and directories currently installed.)\n",
            "Preparing to unpack .../0-coinor-libcoinutils3v5_2.10.14+repack1-1_amd64.deb ...\n",
            "Unpacking coinor-libcoinutils3v5 (2.10.14+repack1-1) ...\n",
            "Selecting previously unselected package coinor-libosi1v5.\n",
            "Preparing to unpack .../1-coinor-libosi1v5_0.107.9+repack1-1_amd64.deb ...\n",
            "Unpacking coinor-libosi1v5 (0.107.9+repack1-1) ...\n",
            "Selecting previously unselected package coinor-libclp1.\n",
            "Preparing to unpack .../2-coinor-libclp1_1.16.11+repack1-1_amd64.deb ...\n",
            "Unpacking coinor-libclp1 (1.16.11+repack1-1) ...\n",
            "Selecting previously unselected package coinor-libcgl1.\n",
            "Preparing to unpack .../3-coinor-libcgl1_0.59.10+repack1-1_amd64.deb ...\n",
            "Unpacking coinor-libcgl1 (0.59.10+repack1-1) ...\n",
            "Selecting previously unselected package coinor-libcbc3.\n",
            "Preparing to unpack .../4-coinor-libcbc3_2.9.9+repack1-1_amd64.deb ...\n",
            "Unpacking coinor-libcbc3 (2.9.9+repack1-1) ...\n",
            "Selecting previously unselected package coinor-cbc.\n",
            "Preparing to unpack .../5-coinor-cbc_2.9.9+repack1-1_amd64.deb ...\n",
            "Unpacking coinor-cbc (2.9.9+repack1-1) ...\n",
            "Setting up coinor-libcoinutils3v5 (2.10.14+repack1-1) ...\n",
            "Setting up coinor-libosi1v5 (0.107.9+repack1-1) ...\n",
            "Setting up coinor-libclp1 (1.16.11+repack1-1) ...\n",
            "Setting up coinor-libcgl1 (0.59.10+repack1-1) ...\n",
            "Setting up coinor-libcbc3 (2.9.9+repack1-1) ...\n",
            "Setting up coinor-cbc (2.9.9+repack1-1) ...\n",
            "Processing triggers for man-db (2.8.3-2ubuntu0.1) ...\n",
            "Processing triggers for libc-bin (2.27-3ubuntu1.2) ...\n",
            "/sbin/ldconfig.real: /usr/local/lib/python3.7/dist-packages/ideep4py/lib/libmkldnn.so.0 is not a symbolic link\n",
            "\n"
          ]
        }
      ],
      "source": [
        "!apt-get install -y -qq coinor-cbc\n",
        "opt_cbc = SolverFactory('cbc')"
      ]
    },
    {
      "cell_type": "markdown",
      "metadata": {
        "id": "_48y7Hj5BSzb"
      },
      "source": [
        "$Q:\\;4 -(i)\\\\\n",
        "Solving \\;the \\;respective \\;linear\\; program \\;obtained \\;from \\;Approach\\; 1\\; and\\;reporting\\; the \\;solver \\;status\\; and \\;termination\\; conditions.$"
      ]
    },
    {
      "cell_type": "code",
      "execution_count": 13,
      "metadata": {
        "colab": {
          "base_uri": "https://localhost:8080/"
        },
        "id": "EjadmTU_XpG2",
        "outputId": "86f8b59c-023a-4208-a20b-70ad58871696"
      },
      "outputs": [
        {
          "name": "stdout",
          "output_type": "stream",
          "text": [
            "Solver status: ok\n",
            "Solver termination condition: optimal\n"
          ]
        }
      ],
      "source": [
        "result = opt_cbc.solve(model_lab6_ex2)\n",
        "print('Solver status:', result.solver.status)\n",
        "print('Solver termination condition:',result.solver.termination_condition)"
      ]
    },
    {
      "cell_type": "markdown",
      "metadata": {
        "id": "egC13D9bCA85"
      },
      "source": [
        "$Since, \\;the \\;solver \\;status\\; is \\;optimal, \\;therefore \\;no \\;remedy \\;measures\\; is\\; needed.$"
      ]
    },
    {
      "cell_type": "markdown",
      "metadata": {
        "id": "J8pMO8R95Mns"
      },
      "source": [
        "$Q:\\;5-(i) \\\\\n",
        "Reporting\\; the\\; optimal\\; objective \\;function\\; value,\\; optimal \\;values \\;of\\; the\\; original \\;decision\\; variables\\;and \\;the\\; new\\; decision\\; variables \\;and \\;the\\;constraint \\;activities \\;in\\; Approach\\; 1$"
      ]
    },
    {
      "cell_type": "code",
      "execution_count": 14,
      "metadata": {
        "colab": {
          "base_uri": "https://localhost:8080/"
        },
        "id": "n_pCPdjSXq1Z",
        "outputId": "946b2100-9da7-40e6-db80-39bd0929391e"
      },
      "outputs": [
        {
          "name": "stdout",
          "output_type": "stream",
          "text": [
            "\n",
            "Optimal objective function value =  3378.0\n",
            "\n",
            "Optimal values of the decision Variables:\n",
            "Num slots for medium  Websites  :  34.0\n",
            "Num slots for medium  TV  :  0.0\n",
            "Num slots for medium  DailyNewspaper  :  41.0\n",
            "Num slots for medium  WeeklyMagazine  :  11.0\n",
            "Num slots for medium  MonthlyMagazine  :  0.0\n",
            "\n",
            "Constraints\n",
            "constraints : Size=7\n",
            "    Key : Lower    : Body       : Upper\n",
            "      1 :     None :       75.0 :      75.0\n",
            "      2 :     None :       52.0 :     100.0\n",
            "      3 :     10.0 :       34.0 :      None\n",
            "      4 :     None :        0.0 :       0.0\n",
            "      5 :     None :      -36.0 :       0.0\n",
            "      6 :     None :  1485000.0 : 1500000.0\n",
            "      7 : 900000.0 : 12095000.0 :      None\n"
          ]
        }
      ],
      "source": [
        "print('\\nOptimal objective function value = ', model_lab6_ex2.objective())\n",
        "\n",
        "print('\\nOptimal values of the decision Variables:')\n",
        "for i in col_indices:\n",
        "  print('Num slots for medium ',data_csvfile['Medium'][i],' : ', model_lab6_ex2.x[i].value)\n",
        "\n",
        "print('\\nConstraints')\n",
        "model_lab6_ex2.constraints.display()"
      ]
    },
    {
      "cell_type": "markdown",
      "metadata": {
        "id": "iZyjWi6ED0H3"
      },
      "source": [
        "$Modifying\\; again:$"
      ]
    },
    {
      "cell_type": "code",
      "execution_count": 15,
      "metadata": {
        "id": "z4zvjn4Hy2pZ"
      },
      "outputs": [],
      "source": [
        "model_lab6_ex2.constraints[4].deactivate()\n",
        "model_lab6_ex2.constraints[5].deactivate()"
      ]
    },
    {
      "cell_type": "code",
      "execution_count": 16,
      "metadata": {
        "id": "MWTL0HHFzXQD"
      },
      "outputs": [],
      "source": [
        "model_lab6_ex2.reconstruct\n",
        "model_lab6_ex2.y = Var(range(0,2), domain=NonNegativeIntegers)"
      ]
    },
    {
      "cell_type": "code",
      "execution_count": 17,
      "metadata": {
        "colab": {
          "base_uri": "https://localhost:8080/"
        },
        "id": "XTXCJ4Jt0TFF",
        "outputId": "43466788-67ba-4368-ca0e-937f2b368984"
      },
      "outputs": [
        {
          "data": {
            "text/plain": [
              "<pyomo.core.base.constraint._GeneralConstraintData at 0x7f7c27229fa0>"
            ]
          },
          "execution_count": 17,
          "metadata": {},
          "output_type": "execute_result"
        }
      ],
      "source": [
        "model_lab6_ex2.constraints.add(expr=model_lab6_ex2.x[4]+model_lab6_ex2.x[3]+model_lab6_ex2.x[2]-model_lab6_ex2.x[0]-model_lab6_ex2.x[1]<=model_lab6_ex2.y[0]-model_lab6_ex2.y[1])\n",
        "model_lab6_ex2.constraints.add(expr=model_lab6_ex2.y[0]+model_lab6_ex2.y[1]<=18)"
      ]
    },
    {
      "cell_type": "code",
      "execution_count": 18,
      "metadata": {
        "colab": {
          "base_uri": "https://localhost:8080/"
        },
        "id": "2z5ownsv1YUM",
        "outputId": "4c7b7305-8bcb-4e99-b7e1-6b198374817a"
      },
      "outputs": [
        {
          "name": "stdout",
          "output_type": "stream",
          "text": [
            "3 Set Declarations\n",
            "    constraints_index : Size=1, Index=None, Ordered=Insertion\n",
            "        Key  : Dimen : Domain : Size : Members\n",
            "        None :     1 :    Any :    9 : {1, 2, 3, 4, 5, 6, 7, 8, 9}\n",
            "    x_index : Size=1, Index=None, Ordered=False\n",
            "        Key  : Dimen : Domain : Size : Members\n",
            "        None :     1 :    Any :    5 : {0, 1, 2, 3, 4}\n",
            "    y_index : Size=1, Index=None, Ordered=False\n",
            "        Key  : Dimen : Domain : Size : Members\n",
            "        None :     1 :    Any :    2 : {0, 1}\n",
            "\n",
            "3 Var Declarations\n",
            "    u : Size=1, Index=None\n",
            "        Key  : Lower : Value : Upper : Fixed : Stale : Domain\n",
            "        None :     0 :  18.0 :    18 : False : False : NonNegativeIntegers\n",
            "    x : Size=5, Index=x_index\n",
            "        Key : Lower : Value : Upper : Fixed : Stale : Domain\n",
            "          0 :     0 :  34.0 :   inf : False : False : NonNegativeIntegers\n",
            "          1 :     0 :   0.0 :   inf : False : False : NonNegativeIntegers\n",
            "          2 :     0 :  41.0 :   inf : False : False : NonNegativeIntegers\n",
            "          3 :     0 :  11.0 :   inf : False : False : NonNegativeIntegers\n",
            "          4 :     0 :   0.0 :   inf : False : False : NonNegativeIntegers\n",
            "    y : Size=2, Index=y_index\n",
            "        Key : Lower : Value : Upper : Fixed : Stale : Domain\n",
            "          0 :     0 :  None :  None : False :  True : NonNegativeIntegers\n",
            "          1 :     0 :  None :  None : False :  True : NonNegativeIntegers\n",
            "\n",
            "1 Objective Declarations\n",
            "    objective : Size=1, Index=None, Active=True\n",
            "        Key  : Active : Sense    : Expression\n",
            "        None :   True : maximize : 35*x[0] + 57*x[1] + 48*x[2] + 20*x[3] + 15*x[4]\n",
            "\n",
            "1 Constraint Declarations\n",
            "    constraints : Size=9, Index=constraints_index, Active=True\n",
            "        Key : Lower    : Body                                                              : Upper     : Active\n",
            "          1 :     -Inf :                                                x[0] + x[1] + x[2] :      75.0 :   True\n",
            "          2 :     -Inf :                                                x[2] + x[3] + x[4] :     100.0 :   True\n",
            "          3 :     10.0 :                                                       x[0] + x[1] :      +Inf :   True\n",
            "          4 :     -Inf :                              x[4] + x[3] + x[2] - x[0] - x[1] - u :       0.0 :  False\n",
            "          5 :     -Inf :                            - x[4] - x[3] - x[2] + x[0] + x[1] - u :       0.0 :  False\n",
            "          6 :     -Inf :      30000*x[0] + 95000*x[1] + 10000*x[2] + 5000*x[3] + 4000*x[4] : 1500000.0 :   True\n",
            "          7 : 900000.0 : 100000*x[0] + 500000*x[1] + 200000*x[2] + 45000*x[3] + 25000*x[4] :      +Inf :   True\n",
            "          8 :     -Inf :                  x[4] + x[3] + x[2] - x[0] - x[1] - (y[0] - y[1]) :       0.0 :   True\n",
            "          9 :     -Inf :                                                       y[0] + y[1] :      18.0 :   True\n",
            "\n",
            "8 Declarations: x_index x u objective constraints_index constraints y_index y\n"
          ]
        }
      ],
      "source": [
        "model_lab6_ex2.pprint()"
      ]
    },
    {
      "cell_type": "markdown",
      "metadata": {
        "id": "FtCflB-_5QYB"
      },
      "source": [
        "$Q:\\;4 -(ii)\\\\\n",
        "Solving \\;the \\;respective \\;linear\\; program \\;obtained \\;from \\;Approach\\; \\; and\\;reporting\\; the \\;solver \\;status\\; and \\;termination\\; conditions.$"
      ]
    },
    {
      "cell_type": "code",
      "execution_count": 19,
      "metadata": {
        "colab": {
          "base_uri": "https://localhost:8080/"
        },
        "id": "pcp3NJ9y1ciV",
        "outputId": "723888f5-d4fc-432a-aa7e-5528f172960f"
      },
      "outputs": [
        {
          "name": "stdout",
          "output_type": "stream",
          "text": [
            "Solver status: ok\n",
            "Solver termination condition: optimal\n"
          ]
        }
      ],
      "source": [
        "result = opt_cbc.solve(model_lab6_ex2)\n",
        "print('Solver status:', result.solver.status)\n",
        "print('Solver termination condition:',result.solver.termination_condition)\n"
      ]
    },
    {
      "cell_type": "markdown",
      "metadata": {
        "id": "eHXcpEmoEJ1-"
      },
      "source": [
        "$Q:\\;5-(ii) \\\\\n",
        "Reporting\\; the\\; optimal\\; objective \\;function\\; value,\\; optimal \\;values \\;of\\; the\\; original \\;decision\\; variables\\;and \\;the\\; new\\; decision\\; variables \\;and \\;the\\;constraint  \\;activities \\;in\\; Approach\\; 2$"
      ]
    },
    {
      "cell_type": "code",
      "execution_count": 20,
      "metadata": {
        "colab": {
          "base_uri": "https://localhost:8080/"
        },
        "id": "B9PwgqbeECc-",
        "outputId": "779d2f41-232e-4f2b-e751-94f4e52fb26d"
      },
      "outputs": [
        {
          "name": "stdout",
          "output_type": "stream",
          "text": [
            "\n",
            "Objective =  3378.0\n",
            "\n",
            "Decision Variables\n",
            "Num slots for medium  Websites 34.0\n",
            "Num slots for medium  TV 0.0\n",
            "Num slots for medium  DailyNewspaper 41.0\n",
            "Num slots for medium  WeeklyMagazine 11.0\n",
            "Num slots for medium  MonthlyMagazine 0.0\n",
            "\n",
            "Constraints\n",
            "constraints : Size=9\n",
            "    Key : Lower    : Body       : Upper\n",
            "      1 :     None :       75.0 :      75.0\n",
            "      2 :     None :       52.0 :     100.0\n",
            "      3 :     10.0 :       34.0 :      None\n",
            "      6 :     None :  1485000.0 : 1500000.0\n",
            "      7 : 900000.0 : 12095000.0 :      None\n",
            "      8 :     None :        0.0 :       0.0\n",
            "      9 :     None :       18.0 :      18.0\n"
          ]
        }
      ],
      "source": [
        "print('\\nObjective = ', model_lab6_ex2.objective())\n",
        "\n",
        "print('\\nDecision Variables')\n",
        "for i in col_indices:\n",
        "  print('Num slots for medium ',data_csvfile['Medium'][i], model_lab6_ex2.x[i].value)\n",
        "\n",
        "print('\\nConstraints')\n",
        "model_lab6_ex2.constraints.display()"
      ]
    },
    {
      "cell_type": "markdown",
      "metadata": {
        "id": "FYk-y0X8N8Zt"
      },
      "source": [
        "$Q: \\;6 \\\\\n",
        "Since,\\;the\\; optimal\\; objective \\;function\\; value,\\; optimal \\;values \\;of\\; the\\; original \\;decision\\; variables\\; are \\;same \\;in \\;both \\;the \\;approaches,\\; i.e. \\\\\n",
        "Optimal\\; objective \\;function \\;value =  3391.5 \\\\\n",
        "Optimal \\;values\\;of \\;the\\; decision \\;Variables: \\\\\n",
        "Num \\;slots\\; for \\;medium \\; Websites  :  34.5 \\\\\n",
        "Num \\;slots \\;for \\;medium\\;  TV  :  0.0 \\\\\n",
        "Num \\;slots\\; for\\; medium  \\;DailyNewspaper  :  40.5 \\\\\n",
        "Num \\;slots\\; for \\;medium \\; WeeklyMagazine  :  12.0 \\\\\n",
        "Num\\; slots\\; for\\; medium \\; MonthlyMagazine  :  0.0 \\\\\n",
        "Hence,\\; both \\;the \\;approaches\\; are \\;equivalent. $"
      ]
    },
    {
      "cell_type": "markdown",
      "metadata": {
        "id": "5yWYUZr1DmkL"
      },
      "source": [
        "$Q:7 \\\\\n",
        "Let\\; z_3 \\;denote\\; the\\; total\\; number\\; of\\; media \\;slots\\; allotted \\;for \\; weekly\\; and\\;monthly\\;\n",
        "magazines. \\;Therefore,\\;z_3=x_5+x_6\\; \\\\\n",
        "According \\;to\\; the\\; problem,\\; |z_3-x_3|\\geq4 \\\\\n",
        "Hence, \\;the \\;new \\;optimization \\;problem \\;will \\;be\\; as\\; follows: $\n",
        "\\begin{align}\n",
        "\\max \\ 35 x_1 + 57 x_2 + 48 x_3 + 20 x_4 + 15 x_5, \\\\\n",
        "{\\rm{s.t.}} \\; x_1 + x_2 + x_3 & \\leq 75, \\\\\n",
        "x_3 + x_4 + x_5 & \\leq 100, \\\\\n",
        "x_1 + x_2 & \\geq 10, \\\\ \n",
        "30000 x_1 + 95000 x_2 + 10000 x_3 + 5000 x_4 + 4000 x_5 & \\leq 1500000, \\\\\n",
        "100000 x_1 + 500000 x_2 + 200000 x_3 + 45000 x_4 + 25000 x_5 & \\geq 900000, \\\\\n",
        "| x_5+x_6-x_3| \\geq4 \\\\\n",
        "x_i & \\geq 0, \\quad i \\in \\{1,2,3,4,5\\}. \\\\\n",
        "\\end{align} \\\\\n",
        "$Now,\\; the\\; above \\;optimization\\; model\\; is\\; not\\; linear\\; since,\\; it \\;contains\\; the \\;modulus \\;function,\\; which\\; is \\;piecewise. \\;Hence,\\; for\\; converting \\;this\\; model \\;into \\;linear\\; program, \\; We \\;can\\; use\\; the\\;following \\;two\\; approaches : \\\\\n",
        "Approach\\; 1: \\\\\n",
        "We \\;take \\;a\\; new \\;variable \\;u = |x_4+x_5-x_3|\\; where, \\; u\\geq 0 \\;also, \\;according \\;to \\;the \\;question,\\; u\\geq4  \\\\\n",
        "Hence,\\; the\\; optimization\\; problem\\; will \\;be \\;as \\;follows: $ \\\\\n",
        "\n",
        "\\begin{align}\n",
        "\\max \\ 35 x_1 + 57 x_2 + 48 x_3 + 20 x_4 + 15 x_5, \\\\\n",
        "{\\rm{s.t.}} \\; x_1 + x_2 + x_3 & \\leq 75, \\\\\n",
        "x_3 + x_4 + x_5 & \\leq 100, \\\\\n",
        "x_1 + x_2 & \\geq 10, \\\\ \n",
        "30000 x_1 + 95000 x_2 + 10000 x_3 + 5000 x_4 + 4000 x_5 & \\leq 1500000, \\\\\n",
        "100000 x_1 + 500000 x_2 + 200000 x_3 + 45000 x_4 + 25000 x_5 & \\geq 900000,\\\\\n",
        "x_3-x_4-x_5 \\leq u \\\\\n",
        "-x_3+x_4+x_5 \\leq u,\\\\\n",
        "u \\geq 4,\\\\\n",
        "x_i & \\geq 0, \\quad i \\in \\{1,2,3,4,5\\}.\n",
        "\\end{align} \\\\\n",
        "\n",
        "$The\\; above \\;model \\;is \\;linear.$\n",
        "\n",
        "$Approach\\;2: \\\\\n",
        "Let's\\; take \\; -x_3+x_4+x_5 = a-b , \\;Therefore,\\; |-x_3+x_4+x_5| = |a-b| = a+b, \\;where \\;a,\\; b \\geq 0  \\\\\n",
        "Hence,\\; the\\; optimization\\; problem\\; will \\;be \\;as \\;follows:$\n",
        "\\begin{align}\n",
        "\\max \\ 35 x_1 + 57 x_2 + 48 x_3 + 20 x_4 + 15 x_5, \\\\\n",
        "{\\rm{s.t.}} \\; x_1 + x_2 + x_3 & \\leq 75, \\\\\n",
        "x_3 + x_4 + x_5 & \\leq 100, \\\\\n",
        "x_1 + x_2 & \\geq 10, \\\\ \n",
        "30000 x_1 + 95000 x_2 + 10000 x_3 + 5000 x_4 + 4000 x_5 & \\leq 1500000, \\\\\n",
        "100000 x_1 + 500000 x_2 + 200000 x_3 + 45000 x_4 + 25000 x_5 & \\geq 900000, \\\\\n",
        "-x_3+x_4+x_5-a+b=0\\\\\n",
        "a+b \\geq 4,\\\\\n",
        "x_i & \\geq 0, \\quad i \\in \\{1,2,3,4,5\\}. \\\\ a,b \\geq 0\n",
        "\\end{align}\n",
        "\n",
        "$The\\; above \\;model \\;is \\;also\\;linear.$"
      ]
    }
  ],
  "metadata": {
    "colab": {
      "collapsed_sections": [],
      "name": "21i190007_IE507_Lab06_Ex2.ipynb",
      "provenance": []
    },
    "kernelspec": {
      "display_name": "Python 3",
      "name": "python3"
    },
    "language_info": {
      "name": "python"
    }
  },
  "nbformat": 4,
  "nbformat_minor": 0
}
