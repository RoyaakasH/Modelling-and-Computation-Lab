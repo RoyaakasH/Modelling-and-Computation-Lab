{
  "nbformat": 4,
  "nbformat_minor": 0,
  "metadata": {
    "colab": {
      "name": "SimPython1-class.ipynb",
      "provenance": [],
      "collapsed_sections": []
    },
    "kernelspec": {
      "name": "python3",
      "display_name": "Python 3"
    }
  },
  "cells": [
    {
      "cell_type": "markdown",
      "metadata": {
        "id": "uT_cmDH4VNUW"
      },
      "source": [
        "# Simulation using Python 1\n",
        "### Using Numpy's random package\n",
        "\n",
        "[Numpy Random website](https://docs.scipy.org/doc/numpy-1.14.1/reference/routines.random.html)"
      ]
    },
    {
      "cell_type": "markdown",
      "metadata": {
        "id": "L7CjxntgVigf"
      },
      "source": [
        "**import packages**"
      ]
    },
    {
      "cell_type": "code",
      "metadata": {
        "id": "xZ6aaRKXV4PY"
      },
      "source": [
        "#run this code first\n",
        "import numpy.random as rnd\n",
        "import numpy as np"
      ],
      "execution_count": null,
      "outputs": []
    },
    {
      "cell_type": "markdown",
      "metadata": {
        "id": "YNR-O4lWhEyf"
      },
      "source": [
        "**Example 1a: Roll a die 10 times and observe output**\n",
        "\n",
        "We will use randint() function for this"
      ]
    },
    {
      "cell_type": "code",
      "metadata": {
        "id": "6_A7ygliYCBZ",
        "colab": {
          "base_uri": "https://localhost:8080/"
        },
        "outputId": "9ea5129d-957b-49a0-ae01-87bda7e5e4e8"
      },
      "source": [
        "#run this code.  Click play multiple times to simulate multiple dice throws\n",
        "rnd.randint(1,6+1)"
      ],
      "execution_count": null,
      "outputs": [
        {
          "output_type": "execute_result",
          "data": {
            "text/plain": [
              "1"
            ]
          },
          "metadata": {},
          "execution_count": 2
        }
      ]
    },
    {
      "cell_type": "code",
      "metadata": {
        "id": "zsKvSPgnYEm6",
        "colab": {
          "base_uri": "https://localhost:8080/"
        },
        "outputId": "21f3b915-28db-449b-e734-f6145f004152"
      },
      "source": [
        "#insert code here to simulate 10 rolls of a die, and print the output. \n",
        "for i in range(10):\n",
        "  print( rnd.randint(1,7)  ,end=', ') "
      ],
      "execution_count": null,
      "outputs": [
        {
          "output_type": "stream",
          "name": "stdout",
          "text": [
            "3, 3, 6, 2, 1, 5, 5, 1, 2, 3, "
          ]
        }
      ]
    },
    {
      "cell_type": "markdown",
      "metadata": {
        "id": "kMa9iXXOhYMz"
      },
      "source": [
        "**Example 1b: Roll a pair of dice N times, and plot histogram**\n",
        "\n",
        "We will use randint() function for this; use matplotlib.pyplot for plotting"
      ]
    },
    {
      "cell_type": "code",
      "metadata": {
        "id": "4uVftSjiYj5C",
        "colab": {
          "base_uri": "https://localhost:8080/"
        },
        "outputId": "a5769015-26fb-4387-df8e-08beae17fcec"
      },
      "source": [
        "#Code adds the output of two 'dice throws'. Run code multiple times.\n",
        "rnd.randint(1,6+1) + rnd.randint(1,6+1)"
      ],
      "execution_count": null,
      "outputs": [
        {
          "output_type": "execute_result",
          "data": {
            "text/plain": [
              "7"
            ]
          },
          "metadata": {},
          "execution_count": 4
        }
      ]
    },
    {
      "cell_type": "code",
      "metadata": {
        "id": "Q3Ou0-00YOKB",
        "colab": {
          "base_uri": "https://localhost:8080/"
        },
        "outputId": "d10feb79-6396-40fd-bb21-76ddca8a40e8"
      },
      "source": [
        "#Code here simulates 10 dice throws.\n",
        "for i in range(10):\n",
        "  print(rnd.randint(1,7), end=', ')"
      ],
      "execution_count": null,
      "outputs": [
        {
          "output_type": "stream",
          "name": "stdout",
          "text": [
            "2, 4, 1, 4, 1, 5, 2, 5, 1, 3, "
          ]
        }
      ]
    },
    {
      "cell_type": "code",
      "metadata": {
        "id": "Jw-6fA9zYoRB"
      },
      "source": [
        "#Required for plotting.\n",
        "import matplotlib.pyplot as plt"
      ],
      "execution_count": null,
      "outputs": []
    },
    {
      "cell_type": "code",
      "metadata": {
        "id": "I1qr9mvzY479",
        "colab": {
          "base_uri": "https://localhost:8080/",
          "height": 315
        },
        "outputId": "29cfbdc9-7a9b-463b-9648-6809009caee9"
      },
      "source": [
        "# Simulate N throws of pair of dice, and plot histogram\n",
        "n=1000\n",
        "x=[]\n",
        "for i in range(n):\n",
        "  x.append(rnd.randint(1,7))\n",
        "\n",
        "plt.hist(x)"
      ],
      "execution_count": null,
      "outputs": [
        {
          "output_type": "execute_result",
          "data": {
            "text/plain": [
              "(array([178.,   0., 160.,   0., 173.,   0., 155.,   0., 161., 173.]),\n",
              " array([1. , 1.5, 2. , 2.5, 3. , 3.5, 4. , 4.5, 5. , 5.5, 6. ]),\n",
              " <a list of 10 Patch objects>)"
            ]
          },
          "metadata": {},
          "execution_count": 8
        },
        {
          "output_type": "display_data",
          "data": {
            "image/png": "[encoded data removed]",
            "text/plain": [
              "<Figure size 432x288 with 1 Axes>"
            ]
          },
          "metadata": {
            "needs_background": "light"
          }
        }
      ]
    },
    {
      "cell_type": "markdown",
      "metadata": {
        "id": "TycNwmAPiEux"
      },
      "source": [
        "**Example 1c,1d: Toss a fair/unfair coin 10 times**\n",
        "\n",
        "Use choice() function"
      ]
    },
    {
      "cell_type": "code",
      "metadata": {
        "id": "Eo-lMDhvZHY9",
        "colab": {
          "base_uri": "https://localhost:8080/"
        },
        "outputId": "51098c6c-8b47-4d0a-8d9a-10627ad3ae76"
      },
      "source": [
        "#insert code here to simulate toss a fair coin, choice(coin)\n",
        "coin=['Heads', 'Tails']\n",
        "for i in range(10):\n",
        " print(coin[rnd.randint(0,2)])"
      ],
      "execution_count": null,
      "outputs": [
        {
          "output_type": "stream",
          "name": "stdout",
          "text": [
            "Tails\n",
            "Heads\n",
            "Tails\n",
            "Heads\n",
            "Tails\n",
            "Heads\n",
            "Tails\n",
            "Heads\n",
            "Heads\n",
            "Heads\n"
          ]
        }
      ]
    },
    {
      "cell_type": "code",
      "metadata": {
        "id": "DKQ4dfi0aFi0",
        "colab": {
          "base_uri": "https://localhost:8080/"
        },
        "outputId": "874c9242-1dca-4e13-b130-3a2a227c7e5e"
      },
      "source": [
        "#insert code here to simulate toss an unfair coin, with P{H}=0.8. \n",
        "#use choice(coin, p=[0.8, 0.2])\n",
        "coin=['Heads', 'Tails']\n",
        "for i in range(10):\n",
        " print(rnd.choice(coin, p=[0.8, 0.2]))"
      ],
      "execution_count": null,
      "outputs": [
        {
          "output_type": "stream",
          "name": "stdout",
          "text": [
            "Heads\n",
            "Heads\n",
            "Tails\n",
            "Heads\n",
            "Tails\n",
            "Heads\n",
            "Tails\n",
            "Heads\n",
            "Heads\n",
            "Tails\n"
          ]
        }
      ]
    },
    {
      "cell_type": "code",
      "metadata": {
        "id": "SRqkKjQmco-A",
        "colab": {
          "base_uri": "https://localhost:8080/"
        },
        "outputId": "d3e12de6-0a9a-4cc0-bd1b-5c8d1c80ea95"
      },
      "source": [
        "#A more compact code. Use  choice(coin, p=[0.8, 0.2], size=10)\n",
        "coin=['Heads', 'Tails']\n",
        "rnd.choice(coin, p=[0.8, 0.2], size=10)"
      ],
      "execution_count": null,
      "outputs": [
        {
          "output_type": "execute_result",
          "data": {
            "text/plain": [
              "array(['Heads', 'Heads', 'Heads', 'Tails', 'Heads', 'Heads', 'Heads',\n",
              "       'Heads', 'Heads', 'Tails'], dtype='<U5')"
            ]
          },
          "metadata": {},
          "execution_count": 30
        }
      ]
    },
    {
      "cell_type": "markdown",
      "metadata": {
        "id": "dt0uVvF-ifKy"
      },
      "source": [
        "**Example 1e: Sample 3 balls from a box with 5 red and 3 blue balls, without replacement**\n",
        "\n",
        "Use sample() function "
      ]
    },
    {
      "cell_type": "code",
      "metadata": {
        "id": "dPFuBcCDc7Dm",
        "colab": {
          "base_uri": "https://localhost:8080/"
        },
        "outputId": "4436dfe6-aa70-4f4b-cced-7957d38ff294"
      },
      "source": [
        "#insert code here to simulate sampling without replacement. Use replace='False' in choice.\n",
        "box=['red','red','red','red','red','blue','blue','blue']\n",
        "rnd.choice(box, size=3)"
      ],
      "execution_count": null,
      "outputs": [
        {
          "output_type": "execute_result",
          "data": {
            "text/plain": [
              "array(['blue', 'red', 'red'], dtype='<U4')"
            ]
          },
          "metadata": {},
          "execution_count": 35
        }
      ]
    },
    {
      "cell_type": "markdown",
      "metadata": {
        "id": "fywJnj-hiwqt"
      },
      "source": [
        "**Example 1f: Randomly shuffle a list of students**\n",
        "\n",
        "Use shuffle() function"
      ]
    },
    {
      "cell_type": "code",
      "metadata": {
        "id": "eduuS73peSiu",
        "colab": {
          "base_uri": "https://localhost:8080/"
        },
        "outputId": "2989d86e-3ca8-4a4c-f4c2-12d7b2c8abed"
      },
      "source": [
        "#insert code here to shuffle a list\n",
        "students=['bhanu','shyam','radha','vijay','manu','deepak','meena','latha', 'alex', 'sania']\n",
        "rnd.shuffle(students)\n",
        "print(students)"
      ],
      "execution_count": null,
      "outputs": [
        {
          "output_type": "stream",
          "name": "stdout",
          "text": [
            "['radha', 'vijay', 'sania', 'meena', 'bhanu', 'shyam', 'manu', 'alex', 'latha', 'deepak']\n"
          ]
        }
      ]
    },
    {
      "cell_type": "markdown",
      "metadata": {
        "id": "Sfe_K2ekyK9X"
      },
      "source": [
        "**Example 1g: Probability Distributions**\n",
        "\n",
        "Use random(), uniform(), triangular(), exponential()"
      ]
    },
    {
      "cell_type": "code",
      "metadata": {
        "id": "mr_GHbBQyX6C",
        "colab": {
          "base_uri": "https://localhost:8080/"
        },
        "outputId": "6d0b6500-b1f5-406c-89f6-5f4d3ad74ead"
      },
      "source": [
        "# Use random() function to generate numbers between 0 and 1\n",
        "# Use uniform(a,b) function to generate numbers between a=1 and b=6\n",
        "# Use triangular(low, mode, high) function to generate numbers triangular(1,2,6)\n",
        "# Use exponential(scale) function to generate numbers exponential(scale=2); scale = 1/lambda\n",
        "print('From random', rnd.random())\n",
        "print('from uniform', rnd.uniform(1,6))\n",
        "print('from tria(1,6,2)', rnd.triangular(1,2,6))\n",
        "print('from exponential(2)', rnd.exponential(2))"
      ],
      "execution_count": null,
      "outputs": [
        {
          "output_type": "stream",
          "name": "stdout",
          "text": [
            "From random 0.5809796718389352\n",
            "from uniform 2.4785181483507266\n",
            "from tria(1,6,2) 1.8350592484880421\n",
            "from exponential(2) 1.6470836880544169\n"
          ]
        }
      ]
    },
    {
      "cell_type": "markdown",
      "metadata": {
        "id": "gqI7nLL80Vh_"
      },
      "source": [
        "Next: Let's generate say 1000 samples from a distribution and plot the histogram to see the distribution"
      ]
    },
    {
      "cell_type": "code",
      "metadata": {
        "id": "ACtJnev40e1X",
        "colab": {
          "base_uri": "https://localhost:8080/",
          "height": 366
        },
        "outputId": "49f5da88-ddbd-44a9-d639-046f1e3cc674"
      },
      "source": [
        "#Let's try uniform distribution\n",
        "y=[]\n",
        "n=10000\n",
        "for i in range(n):\n",
        "  y.append(rnd.uniform(1,6))\n",
        "\n",
        "plt.hist(y)"
      ],
      "execution_count": null,
      "outputs": [
        {
          "output_type": "execute_result",
          "data": {
            "text/plain": [
              "(array([ 957.,  969., 1044., 1002., 1049., 1019., 1018., 1004.,  966.,\n",
              "         972.]),\n",
              " array([1.00019313, 1.50012929, 2.00006544, 2.5000016 , 2.99993776,\n",
              "        3.49987391, 3.99981007, 4.49974623, 4.99968238, 5.49961854,\n",
              "        5.99955469]),\n",
              " <a list of 10 Patch objects>)"
            ]
          },
          "metadata": {},
          "execution_count": 43
        },
        {
          "output_type": "display_data",
          "data": {
            "image/png": "[encoded data removed]",
            "text/plain": [
              "<Figure size 432x288 with 1 Axes>"
            ]
          },
          "metadata": {
            "needs_background": "light"
          }
        }
      ]
    },
    {
      "cell_type": "code",
      "metadata": {
        "id": "T5rf4ueP0w25",
        "colab": {
          "base_uri": "https://localhost:8080/",
          "height": 349
        },
        "outputId": "f11fb580-fcfe-49f0-ea7b-2d4db114fb6f"
      },
      "source": [
        "#Let's try expo(2) distribution\n",
        "z=[]\n",
        "n=1000\n",
        "for i in range(n):\n",
        "  z.append(rnd.exponential(2))\n",
        "\n",
        "plt.hist(z)"
      ],
      "execution_count": null,
      "outputs": [
        {
          "output_type": "execute_result",
          "data": {
            "text/plain": [
              "(array([561., 271., 102.,  35.,  14.,   9.,   4.,   3.,   0.,   1.]),\n",
              " array([7.96818613e-04, 1.62999674e+00, 3.25919666e+00, 4.88839657e+00,\n",
              "        6.51759649e+00, 8.14679641e+00, 9.77599633e+00, 1.14051962e+01,\n",
              "        1.30343962e+01, 1.46635961e+01, 1.62927960e+01]),\n",
              " <a list of 10 Patch objects>)"
            ]
          },
          "metadata": {},
          "execution_count": 46
        },
        {
          "output_type": "display_data",
          "data": {
            "image/png": "[encoded data removed]",
            "text/plain": [
              "<Figure size 432x288 with 1 Axes>"
            ]
          },
          "metadata": {
            "needs_background": "light"
          }
        }
      ]
    },
    {
      "cell_type": "code",
      "metadata": {
        "id": "XKBzsEZ5PW2m",
        "colab": {
          "base_uri": "https://localhost:8080/"
        },
        "outputId": "19a13736-43aa-48c7-bfc1-38c1bfea93cd"
      },
      "source": [
        "# We can write a more compact code using \"size\" input inside the distribution function\n",
        "n=1000\n",
        "z=[]\n",
        "z= (z.append(rnd.exponential(2)) for i in range(n))\n",
        "print(z)\n",
        "#plt.hist(z)"
      ],
      "execution_count": null,
      "outputs": [
        {
          "output_type": "stream",
          "name": "stdout",
          "text": [
            "<generator object <genexpr> at 0x7f39bb8185d0>\n"
          ]
        }
      ]
    },
    {
      "cell_type": "markdown",
      "metadata": {
        "id": "eaQ-jxQH2v4Z"
      },
      "source": [
        "Next: Let's try simple probability exercises, compute P{X>=3}, where X ~ expo(mean=2)"
      ]
    },
    {
      "cell_type": "code",
      "metadata": {
        "id": "owSVOBcK1crb"
      },
      "source": [
        "# Suppose X ~Expo(mean=2), what is P(X>=8)? Rerun with different values of n (sample size) and observe the output\n",
        "count=0\n",
        "n=10\n",
        "\n",
        "for i in range(n):\n",
        "  if (  >= 8):\n",
        "    count = count+1\n",
        "\n",
        "print('P{X>=8} is ', count/n)"
      ],
      "execution_count": null,
      "outputs": []
    },
    {
      "cell_type": "markdown",
      "metadata": {
        "id": "C58ouJl927rR"
      },
      "source": [
        "In the above code, you see that the Prob. value keeps changing when you run it multiple times. To keep it the same, we need the simulator to use the same set of random numbers each time.  We can do that using ```seed()``` function.\n",
        "\n",
        "In the above code, before the ```for-loop ```, insert ```rnd.seed(3)``` and rerun the code"
      ]
    },
    {
      "cell_type": "markdown",
      "metadata": {
        "id": "gcJUwt8E3sXB"
      },
      "source": [
        "**Example 1h: Central limit Theorem**\n",
        "If $X_1, X_2, ..X_n$ are i.i.d random samples each of size $n$ taken from a population. Then the sample mean $\\bar{X}$ is Normally distributed."
      ]
    },
    {
      "cell_type": "code",
      "metadata": {
        "id": "E7riElZe3XNT"
      },
      "source": [
        "# We can going to generate m sets of data, where each set has n data points. \n",
        "# From each set, we will take the sample mean, and plot the histogram of the sample means\n",
        "# let's generate samples from Expo(2)\n",
        "m=20\n",
        "n=100\n",
        "sample_means=[]\n",
        "rnd.seed(3)\n",
        "for i in range(m):\n",
        "  x=[]  \n",
        "  for j in range(n):\n",
        "\n",
        "plt.hist(sample_means,bins=30)"
      ],
      "execution_count": null,
      "outputs": []
    },
    {
      "cell_type": "markdown",
      "metadata": {
        "id": "u3USDWsK7f5V"
      },
      "source": [
        "***Note: The Above construct of ```inner for-loop``` for the samples, and the ```outer for-loop``` for the sample means is common in simulation***"
      ]
    },
    {
      "cell_type": "code",
      "metadata": {
        "id": "eIBANT3hNHd7"
      },
      "source": [
        "# However, we can write a compact code using list comprehension\n",
        "n=100\n",
        "rnd.seed(3)\n",
        "sample_means = [np.mean(rnd.exponential(2,n)) for i in range(m)]\n",
        "plt.hist(sample_means, bins=30)"
      ],
      "execution_count": null,
      "outputs": []
    },
    {
      "cell_type": "markdown",
      "metadata": {
        "id": "6aCnd7u878a5"
      },
      "source": [
        "##Exercise to try\n",
        "**P1: Compute P{2X+Y} <= 10, where X ~ triangular(1,3,8) and Y ~ discrete uniform[1,6] (i.e., sampling Y is like rolling a die)** \n",
        "\n",
        "Compute probability with at least 4 decimal place accuracy"
      ]
    },
    {
      "cell_type": "code",
      "metadata": {
        "id": "tsQo2L3J6dnw"
      },
      "source": [
        ""
      ],
      "execution_count": null,
      "outputs": []
    }
  ]
}