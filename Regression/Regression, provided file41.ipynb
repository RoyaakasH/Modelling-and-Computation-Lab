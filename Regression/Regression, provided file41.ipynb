{
  "cells": [
    {
      "cell_type": "markdown",
      "metadata": {
        "id": "n7i6OnYWOKsa"
      },
      "source": [
        "$$Exercise: 3$$"
      ]
    },
    {
      "cell_type": "markdown",
      "metadata": {
        "id": "PcsARAn45IP2"
      },
      "source": [
        "#Q-1"
      ]
    },
    {
      "cell_type": "markdown",
      "metadata": {
        "id": "HAmXRXwgfz5G"
      },
      "source": [
        "$The\\; company \\;feels \\;that\\; a\\;\n",
        "linear\\; model \\;of \\;the \\;form\\; P = b_0 +b_1L+b_2E \\;would\\; be\\; reasonably\\; accurate \\;and \\;easy\\; to \\;use.\\; Here,\\; b_1\\;and \\;b_2\\; indicate\\; how \\;the\\; price \\;varies \\;with \\;lot\\; size\\; and \\;elevation, \\;respectively, \\;while \\;b_0 \\;would\\;\n",
        "reflect \\;a\\; base\\; price\\; for\\; this \\;section \\;of\\; the\\; city. \\;Therefore, the\\; optimization\\; model\\; will\\; be \\;as \\;folllows:$ \\\\\n",
        "$$\\text{min} \\ \\  \\sum_{i=1}^{6} |P_i-\\tilde{P_i}| \\\\\n",
        "\\text{Subject to:  } \\\\\n",
        "\\tilde{P_i}=b_0+b_1L_i+b_2E_i \\ \\ \\forall i  \\\\\n",
        "b_0 \\geq 0$$ \\\\\n",
        "\n",
        "\\\\\n",
        "$No,\\; the\\; above \\;optimization \\;model\\; is\\; not \\;linear\\; since,\\; it\\; contains\\; the\\; modulus \\;function,\\; which \\;is\\; piecewise\\; but \\;not\\; linear.\\; But,\\;  Instead\\; of \\;minimizing \\;the\\; absolute\\; value\\; of\\; the \\;residual,\\; |P_i-\\tilde{P_i}|, \\;we\\; can\\; also\\; instead\\; minimize\\;the\\; square,\\; i.e. \\;(P_i-\\tilde{P_i})^2$ \\\\\n",
        "$Therefore,\\; the\\; optimization\\; problem \\;will\\; be\\; as\\; follows:$\n",
        "\n",
        "$$\\text{min} \\ \\  \\sum_{i=1}^{6} (P_i-\\tilde{P_i})^2 \\\\\n",
        "\\text{Subject to:  } \\\\\n",
        "\\tilde{P_i}=b_0+b_1L_i+b_2E_i \\\\\n",
        "b_0 \\geq 0$$"
      ]
    },
    {
      "cell_type": "code",
      "execution_count": 19,
      "metadata": {
        "colab": {
          "base_uri": "https://localhost:8080/"
        },
        "id": "vUzk2Q_FQPI_",
        "outputId": "3844fc86-8865-4b05-8370-c089b71de104"
      },
      "outputs": [
        {
          "name": "stdout",
          "output_type": "stream",
          "text": [
            "removed 'ipopt'\n",
            "Reading package lists...\n",
            "Building dependency tree...\n",
            "Reading state information...\n",
            "libgfortran5 is already the newest version (8.4.0-1ubuntu1~18.04).\n",
            "0 upgraded, 0 newly installed, 0 to remove and 37 not upgraded.\n"
          ]
        },
        {
          "name": "stderr",
          "output_type": "stream",
          "text": [
            "\n",
            "WARNING: apt does not have a stable CLI interface. Use with caution in scripts.\n",
            "\n"
          ]
        }
      ],
      "source": [
        "%%bash\n",
        "rm -fv ipopt*\n",
        "apt install -q -yy libgfortran5\n",
        "sleep 1\n",
        "wget -q https://www.ieor.iitb.ac.in/files/faculty/amahajan/ipopt\n",
        "wget -q https://www.ieor.iitb.ac.in/files/faculty/amahajan/test.nl\n",
        "chmod u+rx ipopt"
      ]
    },
    {
      "cell_type": "code",
      "execution_count": 20,
      "metadata": {
        "colab": {
          "base_uri": "https://localhost:8080/"
        },
        "id": "HdVOsoqZQPwd",
        "outputId": "5597d948-540e-4735-a3c9-298d0e11b885"
      },
      "outputs": [
        {
          "name": "stdout",
          "output_type": "stream",
          "text": [
            "\n",
            "\n",
            "******************************************************************************\n",
            "This program contains Ipopt, a library for large-scale nonlinear optimization.\n",
            " Ipopt is released as open source code under the Eclipse Public License (EPL).\n",
            "         For more information visit http://projects.coin-or.org/Ipopt\n",
            "******************************************************************************\n",
            "\n",
            "This is Ipopt version 3.13.2, running with linear solver mumps.\n",
            "NOTE: Other linear solvers might be more efficient (see Ipopt documentation).\n",
            "\n",
            "Number of nonzeros in equality constraint Jacobian...:        0\n",
            "Number of nonzeros in inequality constraint Jacobian.:        0\n",
            "Number of nonzeros in Lagrangian Hessian.............:      230\n",
            "\n",
            "Total number of variables............................:       30\n",
            "                     variables with only lower bounds:       30\n",
            "                variables with lower and upper bounds:        0\n",
            "                     variables with only upper bounds:        0\n",
            "Total number of equality constraints.................:        0\n",
            "Total number of inequality constraints...............:        0\n",
            "        inequality constraints with only lower bounds:        0\n",
            "   inequality constraints with lower and upper bounds:        0\n",
            "        inequality constraints with only upper bounds:        0\n",
            "\n",
            "iter    objective    inf_pr   inf_du lg(mu)  ||d||  lg(rg) alpha_du alpha_pr  ls\n",
            "   0  1.7201186e+00 0.00e+00 1.00e+00  -1.0 0.00e+00    -  0.00e+00 0.00e+00   0\n",
            "   1  1.7260509e+00 0.00e+00 1.01e-02  -1.0 3.61e-01    -  9.90e-01 1.00e+00f  1\n",
            "   2  1.7538885e+00 0.00e+00 1.00e-06  -1.0 5.55e+00    -  1.00e+00 1.00e+00f  1\n",
            "   3  1.7211737e+00 0.00e+00 1.55e-02  -2.5 4.25e+00    -  9.50e-01 1.00e+00f  1\n",
            "   4  1.7201208e+00 0.00e+00 1.50e-09  -3.8 1.59e+00    -  1.00e+00 1.00e+00f  1\n",
            "   5  1.7201186e+00 0.00e+00 2.22e-11  -5.7 7.22e-02    -  1.00e+00 1.00e+00f  1\n",
            "   6  1.7201186e+00 0.00e+00 3.08e-12  -8.6 3.43e-04    -  1.00e+00 1.00e+00f  1\n",
            "\n",
            "Number of Iterations....: 6\n",
            "\n",
            "                                   (scaled)                 (unscaled)\n",
            "Objective...............:   1.7201185696472858e+00    1.7201185696472858e+00\n",
            "Dual infeasibility......:   3.0848629611540733e-12    3.0848629611540733e-12\n",
            "Constraint violation....:   0.0000000000000000e+00    0.0000000000000000e+00\n",
            "Complementarity.........:   2.5414705854774420e-09    2.5414705854774420e-09\n",
            "Overall NLP error.......:   2.5414705854774420e-09    2.5414705854774420e-09\n",
            "\n",
            "\n",
            "Number of objective function evaluations             = 7\n",
            "Number of objective gradient evaluations             = 7\n",
            "Number of equality constraint evaluations            = 0\n",
            "Number of inequality constraint evaluations          = 0\n",
            "Number of equality constraint Jacobian evaluations   = 0\n",
            "Number of inequality constraint Jacobian evaluations = 0\n",
            "Number of Lagrangian Hessian evaluations             = 6\n",
            "Total CPU secs in IPOPT (w/o function evaluations)   =      0.003\n",
            "Total CPU secs in NLP function evaluations           =      0.000\n",
            "\n",
            "EXIT: Optimal Solution Found.\n",
            " \n",
            "Ipopt 3.13.2: Optimal Solution Found\n"
          ]
        }
      ],
      "source": [
        "!./ipopt test.nl"
      ]
    },
    {
      "cell_type": "code",
      "execution_count": 21,
      "metadata": {
        "id": "BXFo-QBXXd9L"
      },
      "outputs": [],
      "source": [
        "!pip install -q pyomo "
      ]
    },
    {
      "cell_type": "code",
      "execution_count": 22,
      "metadata": {
        "id": "QR-xPzmJpMdf"
      },
      "outputs": [],
      "source": [
        "from pyomo.environ import *"
      ]
    },
    {
      "cell_type": "code",
      "execution_count": 23,
      "metadata": {
        "id": "fWGZOHGNpQK9"
      },
      "outputs": [],
      "source": [
        "import numpy as np"
      ]
    },
    {
      "cell_type": "code",
      "execution_count": 24,
      "metadata": {
        "id": "oRhWH0SJpS-0"
      },
      "outputs": [],
      "source": [
        "import pandas as pd"
      ]
    },
    {
      "cell_type": "code",
      "execution_count": 25,
      "metadata": {
        "id": "qnoMCNazpZDn"
      },
      "outputs": [],
      "source": [
        "data_csvfile = pd.read_csv('file41.csv')"
      ]
    },
    {
      "cell_type": "code",
      "execution_count": 26,
      "metadata": {
        "id": "uFCyzWBVpyl6"
      },
      "outputs": [],
      "source": [
        "model = ConcreteModel()"
      ]
    },
    {
      "cell_type": "code",
      "execution_count": 27,
      "metadata": {
        "id": "0i6DequIqBtC"
      },
      "outputs": [],
      "source": [
        "N = len(data_csvfile.index)\n",
        "n = 3 \n",
        "M = 2 \n",
        "col_indices = np.arange(N)\n",
        "b_indices = np.arange(n)\n",
        "row_indices = np.arange(M)"
      ]
    },
    {
      "cell_type": "code",
      "execution_count": 28,
      "metadata": {
        "id": "eAQ5PDsFqLbV"
      },
      "outputs": [],
      "source": [
        "model.b = Var(b_indices)\n",
        "expres=0\n",
        "for i in col_indices: \n",
        "  expres=expres+(model.b[0]+model.b[1]*data_csvfile['lot size'][i]+model.b[2]*data_csvfile['elevation'][i] - data_csvfile['seling price'][i])**2"
      ]
    },
    {
      "cell_type": "code",
      "execution_count": 29,
      "metadata": {
        "id": "N4N6JVwht3Cb"
      },
      "outputs": [],
      "source": [
        "model.objective = Objective(expr=expres,sense=minimize)"
      ]
    },
    {
      "cell_type": "code",
      "execution_count": 30,
      "metadata": {
        "id": "pDwzVZxZqXtA"
      },
      "outputs": [],
      "source": [
        "model.constraints = ConstraintList()"
      ]
    },
    {
      "cell_type": "code",
      "execution_count": 31,
      "metadata": {
        "id": "hZ9dQtH9yMCQ"
      },
      "outputs": [],
      "source": [
        "model.b[0].setlb(0)"
      ]
    },
    {
      "cell_type": "code",
      "execution_count": 32,
      "metadata": {
        "colab": {
          "base_uri": "https://localhost:8080/"
        },
        "id": "p3Jh0h7Sy1R_",
        "outputId": "19725a07-6187-43c4-e732-7f6ce1826296"
      },
      "outputs": [
        {
          "name": "stdout",
          "output_type": "stream",
          "text": [
            "2 Set Declarations\n",
            "    b_index : Size=1, Index=None, Ordered=False\n",
            "        Key  : Dimen : Domain : Size : Members\n",
            "        None :     1 :    Any :    3 : {0, 1, 2}\n",
            "    constraints_index : Size=1, Index=None, Ordered=Insertion\n",
            "        Key  : Dimen : Domain : Size : Members\n",
            "        None :     1 :    Any :    0 :      {}\n",
            "\n",
            "1 Var Declarations\n",
            "    b : Size=3, Index=b_index\n",
            "        Key : Lower : Value : Upper : Fixed : Stale : Domain\n",
            "          0 :     0 :  None :  None : False :  True :  Reals\n",
            "          1 :  None :  None :  None : False :  True :  Reals\n",
            "          2 :  None :  None :  None : False :  True :  Reals\n",
            "\n",
            "1 Objective Declarations\n",
            "    objective : Size=1, Index=None, Active=True\n",
            "        Key  : Active : Sense    : Expression\n",
            "        None :   True : minimize : (b[0] + 1800*b[1] + 250*b[2] - 175000)**2 + (b[0] + 2800*b[1] + 400*b[2] - 150000)**2 + (b[0] + 3500*b[1] + 450*b[2] - 125000)**2 + (b[0] + 800*b[1] + 100*b[2] - 90000)**2 + (b[0] + 700*b[1] + 200*b[2] - 80000)**2 + (b[0] + 500*b[1] + 50*b[2] - 120000)**2\n",
            "\n",
            "1 Constraint Declarations\n",
            "    constraints : Size=0, Index=constraints_index, Active=True\n",
            "        Key : Lower : Body : Upper : Active\n",
            "\n",
            "5 Declarations: b_index b objective constraints_index constraints\n"
          ]
        }
      ],
      "source": [
        "model.pprint()"
      ]
    },
    {
      "cell_type": "code",
      "execution_count": 33,
      "metadata": {
        "colab": {
          "base_uri": "https://localhost:8080/"
        },
        "id": "0693-30bz70J",
        "outputId": "5cd60f50-2d65-46bb-d2d8-6f0cd544ece2"
      },
      "outputs": [
        {
          "name": "stdout",
          "output_type": "stream",
          "text": [
            "\n",
            "Problem: \n",
            "- Lower bound: -inf\n",
            "  Upper bound: inf\n",
            "  Number of objectives: 1\n",
            "  Number of constraints: 0\n",
            "  Number of variables: 3\n",
            "  Sense: unknown\n",
            "Solver: \n",
            "- Status: ok\n",
            "  Message: Ipopt 3.13.2\\x3a Optimal Solution Found\n",
            "  Termination condition: optimal\n",
            "  Id: 0\n",
            "  Error rc: 0\n",
            "  Time: 0.022820711135864258\n",
            "Solution: \n",
            "- number of solutions: 0\n",
            "  number of solutions displayed: 0\n",
            "\n"
          ]
        }
      ],
      "source": [
        "opt_ipopt = SolverFactory('ipopt')\n",
        "result = opt_ipopt.solve(model)\n",
        "print(result)"
      ]
    },
    {
      "cell_type": "markdown",
      "metadata": {
        "id": "M3TQnLGSmyaV"
      },
      "source": [
        "#Q-2"
      ]
    },
    {
      "cell_type": "markdown",
      "metadata": {
        "id": "BSXbpYvEEH3y"
      },
      "source": [
        "$Reporting \\;optimal\\; solution\\; values \\;for\\;the\\; original\\; and \\;new\\; decision \\;variables,\\;and \\;the\\; optimal\\; sum \\;of\\; residuals$"
      ]
    },
    {
      "cell_type": "code",
      "execution_count": 34,
      "metadata": {
        "colab": {
          "base_uri": "https://localhost:8080/"
        },
        "id": "-_teuiRuSVPF",
        "outputId": "88a789ab-7537-4ac3-b9ec-4b6b72f11fc1"
      },
      "outputs": [
        {
          "name": "stdout",
          "output_type": "stream",
          "text": [
            "Solver status: ok\n",
            "Solver termination condition: optimal\n",
            "\n",
            "Objective =  4291134028.8074555\n"
          ]
        }
      ],
      "source": [
        "print('Solver status:', result.solver.status)\n",
        "print('Solver termination condition:',result.solver.termination_condition)\n",
        "print('\\nObjective = ', model.objective())"
      ]
    },
    {
      "cell_type": "code",
      "execution_count": 35,
      "metadata": {
        "colab": {
          "base_uri": "https://localhost:8080/"
        },
        "id": "UIeuXhFK0AN_",
        "outputId": "51946992-6af1-4a29-c29e-aa06c0b98f78"
      },
      "outputs": [
        {
          "name": "stdout",
          "output_type": "stream",
          "text": [
            "\n",
            "Optimal sum of residuals =  4291134028.8074555\n",
            "\n",
            "Original Decision Variables:\n",
            "b[ 0 ]= 104904.4164371955\n",
            "b[ 1 ]= 38.702075831391646\n",
            "b[ 2 ]= -193.3223893242956\n"
          ]
        }
      ],
      "source": [
        "print('\\nOptimal sum of residuals = ', model.objective())\n",
        "\n",
        "print('\\nOriginal Decision Variables:')\n",
        "for i in b_indices:\n",
        "  print('b[',i,']=', model.b[i].value)"
      ]
    },
    {
      "cell_type": "code",
      "execution_count": 36,
      "metadata": {
        "colab": {
          "base_uri": "https://localhost:8080/"
        },
        "id": "qch7u5qwno8K",
        "outputId": "21e126a3-53fc-445a-cace-5e278f605258"
      },
      "outputs": [
        {
          "name": "stdout",
          "output_type": "stream",
          "text": [
            "Deviation[ 0 ]= 48762.444397373445\n",
            "Deviation[ 1 ]= 14058.726964626141\n",
            "Deviation[ 2 ]= 28366.606651133246\n",
            "Deviation[ 3 ]= 26533.838169879255\n",
            "Deviation[ 4 ]= 13331.391654310522\n",
            "Deviation[ 5 ]= 5410.665113323461\n"
          ]
        }
      ],
      "source": [
        "for i in col_indices:\n",
        "  print('Deviation[',i,']=',abs(data_csvfile['seling price'][i]- model.b[0].value-model.b[1].value*data_csvfile['lot size'][i] -model.b[2].value*data_csvfile['elevation'][i] ))"
      ]
    },
    {
      "cell_type": "markdown",
      "metadata": {
        "id": "AI2qfgt9liGp"
      },
      "source": [
        "Here, the maximum deviation is: 48762.444397373445\n",
        "And in the previous model(Lab06), the maximum deviation is: 54272.727\n",
        "\n",
        "Standard Deviation gives more weightage to the extreme value and hence is considered a better estimation than Mean Absolute Deviation. This is the reason why this model have a lower maximum value as compared to the other(Lab06)."
      ]
    }
  ],
  "metadata": {
    "colab": {
      "collapsed_sections": [],
      "name": "21i190007_IE507_Lab09_Ex3.ipynb",
      "provenance": []
    },
    "kernelspec": {
      "display_name": "Python 3",
      "name": "python3"
    },
    "language_info": {
      "name": "python"
    }
  },
  "nbformat": 4,
  "nbformat_minor": 0
}
