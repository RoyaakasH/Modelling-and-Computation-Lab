{
  "nbformat": 4,
  "nbformat_minor": 0,
  "metadata": {
    "colab": {
      "name": "21i190007_IE507_Lab2_Ex1.ipynb",
      "provenance": [],
      "collapsed_sections": []
    },
    "kernelspec": {
      "name": "python3",
      "display_name": "Python 3"
    }
  },
  "cells": [
    {
      "cell_type": "code",
      "metadata": {
        "id": "1r_yYUofSTFB",
        "colab": {
          "base_uri": "https://localhost:8080/"
        },
        "outputId": "8b179ba9-c75a-481b-fef9-61ed32230cd1"
      },
      "source": [
        "!pip install -q pyomo"
      ],
      "execution_count": null,
      "outputs": [
        {
          "output_type": "stream",
          "text": [
            "\u001b[K     |████████████████████████████████| 8.9 MB 3.8 MB/s \n",
            "\u001b[K     |████████████████████████████████| 49 kB 5.1 MB/s \n",
            "\u001b[?25h"
          ],
          "name": "stdout"
        }
      ]
    },
    {
      "cell_type": "markdown",
      "metadata": {
        "id": "Qh8fhB0oUPWA"
      },
      "source": [
        "$Exercise\\;1$ \n",
        "\\begin{align}\n",
        "\\min \\ c_1 x_1 + c_2 x_2 + \\ldots + c_N x_N, \\\\\n",
        "{\\rm{s.t.}} \\; x_1 + x_2 + \\ldots + x_N & \\leq b_1, \\\\\n",
        "w_1 x_1 + w_2 x_2 + \\ldots + w_N x_N  & = b_2, \\\\\n",
        "x_i & \\leq u_i, \\quad i=1,\\ldots,N, \\\\\n",
        "x_i & \\geq l_i, \\quad i=1,\\ldots,N. \\\\\n",
        "\\end{align}\n",
        "---\n",
        "\n"
      ]
    },
    {
      "cell_type": "markdown",
      "metadata": {
        "id": "IGThhuxGeNz-"
      },
      "source": [
        "$b_1 = 161.2,$ \\\\\n",
        "$b_2 = 54.6,$ \\\\\n",
        "$c = [−8.1, 10.15, 30.5, 50.05, 0.05, 80.5, −0.25, −31.02, 50.65, 0.725, −0.8, 100.6];$ \\\\\n",
        "$w = [0, 1.6, −2.02, 0, 1.01, −2.005, 0, 1.39, 1, −1.214, 0, −5.32];$ \\\\\n",
        "$l = [−∞, 1, 0, 0, 7, 0, −∞, −∞, 1, 1, −5, 2],$ \\\\\n",
        "$u = [4, 3, +∞, 2, 10, +∞, 13, 20, +∞, 21, 5, 60]$"
      ]
    },
    {
      "cell_type": "markdown",
      "metadata": {
        "id": "sqbF4XauzkaL"
      },
      "source": [
        "$1.\\;Solving\\;the\\;given\\;problem:$"
      ]
    },
    {
      "cell_type": "code",
      "metadata": {
        "id": "j4opCPZrSak0"
      },
      "source": [
        "from pyomo.environ import *"
      ],
      "execution_count": null,
      "outputs": []
    },
    {
      "cell_type": "code",
      "metadata": {
        "id": "E_HKtzFsh_mh"
      },
      "source": [
        "import numpy as np"
      ],
      "execution_count": null,
      "outputs": []
    },
    {
      "cell_type": "code",
      "metadata": {
        "id": "HYj3zpsvSih4"
      },
      "source": [
        "model = ConcreteModel()"
      ],
      "execution_count": null,
      "outputs": []
    },
    {
      "cell_type": "code",
      "metadata": {
        "id": "XvRZqCV8d_-e"
      },
      "source": [
        "N = 12  "
      ],
      "execution_count": null,
      "outputs": []
    },
    {
      "cell_type": "code",
      "metadata": {
        "id": "sN7eq44-eCfY"
      },
      "source": [
        "obj_coef_c = np.array([-8.1, 10.15, 30.5, 50.05, 0.05, 80.5, -0.25, -31.02, 50.65, 0.725, -0.8, 100.6])"
      ],
      "execution_count": null,
      "outputs": []
    },
    {
      "cell_type": "code",
      "metadata": {
        "id": "T1CaFM_DeFly"
      },
      "source": [
        "constr1_coef_p = np.array([1, 1, 1, 1, 1, 1, 1, 1, 1, 1, 1, 1])\n",
        "constr2_coef_w = np.array([0, 1.6, -2.02, 0, 1.01, -2.005, 0, 1.39, 1, -1.214, 0, -5.32])\n",
        "\n",
        "constr1_rhs_b1 = 161.2\n",
        "constr2_rhs_b2 = 54.6"
      ],
      "execution_count": null,
      "outputs": []
    },
    {
      "cell_type": "code",
      "metadata": {
        "id": "lzB0FJaNgYgI"
      },
      "source": [
        "lower_bound = np.array([-np.inf, 1, 0, 0, 7, 0, -np.inf, -np.inf, 1, 1, -5, 2])\n",
        "upper_bound = np.array([4, 3, np.inf, 2, 10, np.inf, 13, 20, np.inf, 21, 5, 60])"
      ],
      "execution_count": null,
      "outputs": []
    },
    {
      "cell_type": "code",
      "metadata": {
        "id": "JwOmb5XcgqRt",
        "colab": {
          "base_uri": "https://localhost:8080/"
        },
        "outputId": "65a8ff5f-5fb6-4039-8083-6db6a9939922"
      },
      "source": [
        "col_indices = np.arange(N)\n",
        "print(col_indices)"
      ],
      "execution_count": null,
      "outputs": [
        {
          "output_type": "stream",
          "text": [
            "[ 0  1  2  3  4  5  6  7  8  9 10 11]\n"
          ],
          "name": "stdout"
        }
      ]
    },
    {
      "cell_type": "code",
      "metadata": {
        "id": "K8quMKE1g6YQ"
      },
      "source": [
        "model.x = Var(col_indices)"
      ],
      "execution_count": null,
      "outputs": []
    },
    {
      "cell_type": "code",
      "metadata": {
        "id": "ClcpSmWbgwlr"
      },
      "source": [
        "model.constraints = ConstraintList()"
      ],
      "execution_count": null,
      "outputs": []
    },
    {
      "cell_type": "code",
      "metadata": {
        "id": "-60j94F_gxNT",
        "colab": {
          "base_uri": "https://localhost:8080/"
        },
        "outputId": "4eb2678f-7b57-4de0-d7eb-8cff5b76c48d"
      },
      "source": [
        "model.constraints.add(sum(constr1_coef_p[j]*model.x[j] for j in col_indices) <= constr1_rhs_b1)"
      ],
      "execution_count": null,
      "outputs": [
        {
          "output_type": "execute_result",
          "data": {
            "text/plain": [
              "<pyomo.core.base.constraint._GeneralConstraintData at 0x7fb406844d00>"
            ]
          },
          "metadata": {
            "tags": []
          },
          "execution_count": 12
        }
      ]
    },
    {
      "cell_type": "code",
      "metadata": {
        "id": "UqUWp-bZgzz0",
        "colab": {
          "base_uri": "https://localhost:8080/"
        },
        "outputId": "b711abd2-4544-45f3-e59f-0583a2c1e4d0"
      },
      "source": [
        "#next add the constraint w1 x1 + w2 x2 + ...+ wN xN >= b2 \n",
        "model.constraints.add(sum(constr2_coef_w[j]*model.x[j] for j in col_indices) == constr2_rhs_b2)"
      ],
      "execution_count": null,
      "outputs": [
        {
          "output_type": "execute_result",
          "data": {
            "text/plain": [
              "<pyomo.core.base.constraint._GeneralConstraintData at 0x7fb406844d70>"
            ]
          },
          "metadata": {
            "tags": []
          },
          "execution_count": 13
        }
      ]
    },
    {
      "cell_type": "code",
      "metadata": {
        "id": "V5KOBn_sgrT1"
      },
      "source": [
        "for j in col_indices:\n",
        "  model.x[j].setlb(lower_bound[j])\n",
        "  model.x[j].setub(upper_bound[j])"
      ],
      "execution_count": null,
      "outputs": []
    },
    {
      "cell_type": "code",
      "metadata": {
        "id": "4fOm2vhJhStT"
      },
      "source": [
        "model.objective = Objective(expr = sum(obj_coef_c[j]*model.x[j] for j in col_indices), sense=minimize)"
      ],
      "execution_count": null,
      "outputs": []
    },
    {
      "cell_type": "code",
      "metadata": {
        "id": "hLjlmRD8eG_X",
        "colab": {
          "base_uri": "https://localhost:8080/"
        },
        "outputId": "df788659-2299-48fd-bb81-4018f445f80a"
      },
      "source": [
        "model.pprint()"
      ],
      "execution_count": null,
      "outputs": [
        {
          "output_type": "stream",
          "text": [
            "2 Set Declarations\n",
            "    constraints_index : Size=1, Index=None, Ordered=Insertion\n",
            "        Key  : Dimen : Domain : Size : Members\n",
            "        None :     1 :    Any :    2 : {1, 2}\n",
            "    x_index : Size=1, Index=None, Ordered=False\n",
            "        Key  : Dimen : Domain : Size : Members\n",
            "        None :     1 :    Any :   12 : {0, 1, 2, 3, 4, 5, 6, 7, 8, 9, 10, 11}\n",
            "\n",
            "1 Var Declarations\n",
            "    x : Size=12, Index=x_index\n",
            "        Key : Lower : Value : Upper : Fixed : Stale : Domain\n",
            "          0 :  -inf :  None :   4.0 : False :  True :  Reals\n",
            "          1 :   1.0 :  None :   3.0 : False :  True :  Reals\n",
            "          2 :   0.0 :  None :   inf : False :  True :  Reals\n",
            "          3 :   0.0 :  None :   2.0 : False :  True :  Reals\n",
            "          4 :   7.0 :  None :  10.0 : False :  True :  Reals\n",
            "          5 :   0.0 :  None :   inf : False :  True :  Reals\n",
            "          6 :  -inf :  None :  13.0 : False :  True :  Reals\n",
            "          7 :  -inf :  None :  20.0 : False :  True :  Reals\n",
            "          8 :   1.0 :  None :   inf : False :  True :  Reals\n",
            "          9 :   1.0 :  None :  21.0 : False :  True :  Reals\n",
            "         10 :  -5.0 :  None :   5.0 : False :  True :  Reals\n",
            "         11 :   2.0 :  None :  60.0 : False :  True :  Reals\n",
            "\n",
            "1 Objective Declarations\n",
            "    objective : Size=1, Index=None, Active=True\n",
            "        Key  : Active : Sense    : Expression\n",
            "        None :   True : minimize : -8.1*x[0] + 10.15*x[1] + 30.5*x[2] + 50.05*x[3] + 0.05*x[4] + 80.5*x[5] - 0.25*x[6] - 31.02*x[7] + 50.65*x[8] + 0.725*x[9] - 0.8*x[10] + 100.6*x[11]\n",
            "\n",
            "1 Constraint Declarations\n",
            "    constraints : Size=2, Index=constraints_index, Active=True\n",
            "        Key : Lower : Body                                                                                       : Upper : Active\n",
            "          1 :  -Inf :        x[0] + x[1] + x[2] + x[3] + x[4] + x[5] + x[6] + x[7] + x[8] + x[9] + x[10] + x[11] : 161.2 :   True\n",
            "          2 :  54.6 : 1.6*x[1] - 2.02*x[2] + 1.01*x[4] - 2.005*x[5] + 1.39*x[7] + x[8] - 1.214*x[9] - 5.32*x[11] :  54.6 :   True\n",
            "\n",
            "5 Declarations: x_index x constraints_index constraints objective\n"
          ],
          "name": "stdout"
        }
      ]
    },
    {
      "cell_type": "code",
      "metadata": {
        "id": "rhSG6IRMfclR",
        "colab": {
          "base_uri": "https://localhost:8080/"
        },
        "outputId": "e5848039-17c2-4b9c-bb45-a719352c56fa"
      },
      "source": [
        "!apt-get install -y -qq glpk-utils"
      ],
      "execution_count": null,
      "outputs": [
        {
          "output_type": "stream",
          "text": [
            "Selecting previously unselected package libsuitesparseconfig5:amd64.\n",
            "(Reading database ... 160837 files and directories currently installed.)\n",
            "Preparing to unpack .../libsuitesparseconfig5_1%3a5.1.2-2_amd64.deb ...\n",
            "Unpacking libsuitesparseconfig5:amd64 (1:5.1.2-2) ...\n",
            "Selecting previously unselected package libamd2:amd64.\n",
            "Preparing to unpack .../libamd2_1%3a5.1.2-2_amd64.deb ...\n",
            "Unpacking libamd2:amd64 (1:5.1.2-2) ...\n",
            "Selecting previously unselected package libcolamd2:amd64.\n",
            "Preparing to unpack .../libcolamd2_1%3a5.1.2-2_amd64.deb ...\n",
            "Unpacking libcolamd2:amd64 (1:5.1.2-2) ...\n",
            "Selecting previously unselected package libglpk40:amd64.\n",
            "Preparing to unpack .../libglpk40_4.65-1_amd64.deb ...\n",
            "Unpacking libglpk40:amd64 (4.65-1) ...\n",
            "Selecting previously unselected package glpk-utils.\n",
            "Preparing to unpack .../glpk-utils_4.65-1_amd64.deb ...\n",
            "Unpacking glpk-utils (4.65-1) ...\n",
            "Setting up libsuitesparseconfig5:amd64 (1:5.1.2-2) ...\n",
            "Setting up libcolamd2:amd64 (1:5.1.2-2) ...\n",
            "Setting up libamd2:amd64 (1:5.1.2-2) ...\n",
            "Setting up libglpk40:amd64 (4.65-1) ...\n",
            "Setting up glpk-utils (4.65-1) ...\n",
            "Processing triggers for libc-bin (2.27-3ubuntu1.2) ...\n",
            "/sbin/ldconfig.real: /usr/local/lib/python3.7/dist-packages/ideep4py/lib/libmkldnn.so.0 is not a symbolic link\n",
            "\n",
            "Processing triggers for man-db (2.8.3-2ubuntu0.1) ...\n"
          ],
          "name": "stdout"
        }
      ]
    },
    {
      "cell_type": "code",
      "metadata": {
        "id": "Sq3CpPcCeIBC",
        "colab": {
          "base_uri": "https://localhost:8080/"
        },
        "outputId": "df9f4f5e-55dd-43a2-b0af-19c856013fbd"
      },
      "source": [
        "SolverFactory('glpk', executable='/usr/bin/glpsol').solve(model).write()"
      ],
      "execution_count": null,
      "outputs": [
        {
          "output_type": "stream",
          "text": [
            "# ==========================================================\n",
            "# = Solver Results                                         =\n",
            "# ==========================================================\n",
            "# ----------------------------------------------------------\n",
            "#   Problem Information\n",
            "# ----------------------------------------------------------\n",
            "Problem: \n",
            "- Name: unknown\n",
            "  Lower bound: 775.965100000001\n",
            "  Upper bound: 775.965100000001\n",
            "  Number of objectives: 1\n",
            "  Number of constraints: 3\n",
            "  Number of variables: 13\n",
            "  Number of nonzeros: 21\n",
            "  Sense: minimize\n",
            "# ----------------------------------------------------------\n",
            "#   Solver Information\n",
            "# ----------------------------------------------------------\n",
            "Solver: \n",
            "- Status: ok\n",
            "  Termination condition: optimal\n",
            "  Statistics: \n",
            "    Branch and bound: \n",
            "      Number of bounded subproblems: 0\n",
            "      Number of created subproblems: 0\n",
            "  Error rc: 0\n",
            "  Time: 0.011092901229858398\n",
            "# ----------------------------------------------------------\n",
            "#   Solution Information\n",
            "# ----------------------------------------------------------\n",
            "Solution: \n",
            "- number of solutions: 0\n",
            "  number of solutions displayed: 0\n"
          ],
          "name": "stdout"
        }
      ]
    },
    {
      "cell_type": "code",
      "metadata": {
        "id": "WQZHDR3afKj5",
        "colab": {
          "base_uri": "https://localhost:8080/"
        },
        "outputId": "7cc4aa64-4be6-40b5-e7e5-d24ee3b9a710"
      },
      "source": [
        "# display solution\n",
        "print('\\nObjective = ', model.objective())\n",
        "\n",
        "print('\\nDecision Variables')\n",
        "for i in col_indices:\n",
        "  print('x[',i,'] = ', model.x[i].value)\n",
        "\n",
        "print('\\nConstraints')\n",
        "model.constraints.display()"
      ],
      "execution_count": null,
      "outputs": [
        {
          "output_type": "stream",
          "text": [
            "\n",
            "Objective =  775.9651000000001\n",
            "\n",
            "Decision Variables\n",
            "x[ 0 ] =  4.0\n",
            "x[ 1 ] =  3.0\n",
            "x[ 2 ] =  0.0\n",
            "x[ 3 ] =  0.0\n",
            "x[ 4 ] =  10.0\n",
            "x[ 5 ] =  0.0\n",
            "x[ 6 ] =  13.0\n",
            "x[ 7 ] =  20.0\n",
            "x[ 8 ] =  23.754\n",
            "x[ 9 ] =  1.0\n",
            "x[ 10 ] =  5.0\n",
            "x[ 11 ] =  2.0\n",
            "\n",
            "Constraints\n",
            "constraints : Size=2\n",
            "    Key : Lower : Body               : Upper\n",
            "      1 :  None :             81.754 : 161.2\n",
            "      2 :  54.6 : 54.599999999999994 :  54.6\n"
          ],
          "name": "stdout"
        }
      ]
    },
    {
      "cell_type": "markdown",
      "metadata": {
        "id": "b3AjPWpQzhLe"
      },
      "source": [
        "$2.\\; The\\;optimal\\;solution\\;is: $ \\\\\n",
        "$$x_1 =  4.0,\\;x_2 =  3.0,\\;x_3 =  0.0,\\;x_4 =  0.0,\\;x_5 =  10.0,\\;x_6 =  0.0,\\;x_7 =  13.0,\\;x_8 =  20.0,\\;x_9 =  23.754,\\;x_10 =  1.0,\\;x_{11} =  5.0,\\; x_{12} =  2.0$$\n",
        "$The\\;value\\;of\\;the\\;objective\\;function\\;at\\;optimal\\;solution\\;is:\\;775.9651000000001$"
      ]
    }
  ]
}